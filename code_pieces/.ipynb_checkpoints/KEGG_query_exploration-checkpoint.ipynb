{
 "cells": [
  {
   "cell_type": "markdown",
   "metadata": {},
   "source": [
    "The purpose of this notebook is to build a query that pulls all promiscuous enzyme data from KEGG\n",
    "\n",
    "Resource:\n",
    "\n",
    "https://biopython.readthedocs.io/en/latest/Tutorial/chapter_kegg.html\n",
    "\n",
    "http://biopython.org/DIST/docs/api/Bio.KEGG.REST-module.html"
   ]
  },
  {
   "cell_type": "code",
   "execution_count": 16,
   "metadata": {},
   "outputs": [],
   "source": [
    "# imports\n",
    "\n",
    "from Bio.KEGG import REST\n",
    "from Bio.KEGG import Enzyme\n",
    "\n",
    "import pandas as pd"
   ]
  },
  {
   "cell_type": "code",
   "execution_count": 12,
   "metadata": {},
   "outputs": [],
   "source": [
    "# pull info on EC: 5.4.2.2\n",
    "\n",
    "request = REST.kegg_get(\"ec:5.4.2.2\")"
   ]
  },
  {
   "cell_type": "code",
   "execution_count": 13,
   "metadata": {},
   "outputs": [
    {
     "data": {
      "text/plain": [
       "'ENTRY       EC 5.4.2.2                  Enzyme\\nNAME        phosphoglucomutase (alpha-D-glucose-1,6-bisphosphate-dependent);\\n            glucose phosphomutase;\\n            phosphoglucose mutase\\nCLASS       Isomerases;\\n            Intramolecular transferases;\\n            Phosphotransferases (phosphomutases)\\nSYSNAME     alpha-D-glucose 1,6-phosphomutase\\nREACTION    alpha-D-glucose 1-phosphate = D-glucose 6-phosphate [RN:R08639]\\nALL_REAC    R08639 > R00959;\\n            (other) R01057 R03319\\nSUBSTRATE   alpha-D-glucose 1-phosphate [CPD:C00103]\\nPRODUCT     D-glucose 6-phosphate [CPD:C00092]\\nCOMMENT     Maximum activity is only obtained in the presence of alpha-D-glucose 1,6-bisphosphate. This bisphosphate is an intermediate in the reaction, being formed by transfer of a phosphate residue from the enzyme to the substrate, but the dissociation of bisphosphate from the enzyme complex is much slower than the overall isomerization. The enzyme also catalyses (more slowly) the interconversion of 1-phosphate and 6-phosphate isomers of many other alpha-D-hexoses, and the interconversion of alpha-D-ribose 1-phosphate and 5-phosphate. cf. EC 5.4.2.5, phosphoglucomutase (glucose-cofactor).\\nHISTORY     EC 5.4.2.2 created 1961 as EC 2.7.5.1, transferred 1984 to EC 5.4.2.2\\nREFERENCE   1  [PMID:14216423]\\n  AUTHORS   JOSHI JG, HANDLER P.\\n  TITLE     PHOSPHOGLUCOMUTASE. I. PURIFICATION AND PROPERTIES OF PHOSPHOGLUCOMUTASE FROM ESCHERICHIA COLI.\\n  JOURNAL   J Biol Chem 239:2741-51 (1964)\\n  SEQUENCE  [eco:b0688]\\nREFERENCE   2\\n  AUTHORS   Najjar, V.A.\\n  TITLE     Phosphoglucomutase.\\n  JOURNAL   In: Boyer, P.D., Lardy, H. and Myrback, K. (Eds.), The Enzymes, 2nd ed., vol. 6, Academic Press, New York, 1962, p. 161-178.\\nREFERENCE   3  [PMID:14165931]\\n  AUTHORS   RAY WJ Jr, ROSCELLI GA.\\n  TITLE     A KINETIC STUDY OF THE PHOSPHOGLUCOMUTASE PATHWAY.\\n  JOURNAL   J Biol Chem 239:1228-36 (1964)\\nREFERENCE   4\\n  AUTHORS   Ray, W.J., Jr. and Peck, E.J., Jr.\\n  TITLE     Phosphomutases.\\n  JOURNAL   In: Boyer, P.D. (Ed.), The Enzymes, 3rd ed., vol. 6, 1972, p. 407-477.\\nREFERENCE   5  [PMID:18148026]\\n  AUTHORS   SUTHERLAND EW, COHN M, et al.\\n  TITLE     The mechanism of the phosphoglucomutase reaction.\\n  JOURNAL   J Biol Chem 180:1285-95 (1949)\\nPATHWAY     ec00010  Glycolysis / Gluconeogenesis\\n            ec00030  Pentose phosphate pathway\\n            ec00052  Galactose metabolism\\n            ec00230  Purine metabolism\\n            ec00500  Starch and sucrose metabolism\\n            ec00520  Amino sugar and nucleotide sugar metabolism\\n            ec00521  Streptomycin biosynthesis\\n            ec01100  Metabolic pathways\\n            ec01110  Biosynthesis of secondary metabolites\\n            ec01120  Microbial metabolism in diverse environments\\n            ec01130  Biosynthesis of antibiotics\\nORTHOLOGY   K01835  phosphoglucomutase\\n            K15778  phosphomannomutase / phosphoglucomutase\\n            K15779  phosphoglucomutase / phosphopentomutase\\nGENES       HSA: 5236(PGM1) 55276(PGM2)\\n            PTR: 456908(PGM1) 461162(PGM2)\\n            PPS: 100977295(PGM1) 100993927(PGM2)\\n            GGO: 101128874(PGM1) 101131551(PGM2)\\n            PON: 100190836(PGM2) 100438793(PGM1)\\n            NLE: 100596081(PGM1) 100600656(PGM2)\\n            MCC: 100424648(PGM2) 699401(PGM1)\\n            MCF: 101925921(PGM1) 102130622(PGM2)\\n            CSAB: 103224690(PGM1) 103246223(PGM2)\\n            RRO: 104664350(PGM2) 104668067(PGM1)\\n            RBB: 108532891(PGM1) 108536765(PGM2)\\n            CJC: 100394215(PGM2) 100414660(PGM1)\\n            SBQ: 101031051(PGM2) 101033945(PGM1)\\n            MMU: 66681(Pgm1) 72157(Pgm2)\\n            RNO: 24645(Pgm1)\\n            CGE: 100753184(Pgm1) 100761029(Pgm2)\\n            NGI: 103732479(Pgm1) 103734333(Pgm2)\\n            HGL: 101711743(Pgm1) 101712721(Pgm2)\\n            CCAN: 109685153(Pgm2) 109689986(Pgm1) 109689988\\n            OCU: 100009155(PGM1) 100351563(PGM2)\\n            TUP: 102467858(PGM1) 102497143(PGM2)\\n            CFA: 479116(PGM2) 479545(PGM1)\\n            AML: 100470032(PGM2) 100475139(PGM1)\\n            UMR: 103663061(PGM1) 103672656(PGM2)\\n            ORO: 101367815(PGM2) 101379971(PGM1)\\n            FCA: 101083353(PGM1) 101095577(PGM2)\\n            PTG: 102948905(PGM2) 102961330(PGM1)\\n            AJU: 106979168(PGM2) 106980788(PGM1)\\n            BTA: 506980(PGM2) 534402(PGM1)\\n            BOM: 102268049 102275907(PGM1) 102280136(PGM2)\\n            BIU: 109556207(PGM1) 109560393(PGM2)\\n            PHD: 102328094(PGM1) 102343220(PGM2)\\n            CHX: 102174732(PGM2) 102183563(PGM1)\\n            OAS: 101109225(PGM1) 101111285(PGM2)\\n            SSC: 100522261(PGM2) 397566(PGM1)\\n            CFR: 102517977(PGM2) 102520829(PGM1)\\n            CDK: 105106039(PGM2) 105107132(PGM1)\\n            BACU: 103004993(PGM1) 103005357(PGM2)\\n            LVE: 103074009(PGM2) 103089811(PGM1)\\n            OOR: 101273982(PGM1) 101279369(PGM2)\\n            ECB: 100064893(PGM2) 100069980(PGM1)\\n            EPZ: 103552801(PGM2) 103553699(PGM1)\\n            EAI: 106840151(PGM1) 106842676(PGM2)\\n            MYB: 102249673(PGM1) 102257982(PGM2)\\n            MYD: 102754573(PGM1) 102771622(PGM2)\\n            HAI: 109373933(PGM1) 109379447(PGM2)\\n            RSS: 109440437 109447305(PGM1) 109452772(PGM2)\\n            PALE: 102878841(PGM1) 102896212(PGM2)\\n            LAV: 100667216(PGM1) 100671091(PGM2)\\n            TMU: 101341263 101344997\\n            MDO: 100022672(PGM2) 100027227\\n            SHR: 100914385(PGM1) 100934907(PGM2)\\n            OAA: 100080151 100082463(PGM2) 103166740(PGM1)\\n            GGA: 424691(PGM1) 426435(PGM2)\\n            MGP: 100538783(PGM2) 100550963(PGM1)\\n            CJO: 107313826(PGM2) 107317740(PGM1)\\n            APLA: 101790428(PGM1) 101791560(PGM2)\\n            ACYG: 106032919(PGM1) 106039078(PGM2)\\n            TGU: 100221811(PGM2) 100222163(PGM1)\\n            SCAN: 103815068(PGM1) 103824722(PGM2)\\n            GFR: 102037639(PGM2) 102041112(PGM1)\\n            FAB: 101805676(PGM1) 101821251(PGM2)\\n            PHI: 102100121(PGM1) 102108856(PGM2)\\n            PMAJ: 107203016(PGM2) 107208365(PGM1)\\n            CCAE: 111928110(PGM2) 111932973(PGM1)\\n            CCW: 104690683(PGM2) 104695138(PGM1)\\n            FPG: 101915117(PGM2) 101921236(PGM1)\\n            FCH: 102048140(PGM1) 102055183(PGM2)\\n            CLV: 102098032(PGM1) 102098104(PGM2)\\n            EGZ: 104123932(PGM1) 104128482(PGM2)\\n            NNI: 104009250(PGM1) 104009814(PGM2)\\n            ACUN: 113479201(PGM2) 113482757(PGM1)\\n            AAM: 106487683(PGM1) 106490181(PGM2)\\n            ASN: 102369749(PGM2) 102370259(PGM1)\\n            AMJ: 102563207(PGM2) 102568676(PGM1)\\n            PSS: 102456218(PGM1) 102463751(PGM2)\\n            CMY: 102940381(PGM2) 102943564(PGM1)\\n            CPIC: 101935506(PGM2) 101947993(PGM1)\\n            ACS: 100556533(pgm2) 100562877(pgm1)\\n            PVT: 110075218(PGM2) 110086661(PGM1)\\n            PBI: 103051020(PGM2) 103051862(PGM1)\\n            PMUR: 107287077(PGM1) 107297471(PGM2) 107298383\\n            GJA: 107114628(PGM1) 107116364(PGM2)\\n            XLA: 379864(pgm1.L) 414455 446420(pgm2l1.L)\\n            XTR: 407960(pgm1) 549455(pgm2)\\n            NPR: 108784916(PGM1) 108795904(PGM2)\\n            DRE: 394000(pgm1) 405822(pgm2)\\n            SRX: 107719261 107731639 107735520 107739071 107746017 107754779\\n            SANH: 107656354(pgm2) 107671769 107681703 107682618 107692428 107702355 107704513\\n            SGH: 107551595 107556550 107559363 107591179 107591526 107593886\\n            CCAR: 109068672 109068674 109072446 109077313 109079955(pgm1) 109103573 109108379\\n            IPU: 108260708(pgm2) 108267486 108272142(pgm1)\\n            PHYP: 113535135(pgm1) 113539841 113547379(pgm2)\\n            AMEX: 103029350(pgm2) 103038467(pgm1) 103046368\\n            TRU: 101065243(pgm1) 101072662(pgm2) 101076683\\n            TNG: GSTEN00010303G001 GSTEN00015017G001 GSTEN00033591G001\\n            LCO: 104919023(pgm1) 104927428 104927674(pgm2)\\n            NCC: 104948953 104951398(pgm2) 104962117(pgm1)\\n            MZE: 101473461(pgm2) 101478589(pgm1) 101483254\\n            OLA: 101164775(pgm2) 101175508 101175638(pgm1)\\n            XMA: 102218458(pgm2) 102225281(pgm1) 102226091\\n            PRET: 103463049(pgm1) 103466707(pgm2) 103479017\\n            NFU: 107382157(pgm2) 107384395 107392919(pgm1)\\n            KMR: 108231806(pgm2) 108238311 108238451(pgm1)\\n            CSEM: 103383724(pgm2) 103395504(pgm1) 103398830 103399352 103399631\\n            LCF: 108883822 108896551(pgm2) 108897106(pgm1)\\n            SDU: 111217306(pgm1) 111229116 111231422(pgm2)\\n            HCQ: 109519109(pgm1) 109519855(pgm2) 109521153\\n            BPEC: 110160026(pgm1) 110165337(pgm2) 110173556\\n            MALB: 109954185 109954236 109954272 109954298 109954304 109954405 109961742(pgm1) 109970620 109974151(pgm2)\\n            SASA: 100194572(pgm1) 106560477 106568718 106594108 106594399 106595213(pgm2) 106598733 106599190\\n            OTW: 112242305 112251362 112260229\\n            SALP: 111957180 111971365 111975484\\n            ELS: 105011914(pgm1) 105020843(pgm2) 105024691\\n            SFM: 108925688(pgm2) 108934955 108935558(pgm1)\\n            LCM: 102358793(PGM1) 102366488(PGM2)\\n            CMK: 103175848(pgm2) 103188820(pgm1)\\n            BFO: BRAFLDRAFT_205366 BRAFLDRAFT_63910\\n            CIN: 100178660 100185650\\n            SPU: 575075(pgm1) 763027\\n            APLC: 110979809 110989373\\n            SKO: 100367722 100367965(PGM1)\\n            DME: Dmel_CG10202(CG10202) Dmel_CG5165(Pgm) Dmel_CG8073(Pmm45A)\\n            DPO: Dpse_GA18703 Dpse_GA20805\\n            DAN: Dana_GF10321 Dana_GF11777 Dana_GF12709\\n            DER: 6541051 6544893 6549059\\n            DPE: 6590752 6592845 6599805\\n            DSE: Dsec_GM20181 Dsec_GM20631 Dsec_GM24444\\n            DSI: Dsimw501_GD10104(Dsim_GD10104) Dsimw501_GD25655(Dsim_GD25655) Dsimw501_GD27676(Dsim_GD27676)\\n            DWI: 6639068 6652276 6652286\\n            DYA: Dyak_GE12285 Dyak_GE22565 Dyak_GE22586(Dyak_Pgm) Dyak_GE27981\\n            DGR: Dgri_GH15036 Dgri_GH19656 Dgri_GH20478 Dgri_GH21282 Dgri_GH22267 Dgri_GH23045 Dgri_GH23475\\n            DMO: Dmoj_GI16688 Dmoj_GI19724 Dmoj_GI21021 Dmoj_GI21114 Dmoj_GI21115\\n            DVI: Dvir_GJ12940 Dvir_GJ17598 Dvir_GJ20963 Dvir_GJ20964 Dvir_GJ21944\\n            MDE: 101887602 101898680\\n            AGA: AgaP_AGAP005860 AgaP_AGAP008305\\n            AAG: 5570907 5572750\\n            CQU: CpipJ_CPIJ005681 CpipJ_CPIJ017045\\n            AME: 411897 412362\\n            BIM: 100744829 100749656\\n            BTER: 100648849 100650132\\n            SOC: 105199081 105203048\\n            MPHA: 105833091 105836606\\n            AEC: 105146567 105152606\\n            ACEP: 105617232 105626242\\n            PBAR: 105430052 105433730\\n            HST: 105182219 105184006\\n            DQU: 106749435 106751912\\n            CFO: 105250371 105251430\\n            LHU: 105673351 105673545\\n            PGC: 109853199 109857654\\n            OBO: 105280408 105281053\\n            PCF: 106788970 106790198\\n            NVI: 100117450 100124235\\n            MDL: 103571805 103579869 106693408\\n            TCA: 654888 662835\\n            DPA: 109536999 109539625 109544368\\n            NVL: 108566414 108569356\\n            BMOR: 101743212 101747131\\n            DPL: KGM_202799 KGM_205386 KGM_209508\\n            PMAC: 106713149 106719540\\n            PRAP: 110996120 110999253\\n            HAW: 110379133 110381432\\n            TNL: 113497187 113503659\\n            PXY: 105381138 105390077 105395695 105397702\\n            API: 100160293 100163975\\n            DNX: 107161565 107172981\\n            CLEC: 106660918 106663835 106668032\\n            PHU: Phum_PHUM157010 Phum_PHUM401840\\n            ZNE: 110827754 110833434\\n            FCD: 110850634 110851699\\n            DPX: DAPPUDRAFT_302108 DAPPUDRAFT_314497 DAPPUDRAFT_48520\\n            ISC: IscW_ISCW012586 IscW_ISCW021522\\n            TUT: 107361267 107362800\\n            DPTE: 113796663 113797254 113799233\\n            CEL: CELE_R05F9.6(R05F9.6) CELE_Y43F4B.5(Y43F4B.5)\\n            CBR: CBG02267 CBG03574\\n            NAI: NECAME_08877 NECAME_15576\\n            BMY: Bm1_15740 Bm1_18455\\n            LOA: LOAG_02183 LOAG_03474\\n            TSP: Tsp_07190 Tsp_09490\\n            HRO: HELRODRAFT_104891 HELRODRAFT_186861\\n            LGI: LOTGIDRAFT_102562 LOTGIDRAFT_189430\\n            CRG: 105319260 105325277 105348082\\n            MYI: 110445181 110459225\\n            OBI: 106870409 106876411\\n            LAK: 106168905 106173349 106180121\\n            SMM: Smp_085150 Smp_180530.1\\n            SHX: MS3_06719 MS3_09994\\n            OVI: T265_00750 T265_09883\\n            EGL: EGR_06188 EGR_08839\\n            NVE: NEMVE_v1g163252 NEMVE_v1g235307\\n            EPA: 110237341 110243433\\n            ADF: 107344366 107347751\\n            PDAM: 113667853 113680399\\n            SPIS: 111326077 111334146\\n            HMG: 100199039 100209776(pgm2) 100214271\\n            TAD: TRIADDRAFT_26086 TRIADDRAFT_29275\\n            AQU: 100634538 100639257 109587211\\n            ATH: AT1G23190(PGM3) AT1G70730(PGM2) AT5G51820(PGM)\\n            ALY: ARALYDRAFT_472576 ARALYDRAFT_495247 ARALYDRAFT_894891\\n            CRB: 17875171 17895909 17900361\\n            CSAT: 104701718 104712628 104725688 104726709 104741036 104753757 104756684 104757763 104761184 104776445\\n            EUS: EUTSA_v10007178mg EUTSA_v10012968mg EUTSA_v10018328mg\\n            BRP: 103832797 103835677 103840790\\n            BNA: 106398336 106401373 106415353 106423685 106434227 106440984\\n            BOE: 106295842 106312732 106318940\\n            THJ: 104811497 104822168 104822997\\n            CPAP: 110822990 110823610\\n            CIT: 102609059 102609471 102623504\\n            CIC: CICLE_v10004539mg CICLE_v10014721mg\\n            TCC: 18605458 18609836\\n            GRA: 105765587 105780227 105785679\\n            GHI: 107911553 107922163 107922324 107944052 107947290\\n            GAB: 108467064 108479839 108483399\\n            DZI: 111282045 111289821 111310405 111318069\\n            EGR: 104424364 104433225 104453687\\n            GMX: 100778321 100780166 100801499 100802730 100802789 106798415\\n            PVU: PHAVU_002G318400g PHAVU_007G064900g\\n            VRA: 106766802 106770496 106771896\\n            VAR: 108323161 108325822\\n            CCAJ: 109803676 109814510\\n            MTR: MTR_1g102010 MTR_1g102035 MTR_8g104540\\n            CAM: 101490273 101501824\\n            LJA: Lj0g3v0187389.1(Lj0g3v0187389.1) Lj0g3v0192499.1(Lj0g3v0192499.1) Lj0g3v0298899.1(Lj0g3v0298899.1) Lj4g3v3099620.1(Lj4g3v3099620.1) Lj5g3v2029660.1(Lj5g3v2029660.1) Lj5g3v2029660.2(Lj5g3v2029660.2)\\n            ADU: 107466984 107491347\\n            AIP: 107617523 107618916 107643898\\n            LANG: 109331758 109335607 109349751\\n            FVE: 101302642 101306763\\n            PPER: 18784733 18788417\\n            PMUM: 103321420 103333427\\n            PAVI: 110762801 110767662\\n            MDM: 103430692 103439690 103439907 103452245\\n            PXB: 103943049 103960494\\n            ZJU: 107414395 107414419 107429289\\n            CSV: 101209451 101218883\\n            CMO: 103504550 103504651\\n            MCHA: 111015614 111024329\\n            CMAX: 111468945 111472098 111487591 111490889\\n            CMOS: 111435672 111445092 111459277 111463215\\n            CPEP: 111795557 111802614 111808311 111808702\\n            RCU: 8258327 8279627\\n            JCU: 105634093 105648538\\n            HBR: 110632981 110669754 110670127 110670188\\n            MESC: 110600404 110601577 110605118 110618188\\n            POP: 7475519 7476777 7482159 7482898\\n            JRE: 108995508 108998598 109003961 109014743\\n            VVI: 100247590 100266376\\n            SLY: 101267287 101267885\\n            SPEN: 107014518 107017833\\n            SOT: 102579912(PGM) 102583854 102585015(PGM) 102593173\\n            CANN: 107843130 107863363 107867403\\n            NTA: 107761864(NtPPGM) 107765291 107779939(NtCPGM) 107781369 107782098 107794375 107798006 107798722 107832007\\n            NSY: 104213006 104221526 104232136 104232687\\n            NTO: 104099592 104109955 104114540\\n            INI: 109151380 109156858\\n            SIND: 105156218 105179246\\n            OEU: 111374602 111403905\\n            HAN: 110908878 110915197 110926316\\n            LSV: 111890375 111901682\\n            CCAV: 112502059 112523619 112526007\\n            DCR: 108196206 108199291 108199928\\n            BVG: 104896820 104906396\\n            SOE: 110782438 110791728\\n            CQI: 110694404 110697142 110699943 110729741\\n            NNU: 104596231 104603722 104607342 104608353\\n            PSOM: 113275010 113275578 113282039 113304587 113349402\\n            OSA: 4333895 4348230\\n            DOSA: Os03t0712700-01(Os03g0712700) Os10t0189100-01(Os10g0189100)\\n            OBR: 102706040 102713531\\n            BDI: 100838190 100841901\\n            ATS: 109764333(LOC109764333)\\n            SBI: 8063383 8084835\\n            ZMA: 103631243 103631244 103651489 542358 542721\\n            SITA: 101755255 101777020\\n            PDA: 103695864 103701107 103702794\\n            EGU: 105041553 105042097 105048493 105054280\\n            MUS: 103976168 103994987 103995810\\n            DCT: 110097343 110110112 110115522\\n            PEQ: 110020394 110026286 110028533\\n            AOF: 109837757 109844363 109851440\\n            ATR: 18422474 18424241\\n            SMO: SELMODRAFT_269569 SELMODRAFT_270074 SELMODRAFT_81154 SELMODRAFT_86058\\n            PPP: 112277516 112286951 112292642 112293410\\n            CRE: CHLREDRAFT_146213(GPM2) CHLREDRAFT_81483(GPM1a)\\n            VCN: VOLCADRAFT_78928 VOLCADRAFT_92695\\n            MNG: MNEG_11472 MNEG_2258 MNEG_2259 MNEG_3276\\n            OLU: OSTLU_42958\\n            OTA: OT_ostta15g02520\\n            BPG: Bathy08g00430\\n            MIS: MICPUN_112722(PGM)\\n            MPP: MICPUCDRAFT_70805(PGM1)\\n            CSL: COCSUDRAFT_30193 COCSUDRAFT_34730\\n            CVR: CHLNCDRAFT_35765 CHLNCDRAFT_58243\\n            APRO: F751_4670\\n            CME: CYME_CMJ272C CYME_CMQ067C CYME_CMT285C\\n            GSL: Gasu_08170 Gasu_46280\\n            CCP: CHC_T00002564001 CHC_T00005896001 CHC_T00008779001\\n            SCE: YKL127W(PGM1) YMR105C(PGM2) YMR278W(PRM15)\\n            AGO: AGOS_ABL029W AGOS_ABL126W\\n            ERC: Ecym_2475 Ecym_4611\\n            KLA: KLLA0_B12694g KLLA0_D01573g\\n            KMX: KLMA_30099(PGM2) KLMA_80051(PGM3)\\n            LTH: KLTH0C03872g KLTH0D04796g\\n            VPO: Kpol_1018p161 Kpol_1033p54 Kpol_1068p8\\n            ZRO: ZYRO0G02508g ZYRO0G14190g\\n            CGR: CAGL0K03421g CAGL0K07480g CAGL0M02981g\\n            NCS: NCAS_0A04350(NCAS0A04350) NCAS_0C00410(NCAS0C00410) NCAS_0F01470(NCAS0F01470)\\n            NDI: NDAI_0C02220(NDAI0C02220) NDAI_0E02080(NDAI0E02080) NDAI_0H02350(NDAI0H02350) NDAI_0K00410(NDAI0K00410)\\n            TPF: TPHA_0G02470(TPHA0G02470) TPHA_0G02900(TPHA0G02900) TPHA_0I00250(TPHA0I00250)\\n            TBL: TBLA_0B03250(TBLA0B03250) TBLA_0B09010(TBLA0B09010) TBLA_0I01380(TBLA0I01380)\\n            TDL: TDEL_0A02210(TDEL0A02210) TDEL_0B00570(TDEL0B00570) TDEL_0E00210(TDEL0E00210)\\n            KAF: KAFR_0B03920(KAFR0B03920) KAFR_0D03010(KAFR0D03010)\\n            PPA: PAS_chr1-4_0264 PAS_chr2-1_0771\\n            DHA: DEHA2C05258g DEHA2F03036g\\n            PIC: PICST_77218(PGM2) PICST_91072(PGM3)\\n            PGU: PGUG_02229 PGUG_05295\\n            SPAA: SPAPADRAFT_59795(PGM2) SPAPADRAFT_62449\\n            LEL: LELG_00015 LELG_02945\\n            CAL: CAALFM_C307490WA(CaO19.6739) CAALFM_CR02820WA(PGM2)\\n            CTP: CTRG_00819 CTRG_05613\\n            COT: CORT_0A00340 CORT_0C01220\\n            CDU: CD36_27900 CD36_87400\\n            CTEN: CANTEDRAFT_116434 CANTEDRAFT_120860\\n            YLI: YALI0E02090g YALI0E02244g\\n            CLU: CLUG_00214 CLUG_00423\\n            CLUS: A9F13_08g00176 A9F13_08g02288\\n            CAUR: QG37_04731 QG37_06106\\n            SLB: AWJ20_2402(PRM15) AWJ20_4844(PGM2)\\n            NCR: NCU10058\\n            NTE: NEUTE1DRAFT118962(NEUTE1DRAFT_118962)\\n            SMP: SMAC_04221\\n            PAN: PODANSg2151\\n            TTT: THITE_2113222\\n            MTM: MYCTH_2296536\\n            CTHR: CTHT_0010310\\n            MGR: MGG_04495\\n            TMN: UCRPA7_2039\\n            SSCK: SPSK_08927\\n            FGR: FGSG_00387\\n            FPU: FPSE_00049\\n            FVR: FVEG_00842\\n            FOX: FOXG_00670\\n            NHE: NECHADRAFT_30586\\n            TRE: TRIREDRAFT_21836\\n            MAW: MAC_03213\\n            MAJ: MAA_04308\\n            CMT: CCM_02278\\n            PLJ: VFPFJ_05190\\n            VAL: VDBG_06171\\n            VDA: VDAG_03328\\n            CFJ: CFIO01_02021\\n            ELA: UCREL1_9560\\n            PFY: PFICI_00748\\n            SSL: SS1G_06474\\n            BFU: BCIN_11g02490\\n            MBE: MBM_08593\\n            PSCO: LY89DRAFT_347385\\n            GLZ: GLAREA_11476\\n            ANI: AN2867.2 AN4591.2\\n            AFM: AFUA_2G02120 AFUA_3G11830\\n            AOR: AO090003000746 AO090011000487\\n            ANG: ANI_1_1068024(An02g07650) ANI_1_1946064(An07g06780)\\n            AFV: AFLA_030710 AFLA_043120\\n            ACT: ACLA_039720 ACLA_092700\\n            NFI: NFIA_034490 NFIA_065490\\n            PCS: Pc18g01390 Pc20g04410\\n            PDP: PDIP_08120 PDIP_74240\\n            CIM: CIMG_03640 CIMG_05512\\n            CPW: CPC735_006350 CPC735_066490\\n            PBL: PAAG_03331 PAAG_11415(PAAG_02011)\\n            PBN: PADG_06493 PADG_11132(PADG_00681)\\n            URE: UREG_06209 UREG_07404\\n            ABE: ARB_02523 ARB_05514\\n            TVE: TRV_04519 TRV_05167 TRV_05168\\n            AJE: HCAG_08808 HCAG_08824\\n            PNO: SNOG_03143 SNOG_08437\\n            PTE: PTT_11185 PTT_11268\\n            BZE: COCCADRAFT_100282 COCCADRAFT_84367\\n            BSC: COCSADRAFT_124799 COCSADRAFT_35048\\n            BOR: COCMIDRAFT_31473 COCMIDRAFT_90248\\n            AALT: CC77DRAFT_1034248 CC77DRAFT_943642\\n            ZTR: MYCGRDRAFT_54663(PGM) MYCGRDRAFT_86654\\n            PFJ: MYCFIDRAFT_204256 MYCFIDRAFT_58070\\n            BCOM: BAUCODRAFT_259397 BAUCODRAFT_34822\\n            NPA: UCRNP2_4594 UCRNP2_7037\\n            TML: GSTUM_00001433001 GSTUM_00007514001\\n            SPO: SPBC32F12.10 SPCC1840.05c\\n            CNE: CNN00430\\n            CNB: CNBN0410\\n            CGI: CGB_N0350C\\n            TMS: TREMEDRAFT_45127\\n            TVS: TRAVEDRAFT_157183\\n            DSQ: DICSQDRAFT_112999\\n            PCO: PHACADRAFT_178364\\n            SHS: STEHIDRAFT_168706\\n            HIR: HETIRDRAFT_317679 HETIRDRAFT_386831\\n            PSQ: PUNSTDRAFT_93572\\n            ADL: AURDEDRAFT_105903 AURDEDRAFT_111044\\n            FME: FOMMEDRAFT_127398\\n            GTR: GLOTRDRAFT_105232\\n            LBC: LACBIDRAFT_247655 LACBIDRAFT_305339\\n            MPR: MPER_15840\\n            MRR: Moror_14304\\n            CCI: CC1G_00866 CC1G_05188\\n            SCM: SCHCODRAFT_65648 SCHCODRAFT_76183\\n            ABP: AGABI1DRAFT118802(AGABI1DRAFT_118802)\\n            ABV: AGABI2DRAFT222809(AGABI2DRAFT_222809)\\n            CPUT: CONPUDRAFT_59135\\n            SLA: SERLADRAFT_440916 SERLADRAFT_473267\\n            WSE: WALSEDRAFT_33937\\n            WIC: J056_001956\\n            UMA: UMAG_00486\\n            PFP: PFL1_06217\\n            MGL: MGL_1163\\n            PGR: PGTG_06082 PGTG_13901 PGTG_21923 PGTG_21924\\n            MLR: MELLADRAFT_47141\\n            ECU: ECU03_0340\\n            EIN: Eint_030250\\n            EHE: EHEL_030240\\n            ERO: EROM_030240\\n            MBR: MONBRDRAFT_34982 MONBRDRAFT_36937\\n            SRE: PTSG_01381 PTSG_07123\\n            DDI: DDB_G0280897(pgmB) DDB_G0288483(pgmA)\\n            DPP: DICPUDRAFT_95458\\n            DFA: DFA_03821(pgmB) DFA_05075(pgmA)\\n            EHI: EHI_110120(5.t00030) EHI_185280(409.t00002)\\n            EDI: EDI_174890 EDI_320690\\n            EIV: EIN_078960 EIN_410050\\n            ACAN: ACA1_038550 ACA1_042250\\n            PFA: PF3D7_1012500\\n            PFD: PFDG_03764\\n            PFH: PFHG_03779\\n            PYO: PY17X_1214100\\n            PCB: PCHAS_121160(PC000039.01.0)\\n            PBE: PBANKA_121090\\n            PKN: PKH_081200\\n            PVX: PVX_094845\\n            PCY: PCYB_082230\\n            CPV: cgd2_3260 cgd2_3270\\n            CHO: Chro.20343\\n            TGO: TGME49_285980(GPM1) TGME49_318580(GPM2)\\n            TET: TTHERM_00577080\\n            PTM: GSPATT00000627001 GSPATT00032405001\\n            SMIN: v1.2.009032.t1(symbB.v1.2.009032.t1) v1.2.026008.t1(symbB.v1.2.026008.t1) v1.2.027230.t2(symbB.v1.2.027230.t2) v1.2.027230.t3(symbB.v1.2.027230.t3)\\n            PTI: PHATRDRAFT_50118(PGM_2) PHATRDRAFT_50444(UGP/PGM) PHATRDRAFT_50718(PGM_1)\\n            FCY: FRACYDRAFT_263231(PGM2)\\n            TPS: THAPSDRAFT_268621(PGM2) THAPSDRAFT_270348 THAPS_263111\\n            AAF: AURANDRAFT_24439(GPM) AURANDRAFT_25705(GPM2)\\n            NGD: NGA_0494201(PGM)\\n            PIF: PITG_18414 PITG_19174\\n            PSOJ: PHYSODRAFT_518128 PHYSODRAFT_554034\\n            SPAR: SPRG_02045 SPRG_07331 SPRG_07332\\n            EHX: EMIHUDRAFT_102390 EMIHUDRAFT_427377(PGM_PMM) EMIHUDRAFT_441403\\n            GTT: GUITHDRAFT_157816 GUITHDRAFT_159531 GUITHDRAFT_166345\\n            TCR: 506405.10 508637.90 511911.130\\n            LMA: LMJF_21_0640 LMJF_34_3780\\n            LIF: LINJ_21_0700 LINJ_34_3580\\n            LDO: LDBPK_210700 LDBPK_343580\\n            LMI: LMXM_21_0640 LMXM_33_3780\\n            LBZ: LBRM_20_3380 LBRM_21_0700\\n            NGR: NAEGRDRAFT_39110 NAEGRDRAFT_82954\\n            TVA: TVAG_054830 TVAG_205910 TVAG_405900\\n            GLA: GL50803_17254\\n            ECO: b0688(pgm)\\n            ECJ: JW0675(pgm)\\n            ECD: ECDH10B_0753(pgm)\\n            EBW: BWG_0549(pgm)\\n            ECOK: ECMDS42_0544(pgm)\\n            ECE: Z0837(pgm)\\n            ECS: ECs0719\\n            ECF: ECH74115_0783(pgm)\\n            ETW: ECSP_0736(pgm)\\n            ELX: CDCO157_0699\\n            EOJ: ECO26_0753(pgm)\\n            EOI: ECO111_0708(pgm)\\n            EOH: ECO103_0685(pgm)\\n            ECOO: ECRM13514_0711(pgm)\\n            ECOH: ECRM13516_0658(pgm)\\n            ECG: E2348C_0580(pgm)\\n            EOK: G2583_0849(pgm)\\n            ELR: ECO55CA74_04125\\n            ESO: O3O_07100\\n            ESM: O3M_18175\\n            ESL: O3K_18195\\n            ECW: EcE24377A_0716(pgm)\\n            ELH: ETEC_0705\\n            EUN: UMNK88_725(pgm)\\n            ECC: c0775(pgm)\\n            ECP: ECP_0709\\n            ECI: UTI89_C0693(pgm)\\n            ECV: APECO1_1376(pgm)\\n            ECX: EcHS_A0735(pgm)\\n            ECM: EcSMS35_0710(pgm)\\n            ECY: ECSE_0750\\n            ECR: ECIAI1_0667(pgm)\\n            ECQ: ECED1_0670(pgm)\\n            ECK: EC55989_0675(pgm)\\n            ECT: ECIAI39_0646(pgm)\\n            EOC: CE10_0678(pgm)\\n            EUM: ECUMN_0774(pgm)\\n            ECZ: ECS88_0725(pgm)\\n            ELO: EC042_0716(pgm)\\n            ELN: NRG857_03110\\n            ESE: ECSF_0626\\n            ECL: EcolC_2968\\n            EBR: ECB_00645(pgm)\\n            EBD: ECBD_2973\\n            EKO: EKO11_3189\\n            EKF: KO11_20280(pgm)\\n            EAB: ECABU_c07420(pgm)\\n            EDH: EcDH1_2949\\n            EDJ: ECDH1ME8569_0646(pgm)\\n            EIH: ECOK1_0699(pgm)\\n            ENA: ECNA114_0627(pgm)\\n            ELU: UM146_14115\\n            ELW: ECW_m0741(pgm)\\n            ELL: WFL_03640(pgm)\\n            ELC: i14_0744(pgm)\\n            ELD: i02_0744(pgm)\\n            ELP: P12B_c0660\\n            EBL: ECD_00645(pgm)\\n            EBE: B21_00636(pgm)\\n            ELF: LF82_1632(pgm)\\n            ECOA: APECO78_06985\\n            ECOL: LY180_03670\\n            ECOI: ECOPMV1_00704(pgm)\\n            ECOJ: P423_03405\\n            ECOS: EC958_0806\\n            EFE: EFER_2420(pgm)\\n            EAL: EAKF1_ch0774c(pgm)\\n            EMA: C1192_09270\\n            STY: STY0736(pgm)\\n            STT: t2177(pgm)\\n            SEX: STBHUCCB_23060\\n            SENT: TY21A_11065\\n            STM: STM0698(pgm)\\n            SEO: STM14_0815(pgm)\\n            SEV: STMMW_07561\\n            SEY: SL1344_0680(pgm)\\n            SEM: STMDT12_C07540\\n            SEJ: STMUK_0703(pgm)\\n            SEB: STM474_0719(pgm)\\n            SEF: UMN798_0755(pgm)\\n            SETU: STU288_10915\\n            SETC: CFSAN001921_13540\\n            SENR: STMDT2_06821(pgm)\\n            SEND: DT104_07211(pgm)\\n            SENI: CY43_03780\\n            SEEN: SE451236_09515\\n            SPT: SPA2043(pgm)\\n            SEK: SSPA1904\\n            SPQ: SPAB_02840\\n            SEI: SPC_0707(pgm)\\n            SEC: SCH_0718(pgm)\\n            SEH: SeHA_C0819(pgm)\\n            SHB: SU5_01382\\n            SENH: CFSAN002069_05350\\n            SEEH: SEEH1578_12890\\n            SEE: SNSL254_A0758(pgm)\\n            SENN: SN31241_16980\\n            SEW: SeSA_A0855(pgm)\\n            SEA: SeAg_B0745(pgm)\\n            SENS: Q786_03435\\n            SED: SeD_A0806(pgm)\\n            SEG: SG0695(pgm)\\n            SEL: SPUL_2265(pgm)\\n            SEGA: SPUCDC_2251(pgm)\\n            SET: SEN0662(pgm)\\n            SENA: AU38_03410\\n            SENO: AU37_03405\\n            SENV: AU39_03410\\n            SENQ: AU40_03790\\n            SENL: IY59_03460\\n            SENJ: CFSAN001992_07905\\n            SEEC: CFSAN002050_10105\\n            SEEB: SEEB0189_015795\\n            SEEP: I137_10295\\n            SENB: BN855_6850(pgm)\\n            SENE: IA1_03620\\n            SENC: SEET0819_10460\\n            SES: SARI_02243\\n            SBG: SBG_0588(pgm)\\n            SBZ: A464_659\\n            SBV: N643_02965\\n            SFL: SF0605(pgm)\\n            SFX: S0616(pgm)\\n            SFV: SFV_0643(pgm)\\n            SFE: SFxv_0667(pgm)\\n            SFN: SFy_0818\\n            SFS: SFyv_0859\\n            SFT: NCTC1_00644(pgm)\\n            SSN: SSON_0642(pgm)\\n            SBO: SBO_0550(pgm)\\n            SBC: SbBS512_E0562(pgm)\\n            SDY: SDY_0628(pgm)\\n            SDZ: Asd1617_00790\\n            SHQ: A0259_07120\\n            ENT: Ent638_1203\\n            ENC: ECL_03027\\n            ENO: ECENHK_06500\\n            ECLO: ENC_20380\\n            EEC: EcWSU1_01252(pgm)\\n            ENL: A3UG_06405\\n            ECLG: EC036_12350\\n            ECLE: ECNIH2_07195\\n            ECLN: ECNIH4_16170\\n            ECLI: ECNIH5_06275\\n            ECLX: LI66_06150\\n            ECLY: LI62_07050\\n            ECLZ: LI64_06635\\n            EHM: AB284_18710\\n            EXF: BFV63_06295\\n            ECLA: ECNIH3_06295\\n            ECLC: ECR091_06275\\n            EAS: Entas_1183\\n            EAU: DI57_12425\\n            EKB: BFV64_06170\\n            ELG: BH714_02385\\n            ECAN: CWI88_15955\\n            ERN: BFV67_05935\\n            ECLS: LI67_007195\\n            ENR: H650_22230\\n            ENX: NI40_005945\\n            ENF: AKI40_2159\\n            ESA: ESA_02648\\n            CSK: ES15_2730\\n            CSZ: CSSP291_12525\\n            CSJ: CSK29544_03944\\n            CCON: AFK62_06015\\n            CDM: AFK67_06210\\n            CSI: P262_03981\\n            CMJ: AFK66_013695\\n            CUI: AFK65_05990\\n            CMW: AFK63_12665\\n            CTU: CTU_13060(pgm)\\n            KPN: KPN_00711(pgm)\\n            KPU: KP1_1664(pgm)\\n            KPM: KPHS_15440\\n            KPP: A79E_3527\\n            KPH: KPNIH24_21065\\n            KPZ: KPNIH27_07215\\n            KPV: KPNIH29_07915\\n            KPW: KPNIH30_07950\\n            KPY: KPNIH31_07820\\n            KPG: KPNIH32_08055\\n            KPC: KPNIH10_07730\\n            KPQ: KPR0928_07640\\n            KPT: VK055_1820(pgm)\\n            KPE: KPK_3859(pgm)\\n            KPO: KPN2242_06390\\n            KPR: KPR_3868(pgm)\\n            KPJ: N559_3618\\n            KPI: D364_03715\\n            KPA: KPNJ1_03873\\n            KPS: KPNJ2_03859\\n            KPX: PMK1_03045(pgm)\\n            KPB: FH42_24595\\n            KPNE: KU54_018705\\n            KPNU: LI86_18530\\n            KPNK: BN49_1765(pgm)\\n            KVA: Kvar_3660\\n            KPK: A593_18045\\n            KVD: KR75_15505\\n            KVQ: SP68_22120\\n            KOX: KOX_14430\\n            KOE: A225_1711\\n            KOY: J415_23105\\n            KOM: HR38_13200\\n            KMI: VW41_05900\\n            KOK: KONIH1_08405\\n            KOC: AB185_03430 AB185_27715\\n            KQU: AVR78_12255\\n            EAE: EAE_14060\\n            EAR: CCG31158\\n            KQV: B8P98_20095\\n            KLL: BJF97_08785\\n            CKO: CKO_02471\\n            CRO: ROD_06961(pgm)\\n            CFD: CFNIH1_13570\\n            CBRA: A6J81_09660\\n            CWE: CO701_15375\\n            CYO: CD187_16805\\n            CAMA: F384_03050\\n            CAF: AL524_19235\\n            CIF: AL515_08055\\n            CFAR: CI104_07770\\n            CIR: C2U53_01415 C2U53_16980\\n            CIE: AN232_22905\\n            GQU: AWC35_05510\\n            BFL: Bfl326(pgm)\\n            BPN: BPEN_335(pgm)\\n            BCHR: BCHRO640_345(pgm)\\n            BEN: BOBLI757_331(pgm)\\n            BED: BTURN675_318(pgm)\\n            SECT: A359_03060\\n            SEHC: A35E_00450\\n            EBT: EBL_c26860(pgm)\\n            ROR: RORB6_11555\\n            RON: TE10_09370\\n            RPLN: B1209_15010 B1209_19160\\n            RAO: DSD31_18040\\n            CNT: JT31_06330\\n            CEM: LH23_11590\\n            CEN: LH86_11025\\n            PGE: LG71_21505\\n            ESC: Entcl_3127\\n            KLE: AO703_06670\\n            KSA: C813_08235\\n            KOR: AWR26_17680\\n            KRD: A3780_06575\\n            KCO: BWI95_12295\\n            KOT: EH164_15785\\n            LAX: APT61_16215\\n            LEI: C2U54_11265\\n            LEH: C3F35_05210\\n            LAZ: A8A57_06395\\n            LEF: LJPFL01_1257\\n            LNI: CWR52_05970\\n            LEW: DAI21_20345\\n            LPV: HYN51_03315\\n            BUF: D8682_08985\\n            HED: TPER_HE00547(pgm)\\n            METY: MRY16398_40540\\n            EBF: D782_3158\\n            EBC: C2U52_28740\\n            EBU: CUC76_07805\\n            PSTS: E05_07960\\n            YPE: YPO2686(pgm)\\n            YPK: y1258(pgm)\\n            YPH: YPC_3172(pgm)\\n            YPA: YPA_2414\\n            YPN: YPN_1171\\n            YPM: YP_2488(pgm)\\n            YPP: YPDSF_1589\\n            YPG: YpAngola_A3574(pgm)\\n            YPZ: YPZ3_2368(pgm)\\n            YPT: A1122_12645\\n            YPD: YPD4_2344(pgm)\\n            YPX: YPD8_2347(pgm)\\n            YPW: CH59_3566(pgm)\\n            YPJ: CH55_1485(pgm)\\n            YPV: BZ15_847(pgm)\\n            YPL: CH46_2423(pgm)\\n            YPS: YPTB2923(pgm)\\n            YPO: BZ17_3705(pgm)\\n            YPI: YpsIP31758_1099(pgm)\\n            YPY: YPK_1152\\n            YPB: YPTS_3039\\n            YPQ: DJ40_3566(pgm)\\n            YPU: BZ21_2228(pgm)\\n            YPR: BZ20_3249(pgm)\\n            YPC: BZ23_2508(pgm)\\n            YPF: BZ19_2294(pgm)\\n            YEN: YE2967(pgm)\\n            YEP: YE105_C1269\\n            YEY: Y11_18871\\n            YEL: LC20_01651\\n            YEW: CH47_2328(pgm)\\n            YET: CH48_2854(pgm)\\n            YEF: FORC2_2951\\n            YEE: YE5303_33971(pgm)\\n            YSI: BF17_01040\\n            YAL: AT01_3780(pgm)\\n            YFR: AW19_491(pgm)\\n            YIN: CH53_3119(pgm)\\n            YKR: CH54_1171(pgm)\\n            YRO: CH64_3760(pgm)\\n            YRU: BD65_3008(pgm)\\n            YRB: UGYR_15365\\n            YAK: ACZ76_15115\\n            YMA: DA391_15715\\n            SPE: Spro_1241\\n            SRR: SerAS9_1214\\n            SRL: SOD_c11120(pgm)\\n            SRY: M621_06245\\n            SPLY: Q5A_006230(pgm)\\n            SRS: SerAS12_1214\\n            SRA: SerAS13_1214\\n            SSZ: SCc_253(pgm)\\n            SMAF: D781_1163\\n            SMW: SMWW4_v1c12060(pgm)\\n            SMAR: SM39_0656(pgm)\\n            SMAC: SMDB11_0484(pgm)\\n            SLQ: M495_05575\\n            SERF: L085_22415\\n            SERS: SERRSCBI_05695\\n            SFW: WN53_15650\\n            SFG: AV650_11110\\n            SRZ: AXX16_3938\\n            SERA: Ser39006_018195\\n            SERM: CLM71_05645\\n            SFO: Z042_19805\\n            RAH: Rahaq_3173\\n            RAQ: Rahaq2_3203\\n            RAA: Q7S_16005\\n            ROX: BV494_10975\\n            ECA: ECA1336(pgm)\\n            PATR: EV46_06755\\n            PATO: GZ59_13690(pgm)\\n            PCT: PC1_1212\\n            PCC: PCC21_012430\\n            PCV: BCS7_06245\\n            PWA: Pecwa_3119\\n            PPAR: A8F97_03085\\n            PEC: W5S_3110\\n            PWS: A7983_15150\\n            PPOA: BJK05_01265\\n            SGL: SG0866\\n            SOD: Sant_2782(pgm)\\n            SENY: HBA_0902(pgm)\\n            DDA: Dd703_1123 Dd703_3280\\n            DDD: Dda3937_01555(pgm)\\n            DZE: Dd1591_2933\\n            DDC: Dd586_1168\\n            DZC: W909_05920\\n            DSO: A4U42_15245\\n            CED: LH89_05960\\n            DDQ: DDI_1039\\n            DFN: CVE23_06765\\n            BGJ: AWC36_12015\\n            LBQ: CKQ53_10475\\n            ETA: ETA_23210(pgm)\\n            EPY: EpC_24560(pgm)\\n            EPR: EPYR_02658(pgm)\\n            EAM: EAMY_1153(pgm)\\n            EAY: EAM_1156(pgm)\\n            EBI: EbC_12800(pgm)\\n            ERJ: EJP617_22730(pgm)\\n            EGE: EM595_1097(pgm)\\n            WBR: pgm\\n            WGL: WIGMOR_0337(pgm)\\n            PAM: PANA_1156(pgm)\\n            PLF: PANA5342_3133(pgm)\\n            PAJ: PAJ_0476(pgm)\\n            PAQ: PAGR_g3003\\n            PVA: Pvag_0529(pgm)\\n            PAGG: AL522_09970\\n            PAO: Pat9b_1097\\n            KLN: LH22_16695\\n            PANT: PSNIH1_10260\\n            PANP: PSNIH2_12095\\n            HHS: HHS_07590(pgm)\\n            PCK: BMSBPS_0391\\n            PAGC: BEE12_12440\\n            PSTW: DSJ_08215\\n            PGZ: C2E15_06600\\n            PCD: C2E16_06445\\n            TCI: A7K98_06155\\n            TPTY: NCTC11468_01197(pgm)\\n            PLU: plu1407(pgm)\\n            PLUM: A4R40_07070\\n            PAY: PAU_02994(pgm)\\n            PTT: VY86_11415\\n            PMR: PMI0548(pgm)\\n            PMIB: BB2000_0618(pgm)\\n            PVL: AOB99_05120\\n            PVG: CRN77_17160\\n            XBO: XBJ1_1074(pgm)\\n            XBV: XBW1_3512(pgm)\\n            XNE: XNC1_1387(pgm)\\n            XNM: XNC2_1349(pgm)\\n            XDO: XDD1_1323(pgm)\\n            XPO: XPG1_2378(pgm)\\n            XHO: A9255_09675\\n            PSI: S70_17105\\n            PSX: DR96_2392(pgm)\\n            PSTA: BGK56_19445\\n            PRG: RB151_013130(pgm)\\n            PALA: CO695_17430\\n            PHEI: NCTC12003_02757(pgm)\\n            PRQ: CYG50_09435\\n            MMK: MU9_1375\\n            ASY: AUT07_00458(pgm)\\n            EIC: NT01EI_2893\\n            ETR: ETAE_2605\\n            ETD: ETAF_2346\\n            ETE: ETEE_0703(pgm)\\n            ETC: ETAC_12525\\n            EDW: QY76_07490\\n            EHO: A9798_04270\\n            HAV: AT03_06735\\n            HPAR: AL518_18950\\n            OPO: DSM2777_11845\\n            PFQ: QQ39_07205\\n            LRI: NCTC12151_02203(pgm)\\n            KIN: AB182_17710\\n            PSHI: SAMEA2665130_2204(pgm)\\n            XFA: XF_0260\\n            XFT: PD_0120(algC) PD_0213(xanA)\\n            XFM: Xfasm12_0128 Xfasm12_0229\\n            XFN: XfasM23_0113 XfasM23_0200\\n            XFF: XFLM_05880 XFLM_05885 XFLM_06365\\n            XFL: P303_10770 P303_11310\\n            XFS: D934_01580 D934_02080\\n            XFH: XFHB_00615 XFHB_01080\\n            XTW: AB672_00665 AB672_01195\\n            XCC: XCC0626(xanA) XCC3857(algC)\\n            XCB: XC_3608 XC_3941\\n            XCA: xcc-b100_3729(xanA) xcc-b100_4041(manB)\\n            XCP: XCR_0432 XCR_0775\\n            XCV: XCV3703(xanA) XCV4025(manB)\\n            XAX: XACM_3474(xanA) XACM_3806(manB)\\n            XAC: XAC3579(xanA) XAC3912(algC)\\n            XCI: XCAW_00367(cpsG) XCAW_04279(xanA)\\n            XCT: J151_03764 J151_04091\\n            XCJ: J158_03740 J158_04067\\n            XCU: J159_03736 J159_04063\\n            XCN: J169_03761 J169_04088\\n            XCW: J162_03741 J162_04068\\n            XCR: J163_03736 J163_04063\\n            XCM: J164_03737 J164_04064\\n            XCF: J172_03754 J172_04081\\n            XFU: XFF4834R_chr34730(xanA) XFF4834R_chr38000\\n            XAO: XAC29_18220 XAC29_19845\\n            XOO: XOO0498(algC) XOO0797(xanA)\\n            XOM: XOO0465(XOO0465) XOO0725(XOO0725)\\n            XOP: PXO_02922 PXO_03174(xanA)\\n            XOY: AZ54_20815 AZ54_22570\\n            XOR: XOC_3841(xanA) XOC_4230\\n            XOZ: BE73_03040 BE73_04465\\n            XAL: XALC_0375 XALC_2692(xanA)\\n            XSA: SB85_09625 SB85_14950\\n            XTN: FD63_01870 FD63_16520\\n            XFR: BER92_15585 BER92_18405\\n            XGA: BI317_02960 BI317_04180\\n            XVE: BJD12_08795 BJD12_10415\\n            XPE: BJD13_19400 BJD13_21225\\n            XHR: XJ27_11985 XJ27_13590\\n            XPH: XppCFBP6546_14840(XppCFBP6546P_14840) XppCFBP6546_16440(XppCFBP6546P_16440)\\n            XVA: C7V42_18355 C7V42_20120\\n            SML: Smlt0403(spgM) Smlt0653(xanA)\\n            SMT: Smal_0286 Smal_0509\\n            BUJ: BurJV3_0314 BurJV3_0529\\n            SMZ: SMD_0323(algC) SMD_0549(spgM)\\n            SACZ: AOT14_05640(algC) AOT14_06420(manB)\\n            STEK: AXG53_07905 AXG53_14850\\n            SRH: BAY15_0499 BAY15_0721\\n            SLM: BIZ42_10995 BIZ42_11960\\n            STEN: CCR98_01640 CCR98_02885\\n            STEM: CLM74_01555 CLM74_02820\\n            PSU: Psesu_0157 Psesu_2445\\n            PSUW: WQ53_07065 WQ53_11225\\n            PSD: DSC_00055 DSC_02545\\n            LAB: LA76x_4631\\n            LAQ: GLA29479_4451(algC)\\n            LCP: LC55x_0435 LC55x_5555(pgm)\\n            LGU: LG3211_0444 LG3211_2489(pgm)\\n            LEZ: GLE_0254\\n            LEM: LEN_4688(manB)\\n            LMB: C9I47_3076\\n            LYT: DWG18_12515\\n            LUM: CNR27_02850 CNR27_14690\\n            LUE: DCD74_08420 DCD74_09425\\n            FAU: Fraau_3262\\n            RHD: R2APBS1_0585 R2APBS1_3851 R2APBS1_3910\\n            DJI: CH75_01005 CH75_10100 CH75_20820 CH75_24085\\n            DJA: HY57_02855 HY57_13875 HY57_20075\\n            DTX: ATSB10_00710 ATSB10_30710 ATSB10_36130\\n            DKO: I596_3660\\n            LRZ: BJI69_08495 BJI69_11355 BJI69_18620\\n            XBA: C7S18_20435\\n            VCH: VC2095\\n            VCF: IR04_15615\\n            VCS: MS6_1855\\n            VCE: Vch1786_I1588\\n            VCQ: EN18_13570\\n            VCJ: VCD_002272\\n            VCI: O3Y_10120\\n            VCO: VC0395_A1681(pgm)\\n            VCR: VC395_2210(pgm)\\n            VCM: VCM66_2019(pgm)\\n            VCL: VCLMA_A1831\\n            VCX: VAA049_786(pgm)\\n            VCZ: VAB027_2731(pgm)\\n            VVU: VV1_0169(pgm)\\n            VVY: VV1020\\n            VVM: VVMO6_02207\\n            VVL: VV93_v1c09430\\n            VPA: VP0839\\n            VPB: VPBB_0796\\n            VPK: M636_17590\\n            VPF: M634_06205\\n            VPH: VPUCM_2385\\n            VHA: VIBHAR_01345\\n            VCA: M892_06295\\n            VAG: N646_2991\\n            VEX: VEA_004120\\n            VDB: AL552_12585\\n            VHR: AL538_13715\\n            VNA: PN96_09320\\n            VOW: A9237_04100\\n            VRO: BSZ04_19200\\n            VSP: VS_2252\\n            VEJ: VEJY3_03815\\n            VFU: vfu_A01226\\n            VNI: VIBNI_A2572(pgm)\\n            VAN: VAA_03420\\n            LAG: N175_05505\\n            VAU: VANGNB10_cI1905c(pgm)\\n            VCY: IX92_03180\\n            VCT: JV59_35535\\n            VTU: IX91_04095\\n            VFL: AL536_09990\\n            VMI: AL543_19785\\n            VBR: A6E01_09285\\n            VSC: VSVS12_02374\\n            VGA: BSQ33_03965\\n            VSH: BSZ05_09985\\n            VQI: CCZ37_09095\\n            VTA: A1276(pgm)\\n            VFI: VF_0816(pgm)\\n            VFM: VFMJ11_0854(pgm)\\n            VSA: VSAL_I0839(pgm)\\n            AWD: AWOD_I_0783(pgm)\\n            PPR: PBPRA1040(S0616)\\n            PGB: H744_2c1247\\n            PDS: CAY62_04105\\n            GHO: AL542_04495\\n            PMAI: CF386_05730\\n            PAE: PA5322(algC)\\n            PAEV: N297_5502(algC)\\n            PAEI: N296_5502(algC)\\n            PAU: PA14_70270(algC)\\n            PAP: PSPA7_6098(algC)\\n            PAG: PLES_57171(algC)\\n            PAF: PAM18_5442(algC)\\n            PNC: NCGM2_6087(algC)\\n            PAEB: NCGM1900_6165(algC)\\n            PDK: PADK2_28345\\n            PSG: G655_28010\\n            PRP: M062_28035\\n            PAEP: PA1S_28765\\n            PAER: PA1R_gp3253\\n            PAEM: U769_29265\\n            PAEL: T223_29225\\n            PAES: SCV20265_6048\\n            PAEU: BN889_05902(algC)\\n            PAEG: AI22_05225\\n            PAEC: M802_5500(algC)\\n            PAEO: M801_5367(algC)\\n            PMY: Pmen_4379\\n            PMK: MDS_4709\\n            PRE: PCA10_55240(algC)\\n            PPSE: BN5_4209(algC)\\n            PALC: A0T30_01015\\n            PCQ: PcP3B5_60560(algC)\\n            PPU: PP_1777(cpsG) PP_3578(pgm) PP_5288(algC)\\n            PPF: Pput_2193 Pput_5197\\n            PPG: PputGB1_2336 PputGB1_5338\\n            PPW: PputW619_0183 PputW619_1384 PputW619_2971\\n            PPT: PPS_1418 PPS_3073 PPS_5138\\n            PPB: PPUBIRD1_2214 PPUBIRD1_5082\\n            PPI: YSA_00178 YSA_02215 YSA_04816\\n            PPX: T1E_2283(celB) T1E_3027 T1E_4704\\n            PPUH: B479_15285 B479_26180\\n            PPUT: L483_06410 L483_18760 L483_31590\\n            PPUN: PP4_22480(pgm) PP4_53510(algC)\\n            PPUD: DW66_3344 DW66_5708\\n            PFV: Psefu_1802 Psefu_4306\\n            PMON: X969_05015 X969_14760 X969_25390\\n            PMOT: X970_04990 X970_14405 X970_25025\\n            PMOS: O165_007450 O165_022595\\n            PPJ: RK21_01570 RK21_04922\\n            POR: APT59_05295 APT59_21610\\n            PST: PSPTO_0083(algC) PSPTO_3035(pgm)\\n            PSB: Psyr_0219 Psyr_2908\\n            PSYR: N018_00520 N018_11960\\n            PSP: PSPPH_0207(algC) PSPPH_2317(pgm)\\n            PAMG: BKM19_002585 BKM19_017355\\n            PCI: PCH70_01500 PCH70_28020\\n            PAVL: BKM03_00670 BKM03_13780\\n            PFL: PFL_3231(pgm) PFL_6054(algC)\\n            PPRC: PFLCHA0_c32610(celB) PFLCHA0_c60130(algC)\\n            PPRO: PPC_3256 PPC_6007\\n            PFO: Pfl01_2670 Pfl01_5542(pgm)\\n            PFS: PFLU_3157 PFLU_5986\\n            PFE: PSF113_2773 PSF113_5762(algC)\\n            PFC: PflA506_2605(pgm) PflA506_5268(algC)\\n            PFN: HZ99_02960 HZ99_16955\\n            PFW: PF1751_v1c26070(pgm) PF1751_v1c53990(algC)\\n            PFF: PFLUOLIPICF709000 PFLUOLIPICF723315\\n            PFX: A7318_13715 A7318_26620\\n            PPZ: H045_08000 H045_20235\\n            PFB: VO64_0227 VO64_2875\\n            PMAN: OU5_0336 OU5_3610\\n            PTV: AA957_00370 AA957_15200\\n            PCG: AXG94_02630 AXG94_14480\\n            PVR: PverR02_14870 PverR02_30605\\n            PAZO: AYR47_22015\\n            POI: BOP93_12050 BOP93_25600\\n            PEN: PSEEN2645(pgm) PSEEN5434(algC)\\n            PSA: PST_0470 PST_4152(pgm)\\n            PSZ: PSTAB_0506 PSTAB_4134\\n            PSR: PSTAA_0523 PSTAA_4304(pgm)\\n            PSC: A458_00245 A458_19045\\n            PSJ: PSJM300_02290 PSJM300_10005\\n            PSH: Psest_0039 Psest_3806\\n            PSTU: UIB01_00190 UIB01_19260\\n            PSTT: CH92_02055 CH92_10435\\n            PBM: CL52_00180 CL52_02170\\n            PBA: PSEBR_a3020 PSEBR_a5523\\n            PBC: CD58_15160 CD58_28890\\n            PPUU: PputUW4_02541(pgm) PputUW4_05326(algC)\\n            PDR: H681_24190\\n            PSV: PVLB_13870 PVLB_25045\\n            PSK: U771_17080 U771_30920\\n            PKC: PKB_5462(celB) PKB_5658(algC)\\n            PCH: EY04_16230 EY04_30355\\n            PCZ: PCL1606_01460 PCL1606_28010\\n            PCP: JM49_01035 JM49_09350 JM49_14430\\n            PFZ: AV641_00490 AV641_12205\\n            PLQ: AA042_09825 AA042_20940\\n            PALK: PSAKL28_23100 PSAKL28_51510\\n            PRH: LT40_09225 LT40_10340 LT40_16795\\n            PSW: LK03_05520 LK03_18365 LK03_21295\\n            PPV: NJ69_08420 NJ69_18405\\n            PSES: PSCI_1587 PSCI_4208\\n            PSEM: TO66_16915 TO66_30830\\n            PSEC: CCOS191_3001(celB) CCOS191_5182(algC)\\n            PPSY: AOC04_09190 AOC04_20665\\n            PSOS: POS17_2845 POS17_6011\\n            PKR: AYO71_00895 AYO71_17300\\n            PFK: PFAS1_11925 PFAS1_19940 PFAS1_26445\\n            PANR: A7J50_2774 A7J50_5720\\n            PPSL: BJP27_14690 BJP27_19985\\n            PSET: THL1_5616\\n            PSIL: PMA3_13645 PMA3_29490\\n            AVN: Avin_02910(algC)\\n            AVL: AvCA_02910(algC)\\n            AVD: AvCA6_02910(algC)\\n            ACX: Achr_38610(algC)\\n            PBB: AKN87_07630\\n            PCR: Pcryo_0569\\n            PRW: PsycPRwf_1827\\n            PSO: PSYCG_03185\\n            PUR: AOC03_03370\\n            PALI: A3K91_0671\\n            PSPG: AK823_03420\\n            PSYG: AK825_03355\\n            PSYC: DABAL43B_0673(algC)\\n            PSYA: AOT82_2558\\n            PSYY: DLE54_08570\\n            ACB: A1S_0887\\n            ABM: ABSDF2549(algC)\\n            ABY: ABAYE2928(algC)\\n            ABC: ACICU_00838\\n            ABN: AB57_0935\\n            ABB: ABBFA_002727\\n            ABX: ABK1_0875\\n            ABZ: ABZJ_00878\\n            ABR: ABTJ_02925\\n            ABD: ABTW07_0867\\n            ABH: M3Q_1083\\n            ABAD: ABD1_08330(algC)\\n            ABJ: BJAB07104_00889\\n            ABAB: BJAB0715_00873\\n            ABAJ: BJAB0868_00897\\n            ABAZ: P795_13330\\n            ABK: LX00_04425\\n            ABAU: IX87_01720\\n            ABAA: IX88_06410\\n            ABW: BL01_11755\\n            ABAL: ABLAC_29720\\n            ACC: BDGL_000151(algC)\\n            ANO: RR32_13775\\n            ALC: OTEC02_14515\\n            ACAL: BUM88_04190\\n            ACD: AOLE_15275\\n            ACI: ACIAD0902(algC)\\n            ATT: AMQ28_11525\\n            AEI: AOY20_07025\\n            AJO: RZ95_13390\\n            ACW: A0J50_13085\\n            ACV: AMD27_03620\\n            AHL: AHTJS_11890\\n            AJN: BVL33_06265\\n            ASOL: BEN76_09110\\n            ALA: BFG52_12515\\n            ASJ: AsACE_CH00687\\n            AID: CTZ23_11985\\n            ADV: DJ533_15225\\n            ARJ: DOM24_11145\\n            MOS: AXE82_09875\\n            MBAH: HYN46_10315\\n            SON: SO_2336(pgm)\\n            SDN: Sden_1985\\n            SFR: Sfri_1915\\n            SAZ: Sama_1706\\n            SBL: Sbal_2225 Sbal_4511\\n            SBM: Shew185_2146\\n            SBN: Sbal195_2196\\n            SBP: Sbal223_2238\\n            SBT: Sbal678_2199\\n            SBS: Sbal117_2348\\n            SBB: Sbal175_2273\\n            SLO: Shew_1922\\n            SPC: Sputcn32_1882\\n            SHP: Sput200_2109\\n            SSE: Ssed_2332\\n            SPL: Spea_2056\\n            SHE: Shewmr4_2031\\n            SHM: Shewmr7_1944\\n            SHN: Shewana3_2134\\n            SHW: Sputw3181_2126\\n            SHL: Shal_2238\\n            SWD: Swoo_2275\\n            SWP: swp_2609\\n            SVO: SVI_2038(pgm)\\n            SHF: CEQ32_04285\\n            SJA: SJ2017_1989\\n            SPSW: Sps_00786\\n            SBJ: CF168_10080\\n            SMAV: CFF01_09740\\n            SHEW: CKQ84_19620\\n            SALG: BS332_18170\\n            ILO: IL1471(pgm)\\n            ILI: K734_07390\\n            IPI: CEW91_05415\\n            IDI: CWC33_11010\\n            IDT: C5610_07340\\n            CPS: CPS_1581(pgm)\\n            COM: CMT41_06080\\n            COZ: A3Q34_16100\\n            COLW: A3Q33_00745 A3Q33_13525\\n            COLA: DBO93_06800 DBO93_13570\\n            CBER: B5D82_05530 B5D82_13595\\n            PHA: PSHAa1634(pgm)\\n            PAT: Patl_2198\\n            PSM: PSM_A1607(pgm)\\n            PSEO: OM33_10885\\n            PIA: PI2015_1553\\n            PPHE: PP2015_1735\\n            PBW: D172_008410\\n            PRR: AT705_02420\\n            PTN: PTRA_a2029(pgm)\\n            PLZ: S4054249_11790\\n            PALN: B0W48_17370\\n            PEA: PESP_a2050(pgm)\\n            PSPO: PSPO_a1575(pgm)\\n            PART: PARC_a1888(pgm)\\n            PTU: PTUN_a2014(pgm)\\n            PNG: PNIG_a2141(pgm)\\n            PTD: PTET_a1858(pgm)\\n            PSEN: PNC201_08380(pgm)\\n            MAQ: Maqu_3561\\n            MHC: MARHY3461\\n            MAD: HP15_3318(algC)\\n            MBS: MRBBS_3555(algC)\\n            MSR: AU15_02025\\n            MPQ: ABA45_16685\\n            MARI: ACP86_07110\\n            MLQ: ASQ50_12640\\n            MSQ: BKP64_17105\\n            MARA: D0851_02210 D0851_10595\\n            AMC: MADE_1007745\\n            AMH: I633_07885\\n            AMAA: amad1_07830\\n            AMAL: I607_07045\\n            AMAE: I876_07340\\n            AMAO: I634_07460\\n            AMAD: I636_07910\\n            AMAI: I635_07820\\n            AMAG: I533_07360\\n            AMAC: MASE_06975\\n            AMB: AMBAS45_07305\\n            AMG: AMEC673_07030\\n            AMK: AMBLS11_06995\\n            ALT: ambt_11070\\n            AAL: EP13_07760\\n            AAUS: EP12_07855\\n            ASP: AOR13_2028\\n            ASQ: AVL57_08870\\n            AAW: AVL56_07760\\n            ALR: DS731_13105\\n            ALE: AV939_07885\\n            GAG: Glaag_2064\\n            GNI: GNIT_1628(pgm)\\n            GPS: C427_3209\\n            LAL: AT746_10410\\n            CATE: C2869_14450\\n            SALH: HMF8227_01654\\n            SALM: D0Y50_07005\\n            PIN: Ping_0879\\n            PSY: PCNPT3_03065\\n            FBL: Fbal_2366\\n            MVS: MVIS_2243(pgmA)\\n            MYA: MORIYA_0788(pgm)\\n            CJA: CJA_1887(pgm) CJA_3524(algC)\\n            CEB: B0D95_05010 B0D95_15375\\n            CELL: CBR65_07185 CBR65_14410\\n            SDE: Sde_1254 Sde_3676\\n            TTU: TERTU_0186 TERTU_3413(pgm)\\n            SAGA: M5M_12800\\n            SPOI: IMCC21906_00289\\n            ZAL: AZF00_17705\\n            OSG: BST96_08595\\n            MTHD: A3224_15835\\n            MICC: AUP74_00812(algC_1)\\n            MAGA: Mag101_17220\\n            MII: BTJ40_21625\\n            HJA: BST95_03290\\n            CBU: CBU_0294\\n            CBS: COXBURSA331_A0399(algC)\\n            CBD: CBUD_1786(algC)\\n            CBG: CbuG_1711(algC)\\n            CBC: CbuK_0491(algC)\\n            CEY: CleRT_13060\\n            RVI: RVIR1_03820(algC)\\n            LPH: LPV_2811(algC)\\n            LPO: LPO_2675(algC)\\n            LPU: LPE509_00575\\n            LPM: LP6_2516(algC)\\n            LPE: lp12_2478\\n            LFA: LFA_2600(algC) LFA_3349(algC)\\n            LHA: LHA_0493(algC) LHA_1994(algC)\\n            LOK: Loa_00702\\n            LCD: clem_05275(algC_1) clem_12820(algC_2)\\n            LSH: CAB17_01790\\n            LLG: 44548918_00390(manB)\\n            TMC: LMI_0645(algC)\\n            MCA: MCA0607(pgm) MCA2782\\n            MMT: Metme_0377 Metme_3325\\n            MDN: JT25_012065 JT25_013415\\n            MDH: AYM39_02995 AYM39_20935\\n            MKO: MKLM6_0637 MKLM6_4213\\n            MAH: MEALZ_0132 MEALZ_1221(pgm)\\n            MPSY: CEK71_00565\\n            MMAI: sS8_4003\\n            FTU: FTT_0414(pgm)\\n            FTQ: RO31_0465 RO31_0466(pgm)\\n            FTF: FTF0414(pgm)\\n            FTW: FTW_1659\\n            FTR: NE061598_02305\\n            FTT: FTV_0384(pgm)\\n            FTG: FTU_0468(pgm)\\n            FTL: FTL_0484\\n            FTH: FTH_0482(pgm)\\n            FTA: FTA_0510\\n            FTS: F92_02625\\n            FTI: FTS_0486(pgm)\\n            FTO: X557_02605\\n            FTC: DA46_211\\n            FTV: CH67_785\\n            FTZ: CH68_519\\n            FTM: FTM_0570(pgm)\\n            FTN: FTN_0514(pgm)\\n            FTX: AW25_1515(pgm)\\n            FTD: AS84_172(pgm)\\n            FTY: CH70_1551\\n            FCF: FNFX1_0501\\n            FCN: FN3523_0474\\n            FHI: FSC454_02380\\n            FPH: Fphi_0327\\n            FPT: BZ13_1746\\n            FPI: BF30_504(pgm)\\n            FPM: LA56_1860(pgm)\\n            FPX: KU46_1050(pgm)\\n            FPZ: LA55_514(pgm)\\n            FPJ: LA02_1939(pgm)\\n            FRT: F7308_1821\\n            FNA: OOM_1081\\n            FNL: M973_03035\\n            FRF: LO80_03930 LO80_08185\\n            FPER: ACH24_01535\\n            FHA: CDV26_08535\\n            FRX: F7310_07980\\n            FRM: BBG19_1282\\n            FRC: KX01_982(pgm)\\n            FGU: SD28_03220\\n            TCX: Tcr_1677 Tcr_2017\\n            TCY: Thicy_0054 Thicy_0652\\n            TAO: THIAE_00375 THIAE_05945\\n            MEJ: Q7A_2032 Q7A_2418\\n            MEC: Q7C_2284 Q7C_2666\\n            CYQ: Q91_1911\\n            CZA: CYCME_0529\\n            CYY: CPC19_03270\\n            PSAL: PSLF89_211\\n            TIG: THII_1310 THII_1311\\n            BLEP: AL038_09905 AL038_13675\\n            NOC: Noc_1719 Noc_2994\\n            NHL: Nhal_2091 Nhal_3802\\n            NWA: Nwat_1388 Nwat_3050\\n            ALV: Alvin_1415\\n            TVI: Thivi_0618\\n            TMB: Thimo_0741 Thimo_3043\\n            MPUR: MARPU_03330\\n            TEE: Tel_03850 Tel_04945\\n            NTT: TAO_0066 TAO_1363\\n            TSY: THSYN_06570 THSYN_20560\\n            AEH: Mlg_2845\\n            HHA: Hhal_2297\\n            HHC: M911_00625 M911_10680\\n            TGR: Tgr7_1484\\n            TKM: TK90_0742 TK90_1093\\n            TNI: TVNIR_0061(xanA_[H]) TVNIR_1448\\n            TTI: THITH_00420 THITH_09415\\n            TVR: TVD_04975 TVD_05820\\n            SSAL: SPISAL_01050\\n            SPIU: SPICUR_01160\\n            EBS: ECTOBSL9_1149 ECTOBSL9_3170\\n            APRS: BI364_00580 BI364_08985 BI364_09320\\n            HNA: Hneap_0489 Hneap_1298\\n            HAZ: A9404_06405\\n            WMA: WM2015_119 WM2015_2251\\n            GAI: IMCC3135_11175(pgm) IMCC3135_32945(algC)\\n            HCH: HCH_01025 HCH_06439\\n            CSA: Csal_2983\\n            HEL: HELO_3829(algC)\\n            HCS: FF32_08710 FF32_18320\\n            HAK: KO116_02920 KO116_03812\\n            HAM: HALO3182 HALO3188 HALO4085\\n            HHU: AR456_02620 AR456_16605\\n            HCO: LOKO_03009(algC)\\n            HSI: BOX17_09815\\n            HALO: BWR19_02090\\n            HHH: CLM76_08400 CLM76_17620\\n            HBE: BEI_3245\\n            HAG: BB497_01225 BB497_09650\\n            HAF: C8233_12790\\n            HALK: CUU95_03495 CUU95_12700\\n            ZPL: ZBT109_0496\\n            HAA: A5892_08490 A5892_13730\\n            CMAI: BFX80_01475\\n            KUS: B9G99_02855 B9G99_05510\\n            KMA: B9H00_09680 B9H00_12310\\n            ABO: ABO_0211(pgm) ABO_0937(algC)\\n            ADI: B5T_00187(pgm) B5T_01749(algC)\\n            APAC: S7S_00400 S7S_10425\\n            ALN: AS19_02180 AS19_09990\\n            AXE: P40_08160 P40_08320\\n            KAK: Kalk_10245\\n            KKO: Kkor_2220\\n            KGE: TQ33_0374\\n            KSD: KS2013_386\\n            KPD: CW740_10355\\n            MMW: Mmwyl1_2159\\n            MME: Marme_2045\\n            MPC: Mar181_1829\\n            TOL: TOL_0208 TOL_1752\\n            TOR: R615_00930 R615_08860\\n            OAI: OLEAN_C38520(manB)\\n            BSAN: CHH28_03010\\n            GSN: YC6258_01082\\n            OME: OLMES_4566\\n            AHA: AHA_1537(pgm)\\n            AHY: AHML_08530\\n            AHD: AI20_11485\\n            AHR: V428_08760\\n            AHP: V429_08765\\n            AHJ: V469_14730\\n            AHH: RY45_08355\\n            AHI: VU14_14875\\n            AAJ: BOQ57_07440\\n            ASA: ASA_2817(pgm)\\n            AEO: O23A_p2033\\n            AVR: B565_2659\\n            AVO: AMS64_16065\\n            AMED: B224_3643\\n            ASR: WL1483_1049(pgm)\\n            ADH: CK627_18395\\n            ACAV: VI35_06585\\n            AEM: CK911_09895\\n            AEA: C2U39_07225\\n            ARV: C7N77_18145\\n            TAU: Tola_0862\\n            OCE: GU3_11190\\n            OCM: CBP12_01990\\n            OPF: CBP31_01755\\n            ZDF: AN401_11490\\n            GAP: GAPWK_1832\\n            FPP: FPB0191_00422\\n            SDF: ACG33_04525\\n            SOK: D0B54_10975\\n            GBI: PG2T_08055 PG2T_12720\\n            SLIM: SCL_0473 SCL_0991\\n            SVA: SVA_2514 SVA_3192\\n            ACII: C4901_04005\\n            SALN: SALB1_1397\\n            TBN: TBH_C1019\\n            SEDS: AAY24_11785\\n            TSN: W908_03710\\n            THO: SP60_00450\\n            PSPI: PS2015_2977\\n            TTC: FOKN1_2379 FOKN1_3032\\n            RMA: Rmag_0456\\n            VOK: COSY_0423\\n            EBH: BSEPE_0826(pmm-)\\n            BCIB: IM45_220\\n            GPB: HDN1F_05220(manB)\\n            ENM: EBS_0293 EBS_1464\\n            NME: NMB0790(pgm)\\n            NMP: NMBB_0894\\n            NMH: NMBH4476_1394\\n            NMD: NMBG2136_0740\\n            NMM: NMBM01240149_1299\\n            NMS: NMBM01240355_0791\\n            NMQ: NMBM04240196_1374(pgm)\\n            NMZ: NMBNZ0533_0840(pgm)\\n            NMA: NMA1001\\n            NMW: NMAA_0620(pgm)\\n            NMX: NMA510612_1122(pgm)\\n            NMC: NMC0743(pgm)\\n            NMN: NMCC_0756(pgm)\\n            NMT: NMV_1606(pgm)\\n            NMI: NMO_0678(pgm)\\n            NGO: NGO0375\\n            NGK: NGK_0533\\n            NLA: NLA_14390(pgm)\\n            NEL: NELON_05080\\n            NWE: SAMEA3174300_0446(algC)\\n            NSI: A6J88_11915\\n            NMJ: NM96_06210\\n            NEI: BG910_02290\\n            SALV: SALWKB2_1231\\n            VFF: VITFI_CDS3306\\n            VIT: ADP71_07940\\n            ECOR: SAMEA4412678_0080(algC)\\n            NBA: CUN60_06000 CUN60_08870\\n            CVI: CV_2172(algC)\\n            CVC: BKX93_00825\\n            CHRO: CXB49_11800\\n            CHRI: DK842_17695\\n            CRZ: D1345_11600\\n            CHRB: DK843_00840\\n            IOD: EJO50_01490 EJO50_09505\\n            LHK: LHK_01493(algC)\\n            PSE: NH8B_1933\\n            JEU: BJP62_15010 BJP62_16485\\n            AQL: BXU06_07990\\n            AMAH: DLM_1866\\n            RSO: RSc0691\\n            RSC: RCFBP_20723(cpsG)\\n            RSL: RPSI07_2659(cpsG)\\n            RSN: RSPO_c02678(cpsG)\\n            RSM: CMR15_30228(cpsG)\\n            RSE: F504_707\\n            RPI: Rpic_0641\\n            RPF: Rpic12D_0600\\n            RPJ: N234_16540\\n            RMN: TK49_07530\\n            RIN: ACS15_0778\\n            RPU: CDC45_03575\\n            REU: Reut_A0745\\n            REH: H16_A1847(manB1) H16_A2885(manB2)\\n            CNC: CNE_1c28230(manB)\\n            CUH: BJN34_15485\\n            RME: Rmet_2716(cpsG)\\n            CTI: RALTA_A2364(cpsG)\\n            CBW: RR42_m3197\\n            CGD: CR3_0520(pmm-pgm)\\n            CCUP: BKK81_06250 BKK81_15960\\n            CUP: BKK80_05555 BKK80_16915\\n            CUU: BKK79_06730 BKK79_15435\\n            CPAU: EHF44_09335\\n            BMA: BMA2191\\n            BMV: BMASAVP1_A0716\\n            BML: BMA10229_A2550\\n            BMN: BMA10247_2064\\n            BMAL: DM55_2273\\n            BMAE: DM78_888\\n            BMAQ: DM76_2257\\n            BMAI: DM57_970\\n            BMAF: DM51_1841\\n            BMAZ: BM44_1163\\n            BMAB: BM45_729\\n            BPS: BPSL2666(pgm)\\n            BPM: BURPS1710b_3143\\n            BPL: BURPS1106A_3119\\n            BPD: BURPS668_3083\\n            BPR: GBP346_A3263\\n            BPSE: BDL_2780\\n            BPSM: BBQ_647\\n            BPSU: BBN_775\\n            BPSD: BBX_1179\\n            BPZ: BP1026B_I0653(pgm)\\n            BPQ: BPC006_I3163\\n            BPK: BBK_2278\\n            BPSH: DR55_1853\\n            BPSA: BBU_2898\\n            BPSO: X996_1494\\n            BUT: X994_3493\\n            BTE: BTH_I1489\\n            BTQ: BTQ_2433\\n            BTJ: BTJ_3232\\n            BTZ: BTL_1162\\n            BTD: BTI_940\\n            BTV: BTHA_1255\\n            BTHE: BTN_225\\n            BTHM: BTRA_1371\\n            BTHA: DR62_392\\n            BTHL: BG87_1385\\n            BOK: DM82_2328\\n            BOC: BG90_2407\\n            BVI: Bcep1808_0826 Bcep1808_6499\\n            BVE: AK36_3034 AK36_5948\\n            BUR: Bcep18194_A3990\\n            BCN: Bcen_0414\\n            BCH: Bcen2424_0893\\n            BCM: Bcenmc03_0863\\n            BCJ: BCAL3113(manB)\\n            BCEN: DM39_6265 DM39_706\\n            BCEW: DM40_1564\\n            BCEO: I35_0760(manB)\\n            BAM: Bamb_0772\\n            BAC: BamMC406_0783\\n            BMU: Bmul_2497\\n            BMJ: BMULJ_00739(manB)\\n            BMK: DM80_783\\n            BMUL: NP80_900\\n            BCT: GEM_2630\\n            BCED: DM42_935\\n            BCEP: APZ15_08165\\n            BDL: AK34_2275\\n            BPYR: ABD05_10095\\n            BCON: NL30_11280\\n            BUB: BW23_833\\n            BDF: WI26_04000\\n            BLAT: WK25_04185\\n            BTEI: WS51_14745\\n            BSEM: WJ12_04085\\n            BPSL: WS57_16390 WS57_21875\\n            BMEC: WJ16_04115\\n            BSTG: WT74_04395\\n            BSTL: BBJ41_07680\\n            BGL: bglu_1g07480\\n            BGU: KS03_1679\\n            BUG: BC1001_0692\\n            BGE: BC1002_0655\\n            BGF: BC1003_0802\\n            BGD: bgla_1g08080\\n            BGO: BM43_2191\\n            BYI: BYI23_A020350\\n            BUK: MYA_0790 MYA_5902\\n            BUO: BRPE64_ACDS21390\\n            BUE: BRPE67_ACDS20980\\n            BUL: BW21_1033\\n            BUQ: AC233_03445\\n            BGP: BGL_1c07370(manB)\\n            BPLA: bpln_1g07270\\n            BUD: AQ610_04565\\n            BUZ: AYM40_03500 AYM40_28455\\n            BUM: AXG89_01800\\n            BUI: AX768_11540\\n            BXE: Bxe_A3701 Bxe_B1518 Bxe_C0545\\n            BXB: DR64_1393 DR64_6826(pgm) DR64_7902(pgm)\\n            BPH: Bphy_2267\\n            BRH: RBRH_01444(manB)\\n            BPX: BUPH_05523\\n            BPY: Bphyt_0920\\n            BFN: OI25_795\\n            BCAI: K788_0007857\\n            PSPW: BJG93_09565\\n            PARA: BTO02_07230\\n            PARB: CJU94_01580\\n            PHS: C2L64_13535\\n            PTER: C2L65_11915\\n            PGP: CUJ91_03655\\n            PCJ: CUJ87_03660\\n            PNU: Pnuc_1092\\n            PNE: Pnec_0781\\n            PDQ: CL55_00007120\\n            POH: DPM16_05285\\n            PPK: U875_02800\\n            PPNO: DA70_19870\\n            PPNM: LV28_10515\\n            PRB: X636_06660\\n            PPUL: RO07_04785\\n            PSPU: NA29_00525\\n            PAPI: SG18_05250\\n            PVE: UC34_20870\\n            POX: MB84_00765\\n            PTX: ABW99_07000 ABW99_13130\\n            PFG: AB870_07700\\n            PNR: AT302_04425 AT302_27060\\n            PLG: NCTC10937_00185(algC) NCTC10937_02652(pgm)\\n            HYF: DTO96_100563(algC) DTO96_100711(pgm)\\n            BPE: BP3141(pgm)\\n            BPC: BPTD_1940(pgm) BPTD_3103(pgm)\\n            BPER: BN118_0978(pgm) BN118_2806(pgm)\\n            BPET: B1917_0681(pgm) B1917_1743(pgm)\\n            BPEU: Q425_15260(pgm) Q425_31190(pgm)\\n            BPA: BPP0800(pgm)\\n            BPAR: BN117_0831(pgm) BN117_1503(pgm)\\n            BBR: BB0885(pgm)\\n            BBM: BN115_0854(pgm) BN115_1702(pgm)\\n            BBH: BN112_1715(pgm) BN112_2557(pgm)\\n            BBX: BBS798_0858(pgm) BBS798_1701(pgm)\\n            BPT: Bpet4021(pgm)\\n            BAV: BAV0520(pgm)\\n            BHO: D560_0468 D560_0469\\n            BHM: D558_0466\\n            BHZ: ACR54_00725(algC)\\n            BTRM: SAMEA390648701810(pgm)\\n            BBRO: BAU06_02580 BAU06_07550\\n            BFZ: BAU07_02705 BAU07_18555\\n            BPDZ: BBN53_18145\\n            BOH: AKI39_02320 AKI39_07380\\n            BGM: CAL15_04320 CAL15_12375\\n            AXY: AXYL_05607\\n            AXO: NH44784_029571 NH44784_060881\\n            AXN: AX27061_4333 AX27061_5360\\n            AXX: ERS451415_04352(algC_1) ERS451415_05389(algC_2)\\n            ADT: APT56_19905 APT56_24625\\n            AIS: BUW96_11605 BUW96_16740\\n            ASW: CVS48_10725 CVS48_23735\\n            ACHR: C2U31_00235 C2U31_26050\\n            ACHB: DVB37_18125 DVB37_24075\\n            TEQ: TEQUI_0943\\n            TEA: KUI_0345\\n            TEG: KUK_0934\\n            TAS: TASI_0329\\n            TAT: KUM_1283\\n            PUT: PT7_2132\\n            AKA: TKWG_20385\\n            AMIM: MIM_c32500(pgm)\\n            CDN: BN940_16351\\n            BPSI: IX83_03345\\n            AFA: UZ73_07745\\n            AFQ: AFA_02745\\n            AAQU: D3M96_03760\\n            ODI: ODI_R3762\\n            OUR: CEQ07_09705\\n            PIG: EGT29_05005\\n            RFR: Rfer_1145\\n            RAC: RA876_15510\\n            RHY: RD110_03095\\n            PNA: Pnap_4496\\n            VAP: Vapar_2943\\n            VPE: Varpa_3215\\n            VPD: VAPA_1c26100\\n            VAA: AX767_03755 AX767_03760 AX767_20205\\n            VBO: CKY39_17605\\n            VAM: C4F17_04420\\n            CBX: Cenrod_1461(pgm)\\n            SIMP: C6571_12885\\n            HAR: HEAR2721\\n            MMS: mma_2943(algC)\\n            JAG: GJA_1068(pgm) GJA_788\\n            JAB: VN23_00900 VN23_11310\\n            JAZ: YQ44_02695 YQ44_03855\\n            JAL: BZG29_23690 BZG29_24940\\n            JSV: CNX70_24125 CNX70_25255\\n            HSE: Hsero_0472(cpsG) Hsero_2663(pgm)\\n            HSZ: ACP92_02355 ACP92_13345\\n            HHT: F506_01325\\n            HRB: Hrubri_0470(cpsG) Hrubri_2753(pgm)\\n            HEE: hmeg3_12485 hmeg3_21155\\n            CFU: CFU_0814 CFU_1723(pgm) CFU_2724(pmm)\\n            CARE: LT85_0901 LT85_2932 LT85_3003\\n            CPRA: CPter91_0953 CPter91_1880 CPter91_2223(pgm)\\n            MNR: ACZ75_23170 ACZ75_24285\\n            MASW: AM586_23335 AM586_24250\\n            MASS: CR152_12610 CR152_13780\\n            MASZ: C9I28_05825 C9I28_23695\\n            MTIM: DIR46_17290 DIR46_18435\\n            MASY: DPH57_16175 DPH57_25610\\n            OFO: BRW83_0683(pgm)\\n            UPV: EJN92_14290\\n            SUTT: SUTMEG_00480(pgm)\\n            LCH: Lcho_1888\\n            TIN: Tint_0945 Tint_1095\\n            THI: THI_1199(manB) THI_1387(pgm)\\n            RGE: RGE_22370(pgm)\\n            RBN: RBXJA2T_07458\\n            BBAG: E1O_07810 E1O_28340\\n            BBAY: A4V04_08715\\n            NEU: NE1895\\n            NET: Neut_2007 Neut_2184\\n            NIT: NAL212_0853\\n            NII: Nit79A3_0032 Nit79A3_1888\\n            NCO: AAW31_09420\\n            NUR: ATY38_00855\\n            NMU: Nmul_A0467 Nmul_A1062\\n            NLC: EBAPG3_004345 EBAPG3_012670\\n            SHD: SUTH_00809(pgm) SUTH_02501\\n            METR: BSY238_3277\\n            TBD: Tbd_2138\\n            MFA: Mfla_1921 Mfla_1925\\n            MMB: Mmol_1563\\n            MEH: M301_1072\\n            MEI: Msip34_0822 Msip34_0827\\n            MEP: MPQ_0865(pgm) MPQ_0867\\n            MBAC: BN1209_1130(pgm) BN1209_1132(pgm)\\n            MBAT: BN1208_0622(pgm)\\n            MEU: ACJ67_10660 ACJ67_10680\\n            SLT: Slit_1882 Slit_2101\\n            GCA: Galf_0512 Galf_2505\\n            SDR: SCD_n00206(pgm) SCD_n01965(manB2)\\n            SULF: CAP31_09975 CAP31_10450\\n            FAM: OYT1_ch1080 OYT1_ch1530\\n            EBA: ebA996\\n            DSU: Dsui_3344\\n            RBU: PG1C_13465 PG1C_13865\\n            RBH: B4966_03420\\n            DAR: Daro_1444 Daro_3299\\n            DEY: HYN24_11910\\n            AZO: azo2778(pgm)\\n            AZA: AZKH_1027\\n            AZI: AzCIB_0901\\n            AOA: dqs_2913\\n            ATW: C0099_06915\\n            ACOM: CEW83_10095\\n            AZD: CDA09_05385\\n            TMZ: Tmz1t_1206 Tmz1t_2749\\n            THU: AC731_004155 AC731_019195\\n            TCL: Tchl_3291\\n            THK: CCZ27_07365 CCZ27_13585\\n            TAK: Tharo_2363\\n            ZPA: C3497_03170\\n            APP: CAP2UW1_2125 CAP2UW1_2943\\n            KDE: CDSE_0307\\n            KSO: CKSOR_00093(algC)\\n            BPRC: D521_0701\\n            BEB: AEM42_07000\\n            BEBA: BWI17_12395\\n            HPY: HP1275(algC)\\n            HEO: C694_06590\\n            HPJ: jhp_1196\\n            HPA: HPAG1_1219\\n            HPS: HPSH_06605\\n            HHP: HPSH112_06380\\n            HHQ: HPSH169_06345\\n            HHR: HPSH417_06265\\n            HPG: HPG27_1220\\n            HPP: HPP12_1241\\n            HPB: HELPY_1252\\n            HPL: HPB8_205(algC)\\n            HPC: HPPC_06270\\n            HCA: HPPC18_06365\\n            HPM: HPSJM_06375\\n            HPE: HPELS_06625\\n            HPO: HMPREF4655_21467\\n            HPI: hp908_1275\\n            HPQ: hp2017_1233\\n            HPW: hp2018_1238\\n            HPU: HPCU_06515\\n            HEF: HPF16_1210(algC)\\n            HPF: HPF30_0122(algC)\\n            HEQ: HPF32_1205(algC)\\n            HEX: HPF57_1234(algC)\\n            HPT: HPSAT_06165\\n            HPZ: HPKB_1211\\n            HPV: HPV225_1309\\n            HPX: HMPREF0462_1291\\n            HEN: HPSNT_06405\\n            HPH: HPLT_06405\\n            HEG: HPGAM_06600\\n            HPN: HPIN_06730\\n            HEP: HPPN120_06270\\n            HEU: HPPN135_06550\\n            HES: HPSA_06270\\n            HPYS: HPSA20_1378\\n            HCN: HPB14_06070\\n            HPD: KHP_1171(manB)\\n            HEY: MWE_1485\\n            HER: C695_06600\\n            HEI: C730_06600\\n            HPYA: HPAKL117_06055\\n            HPYK: HPAKL86_06770\\n            HPYO: HPOK113_1230(algC)\\n            HPYL: HPOK310_1168(algC)\\n            HPYB: HPOKI102_06760\\n            HPYC: HPOKI112_06775\\n            HPYD: HPOKI128_07540\\n            HPYE: HPOKI154_06445\\n            HPYF: HPOKI422_06795\\n            HPYG: HPOKI673_06415\\n            HPYH: HPOKI828_06450\\n            HPYJ: HPOKI898_06770\\n            HPYR: K747_04635\\n            HPYI: K750_02065\\n            HPYU: K751_01230\\n            HPYM: K749_07400\\n            HEM: K748_05820\\n            HEB: U063_0331\\n            HEZ: U064_0332\\n            HHE: HH_0613(glmM_1)\\n            HAC: Hac_0209(algC)\\n            HMS: HMU13960\\n            HFE: HFELIS_08330\\n            HBI: HBZC1_03230\\n            HCE: HCW_02055\\n            HCM: HCD_00480\\n            HCP: HCN_0313(glmM_1)\\n            HCB: HCBAA847_0326(glmM_1)\\n            HHM: BN341_790\\n            HTY: BN2458_PEG1623\\n            HBL: XJ32_07070\\n            HAD: CDV25_01040\\n            WSU: WS2001\\n            TDN: Suden_0623\\n            SUA: Saut_0471 Saut_0647\\n            SKU: Sulku_2078\\n            SULR: B649_09805\\n            CJE: Cj1407c\\n            CJB: BN148_1407c\\n            CJJ: CJJ81176_1406(algC)\\n            CJU: C8J_1321(algC)\\n            CJN: ICDCCJ07001_1338\\n            CJI: CJSA_1338(algC)\\n            CJM: CJM1_1364(algC)\\n            CJS: CJS3_1502(algC)\\n            CJP: A911_06845\\n            CJEJ: N564_01404\\n            CJEU: N565_01444\\n            CJEN: N755_01441\\n            CJEI: N135_01496\\n            CJER: H730_07990\\n            CJV: MTVDSCj20_1383\\n            CJY: QZ67_01542(algC)\\n            CJQ: UC78_1349(algC)\\n            CJL: PJ17_07405\\n            CJW: PJ18_07190\\n            CJR: CJE1594(algC)\\n            CJD: JJD26997_1740(algC)\\n            CJZ: M635_02710\\n            CJX: BN867_13870\\n            CFF: CFF8240_0102\\n            CFT: CFF04554_0103\\n            CFV: CFVI03293_0103\\n            CFX: CFV97608_0103\\n            CFZ: CSG_1040\\n            CAMP: CFT03427_0108\\n            CFP: CR44_00550\\n            CCV: CCV52592_0306\\n            CHA: CHAB381_0418\\n            CCO: CCC13826_0666\\n            CCOC: CCON33237_1181\\n            CLA: CLA_0256\\n            CLR: UPTC16701_0264\\n            CLM: UPTC16712_0268\\n            CLQ: UPTC4110_0263\\n            CLN: UPTC3659_0276\\n            CLL: CONCH_0259\\n            CCOL: BN865_07300\\n            CCC: G157_01810\\n            CCQ: N149_1368\\n            CCF: YSQ_01835\\n            CCY: YSS_07580\\n            CCOI: YSU_01865\\n            CCOF: VC76_07035(algC)\\n            CCOO: ATE51_00752(algC)\\n            CAJ: CIG1485E_0512\\n            CIS: CINS_0255\\n            CVO: CVOL_0251\\n            CPEL: CPEL_0262\\n            CAMR: CAQ16704_0269\\n            CSM: CSUB8521_0272\\n            CSF: CSUB8523_0266\\n            CGRA: CGRAC_1640\\n            CURE: CUREO_0708\\n            CHYO: CHH_0405\\n            CHV: CHELV3228_0157\\n            CSPF: CSF_0870\\n            CPIN: CPIN18020_0942\\n            CCUN: CCUN_0552\\n            CLX: CLAN_0983\\n            CAVI: CAV_0354\\n            CHW: A2J15_004765\\n            CAMZ: CVIC12175_0609\\n            ABU: Abu_0840\\n            ABT: ABED_0768 ABED_1601\\n            ABL: A7H1H_0824 A7H1H_1701\\n            ANT: Arnit_0104 Arnit_0218\\n            ASK: EI285_04375\\n            ARC: ABLL_1070 ABLL_2259\\n            ALP: LPB137_00115 LPB137_09740 LPB137_10340\\n            SDL: Sdel_1799\\n            SBA: Sulba_1885\\n            SMUL: SMUL_2488\\n            SHAL: SHALO_2236\\n            SULS: Sdiek1_2307\\n            SULJ: SJPD1_2241\\n            NSA: Nitsa_1006\\n            NIS: NIS_0946(pgm) NIS_1428\\n            SUN: SUN_1277(pgm) SUN_1934(cpsG)\\n            SLH: YH65_02400\\n            NAM: NAMH_1240\\n            GUR: Gura_2654\\n            GLO: Glov_1605\\n            PCA: Pcar_1779(manB-2) Pcar_1989(pgm)\\n            PPD: Ppro_2017\\n            PACE: A6070_09105\\n            PEF: A7E78_11720\\n            DVU: DVU0685 DVU1428(pgm)\\n            DVL: Dvul_1648 Dvul_2278\\n            DVM: DvMF_0227 DvMF_2673\\n            DVG: Deval_0629 Deval_1859\\n            DDE: Dde_1695 Dde_2945\\n            DDS: Ddes_1209\\n            DDN: DND132_1316\\n            DMA: DMR_25390(pgm) DMR_27100\\n            DSA: Desal_0173 Desal_1293\\n            DAF: Desaf_0487 Desaf_2414\\n            DHY: DESAM_20561(algC) DESAM_22887(pgm)\\n            DGG: DGI_0235(pgm) DGI_3416\\n            DFI: AXF13_06185\\n            DPG: DESPIGER_0613\\n            DEF: CNY67_07810\\n            DTR: RSDT_0341(pgm)\\n            DAS: Daes_0189 Daes_0973\\n            DPI: BN4_11013(celB) BN4_12456(algC)\\n            DEJ: AWY79_07460\\n            PPRF: DPRO_2262(algC) DPRO_2973(pgm)\\n            LIP: LI0674\\n            LIR: LAW_00698\\n            DBA: Dbac_0755 Dbac_2255\\n            DOA: AXF15_01430\\n            DRT: Dret_0485 Dret_1330\\n            DPR: Despr_0542\\n            DOL: Dole_1175\\n            DML: Dmul_19130(pgm) Dmul_39060(algC)\\n            DAL: Dalk_1968 Dalk_2389\\n            DAT: HRM2_08690(pgm) HRM2_40580(algC)\\n            DTO: TOL2_C03070(pgm)\\n            ADE: Adeh_0160 Adeh_2029\\n            ACP: A2cp1_0178 A2cp1_1934\\n            AFW: Anae109_0166 Anae109_1780\\n            ANK: AnaeK_0167 AnaeK_1849\\n            MXA: MXAN_4888(pgm) MXAN_6499(algC)\\n            MFU: LILAB_14025 LILAB_32410\\n            MSD: MYSTI_05377 MYSTI_07120\\n            MYM: A176_000386 A176_001989\\n            MMAS: MYMAC_004781 MYMAC_006206\\n            CCX: COCOR_02542(pgm) COCOR_07094(algC)\\n            SUR: STAUR_2916(pgm) STAUR_7260(algC)\\n            AGE: AA314_00268 AA314_09174\\n            MBD: MEBOL_002226 MEBOL_003157\\n            CFUS: CYFUS_008996 CYFUS_009774\\n            VIN: AKJ08_2724\\n            SCL: sce5498(pgm3) sce8057(algC)\\n            SCU: SCE1572_33235 SCE1572_46750\\n            CCRO: CMC5_008980(cpsG) CMC5_063140(pgm)\\n            SAMY: DB32_003848\\n            LLU: AKJ09_03148\\n            MRM: A7982_09162\\n            HOH: Hoch_5049 Hoch_6650\\n            SAT: SYN_00938 SYN_01343\\n            SFU: Sfum_0481 Sfum_0744\\n            DBR: Deba_0121 Deba_2695\\n            HMR: Hipma_0824\\n            DAV: DESACE_08805\\n            BSED: DN745_06350\\n            BBAT: Bdt_0014(pmm)\\n            BBW: BDW_00055\\n            BBAC: EP01_12110\\n            BEX: A11Q_11\\n            BMX: BMS_2512(pgmA)\\n            HAX: BALOs_1105(pgm)\\n            BSTO: C0V70_07040\\n            MLO: mlr7590\\n            MLN: A9174_28075 A9174_34490\\n            MCI: Mesci_4926 Mesci_4939\\n            MOP: Mesop_2978 Mesop_5436 Mesop_5450\\n            MAM: Mesau_04985 Mesau_05000\\n            MAMO: A6B35_12225 A6B35_12315\\n            MESO: BSQ44_01135 BSQ44_08505\\n            MESW: A9K65_021035 A9K65_027095 A9K65_027165 A9K65_034860\\n            MES: Meso_0831\\n            HOE: IMCC20628_00342\\n            AAK: AA2016_4731 AA2016_4740\\n            AMIH: CO731_04448(algC) CO731_04474(pgm)\\n            PHT: BLM14_16530\\n            PLA: Plav_1053\\n            RBS: RHODOSMS8_00570(algC)\\n            SME: SM_b21081(manB) SMc03925(pgm)\\n            SMK: Sinme_2901\\n            SMQ: SinmeB_2676 SinmeB_3994\\n            SMX: SM11_chr3014(pgm)\\n            SMI: BN406_02703(pgm)\\n            SMEG: C770_GR4Chr2974 C770_GR4pD0912\\n            SMEL: SM2011_b21081(manB) SM2011_c03925(pgm)\\n            SMER: DU99_15720\\n            SMD: Smed_2743\\n            RHI: NGR_b13930(manB) NGR_c28980\\n            SFH: SFHH103_02905 SFHH103_05652(manB)\\n            SFD: USDA257_c11080(algC) USDA257_c53150(pgm)\\n            SIX: BSY16_3831(pgm)\\n            SAME: SAMCFNEI73_Ch3272(pgm) SAMCFNEI73_pC0982(algC)\\n            SINO: SS05631_b58000 SS05631_c13920 SS05631_c13930 SS05631_c33250\\n            EAD: OV14_0351\\n            EAH: FA04_15415\\n            ESJ: SJ05684_c28660\\n            ATU: Atu4074(exoC)\\n            ARA: Arad_3873(pgm)\\n            ATF: Ach5_38540(exoC)\\n            ATA: AWN88_05475\\n            AVI: Avi_3763(pgm)\\n            AGR: AGROH133_12865\\n            AGC: BSY240_3944(pgm)\\n            ARO: B0909_17390\\n            RET: RHE_CH03597(pgm)\\n            REC: RHECIAT_CH0003865(pgm)\\n            REL: REMIM1_CH03672(pgm)\\n            REP: IE4803_CH03976(pgm)\\n            REI: IE4771_CH03914(pgm)\\n            RLE: RL4118(pgm)\\n            RLT: Rleg2_3351\\n            RLG: Rleg_3653\\n            RLB: RLEG3_29320\\n            RLU: RLEG12_28175\\n            RTR: RTCIAT899_CH15310(pgm)\\n            RIR: BN877_II1204(pgm)\\n            RHL: LPU83_3595(pgm)\\n            RGA: RGR602_CH03500(pgm)\\n            RHN: AMJ98_CH03823(pgm)\\n            RPHA: AMC79_CH03778(pgm)\\n            RHT: NT26_2754(pgm)\\n            RHX: AMK02_CH03712(pgm)\\n            RHV: BA939_20725\\n            RHK: Kim5_CH03952(pgm)\\n            REZ: AMJ99_CH03876(pgm)\\n            NGL: RG1141_CH30470\\n            NGG: RG540_CH31230\\n            NEO: CYG48_11145\\n            NEN: NCHU2750_28710(exoC)\\n            LAS: CLIBASIA_05045\\n            LAA: WSI_04875\\n            LAT: CGUJ_05045\\n            LSO: CKC_03620\\n            LCC: B488_06740\\n            LAR: lam_631(pgm)\\n            LAU: G293_05180\\n            SHZ: shn_15525\\n            BME: BMEI1886\\n            BMEL: DK63_1602(pgm)\\n            BMI: BMEA_A0059\\n            BMZ: BM28_A0060\\n            BMG: BM590_A0058\\n            BMW: BMNI_I0056\\n            BMEE: DK62_1347(pgm)\\n            BMF: BAB1_0055(pgm)\\n            BMB: BruAb1_0058(pgm)\\n            BMC: BAbS19_I00530\\n            BAA: BAA13334_I00383\\n            BABO: DK55_77(pgm)\\n            BABR: DO74_1805(pgm)\\n            BABT: DK49_1927(pgm)\\n            BABB: DK48_2049(pgm)\\n            BABU: DK53_73(pgm)\\n            BABS: DK51_1391(pgm)\\n            BABC: DO78_2074(pgm)\\n            BMS: BR0058(pgm)\\n            BSI: BS1330_I0058(pgm)\\n            BSF: BSS2_I0057(pgm)\\n            BSUI: BSSP1_I0053(pgm)\\n            BSUP: BSPT1_I0053(pgm)\\n            BSUV: BSPT2_I0053(pgm)\\n            BSUC: BSSP2_I0053(pgm)\\n            BMT: BSUIS_A0061(pgm)\\n            BSZ: DK67_135(pgm)\\n            BSV: BSVBI22_A0058(pgm)\\n            BSW: IY71_00170\\n            BSG: IY72_00160\\n            BOV: BOV_0058(pgm)\\n            BCS: BCAN_A0059(pgm)\\n            BSK: BCA52141_I1607\\n            BOL: BCOUA_I0058(pgm)\\n            BCAR: DK60_166(pgm)\\n            BCAS: DA85_00285\\n            BMR: BMI_I61(pgm)\\n            BPP: BPI_I59(pgm)\\n            BPV: DK65_1303(pgm)\\n            BCET: V910_101909\\n            BCEE: V568_102149\\n            BVL: BF3285c1_0931(pgm)\\n            BRU: BFS01_00260\\n            OAN: Oant_0065\\n            OAH: DR92_183(pgm)\\n            OPS: A8A54_00055\\n            OCH: CES85_0065(pgm)\\n            BJA: bll8126 blr2389(celB)\\n            BJU: BJ6T_11890 BJ6T_74470\\n            BJP: RN69_05815 RN69_36115\\n            BRA: BRADO0757 BRADO1937(pgm)\\n            BBT: BBta_2244(pgm) BBta_7350\\n            BRS: S23_56190(celB) S23_66610\\n            AOL: S58_56220 S58_68600\\n            BRC: BCCGELA001_03690 BCCGELA001_27940\\n            BRAD: BF49_2415 BF49_3501\\n            BIC: LMTR13_02475 LMTR13_05420 LMTR13_27420\\n            BRO: BRAD285_0254 BRAD285_5354(pgm)\\n            BRK: CWS35_09245 CWS35_35570\\n            BOT: CIT37_00695 CIT37_08445 CIT37_15095\\n            BRQ: CIT40_06445 CIT40_29635\\n            RPA: RPA1484(pgm2) RPA3321(algC)\\n            RPB: RPB_1523 RPB_4039\\n            RPC: RPC_1233 RPC_4239\\n            RPD: RPD_1464 RPD_3793\\n            RPE: RPE_1281 RPE_3492 RPE_4278\\n            RPT: Rpal_1671 Rpal_3744\\n            RPX: Rpdx1_2063 Rpdx1_4037 Rpdx1_4328\\n            NWI: Nwi_0361\\n            NHA: Nham_0458\\n            OCA: OCAR_7560\\n            OCG: OCA5_c05810(algC)\\n            OCO: OCA4_c05800(algC)\\n            BOP: AXW83_20310 AXW83_20905\\n            BOS: BSY19_497 BSY19_840(pgm)\\n            BVV: BHK69_05960 BHK69_27575\\n            BOI: BLM15_20755\\n            VGO: GJW-30_1_00688(algC)\\n            BHE: BH13570(pgm)\\n            BHN: PRJBM_01340(pgm)\\n            BHS: BM1374165_01414(pgm)\\n            BQU: BQ10790(pgm)\\n            BQR: RM11_1000\\n            BBK: BARBAKC583_1175\\n            BTR: BT_1724(pgm)\\n            BTX: BM1374166_01629(pgm)\\n            BGR: Bgr_15070(pgm)\\n            BCD: BARCL_1146(pgm)\\n            BAUS: BAnh1_10480(pgm)\\n            BVN: BVwin_12450(pgm)\\n            BANC: PU02_0182\\n            BAPI: BBC0122_004870\\n            BART: BJB15x_010070\\n            BARA: BA1379B_010180 BA1379B_010190\\n            BARW: BWD162_012420\\n            BARR: Bra60_010980 Bra60_011270\\n            BARO: B11Cv2_010860\\n            BARJ: BJB63x_009930\\n            XAU: Xaut_1929\\n            AZC: AZC_0285\\n            SNO: Snov_2250\\n            MEX: Mext_2887 Mext_4125\\n            MEA: Mex_1p3093(pgm) Mex_1p4513\\n            MDI: METDI3656(pgm) METDI5119\\n            MCH: Mchl_3113 Mchl_4493\\n            MPO: Mpop_3010 Mpop_4607\\n            MZA: B2G69_02535\\n            MRD: Mrad2831_1738\\n            MET: M446_4649 M446_5187\\n            MNO: Mnod_1184 Mnod_2089\\n            MOR: MOC_2141\\n            META: Y590_13955 Y590_20555\\n            MAQU: Maq22A_c03935(pgm)\\n            MPHY: MCBMB27_01368\\n            MEE: DA075_21335\\n            METD: C0214_16070 C0214_22640\\n            METX: A3862_22175\\n            METS: DK389_07750 DK389_31625\\n            MOC: BB934_10370\\n            MIV: C4E04_08395\\n            BID: Bind_3580\\n            MSL: Msil_0212 Msil_2810\\n            CHEL: AL346_06080 AL346_10570\\n            CDQ: BOQ54_16165\\n            HDN: Hden_1865\\n            HDT: HYPDE_31173\\n            HMC: HYPMC_2323\\n            HNI: W911_12000\\n            RVA: Rvan_1388 Rvan_3528\\n            PHL: KKY_2044\\n            FIL: BN1229_v1_2577\\n            FIY: BN1229_v1_3339\\n            DEQ: XM25_11470\\n            DEI: C4375_14370\\n            BVR: BVIR_2756 BVIR_2757\\n            RHZ: RHPLAN_67310\\n            MMYR: MXMO3_00662\\n            MSC: BN69_2936 BN69_3458\\n            MBRY: B1812_02305\\n            MROS: EHO51_02495 EHO51_05065\\n            MTW: CQW49_16590\\n            PLEO: OHA_1_00903(pgm) OHA_1_01727(algC)\\n            MEY: TM49_01130\\n            MAAD: AZF01_05470\\n            MMED: Mame_03845(pgm)\\n            AUA: M673_06625\\n            BRN: D1F64_01020\\n            MCG: GL4_2526\\n            THD: BHV28_16060(pgm)\\n            PSIN: CAK95_06730\\n            HDI: HDIA_2759(pgm) HDIA_4614(algC)\\n            CCR: CC_0085 CC_2264\\n            CCS: CCNA_00083 CCNA_02347\\n            CAK: Caul_1207\\n            CSE: Cseg_0080 Cseg_2915\\n            CHQ: AQ619_11050 AQ619_16725\\n            CMB: CSW64_16960\\n            CFH: C1707_14735 C1707_22150\\n            PZU: PHZ_c2960 PHZ_p0171\\n            PHB: HYN04_02300\\n            BSB: Bresu_0273\\n            BRD: JL11_04360 JL11_16480\\n            BNE: DA69_13090\\n            BRG: A4249_00035 A4249_13075\\n            BRL: BZG35_00390\\n            BVC: CEP68_07845 CEP68_11455\\n            AEX: Astex_2310\\n            CBOT: ATE48_13455\\n            SIL: SPO0946(algC)\\n            SIT: TM1040_0652\\n            RUE: DT065_18120\\n            RUA: D1823_00220\\n            RMB: K529_010115\\n            RSP: RSP_2883(pgm)\\n            RSH: Rsph17029_1529\\n            RSQ: Rsph17025_1137\\n            RSK: RSKD131_1199\\n            RCP: RCAP_rcc01837(pgm)\\n            RHP: LPB142_09310\\n            RBL: B6K69_01930\\n            JAN: Jann_3117\\n            RDE: RD1_2870(pgm)\\n            RLI: RLO149_c015700(pgm)\\n            PDE: Pden_4423\\n            PAMI: JCM7686_0139\\n            PYE: A6J80_10480\\n            PZH: CX676_17165\\n            PARO: CUV01_08745\\n            PARU: CYR75_03410\\n            PAMN: JCM7685_1172(pgm)\\n            PMUT: DPM13_08720\\n            DSH: Dshi_2020(pgm)\\n            KVU: EIO_1761(pgm)\\n            KVL: KVU_1227(pgm)\\n            KRO: BVG79_01472(pgm)\\n            PSF: PSE_2526(algC)\\n            PGA: PGA1_c24340(algC)\\n            PGL: PGA2_c22370(algC)\\n            PGD: Gal_00958\\n            PHP: PhaeoP97_02305(algC)\\n            PPIC: PhaeoP14_02220(algC)\\n            PHQ: D1820_07065\\n            OAT: OAN307_c09550(pgm)\\n            OAR: OA238_c34200(pgm)\\n            OTM: OSB_13560(pgm)\\n            LMD: METH_05200\\n            PTP: RCA23_c07320(pgm)\\n            CID: P73_3062\\n            CMAR: IMCC12053_1747\\n            CEH: CEW89_00640\\n            CMAG: CBW24_13375\\n            MALG: MALG_01984\\n            CON: TQ29_12860\\n            RSU: NHU_03227(pgm)\\n            RHM: B5V46_14525\\n            RHC: RGUI_1793\\n            PPHR: APZ00_03405\\n            HAT: RC74_12555\\n            LAP: ACP90_24415\\n            LAGG: B0E33_07880\\n            LABR: CHH27_24175\\n            DAA: AKL17_4620\\n            YAN: AYJ57_00655\\n            YPAC: CEW88_07060\\n            SUAM: BOO69_03535 BOO69_14510\\n            SPSE: SULPSESMR1_01532(pgm)\\n            SULZ: C1J03_17940 C1J03_22315\\n            SULI: C1J05_16395\\n            SULD: B5M07_05725\\n            DON: BSK21_03370\\n            TPRO: Ga0080559_TMP3991\\n            TOM: BWR18_01275 BWR18_18845\\n            PABY: Ga0080574_TMP4457\\n            THW: BMG03_10855\\n            RMM: ROSMUCSMR3_01243(algC)\\n            ROK: RAK1035_0191\\n            LVS: LOKVESSMR4R_01923(pgm)\\n            AHT: ANTHELSMS3_00769(pgm)\\n            RBG: BG454_11020\\n            SAGU: CDO87_11380\\n            THAS: C6Y53_14165\\n            GEH: HYN69_08880\\n            TAW: EI545_00505\\n            SALO: EF888_01945\\n            SEDI: EBB79_15720\\n            RBZ: B9057_10245\\n            MMR: Mmar10_2488\\n            HNE: HNE_3238\\n            HBA: Hbal_2420\\n            GAK: X907_0500 X907_0541\\n            HBC: AEM38_13160\\n            NAR: Saro_1655\\n            NPP: PP1Y_AT23706 PP1Y_AT30169\\n            NPN: JI59_01490 JI59_04845\\n            NRE: BES08_01930\\n            NOV: TQ38_011385\\n            NOT: C7W88_11000\\n            SPHO: C3E99_17495\\n            SWI: Swit_0539\\n            SPHD: HY78_24000\\n            STAX: MC45_03460\\n            SSAN: NX02_14005\\n            SNJ: A7E77_14615\\n            SMY: BJP26_07970\\n            SPAN: AWL63_08125\\n            SPLK: AV944_17260\\n            SPKC: KC8_01385\\n            SPHF: DM480_11250\\n            SJP: SJA_C1-17850(pgm)\\n            SSY: SLG_08620(pgm)\\n            SYB: TZ53_19435\\n            SBD: ATN00_13575\\n            SPMI: K663_08090\\n            SPHB: EP837_00090\\n            SPHR: BSY17_204(pgm)\\n            SINB: SIDU_05425\\n            SPHT: K426_13590\\n            SHYD: CJD35_12605\\n            SYA: A6768_09330\\n            SCLO: SCLO_1002370\\n            RDI: CMV14_12315\\n            ERY: CP97_05740\\n            AAY: WYH_02546(pgm)\\n            ADO: A6F68_02509(pgm)\\n            CNA: AB433_14930\\n            PNS: A9D12_07160\\n            PORL: BG023_11904\\n            PHZ: CHX26_06415\\n            GOH: B932_1390\\n            GOY: GLS_c05630(celB)\\n            GAL: A0U94_09525\\n            GDI: GDI3137(pgm)\\n            GDJ: Gdia_3234\\n            GXY: GLX_05310\\n            GXL: H845_1641\\n            KNA: B0W47_02175\\n            KEU: S101446_00909\\n            KSC: CD178_02427(pgm)\\n            APT: APA01_15810\\n            APW: APA42C_15810\\n            APF: APA03_15810\\n            APU: APA07_15810\\n            APG: APA12_15810\\n            APQ: APA22_15810\\n            APX: APA26_15810\\n            APZ: APA32_15810\\n            APK: APA386B_513(pgm)\\n            ASZ: ASN_2813(pgm)\\n            ASV: WG31_00015\\n            APER: A0U91_00625\\n            APOM: CPF11_07330\\n            AASC: A4S02_05045\\n            ACET: DS739_00095\\n            ABG: Asbog_00139(pgm)\\n            KBA: A0U89_11495\\n            NCH: A0U93_07835\\n            RRU: Rru_A2115\\n            RRF: F11_10875\\n            RPM: RSPPHO_00816\\n            MAG: amb0574\\n            MGY: MGMSRv2__3812(pgm)\\n            MGRY: MSR1_26030(pgm)\\n            MAGX: XM1_0248(pgm)\\n            MAGN: WV31_03640\\n            ABS: AZOBR_30019(pgm)\\n            ABQ: ABAZ39_00825\\n            ABF: AMK58_12950\\n            AZT: TSH58p_12375\\n            MAGQ: MGMAQ_1539(pgm)\\n            HJO: AY555_00680\\n            PBR: PB2503_01217\\n            MGM: Mmc1_0332 Mmc1_3433\\n            PUB: SAR11_1160(manB)\\n            PEL: SAR11G3_01286 SAR11G3_01287\\n            APM: HIMB5_00004350\\n            PGV: SL003B_3676\\n            PHR: C6569_13280 C6569_14430\\n            AFE: Lferr_1963\\n            AFR: AFE_2324\\n            ACU: Atc_0564\\n            ACZ: Acaty_c0574\\n            AFI: Acife_1053\\n            MAES: Ga0123461_0989 Ga0123461_1567\\n            MFN: Ga0123462_0811 Ga0123462_1342\\n            HTL: HPTL_1455\\n            BSU: BSU09310(pgcA)\\n            BSR: I33_1058\\n            BSL: A7A1_3796\\n            BSH: BSU6051_09310(pgcA)\\n            BSY: I653_04680\\n            BSUT: BSUB_01026(pgcA)\\n            BSUL: BSUA_01026(pgcA)\\n            BSUS: Q433_05290\\n            BSS: BSUW23_04700(pgcA)\\n            BST: GYO_1219\\n            BSO: BSNT_07363(yhxB)\\n            BSN: BSn5_16535\\n            BSQ: B657_09310(pgcA)\\n            BSX: C663_0954(pgcA)\\n            BSP: U712_04740\\n            BLI: BL02901(pgcA)\\n            BLD: BLi00997(pgcA)\\n            BLH: BaLi_c11020(pgcA)\\n            BAY: RBAM_009570(yhxB)\\n            BAQ: BACAU_0917(manB)\\n            BYA: BANAU_0862(yhxB)\\n            BAMP: B938_04570\\n            BAML: BAM5036_0859(yhxB)\\n            BAMA: RBAU_0920(pgcA)\\n            BAMN: BASU_0896(pgcA)\\n            BAMB: BAPNAU_2845(manB)\\n            BAMT: AJ82_05355\\n            BAMY: V529_08920(yhxB)\\n            BMP: NG74_00964(pgcA)\\n            BAO: BAMF_1027(pgcA)\\n            BAZ: BAMTA208_04345(pgcA)\\n            BQL: LL3_01012(pgcA)\\n            BXH: BAXH7_00907(yhxB)\\n            BQY: MUS_0969(yhxB)\\n            BAMI: KSO_015090\\n            BAMC: U471_09390\\n            BAMF: U722_04825\\n            BAE: BATR1942_02255\\n            BVM: B9C48_04770\\n            BHA: BH1106\\n            BAN: BA_5153\\n            BAR: GBAA_5153\\n            BAT: BAS4790\\n            BAH: BAMEG_5210\\n            BAI: BAA_5189\\n            BAX: H9401_4919\\n            BANT: A16_51720\\n            BANR: A16R_52360\\n            BANS: BAPAT_4943\\n            BANH: HYU01_25210\\n            BANV: DJ46_3834(pgcA)\\n            BCE: BC4919\\n            BCA: BCE_5058\\n            BCZ: BCE33L4651(manB)\\n            BCR: BCAH187_A5064\\n            BCB: BCB4264_A5051\\n            BCU: BCAH820_5030\\n            BCG: BCG9842_B0183\\n            BCQ: BCQ_4741(manB) BCQ_5094(manB)\\n            BCX: BCA_5057\\n            BAL: BACI_c49270\\n            BNC: BCN_4817\\n            BCF: bcf_24665\\n            BCER: BCK_10650\\n            BCEF: BcrFT9_03928\\n            BCY: Bcer98_3530\\n            BTK: BT9727_4631(manB)\\n            BTL: BALH_4459(manB)\\n            BTB: BMB171_C4534\\n            BTT: HD73_5217\\n            BTHR: YBT1520_25855\\n            BTHI: BTK_25730\\n            BTC: CT43_CH4922\\n            BTF: YBT020_24160\\n            BTM: MC28_4188\\n            BTG: BTB_c50830(pgcA)\\n            BTI: BTG_24275\\n            BTN: BTF1_23125\\n            BTHT: H175_ch5005\\n            BTHU: YBT1518_27095\\n            BTW: BF38_679(pgcA)\\n            BTHY: AQ980_05185\\n            BWE: BcerKBAB4_4741\\n            BWW: bwei_4848(pgcA) bwei_5419(pgcA2)\\n            BMYO: BG05_1099(pgcA)\\n            BTY: Btoyo_2165\\n            BMYC: DJ92_2007(pgcA)\\n            BBY: CY96_23770 CY96_25390\\n            BCL: ABC1499\\n            BPU: BPUM_0885\\n            BPUM: BW16_04820\\n            BPUS: UP12_04805\\n            BPF: BpOF4_11205(pgcA)\\n            BMQ: BMQ_0533(pgcA)\\n            BMD: BMD_0536(pgcA) BMD_1106\\n            BMH: BMWSH_4109 BMWSH_4698(yhxB)\\n            BMEG: BG04_2826(pgcA)\\n            BCO: Bcell_3661\\n            BCK: BCO26_0507\\n            BAG: Bcoa_0672\\n            BCOA: BF29_3021\\n            BJS: MY9_1027\\n            BACI: B1NLA3E_03680\\n            BIF: N288_06225\\n            BLE: BleG1_1313\\n            BMET: BMMGA3_03785(pgcA)\\n            GST: HW35_14695\\n            BACW: QR42_04615\\n            BACP: SB24_05095\\n            BACB: OY17_07465\\n            BACO: OXB_0093\\n            BACY: QF06_03595\\n            BACL: BS34A_10510(pgcA)\\n            BALM: BsLM_0971\\n            BEO: BEH_03220\\n            BSM: BSM4216_0666\\n            BSJ: UP17_04680 UP17_12685 UP17_21585\\n            BON: A361_06540\\n            BGY: BGLY_1024(pgcA)\\n            BFX: BC359_15425 BC359_17835\\n            BGI: BGM20_19935\\n            BWH: A9C19_16160\\n            BXI: BK049_03495\\n            BHK: B4U37_05815\\n            BKW: BkAM31D_04265(pgcA)\\n            BBEV: BBEV_1038(pgcA)\\n            BKO: CKF48_02910\\n            BALT: CFN77_04730\\n            BACS: AUL54_05825\\n            BMUR: ABE28_004855 ABE28_020215\\n            BSAF: BSL056_04680\\n            BIT: BIS30_15345\\n            OIH: OB3037\\n            OCN: CUC15_15515 CUC15_17840\\n            GKA: GK0363 GK0570 GK3297\\n            GTE: GTCCBUS3UF5_4640 GTCCBUS3UF5_6280\\n            GTK: GT3570_01810 GT3570_02625\\n            GTM: GT3921_16590 GT3921_17385\\n            GLI: GLN3_12305 GLN3_13085\\n            GTN: GTNG_0338(manB) GTNG_0513\\n            GWC: GWCH70_0362 GWCH70_0528\\n            GYC: GYMC61_1242 GYMC61_1388\\n            GYA: GYMC52_0364 GYMC52_0509\\n            GCT: GC56T3_0412 GC56T3_2964\\n            GMC: GY4MC1_1992 GY4MC1_3235\\n            GGH: GHH_c03840(glmM2) GHH_c05500(pgcA1) GHH_c33940(pgcA2) GHH_c33960(pgcA3)\\n            GJF: M493_02120 M493_03115\\n            GEA: GARCT_00410(algC) GARCT_00571(pgcA)\\n            GEL: IB49_09085 IB49_12195 IB49_13260\\n            GSE: GT50_11585 GT50_12505\\n            GSR: GS3922_13010 GS3922_13840\\n            GEJ: A0V43_00370 A0V43_17625\\n            GTH: Geoth_2081 Geoth_3288\\n            PTL: AOT13_06360 AOT13_12380\\n            AFL: Aflv_2333\\n            AGN: AFK25_02620\\n            ANM: GFC28_1975(pgcA)\\n            AAMY: GFC30_955(pgcA)\\n            ANL: GFC29_3459(pgcA)\\n            AXL: AXY_19330(pgm)\\n            LYB: C3943_03805\\n            LYZ: DCE79_02965\\n            HHD: HBHAL_4494\\n            HMN: HM131_04710\\n            TAP: GZ22_15000\\n            VIR: X953_17650\\n            VHL: BME96_17135\\n            VIG: BKP57_08595\\n            VIL: CFK37_07520\\n            VNE: CFK40_02775\\n            VPN: A21D_01864(pgcA)\\n            LAO: AOX59_15400\\n            FPN: ABE65_003125\\n            FAR: ABE41_003120\\n            SJE: AAV35_003150\\n            APAK: AP3564_02855\\n            BSE: Bsel_2540\\n            SAU: SA2279\\n            SAV: SAV2491\\n            SAW: SAHV_2475\\n            SAH: SaurJH1_2569\\n            SAJ: SaurJH9_2517\\n            SAM: MW2411\\n            SAS: SAS2378\\n            SAR: SAR2576\\n            SAC: SACOL2501\\n            SAX: USA300HOU_2482\\n            SAA: SAUSA300_2433\\n            SAO: SAOUHSC_02793\\n            SAE: NWMN_2388\\n            SAD: SAAV_2558\\n            SUU: M013TW_2456\\n            SUV: SAVC_11330\\n            SUE: SAOV_2537\\n            SUJ: SAA6159_02385(manB)\\n            SUK: SAA6008_02527(manB)\\n            SUC: ECTR2_2347\\n            SUT: SAT0131_02687\\n            SUQ: HMPREF0772_10700\\n            SUZ: MS7_2497(pgcA)\\n            SUD: ST398NM01_2547\\n            SUX: SAEMRSA15_23900\\n            SUW: SATW20_26120\\n            SUG: SAPIG2547\\n            SUF: SARLGA251_22720\\n            SAUA: SAAG_00314\\n            SAUE: RSAU_002334\\n            SAUN: SAKOR_02479\\n            SAUS: SA40_2241\\n            SAUU: SA957_2325\\n            SAUG: SA268_2398\\n            SAUZ: SAZ172_2588\\n            SAUT: SAI1T1_2018550\\n            SAUJ: SAI2T2_1018560\\n            SAUK: SAI3T3_1018550\\n            SAUQ: SAI4T8_1018560\\n            SAUV: SAI7S6_1018550\\n            SAUW: SAI5S5_1018490\\n            SAUX: SAI6T6_1018490\\n            SAUY: SAI8T7_1018530\\n            SAUF: X998_2473\\n            SAB: SAB2371\\n            SUY: SA2981_2427\\n            SAUB: C248_2548\\n            SAUM: BN843_25290\\n            SAUC: CA347_2571(pgcA)\\n            SAUR: SABB_01193(pgcA)\\n            SAUI: AZ30_13060\\n            SAUD: CH52_06535\\n            SAMS: NI36_12410\\n            SUH: SAMSHR1132_23120\\n            SEP: SE2042\\n            SER: SERP2055\\n            SEPP: SEB_02049\\n            SEPS: DP17_985(pgcA)\\n            SHA: SH0301\\n            SHH: ShL2_00219(manB)\\n            SSP: SSP1737\\n            SCA: SCA_0664\\n            SLG: SLGD_00511\\n            SLN: SLUG_05090\\n            SSD: SPSINT_0751\\n            SDT: SPSE_1757(pgcA)\\n            SWA: A284_02050\\n            SPAS: STP1_0981\\n            SXY: BE24_02595\\n            SXL: SXYLSMQ121_1738\\n            SXO: SXYL_01881(pgcA)\\n            SHU: SHYC_09090(pgcA)\\n            SCAP: AYP1020_0378(pgcA)\\n            SSCH: LH95_08500\\n            SSCZ: RN70_08985\\n            SAGQ: EP23_01335\\n            SEQO: SE1039_08130 SE1039_26290\\n            SSIF: AL483_06620\\n            SCV: A4G25_04615\\n            SPET: CEP67_00115\\n            SLZ: B5P37_09290\\n            SCOH: BZ166_00600\\n            SSCU: CEP64_10605\\n            SNL: BJD96_09645\\n            SKL: C7J89_02290 C7J89_10445\\n            SFQ: C7J90_07020\\n            MCL: MCCL_0779\\n            MCAK: MCCS_10080(pgcA)\\n            MACR: BHM04_05545\\n            SHV: AAT16_05530\\n            SBAC: BVH56_06645\\n            LMO: lmo2475\\n            LMN: LM5578_2670\\n            LMY: LM5923_2619\\n            LMT: LMRG_01773\\n            LMOC: LMOSLCC5850_2478\\n            LMOE: BN418_2931 BN418_2932\\n            LMOB: BN419_2942 BN419_2943\\n            LMOD: LMON_2487\\n            LMOW: AX10_06445\\n            LMOQ: LM6179_1729(pgcA)\\n            LMR: LMR479A_2600(pgcA)\\n            LMOM: IJ09_12430\\n            LMF: LMOf2365_2448\\n            LMC: Lm4b_02444\\n            LMOG: BN389_24380(pgcA_2)\\n            LMP: MUO_12355\\n            LMOL: LMOL312_2435\\n            LMOJ: LM220_14192\\n            LMOZ: LM1816_14687\\n            LMOX: AX24_10300\\n            LMH: LMHCC_0125\\n            LMQ: LMM7_2517(pgm)\\n            LML: lmo4a_2477\\n            LMG: LMKG_02563\\n            LMS: LMLG_1823\\n            LMJ: LMOG_02389\\n            LMW: LMOSLCC2755_2480\\n            LMX: LMOSLCC2372_2537\\n            LMZ: LMOSLCC2482_2478\\n            LMON: LMOSLCC2376_2367 LMOSLCC2376_2368\\n            LMOS: LMOSLCC7179_2386\\n            LMOO: LMOSLCC2378_2478\\n            LMOY: LMOSLCC2479_2536\\n            LMOT: LMOSLCC2540_2508\\n            LMOA: LMOATCC19117_2484\\n            LMOK: CQ02_12565\\n            LMV: Y193_03340\\n            LIN: lin2618\\n            LWE: lwe2423\\n            LSG: lse_2375(manB)\\n            LIV: LIV_2382\\n            LII: JL52_12570\\n            LIW: AX25_12760\\n            LIA: JL58_12775\\n            LIO: JL53_13265\\n            LWI: UE46_03095 UE46_07390\\n            BTHS: CNY62_01030\\n            ESI: Exig_0673\\n            EAT: EAT1b_2438\\n            EAN: Eab7_0647(pgcA)\\n            EXM: U719_03590\\n            EXU: ESP131_06015\\n            GOT: AXE85_07020\\n            GMO: NCTC11323_01232(pgcA)\\n            GEQ: CG018_00625\\n            BBE: BBR47_17570(pgcA)\\n            BFM: BP422_03960\\n            PJD: Pjdr2_5787\\n            GYM: GYMC10_0581 GYMC10_5894\\n            PPY: PPE_04441\\n            PPM: PPSC2_23185(manB1)\\n            PPO: PPM_4603(manB1)\\n            PPOL: X809_39715\\n            PPQ: PPSQR21_046900\\n            PPOY: RE92_14075\\n            PMS: KNP414_00081(pgcA)\\n            PMQ: PM3016_78\\n            PMW: B2K_00385\\n            PTA: HPL003_04690\\n            PLV: ERIC2_c00790(pgcA)\\n            PSAB: PSAB_22425\\n            PDU: PDUR_25370\\n            PBD: PBOR_33685\\n            PGM: PGRAT_30090\\n            POD: PODO_28670\\n            PAEN: P40081_35020\\n            PAEF: R50345_28710\\n            PAEQ: R50912_31655\\n            PSTE: PSTEL_25140\\n            PAEA: R70723_30505\\n            PAEE: R70331_29275\\n            PAEH: H70357_05470 H70357_32805\\n            PAEJ: H70737_28385\\n            PBJ: VN24_08110\\n            PIH: UB51_20240\\n            PRI: PRIO_6302(pgcA)\\n            PPEO: ABE82_23335\\n            PNP: IJ22_42060 IJ22_48990\\n            POW: IJ21_06310 IJ21_24820\\n            PBV: AR543_22610\\n            PXL: BS614_00140\\n            PYG: AWM70_17345\\n            PSWU: SY83_10855\\n            PDH: B9T62_29455\\n            PIB: BBD41_00460 BBD41_16465\\n            PCX: LPB68_14030\\n            PKB: B4V02_02080\\n            PAIH: ASL14_14595\\n            PVO: PVOR_05218 PVOR_31919\\n            PLW: D5F53_00385 D5F53_26620\\n            TCO: Theco_3831\\n            ANX: ACH33_10745 ACH33_13305\\n            ASOC: CB4_03391(pgcA)\\n            COH: EAV92_17405\\n            AAC: Aaci_2578\\n            AAD: TC41_2872(manB)\\n            BTS: Btus_1356\\n            KYR: CVV65_01945\\n            TAB: CIG75_02625\\n            SSIL: SOLI23_03990\\n            SOB: CSE16_02805\\n            PLN: Plano_0829\\n            PKU: AUO94_12000\\n            PRT: AUC31_04870\\n            PLL: I858_002850\\n            PANA: BBH88_15965\\n            PDG: BCM40_11380\\n            PHC: BBI08_00655\\n            PMAR: B0X71_13740\\n            PPLA: BBI15_00870\\n            PFAE: AJGP001_05200\\n            PLX: CW734_06610\\n            JEO: JMA_12960\\n            SPSY: AZE41_09955 AZE41_19045\\n            SPOS: DV702_01300\\n            PAEK: D3873_10090\\n            NTR: B0W44_16640\\n            LFB: C1X05_03635\\n            LGR: LCGT_1574\\n            LGV: LCGL_1596\\n            LPK: LACPI_0565(pgcA)\\n            LRN: CMV25_02205\\n            SPY: SPy_1224(pgmA)\\n            SPZ: M5005_Spy0938(pgmA)\\n            SPYM: M1GAS476_0996(pgmA)\\n            SPYA: A20_0974(pgmA)\\n            SPM: spyM18_1176\\n            SPG: SpyM3_0864(pgmA)\\n            SPS: SPs1064\\n            SPH: MGAS10270_Spy1052(pgmA)\\n            SPI: MGAS10750_Spy1087(pgmA)\\n            SPJ: MGAS2096_Spy0997(pgmA)\\n            SPK: MGAS9429_Spy1041(pgmA)\\n            SPF: SpyM50618 SpyM50860(pgmA)\\n            SPA: M6_Spy0927\\n            SPB: M28_Spy0910(pgmA)\\n            STG: MGAS15252_0935(pgm)\\n            STX: MGAS1882_0930(pgm)\\n            SOZ: Spy49_0970(pgmA)\\n            STZ: SPYALAB49_000929\\n            SPYH: L897_04640\\n            SPYO: STAB901_05280\\n            SPN: SP_1498(pgm)\\n            SPD: SPD_1326(pgm)\\n            SPR: spr1351(pgm)\\n            SPW: SPCG_1481(pgm)\\n            SJJ: SPJ_1399\\n            SNV: SPNINV200_13340(pgmA)\\n            SPX: SPG_1421\\n            SNT: SPT_1435\\n            SND: MYY_1427\\n            SPNN: T308_06785\\n            SNE: SPN23F14630(pgmA)\\n            SPV: SPH_1610\\n            SNC: HMPREF0837_11732\\n            SNM: SP70585_1536\\n            SPP: SPP_1518\\n            SNI: INV104_12720(pgmA)\\n            SPNG: HMPREF1038_01481\\n            SNB: SP670_0799\\n            SNP: SPAP_1521\\n            SNX: SPNOXC03620(pgm) SPNOXC13110(pgmA)\\n            SNU: SPNA45_00722(pgmA) SPNA45_01684\\n            SPNE: SPN034156_03990(pgmA) SPN034156_14180(pgm)\\n            SPNU: SPN034183_03680(pgm) SPN034183_13100(pgmA)\\n            SPNM: SPN994038_03560(pgm) SPN994038_12990(pgmA)\\n            SPNO: SPN994039_03570(pgm) SPN994039_13000(pgmA)\\n            SAG: SAG1066(pgm)\\n            SAN: gbs1100\\n            SAK: SAK_1155\\n            SGC: A964_1041(pgm)\\n            SAGS: SaSA20_0890(pgmA)\\n            SAGL: GBS222_0892\\n            SAGM: BSA_11390\\n            SAGI: MSA_11880\\n            SAGR: SAIL_11810\\n            SAGP: V193_04890\\n            SAGC: DN94_04890\\n            SAGT: GBSCOH1_0975\\n            SAGE: EN72_05955\\n            SAGG: EN73_05520\\n            SAGN: W903_1154\\n            SMU: SMU_1077(pgm)\\n            SMC: SmuNN2025_0959(pgm)\\n            SMUT: SMUGS5_04755\\n            SMJ: SMULJ23_0958(pgm)\\n            SMUA: SMUFR_0940(pgm)\\n            STC: str0787(pgmA)\\n            STL: stu0787(pgmA)\\n            STE: STER_0833\\n            STN: STND_0778\\n            STU: STH8232_0970(pgmA)\\n            STW: Y1U_C1071\\n            STHE: T303_05140\\n            STHS: AVT04_01070\\n            SSA: SSA_1204(pgm)\\n            SSB: SSUBM407_1186(pgmA)\\n            SSU: SSU05_0686\\n            SSV: SSU98_0687\\n            SSI: SSU0644(pgmA)\\n            SSS: SSUSC84_0611(pgmA)\\n            SSF: SSUA7_0640\\n            SSW: SSGZ1_0675\\n            SUP: YYK_03050\\n            SSUS: NJAUSS_0742\\n            SST: SSUST3_0849\\n            SSUY: YB51_4200 YB51_4205\\n            SSK: SSUD12_1118\\n            SSQ: SSUD9_0860\\n            SUI: SSUJS14_0775\\n            SUO: SSU12_0641\\n            SRP: SSUST1_1130\\n            SSUT: TL13_1096(pgmA)\\n            SSUI: T15_1302(pgm)\\n            SGO: SGO_1215(manB)\\n            SEZ: Sez_0941(pgmA)\\n            SEQ: SZO_10200\\n            SEZO: SeseC_01237(manB)\\n            SEQU: Q426_04460\\n            SEU: SEQ_1067\\n            SUB: SUB0946(pgmA)\\n            SDS: SDEG_1043(pgmA)\\n            SDG: SDE12394_05835\\n            SDA: GGS_1002(pgmA)\\n            SDC: SDSE_1075(manB)\\n            SDQ: SDSE167_1148(pgmA)\\n            SGA: GALLO_1123\\n            SGG: SGGBAA2069_c11110(manB)\\n            SGT: SGGB_1113(manB)\\n            SMB: smi_1173(pgmA)\\n            SOR: SOR_0952(pgmA)\\n            STK: STP_0782(pgmA)\\n            STB: SGPB_0982(manB)\\n            SCP: HMPREF0833_10457(pgcA)\\n            SCF: Spaf_0997(manB)\\n            SSR: SALIVB_0854(pgm2)\\n            STF: Ssal_00935(manB)\\n            STJ: SALIVA_1246(pgmA)\\n            STRS: SSAL8618_06115\\n            SSAH: HSISS4_01102(pgmA)\\n            STD: SPPN_07340\\n            SMN: SMA_1040(pgcA)\\n            SIF: Sinf_0963(pgm)\\n            SIE: SCIM_1027(pgm)\\n            SIB: SIR_0574(pgm)\\n            SIU: SII_0554(pgm)\\n            SANG: SAIN_1090(pgm)\\n            SANC: SANR_1220(pgm)\\n            SANS: DK43_04605\\n            SCG: SCI_0746(pgm)\\n            SCON: SCRE_0726(pgm)\\n            SCOS: SCR2_0726(pgm)\\n            SOI: I872_04700\\n            SIK: K710_0996\\n            SIQ: DQ08_04530\\n            SIO: DW64_04525\\n            SIZ: SI82_04735\\n            SLU: KE3_1045\\n            SIG: N596_02300\\n            SIP: N597_04015\\n            STV: V470_04390\\n            SPAT: A0O21_04420\\n            STRA: ATM98_02315\\n            STRN: SNAG_0961(pgcA)\\n            SSOB: DK181_06210\\n            LPL: lp_0764(pgm)\\n            LPJ: JDM1_0633(pgm)\\n            LPT: zj316_0825(pgm3)\\n            LPS: LPST_C0594(pgm)\\n            LPR: LBP_cg0570\\n            LPZ: Lp16_0604\\n            LPB: SH83_03075\\n            LJO: LJ_0862\\n            LJF: FI9785_1346(pgm)\\n            LJH: LJP_1290c\\n            LJN: T285_06490\\n            LAC: LBA0687\\n            LAI: LAC30SC_03430\\n            LAD: LA14_0713\\n            LAF: SD55_0709\\n            LSA: LCA_0521(pgm)\\n            LSL: LSL_1176(glmM)\\n            LSI: HN6_00978(glmM)\\n            LSJ: LSJ_1170c(glmM)\\n            LDB: Ldb1773(pgm)\\n            LBU: LBUL_1643\\n            LDE: LDBND_1663\\n            LDL: LBU_1503\\n            LBR: LVIS_1907\\n            LBK: LVISKB_1891\\n            LCA: LSEI_0949\\n            LCZ: LCAZH_0892\\n            LPQ: AF91_09170\\n            LPI: LBPG_00120\\n            LPAP: LBPC_0889\\n            LCB: LCABL_10630(pgm)\\n            LCS: LCBD_1044\\n            LCE: LC2W_1049\\n            LCW: BN194_10370(pgcA)\\n            LCL: LOCK919_1094\\n            LCX: LCA12A_2237\\n            LGA: LGAS_1319\\n            LRE: Lreu_0380\\n            LRF: LAR_0369\\n            LRU: HMPREF0538_21591(pgcA)\\n            LRT: LRI_1560\\n            LRR: N134_01985\\n            LHE: lhv_0728\\n            LHL: LBHH_1433\\n            LHR: R0052_08275\\n            LHV: lhe_0694\\n            LHH: LBH_0584\\n            LHD: HUO_08625\\n            LFE: LAF_0350\\n            LFR: LC40_0247\\n            LFF: LBFF_0374\\n            LRH: LGG_00921(pgm)\\n            LRG: LRHM_0878\\n            LRL: LC705_00969(pgm)\\n            LRA: LRHK_948\\n            LRO: LOCK900_0880\\n            LRC: LOCK908_0986\\n            LCR: LCRIS_00689(pgm2)\\n            LAM: LA2_03535\\n            LAY: LAB52_03385\\n            LBH: Lbuc_2078\\n            LBN: LBUCD034_2171(pgmA)\\n            LKE: WANG_0963(pgm2)\\n            LRM: LRC_06250\\n            LSN: LSA_12330(pgcA)\\n            LAW: LACWKB8_0667\\n            LHO: LOOC260_116920(pgm)\\n            LMU: LBLM1_09200\\n            LAE: LBAT_1151\\n            LGN: ABM34_12210\\n            LKO: ABN16_08640\\n            LHI: JP39_08010\\n            LKU: APS55_03985\\n            LGL: AO203_06185\\n            LPX: ASU28_04485\\n            LOR: AYI71_07480\\n            LPAR: FAM21731_01332\\n            LLE: AYR59_02850\\n            LPD: AYR62_09720\\n            LJE: BUE77_03225\\n            LCU: PL11_004980\\n            LCT: BI355_1528\\n            LBT: AYR52_06680\\n            LCV: FBA2_02850\\n            LAH: LA20533_06710\\n            LAMY: B1745_04730\\n            LAGL: BEN83_00865\\n            LZY: LZ3411_1925\\n            LPG: BB562_13210\\n            LCY: LC20004_10875\\n            LACA: LAC1533_0839\\n            LALW: BTM29_07010\\n            LALI: LA20249_04990\\n            PPE: PEPE_0446\\n            PPEN: T256_02340\\n            PCE: PECL_538\\n            PDM: ADU72_1632\\n            PACI: A4V11_09015\\n            PIO: PI20285_06955\\n            EFA: EF2425\\n            EFL: EF62_2643\\n            EFI: OG1RF_11856(pgcA)\\n            EFD: EFD32_2042\\n            EFS: EFS1_1950(pgmA)\\n            EFN: DENG_02379(pgm)\\n            EFQ: DR75_1171\\n            EFC: EFAU004_02002\\n            EFAU: EFAU085_01969 EFAU085_02019\\n            EFU: HMPREF0351_11939(pgm) HMPREF0351_11988(pgm2)\\n            EFM: M7W_1009\\n            EFT: M395_04230\\n            EHR: EHR_08815\\n            ECAS: ECBG_00703\\n            EMU: EMQU_1925(pgm2)\\n            EDU: LIU_10730\\n            EGA: AL523_14950\\n            ESS: ATZ33_05410\\n            ETH: CK496_03240\\n            EGV: EGCR1_01870\\n            MPS: MPTP_1238\\n            MPX: MPD5_0717\\n            THL: TEH_17050(pgm)\\n            TOO: C7K38_10990\\n            TKR: C7K43_04925\\n            VTE: BHY08_01800 BHY08_06130\\n            VPI: BW732_01225\\n            OOE: OEOE_0367\\n            OEN: DSM07_07200\\n            LME: LEUM_0606\\n            LMM: MI1_02735\\n            LMK: LMES_0534\\n            LCI: LCK_01246(pgm3)\\n            LKI: LKI_08375\\n            LEC: LGMK_03760\\n            LCN: C270_02470\\n            LGS: LEGAS_0668(pgm)\\n            LGE: C269_03200\\n            LLF: BCR17_06390\\n            LGC: A9176_00145\\n            LSU: A6B45_02935\\n            WKO: WKK_00655\\n            WCE: WS08_0862\\n            WCT: WS74_0928\\n            WCI: WS105_0925\\n            WCB: AO080_09980\\n            WJO: FOL01_0610\\n            WPA: CO680_05265\\n            AUR: HMPREF9243_0351\\n            AUN: AWM73_07720\\n            AUI: APT62_01280\\n            ASAN: AWM72_05805\\n            ACG: AWM71_02580\\n            AVS: AWM76_09300\\n            AUH: AWM75_05250\\n            ABAE: CL176_11430\\n            CRN: CAR_c03910(pgcA)\\n            CML: BN424_2704(pgcA)\\n            CAW: Q783_01485 Q783_06905\\n            CARC: NY10_2157\\n            CDJ: BFC22_03780\\n            MARR: BKP56_05845\\n            JEP: BW721_06790\\n            JDA: BW727_100032(pgcA)\\n            JEH: EJN90_08155\\n            CAC: CA_C2337\\n            CAE: SMB_G2371\\n            CAY: CEA_G2351\\n            CPE: CPE1873\\n            CPF: CPF_2127\\n            CPR: CPR_1841\\n            CTC: CTC_00454 CTC_00779\\n            CTET: BN906_00486 BN906_00818\\n            CNO: NT01CX_1230 NT01CX_1776\\n            CBO: CBO3114(pgcA) CBO3619\\n            CBA: CLB_3145 CLB_3712\\n            CBH: CLC_3018 CLC_3618\\n            CBY: CLM_3521 CLM_4124\\n            CBL: CLK_2509 CLK_3103\\n            CBK: CLL_A2461\\n            CBB: CLD_0855 CLD_1425\\n            CBI: CLJ_B3381 CLJ_B3958\\n            CBN: CbC4_0355 CbC4_0988\\n            CBT: CLH_2229\\n            CBF: CLI_3174 CLI_3864\\n            CBM: CBF_3163 CBF_3813\\n            CBJ: H04402_03196 H04402_03719\\n            CBE: Cbei_0983\\n            CBZ: Cbs_0983\\n            CBEI: LF65_01035\\n            CKL: CKL_0798(pgm1) CKL_3180(pgm2)\\n            CKR: CKR_2818\\n            CLJ: CLJU_c34210(pgm)\\n            CCB: Clocel_2120 Clocel_2806\\n            CLS: CXIVA_11800\\n            CLB: Clo1100_1121\\n            CSR: Cspa_c10680(pgcA)\\n            CPAS: Clopa_0885 Clopa_3053\\n            CPAT: CLPA_c16930(pgcA1)\\n            CPAE: CPAST_c16930(pgcA1)\\n            CSB: CLSA_c12290(pgcA1) CLSA_c42240(pgcA2)\\n            CAH: CAETHG_1320\\n            CLT: CM240_2048(pgcA)\\n            CBV: U729_2882(pgcA)\\n            CSQ: CSCA_4777\\n            CLD: CLSPO_c32100(pgcA1) CLSPO_c38130(pgcA2)\\n            CACE: CACET_c02390(pgcA)\\n            CCK: Ccar_17295\\n            CBUT: ATN24_06590\\n            CTYK: CTK_C08610(pgm)\\n            CEU: A7L45_12185 A7L45_20360\\n            CTAE: BGI42_09575\\n            CFM: BJL90_06815\\n            CCHV: BTM20_08410\\n            CARG: RSJ17_05320 RSJ17_21445\\n            CDRK: B9W14_20985\\n            CIA: BEN51_03840\\n            AMT: Amet_0707\\n            ASF: SFBM_0925\\n            ASM: MOUSESFB_0863\\n            ASO: SFBmNL_01000\\n            ASB: RATSFB_0782\\n            GFE: Gferi_10925 Gferi_25635\\n            CLO: HMPREF0868_0620\\n            FSA: C5Q98_06610\\n            CTH: Cthe_1265\\n            CTX: Clo1313_0993\\n            CCL: Clocl_2234\\n            HSC: HVS_10890(pgcA)\\n            RUK: A4V00_08560\\n            CCE: Ccel_1417\\n            CSS: Cst_c14620(pgcA)\\n            CSD: Clst_1411\\n            CTHD: CDO33_05685\\n            ESR: ES1_08860\\n            ESU: EUS_21740\\n            CCEL: CCDG5_0020(pgcA) CCDG5_0084 CCDG5_2017\\n            RBP: B6259_01995 B6259_09970\\n            FPLA: A4U99_13385\\n            EHA: Ethha_0894 Ethha_2738\\n            RAL: Rumal_2924\\n            RCH: RUM_00620\\n            RUM: CK1_06220 CK1_35510\\n            RUS: RBI_II00024\\n            FPR: FP2_09940\\n            FPA: FPR_17190 FPR_27610 FPR_28530\\n            BPB: bpr_I0554\\n            BFI: CIY_04690 CIY_10220\\n            BHU: bhn_I0539 bhn_I0880\\n            CLE: Clole_4133\\n            RHO: RHOM_02325 RHOM_11485\\n            RIX: RO1_18010 RO1_37000\\n            RIM: ROI_36270\\n            COO: CCU_19730 CCU_22890 CCU_22920 CCU_22930\\n            CCT: CC1_12580\\n            ROB: CK5_21180\\n            BYL: A4V09_07535 A4V09_13345\\n            RTO: RTO_29940\\n            BHAN: CGC63_02640 CGC63_14990\\n            BLAU: DQQ01_13650\\n            CPY: Cphy_2261\\n            LACY: A4V08_21280 A4V08_21515\\n            CSH: Closa_0391 Closa_2990\\n            CSO: CLS_36150\\n            CBOL: CGC65_26485 CGC65_26975\\n            BPRL: CL2_20460\\n            HSD: SD1D_0300(pgcA)\\n            CPRO: CPRO_01990(pgcA)\\n            LUA: D4A81_04015\\n            ERE: EUBREC_2615\\n            ERT: EUR_25390\\n            ERA: ERE_08670\\n            LBW: C3V36_02945 C3V36_12065\\n            CDF: CD630_15770(pgm) CD630_27800(pgm)\\n            PDC: CDIF630_01746(pgcA1) CDIF630_03043(pgcA2)\\n            CDC: CD196_1499(pgm1) CD196_2621(pgm2)\\n            CDL: CDR20291_1474(pgm1) CDR20291_2668(pgm2)\\n            PDF: CD630DERM_15770(pgm) CD630DERM_27800(pgmA)\\n            EAC: EAL2_c03080(pgcA)\\n            CST: CLOST_1665\\n            FAA: HMPREF0389_00891\\n            PSOR: RSJ16_15310\\n            STH: STH1118 STH2734\\n            SWO: Swol_2154\\n            SLP: Slip_0765\\n            DSY: DSY1669\\n            DHD: Dhaf_2815\\n            DDH: Desde_2272\\n            DDL: Desdi_1936\\n            DMT: DESME_07240\\n            DRM: Dred_1398 Dred_3126\\n            DCA: Desca_2159\\n            DGI: Desgi_1560\\n            PTH: PTH_0398(ManB)\\n            SGY: Sgly_0866 Sgly_2218\\n            DOR: Desor_3292\\n            DAI: Desaci_2994\\n            DMI: Desmer_2553\\n            DED: DHBDCA_p1082 DHBDCA_p2783\\n            DEC: DCF50_p1146 DCF50_p2789\\n            DRS: DEHRE_13735\\n            EEL: EUBELI_01623\\n            ELM: ELI_4121\\n            EHL: EHLA_0345\\n            AWO: Awo_c02270(pgm1)\\n            OVA: OBV_18450(pgm)\\n            TMR: Tmar_1881\\n            SAY: TPY_0767(manB)\\n            SAP: Sulac_2873\\n            CMIU: B1H56_02750\\n            IBU: IB211_02913\\n            MDV: C5Q96_08565\\n            EUU: ADJ67_04305\\n            BPRM: CL3_00180\\n            BPRS: CK3_05150\\n            CBAR: PATL70BA_1642(pgcA) PATL70BA_2235(pgcA)\\n            TTE: TTE0731(CpsG)\\n            TEX: Teth514_2238\\n            THX: Thet_0696\\n            TPD: Teth39_1557\\n            TIT: Thit_0714\\n            TMT: Tmath_0765\\n            TBO: Thebr_1593\\n            TWI: Thewi_0859 Thewi_2676\\n            TKI: TKV_c07170(algC)\\n            TEP: TepRe1_0656\\n            TAE: TepiRe1_0713(algC)\\n            ADG: Adeg_0496\\n            TPZ: Tph_c29090(manB)\\n            TOC: Toce_0825\\n            TTM: Tthe_1016\\n            TTO: Thethe_00968\\n            TXY: Thexy_1711\\n            TSH: Tsac_1474\\n            MAS: Mahau_1369\\n            HOR: Hore_17410\\n            HAS: Halsa_0449\\n            HPK: Hprae_1925\\n            HALS: D7D81_04920\\n            AAR: Acear_2143\\n            HHL: Halha_0109\\n            AFT: BBF96_11235\\n            PED: ING2D1G_0633(pgm)\\n            CAD: Curi_c02210(pgcA)\\n            VPR: Vpar_1545\\n            VAT: B7L28_07890\\n            VRM: 44547418_01646(pgm)\\n            MED: MELS_1912\\n            MHW: ACT01_09825\\n            MEG: DKB62_01840\\n            SRI: SELR_25710\\n            PUF: UFO1_0072 UFO1_0374\\n            PFT: JBW_04249 JBW_04424\\n            ERH: ERH_1579\\n            ERS: K210_06405\\n            ERL: AOC36_10880\\n            ERI: EEI45_02290\\n            EUC: EC1_09140 EC1_09150\\n            TUR: AT726_08790\\n            FRO: AALO17_14070\\n            ERB: A4V01_20985\\n            EBM: SG0102_03270\\n            LPIL: LIP_1103\\n            CPO: COPRO5265_0166\\n            MMYM: MMS_A0911\\n            MMYI: mycmycITA_00869(pgcA)\\n            MML: MLC_7500(manB)\\n            MCAC: MCCP01_0854(pgcA)\\n            MCAP: MCCPF38_00884(pgcA)\\n            MCAR: MCCPILRI181_00885(pgcA)\\n            MCAI: MCCG_0854\\n            MLC: MSB_A0787\\n            MLH: MLEA_007460\\n            MBV: MBOVPG45_0350\\n            MBH: MMB_0500\\n            MBI: Mbov_0539(manB)\\n            MBQ: K668_02505\\n            MPF: MPUT_0122\\n            MPUT: MPUT9231_6200(manB)\\n            MCR: MCFN_00695(manB)\\n            MCM: MCAL160_0859(manB)\\n            MYT: MYE_03625(manB)\\n            MYG: ASO20_00935\\n            MBOV: MBVG596_0220\\n            ACL: ACL_0849\\n            ABRA: BN85308620(pgm)\\n            APAL: BN85407640(pgm)\\n            AOC: Aocu_09550(pgm)\\n            MFW: mflW37_1250\\n            MCHC: CK556_00675\\n            MLAC: CP520_00390\\n            MENT: CS528_00610\\n            MSYR: CXP39_03635\\n            MTAB: MTABA_v1c01270(manB)\\n            MCOL: MCOLE_v1c01330(manB)\\n            ELJ: ELUMI_v1c04440(manB)\\n            ESX: ESOMN_v1c00260(manB)\\n            EFR: EFREU_v1c04780(manB)\\n            EML: EMELA_v1c01460(manB)\\n            SCR: SCHRY_v1c02700(manB)\\n            SSYR: SSYRP_v1c02870(manB)\\n            SDI: SDIMI_v3c02690(manB)\\n            STAI: STAIW_v1c03120(manB)\\n            SAPI: SAPIS_v1c03230(manB)\\n            SMIR: SMM_0981\\n            SMIA: P344_05870\\n            SCQ: SCULI_v1c03410(manB)\\n            SSAB: SSABA_v1c02730(manB)\\n            SATR: SATRI_v1c10460(manB)\\n            SERI: SERIO_v1c10250(manB)\\n            STUR: STURON_00823(manB)\\n            SLL: SLITO_v1c08020(manB)\\n            SKN: SKUN_00308(manB)\\n            SCJ: SCANT_v1c02770(manB)\\n            SHJ: SHELI_v1c02810(manB)\\n            SCK: SCITRI_00404(manB)\\n            SFZ: SFLOR_v1c03370(manB)\\n            SCOU: SCORR_v1c07590(manB)\\n            SCLA: SCLARK_001487(manB)\\n            MBJ: KQ51_00922(pgcA)\\n            TBM: BK010_05135\\n            TBZ: BK011_05115\\n            MTU: Rv3068c(pgmA)\\n            MTV: RVBD_3068c\\n            MTC: MT3153(pgmA)\\n            MRA: MRA_3101(pgmA)\\n            MTF: TBFG_13085\\n            MTB: TBMG_00899\\n            MTK: TBSG_00905\\n            MTZ: TBXG_000891\\n            MTG: MRGA327_18865\\n            MTI: MRGA423_19110\\n            MTE: CCDC5079_2824\\n            MTUR: CFBS_3236(pgmA)\\n            MTL: CCDC5180_2789\\n            MTO: MTCTRI2_3132(pgmA)\\n            MTD: UDA_3068c(pgmA)\\n            MTN: ERDMAN_3359(pgmA)\\n            MTJ: J112_16435\\n            MTUB: MT7199_3102\\n            MTUE: J114_16410\\n            MTX: M943_15840\\n            MTUH: I917_21540\\n            MTUL: TBHG_02998\\n            MTUT: HKBT1_3223(pgmA)\\n            MTUU: HKBT2_3228(pgmA)\\n            MTQ: HKBS1_3234(pgmA)\\n            MBO: BQ2027_MB3095C(pgmA)\\n            MBB: BCG_3093c(pgmA)\\n            MBT: JTY_3088(pgmA)\\n            MBM: BCGMEX_3090c(pgmA)\\n            MBK: K60_031840\\n            MBX: BCGT_2918\\n            MAF: MAF_30750(pgmA)\\n            MMIC: RN08_3379\\n            MCE: MCAN_30931(pgmA)\\n            MCQ: BN44_60581(pgm)\\n            MCV: BN43_60057(pgm)\\n            MCX: BN42_41082(pgm)\\n            MCZ: BN45_60056(pgm)\\n            MPA: MAP_3146c(pgmA)\\n            MAO: MAP4_0644\\n            MAVI: RC58_03140\\n            MAVU: RE97_03145\\n            MIT: OCO_38030\\n            MIA: OCU_38110\\n            MID: MIP_05759\\n            MYO: OEM_38660\\n            MIR: OCQ_39260\\n            MCHI: AN480_20065\\n            MMAL: CKJ54_18095\\n            MLP: MLM_3176\\n            MSA: Mycsm_01732\\n            MUL: MUL_3442(pgmA)\\n            MMC: Mmcs_1728\\n            MKM: Mkms_1775\\n            MJL: Mjls_1707\\n            MMI: MMAR_1591(pgmA)\\n            MMAE: MMARE11_15040(pgmA)\\n            MMM: W7S_19050\\n            MLI: MULP_01726(pgmA)\\n            MKN: MKAN_22765\\n            MYV: G155_10405\\n            MYE: AB431_09150\\n            MHAD: B586_16135\\n            MYN: MyAD_09770\\n            MDX: BTO20_24555\\n            MSHG: MSG_01436(pgm)\\n            MSM: MSMEG_2136(pgm)\\n            MSG: MSMEI_2087(pgmA)\\n            MSB: LJ00_10640\\n            MSN: LI99_10640\\n            MSH: LI98_10640\\n            MVA: Mvan_1950\\n            MGI: Mflv_4406\\n            MSP: Mspyr1_38020\\n            MCB: Mycch_1646\\n            MNE: D174_09975\\n            MGO: AFA91_28465\\n            MFT: XA26_21280\\n            MPHL: MPHLCCUG_01843(pgm)\\n            MVQ: MYVA_1830(pgm)\\n            MLL: B1R94_20000\\n            MRH: MycrhN_6147\\n            MTHN: 4412656_01393(pgm)\\n            MHAS: MHAS_00786(pgm)\\n            MAB: MAB_3450c\\n            MMV: MYCMA_1900\\n            MABB: MASS_3479\\n            MABL: MMASJCM_3458\\n            MCHE: BB28_17605\\n            MIZ: BAB75_18850\\n            MSTE: MSTE_03518\\n            MSAO: MYCSP_15880\\n            ASD: AS9A_1339(pgmA)\\n            CGL: NCgl2453(Cgl2541)\\n            CGB: cg2800(pgm)\\n            CGU: WA5_2453(Pgm)\\n            CGT: cgR_2446\\n            CGS: C624_12480\\n            CGG: C629_12485\\n            CGM: cgp_2800(pgm)\\n            CGJ: AR0_12200\\n            CGQ: CGLAR1_12060\\n            CGX: SB89_11920\\n            CEF: CE2433\\n            CDI: DIP1882(pgm)\\n            CDP: CD241_1790(pgm)\\n            CDH: CDB402_1748(pgm)\\n            CDT: CDHC01_1793(pgm)\\n            CDE: CDHC02_1786(pgm)\\n            CDR: CDHC03_1765(pgm)\\n            CDA: CDHC04_1770(pgm)\\n            CDZ: CD31A_1882(pgm)\\n            CDB: CDBH8_1846(pgm)\\n            CDS: CDC7B_1842(pgm)\\n            CDD: CDCE8392_1755(pgm)\\n            CDW: CDPW8_1854(pgm)\\n            CDV: CDVA01_1729(pgm)\\n            CDIP: ERS451417_01883(pgm)\\n            CJK: jk0468(pgm)\\n            CAR: cauri_2123(pgm)\\n            CKP: ckrop_1426(pgm)\\n            CPU: cpfrc_01690(pgm)\\n            CPL: Cp3995_1736(pgm1)\\n            CPG: Cp316_1741(pgm1)\\n            CPP: CpP54B96_1719(pgm1)\\n            CPK: Cp1002_1690(pgm1)\\n            CPX: CpI19_1698(pgm1)\\n            CPZ: CpPAT10_1690(pgm1)\\n            COR: Cp267_1758(pgm1)\\n            COP: Cp31_1682(pgm1)\\n            COD: Cp106_1646(pgm1)\\n            COS: Cp4202_1679(pgm1)\\n            COI: CpCIP5297_1705(pgm1)\\n            COE: Cp258_1704(pgm1)\\n            COU: Cp162_1666(pgm1)\\n            CPSE: CPTA_00066\\n            CPSU: CPTB_01461\\n            CPSF: CPTC_00050\\n            CRD: CRES_0394(pgm)\\n            CUL: CULC22_01862(pgm)\\n            CUC: CULC809_01760(pgm)\\n            CUE: CULC0102_1907(pgm)\\n            CUN: Cul210932_1872(pgm)\\n            CUS: CulFRC11_1767(pgm)\\n            CUQ: Cul210931_1766(pgm)\\n            CUZ: Cul05146_1864(pgm)\\n            CUJ: CUL131002_1791c(pgm)\\n            CHN: A605_11705\\n            CCN: H924_10675\\n            CMD: B841_10765\\n            CAZ: CARG_08245\\n            CFN: CFAL_02825\\n            CCG: CCASEI_12010\\n            CVT: B843_10660\\n            CAX: CATYP_08600\\n            CII: CIMIT_09770\\n            CUV: CUREI_09275\\n            COA: DR71_1637(pgm)\\n            CDO: CDOO_11115\\n            CHM: B842_10655\\n            CSX: CSING_10975(pgm)\\n            CMQ: B840_10370(pgm)\\n            CKU: UL82_02990(pgm)\\n            CCJ: UL81_09485(celB)\\n            CMV: CMUST_12690(pgm)\\n            CEI: CEPID_10230(pgm)\\n            CTED: CTEST_11005(celB)\\n            CUT: CUTER_09030(pgm)\\n            CLW: CLAC_03005\\n            CDX: CDES_11495(celB)\\n            CSP: WM42_1894(pgm)\\n            CSTA: CSTAT_10895\\n            CCJZ: ccrud_11405\\n            CFK: CFRA_09780\\n            CPHO: CPHO_02715\\n            CFC: CFLV_10425\\n            CGV: CGLAU_10290(pgm)\\n            CSTR: CBE89_03285\\n            CAQU: CAQU_10230\\n            CSPH: CSPHI_02860\\n            CAMG: CAMM_10670\\n            CMIN: NCTC10288_00443(pgm)\\n            NFA: NFA_44530\\n            NFR: ERS450000_05479(pgm_1)\\n            NCY: NOCYR_4165(pgm)\\n            NBR: O3I_033825\\n            NNO: NONO_c17370(pgm)\\n            NSL: BOX37_23495\\n            NSR: NS506_02588\\n            NTP: CRH09_31135\\n            RHA: RHA1_ro06413\\n            RER: RER_23280(pgm)\\n            REY: O5Y_10880\\n            REB: XU06_11100\\n            ROP: ROP_64700(pgm)\\n            ROA: Pd630_LPD03080\\n            REQ: REQ_32340(pgm)\\n            RPY: Y013_07220\\n            RHB: NY08_1576\\n            RAV: AAT18_16780\\n            RFA: A3L23_04800(pgm)\\n            RHW: BFN03_04925\\n            RHS: A3Q41_03469(pgm)\\n            RRZ: CS378_06335\\n            RHU: A3Q40_01250(pgm)\\n            RQI: C1M55_11860\\n            RHQ: IM25_21245\\n            RHOD: AOT96_21730\\n            RRT: 4535765_03263(pgm)\\n            GBR: Gbro_3442\\n            GPO: GPOL_c32500(pgm)\\n            GOR: KTR9_3478\\n            GOQ: ACH46_14775\\n            GTA: BCM27_17815\\n            GOC: CXX93_07965\\n            GIT: C6V83_15140\\n            GRU: GCWB2_17870(pgm)\\n            GOM: D7316_05252(pgm)\\n            TPR: Tpau_3003\\n            TSM: ASU32_17110\\n            CBQ: AL705_06815\\n            SCO: SCO7443(pgm)\\n            SALB: XNR_5582\\n            SMA: SAVERM_803(pgmA)\\n            SGR: SGR_6728\\n            SGB: WQO_01375\\n            SCB: SCAB_6461(pgm)\\n            SSX: SACTE_0298\\n            SFA: Sfla_5973\\n            SHY: SHJG_1995\\n            SHO: SHJGH_1760\\n            SDV: BN159_1225(celB3)\\n            STRP: F750_0596\\n            SFI: SFUL_398\\n            SCI: B446_03740\\n            SLV: SLIV_02095(celB)\\n            SCW: TU94_01215\\n            SAMB: SAM23877_0763(pgm)\\n            SCZ: ABE83_33675\\n            SCX: AS200_05520\\n            SRW: TUE45_00746(pgm)\\n            STRF: ASR50_03785\\n            SLE: sle_66460(sle_66460)\\n            SPAV: Spa2297_01540\\n            STRT: A8713_01890\\n            SGS: AVL59_26605\\n            STSI: A4E84_01600\\n            SLS: SLINC_8064\\n            SPLU: LK06_031030\\n            STRD: NI25_35495\\n            SNW: BBN63_02255\\n            SVU: B1H20_00960\\n            SPUN: BFF78_39915\\n            KSK: KSE_60870(pgm2)\\n            KAB: B7C62_00880\\n            STRI: C7M71_027210\\n            LXX: Lxx02380(pgm)\\n            LXY: O159_25680\\n            CMI: CMM_0513(pgmA)\\n            CMS: CMS0426(pgm)\\n            CMC: CMN_00468(pgmA)\\n            CMH: VO01_02335\\n            CCAP: AES38_02025\\n            MTS: MTES_2101(pgm)\\n            MIM: AKG07_10145\\n            MIO: AOA12_02975\\n            MIX: AB663_000350\\n            MIP: AXH82_04035\\n            MCW: A8L33_01635\\n            MPAL: BO218_07905\\n            MIH: BJP65_11245\\n            MICR: BMW26_14775\\n            MAUR: BOH66_02370\\n            MHOS: CXR34_03100\\n            MFOL: DXT68_14490\\n            RLA: Rhola_00000650\\n            RPLA: A4Z71_06585\\n            RTX: TI83_02440\\n            RTC: APU90_04035\\n            RTN: A6122_0532\\n            CUM: NI26_03105\\n            CUB: BJK06_04990\\n            MVD: AWU67_13750\\n            FRP: AX769_01555\\n            AGY: ATC03_01330\\n            AGM: DCE93_01160\\n            CART: PA27867_0188\\n            CRY: B7495_00795\\n            CPHY: B5808_03070\\n            AMIN: AUMI_113070\\n            AUM: AURMO_00084\\n            AUW: AURUGA1_00075(pgm)\\n            MALK: MalAC0309_0407(pgm)\\n            MYL: C3E77_00975\\n            SALC: C2138_00415\\n            HUM: DVJ78_00010\\n            GRY: D7I44_09435\\n            LYD: D7I47_06780\\n            PLAP: EAO79_01905\\n            ART: Arth_0131\\n            ARR: ARUE_c00920(celB)\\n            ARM: ART_2592\\n            ARL: AFL94_00275\\n            ARE: AL755_00640\\n            AAQ: AOC05_16180\\n            ARW: MB46_15610\\n            ARH: AHiyo8_33830 AHiyo8_33840\\n            ARY: ATC04_00355\\n            ARZ: AUT26_00365\\n            ARU: ASPU41_06750\\n            ARQ: BWQ92_08920\\n            ARN: CGK93_00655\\n            ARX: ARZXY2_3818(pgm)\\n            ACRY: AC20117_07630\\n            ARTH: C3B78_01025\\n            ARI: UM93_14090\\n            AAU: AAur_0094(pgm)\\n            ACH: Achl_0267\\n            APN: Asphe3_02630\\n            PSUL: AU252_09065\\n            AAI: AARI_00640(pgm)\\n            GAR: AOZ07_00335\\n            KRH: KRH_19520(pgm)\\n            KPL: KPaMU14_01405\\n            KFV: AS188_05885\\n            MLU: Mlut_01060\\n            SATK: SA2016_0253\\n            NAE: BHE16_07915\\n            BCV: Bcav_0373\\n            BFA: Bfae_07370\\n            BRX: BH708_17510\\n            BRV: CFK39_11700\\n            BGG: CFK41_13255\\n            BRZ: CFK38_15780\\n            BSAU: DWV08_00990\\n            DVA: DAD186_02680\\n            JDE: Jden_0258\\n            DNI: HX89_04970\\n            LMOI: VV02_19270\\n            XCE: Xcel_0168\\n            IVA: Isova_0234\\n            IDO: I598_2191(pgm)\\n            CET: B8281_01730\\n            CCEU: CBR64_10270\\n            SKE: Sked_01520\\n            CFL: Cfla_3191\\n            CFI: Celf_3610\\n            CGA: Celgi_0170\\n            CEZ: CBP52_15050\\n            ICA: Intca_2403\\n            ARS: ADJ73_15575\\n            SERJ: SGUI_1226\\n            JTE: ASJ30_14250\\n            ORN: DV701_08145\\n            BLY: A2T55_02900\\n            BLIN: BLSMQ_0480\\n            DCO: SAMEA4475696_0980(pgm)\\n            PAC: PPA1105\\n            PAK: HMPREF0675_4167(pgm)\\n            PAV: TIA2EST22_05490\\n            PAX: TIA2EST36_05460\\n            PAZ: TIA2EST2_05400\\n            PAW: PAZ_c11540(pgm)\\n            PAD: TIIST44_09115\\n            PCN: TIB1ST10_05675\\n            PACC: PAC1_05790\\n            PACH: PAGK_1048\\n            PACN: TIA1EST1_05445\\n            CACN: RN83_05895\\n            PRA: PALO_05410\\n            CGRN: 4412665_01383(pgm)\\n            PFR: PFREUD_10610(pgm1)\\n            PFRE: RM25_1116\\n            PRL: BCB70_02135\\n            PACD: EGX94_00165\\n            PPC: HMPREF9154_1435(pgm)\\n            PBO: PACID_19220(pgm)\\n            AACI: ASQ49_12280\\n            ACIJ: JS278_01556(pgm)\\n            MPH: MLP_29820(pgm)\\n            TFL: RPIT_06595\\n            TFA: BW733_15945\\n            TES: BW730_06530\\n            TEZ: BKM78_01280\\n            NCA: Noca_4438\\n            NDK: I601_1018(pgm)\\n            KFL: Kfla_4582\\n            MGG: MPLG2_1124(pgm)\\n            TCU: Tcur_1724\\n            SRO: Sros_5639\\n            NOA: BKM31_04570\\n            FRA: Francci3_1231\\n            FRE: Franean1_5250\\n            FRI: FraEuI1c_1982\\n            FAL: FRAAL1935(pgm)\\n            FSY: FsymDg_1552\\n            NML: Namu_5012\\n            NAK: EH165_13750\\n            GOB: Gobs_5043\\n            BSD: BLASA_5007(pgm)\\n            MMAR: MODMU_5540(pgm)\\n            KRA: Krad_0143\\n            PDX: Psed_3647\\n            PSEE: FRP1_10650\\n            PSEH: XF36_09895\\n            PSEQ: AD006_20305\\n            PECQ: AD017_28145\\n            PHH: AFB00_26655\\n            KAL: KALB_6737\\n            STP: Strop_1701\\n            SAQ: Sare_1699\\n            MAU: Micau_2111\\n            MIL: ML5_2218\\n            MICB: MicB006_5176\\n            MTUA: CSH63_14215\\n            VMA: VAB18032_13950\\n            AMS: AMIS_48200\\n            ASE: ACPL_2870(pgmA)\\n            ACTN: L083_3824(pgmA)\\n            AFS: AFR_24840\\n            ACTS: ACWT_2676\\n            PLK: CIK06_10315\\n            PLAB: C6361_29110\\n            PLAT: C6W10_06330\\n            AHE: Arch_0131\\n            MCU: HMPREF0573_10620(pgm)\\n            TPY: CQ11_06810\\n            TPYO: X956_00865 X956_00870\\n            ASG: FB03_07265\\n            AMY: ADJ76_08410\\n            ACQ: AM609_13310\\n            AOS: AXE84_04355\\n            ARD: AXF14_04230\\n            AVU: BK816_00780\\n            ACTP: B6G06_00175\\n            ACTC: CHIBA101_0049\\n            ACTO: C3V41_09020\\n            ANE: AN27039_0864 AN27039_0865\\n            FSL: EJO69_07895\\n            BLO: BL1630(pgm)\\n            BLJ: BLD_1755(pgm)\\n            BLN: Blon_2184\\n            BLON: BLIJ_2260\\n            BLF: BLIF_1702\\n            BLL: BLJ_1703\\n            BLB: BBMN68_1663(pgm)\\n            BLM: BLLJ_1633\\n            BLK: BLNIAS_00353\\n            BLG: BIL_03870\\n            BLZ: BLGT_08725\\n            BLX: GS08_08845\\n            BAD: BAD_0365(pgm)\\n            BADL: BADO_0371\\n            BADO: BBMN23_0395\\n            BLA: BLA_0403(pgm)\\n            BLC: Balac_0425\\n            BLT: Balat_0425\\n            BBB: BIF_01321\\n            BBC: BLC1_0407\\n            BNM: BALAC2494_00706\\n            BLV: BalV_0408\\n            BLW: W7Y_0427\\n            BLS: W91_0441\\n            BANI: Bl12_0397\\n            BANL: BLAC_02130\\n            BNI: BANAN_02210\\n            BANM: EN10_02160\\n            BDE: BDP_0481(pgm)\\n            BDN: BBDE_0459\\n            BBI: BBIF_1459(pgm)\\n            BBP: BBPR_1512(pgm)\\n            BBF: BBB_1494(pgm)\\n            BBV: HMPREF9228_1648(pgm)\\n            BBRU: Bbr_1595(pgm)\\n            BBRE: B12L_1523\\n            BBRV: B689b_1624\\n            BBRJ: B7017_1791\\n            BBRC: B7019_1764\\n            BBRN: B2258_1609\\n            BBRS: BS27_1577(pgm)\\n            BBRD: BBBR_1594\\n            BAST: BAST_1304\\n            BTP: D805_1385\\n            BCOR: BCOR_1123\\n            BKA: AH68_02045\\n            BKS: BBKW_0393\\n            BPSP: AH67_02315\\n            BII: BINDI_1048\\n            BANG: BBAG_1303\\n            BCAT: BBCT_0349\\n            BPSC: BBPC_0380\\n            BSCA: BBSC_0573\\n            BACT: AB656_04605\\n            BCHO: BcFMB_04575\\n            GVA: HMPREF0424_0298(pgm)\\n            GVG: HMPREF0421_20388(celB)\\n            GVH: HMPREF9231_1168(pgm)\\n            SIJ: SCIP_0358\\n            PDO: PSDT_1019\\n            CCU: Ccur_07360\\n            SHI: Shel_23220\\n            DDT: AAY81_05685\\n            APV: Apar_1013\\n            OLS: Olsu_0579\\n            OLO: ADJ70_12085\\n            CGO: Corgl_0044 Corgl_1196\\n            CAER: CSV91_07455\\n            CBAC: JI75_08755\\n            SYN: sll0726(pgm)\\n            SYZ: MYO_130890(pgm)\\n            SYY: SYNGTS_3053(pgm)\\n            SYT: SYNGTI_3052(pgm)\\n            SYS: SYNPCCN_3051(pgm)\\n            SYQ: SYNPCCP_3051(pgm)\\n            SYJ: D082_30550(pgm)\\n            SYO: C7I86_16015\\n            SYW: SYNW2154(pgm)\\n            SYC: syc1350_d\\n            SYF: Synpcc7942_0156\\n            SYD: Syncc9605_2297\\n            SYE: Syncc9902_0392\\n            SYG: sync_2500\\n            SYR: SynRCC307_0402(pmg)\\n            SYX: SynWH7803_2164(pmg)\\n            CYA: CYA_1969\\n            CYB: CYB_2304\\n            SYNE: Syn6312_2236\\n            SYNK: KR100_14205\\n            SYNR: KR49_07020\\n            SYND: KR52_04685\\n            SYU: M744_02280\\n            SYH: Syncc8109_2381(pgm)\\n            SYNW: SynWH8103_02472\\n            SLW: BRW62_04700\\n            TEL: tlr1976\\n            THN: NK55_06580(pgm)\\n            CGC: Cyagr_1550\\n            CYI: CBM981_3049(pgm)\\n            DSL: Dacsa_2418\\n            CMP: Cha6605_1279\\n            LEN: LEP3755_62020\\n            LET: O77CONTIG1_04851(pgm)\\n            LBO: LBWT_20850\\n            HHG: XM38_021360\\n            PSEU: Pse7367_2768\\n            PMA: Pro_0090(pgm)\\n            PMM: PMM0076(pgm)\\n            PMT: PMT_1614\\n            PMN: PMN2A_1440\\n            PMI: PMT9312_0079\\n            PMB: A9601_00891(pgm)\\n            PMC: P9515_00861(pgm)\\n            PMF: P9303_02691(pgm)\\n            PMG: P9301_00881(pgm)\\n            PMH: P9215_00891(pgm)\\n            PMJ: P9211_00861(pgm)\\n            PME: NATL1_01411(pgm)\\n            PRC: EW14_0096\\n            PRM: EW15_0158\\n            AMR: AM1_5123\\n            MAR: MAE_52320\\n            MPK: VL20_1602\\n            MIQ: B5D77_06065\\n            CAN: Cyan10605_2652\\n            CSN: Cyast_2445\\n            CYL: AA637_14220(pgm)\\n            HAO: PCC7418_2237\\n            CYU: UCYN_00830\\n            CWA: CwatDRAFT_2190 CwatDRAFT_2694\\n            GEN: GM3709_2139\\n            GEE: GM3708_1574\\n            CHON: NIES4102_27400\\n            CYT: cce_0606(pgm)\\n            CYP: PCC8801_3290\\n            CYC: PCC7424_4132\\n            CYN: Cyan7425_0424\\n            CYH: Cyan8802_2833\\n            CYJ: Cyan7822_2491\\n            TER: Tery_1084\\n            ARP: NIES39_M02780\\n            PAGH: NIES204_20220\\n            MPRO: BJP34_08085\\n            GVI: gll3983\\n            GLJ: GKIL_4070(pgm)\\n            CALT: Cal6303_0798\\n            CALH: IJ00_23505\\n            RIV: Riv7116_4156\\n            FIS: FIS3754_30380\\n            NCN: BZZ01_01550\\n            CTHE: Chro_3562\\n            PLP: Ple7327_0180\\n            SCS: Sta7437_0621\\n            STAN: STA3757_19930\\n            CEO: ETSB_0064(pgm)\\n            CER: RGRSB_0002(pgm)\\n            MBF: BHV42_00170 BHV42_01210\\n            ABAT: CFX1CAM_2034(pgm)\\n            ABAO: BEQ56_10280\\n            CAP: CLDAP_00370(pgm)\\n            PBF: CFX0092_A2739(pgm)\\n            DRA: DR_0303(pgm)\\n            DGE: Dgeo_1875\\n            DDR: Deide_07380\\n            DMR: Deima_1394\\n            DPT: Deipr_1398\\n            DGO: DGo_CA2598\\n            DPD: Deipe_0732\\n            DSW: QR90_07210\\n            DCH: SY84_11880\\n            DAB: AUC44_03135\\n            DPU: SU48_11485\\n            DEZ: DKM44_10600\\n            DWU: DVJ83_12665\\n            DFC: DFI_09680\\n            TRA: Trad_0749\\n            TTH: TT_C1630\\n            TTJ: TTHA0353\\n            TTS: Ththe16_0024\\n            TTL: TtJL18_0027\\n            TSC: TSC_c01410(pgm)\\n            THC: TCCBUS3UF1_20790\\n            TOS: Theos_2164\\n            TAQ: TO73_0040\\n            TPAR: AV541_00755\\n            MRB: Mrub_2052\\n            MRE: K649_12280\\n            MSV: Mesil_0294\\n            MTAI: Mtai_v1c09340\\n            OTE: Oter_3746\\n            OBG: Verru16b_02635(pgcA)\\n            OBT: OPIT5_26040\\n            CAA: Caka_1909\\n            AMU: Amuc_0155\\n            AGL: PYTT_1408\\n            XII: AMD24_00394(pgcA)\\n            MIN: Minf_2127(manB)\\n            VBA: IMCC26134_03935\\n            VBH: CMV30_00100\\n            PLM: Plim_1409\\n            PBS: Plabr_0528\\n            FMR: Fuma_00607(pgcA)\\n            GES: VT84_17375(pgm_1) VT84_18990(pgcA) VT84_25525(pgm_2)\\n            GOG: C1280_09445\\n            SACI: Sinac_5822\\n            BGA: BG0004(femD)\\n            TPA: TP_0642\\n            TPW: TPANIC_0642\\n            TPP: TPASS_0642(manB)\\n            TPU: TPADAL_0642\\n            TPH: TPChic_0642\\n            TPO: TPAMA_0642\\n            TPAS: TPSea814_000642\\n            TPC: TPECDC2_0642\\n            TPG: TPEGAU_0642\\n            TPM: TPESAMD_0642\\n            TPB: TPFB_0642\\n            TDE: TDE0864 TDE1998\\n            TSU: Tresu_2063\\n            TBE: Trebr_1592\\n            TAZ: TREAZ_0938\\n            TPI: TREPR_1681\\n            TPL: TPCCA_0642\\n            TPED: TPE_2214\\n            SCD: Spica_1029\\n            TPK: JO40_12320\\n            TRM: JO41_12155\\n            SSM: Spirs_2379\\n            STA: STHERM_c11950\\n            STQ: Spith_1237\\n            SFC: Spiaf_0830\\n            SBU: SpiBuddy_1993\\n            SCC: Spico_1017\\n            SGP: SpiGrapes_2961\\n            SLR: L21SP2_1264\\n            LIE: LIF_A1752(manB)\\n            LIS: LIL_11890(manB2)\\n            LST: LSS_09549\\n            LAJ: A0128_09285\\n            LMAY: DPV73_13750\\n            LKM: EFP84_01385\\n            TPX: Turpa_2229 Turpa_3615\\n            BHD: BHYOB78_04755\\n            BRM: Bmur_2071\\n            BPO: BP951000_1160(pgm)\\n            BPJ: B2904_orf2626\\n            BPIP: BPP43_09310\\n            BPW: WESB_2585\\n            BIP: Bint_2389(manB)\\n            BHP: BHAMNSH16_04685\\n            ACM: AciX9_2527 AciX9_2688\\n            GMA: AciX8_1068\\n            TSA: AciPR4_0641\\n            TRS: Terro_0712\\n            ABAS: ACPOL_4197\\n            SUS: Acid_2893 Acid_3937 Acid_6473\\n            EMI: Emin_1269\\n            FNU: FN0559\\n            FNC: HMPREF0946_00100\\n            FNT: HMPREF0405_01157\\n            FUS: HMPREF0409_02310\\n            FNE: FSDG_00989\\n            FHW: RN87_05820\\n            FPD: CTM68_00790\\n            FVA: FV113G1_10250 FV113G1_24200\\n            FUL: C4N20_00660 C4N20_10955 C4N20_11225\\n            FMO: C4N19_07980\\n            FGO: C4N16_06780\\n            IPO: Ilyop_0255\\n            LBA: Lebu_2089\\n            LEO: AMK43_01800 AMK43_11065\\n            LOT: AXF11_06965\\n            LEQ: BCB68_04680\\n            STR: Sterm_3321\\n            SNS: VC03_04000 VC03_05330\\n            TAI: Taci_0468\\n            ACO: Amico_0419\\n            TLI: Tlie_1572\\n            SBR: SY1_23220\\n            CPOR: BED41_11325 BED41_14090\\n            GAU: GAU_1648(manB) GAU_2920(pgm)\\n            GPH: GEMMAAP_08935 GEMMAAP_15240\\n            GBA: J421_3281 J421_4081\\n            BTH: BT_1548\\n            BTHO: Btheta7330_01520(pgcA)\\n            BFR: BF1478\\n            BFS: BF9343_1340\\n            BFG: BF638R_1493\\n            BFB: VU15_06195\\n            BVU: BVU_3804\\n            BHL: Bache_1995\\n            BSA: Bacsa_0861\\n            BXY: BXY_45690\\n            BDO: EL88_11995\\n            BDH: GV66_19635\\n            BOA: Bovatus_01634(pgcA)\\n            BCEL: BcellWH2_05137(pgcA)\\n            BCAC: CGC64_15990\\n            BCAE: A4V03_11580\\n            BZG: C4H11_13615\\n            BHF: C3V43_13285\\n            BACC: BRDCF_p1169(pgcA)\\n            PGI: PG_2010\\n            PGN: PGN_1955\\n            PGT: PGTDC60_0283\\n            PAH: Poras_1330\\n            PCRE: NCTC12858_01203(pgcA)\\n            PBT: ING2E5B_1191\\n            PMUC: ING2E5A_1222(pgcA)\\n            PET: PEIBARAKI_5098\\n            PPN: Palpr_0854\\n            PDI: BDI_2097\\n            PARC: CI960_16915\\n            TFO: BFO_2149(pgcA)\\n            TOH: BCB71_08710\\n            PARY: A4V02_08050\\n            BVS: BARVI_04435\\n            PSAC: PSM36_1535\\n            OSP: Odosp_1923\\n            BUY: D8S85_09840\\n            APS: CFPG_637\\n            PRU: PRU_1071\\n            PMZ: HMPREF0659_A6890\\n            PDN: HMPREF9137_2410\\n            PIT: PIN17_0340\\n            PDT: Prede_1717\\n            PRO: HMPREF0669_00354\\n            PFUS: ADJ77_09895\\n            PEO: AS203_07845\\n            PJE: CRM71_10020\\n            AFD: Alfi_3304\\n            ASH: AL1_27830\\n            RBC: BN938_3060\\n            DORI: FH5T_16780\\n            BLQ: L21SP5_01231(pgcA)\\n            ASX: CDL62_17490\\n            MBAS: ALGA_3052\\n            RBAR: AWN76_018330\\n            CPI: Cpin_5884\\n            CBAE: COR50_13590\\n            NKO: Niako_2205\\n            NSO: NIASO_07675\\n            NIA: A8C56_06025\\n            FLA: SY85_01615\\n            ARB: A9P82_15125\\n            FLN: FLA_3554\\n            PSEG: D3H65_13015\\n            HHY: Halhy_1254\\n            PHE: Phep_2334\\n            PEP: AQ505_17510\\n            PCM: AY601_2271\\n            PSTY: BFS30_20325\\n            PGS: CPT03_06865\\n            PSN: Pedsa_1482\\n            SHG: Sph21_2018\\n            SHT: KO02_01130\\n            SPHN: BV902_01565 BV902_02275\\n            SMIZ: 4412673_00050(pgcA)\\n            MUP: A0256_23870\\n            MUC: MuYL_1484\\n            MGOT: MgSA37_01690(pgcA)\\n            MUH: HYN43_010435\\n            SBX: CA265_09665\\n            CMR: Cycma_4984\\n            CAMU: CA2015_0255 CA2015_4809\\n            BBD: Belba_2901\\n            EVI: Echvi_2982\\n            EST: DN752_21620\\n            ALM: AO498_10755\\n            CHU: CHU_0998(pgm)\\n            DFE: Dfer_4939\\n            SLI: Slin_2990\\n            SRD: SD10_16870\\n            SMON: AWR27_09595\\n            SPIR: CWM47_18220\\n            LBY: Lbys_1694\\n            RSI: Runsl_0542\\n            RUN: DR864_22860\\n            RUP: DTQ70_14900\\n            EOL: Emtol_2495\\n            FAE: FAES_2581\\n            FIB: A6C57_15695\\n            PSEZ: HME7025_00703\\n            ALS: DJ013_08010\\n            FLI: Fleli_1637\\n            HSW: Hsw_2872\\n            HYM: N008_15065\\n            HYD: PK28_12195\\n            HYG: AUC43_12190\\n            HYP: A0257_00905 A0257_21795 A0257_23230\\n            HYZ: AXW84_11445 AXW84_13755\\n            HNV: DDQ68_06805 DDQ68_06820 DDQ68_08335\\n            HYH: D3Y59_01935\\n            PKO: PKOR_21700\\n            PACT: CA264_09350\\n            RUF: TH63_09635\\n            RTI: DC20_21110\\n            RUD: TH61_16755\\n            MTT: Ftrac_0765\\n            FLM: MY04_0455\\n            FLL: EI427_04495\\n            FBT: D770_26220\\n            CHK: D4L85_20560\\n            CCM: Ccan_07910\\n            RAI: RA0C_0919\\n            RAR: RIA_1566\\n            RAE: G148_0936\\n            ZGA: ZOBELLIA_85(pgcA)\\n            EAO: BD94_2626\\n            EMN: M876_10175\\n            EEN: BBD30_13685\\n            ELB: VO54_00087(pgcA)\\n            EMG: BBD33_09805\\n            EGO: BBD34_02245\\n            EGM: AYC65_04875\\n            CHZ: CHSO_2743\\n            CIO: CEQ15_07390\\n            CHRS: EAG08_19970\\n            FBA: FIC_01434\\n            FBU: UJ101_02590\\n            OHO: Oweho_0634\\n            CPB: Cphamn1_1187\\n            PAA: Paes_0902\\n            PROC: Ptc2401_00993(pgm)\\n            PROS: CHL67_06725\\n            CPRV: CYPRO_1891\\n            CACI: CLOAM0516(cpsG)\\n            THP: BG95_04640\\n            THER: Y592_04710\\n            FPE: Ferpe_1295\\n            FIA: NA23_06460\\n            MPZ: Marpi_0079 Marpi_0576\\n            MARN: LN42_00395 LN42_03320\\n            DTN: DTL3_0887 DTL3_1435(pgcA)\\n            KPF: IX53_08660\\n            MPG: Theba_0662 Theba_1445\\n            MINF: MESINF_0367(pgcA) MESINF_1921(pgcA)\\n            DIN: Selin_2216\\n            DDF: DEFDS_0735\\n            DAP: Dacet_0873\\n            CNI: Calni_1381 Calni_1989\\n            FSI: Flexsi_1551\\n            CABY: Cabys_3279\\n            DTH: DICTH_1769\\n            DTU: Dtur_0067\\n            TYE: THEYE_A0095\\n            NDE: NIDE2083(pgm) NIDE2983(manB_pgm)\\n            NMV: NITMOv2_2060(pgm) NITMOv2_3476(manB_pgm)\\n            NIO: NITINOP_2245(pgm) NITINOP_3080(manB_pgm)\\n            NJA: NSJP_2853(pgm) NSJP_4120(algC)\\n            LFC: LFE_1649 LFE_1817\\n            LFI: LFML04_1021 LFML04_1327\\n            LFP: Y981_04535 Y981_06445\\n            LEG: ABH19_06845 ABH19_08580\\n            TID: Thein_2165\\n            TOP: TOPB45_0214\\n            TCM: HL41_00255\\n            CTHI: THC_1526\\n            SBAG: UW38_C0001G0250\\n            PRF: PeribacterA2_0224\\n            MOX: DAMO_1547\\n            DPB: BABL1_gene_722(algC)\\n            TMG: US01_C0001G0612\\n            WWE: P147_WWE3C01G0144\\n            WBA: UR17_C0001G0803\\n            MTH: MTH_1584\\n            MMG: MTBMA_c01700\\n            METC: MTCT_1443 MTCT_1604\\n            MWO: MWSIV6_0128(glmM) MWSIV6_0299(glmM_3)\\n            METE: tca_01533(glmM_1) tca_01704(glmM_3)\\n            METZ: METMT2_0148\\n            MST: Msp_0263\\n            METB: AW729_05860\\n            MSI: Msm_0648\\n            MRU: mru_0449(glmM2)\\n            MEB: Abm4_0232(glmM2)\\n            MMIL: sm9_0321(glmM2)\\n            MEYE: TL18_01375\\n            MOL: YLM1_0123\\n            MEL: Metbo_2461\\n            MEW: MSWAN_0179 MSWAN_1539\\n            METH: MBMB1_0168(glmM1)\\n            MFC: BRM9_2132(glmM2)\\n            MFI: DSM1535_1549(glmM3)\\n            MCUB: MCBB_0186 MCBB_1474(glmM_3)\\n            MSUB: BK009_06540 BK009_10610\\n            METN: BK008_02135 BK008_06235\\n            METT: CIT01_02010 CIT01_06505(glmM)\\n            METO: CIT02_06180(glmM)\\n            MFV: Mfer_0547\\n            MKA: MK0920(cpsG_2)\\n            AFU: AF_0458\\n            AFG: AFULGI_00004640\\n            APO: Arcpr_0278\\n            AVE: Arcve_1188\\n            AST: Asulf_00240\\n            FPL: Ferp_0104\\n            GAC: GACE_1066\\n            GAH: GAH_01903\\n            TAC: Ta0568\\n            TVO: TVG0612677(TVG0612677)\\n            PTO: PTO1166\\n            FAC: FACI_IFERC01G1623\\n            FAI: FAD_0602\\n            CDIV: CPM_0370\\n            TAR: TALC_00241\\n            MAX: MMALV_02250\\n            MER: MMINT_16490\\n            MEAR: Mpt1_c11280(glmM2)\\n            MARC: AR505_1608\\n            ABI: Aboo_0187 Aboo_1538\\n            ACF: AciM339_0862 AciM339_1571\\n            PHO: PH0923(PH0923)\\n            PAB: PAB0819(pmm)\\n            PFU: PF0588\\n            PFI: PFC_02070\\n            PYN: PNA2_1458\\n            PYA: PYCH_06990\\n            PYS: Py04_0858\\n            PYC: TQ32_02350\\n            TKO: TK1108\\n            TON: TON_0244\\n            TGA: TGAM_0813(pgm)\\n            TSI: TSIB_0248\\n            TBA: TERMP_00026\\n            THE: GQS_04065\\n            THA: TAM4_546\\n            THM: CL1_0467\\n            TLT: OCC_09676\\n            THS: TES1_0134\\n            TNU: BD01_0155\\n            TEU: TEU_06470\\n            TGY: X802_07900\\n            THV: ADU37_CDS01870 ADU37_CDS22560\\n            TCH: CHITON_0966\\n            TPEP: A0127_09690\\n            TPIE: A7C91_07140\\n            TGG: A3K92_05765\\n            TCE: A3L02_00545\\n            TBS: A3L01_01815\\n            THH: CDI07_01790(glmM)\\n            TSL: A3L11_05640\\n            TTD: A3L14_03265\\n            TPRF: A3L09_08750\\n            TRL: A3L10_04670\\n            TPAF: A3L08_05175\\n            THY: A3L12_01800\\n            PPAC: PAP_01450\\n            MAC: MA_0241 MA_2665(pmm)\\n            MBA: Mbar_A0721 Mbar_A2225\\n            MBY: MSBRM_0324 MSBRM_2207\\n            MBW: MSBRW_0280 MSBRW_2523\\n            MBAR: MSBR2_0205 MSBR2_2057\\n            MBAK: MSBR3_2120\\n            MMA: MM_1521\\n            MMAZ: MmTuc01_1580\\n            MMJ: MSMAS_3146\\n            MMAC: MSMAC_3166\\n            MVC: MSVAZ_0320\\n            MEK: MSKOL_0304\\n            MLS: MSLAZ_0096\\n            METM: MSMTP_3044\\n            MEF: MSWH1_0168\\n            MEQ: MSWHS_0167\\n            MSJ: MSSAC_0227 MSSAC_1780\\n            MSZ: MSSIH_0196\\n            MSW: MSSIT_0200\\n            MTHE: MSTHC_1242\\n            MTHR: MSTHT_2044\\n            MHOR: MSHOH_2522 MSHOH_3883\\n            MFZ: AOB57_009535(glmM)\\n            MBU: Mbur_2115\\n            MMET: MCMEM_0312\\n            MMH: Mmah_0304\\n            MHAZ: BHR79_01995\\n            MEV: Metev_0128\\n            MZH: Mzhil_1815\\n            MPY: Mpsy_2076\\n            MHZ: Metho_2209\\n            MCJ: MCON_0725\\n            MHU: Mhun_1197\\n            MLA: Mlab_0785\\n            MEM: Memar_0755\\n            MBG: BN140_1119(manB)\\n            MEMA: MMAB1_1434 MMAB1_1435\\n            MPI: Mpet_1868\\n            MBN: Mboo_0714\\n            MFO: Metfor_2496\\n            MPL: Mpal_0486\\n            MPD: MCP_2422\\n            MEZ: Mtc_1252(pgm-1)\\n            RCI: RCIX2409(pgm-2)\\n            HAL: VNG_2206G(pmu1)\\n            HSL: OE_4094F(pmm1)\\n            HDL: HALDL1_16105\\n            HHB: Hhub_3489(pmm1)\\n            HJE: HacjB3_00255\\n            HALH: HTSR_0097(pmu)\\n            HHSR: HSR6_0096(pmu)\\n            HSU: HLASF_0143(pmu1)\\n            HSF: HLASA_0143(pmu1)\\n            HMA: rrnAC2522(manB3)\\n            HHI: HAH_2952(manB2)\\n            HHN: HISP_15010\\n            HAB: SG26_07125\\n            HTA: BVU17_14350\\n            NPH: NP_5158A(pmm4)\\n            NMO: Nmlp_3281(pmm1)\\n            HMU: Hmuk_0852\\n            HALI: BV210_08750\\n            HARC: HARCEL1_06115(glmM)\\n            HWA: HQ_1024A(pmm1)\\n            HWC: Hqrw_1027(pmm1)\\n            HVO: HVO_2989(pmm4)\\n            HME: HFX_2983(cpsG)\\n            HGI: ABY42_14910\\n            HBO: Hbor_02570\\n            HAQ: DU484_01975(glmM)\\n            HAJ: DU500_02380(glmM)\\n            HAER: DU502_00250(glmM)\\n            HLA: Hlac_2256\\n            HALP: DOS48_11345(glmM)\\n            SRUB: C2R22_20720(glmM)\\n            HAE: halTADL_2142\\n            HAH: Halar_2854\\n            HTU: Htur_0084\\n            HDA: BB347_14320\\n            NMG: Nmag_1740(pmm4)\\n            HXA: Halxa_1213\\n            NAT: NJ7G_0552\\n            NPE: Natpe_0082\\n            NGE: Natgr_1689\\n            HRU: Halru_3163\\n            NOU: Natoc_3931\\n            SALI: L593_08850\\n            HLR: HALLA_04830\\n            HLC: CHINAEXTREME05475\\n            NAJ: B1756_05830\\n            NAG: AArcMg_0365\\n            NAN: AArc1_0373\\n            NAC: AQV86_00510 AQV86_01490\\n            APE: APE_0317.1\\n            ACJ: ACAM_0238\\n            SMR: Smar_1286\\n            SHC: Shell_1165\\n            IHO: Igni_0885\\n            IIS: EYM_01085\\n            DKA: DKAM_0012\\n            DFD: Desfe_0111\\n            DMU: Desmu_0154\\n            TAG: Tagg_0185\\n            IAG: Igag_1229\\n            THG: TCELL_0030\\n            HBU: Hbut_1078\\n            PFM: Pyrfu_1421\\n            PDL: Pyrde_0972\\n            STO: STK_02420\\n            SSO: SSO0207(pmM)\\n            SOL: Ssol_1188\\n            SSOA: SULA_1224\\n            SSOL: SULB_1225\\n            SSOF: SULC_1223\\n            SAI: Saci_0806\\n            SACN: SacN8_03910\\n            SACR: SacRon12I_03900\\n            SACS: SUSAZ_03645\\n            SIS: LS215_2090\\n            SIA: M1425_1927\\n            SIM: M1627_2005\\n            SID: M164_1935\\n            SIY: YG5714_2049\\n            SIN: YN1551_0869\\n            SII: LD85_2187\\n            SIH: SiH_1872\\n            SIR: SiRe_1800\\n            SIC: SiL_1781\\n            SULA: BFU36_04880\\n            MSE: Msed_0223\\n            MCN: Mcup_1849\\n            MHK: DFR87_05590(glmM)\\n            AHO: Ahos_0595\\n            AMAN: B6F84_07955\\n            ABRI: DFR85_06850(glmM)\\n            ASUL: DFR86_06990(glmM)\\n            CMA: Cmaq_1688\\n            THF: MA03_05525\\n            ASC: ASAC_0747\\n            ACIA: SE86_04385\\n            CLG: Calag_0032\\n            FFO: FFONT_0402\\n            NMR: Nmar_0224\\n            NIR: NSED_00945\\n            NID: NPIRD3C_0615\\n            NIN: NADRNF5_2036\\n            NKR: NKOR_00960\\n            NCT: NMSP_1490(glmM_2)\\n            CSY: CENSYa_0292\\n            NGA: Ngar_c28320(glmM)\\n            NVN: NVIE_015310 NVIE_029320(glmM)\\n            NEV: NTE_01223\\n            TAA: NMY3_00934(glmM)\\n            NCV: NCAV_0563(glmM)\\n            CSU: CSUB_C0368\\n            NBV: T478_1233(glmM)\\n            TAH: SU86_007800\\n            NDV: NDEV_1874\\n            KCR: Kcr_1498\\n            BARC: AOA65_1946(glmM_1)\\n            BARB: AOA66_1496(manB)\\n            LOKI: Lokiarch_24240(glmM_2)\\n            AGW: QT03_C0001G0998\\nDBLINKS     ExplorEnz - The Enzyme Database: 5.4.2.2\\n            IUBMB Enzyme Nomenclature: 5.4.2.2\\n            ExPASy - ENZYME nomenclature database: 5.4.2.2\\n            BRENDA, the Enzyme Database: 5.4.2.2\\n            CAS: 9001-81-4\\n///\\n'"
      ]
     },
     "execution_count": 13,
     "metadata": {},
     "output_type": "execute_result"
    }
   ],
   "source": [
    "request.read()"
   ]
  },
  {
   "cell_type": "code",
   "execution_count": null,
   "metadata": {},
   "outputs": [],
   "source": []
  },
  {
   "cell_type": "markdown",
   "metadata": {},
   "source": [
    ">>> from Bio.KEGG import REST\n",
    ">>> from Bio.KEGG import Enzyme\n",
    ">>> request = REST.kegg_get(\"ec:5.4.2.2\")\n",
    ">>> open(\"ec_5.4.2.2.txt\", 'w').write(request.read())\n",
    ">>> records = Enzyme.parse(open(\"ec_5.4.2.2.txt\"))\n",
    ">>> record = list(records)[0]\n",
    ">>> record.classname\n",
    "['Isomerases;', 'Intramolecular transferases;', 'Phosphotransferases (phosphomutases)']\n",
    ">>> record.entry\n",
    "'5.4.2.2'\n"
   ]
  },
  {
   "cell_type": "code",
   "execution_count": 4,
   "metadata": {},
   "outputs": [
    {
     "data": {
      "text/plain": [
       "157253"
      ]
     },
     "execution_count": 4,
     "metadata": {},
     "output_type": "execute_result"
    }
   ],
   "source": [
    "open(\"ec_5.4.2.2.txt\", 'w').write(request.read())"
   ]
  },
  {
   "cell_type": "code",
   "execution_count": 5,
   "metadata": {},
   "outputs": [],
   "source": [
    "records = Enzyme.parse(open(\"ec_5.4.2.2.txt\"))"
   ]
  },
  {
   "cell_type": "code",
   "execution_count": 7,
   "metadata": {},
   "outputs": [],
   "source": [
    "record = list(records)[0]"
   ]
  },
  {
   "cell_type": "code",
   "execution_count": 8,
   "metadata": {},
   "outputs": [
    {
     "data": {
      "text/plain": [
       "<Bio.KEGG.Enzyme.Record at 0x10e8127f0>"
      ]
     },
     "execution_count": 8,
     "metadata": {},
     "output_type": "execute_result"
    }
   ],
   "source": [
    "record"
   ]
  },
  {
   "cell_type": "code",
   "execution_count": 9,
   "metadata": {},
   "outputs": [
    {
     "data": {
      "text/plain": [
       "['Isomerases;',\n",
       " 'Intramolecular transferases;',\n",
       " 'Phosphotransferases (phosphomutases)']"
      ]
     },
     "execution_count": 9,
     "metadata": {},
     "output_type": "execute_result"
    }
   ],
   "source": [
    "record.classname"
   ]
  },
  {
   "cell_type": "code",
   "execution_count": 10,
   "metadata": {},
   "outputs": [
    {
     "data": {
      "text/plain": [
       "'5.4.2.2'"
      ]
     },
     "execution_count": 10,
     "metadata": {},
     "output_type": "execute_result"
    }
   ],
   "source": [
    "record.entry"
   ]
  },
  {
   "cell_type": "code",
   "execution_count": null,
   "metadata": {},
   "outputs": [],
   "source": []
  },
  {
   "cell_type": "markdown",
   "metadata": {},
   "source": [
    "from Bio.KEGG import REST\n",
    "\n",
    "human_pathways = REST.kegg_list(\"pathway\", \"hsa\").read()\n",
    "\n",
    "# Filter all human pathways for repair pathways\n",
    "repair_pathways = []\n",
    "for line in human_pathways.rstrip().split(\"\\n\"):\n",
    "    entry, description = line.split(\"\\t\")\n",
    "    if \"repair\" in description:\n",
    "        repair_pathways.append(entry)\n",
    "\n",
    "# Get the genes for pathways and add them to a list\n",
    "repair_genes = []\n",
    "for pathway in repair_pathways:\n",
    "    pathway_file = REST.kegg_get(pathway).read()  # query and read each pathway\n",
    "\n",
    "    # iterate through each KEGG pathway file, keeping track of which section\n",
    "    # of the file we're in, only read the gene in each pathway\n",
    "    current_section = None\n",
    "    for line in pathway_file.rstrip().split(\"\\n\"):\n",
    "        section = line[:12].strip()  # section names are within 12 columns\n",
    "        if not section == \"\":\n",
    "            current_section = section\n",
    "\n",
    "        if current_section == \"GENE\":\n",
    "            gene_identifiers, gene_description = line[12:].split(\"; \")\n",
    "            gene_id, gene_symbol = gene_identifiers.split()\n",
    "\n",
    "            if not gene_symbol in repair_genes:\n",
    "                repair_genes.append(gene_symbol)\n",
    "\n",
    "print(\"There are %d repair pathways and %d repair genes. The genes are:\" % \\\n",
    "      (len(repair_pathways), len(repair_genes)))\n",
    "print(\", \".join(repair_genes))"
   ]
  },
  {
   "cell_type": "code",
   "execution_count": 52,
   "metadata": {},
   "outputs": [
    {
     "name": "stdout",
     "output_type": "stream",
     "text": [
      "There are 3 repair pathways and 78 repair genes. The genes are:\n",
      "OGG1, NTHL1, NEIL1, NEIL2, NEIL3, UNG, SMUG1, MUTYH, MPG, MBD4, TDG, APEX1, APEX2, POLB, POLL, HMGB1, XRCC1, PCNA, POLD1, POLD2, POLD3, POLD4, POLE, POLE2, POLE3, POLE4, LIG1, LIG3, PARP2, PARP1, PARP3, PARP4, FEN1, RBX1, CUL4B, CUL4A, DDB1, DDB2, XPC, RAD23B, RAD23A, CETN2, ERCC8, ERCC6, CDK7, MNAT1, CCNH, ERCC3, ERCC2, GTF2H5, GTF2H1, GTF2H2, GTF2H2C_2, GTF2H2C, GTF2H3, GTF2H4, ERCC5, BIVM-ERCC5, XPA, RPA1, RPA2, RPA3, RPA4, ERCC4, ERCC1, RFC1, RFC4, RFC2, RFC5, RFC3, SSBP1, PMS2, MLH1, MSH6, MSH2, MSH3, MLH3, EXO1\n"
     ]
    }
   ],
   "source": [
    "# tutorial\n",
    "\n",
    "human_pathways = REST.kegg_list(\"pathway\", \"hsa\").read()\n",
    "\n",
    "# Filter all human pathways for repair pathways\n",
    "repair_pathways = []\n",
    "for line in human_pathways.rstrip().split(\"\\n\"):\n",
    "    entry, description = line.split(\"\\t\")\n",
    "    if \"repair\" in description:\n",
    "        repair_pathways.append(entry)\n",
    "\n",
    "# Get the genes for pathways and add them to a list\n",
    "repair_genes = []\n",
    "for pathway in repair_pathways:\n",
    "    pathway_file = REST.kegg_get(pathway).read()  # query and read each pathway\n",
    "\n",
    "    # iterate through each KEGG pathway file, keeping track of which section\n",
    "    # of the file we're in, only read the gene in each pathway\n",
    "    current_section = None\n",
    "    for line in pathway_file.rstrip().split(\"\\n\"):\n",
    "        section = line[:12].strip()  # section names are within 12 columns\n",
    "        if not section == \"\":\n",
    "            current_section = section\n",
    "\n",
    "        if current_section == \"GENE\":\n",
    "            gene_identifiers, gene_description = line[12:].split(\"; \")\n",
    "            gene_id, gene_symbol = gene_identifiers.split()\n",
    "\n",
    "            if not gene_symbol in repair_genes:\n",
    "                repair_genes.append(gene_symbol)\n",
    "\n",
    "print(\"There are %d repair pathways and %d repair genes. The genes are:\" % \\\n",
    "      (len(repair_pathways), len(repair_genes)))\n",
    "print(\", \".join(repair_genes))"
   ]
  },
  {
   "cell_type": "code",
   "execution_count": 37,
   "metadata": {},
   "outputs": [],
   "source": [
    "human_pathways = REST.kegg_list(\"pathway\", \"hsa\")"
   ]
  },
  {
   "cell_type": "code",
   "execution_count": 38,
   "metadata": {},
   "outputs": [],
   "source": [
    "df = pd.read_csv(human_pathways, sep='\\t', header=None)"
   ]
  },
  {
   "cell_type": "code",
   "execution_count": 41,
   "metadata": {},
   "outputs": [
    {
     "data": {
      "text/html": [
       "<div>\n",
       "<style scoped>\n",
       "    .dataframe tbody tr th:only-of-type {\n",
       "        vertical-align: middle;\n",
       "    }\n",
       "\n",
       "    .dataframe tbody tr th {\n",
       "        vertical-align: top;\n",
       "    }\n",
       "\n",
       "    .dataframe thead th {\n",
       "        text-align: right;\n",
       "    }\n",
       "</style>\n",
       "<table border=\"1\" class=\"dataframe\">\n",
       "  <thead>\n",
       "    <tr style=\"text-align: right;\">\n",
       "      <th></th>\n",
       "      <th>0</th>\n",
       "      <th>1</th>\n",
       "    </tr>\n",
       "  </thead>\n",
       "  <tbody>\n",
       "    <tr>\n",
       "      <th>0</th>\n",
       "      <td>path:hsa00010</td>\n",
       "      <td>Glycolysis / Gluconeogenesis - Homo sapiens (h...</td>\n",
       "    </tr>\n",
       "    <tr>\n",
       "      <th>1</th>\n",
       "      <td>path:hsa00020</td>\n",
       "      <td>Citrate cycle (TCA cycle) - Homo sapiens (human)</td>\n",
       "    </tr>\n",
       "    <tr>\n",
       "      <th>2</th>\n",
       "      <td>path:hsa00030</td>\n",
       "      <td>Pentose phosphate pathway - Homo sapiens (human)</td>\n",
       "    </tr>\n",
       "    <tr>\n",
       "      <th>3</th>\n",
       "      <td>path:hsa00040</td>\n",
       "      <td>Pentose and glucuronate interconversions - Hom...</td>\n",
       "    </tr>\n",
       "    <tr>\n",
       "      <th>4</th>\n",
       "      <td>path:hsa00051</td>\n",
       "      <td>Fructose and mannose metabolism - Homo sapiens...</td>\n",
       "    </tr>\n",
       "  </tbody>\n",
       "</table>\n",
       "</div>"
      ],
      "text/plain": [
       "               0                                                  1\n",
       "0  path:hsa00010  Glycolysis / Gluconeogenesis - Homo sapiens (h...\n",
       "1  path:hsa00020   Citrate cycle (TCA cycle) - Homo sapiens (human)\n",
       "2  path:hsa00030   Pentose phosphate pathway - Homo sapiens (human)\n",
       "3  path:hsa00040  Pentose and glucuronate interconversions - Hom...\n",
       "4  path:hsa00051  Fructose and mannose metabolism - Homo sapiens..."
      ]
     },
     "execution_count": 41,
     "metadata": {},
     "output_type": "execute_result"
    }
   ],
   "source": [
    "df.head()"
   ]
  },
  {
   "cell_type": "code",
   "execution_count": null,
   "metadata": {},
   "outputs": [],
   "source": []
  },
  {
   "cell_type": "markdown",
   "metadata": {},
   "source": [
    "## experimentation\n",
    "\n",
    "#### current # of enzymes in KEGG:\n",
    "\n",
    "| database      | entry type          | number of entries |\n",
    "| :------------ | :------------------ | :---------------- |\n",
    "| KEGG Enzyme\t| Enzyme nomenclature |\t7,524             |\n",
    "| KEGG Compound\t| Metabolic compounds |\t18,505            |\n"
   ]
  },
  {
   "cell_type": "code",
   "execution_count": 28,
   "metadata": {},
   "outputs": [
    {
     "data": {
      "text/plain": [
       "'enzyme           KEGG Enzyme Database\\nec               Release 89.0+/02-22, Feb 19\\n                 Kanehisa Laboratories\\n                 7,524 entries\\n\\nlinked db        pathway\\n                 module\\n                 ko\\n                 <org>\\n                 vg\\n                 ag\\n                 compound\\n                 glycan\\n                 reaction\\n                 rclass\\n'"
      ]
     },
     "execution_count": 28,
     "metadata": {},
     "output_type": "execute_result"
    }
   ],
   "source": [
    "REST.kegg_info('enzyme').read()"
   ]
  },
  {
   "cell_type": "code",
   "execution_count": 46,
   "metadata": {},
   "outputs": [
    {
     "data": {
      "text/html": [
       "<div>\n",
       "<style scoped>\n",
       "    .dataframe tbody tr th:only-of-type {\n",
       "        vertical-align: middle;\n",
       "    }\n",
       "\n",
       "    .dataframe tbody tr th {\n",
       "        vertical-align: top;\n",
       "    }\n",
       "\n",
       "    .dataframe thead th {\n",
       "        text-align: right;\n",
       "    }\n",
       "</style>\n",
       "<table border=\"1\" class=\"dataframe\">\n",
       "  <thead>\n",
       "    <tr style=\"text-align: right;\">\n",
       "      <th></th>\n",
       "      <th>EC number</th>\n",
       "      <th>description</th>\n",
       "    </tr>\n",
       "  </thead>\n",
       "  <tbody>\n",
       "    <tr>\n",
       "      <th>0</th>\n",
       "      <td>ec:1.1.1.1</td>\n",
       "      <td>alcohol dehydrogenase; aldehyde reductase; ADH...</td>\n",
       "    </tr>\n",
       "    <tr>\n",
       "      <th>1</th>\n",
       "      <td>ec:1.1.1.2</td>\n",
       "      <td>alcohol dehydrogenase (NADP+); aldehyde reduct...</td>\n",
       "    </tr>\n",
       "    <tr>\n",
       "      <th>2</th>\n",
       "      <td>ec:1.1.1.3</td>\n",
       "      <td>homoserine dehydrogenase; HSDH; HSD</td>\n",
       "    </tr>\n",
       "    <tr>\n",
       "      <th>3</th>\n",
       "      <td>ec:1.1.1.4</td>\n",
       "      <td>(R,R)-butanediol dehydrogenase; butyleneglycol...</td>\n",
       "    </tr>\n",
       "    <tr>\n",
       "      <th>4</th>\n",
       "      <td>ec:1.1.1.5</td>\n",
       "      <td>Transferred to 1.1.1.303 and 1.1.1.304</td>\n",
       "    </tr>\n",
       "  </tbody>\n",
       "</table>\n",
       "</div>"
      ],
      "text/plain": [
       "    EC number                                        description\n",
       "0  ec:1.1.1.1  alcohol dehydrogenase; aldehyde reductase; ADH...\n",
       "1  ec:1.1.1.2  alcohol dehydrogenase (NADP+); aldehyde reduct...\n",
       "2  ec:1.1.1.3                homoserine dehydrogenase; HSDH; HSD\n",
       "3  ec:1.1.1.4  (R,R)-butanediol dehydrogenase; butyleneglycol...\n",
       "4  ec:1.1.1.5             Transferred to 1.1.1.303 and 1.1.1.304"
      ]
     },
     "execution_count": 46,
     "metadata": {},
     "output_type": "execute_result"
    }
   ],
   "source": [
    "enzyme_list = pd.read_csv(REST.kegg_list('enzyme'), sep='\\t', header=None, names=['EC number', 'description'])\n",
    "\n",
    "enzyme_list.head()"
   ]
  },
  {
   "cell_type": "code",
   "execution_count": 50,
   "metadata": {},
   "outputs": [
    {
     "data": {
      "text/plain": [
       "(7524, 2)"
      ]
     },
     "execution_count": 50,
     "metadata": {},
     "output_type": "execute_result"
    }
   ],
   "source": [
    "enzyme_list.shape"
   ]
  },
  {
   "cell_type": "code",
   "execution_count": 55,
   "metadata": {},
   "outputs": [],
   "source": [
    "# nope - try using the parser\n",
    "\n",
    "first_enzyme = pd.read_csv(REST.kegg_get('ec:1.1.1.1'), sep='\\t')\n",
    "\n",
    "first_enzyme"
   ]
  },
  {
   "cell_type": "code",
   "execution_count": 56,
   "metadata": {},
   "outputs": [
    {
     "data": {
      "text/html": [
       "<div>\n",
       "<style scoped>\n",
       "    .dataframe tbody tr th:only-of-type {\n",
       "        vertical-align: middle;\n",
       "    }\n",
       "\n",
       "    .dataframe tbody tr th {\n",
       "        vertical-align: top;\n",
       "    }\n",
       "\n",
       "    .dataframe thead th {\n",
       "        text-align: right;\n",
       "    }\n",
       "</style>\n",
       "<table border=\"1\" class=\"dataframe\">\n",
       "  <thead>\n",
       "    <tr style=\"text-align: right;\">\n",
       "      <th></th>\n",
       "      <th>ENTRY       EC 1.1.1.1                  Enzyme</th>\n",
       "    </tr>\n",
       "  </thead>\n",
       "  <tbody>\n",
       "    <tr>\n",
       "      <th>0</th>\n",
       "      <td>NAME        alcohol dehydrogenase;</td>\n",
       "    </tr>\n",
       "    <tr>\n",
       "      <th>1</th>\n",
       "      <td>aldehyde reductase;</td>\n",
       "    </tr>\n",
       "    <tr>\n",
       "      <th>2</th>\n",
       "      <td>ADH;</td>\n",
       "    </tr>\n",
       "    <tr>\n",
       "      <th>3</th>\n",
       "      <td>alcohol dehydrogenase (NAD);</td>\n",
       "    </tr>\n",
       "    <tr>\n",
       "      <th>4</th>\n",
       "      <td>aliphatic alcohol dehydrogenase;</td>\n",
       "    </tr>\n",
       "    <tr>\n",
       "      <th>5</th>\n",
       "      <td>ethanol dehydrogenase;</td>\n",
       "    </tr>\n",
       "    <tr>\n",
       "      <th>6</th>\n",
       "      <td>NAD-dependent alcohol dehydrogenase;</td>\n",
       "    </tr>\n",
       "    <tr>\n",
       "      <th>7</th>\n",
       "      <td>NAD-specific aromatic alcohol dehy...</td>\n",
       "    </tr>\n",
       "    <tr>\n",
       "      <th>8</th>\n",
       "      <td>NADH-alcohol dehydrogenase;</td>\n",
       "    </tr>\n",
       "    <tr>\n",
       "      <th>9</th>\n",
       "      <td>NADH-aldehyde dehydrogenase;</td>\n",
       "    </tr>\n",
       "    <tr>\n",
       "      <th>10</th>\n",
       "      <td>primary alcohol dehydrogenase;</td>\n",
       "    </tr>\n",
       "    <tr>\n",
       "      <th>11</th>\n",
       "      <td>yeast alcohol dehydrogenase</td>\n",
       "    </tr>\n",
       "    <tr>\n",
       "      <th>12</th>\n",
       "      <td>CLASS       Oxidoreductases;</td>\n",
       "    </tr>\n",
       "    <tr>\n",
       "      <th>13</th>\n",
       "      <td>Acting on the CH-OH group of donors;</td>\n",
       "    </tr>\n",
       "    <tr>\n",
       "      <th>14</th>\n",
       "      <td>With NAD+ or NADP+ as acceptor</td>\n",
       "    </tr>\n",
       "    <tr>\n",
       "      <th>15</th>\n",
       "      <td>SYSNAME     alcohol:NAD+ oxidoreductase</td>\n",
       "    </tr>\n",
       "    <tr>\n",
       "      <th>16</th>\n",
       "      <td>REACTION    (1) a primary alcohol + NAD+ = an ...</td>\n",
       "    </tr>\n",
       "    <tr>\n",
       "      <th>17</th>\n",
       "      <td>(2) a secondary alcohol + NAD+ = a...</td>\n",
       "    </tr>\n",
       "    <tr>\n",
       "      <th>18</th>\n",
       "      <td>ALL_REAC    R00623 &gt; R00754 R02124 R02878 R048...</td>\n",
       "    </tr>\n",
       "    <tr>\n",
       "      <th>19</th>\n",
       "      <td>R00624 &gt; R08310;</td>\n",
       "    </tr>\n",
       "    <tr>\n",
       "      <th>20</th>\n",
       "      <td>(other) R07105</td>\n",
       "    </tr>\n",
       "    <tr>\n",
       "      <th>21</th>\n",
       "      <td>SUBSTRATE   primary alcohol [CPD:C00226];</td>\n",
       "    </tr>\n",
       "    <tr>\n",
       "      <th>22</th>\n",
       "      <td>NAD+ [CPD:C00003];</td>\n",
       "    </tr>\n",
       "    <tr>\n",
       "      <th>23</th>\n",
       "      <td>secondary alcohol [CPD:C01612]</td>\n",
       "    </tr>\n",
       "    <tr>\n",
       "      <th>24</th>\n",
       "      <td>PRODUCT     aldehyde [CPD:C00071];</td>\n",
       "    </tr>\n",
       "    <tr>\n",
       "      <th>25</th>\n",
       "      <td>NADH [CPD:C00004];</td>\n",
       "    </tr>\n",
       "    <tr>\n",
       "      <th>26</th>\n",
       "      <td>H+ [CPD:C00080];</td>\n",
       "    </tr>\n",
       "    <tr>\n",
       "      <th>27</th>\n",
       "      <td>ketone [CPD:C01450]</td>\n",
       "    </tr>\n",
       "    <tr>\n",
       "      <th>28</th>\n",
       "      <td>COMMENT     A zinc protein. Acts on primary or...</td>\n",
       "    </tr>\n",
       "    <tr>\n",
       "      <th>29</th>\n",
       "      <td>HISTORY     EC 1.1.1.1 created 1961, modified ...</td>\n",
       "    </tr>\n",
       "    <tr>\n",
       "      <th>...</th>\n",
       "      <td>...</td>\n",
       "    </tr>\n",
       "    <tr>\n",
       "      <th>4226</th>\n",
       "      <td>TUZ: TUZN_2066</td>\n",
       "    </tr>\n",
       "    <tr>\n",
       "      <th>4227</th>\n",
       "      <td>VDI: Vdis_0262</td>\n",
       "    </tr>\n",
       "    <tr>\n",
       "      <th>4228</th>\n",
       "      <td>VMO: VMUT_1371</td>\n",
       "    </tr>\n",
       "    <tr>\n",
       "      <th>4229</th>\n",
       "      <td>TPE: Tpen_1006 Tpen_1516</td>\n",
       "    </tr>\n",
       "    <tr>\n",
       "      <th>4230</th>\n",
       "      <td>THB: N186_09535</td>\n",
       "    </tr>\n",
       "    <tr>\n",
       "      <th>4231</th>\n",
       "      <td>TCB: TCARB_1030</td>\n",
       "    </tr>\n",
       "    <tr>\n",
       "      <th>4232</th>\n",
       "      <td>CLG: Calag_0837</td>\n",
       "    </tr>\n",
       "    <tr>\n",
       "      <th>4233</th>\n",
       "      <td>NMR: Nmar_0523 Nmar_1193</td>\n",
       "    </tr>\n",
       "    <tr>\n",
       "      <th>4234</th>\n",
       "      <td>NIR: NSED_02630 NSED_06790</td>\n",
       "    </tr>\n",
       "    <tr>\n",
       "      <th>4235</th>\n",
       "      <td>NID: NPIRD3C_0912 NPIRD3C_1754(adh)</td>\n",
       "    </tr>\n",
       "    <tr>\n",
       "      <th>4236</th>\n",
       "      <td>NIN: NADRNF5_0733 NADRNF5_1662(adh)</td>\n",
       "    </tr>\n",
       "    <tr>\n",
       "      <th>4237</th>\n",
       "      <td>NKR: NKOR_02700 NKOR_06810</td>\n",
       "    </tr>\n",
       "    <tr>\n",
       "      <th>4238</th>\n",
       "      <td>NCT: NMSP_0465(adh_1) NMSP_1151(ad...</td>\n",
       "    </tr>\n",
       "    <tr>\n",
       "      <th>4239</th>\n",
       "      <td>CSY: CENSYa_0510 CENSYa_1407</td>\n",
       "    </tr>\n",
       "    <tr>\n",
       "      <th>4240</th>\n",
       "      <td>NGA: Ngar_c04840(adh2) Ngar_c20250...</td>\n",
       "    </tr>\n",
       "    <tr>\n",
       "      <th>4241</th>\n",
       "      <td>NVN: NVIE_016260(adh2) NVIE_026080...</td>\n",
       "    </tr>\n",
       "    <tr>\n",
       "      <th>4242</th>\n",
       "      <td>NEV: NTE_00762 NTE_01163 NTE_02969...</td>\n",
       "    </tr>\n",
       "    <tr>\n",
       "      <th>4243</th>\n",
       "      <td>TAA: NMY3_01181(adh) NMY3_01336 NM...</td>\n",
       "    </tr>\n",
       "    <tr>\n",
       "      <th>4244</th>\n",
       "      <td>NCV: NCAV_0201(adh) NCAV_1789(adhP)</td>\n",
       "    </tr>\n",
       "    <tr>\n",
       "      <th>4245</th>\n",
       "      <td>NBV: T478_0389 T478_0521</td>\n",
       "    </tr>\n",
       "    <tr>\n",
       "      <th>4246</th>\n",
       "      <td>TAH: SU86_000205 SU86_003485</td>\n",
       "    </tr>\n",
       "    <tr>\n",
       "      <th>4247</th>\n",
       "      <td>NDV: NDEV_0270(adh)</td>\n",
       "    </tr>\n",
       "    <tr>\n",
       "      <th>4248</th>\n",
       "      <td>LOKI: Lokiarch_02570(adhE_2) Lokia...</td>\n",
       "    </tr>\n",
       "    <tr>\n",
       "      <th>4249</th>\n",
       "      <td>DBLINKS     ExplorEnz - The Enzyme Database: 1...</td>\n",
       "    </tr>\n",
       "    <tr>\n",
       "      <th>4250</th>\n",
       "      <td>IUBMB Enzyme Nomenclature: 1.1.1.1</td>\n",
       "    </tr>\n",
       "    <tr>\n",
       "      <th>4251</th>\n",
       "      <td>ExPASy - ENZYME nomenclature datab...</td>\n",
       "    </tr>\n",
       "    <tr>\n",
       "      <th>4252</th>\n",
       "      <td>UM-BBD (Biocatalysis/Biodegradatio...</td>\n",
       "    </tr>\n",
       "    <tr>\n",
       "      <th>4253</th>\n",
       "      <td>BRENDA, the Enzyme Database: 1.1.1.1</td>\n",
       "    </tr>\n",
       "    <tr>\n",
       "      <th>4254</th>\n",
       "      <td>CAS: 9031-72-5</td>\n",
       "    </tr>\n",
       "    <tr>\n",
       "      <th>4255</th>\n",
       "      <td>///</td>\n",
       "    </tr>\n",
       "  </tbody>\n",
       "</table>\n",
       "<p>4256 rows × 1 columns</p>\n",
       "</div>"
      ],
      "text/plain": [
       "         ENTRY       EC 1.1.1.1                  Enzyme\n",
       "0                    NAME        alcohol dehydrogenase;\n",
       "1                                   aldehyde reductase;\n",
       "2                                                  ADH;\n",
       "3                          alcohol dehydrogenase (NAD);\n",
       "4                      aliphatic alcohol dehydrogenase;\n",
       "5                                ethanol dehydrogenase;\n",
       "6                  NAD-dependent alcohol dehydrogenase;\n",
       "7                 NAD-specific aromatic alcohol dehy...\n",
       "8                           NADH-alcohol dehydrogenase;\n",
       "9                          NADH-aldehyde dehydrogenase;\n",
       "10                       primary alcohol dehydrogenase;\n",
       "11                          yeast alcohol dehydrogenase\n",
       "12                         CLASS       Oxidoreductases;\n",
       "13                 Acting on the CH-OH group of donors;\n",
       "14                       With NAD+ or NADP+ as acceptor\n",
       "15              SYSNAME     alcohol:NAD+ oxidoreductase\n",
       "16    REACTION    (1) a primary alcohol + NAD+ = an ...\n",
       "17                (2) a secondary alcohol + NAD+ = a...\n",
       "18    ALL_REAC    R00623 > R00754 R02124 R02878 R048...\n",
       "19                                     R00624 > R08310;\n",
       "20                                       (other) R07105\n",
       "21            SUBSTRATE   primary alcohol [CPD:C00226];\n",
       "22                                   NAD+ [CPD:C00003];\n",
       "23                       secondary alcohol [CPD:C01612]\n",
       "24                   PRODUCT     aldehyde [CPD:C00071];\n",
       "25                                   NADH [CPD:C00004];\n",
       "26                                     H+ [CPD:C00080];\n",
       "27                                  ketone [CPD:C01450]\n",
       "28    COMMENT     A zinc protein. Acts on primary or...\n",
       "29    HISTORY     EC 1.1.1.1 created 1961, modified ...\n",
       "...                                                 ...\n",
       "4226                                     TUZ: TUZN_2066\n",
       "4227                                     VDI: Vdis_0262\n",
       "4228                                     VMO: VMUT_1371\n",
       "4229                           TPE: Tpen_1006 Tpen_1516\n",
       "4230                                    THB: N186_09535\n",
       "4231                                    TCB: TCARB_1030\n",
       "4232                                    CLG: Calag_0837\n",
       "4233                           NMR: Nmar_0523 Nmar_1193\n",
       "4234                         NIR: NSED_02630 NSED_06790\n",
       "4235                NID: NPIRD3C_0912 NPIRD3C_1754(adh)\n",
       "4236                NIN: NADRNF5_0733 NADRNF5_1662(adh)\n",
       "4237                         NKR: NKOR_02700 NKOR_06810\n",
       "4238              NCT: NMSP_0465(adh_1) NMSP_1151(ad...\n",
       "4239                       CSY: CENSYa_0510 CENSYa_1407\n",
       "4240              NGA: Ngar_c04840(adh2) Ngar_c20250...\n",
       "4241              NVN: NVIE_016260(adh2) NVIE_026080...\n",
       "4242              NEV: NTE_00762 NTE_01163 NTE_02969...\n",
       "4243              TAA: NMY3_01181(adh) NMY3_01336 NM...\n",
       "4244                NCV: NCAV_0201(adh) NCAV_1789(adhP)\n",
       "4245                           NBV: T478_0389 T478_0521\n",
       "4246                       TAH: SU86_000205 SU86_003485\n",
       "4247                                NDV: NDEV_0270(adh)\n",
       "4248              LOKI: Lokiarch_02570(adhE_2) Lokia...\n",
       "4249  DBLINKS     ExplorEnz - The Enzyme Database: 1...\n",
       "4250                 IUBMB Enzyme Nomenclature: 1.1.1.1\n",
       "4251              ExPASy - ENZYME nomenclature datab...\n",
       "4252              UM-BBD (Biocatalysis/Biodegradatio...\n",
       "4253               BRENDA, the Enzyme Database: 1.1.1.1\n",
       "4254                                     CAS: 9031-72-5\n",
       "4255                                                ///\n",
       "\n",
       "[4256 rows x 1 columns]"
      ]
     },
     "execution_count": 56,
     "metadata": {},
     "output_type": "execute_result"
    }
   ],
   "source": [
    "first_enzyme"
   ]
  },
  {
   "cell_type": "code",
   "execution_count": 60,
   "metadata": {},
   "outputs": [
    {
     "data": {
      "text/html": [
       "<div>\n",
       "<style scoped>\n",
       "    .dataframe tbody tr th:only-of-type {\n",
       "        vertical-align: middle;\n",
       "    }\n",
       "\n",
       "    .dataframe tbody tr th {\n",
       "        vertical-align: top;\n",
       "    }\n",
       "\n",
       "    .dataframe thead th {\n",
       "        text-align: right;\n",
       "    }\n",
       "</style>\n",
       "<table border=\"1\" class=\"dataframe\">\n",
       "  <thead>\n",
       "    <tr style=\"text-align: right;\">\n",
       "      <th></th>\n",
       "      <th>reaction ID</th>\n",
       "      <th>description</th>\n",
       "    </tr>\n",
       "  </thead>\n",
       "  <tbody>\n",
       "    <tr>\n",
       "      <th>0</th>\n",
       "      <td>rn:R00001</td>\n",
       "      <td>polyphosphate polyphosphohydrolase; Polyphosph...</td>\n",
       "    </tr>\n",
       "    <tr>\n",
       "      <th>1</th>\n",
       "      <td>rn:R00002</td>\n",
       "      <td>Reduced ferredoxin:dinitrogen oxidoreductase (...</td>\n",
       "    </tr>\n",
       "    <tr>\n",
       "      <th>2</th>\n",
       "      <td>rn:R00004</td>\n",
       "      <td>diphosphate phosphohydrolase; pyrophosphate ph...</td>\n",
       "    </tr>\n",
       "    <tr>\n",
       "      <th>3</th>\n",
       "      <td>rn:R00005</td>\n",
       "      <td>urea-1-carboxylate amidohydrolase; Urea-1-carb...</td>\n",
       "    </tr>\n",
       "    <tr>\n",
       "      <th>4</th>\n",
       "      <td>rn:R00006</td>\n",
       "      <td>pyruvate:pyruvate acetaldehydetransferase (dec...</td>\n",
       "    </tr>\n",
       "  </tbody>\n",
       "</table>\n",
       "</div>"
      ],
      "text/plain": [
       "  reaction ID                                        description\n",
       "0   rn:R00001  polyphosphate polyphosphohydrolase; Polyphosph...\n",
       "1   rn:R00002  Reduced ferredoxin:dinitrogen oxidoreductase (...\n",
       "2   rn:R00004  diphosphate phosphohydrolase; pyrophosphate ph...\n",
       "3   rn:R00005  urea-1-carboxylate amidohydrolase; Urea-1-carb...\n",
       "4   rn:R00006  pyruvate:pyruvate acetaldehydetransferase (dec..."
      ]
     },
     "execution_count": 60,
     "metadata": {},
     "output_type": "execute_result"
    }
   ],
   "source": [
    "reactions_df = pd.read_csv(REST.kegg_list('reaction'), sep='\\t', header=None, names=['reaction ID', 'description'])\n",
    "\n",
    "reactions_df.head()"
   ]
  },
  {
   "cell_type": "code",
   "execution_count": 61,
   "metadata": {},
   "outputs": [
    {
     "data": {
      "text/plain": [
       "'polyphosphate polyphosphohydrolase; Polyphosphate + n H2O <=> (n+1) Oligophosphate'"
      ]
     },
     "execution_count": 61,
     "metadata": {},
     "output_type": "execute_result"
    }
   ],
   "source": [
    "reactions_df.description[0]"
   ]
  },
  {
   "cell_type": "code",
   "execution_count": 62,
   "metadata": {},
   "outputs": [
    {
     "data": {
      "text/plain": [
       "(11136, 2)"
      ]
     },
     "execution_count": 62,
     "metadata": {},
     "output_type": "execute_result"
    }
   ],
   "source": [
    "reactions_df.shape"
   ]
  },
  {
   "cell_type": "code",
   "execution_count": null,
   "metadata": {},
   "outputs": [],
   "source": []
  }
 ],
 "metadata": {
  "kernelspec": {
   "display_name": "Python 3",
   "language": "python",
   "name": "python3"
  },
  "language_info": {
   "codemirror_mode": {
    "name": "ipython",
    "version": 3
   },
   "file_extension": ".py",
   "mimetype": "text/x-python",
   "name": "python",
   "nbconvert_exporter": "python",
   "pygments_lexer": "ipython3",
   "version": "3.7.1"
  }
 },
 "nbformat": 4,
 "nbformat_minor": 2
}
