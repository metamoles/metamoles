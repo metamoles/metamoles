{
 "cells": [
  {
   "cell_type": "markdown",
   "metadata": {},
   "source": [
    "# This notebook is created to organize data from MetaCyc into one dataframe"
   ]
  },
  {
   "cell_type": "markdown",
   "metadata": {},
   "source": [
    "### What kind of data is available by MetaCyc zipped file?\n",
    "Noted that we recieved data from Pathway Tools platform version 22.6\n",
    "\n",
    "**Important data that we extracted**\n",
    "- compounds.dat\n",
    "- enzrxns.dat\n",
    "- reactions.dat\n",
    "\n",
    "**Somewhat useful**\n",
    "- atom-mapping and atom-mappint-smiles\n",
    "- pathways\n",
    "\n",
    "**May not be useful**\n",
    "- classes\n",
    "- gene_association\n",
    "- genes\n",
    "- metabolic-reactions.xml\n",
    "- proteins\n",
    "- protligandcplxes\n",
    "- protseq\n",
    "- pubs\n",
    "- regulation\n",
    "- rnas\n",
    "- species\n",
    "- transporters"
   ]
  },
  {
   "cell_type": "code",
   "execution_count": 1,
   "metadata": {},
   "outputs": [],
   "source": [
    "import numpy as np\n",
    "import pandas as pd\n",
    "import math\n",
    "import ast"
   ]
  },
  {
   "cell_type": "markdown",
   "metadata": {},
   "source": [
    "### This is how our desired master dataframe look from last quarter\n",
    "\n",
    "For now, make a dataset with enzyme/compounds linked to each other and then we can use RDKit-based function and existing functions to generate Mol-files, Distance, and Negative data"
   ]
  },
  {
   "cell_type": "markdown",
   "metadata": {},
   "source": [
    "master_df = pd.read_csv('../datasets/MASTER_DF.csv')"
   ]
  },
  {
   "cell_type": "markdown",
   "metadata": {},
   "source": [
    "master_df.head()"
   ]
  },
  {
   "cell_type": "markdown",
   "metadata": {
    "scrolled": true
   },
   "source": [
    "feature_df = master_df[['PubChem', 'dist', 'enzyme_class_1', 'enzyme_class_2', 'enzyme_class_3',\n",
    "       'enzyme_class_4', 'enzyme_class_5', 'enzyme_class_6', 'enzyme_class_7',\n",
    "        'n_O', 'n_N', 'n_P', 'n_S', 'n_X', 'DoU']]\n",
    "feature_df.set_index(keys=['PubChem'], inplace=True)\n",
    "feature_df.head()"
   ]
  },
  {
   "cell_type": "markdown",
   "metadata": {},
   "source": [
    "## The current database from MetaCyc starts here"
   ]
  },
  {
   "cell_type": "code",
   "execution_count": 113,
   "metadata": {},
   "outputs": [],
   "source": [
    "df_cpd = pd.read_csv('df_cpd.csv', index_col = 0)\n",
    "df_rxn = pd.read_csv('parsed_rxns.csv', index_col = 0)\n",
    "df_enz = pd.read_csv('df_enzrxns.csv', index_col = 0)\n",
    "df_cpd = df_cpd.set_index(keys ='UNIQUE-ID')\n",
    "df_rxn = df_rxn.set_index(keys = 'UNIQUE-ID')\n",
    "df_enz = df_enz.set_index(keys = 'UNIQUE-ID')"
   ]
  },
  {
   "cell_type": "markdown",
   "metadata": {},
   "source": [
    "# Here is an important note\n",
    "The data from csv reading is in text formatted which lead to some problematic data handling.\n",
    "- Some int data was read as float e.g. PubChemID which can be fixed by .astype() shown in cell #4\n",
    "- List was formatted in text which required decoding by ast.literal_eval(x) which was written as a fucntion below"
   ]
  },
  {
   "cell_type": "code",
   "execution_count": 86,
   "metadata": {},
   "outputs": [],
   "source": [
    "def recover_list(df, column):\n",
    "    \"\"\"This function will recover a list formatted string read from .csv into a list\"\"\"\n",
    "    assert type(df[column][0]) != type([]), \"TypeError: The data type is already a list, it should not be converted again\"\n",
    "    replacement = []\n",
    "    for index, row in df.iterrows():\n",
    "        \n",
    "        data = []\n",
    "        \n",
    "        if type(row[column]) == type('string'):\n",
    "            data = ast.literal_eval(row[column])\n",
    "        else:\n",
    "            pass\n",
    "        replacement.append(data)\n",
    "    df[column] = replacement\n",
    "    return"
   ]
  },
  {
   "cell_type": "code",
   "execution_count": 114,
   "metadata": {},
   "outputs": [],
   "source": [
    "# Change PubChemID into int type in df_cpd\n",
    "PubChemID_int = df_cpd['PubChemID'].fillna(0).astype(int)\n",
    "df_cpd['PubChemID'] = PubChemID_int\n",
    "\n",
    "# Recover list format of df_rxn\n",
    "rxn_list_fix = ['EC-NUMBER', 'ERXN-NUMBER', 'SUBSTRATES', 'PRODUCTS']\n",
    "for col in rxn_list_fix:\n",
    "    recover_list(df_rxn, col)\n",
    "\n",
    "# Recover list format of df_enz\n",
    "enz_list_fix = ['REACTION', 'ALTERNATIVE-SUBSTRATES', '^SUBSTRATE', 'KM', 'KCAT', 'VMAX']\n",
    "for col in enz_list_fix:\n",
    "    recover_list(df_enz, col)"
   ]
  },
  {
   "cell_type": "markdown",
   "metadata": {},
   "source": [
    "##### the code below verify that all `.astype()` of PubChemID data didn't change the data unless it is `nan`\n",
    "df_cpd = pd.read_csv('df_cpd.csv', index_col = 0)\n",
    "df_cpd = df_cpd.set_index(keys ='UNIQUE-ID')\n",
    "PubChemID_int = df_cpd['PubChemID'].fillna(0).astype(int)\n",
    "for i in range(PubChemID_int.shape[0]):\n",
    "    \n",
    "#print (df_cpd['PubChemID'].loc['CPD-14743'])\n",
    "#a = df_cpd['PubChemID'].loc['CPD-14743']\n",
    "    if PubChemID_int[i] != df_cpd['PubChemID'][i]:\n",
    "        print(PubChemID_int[i], df_cpd['PubChemID'][i])"
   ]
  },
  {
   "cell_type": "code",
   "execution_count": null,
   "metadata": {},
   "outputs": [],
   "source": [
    "df_cpd.head()"
   ]
  },
  {
   "cell_type": "code",
   "execution_count": null,
   "metadata": {
    "scrolled": false
   },
   "outputs": [],
   "source": [
    "df_rxn.head()"
   ]
  },
  {
   "cell_type": "code",
   "execution_count": null,
   "metadata": {
    "scrolled": false
   },
   "outputs": [],
   "source": [
    "df_enz.head()"
   ]
  },
  {
   "cell_type": "markdown",
   "metadata": {},
   "source": [
    "`&beta;-<i>N</i>-acetylhexosaminidase` refer to __&beta;-<i>N</i>-acetylhexosaminidase__"
   ]
  },
  {
   "cell_type": "markdown",
   "metadata": {},
   "source": [
    "Some weird notation here\n",
    "- RXN-12314 doesn't have any enzyme affilated\n",
    "- However, it links to a certain enzymatic reaction ENZRXN-19061 which has the reaction linked back as well\n",
    "- What I don't understand is ENZYME column from enzrxn dataset which link to somewhere else that we cannot find an enzyme database in this current version of MetaCyc database\n",
    "    - This ENZYME name and common name match with ENZYME name in rxn dataset. However, this is still unclear"
   ]
  },
  {
   "cell_type": "markdown",
   "metadata": {},
   "source": [
    "##### Write a function that call a `UNIQUE-ID` or `COMMON-NAME` into InChI\n",
    "This is an easiest approach to link df_rxn with df_cpd"
   ]
  },
  {
   "cell_type": "code",
   "execution_count": null,
   "metadata": {},
   "outputs": [],
   "source": [
    "def get_inchi(ID):\n",
    "    \n",
    "    \"\"\"This function accept UNIQUE-ID and return InChI string of a certain compound\"\"\"\n",
    "    \n",
    "    inchi = df_cpd['INCHI'][ID]\n",
    "    \n",
    "    return inchi\n",
    "\n",
    "def get_smiles(ID):\n",
    "    \n",
    "    \"\"\"This function accept UNIQUE-ID and return SMILES string of a certain compound\"\"\"\n",
    "    \n",
    "    smiles = df_cpd['SMILES'][ID]\n",
    "    \n",
    "    return smiles"
   ]
  },
  {
   "cell_type": "code",
   "execution_count": 112,
   "metadata": {},
   "outputs": [],
   "source": [
    "def get_pubchem(ID):\n",
    "    \n",
    "    \"\"\"This function accept UNIQUE-ID and return InChI string of a certain compound\"\"\"\n",
    "    if ID in df_cpd['PubChemID']:\n",
    "        pubchem = df_cpd['PubChemID'][ID]\n",
    "    else:\n",
    "        pubchem = '0'\n",
    "        \n",
    "    return pubchem"
   ]
  },
  {
   "cell_type": "code",
   "execution_count": null,
   "metadata": {},
   "outputs": [],
   "source": [
    "get_inchi('CPD-7557')"
   ]
  },
  {
   "cell_type": "code",
   "execution_count": null,
   "metadata": {},
   "outputs": [],
   "source": [
    "get_smiles('CPD-7557')"
   ]
  },
  {
   "cell_type": "markdown",
   "metadata": {},
   "source": [
    "df_enz.loc['ENZRXN-19061']"
   ]
  },
  {
   "cell_type": "markdown",
   "metadata": {},
   "source": [
    "type(int(df_cpd['PubChemID'].loc['CPD-14966']))"
   ]
  },
  {
   "cell_type": "markdown",
   "metadata": {},
   "source": [
    "df_cpd.loc['5-AMINO-LEVULINATE']"
   ]
  },
  {
   "cell_type": "markdown",
   "metadata": {},
   "source": [
    "df_cpd.loc['PROTON']"
   ]
  },
  {
   "cell_type": "markdown",
   "metadata": {},
   "source": [
    "df_rxn.head()"
   ]
  },
  {
   "cell_type": "markdown",
   "metadata": {},
   "source": [
    "df_rxn.loc['3.2.1.52-RXN']"
   ]
  },
  {
   "cell_type": "markdown",
   "metadata": {},
   "source": [
    "To strip the string see method below\n",
    ">>> import ast\n",
    ">>> x = u'[ \"A\",\"B\",\"C\" , \" D\"]'\n",
    ">>> x = ast.literal_eval(x)\n",
    ">>> x\n",
    "['A', 'B', 'C', ' D']\n",
    ">>> x = [n.strip() for n in x]\n",
    ">>> x\n",
    "['A', 'B', 'C', 'D']"
   ]
  },
  {
   "cell_type": "markdown",
   "metadata": {},
   "source": [
    "text = df_rxn['EC-NUMBER'].iloc[4]\n",
    "text"
   ]
  },
  {
   "cell_type": "markdown",
   "metadata": {},
   "source": [
    "type(text)"
   ]
  },
  {
   "cell_type": "markdown",
   "metadata": {},
   "source": [
    "df_rxn.loc['PORPHOBILSYNTH-RXN']"
   ]
  },
  {
   "cell_type": "markdown",
   "metadata": {},
   "source": [
    "text = df_rxn['EC-NUMBER'].loc['PORPHOBILSYNTH-RXN']"
   ]
  },
  {
   "cell_type": "markdown",
   "metadata": {},
   "source": [
    "text = df_rxn['EC-NUMBER'].loc['RXN-9516']\n",
    "split = text[2:-2].split(\"', '\")\n",
    "split"
   ]
  },
  {
   "cell_type": "markdown",
   "metadata": {},
   "source": [
    "type(split)"
   ]
  },
  {
   "cell_type": "markdown",
   "metadata": {},
   "source": [
    "split[0]"
   ]
  },
  {
   "cell_type": "code",
   "execution_count": null,
   "metadata": {
    "scrolled": true
   },
   "outputs": [],
   "source": [
    "# count how many reactions doesn't have EC-NUMBER\n",
    "counter_1 = 0\n",
    "counter_m = 0\n",
    "counter_n = 0\n",
    "\n",
    "for index, row in df_rxn.iterrows():\n",
    "    \n",
    "    if type(row['EC-NUMBER']) != type('string'):\n",
    "        #   if math.isnan(row['EC-NUMBER']):\n",
    "        counter_n += 1\n",
    "    else:\n",
    "        data = ast.literal_eval(row['EC-NUMBER'])\n",
    "        \n",
    "        if len(data) == 1:\n",
    "            counter_1 += 1\n",
    "        elif len(data) > 1:\n",
    "            counter_m += 1\n",
    "        else:\n",
    "            pass\n",
    "print('Out of total', df_rxn.shape[0], 'row of df_rxn')\n",
    "print('The data with only one, multiple, and no EC-Number are', counter_1, counter_m, 'and', counter_n, 'respectively')"
   ]
  },
  {
   "cell_type": "markdown",
   "metadata": {},
   "source": [
    "# Rearrange them into master dataframe format\n",
    "Here, we have to turn all df_rxn into that of master dataframe by re-indexing with EC-Number as an index"
   ]
  },
  {
   "cell_type": "code",
   "execution_count": null,
   "metadata": {
    "scrolled": true
   },
   "outputs": [],
   "source": [
    "df_rxn.head()"
   ]
  },
  {
   "cell_type": "markdown",
   "metadata": {
    "scrolled": true
   },
   "source": [
    "df_rxn['EC-NUMBER']['RXN-9204'][0]"
   ]
  },
  {
   "cell_type": "markdown",
   "metadata": {
    "scrolled": true
   },
   "source": [
    "df_rxn.iloc[0].index"
   ]
  },
  {
   "cell_type": "markdown",
   "metadata": {},
   "source": [
    "# start running here"
   ]
  },
  {
   "cell_type": "code",
   "execution_count": null,
   "metadata": {},
   "outputs": [],
   "source": [
    "EC = []\n",
    "rxn = []\n",
    "\n",
    "for index, row in df_rxn.iterrows():\n",
    "    \n",
    "    if len(row['EC-NUMBER']) > 1:\n",
    "        for i in range(len(row['EC-NUMBER'])):\n",
    "            EC.append(row['EC-NUMBER'][i])\n",
    "            rxn.append(index)\n",
    "    elif len(row['EC-NUMBER']) == 1:\n",
    "        EC.append(row['EC-NUMBER'][0])\n",
    "        rxn.append(index)\n",
    "    else:\n",
    "        EC.append('No_Data')\n",
    "        rxn.append(index)"
   ]
  },
  {
   "cell_type": "code",
   "execution_count": null,
   "metadata": {},
   "outputs": [],
   "source": [
    "df_master = pd.DataFrame({'EC-NUMBER' : EC,\n",
    "                          'UNIQUE-ID' : rxn})"
   ]
  },
  {
   "cell_type": "code",
   "execution_count": null,
   "metadata": {
    "scrolled": true
   },
   "outputs": [],
   "source": [
    "df_master.head()"
   ]
  },
  {
   "cell_type": "code",
   "execution_count": null,
   "metadata": {},
   "outputs": [],
   "source": [
    "rxn_num = []\n",
    "subs = []\n",
    "pdts = []\n",
    "gibbs = []\n",
    "\n",
    "for index, row in df_master.iterrows():\n",
    "    ID = row['UNIQUE-ID']\n",
    "    rxn_num.append(df_rxn['ERXN-NUMBER'][ID])\n",
    "    subs.append(df_rxn['SUBSTRATES'][ID])\n",
    "    pdts.append(df_rxn['PRODUCTS'][ID])\n",
    "    gibbs.append(df_rxn['GIBBS'][ID])"
   ]
  },
  {
   "cell_type": "code",
   "execution_count": null,
   "metadata": {
    "scrolled": true
   },
   "outputs": [],
   "source": [
    "df_master['ERXN-NUMBER'] = rxn_num\n",
    "df_master['SUBSTRATES'] = subs\n",
    "df_master['PRODUCTS'] = pdts\n",
    "df_master['GIBBS'] = gibbs\n",
    "df_master.head()"
   ]
  },
  {
   "cell_type": "code",
   "execution_count": null,
   "metadata": {},
   "outputs": [],
   "source": [
    "df_master.tail()"
   ]
  },
  {
   "cell_type": "markdown",
   "metadata": {
    "scrolled": true
   },
   "source": [
    "df_duplicate = df_master.groupby('EC-NUMBER').size().reset_index(name='count')\n",
    "df_duplicate.head()"
   ]
  },
  {
   "cell_type": "markdown",
   "metadata": {},
   "source": [
    "df_duplicate.tail()"
   ]
  },
  {
   "cell_type": "code",
   "execution_count": null,
   "metadata": {
    "scrolled": true
   },
   "outputs": [],
   "source": [
    "df_sorted = df_master.sort_values(by=['EC-NUMBER'])\n",
    "df_sorted.head()"
   ]
  },
  {
   "cell_type": "code",
   "execution_count": null,
   "metadata": {},
   "outputs": [],
   "source": [
    "df_sorted.reset_index(inplace=True, drop=True)"
   ]
  },
  {
   "cell_type": "code",
   "execution_count": null,
   "metadata": {},
   "outputs": [],
   "source": [
    "df_sorted['GIBBS'][2]"
   ]
  },
  {
   "cell_type": "markdown",
   "metadata": {},
   "source": [
    "df_sorted['GIBBS'][2] = 'No-data'"
   ]
  },
  {
   "cell_type": "code",
   "execution_count": null,
   "metadata": {},
   "outputs": [],
   "source": [
    "for index, row in df_sorted.iterrows():\n",
    "    \n",
    "    if math.isnan(row['GIBBS']):\n",
    "        df_sorted['GIBBS'][index] = 'No-Data'\n",
    "        \n",
    "df_sorted.head()"
   ]
  },
  {
   "cell_type": "code",
   "execution_count": null,
   "metadata": {},
   "outputs": [],
   "source": [
    "df_sorted['EC-NUMBER'][0]"
   ]
  },
  {
   "cell_type": "markdown",
   "metadata": {},
   "source": [
    "This cell might be wrong and lead to duplication of that EC-1"
   ]
  },
  {
   "cell_type": "code",
   "execution_count": null,
   "metadata": {},
   "outputs": [],
   "source": [
    "EC_a = 'EC-1'\n",
    "\n",
    "EC = []\n",
    "ID = []\n",
    "erxn = []\n",
    "subs = []\n",
    "pdts = []\n",
    "gibbs = []\n",
    "counter = 0\n",
    "\n",
    "ID_temp = []\n",
    "erxn_temp = []\n",
    "subs_temp = []\n",
    "pdts_temp = []\n",
    "gibbs_temp = []\n",
    "\n",
    "for index, row in df_sorted.iterrows():\n",
    "    \n",
    "    if row['EC-NUMBER'] == EC_a:\n",
    "        ID_temp.append(row['UNIQUE-ID'])\n",
    "        erxn_temp.append(row['ERXN-NUMBER'])\n",
    "        subs_temp.append(row['SUBSTRATES'])\n",
    "        pdts_temp.append(row['PRODUCTS'])\n",
    "        gibbs_temp.append(row['GIBBS'])\n",
    "        counter += 1\n",
    "        \n",
    "    elif counter == 0:\n",
    "        ID.append(row['UNIQUE-ID'])\n",
    "        erxn.append(row['ERXN-NUMBER'])\n",
    "        subs.append(row['SUBSTRATES'])\n",
    "        pdts.append(row['PRODUCTS'])\n",
    "        gibbs.append(row['GIBBS'])\n",
    "        \n",
    "        EC.append(EC_a)\n",
    "        EC_a = row['EC-NUMBER']\n",
    "    else:\n",
    "        ID.append(ID_temp)\n",
    "        erxn.append(erxn_temp)\n",
    "        subs.append(subs_temp)\n",
    "        pdts.append(pdts_temp)\n",
    "        gibbs.append(gibbs_temp)\n",
    "        \n",
    "        ID_temp = []\n",
    "        erxn_temp = []\n",
    "        subs_temp = []\n",
    "        pdts_temp = []\n",
    "        gibbs_temp = []\n",
    "\n",
    "        EC.append(EC_a)\n",
    "        counter = 0\n",
    "        EC_a = row['EC-NUMBER']\n"
   ]
  },
  {
   "cell_type": "code",
   "execution_count": null,
   "metadata": {},
   "outputs": [],
   "source": [
    "df_sorted_master = pd.DataFrame({'EC-NUMBER' : EC,\n",
    "                                'UNIQUE-ID' : ID,\n",
    "                                'ERXN-NUMBER' : erxn,\n",
    "                                'SUBSTRATES' : subs,\n",
    "                                'PRODUCTS' : pdts,\n",
    "                                'GIBBS' : gibbs})"
   ]
  },
  {
   "cell_type": "code",
   "execution_count": null,
   "metadata": {},
   "outputs": [],
   "source": [
    "df_sorted_master.head(10)"
   ]
  },
  {
   "cell_type": "code",
   "execution_count": null,
   "metadata": {},
   "outputs": [],
   "source": [
    "df_sorted_master.tail(10)"
   ]
  },
  {
   "cell_type": "code",
   "execution_count": null,
   "metadata": {},
   "outputs": [],
   "source": [
    "df_sorted_master.set_index(keys=['EC-NUMBER'], inplace=True)"
   ]
  },
  {
   "cell_type": "code",
   "execution_count": null,
   "metadata": {
    "scrolled": true
   },
   "outputs": [],
   "source": [
    "df_sorted_master.index[4].count('.')"
   ]
  },
  {
   "cell_type": "code",
   "execution_count": null,
   "metadata": {},
   "outputs": [],
   "source": [
    "df_sorted_master"
   ]
  },
  {
   "cell_type": "code",
   "execution_count": null,
   "metadata": {},
   "outputs": [],
   "source": [
    "df_sorted_master.index"
   ]
  },
  {
   "cell_type": "code",
   "execution_count": null,
   "metadata": {},
   "outputs": [],
   "source": [
    "drop = []\n",
    "for index, row in df_sorted_master.iterrows():\n",
    "    if index.count('.') < 'EC-1.1.1.1'.count('.'):\n",
    "        #print(index)\n",
    "        drop.append(index)"
   ]
  },
  {
   "cell_type": "code",
   "execution_count": null,
   "metadata": {},
   "outputs": [],
   "source": [
    "drop[:10]"
   ]
  },
  {
   "cell_type": "code",
   "execution_count": null,
   "metadata": {},
   "outputs": [],
   "source": [
    "df_sorted_master_drop = df_sorted_master\n",
    "for item in drop:\n",
    "    df_sorted_master_drop = df_sorted_master_drop.drop(item)"
   ]
  },
  {
   "cell_type": "code",
   "execution_count": null,
   "metadata": {},
   "outputs": [],
   "source": [
    "for index, row in df_sorted_master_drop.iterrows():\n",
    "    if index.count('.') < 'EC-1.1.1.1'.count('.'):\n",
    "        print(index)"
   ]
  },
  {
   "cell_type": "code",
   "execution_count": null,
   "metadata": {},
   "outputs": [],
   "source": [
    "df_sorted_master_drop.drop(['UNIQUE-ID', 'ERXN-NUMBER'], axis=1)"
   ]
  },
  {
   "cell_type": "markdown",
   "metadata": {},
   "source": [
    "This approach can be done by changing the substrates and products in df_rxn into PubChemID first ('0' for NaN)"
   ]
  },
  {
   "cell_type": "code",
   "execution_count": null,
   "metadata": {},
   "outputs": [],
   "source": [
    "# the file is too big!!! up to 1.7 G --- should reduce the size first\n",
    "df_sorted_master.to_csv('df_master_1st.csv')\n",
    "\n",
    "# changing to PubChemID still give 1.3 G left"
   ]
  },
  {
   "cell_type": "markdown",
   "metadata": {},
   "source": [
    "# here is the first version of master dataframe\n",
    "However, it is not perfect\n",
    "- CPD-ID is not converted to PubChemID or InChI yet\n",
    "- cofactor is not cleaned\n",
    "- reversibility is not applied\n",
    "- Anyway, should be in similar shape to that of previous master but contains single reactions"
   ]
  },
  {
   "cell_type": "code",
   "execution_count": null,
   "metadata": {},
   "outputs": [],
   "source": [
    "df_master_1st = pd.read_csv('df_master_1st.csv')"
   ]
  },
  {
   "cell_type": "code",
   "execution_count": null,
   "metadata": {
    "scrolled": true
   },
   "outputs": [],
   "source": [
    "df_master = df_master_1st.drop(['UNIQUE-ID', 'ERXN-NUMBER'], axis = 1)\n",
    "df_master['DIRECTION'] = 1\n",
    "df_master.head()"
   ]
  },
  {
   "cell_type": "code",
   "execution_count": null,
   "metadata": {},
   "outputs": [],
   "source": [
    "recover_list(df_master, 'SUBSTRATES')\n",
    "recover_list(df_master, 'PRODUCTS')"
   ]
  },
  {
   "cell_type": "code",
   "execution_count": null,
   "metadata": {
    "scrolled": true
   },
   "outputs": [],
   "source": [
    "df_master.head()"
   ]
  },
  {
   "cell_type": "code",
   "execution_count": null,
   "metadata": {
    "scrolled": true
   },
   "outputs": [],
   "source": [
    "df_master_rev = pd.DataFrame({'EC-NUMBER': df_master['EC-NUMBER'],\n",
    "                             'SUBSTRATES': df_master['PRODUCTS'],\n",
    "                             'PRODUCTS': df_master['SUBSTRATES'],\n",
    "                             'GIBBS': df_master['GIBBS'],\n",
    "                             'DIRECTION': df_master['DIRECTION']*(-1)})\n",
    "df_master_rev.head()"
   ]
  },
  {
   "cell_type": "code",
   "execution_count": null,
   "metadata": {},
   "outputs": [],
   "source": [
    "df_merged =pd.concat([df_master, df_master_rev], ignore_index=True)\n",
    "df_merged.head()"
   ]
  },
  {
   "cell_type": "code",
   "execution_count": null,
   "metadata": {
    "scrolled": true
   },
   "outputs": [],
   "source": [
    "df_merged.sort_values('EC-NUMBER').reset_index(drop = True)"
   ]
  },
  {
   "cell_type": "markdown",
   "metadata": {},
   "source": [
    "df_merged.to_csv('df_merged.csv')"
   ]
  },
  {
   "cell_type": "code",
   "execution_count": 83,
   "metadata": {
    "scrolled": false
   },
   "outputs": [
    {
     "data": {
      "text/html": [
       "<div>\n",
       "<style scoped>\n",
       "    .dataframe tbody tr th:only-of-type {\n",
       "        vertical-align: middle;\n",
       "    }\n",
       "\n",
       "    .dataframe tbody tr th {\n",
       "        vertical-align: top;\n",
       "    }\n",
       "\n",
       "    .dataframe thead th {\n",
       "        text-align: right;\n",
       "    }\n",
       "</style>\n",
       "<table border=\"1\" class=\"dataframe\">\n",
       "  <thead>\n",
       "    <tr style=\"text-align: right;\">\n",
       "      <th></th>\n",
       "      <th>Unnamed: 0</th>\n",
       "      <th>EC-NUMBER</th>\n",
       "      <th>SUBSTRATES</th>\n",
       "      <th>PRODUCTS</th>\n",
       "      <th>GIBBS</th>\n",
       "      <th>DIRECTION</th>\n",
       "    </tr>\n",
       "  </thead>\n",
       "  <tbody>\n",
       "    <tr>\n",
       "      <th>0</th>\n",
       "      <td>0</td>\n",
       "      <td>EC-1</td>\n",
       "      <td>[['CPD-722', 'Red-Thioredoxin'], ['CPD-8922', ...</td>\n",
       "      <td>[['BIOTIN', 'Ox-Thioredoxin', 'WATER'], ['CPD-...</td>\n",
       "      <td>[4.5452347, -50.319992, 'No-Data', 'No-Data', ...</td>\n",
       "      <td>1</td>\n",
       "    </tr>\n",
       "    <tr>\n",
       "      <th>1</th>\n",
       "      <td>1</td>\n",
       "      <td>EC-1</td>\n",
       "      <td>[['BIOTIN', 'Ox-Thioredoxin', 'WATER'], ['CPD-...</td>\n",
       "      <td>[['CPD-722', 'Red-Thioredoxin'], ['CPD-8922', ...</td>\n",
       "      <td>[4.5452347, -50.319992, 'No-Data', 'No-Data', ...</td>\n",
       "      <td>-1</td>\n",
       "    </tr>\n",
       "    <tr>\n",
       "      <th>2</th>\n",
       "      <td>2</td>\n",
       "      <td>EC-1.1</td>\n",
       "      <td>[['CPD-19423', 'Acceptor'], ['C86-cis-keto-myc...</td>\n",
       "      <td>[['CPD-19443', 'Donor-H2'], ['3-oxo-C86-cis-ke...</td>\n",
       "      <td>['No-Data', 'No-Data', 'No-Data', 'No-Data', '...</td>\n",
       "      <td>1</td>\n",
       "    </tr>\n",
       "    <tr>\n",
       "      <th>3</th>\n",
       "      <td>3</td>\n",
       "      <td>EC-1.1</td>\n",
       "      <td>[['CPD-19443', 'Donor-H2'], ['3-oxo-C86-cis-ke...</td>\n",
       "      <td>[['CPD-19423', 'Acceptor'], ['C86-cis-keto-myc...</td>\n",
       "      <td>['No-Data', 'No-Data', 'No-Data', 'No-Data', '...</td>\n",
       "      <td>-1</td>\n",
       "    </tr>\n",
       "    <tr>\n",
       "      <th>4</th>\n",
       "      <td>4</td>\n",
       "      <td>EC-1.1.1</td>\n",
       "      <td>[['D-galactopyranose', 'NADP'], ['CPD-14807', ...</td>\n",
       "      <td>[['CPD-1242', 'NADPH', 'PROTON'], ['CPD-14806'...</td>\n",
       "      <td>[-1.6264648000000002, -0.1665039, 'No-Data', 2...</td>\n",
       "      <td>1</td>\n",
       "    </tr>\n",
       "  </tbody>\n",
       "</table>\n",
       "</div>"
      ],
      "text/plain": [
       "   Unnamed: 0 EC-NUMBER                                         SUBSTRATES  \\\n",
       "0           0      EC-1  [['CPD-722', 'Red-Thioredoxin'], ['CPD-8922', ...   \n",
       "1           1      EC-1  [['BIOTIN', 'Ox-Thioredoxin', 'WATER'], ['CPD-...   \n",
       "2           2    EC-1.1  [['CPD-19423', 'Acceptor'], ['C86-cis-keto-myc...   \n",
       "3           3    EC-1.1  [['CPD-19443', 'Donor-H2'], ['3-oxo-C86-cis-ke...   \n",
       "4           4  EC-1.1.1  [['D-galactopyranose', 'NADP'], ['CPD-14807', ...   \n",
       "\n",
       "                                            PRODUCTS  \\\n",
       "0  [['BIOTIN', 'Ox-Thioredoxin', 'WATER'], ['CPD-...   \n",
       "1  [['CPD-722', 'Red-Thioredoxin'], ['CPD-8922', ...   \n",
       "2  [['CPD-19443', 'Donor-H2'], ['3-oxo-C86-cis-ke...   \n",
       "3  [['CPD-19423', 'Acceptor'], ['C86-cis-keto-myc...   \n",
       "4  [['CPD-1242', 'NADPH', 'PROTON'], ['CPD-14806'...   \n",
       "\n",
       "                                               GIBBS  DIRECTION  \n",
       "0  [4.5452347, -50.319992, 'No-Data', 'No-Data', ...          1  \n",
       "1  [4.5452347, -50.319992, 'No-Data', 'No-Data', ...         -1  \n",
       "2  ['No-Data', 'No-Data', 'No-Data', 'No-Data', '...          1  \n",
       "3  ['No-Data', 'No-Data', 'No-Data', 'No-Data', '...         -1  \n",
       "4  [-1.6264648000000002, -0.1665039, 'No-Data', 2...          1  "
      ]
     },
     "execution_count": 83,
     "metadata": {},
     "output_type": "execute_result"
    }
   ],
   "source": [
    "master = pd.read_csv('../notebooks/df_merged_1st.csv')\n",
    "master.shape\n",
    "master.head()"
   ]
  },
  {
   "cell_type": "code",
   "execution_count": 91,
   "metadata": {},
   "outputs": [],
   "source": [
    "recover_list(master,'SUBSTRATES')"
   ]
  },
  {
   "cell_type": "markdown",
   "metadata": {},
   "source": [
    "# ELLIE PAY ATTENTION TO ME\n",
    "\n",
    "## you will probably need to run the recover_list function and then the rmv cofactors function.\n",
    "\n",
    "## you are working in this region of the notebook.\n",
    "\n",
    "## you need to find a way to make the get_pubchem function work with the master dataframe. this will hopefully get rid of things (like the \"ACCEPTOR\") if they do not have a pubchem id. You will also need to run a couple of cells relating to the df_cpd at the tippity top of this notebook"
   ]
  },
  {
   "cell_type": "code",
   "execution_count": 92,
   "metadata": {
    "scrolled": false
   },
   "outputs": [
    {
     "data": {
      "text/html": [
       "<div>\n",
       "<style scoped>\n",
       "    .dataframe tbody tr th:only-of-type {\n",
       "        vertical-align: middle;\n",
       "    }\n",
       "\n",
       "    .dataframe tbody tr th {\n",
       "        vertical-align: top;\n",
       "    }\n",
       "\n",
       "    .dataframe thead th {\n",
       "        text-align: right;\n",
       "    }\n",
       "</style>\n",
       "<table border=\"1\" class=\"dataframe\">\n",
       "  <thead>\n",
       "    <tr style=\"text-align: right;\">\n",
       "      <th></th>\n",
       "      <th>Unnamed: 0</th>\n",
       "      <th>EC-NUMBER</th>\n",
       "      <th>SUBSTRATES</th>\n",
       "      <th>PRODUCTS</th>\n",
       "      <th>GIBBS</th>\n",
       "      <th>DIRECTION</th>\n",
       "    </tr>\n",
       "  </thead>\n",
       "  <tbody>\n",
       "    <tr>\n",
       "      <th>0</th>\n",
       "      <td>0</td>\n",
       "      <td>EC-1</td>\n",
       "      <td>[[CPD-722, Red-Thioredoxin], [CPD-8922, OXYGEN...</td>\n",
       "      <td>[[BIOTIN, Ox-Thioredoxin, WATER], [CPD-8928], ...</td>\n",
       "      <td>[4.5452347, -50.319992, 'No-Data', 'No-Data', ...</td>\n",
       "      <td>1</td>\n",
       "    </tr>\n",
       "    <tr>\n",
       "      <th>1</th>\n",
       "      <td>1</td>\n",
       "      <td>EC-1</td>\n",
       "      <td>[[BIOTIN, Ox-Thioredoxin, WATER], [CPD-8928], ...</td>\n",
       "      <td>[[CPD-722, Red-Thioredoxin], [CPD-8922, OXYGEN...</td>\n",
       "      <td>[4.5452347, -50.319992, 'No-Data', 'No-Data', ...</td>\n",
       "      <td>-1</td>\n",
       "    </tr>\n",
       "    <tr>\n",
       "      <th>2</th>\n",
       "      <td>2</td>\n",
       "      <td>EC-1.1</td>\n",
       "      <td>[[CPD-19423, Acceptor], [C86-cis-keto-mycolate...</td>\n",
       "      <td>[[CPD-19443, Donor-H2], [3-oxo-C86-cis-keto-my...</td>\n",
       "      <td>['No-Data', 'No-Data', 'No-Data', 'No-Data', '...</td>\n",
       "      <td>1</td>\n",
       "    </tr>\n",
       "    <tr>\n",
       "      <th>3</th>\n",
       "      <td>3</td>\n",
       "      <td>EC-1.1</td>\n",
       "      <td>[[CPD-19443, Donor-H2], [3-oxo-C86-cis-keto-my...</td>\n",
       "      <td>[[CPD-19423, Acceptor], [C86-cis-keto-mycolate...</td>\n",
       "      <td>['No-Data', 'No-Data', 'No-Data', 'No-Data', '...</td>\n",
       "      <td>-1</td>\n",
       "    </tr>\n",
       "    <tr>\n",
       "      <th>4</th>\n",
       "      <td>4</td>\n",
       "      <td>EC-1.1.1</td>\n",
       "      <td>[[D-galactopyranose, NADP], [CPD-14807, NADP],...</td>\n",
       "      <td>[[CPD-1242, NADPH, PROTON], [CPD-14806, NADPH,...</td>\n",
       "      <td>[-1.6264648000000002, -0.1665039, 'No-Data', 2...</td>\n",
       "      <td>1</td>\n",
       "    </tr>\n",
       "  </tbody>\n",
       "</table>\n",
       "</div>"
      ],
      "text/plain": [
       "   Unnamed: 0 EC-NUMBER                                         SUBSTRATES  \\\n",
       "0           0      EC-1  [[CPD-722, Red-Thioredoxin], [CPD-8922, OXYGEN...   \n",
       "1           1      EC-1  [[BIOTIN, Ox-Thioredoxin, WATER], [CPD-8928], ...   \n",
       "2           2    EC-1.1  [[CPD-19423, Acceptor], [C86-cis-keto-mycolate...   \n",
       "3           3    EC-1.1  [[CPD-19443, Donor-H2], [3-oxo-C86-cis-keto-my...   \n",
       "4           4  EC-1.1.1  [[D-galactopyranose, NADP], [CPD-14807, NADP],...   \n",
       "\n",
       "                                            PRODUCTS  \\\n",
       "0  [[BIOTIN, Ox-Thioredoxin, WATER], [CPD-8928], ...   \n",
       "1  [[CPD-722, Red-Thioredoxin], [CPD-8922, OXYGEN...   \n",
       "2  [[CPD-19443, Donor-H2], [3-oxo-C86-cis-keto-my...   \n",
       "3  [[CPD-19423, Acceptor], [C86-cis-keto-mycolate...   \n",
       "4  [[CPD-1242, NADPH, PROTON], [CPD-14806, NADPH,...   \n",
       "\n",
       "                                               GIBBS  DIRECTION  \n",
       "0  [4.5452347, -50.319992, 'No-Data', 'No-Data', ...          1  \n",
       "1  [4.5452347, -50.319992, 'No-Data', 'No-Data', ...         -1  \n",
       "2  ['No-Data', 'No-Data', 'No-Data', 'No-Data', '...          1  \n",
       "3  ['No-Data', 'No-Data', 'No-Data', 'No-Data', '...         -1  \n",
       "4  [-1.6264648000000002, -0.1665039, 'No-Data', 2...          1  "
      ]
     },
     "execution_count": 92,
     "metadata": {},
     "output_type": "execute_result"
    }
   ],
   "source": [
    "master.head()"
   ]
  },
  {
   "cell_type": "code",
   "execution_count": 90,
   "metadata": {},
   "outputs": [
    {
     "data": {
      "text/plain": [
       "['BIOTIN', 'Ox-Thioredoxin', 'WATER']"
      ]
     },
     "execution_count": 90,
     "metadata": {},
     "output_type": "execute_result"
    }
   ],
   "source": [
    "master['PRODUCTS']"
   ]
  },
  {
   "cell_type": "code",
   "execution_count": 100,
   "metadata": {},
   "outputs": [],
   "source": [
    "subs_list = []\n",
    "pdts_list = []\n",
    "for index, row in master.iterrows():\n",
    "    \n",
    "    Subs = []\n",
    "    Pdts = []\n",
    "    \n",
    "    for item_set in row['SUBSTRATES']:\n",
    "        if type(item_set) == list:\n",
    "            for item in item_set:\n",
    "                Subs.append(item)\n",
    "        else:\n",
    "            Subs.append(item_set)\n",
    "    for item_set in row['PRODUCTS']:\n",
    "        if type(item_set) == list:\n",
    "            for item in item_set:\n",
    "                Pdts.append(item)\n",
    "        else:\n",
    "            Pdts.append(item_set)\n",
    "    subs_list.append(Subs)\n",
    "    pdts_list.append(Pdts)\n",
    "    \n",
    "master['SUBS'] = subs_list\n",
    "master['PDTS'] = pdts_list"
   ]
  },
  {
   "cell_type": "code",
   "execution_count": 81,
   "metadata": {},
   "outputs": [
    {
     "data": {
      "text/html": [
       "<div>\n",
       "<style scoped>\n",
       "    .dataframe tbody tr th:only-of-type {\n",
       "        vertical-align: middle;\n",
       "    }\n",
       "\n",
       "    .dataframe tbody tr th {\n",
       "        vertical-align: top;\n",
       "    }\n",
       "\n",
       "    .dataframe thead th {\n",
       "        text-align: right;\n",
       "    }\n",
       "</style>\n",
       "<table border=\"1\" class=\"dataframe\">\n",
       "  <thead>\n",
       "    <tr style=\"text-align: right;\">\n",
       "      <th></th>\n",
       "      <th>Unnamed: 0</th>\n",
       "      <th>EC-NUMBER</th>\n",
       "      <th>SUBSTRATES</th>\n",
       "      <th>PRODUCTS</th>\n",
       "      <th>GIBBS</th>\n",
       "      <th>DIRECTION</th>\n",
       "      <th>SUBS</th>\n",
       "      <th>PDTS</th>\n",
       "    </tr>\n",
       "  </thead>\n",
       "  <tbody>\n",
       "    <tr>\n",
       "      <th>0</th>\n",
       "      <td>0</td>\n",
       "      <td>EC-1</td>\n",
       "      <td>[['CPD-722', 'Red-Thioredoxin'], ['CPD-8922', ...</td>\n",
       "      <td>[['BIOTIN', 'Ox-Thioredoxin', 'WATER'], ['CPD-...</td>\n",
       "      <td>[4.5452347, -50.319992, 'No-Data', 'No-Data', ...</td>\n",
       "      <td>1</td>\n",
       "      <td>[[, [, ', C, P, D, -, 7, 2, 2, ', ,,  , ', R, ...</td>\n",
       "      <td>[[, [, ', B, I, O, T, I, N, ', ,,  , ', O, x, ...</td>\n",
       "    </tr>\n",
       "    <tr>\n",
       "      <th>1</th>\n",
       "      <td>1</td>\n",
       "      <td>EC-1</td>\n",
       "      <td>[['BIOTIN', 'Ox-Thioredoxin', 'WATER'], ['CPD-...</td>\n",
       "      <td>[['CPD-722', 'Red-Thioredoxin'], ['CPD-8922', ...</td>\n",
       "      <td>[4.5452347, -50.319992, 'No-Data', 'No-Data', ...</td>\n",
       "      <td>-1</td>\n",
       "      <td>[[, [, ', B, I, O, T, I, N, ', ,,  , ', O, x, ...</td>\n",
       "      <td>[[, [, ', C, P, D, -, 7, 2, 2, ', ,,  , ', R, ...</td>\n",
       "    </tr>\n",
       "    <tr>\n",
       "      <th>2</th>\n",
       "      <td>2</td>\n",
       "      <td>EC-1.1</td>\n",
       "      <td>[['CPD-19423', 'Acceptor'], ['C86-cis-keto-myc...</td>\n",
       "      <td>[['CPD-19443', 'Donor-H2'], ['3-oxo-C86-cis-ke...</td>\n",
       "      <td>['No-Data', 'No-Data', 'No-Data', 'No-Data', '...</td>\n",
       "      <td>1</td>\n",
       "      <td>[[, [, ', C, P, D, -, 1, 9, 4, 2, 3, ', ,,  , ...</td>\n",
       "      <td>[[, [, ', C, P, D, -, 1, 9, 4, 4, 3, ', ,,  , ...</td>\n",
       "    </tr>\n",
       "    <tr>\n",
       "      <th>3</th>\n",
       "      <td>3</td>\n",
       "      <td>EC-1.1</td>\n",
       "      <td>[['CPD-19443', 'Donor-H2'], ['3-oxo-C86-cis-ke...</td>\n",
       "      <td>[['CPD-19423', 'Acceptor'], ['C86-cis-keto-myc...</td>\n",
       "      <td>['No-Data', 'No-Data', 'No-Data', 'No-Data', '...</td>\n",
       "      <td>-1</td>\n",
       "      <td>[[, [, ', C, P, D, -, 1, 9, 4, 4, 3, ', ,,  , ...</td>\n",
       "      <td>[[, [, ', C, P, D, -, 1, 9, 4, 2, 3, ', ,,  , ...</td>\n",
       "    </tr>\n",
       "    <tr>\n",
       "      <th>4</th>\n",
       "      <td>4</td>\n",
       "      <td>EC-1.1.1</td>\n",
       "      <td>[['D-galactopyranose', 'NADP'], ['CPD-14807', ...</td>\n",
       "      <td>[['CPD-1242', 'NADPH', 'PROTON'], ['CPD-14806'...</td>\n",
       "      <td>[-1.6264648000000002, -0.1665039, 'No-Data', 2...</td>\n",
       "      <td>1</td>\n",
       "      <td>[[, [, ', D, -, g, a, l, a, c, t, o, p, y, r, ...</td>\n",
       "      <td>[[, [, ', C, P, D, -, 1, 2, 4, 2, ', ,,  , ', ...</td>\n",
       "    </tr>\n",
       "  </tbody>\n",
       "</table>\n",
       "</div>"
      ],
      "text/plain": [
       "   Unnamed: 0 EC-NUMBER                                         SUBSTRATES  \\\n",
       "0           0      EC-1  [['CPD-722', 'Red-Thioredoxin'], ['CPD-8922', ...   \n",
       "1           1      EC-1  [['BIOTIN', 'Ox-Thioredoxin', 'WATER'], ['CPD-...   \n",
       "2           2    EC-1.1  [['CPD-19423', 'Acceptor'], ['C86-cis-keto-myc...   \n",
       "3           3    EC-1.1  [['CPD-19443', 'Donor-H2'], ['3-oxo-C86-cis-ke...   \n",
       "4           4  EC-1.1.1  [['D-galactopyranose', 'NADP'], ['CPD-14807', ...   \n",
       "\n",
       "                                            PRODUCTS  \\\n",
       "0  [['BIOTIN', 'Ox-Thioredoxin', 'WATER'], ['CPD-...   \n",
       "1  [['CPD-722', 'Red-Thioredoxin'], ['CPD-8922', ...   \n",
       "2  [['CPD-19443', 'Donor-H2'], ['3-oxo-C86-cis-ke...   \n",
       "3  [['CPD-19423', 'Acceptor'], ['C86-cis-keto-myc...   \n",
       "4  [['CPD-1242', 'NADPH', 'PROTON'], ['CPD-14806'...   \n",
       "\n",
       "                                               GIBBS  DIRECTION  \\\n",
       "0  [4.5452347, -50.319992, 'No-Data', 'No-Data', ...          1   \n",
       "1  [4.5452347, -50.319992, 'No-Data', 'No-Data', ...         -1   \n",
       "2  ['No-Data', 'No-Data', 'No-Data', 'No-Data', '...          1   \n",
       "3  ['No-Data', 'No-Data', 'No-Data', 'No-Data', '...         -1   \n",
       "4  [-1.6264648000000002, -0.1665039, 'No-Data', 2...          1   \n",
       "\n",
       "                                                SUBS  \\\n",
       "0  [[, [, ', C, P, D, -, 7, 2, 2, ', ,,  , ', R, ...   \n",
       "1  [[, [, ', B, I, O, T, I, N, ', ,,  , ', O, x, ...   \n",
       "2  [[, [, ', C, P, D, -, 1, 9, 4, 2, 3, ', ,,  , ...   \n",
       "3  [[, [, ', C, P, D, -, 1, 9, 4, 4, 3, ', ,,  , ...   \n",
       "4  [[, [, ', D, -, g, a, l, a, c, t, o, p, y, r, ...   \n",
       "\n",
       "                                                PDTS  \n",
       "0  [[, [, ', B, I, O, T, I, N, ', ,,  , ', O, x, ...  \n",
       "1  [[, [, ', C, P, D, -, 7, 2, 2, ', ,,  , ', R, ...  \n",
       "2  [[, [, ', C, P, D, -, 1, 9, 4, 4, 3, ', ,,  , ...  \n",
       "3  [[, [, ', C, P, D, -, 1, 9, 4, 2, 3, ', ,,  , ...  \n",
       "4  [[, [, ', C, P, D, -, 1, 2, 4, 2, ', ,,  , ', ...  "
      ]
     },
     "execution_count": 81,
     "metadata": {},
     "output_type": "execute_result"
    }
   ],
   "source": [
    "master.head()"
   ]
  },
  {
   "cell_type": "code",
   "execution_count": 101,
   "metadata": {},
   "outputs": [],
   "source": [
    "small = master.iloc[:5,:]"
   ]
  },
  {
   "cell_type": "code",
   "execution_count": 107,
   "metadata": {},
   "outputs": [],
   "source": [
    "def rm_cofactor_only_cpd1(df,prod_columnname,sub_columnname,cofactor_list):\n",
    "    cleaned_product_column = []\n",
    "    cleaned_substrate_column = []\n",
    "    for index,row in df.iterrows():\n",
    "        prod_compound_list =[]\n",
    "        sub_compound_list = []\n",
    "        for compound in row[prod_columnname]:\n",
    "            if compound not in cofactor_list:\n",
    "                prod_compound_list.append(compound)\n",
    "            else:\n",
    "                pass\n",
    "        \n",
    "        for comp in row[sub_columnname]:\n",
    "            if comp not in cofactor_list:\n",
    "                sub_compound_list.append(comp)\n",
    "            else:\n",
    "                pass\n",
    "        if len(prod_compound_list)==0:\n",
    "            cleaned_product_column.append('NA')\n",
    "        else: \n",
    "            cleaned_product_column.append(prod_compound_list)\n",
    "        if len(sub_compound_list)==0:\n",
    "            cleaned_substrate_column.append('NA')\n",
    "        else: \n",
    "            cleaned_substrate_column.append(sub_compound_list)\n",
    "    newdf = df.drop(['PRODUCTS', 'SUBSTRATES'], axis=1)\n",
    "    newdf['SUBSTRATES'] = cleaned_substrate_column\n",
    "    newdf['PRODUCTS'] = cleaned_product_column\n",
    "\n",
    "    return newdf"
   ]
  },
  {
   "cell_type": "markdown",
   "metadata": {},
   "source": [
    "def rm_cofactor_only_cpd(df,prod_columnname,sub_columnname,cofactor_list):\n",
    "    cleaned_product_column = []\n",
    "    cleaned_substrate_column = []\n",
    "    for index,row in df.iterrows():\n",
    "        prod_compound_list =[]\n",
    "        sub_compound_list = []\n",
    "        compounds = ast.literal_eval(row[prod_columnname])\n",
    "        for compound in compounds:\n",
    "            if compound not in cofactor_list:\n",
    "                prod_compound_list.append(compound)\n",
    "            else:\n",
    "                pass\n",
    "        \n",
    "        comps = ast.literal_eval(row[sub_columnname])\n",
    "        for comp in comps:\n",
    "            if comp not in cofactor_list:\n",
    "                sub_compound_list.append(comp)\n",
    "            else:\n",
    "                pass\n",
    "        if len(prod_compound_list)==0:\n",
    "            cleaned_product_column.append('NA')\n",
    "        else: \n",
    "            cleaned_product_column.append(prod_compound_list)\n",
    "        if len(sub_compound_list)==0:\n",
    "            cleaned_substrate_column.append('NA')\n",
    "        else: \n",
    "            cleaned_substrate_column.append(sub_compound_list)\n",
    "    newdf = df.drop(['PRODUCTS', 'SUBSTRATES'], axis=1)\n",
    "    newdf['SUBSTRATES'] = cleaned_substrate_column\n",
    "    newdf['PRODUCTS'] = cleaned_product_column\n",
    "\n",
    "    return newdf"
   ]
  },
  {
   "cell_type": "code",
   "execution_count": 5,
   "metadata": {},
   "outputs": [],
   "source": [
    "cofactor_list = ['WATER',\n",
    " 'ATP',\n",
    " 'NAD',\n",
    " 'NADH',\n",
    " 'NADPH',\n",
    " 'NADP',\n",
    " 'OXYGEN-MOLECULE',\n",
    " 'ADP',\n",
    " 'PROTON',\n",
    " 'CARBON-MONOXIDE',\n",
    " 'CARBON-DIOXIDE',\n",
    " 'CO2',\n",
    " 'Carbon dioxide',\n",
    " 'FMN',\n",
    " 'FAD',\n",
    " 'FMNH',\n",
    " 'FADH',\n",
    " 'FMNH2',\n",
    " 'FADH2',\n",
    " 'PYRIDOXAL_PHOSPHATE',\n",
    " 'RIBOFLAVIN',\n",
    " 'AMP']"
   ]
  },
  {
   "cell_type": "code",
   "execution_count": 108,
   "metadata": {},
   "outputs": [],
   "source": [
    "cleaned_df_productinList = rm_cofactor_only_cpd1(small,'PDTS','SUBS',cofactor_list)"
   ]
  },
  {
   "cell_type": "code",
   "execution_count": 111,
   "metadata": {
    "scrolled": true
   },
   "outputs": [
    {
     "data": {
      "text/plain": [
       "['CPD-722',\n",
       " 'Red-Thioredoxin',\n",
       " 'CPD-8922',\n",
       " 'CPD-8922',\n",
       " 'Donor-H2',\n",
       " 'Nitroaromatic-Ox-Compounds',\n",
       " 'CPD-10257',\n",
       " 'Donor-H2',\n",
       " 'OXOPENTENOATE',\n",
       " 'Acceptor',\n",
       " 'CPD-14537',\n",
       " 'Donor-H2',\n",
       " 'CPD-8927',\n",
       " 'SALICYLALDEHYDE',\n",
       " 'Donor-H2',\n",
       " 'CPD-8961',\n",
       " 'Donor-H2',\n",
       " 'COUMARATE']"
      ]
     },
     "execution_count": 111,
     "metadata": {},
     "output_type": "execute_result"
    }
   ],
   "source": [
    "cleaned_df_productinList.iloc[1,7]"
   ]
  },
  {
   "cell_type": "code",
   "execution_count": 119,
   "metadata": {},
   "outputs": [],
   "source": [
    "def get_pubchem(ID):\n",
    "    \n",
    "    \"\"\"This function accept UNIQUE-ID and return InChI string of a certain compound\"\"\"\n",
    "    if ID in df_cpd['PubChemID']:\n",
    "        pubchem = df_cpd['PubChemID'][ID]\n",
    "    else:\n",
    "        pubchem = '0'\n",
    "        \n",
    "    return pubchem"
   ]
  },
  {
   "cell_type": "code",
   "execution_count": 117,
   "metadata": {},
   "outputs": [],
   "source": [
    "def get_pubchem(df,colname):\n",
    "    \n",
    "    \"\"\"This function accept UNIQUE-ID and return InChI string of a certain compound\"\"\"\n",
    "    listed = df[colname].values.tolist()\n",
    "    newlist = []\n",
    "    for index, row in df.iterrows():\n",
    "        ID = row[colname]\n",
    "        if ID in df_cpd['PubChemID']:\n",
    "            newlist.append(df_cpd['PubChemID'][ID])\n",
    "        else:\n",
    "            newlist.append('0')\n",
    "    df['new'+colname] = newlist  \n",
    "    return df"
   ]
  },
  {
   "cell_type": "code",
   "execution_count": 118,
   "metadata": {},
   "outputs": [
    {
     "ename": "TypeError",
     "evalue": "unhashable type: 'list'",
     "output_type": "error",
     "traceback": [
      "\u001b[1;31m---------------------------------------------------------------------------\u001b[0m",
      "\u001b[1;31mTypeError\u001b[0m                                 Traceback (most recent call last)",
      "\u001b[1;32m<ipython-input-118-cf7c2aaf9a0a>\u001b[0m in \u001b[0;36m<module>\u001b[1;34m\u001b[0m\n\u001b[1;32m----> 1\u001b[1;33m \u001b[0mget_pubchem\u001b[0m\u001b[1;33m(\u001b[0m\u001b[0mmaster\u001b[0m\u001b[1;33m,\u001b[0m\u001b[1;34m'PRODUCTS'\u001b[0m\u001b[1;33m)\u001b[0m\u001b[1;33m\u001b[0m\u001b[0m\n\u001b[0m",
      "\u001b[1;32m<ipython-input-117-974600591f73>\u001b[0m in \u001b[0;36mget_pubchem\u001b[1;34m(df, colname)\u001b[0m\n\u001b[0;32m      6\u001b[0m     \u001b[1;32mfor\u001b[0m \u001b[0mindex\u001b[0m\u001b[1;33m,\u001b[0m \u001b[0mrow\u001b[0m \u001b[1;32min\u001b[0m \u001b[0mdf\u001b[0m\u001b[1;33m.\u001b[0m\u001b[0miterrows\u001b[0m\u001b[1;33m(\u001b[0m\u001b[1;33m)\u001b[0m\u001b[1;33m:\u001b[0m\u001b[1;33m\u001b[0m\u001b[0m\n\u001b[0;32m      7\u001b[0m         \u001b[0mID\u001b[0m \u001b[1;33m=\u001b[0m \u001b[0mrow\u001b[0m\u001b[1;33m[\u001b[0m\u001b[0mcolname\u001b[0m\u001b[1;33m]\u001b[0m\u001b[1;33m\u001b[0m\u001b[0m\n\u001b[1;32m----> 8\u001b[1;33m         \u001b[1;32mif\u001b[0m \u001b[0mID\u001b[0m \u001b[1;32min\u001b[0m \u001b[0mdf_cpd\u001b[0m\u001b[1;33m[\u001b[0m\u001b[1;34m'PubChemID'\u001b[0m\u001b[1;33m]\u001b[0m\u001b[1;33m:\u001b[0m\u001b[1;33m\u001b[0m\u001b[0m\n\u001b[0m\u001b[0;32m      9\u001b[0m             \u001b[0mnewlist\u001b[0m\u001b[1;33m.\u001b[0m\u001b[0mappend\u001b[0m\u001b[1;33m(\u001b[0m\u001b[0mdf_cpd\u001b[0m\u001b[1;33m[\u001b[0m\u001b[1;34m'PubChemID'\u001b[0m\u001b[1;33m]\u001b[0m\u001b[1;33m[\u001b[0m\u001b[0mID\u001b[0m\u001b[1;33m]\u001b[0m\u001b[1;33m)\u001b[0m\u001b[1;33m\u001b[0m\u001b[0m\n\u001b[0;32m     10\u001b[0m         \u001b[1;32melse\u001b[0m\u001b[1;33m:\u001b[0m\u001b[1;33m\u001b[0m\u001b[0m\n",
      "\u001b[1;32m~\\Miniconda3\\lib\\site-packages\\pandas\\core\\generic.py\u001b[0m in \u001b[0;36m__contains__\u001b[1;34m(self, key)\u001b[0m\n\u001b[0;32m   1844\u001b[0m     \u001b[1;32mdef\u001b[0m \u001b[0m__contains__\u001b[0m\u001b[1;33m(\u001b[0m\u001b[0mself\u001b[0m\u001b[1;33m,\u001b[0m \u001b[0mkey\u001b[0m\u001b[1;33m)\u001b[0m\u001b[1;33m:\u001b[0m\u001b[1;33m\u001b[0m\u001b[0m\n\u001b[0;32m   1845\u001b[0m         \u001b[1;34m\"\"\"True if the key is in the info axis\"\"\"\u001b[0m\u001b[1;33m\u001b[0m\u001b[0m\n\u001b[1;32m-> 1846\u001b[1;33m         \u001b[1;32mreturn\u001b[0m \u001b[0mkey\u001b[0m \u001b[1;32min\u001b[0m \u001b[0mself\u001b[0m\u001b[1;33m.\u001b[0m\u001b[0m_info_axis\u001b[0m\u001b[1;33m\u001b[0m\u001b[0m\n\u001b[0m\u001b[0;32m   1847\u001b[0m \u001b[1;33m\u001b[0m\u001b[0m\n\u001b[0;32m   1848\u001b[0m     \u001b[1;33m@\u001b[0m\u001b[0mproperty\u001b[0m\u001b[1;33m\u001b[0m\u001b[0m\n",
      "\u001b[1;32m~\\Miniconda3\\lib\\site-packages\\pandas\\core\\indexes\\base.py\u001b[0m in \u001b[0;36m__contains__\u001b[1;34m(self, key)\u001b[0m\n\u001b[0;32m   3918\u001b[0m     \u001b[1;33m@\u001b[0m\u001b[0mAppender\u001b[0m\u001b[1;33m(\u001b[0m\u001b[0m_index_shared_docs\u001b[0m\u001b[1;33m[\u001b[0m\u001b[1;34m'contains'\u001b[0m\u001b[1;33m]\u001b[0m \u001b[1;33m%\u001b[0m \u001b[0m_index_doc_kwargs\u001b[0m\u001b[1;33m)\u001b[0m\u001b[1;33m\u001b[0m\u001b[0m\n\u001b[0;32m   3919\u001b[0m     \u001b[1;32mdef\u001b[0m \u001b[0m__contains__\u001b[0m\u001b[1;33m(\u001b[0m\u001b[0mself\u001b[0m\u001b[1;33m,\u001b[0m \u001b[0mkey\u001b[0m\u001b[1;33m)\u001b[0m\u001b[1;33m:\u001b[0m\u001b[1;33m\u001b[0m\u001b[0m\n\u001b[1;32m-> 3920\u001b[1;33m         \u001b[0mhash\u001b[0m\u001b[1;33m(\u001b[0m\u001b[0mkey\u001b[0m\u001b[1;33m)\u001b[0m\u001b[1;33m\u001b[0m\u001b[0m\n\u001b[0m\u001b[0;32m   3921\u001b[0m         \u001b[1;32mtry\u001b[0m\u001b[1;33m:\u001b[0m\u001b[1;33m\u001b[0m\u001b[0m\n\u001b[0;32m   3922\u001b[0m             \u001b[1;32mreturn\u001b[0m \u001b[0mkey\u001b[0m \u001b[1;32min\u001b[0m \u001b[0mself\u001b[0m\u001b[1;33m.\u001b[0m\u001b[0m_engine\u001b[0m\u001b[1;33m\u001b[0m\u001b[0m\n",
      "\u001b[1;31mTypeError\u001b[0m: unhashable type: 'list'"
     ]
    }
   ],
   "source": [
    "get_pubchem(master,'PRODUCTS')"
   ]
  },
  {
   "cell_type": "code",
   "execution_count": null,
   "metadata": {},
   "outputs": [],
   "source": []
  },
  {
   "cell_type": "code",
   "execution_count": null,
   "metadata": {},
   "outputs": [],
   "source": []
  },
  {
   "cell_type": "code",
   "execution_count": null,
   "metadata": {},
   "outputs": [],
   "source": []
  },
  {
   "cell_type": "code",
   "execution_count": 109,
   "metadata": {},
   "outputs": [
    {
     "data": {
      "text/plain": [
       "['CPD-722',\n",
       " 'Red-Thioredoxin',\n",
       " 'CPD-8922',\n",
       " 'OXYGEN-MOLECULE',\n",
       " 'CPD-8922',\n",
       " 'OXYGEN-MOLECULE',\n",
       " 'Donor-H2',\n",
       " 'Nitroaromatic-Ox-Compounds',\n",
       " 'NADPH',\n",
       " 'CPD-10257',\n",
       " 'OXYGEN-MOLECULE',\n",
       " 'Donor-H2',\n",
       " 'OXOPENTENOATE',\n",
       " 'Acceptor',\n",
       " 'CPD-14537',\n",
       " 'OXYGEN-MOLECULE',\n",
       " 'PROTON',\n",
       " 'Donor-H2',\n",
       " 'CPD-8927',\n",
       " 'OXYGEN-MOLECULE',\n",
       " 'SALICYLALDEHYDE',\n",
       " 'Donor-H2',\n",
       " 'CPD-8961',\n",
       " 'OXYGEN-MOLECULE',\n",
       " 'Donor-H2',\n",
       " 'COUMARATE']"
      ]
     },
     "execution_count": 109,
     "metadata": {},
     "output_type": "execute_result"
    }
   ],
   "source": [
    "cleaned_df_productinList.iloc[1,5]"
   ]
  },
  {
   "cell_type": "code",
   "execution_count": null,
   "metadata": {},
   "outputs": [],
   "source": [
    "# from metamoles.py\n",
    "def parse_reversible_reactions(reaction_list: list):\n",
    "    \"\"\"\n",
    "    parse_reversible_reactions() queries the KEGG database with the input\n",
    "        reaction list, and parses the results for all reactions that have been\n",
    "        annotated with \"<=>\" in the reaction equation, which suggests that the\n",
    "        catalyzed reaction is reversible\n",
    "\n",
    "    Args:\n",
    "        reaction_list (list): contains KEGG reaction IDs (e.g. 'R00709')\n",
    "\n",
    "    Returns:\n",
    "        list: contains KEGG IDs of reversible reactions\n",
    "    \"\"\"\n",
    "\n",
    "    reversible_reaction = []\n",
    "    for reaction in reaction_list:\n",
    "        reaction_file = REST.kegg_get(reaction).read()\n",
    "        for i in reaction_file.rstrip().split(\"\\n\"):\n",
    "            if i.startswith(\"EQUATION\") and \"<=>\" in i:\n",
    "                reversible_reaction.append(reaction)\n",
    "    return reversible_reaction\n",
    "\n",
    "def combine_substrates_products(df: pd.DataFrame):\n",
    "    \"\"\"\n",
    "    combine_substrates_products() is for use with a collection of enzymes\n",
    "        in which it is understood that they are capable of catalyzing both the\n",
    "        forward and reverser reactions. In this case, both the substrates and\n",
    "        the products should be considered as bioreachable products.\n",
    "        This function parses the list of substrates and products from their\n",
    "        respective fields in the input dataframe, and returns a new dataframe\n",
    "        with the combined substrates and products in a column labeled 'product'\n",
    "\n",
    "    WARNING: combine_substrates_products() should not be run multiple times on\n",
    "        the same dataframe becuase it will will append duplicate substrates\n",
    "\n",
    "    Args:\n",
    "        df (pandas.DataFrame): must contain fields\n",
    "            ['entry', 'substrate', 'product']\n",
    "\n",
    "    Returns:\n",
    "        pandas.DataFrame: contains only fields ['entry', 'product']\n",
    "    \"\"\"\n",
    "\n",
    "    rowindex = np.arange(0,len(df))\n",
    "    df_with_ordered_index = df.set_index(rowindex)\n",
    "\n",
    "    newdf = df_with_ordered_index\n",
    "    # should this be a .copy()?\n",
    "\n",
    "    for index,row in df_with_ordered_index.iterrows():\n",
    "        productlist = row['product']\n",
    "        substratelist = row['substrate']\n",
    "        newdf.iloc[index,2] = productlist + substratelist\n",
    "\n",
    "    return newdf[[\"entry\",\"product\"]]\n",
    "\n",
    "\n",
    "def explode_dataframe(dataframe: pd.DataFrame, explosion_function,\n",
    "                        explosion_target_field: str, fields_to_include: list):\n",
    "    \"\"\"\n",
    "    explode_dataframe() applies the input explosion_function to the target\n",
    "        field in each row of a dataframe. Each item in the output of the\n",
    "        explosion_function is an anchor for a new row in the new dataframe. All\n",
    "        of the supplied fields_to_include are added to the explosion item,\n",
    "        and appended to the new dataframe row.\n",
    "\n",
    "    Args:\n",
    "        dataframe (pandas.DataFrame): input dataset\n",
    "        explosion_function (function): function to be applied to target\n",
    "            column in dataframe\n",
    "        explosion_target_field (str): name of field in dataframe to which the\n",
    "            explosion funciton will be applied\n",
    "        fields_to_include (list): a list of strings that denote the columns of\n",
    "            the input dataframe to be included in the output\n",
    "\n",
    "    Returns:\n",
    "        pandas.DataFrame: new exploded dataframe\n",
    "    \"\"\"\n",
    "    new_rows = []\n",
    "    for _, row in dataframe.iterrows():\n",
    "        explosion_list = explosion_function(row[explosion_target_field])\n",
    "        for item in explosion_list:\n",
    "            row_data = [row[field] for field in fields_to_include]\n",
    "            row_data.append(item)\n",
    "            new_rows.append(row_data)\n",
    "\n",
    "    fields_to_include.append(explosion_target_field)\n",
    "    new_df = pd.DataFrame(new_rows, columns=fields_to_include)\n",
    "\n",
    "    return new_df\n",
    "\n",
    "\n",
    "def remove_cofactors(master_df: pd.DataFrame, master_cpd_field: str,\n",
    "                     cofactor_df: pd.DataFrame, cofactor_field: str,\n",
    "                     drop_na=True):\n",
    "    \"\"\"\n",
    "    remove_cofactors() should be used to clean the dataset of cofactors. These\n",
    "        will be included in the KEGG records as substrates and products, but\n",
    "        are not actually products in the reaction\n",
    "\n",
    "    Args:\n",
    "        master_df (pandas.DataFrame): input dataset\n",
    "        master_cpd_field (str): field that contains products\n",
    "        cofactor_df (pandas.DataFrame): contains cofactors to be removed\n",
    "        cofactor_field (str): field that contains cofactors\n",
    "        drop_na (bool): default True\n",
    "\n",
    "    Returns:\n",
    "        pandas.DataFrame: cleaned data without cofactor entries\n",
    "    \"\"\"\n",
    "    cofactor_list = parse_compound_ids(cofactor_df[cofactor_field])\n",
    "    bool_mask = [False if cpd in cofactor_list else True for cpd in master_df[master_cpd_field]]\n",
    "    clean_df = master_df[bool_mask]\n",
    "    clean_df = clean_df.drop_duplicates()\n",
    "\n",
    "    if drop_na:\n",
    "        clean_df = clean_df[clean_df[master_cpd_field] != 'NA']\n",
    "    else:\n",
    "        pass\n",
    "\n",
    "    return clean_df\n",
    "\n",
    "def create_negative_matches(dataframe: pd.DataFrame,\n",
    "                            enzyme_field: str, compound_field: str):\n",
    "    \"\"\"\n",
    "    create_negative_matches() returns two dataframes.\n",
    "        One dataframe is positive data that contains all the enzyme-compound\n",
    "        pairs that exist in the input dataset.\n",
    "        The second data frame is negative data made from matching all\n",
    "        enzyme-compound pairs that do not exist in the dataset.\n",
    "\n",
    "    Args:\n",
    "        dataframe (pandas.DataFrame): input dataset\n",
    "        enzyme_field (str): column in dataframe that contains enzyme ids\n",
    "        compound_field (str): column in dataframe that contains compound ids\n",
    "\n",
    "    Returns:\n",
    "        pandas.DataFrame: positive data\n",
    "            (contains fields ['enzyme', 'product', 'reacts'])\n",
    "        pandas.DataFrame: negative data\n",
    "            (contains fields ['enzyme', 'product', 'reacts'])\n",
    "    \"\"\"\n",
    "    unique_enzymes = set(dataframe[enzyme_field].unique())\n",
    "    # set of all unique enzymes in provided dataframes\n",
    "    unique_cpds = set(dataframe[compound_field].unique())\n",
    "    # set of all unique compounds in provided dataframe\n",
    "\n",
    "    positive_data = []\n",
    "    negative_data = []\n",
    "    # initialize empty lists\n",
    "\n",
    "    for enzyme in unique_enzymes:\n",
    "    # iterate through unique enzyme set\n",
    "        working_prods = set(dataframe[dataframe[enzyme_field] == enzyme][compound_field].unique())\n",
    "        # unique set of all products reported to reaction with this enzyme in provided dataset\n",
    "        non_working_prods = (unique_cpds - working_prods)\n",
    "        # set math of all remaining products in the dataset minus those reported to react\n",
    "\n",
    "        reactions = [{'reacts':1.0, 'enzyme':enzyme, 'product':product} for product in working_prods]\n",
    "        # create new entry for each positive reaction\n",
    "        non_reactions = [{'reacts':0.0, 'enzyme':enzyme, 'product':product} for product in non_working_prods]\n",
    "        # create new entry for each negative reaction\n",
    "\n",
    "        positive_data.extend(reactions)\n",
    "        # add positive reactions to master list\n",
    "        negative_data.extend(non_reactions)\n",
    "        # add negative reactions to master list\n",
    "\n",
    "    positive_df = pd.DataFrame(positive_data)\n",
    "    negative_df = pd.DataFrame(negative_data)\n",
    "\n",
    "    return positive_df, negative_df\n",
    "\n"
   ]
  },
  {
   "cell_type": "markdown",
   "metadata": {},
   "source": [
    "#### Still, there is a problem\n",
    "For some `EC-NUMBER` value, they are in `|_|` bracket with weird annotation with character instead of number. To solve this, we can modify some string value but if there is no repeating `EC-NUMBER` with and without bracket, we can just change the `EC-NUMBER` column without renewing the dataframe.\n",
    "\n",
    "## So, we have a sortof Master Dataframe v1 right now"
   ]
  },
  {
   "cell_type": "markdown",
   "metadata": {},
   "source": [
    "### What is the next step?\n",
    "- Alter CPD-ID into PubChemID or InChI ---> go for PubChemID first\n",
    "    - Done!\n",
    "- Make reversible reaction\n",
    "- Make negative dataset"
   ]
  },
  {
   "cell_type": "code",
   "execution_count": null,
   "metadata": {},
   "outputs": [],
   "source": [
    "def get_pubchem(ID):\n",
    "    \n",
    "    \"\"\"This function accept UNIQUE-ID and return InChI string of a certain compound\"\"\"\n",
    "    if ID in df_cpd['PubChemID']:\n",
    "        pubchem = df_cpd['PubChemID'][ID]\n",
    "    else:\n",
    "        pubchem = '0'\n",
    "        \n",
    "    return pubchem"
   ]
  },
  {
   "cell_type": "code",
   "execution_count": null,
   "metadata": {},
   "outputs": [],
   "source": [
    "df_rxn.head()"
   ]
  },
  {
   "cell_type": "code",
   "execution_count": null,
   "metadata": {},
   "outputs": [],
   "source": [
    "'Nitroaromatic-Ox-Compounds' in df_cpd['PubChemID']"
   ]
  },
  {
   "cell_type": "code",
   "execution_count": null,
   "metadata": {
    "scrolled": true
   },
   "outputs": [],
   "source": [
    "'BIOTIN' in df_cpd['PubChemID']"
   ]
  },
  {
   "cell_type": "code",
   "execution_count": null,
   "metadata": {},
   "outputs": [],
   "source": [
    "if 'BIOTIN' in df_cpd['PubChemID']:\n",
    "    print('Yes')"
   ]
  },
  {
   "cell_type": "code",
   "execution_count": null,
   "metadata": {},
   "outputs": [],
   "source": [
    "get_pubchem('MALONYL-ACP')"
   ]
  },
  {
   "cell_type": "code",
   "execution_count": null,
   "metadata": {
    "scrolled": false
   },
   "outputs": [],
   "source": [
    "# Start from df_rxn and rerun the master dataframe again\n",
    "subs_id = []\n",
    "pdts_id = []\n",
    "\n",
    "for index, row in df_rxn.iterrows():\n",
    "    \n",
    "    subs = []\n",
    "    for item in row['SUBSTRATES']:\n",
    "        subs.append(get_pubchem(item))\n",
    "    subs_id.append(subs)\n",
    "    \n",
    "    pdts = []\n",
    "    for item in row['PRODUCTS']:\n",
    "        pdts.append(get_pubchem(item))\n",
    "    pdts_id.append(pdts)"
   ]
  },
  {
   "cell_type": "code",
   "execution_count": null,
   "metadata": {
    "scrolled": false
   },
   "outputs": [],
   "source": [
    "df_rxn['SUBSTRATES'] = subs_id\n",
    "df_rxn['PRODUCTS'] = pdts_id\n",
    "df_rxn.head()"
   ]
  },
  {
   "cell_type": "code",
   "execution_count": null,
   "metadata": {},
   "outputs": [],
   "source": [
    "counter_s_y = 0\n",
    "counter_s_n = 0\n",
    "\n",
    "counter_p_y = 0\n",
    "counter_p_n = 0\n",
    "\n",
    "for index, row in df_rxn.iterrows():\n",
    "    \n",
    "    for item in row['SUBSTRATES']:\n",
    "        if item in df_cpd['PubChemID']:\n",
    "            counter_s_y += 1\n",
    "        else:\n",
    "            counter_s_n += 1\n",
    "    \n",
    "    for item in row['PRODUCTS']:\n",
    "        if item in df_cpd['PubChemID']:\n",
    "            counter_p_y += 1\n",
    "        else:\n",
    "            counter_p_n += 1\n",
    "\n",
    "print('Counting substrates True is', counter_s_y, 'False is', counter_s_n)\n",
    "print('Counting products True is', counter_p_y, 'False is', counter_p_n)"
   ]
  },
  {
   "cell_type": "code",
   "execution_count": null,
   "metadata": {},
   "outputs": [],
   "source": [
    "percent_s = counter_s_y/(counter_s_y + counter_s_n)\n",
    "percent_p = counter_p_y/(counter_p_y + counter_p_n)\n",
    "\n",
    "print('Percents of available substrate and product are', percent_s*100, 'and', percent_p*100)"
   ]
  },
  {
   "cell_type": "code",
   "execution_count": null,
   "metadata": {
    "scrolled": true
   },
   "outputs": [],
   "source": [
    "get_pubchem('Nitroaromatic-Ox-Compounds')"
   ]
  },
  {
   "cell_type": "markdown",
   "metadata": {},
   "source": [
    "### Problems found\n",
    "Where there is no data available for a certain UNIQUE-ID, the function goes wrong!!!\n",
    "- Those are macromolecules, general group of compounds, etc.\n",
    "\n",
    "Already solve by check availability by `in` function"
   ]
  },
  {
   "cell_type": "code",
   "execution_count": null,
   "metadata": {},
   "outputs": [],
   "source": []
  }
 ],
 "metadata": {
  "kernelspec": {
   "display_name": "Python 3",
   "language": "python",
   "name": "python3"
  },
  "language_info": {
   "codemirror_mode": {
    "name": "ipython",
    "version": 3
   },
   "file_extension": ".py",
   "mimetype": "text/x-python",
   "name": "python",
   "nbconvert_exporter": "python",
   "pygments_lexer": "ipython3",
   "version": "3.7.0"
  }
 },
 "nbformat": 4,
 "nbformat_minor": 2
}
