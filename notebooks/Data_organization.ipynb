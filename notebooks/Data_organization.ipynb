{
 "cells": [
  {
   "cell_type": "markdown",
   "metadata": {},
   "source": [
    "# This notebook is created to organize data from MetaCyc into one dataframe"
   ]
  },
  {
   "cell_type": "markdown",
   "metadata": {},
   "source": [
    "### What kind of data is available by MetaCyc zipped file?\n",
    "Noted that we recieved data from Pathway Tools platform version 22.6\n",
    "\n",
    "**Important data that we extracted**\n",
    "- compounds.dat\n",
    "- enzrxns.dat\n",
    "- reactions.dat\n",
    "\n",
    "**Somewhat useful**\n",
    "- atom-mapping and atom-mappint-smiles\n",
    "- pathways\n",
    "\n",
    "**May not be useful**\n",
    "- classes\n",
    "- gene_association\n",
    "- genes\n",
    "- metabolic-reactions.xml\n",
    "- proteins\n",
    "- protligandcplxes\n",
    "- protseq\n",
    "- pubs\n",
    "- regulation\n",
    "- rnas\n",
    "- species\n",
    "- transporters"
   ]
  },
  {
   "cell_type": "code",
   "execution_count": 1,
   "metadata": {},
   "outputs": [],
   "source": [
    "import numpy as np\n",
    "import pandas as pd\n",
    "import math\n",
    "import ast"
   ]
  },
  {
   "cell_type": "markdown",
   "metadata": {},
   "source": [
    "### This is how our desired master dataframe look from last quarter\n",
    "\n",
    "For now, make a dataset with enzyme/compounds linked to each other and then we can use RDKit-based function and existing functions to generate Mol-files, Distance, and Negative data"
   ]
  },
  {
   "cell_type": "markdown",
   "metadata": {},
   "source": [
    "master_df = pd.read_csv('../datasets/MASTER_DF.csv')"
   ]
  },
  {
   "cell_type": "markdown",
   "metadata": {},
   "source": [
    "master_df.head()"
   ]
  },
  {
   "cell_type": "markdown",
   "metadata": {},
   "source": [
    "feature_df = master_df[['PubChem', 'dist', 'enzyme_class_1', 'enzyme_class_2', 'enzyme_class_3',\n",
    "       'enzyme_class_4', 'enzyme_class_5', 'enzyme_class_6', 'enzyme_class_7',\n",
    "        'n_O', 'n_N', 'n_P', 'n_S', 'n_X', 'DoU']]\n",
    "feature_df.set_index(keys=['PubChem'], inplace=True)\n",
    "feature_df.head()"
   ]
  },
  {
   "cell_type": "markdown",
   "metadata": {},
   "source": [
    "## The current database from MetaCyc starts here"
   ]
  },
  {
   "cell_type": "code",
   "execution_count": 2,
   "metadata": {},
   "outputs": [],
   "source": [
    "df_cpd = pd.read_csv('df_cpd.csv', index_col = 0)\n",
    "df_rxn = pd.read_csv('parsed_rxns.csv', index_col = 0)\n",
    "df_enz = pd.read_csv('df_enzrxns.csv', index_col = 0)\n",
    "df_cpd = df_cpd.set_index(keys ='UNIQUE-ID')\n",
    "df_rxn = df_rxn.set_index(keys = 'UNIQUE-ID')\n",
    "df_enz = df_enz.set_index(keys = 'UNIQUE-ID')"
   ]
  },
  {
   "cell_type": "markdown",
   "metadata": {},
   "source": [
    "# Here is an important note\n",
    "The data from csv reading is in text formatted which lead to some problematic data handling.\n",
    "- Some int data was read as float e.g. PubChemID which can be fixed by .astype() shown in cell #4\n",
    "- List was formatted in text which required decoding by ast.literal_eval(x) which was written as a fucntion below"
   ]
  },
  {
   "cell_type": "code",
   "execution_count": 3,
   "metadata": {},
   "outputs": [],
   "source": [
    "def recover_list(df, column):\n",
    "    \"\"\"This function will recover a list formatted string read from .csv into a list\"\"\"\n",
    "    assert type(df[column][0]) != type([]), \"TypeError: The data type is already a list, it should not be converted again\"\n",
    "    replacement = []\n",
    "    for index, row in df.iterrows():\n",
    "        \n",
    "        data = []\n",
    "        \n",
    "        if type(row[column]) == type('string'):\n",
    "            data = ast.literal_eval(row[column])\n",
    "        else:\n",
    "            pass\n",
    "        replacement.append(data)\n",
    "    df[column] = replacement\n",
    "    return"
   ]
  },
  {
   "cell_type": "code",
   "execution_count": 4,
   "metadata": {},
   "outputs": [],
   "source": [
    "# Change PubChemID into int type in df_cpd\n",
    "PubChemID_int = df_cpd['PubChemID'].fillna(0).astype(int)\n",
    "df_cpd['PubChemID'] = PubChemID_int\n",
    "\n",
    "# Recover list format of df_rxn\n",
    "rxn_list_fix = ['EC-NUMBER', 'ERXN-NUMBER', 'SUBSTRATES', 'PRODUCTS']\n",
    "for col in rxn_list_fix:\n",
    "    recover_list(df_rxn, col)\n",
    "\n",
    "# Recover list format of df_enz\n",
    "enz_list_fix = ['REACTION', 'ALTERNATIVE-SUBSTRATES', '^SUBSTRATE', 'KM', 'KCAT', 'VMAX']\n",
    "for col in enz_list_fix:\n",
    "    recover_list(df_enz, col)"
   ]
  },
  {
   "cell_type": "markdown",
   "metadata": {},
   "source": [
    "##### the code below verify that all `.astype()` of PubChemID data didn't change the data unless it is `nan`\n",
    "df_cpd = pd.read_csv('df_cpd.csv', index_col = 0)\n",
    "df_cpd = df_cpd.set_index(keys ='UNIQUE-ID')\n",
    "PubChemID_int = df_cpd['PubChemID'].fillna(0).astype(int)\n",
    "for i in range(PubChemID_int.shape[0]):\n",
    "    \n",
    "#print (df_cpd['PubChemID'].loc['CPD-14743'])\n",
    "#a = df_cpd['PubChemID'].loc['CPD-14743']\n",
    "    if PubChemID_int[i] != df_cpd['PubChemID'][i]:\n",
    "        print(PubChemID_int[i], df_cpd['PubChemID'][i])"
   ]
  },
  {
   "cell_type": "code",
   "execution_count": 27,
   "metadata": {},
   "outputs": [
    {
     "data": {
      "text/html": [
       "<div>\n",
       "<style scoped>\n",
       "    .dataframe tbody tr th:only-of-type {\n",
       "        vertical-align: middle;\n",
       "    }\n",
       "\n",
       "    .dataframe tbody tr th {\n",
       "        vertical-align: top;\n",
       "    }\n",
       "\n",
       "    .dataframe thead th {\n",
       "        text-align: right;\n",
       "    }\n",
       "</style>\n",
       "<table border=\"1\" class=\"dataframe\">\n",
       "  <thead>\n",
       "    <tr style=\"text-align: right;\">\n",
       "      <th></th>\n",
       "      <th>COMMON-NAME</th>\n",
       "      <th>GIBBS-0</th>\n",
       "      <th>INCHI</th>\n",
       "      <th>SMILES</th>\n",
       "      <th>PubChemID</th>\n",
       "    </tr>\n",
       "    <tr>\n",
       "      <th>UNIQUE-ID</th>\n",
       "      <th></th>\n",
       "      <th></th>\n",
       "      <th></th>\n",
       "      <th></th>\n",
       "      <th></th>\n",
       "    </tr>\n",
       "  </thead>\n",
       "  <tbody>\n",
       "    <tr>\n",
       "      <th>CPD-14966</th>\n",
       "      <td>(2Z,4Z)-2-hydroxy-5-carboxymuconate-6-semialde...</td>\n",
       "      <td>-150.733760</td>\n",
       "      <td>InChI=1S/C7H6O6/c8-3-4(6(10)11)1-2-5(9)7(12)13...</td>\n",
       "      <td>[CH](=O)C(C(=O)[O-])=CC=C(O)C([O-])=O</td>\n",
       "      <td>90657979</td>\n",
       "    </tr>\n",
       "    <tr>\n",
       "      <th>CPD-14905</th>\n",
       "      <td>4&amp;alpha;,14&amp;alpha;-dimethyl-porifersta-8,25(27...</td>\n",
       "      <td>568.928300</td>\n",
       "      <td>InChI=1S/C31H52O/c1-9-23(20(2)3)11-10-21(4)24-...</td>\n",
       "      <td>CCC(C(C)=C)CCC(C)[CH]3(CCC4(C)(C2(CC[CH]1(C(C)...</td>\n",
       "      <td>102515047</td>\n",
       "    </tr>\n",
       "    <tr>\n",
       "      <th>CPD-14658</th>\n",
       "      <td>(+)-orobanchyl acetate</td>\n",
       "      <td>90.736885</td>\n",
       "      <td>InChI=1S/C21H24O7/c1-10-8-14(27-19(10)23)25-9-...</td>\n",
       "      <td>CC1(C(=O)OC(C=1)OC=C2(C(=O)O[CH]3([CH]2C(OC(C)...</td>\n",
       "      <td>24796587</td>\n",
       "    </tr>\n",
       "    <tr>\n",
       "      <th>CPD-14885</th>\n",
       "      <td>3-aminobenzoate</td>\n",
       "      <td>12.324662</td>\n",
       "      <td>InChI=1S/C7H7NO2/c8-6-3-1-2-5(4-6)7(9)10/h1-4H...</td>\n",
       "      <td>C(=O)([O-])C1(C=C(N)C=CC=1)</td>\n",
       "      <td>3014145</td>\n",
       "    </tr>\n",
       "    <tr>\n",
       "      <th>CPD-14884</th>\n",
       "      <td>3-amino-4-hydroxybenzenesulfonate</td>\n",
       "      <td>-40.905334</td>\n",
       "      <td>InChI=1S/C6H7NO4S/c7-5-3-4(12(9,10)11)1-2-6(5)...</td>\n",
       "      <td>C1(C(S(=O)([O-])=O)=CC(N)=C(O)C=1)</td>\n",
       "      <td>4146016</td>\n",
       "    </tr>\n",
       "  </tbody>\n",
       "</table>\n",
       "</div>"
      ],
      "text/plain": [
       "                                                 COMMON-NAME     GIBBS-0  \\\n",
       "UNIQUE-ID                                                                  \n",
       "CPD-14966  (2Z,4Z)-2-hydroxy-5-carboxymuconate-6-semialde... -150.733760   \n",
       "CPD-14905  4&alpha;,14&alpha;-dimethyl-porifersta-8,25(27...  568.928300   \n",
       "CPD-14658                             (+)-orobanchyl acetate   90.736885   \n",
       "CPD-14885                                    3-aminobenzoate   12.324662   \n",
       "CPD-14884                  3-amino-4-hydroxybenzenesulfonate  -40.905334   \n",
       "\n",
       "                                                       INCHI  \\\n",
       "UNIQUE-ID                                                      \n",
       "CPD-14966  InChI=1S/C7H6O6/c8-3-4(6(10)11)1-2-5(9)7(12)13...   \n",
       "CPD-14905  InChI=1S/C31H52O/c1-9-23(20(2)3)11-10-21(4)24-...   \n",
       "CPD-14658  InChI=1S/C21H24O7/c1-10-8-14(27-19(10)23)25-9-...   \n",
       "CPD-14885  InChI=1S/C7H7NO2/c8-6-3-1-2-5(4-6)7(9)10/h1-4H...   \n",
       "CPD-14884  InChI=1S/C6H7NO4S/c7-5-3-4(12(9,10)11)1-2-6(5)...   \n",
       "\n",
       "                                                      SMILES  PubChemID  \n",
       "UNIQUE-ID                                                                \n",
       "CPD-14966              [CH](=O)C(C(=O)[O-])=CC=C(O)C([O-])=O   90657979  \n",
       "CPD-14905  CCC(C(C)=C)CCC(C)[CH]3(CCC4(C)(C2(CC[CH]1(C(C)...  102515047  \n",
       "CPD-14658  CC1(C(=O)OC(C=1)OC=C2(C(=O)O[CH]3([CH]2C(OC(C)...   24796587  \n",
       "CPD-14885                        C(=O)([O-])C1(C=C(N)C=CC=1)    3014145  \n",
       "CPD-14884                 C1(C(S(=O)([O-])=O)=CC(N)=C(O)C=1)    4146016  "
      ]
     },
     "execution_count": 27,
     "metadata": {},
     "output_type": "execute_result"
    }
   ],
   "source": [
    "df_cpd.head()"
   ]
  },
  {
   "cell_type": "code",
   "execution_count": null,
   "metadata": {
    "scrolled": false
   },
   "outputs": [],
   "source": [
    "df_rxn.head()"
   ]
  },
  {
   "cell_type": "code",
   "execution_count": null,
   "metadata": {
    "scrolled": false
   },
   "outputs": [],
   "source": [
    "df_enz.head()"
   ]
  },
  {
   "cell_type": "markdown",
   "metadata": {},
   "source": [
    "`&beta;-<i>N</i>-acetylhexosaminidase` refer to __&beta;-<i>N</i>-acetylhexosaminidase__"
   ]
  },
  {
   "cell_type": "markdown",
   "metadata": {},
   "source": [
    "Some weird notation here\n",
    "- RXN-12314 doesn't have any enzyme affilated\n",
    "- However, it links to a certain enzymatic reaction ENZRXN-19061 which has the reaction linked back as well\n",
    "- What I don't understand is ENZYME column from enzrxn dataset which link to somewhere else that we cannot find an enzyme database in this current version of MetaCyc database\n",
    "    - This ENZYME name and common name match with ENZYME name in rxn dataset. However, this is still unclear"
   ]
  },
  {
   "cell_type": "markdown",
   "metadata": {},
   "source": [
    "##### Write a function that call a `UNIQUE-ID` or `COMMON-NAME` into InChI\n",
    "This is an easiest approach to link df_rxn with df_cpd"
   ]
  },
  {
   "cell_type": "code",
   "execution_count": 5,
   "metadata": {},
   "outputs": [],
   "source": [
    "def get_inchi(ID):\n",
    "    \n",
    "    \"\"\"This function accept UNIQUE-ID and return InChI string of a certain compound\"\"\"\n",
    "    \n",
    "    inchi = df_cpd['INCHI'][ID]\n",
    "    \n",
    "    return inchi\n",
    "\n",
    "def get_smiles(ID):\n",
    "    \n",
    "    \"\"\"This function accept UNIQUE-ID and return SMILES string of a certain compound\"\"\"\n",
    "    \n",
    "    smiles = df_cpd['SMILES'][ID]\n",
    "    \n",
    "    return smiles"
   ]
  },
  {
   "cell_type": "code",
   "execution_count": 6,
   "metadata": {},
   "outputs": [],
   "source": [
    "def get_pubchem(ID):\n",
    "    \n",
    "    \"\"\"This function accept UNIQUE-ID and return InChI string of a certain compound\"\"\"\n",
    "    if ID in df_cpd['PubChemID']:\n",
    "        pubchem = df_cpd['PubChemID'][ID]\n",
    "    else:\n",
    "        pubchem = '0'\n",
    "        \n",
    "    return pubchem"
   ]
  },
  {
   "cell_type": "code",
   "execution_count": null,
   "metadata": {},
   "outputs": [],
   "source": [
    "get_inchi('CPD-7557')"
   ]
  },
  {
   "cell_type": "code",
   "execution_count": null,
   "metadata": {},
   "outputs": [],
   "source": [
    "get_smiles('CPD-7557')"
   ]
  },
  {
   "cell_type": "markdown",
   "metadata": {},
   "source": [
    "df_enz.loc['ENZRXN-19061']"
   ]
  },
  {
   "cell_type": "markdown",
   "metadata": {},
   "source": [
    "type(int(df_cpd['PubChemID'].loc['CPD-14966']))"
   ]
  },
  {
   "cell_type": "markdown",
   "metadata": {},
   "source": [
    "df_cpd.loc['5-AMINO-LEVULINATE']"
   ]
  },
  {
   "cell_type": "markdown",
   "metadata": {},
   "source": [
    "df_cpd.loc['PROTON']"
   ]
  },
  {
   "cell_type": "markdown",
   "metadata": {},
   "source": [
    "df_rxn.head()"
   ]
  },
  {
   "cell_type": "markdown",
   "metadata": {},
   "source": [
    "df_rxn.loc['3.2.1.52-RXN']"
   ]
  },
  {
   "cell_type": "markdown",
   "metadata": {},
   "source": [
    "To strip the string see method below\n",
    ">>> import ast\n",
    ">>> x = u'[ \"A\",\"B\",\"C\" , \" D\"]'\n",
    ">>> x = ast.literal_eval(x)\n",
    ">>> x\n",
    "['A', 'B', 'C', ' D']\n",
    ">>> x = [n.strip() for n in x]\n",
    ">>> x\n",
    "['A', 'B', 'C', 'D']"
   ]
  },
  {
   "cell_type": "markdown",
   "metadata": {},
   "source": [
    "text = df_rxn['EC-NUMBER'].iloc[4]\n",
    "text"
   ]
  },
  {
   "cell_type": "markdown",
   "metadata": {},
   "source": [
    "type(text)"
   ]
  },
  {
   "cell_type": "markdown",
   "metadata": {},
   "source": [
    "df_rxn.loc['PORPHOBILSYNTH-RXN']"
   ]
  },
  {
   "cell_type": "markdown",
   "metadata": {},
   "source": [
    "text = df_rxn['EC-NUMBER'].loc['PORPHOBILSYNTH-RXN']"
   ]
  },
  {
   "cell_type": "markdown",
   "metadata": {},
   "source": [
    "text = df_rxn['EC-NUMBER'].loc['RXN-9516']\n",
    "split = text[2:-2].split(\"', '\")\n",
    "split"
   ]
  },
  {
   "cell_type": "markdown",
   "metadata": {},
   "source": [
    "type(split)"
   ]
  },
  {
   "cell_type": "markdown",
   "metadata": {},
   "source": [
    "split[0]"
   ]
  },
  {
   "cell_type": "code",
   "execution_count": null,
   "metadata": {
    "scrolled": true
   },
   "outputs": [],
   "source": [
    "# count how many reactions doesn't have EC-NUMBER\n",
    "counter_1 = 0\n",
    "counter_m = 0\n",
    "counter_n = 0\n",
    "\n",
    "for index, row in df_rxn.iterrows():\n",
    "    \n",
    "    if type(row['EC-NUMBER']) != type('string'):\n",
    "        #   if math.isnan(row['EC-NUMBER']):\n",
    "        counter_n += 1\n",
    "    else:\n",
    "        data = ast.literal_eval(row['EC-NUMBER'])\n",
    "        \n",
    "        if len(data) == 1:\n",
    "            counter_1 += 1\n",
    "        elif len(data) > 1:\n",
    "            counter_m += 1\n",
    "        else:\n",
    "            pass\n",
    "print('Out of total', df_rxn.shape[0], 'row of df_rxn')\n",
    "print('The data with only one, multiple, and no EC-Number are', counter_1, counter_m, 'and', counter_n, 'respectively')"
   ]
  },
  {
   "cell_type": "markdown",
   "metadata": {},
   "source": [
    "# Rearrange them into master dataframe format\n",
    "Here, we have to turn all df_rxn into that of master dataframe by re-indexing with EC-Number as an index"
   ]
  },
  {
   "cell_type": "code",
   "execution_count": null,
   "metadata": {
    "scrolled": true
   },
   "outputs": [],
   "source": [
    "df_rxn.head()"
   ]
  },
  {
   "cell_type": "markdown",
   "metadata": {},
   "source": [
    "df_rxn['EC-NUMBER']['RXN-9204'][0]"
   ]
  },
  {
   "cell_type": "markdown",
   "metadata": {},
   "source": [
    "df_rxn.iloc[0].index"
   ]
  },
  {
   "cell_type": "markdown",
   "metadata": {},
   "source": [
    "# start running here"
   ]
  },
  {
   "cell_type": "code",
   "execution_count": null,
   "metadata": {},
   "outputs": [],
   "source": [
    "EC = []\n",
    "rxn = []\n",
    "\n",
    "for index, row in df_rxn.iterrows():\n",
    "    \n",
    "    if len(row['EC-NUMBER']) > 1:\n",
    "        for i in range(len(row['EC-NUMBER'])):\n",
    "            EC.append(row['EC-NUMBER'][i])\n",
    "            rxn.append(index)\n",
    "    elif len(row['EC-NUMBER']) == 1:\n",
    "        EC.append(row['EC-NUMBER'][0])\n",
    "        rxn.append(index)\n",
    "    else:\n",
    "        EC.append('No_Data')\n",
    "        rxn.append(index)"
   ]
  },
  {
   "cell_type": "code",
   "execution_count": null,
   "metadata": {},
   "outputs": [],
   "source": [
    "df_master = pd.DataFrame({'EC-NUMBER' : EC,\n",
    "                          'UNIQUE-ID' : rxn})"
   ]
  },
  {
   "cell_type": "code",
   "execution_count": null,
   "metadata": {
    "scrolled": true
   },
   "outputs": [],
   "source": [
    "df_master.head()"
   ]
  },
  {
   "cell_type": "code",
   "execution_count": null,
   "metadata": {},
   "outputs": [],
   "source": [
    "rxn_num = []\n",
    "subs = []\n",
    "pdts = []\n",
    "gibbs = []\n",
    "\n",
    "for index, row in df_master.iterrows():\n",
    "    ID = row['UNIQUE-ID']\n",
    "    rxn_num.append(df_rxn['ERXN-NUMBER'][ID])\n",
    "    subs.append(df_rxn['SUBSTRATES'][ID])\n",
    "    pdts.append(df_rxn['PRODUCTS'][ID])\n",
    "    gibbs.append(df_rxn['GIBBS'][ID])"
   ]
  },
  {
   "cell_type": "code",
   "execution_count": null,
   "metadata": {
    "scrolled": true
   },
   "outputs": [],
   "source": [
    "df_master['ERXN-NUMBER'] = rxn_num\n",
    "df_master['SUBSTRATES'] = subs\n",
    "df_master['PRODUCTS'] = pdts\n",
    "df_master['GIBBS'] = gibbs\n",
    "df_master.head()"
   ]
  },
  {
   "cell_type": "code",
   "execution_count": null,
   "metadata": {},
   "outputs": [],
   "source": [
    "df_master.tail()"
   ]
  },
  {
   "cell_type": "markdown",
   "metadata": {},
   "source": [
    "df_duplicate = df_master.groupby('EC-NUMBER').size().reset_index(name='count')\n",
    "df_duplicate.head()"
   ]
  },
  {
   "cell_type": "markdown",
   "metadata": {},
   "source": [
    "df_duplicate.tail()"
   ]
  },
  {
   "cell_type": "code",
   "execution_count": null,
   "metadata": {
    "scrolled": true
   },
   "outputs": [],
   "source": [
    "df_sorted = df_master.sort_values(by=['EC-NUMBER'])\n",
    "df_sorted.head()"
   ]
  },
  {
   "cell_type": "code",
   "execution_count": null,
   "metadata": {},
   "outputs": [],
   "source": [
    "df_sorted.reset_index(inplace=True, drop=True)"
   ]
  },
  {
   "cell_type": "code",
   "execution_count": null,
   "metadata": {},
   "outputs": [],
   "source": [
    "df_sorted['GIBBS'][2]"
   ]
  },
  {
   "cell_type": "markdown",
   "metadata": {},
   "source": [
    "df_sorted['GIBBS'][2] = 'No-data'"
   ]
  },
  {
   "cell_type": "code",
   "execution_count": null,
   "metadata": {},
   "outputs": [],
   "source": [
    "for index, row in df_sorted.iterrows():\n",
    "    \n",
    "    if math.isnan(row['GIBBS']):\n",
    "        df_sorted['GIBBS'][index] = 'No-Data'\n",
    "        \n",
    "df_sorted.head()"
   ]
  },
  {
   "cell_type": "code",
   "execution_count": null,
   "metadata": {},
   "outputs": [],
   "source": [
    "df_sorted['EC-NUMBER'][0]"
   ]
  },
  {
   "cell_type": "markdown",
   "metadata": {},
   "source": [
    "This cell might be wrong and lead to duplication of that EC-1"
   ]
  },
  {
   "cell_type": "code",
   "execution_count": null,
   "metadata": {},
   "outputs": [],
   "source": [
    "EC_a = 'EC-1'\n",
    "\n",
    "EC = []\n",
    "ID = []\n",
    "erxn = []\n",
    "subs = []\n",
    "pdts = []\n",
    "gibbs = []\n",
    "counter = 0\n",
    "\n",
    "ID_temp = []\n",
    "erxn_temp = []\n",
    "subs_temp = []\n",
    "pdts_temp = []\n",
    "gibbs_temp = []\n",
    "\n",
    "for index, row in df_sorted.iterrows():\n",
    "    \n",
    "    if row['EC-NUMBER'] == EC_a:\n",
    "        ID_temp.append(row['UNIQUE-ID'])\n",
    "        erxn_temp.append(row['ERXN-NUMBER'])\n",
    "        subs_temp.append(row['SUBSTRATES'])\n",
    "        pdts_temp.append(row['PRODUCTS'])\n",
    "        gibbs_temp.append(row['GIBBS'])\n",
    "        counter += 1\n",
    "        \n",
    "    elif counter == 0:\n",
    "        ID.append(row['UNIQUE-ID'])\n",
    "        erxn.append(row['ERXN-NUMBER'])\n",
    "        subs.append(row['SUBSTRATES'])\n",
    "        pdts.append(row['PRODUCTS'])\n",
    "        gibbs.append(row['GIBBS'])\n",
    "        \n",
    "        EC.append(EC_a)\n",
    "        EC_a = row['EC-NUMBER']\n",
    "    else:\n",
    "        ID.append(ID_temp)\n",
    "        erxn.append(erxn_temp)\n",
    "        subs.append(subs_temp)\n",
    "        pdts.append(pdts_temp)\n",
    "        gibbs.append(gibbs_temp)\n",
    "        \n",
    "        ID_temp = []\n",
    "        erxn_temp = []\n",
    "        subs_temp = []\n",
    "        pdts_temp = []\n",
    "        gibbs_temp = []\n",
    "\n",
    "        EC.append(EC_a)\n",
    "        counter = 0\n",
    "        EC_a = row['EC-NUMBER']\n"
   ]
  },
  {
   "cell_type": "code",
   "execution_count": null,
   "metadata": {},
   "outputs": [],
   "source": [
    "df_sorted_master = pd.DataFrame({'EC-NUMBER' : EC,\n",
    "                                'UNIQUE-ID' : ID,\n",
    "                                'ERXN-NUMBER' : erxn,\n",
    "                                'SUBSTRATES' : subs,\n",
    "                                'PRODUCTS' : pdts,\n",
    "                                'GIBBS' : gibbs})"
   ]
  },
  {
   "cell_type": "code",
   "execution_count": null,
   "metadata": {},
   "outputs": [],
   "source": [
    "df_sorted_master.head(10)"
   ]
  },
  {
   "cell_type": "code",
   "execution_count": null,
   "metadata": {},
   "outputs": [],
   "source": [
    "df_sorted_master.tail(10)"
   ]
  },
  {
   "cell_type": "code",
   "execution_count": null,
   "metadata": {},
   "outputs": [],
   "source": [
    "df_sorted_master.set_index(keys=['EC-NUMBER'], inplace=True)"
   ]
  },
  {
   "cell_type": "code",
   "execution_count": null,
   "metadata": {
    "scrolled": true
   },
   "outputs": [],
   "source": [
    "df_sorted_master.index[4].count('.')"
   ]
  },
  {
   "cell_type": "code",
   "execution_count": null,
   "metadata": {},
   "outputs": [],
   "source": [
    "df_sorted_master"
   ]
  },
  {
   "cell_type": "code",
   "execution_count": null,
   "metadata": {},
   "outputs": [],
   "source": [
    "df_sorted_master.index"
   ]
  },
  {
   "cell_type": "code",
   "execution_count": null,
   "metadata": {},
   "outputs": [],
   "source": [
    "drop = []\n",
    "for index, row in df_sorted_master.iterrows():\n",
    "    if index.count('.') < 'EC-1.1.1.1'.count('.'):\n",
    "        #print(index)\n",
    "        drop.append(index)"
   ]
  },
  {
   "cell_type": "code",
   "execution_count": null,
   "metadata": {},
   "outputs": [],
   "source": [
    "drop[:10]"
   ]
  },
  {
   "cell_type": "code",
   "execution_count": null,
   "metadata": {},
   "outputs": [],
   "source": [
    "df_sorted_master_drop = df_sorted_master\n",
    "for item in drop:\n",
    "    df_sorted_master_drop = df_sorted_master_drop.drop(item)"
   ]
  },
  {
   "cell_type": "code",
   "execution_count": null,
   "metadata": {},
   "outputs": [],
   "source": [
    "for index, row in df_sorted_master_drop.iterrows():\n",
    "    if index.count('.') < 'EC-1.1.1.1'.count('.'):\n",
    "        print(index)"
   ]
  },
  {
   "cell_type": "code",
   "execution_count": null,
   "metadata": {},
   "outputs": [],
   "source": [
    "df_sorted_master_drop.drop(['UNIQUE-ID', 'ERXN-NUMBER'], axis=1)"
   ]
  },
  {
   "cell_type": "markdown",
   "metadata": {},
   "source": [
    "This approach can be done by changing the substrates and products in df_rxn into PubChemID first ('0' for NaN)"
   ]
  },
  {
   "cell_type": "code",
   "execution_count": null,
   "metadata": {},
   "outputs": [],
   "source": [
    "# the file is too big!!! up to 1.7 G --- should reduce the size first\n",
    "df_sorted_master.to_csv('df_master_1st.csv')\n",
    "\n",
    "# changing to PubChemID still give 1.3 G left"
   ]
  },
  {
   "cell_type": "markdown",
   "metadata": {},
   "source": [
    "# here is the first version of master dataframe\n",
    "However, it is not perfect\n",
    "- CPD-ID is not converted to PubChemID or InChI yet\n",
    "- cofactor is not cleaned\n",
    "- reversibility is not applied\n",
    "- Anyway, should be in similar shape to that of previous master but contains single reactions"
   ]
  },
  {
   "cell_type": "code",
   "execution_count": null,
   "metadata": {},
   "outputs": [],
   "source": [
    "df_master_1st = pd.read_csv('df_master_1st.csv')"
   ]
  },
  {
   "cell_type": "code",
   "execution_count": null,
   "metadata": {
    "scrolled": true
   },
   "outputs": [],
   "source": [
    "df_master = df_master_1st.drop(['UNIQUE-ID', 'ERXN-NUMBER'], axis = 1)\n",
    "df_master['DIRECTION'] = 1\n",
    "df_master.head()"
   ]
  },
  {
   "cell_type": "code",
   "execution_count": null,
   "metadata": {},
   "outputs": [],
   "source": [
    "recover_list(df_master, 'SUBSTRATES')\n",
    "recover_list(df_master, 'PRODUCTS')"
   ]
  },
  {
   "cell_type": "code",
   "execution_count": null,
   "metadata": {
    "scrolled": true
   },
   "outputs": [],
   "source": [
    "df_master.head()"
   ]
  },
  {
   "cell_type": "code",
   "execution_count": null,
   "metadata": {
    "scrolled": true
   },
   "outputs": [],
   "source": [
    "df_master_rev = pd.DataFrame({'EC-NUMBER': df_master['EC-NUMBER'],\n",
    "                             'SUBSTRATES': df_master['PRODUCTS'],\n",
    "                             'PRODUCTS': df_master['SUBSTRATES'],\n",
    "                             'GIBBS': df_master['GIBBS'],\n",
    "                             'DIRECTION': df_master['DIRECTION']*(-1)})\n",
    "df_master_rev.head()"
   ]
  },
  {
   "cell_type": "code",
   "execution_count": null,
   "metadata": {},
   "outputs": [],
   "source": [
    "df_merged =pd.concat([df_master, df_master_rev], ignore_index=True)\n",
    "df_merged.head()"
   ]
  },
  {
   "cell_type": "code",
   "execution_count": null,
   "metadata": {
    "scrolled": true
   },
   "outputs": [],
   "source": [
    "df_merged.sort_values('EC-NUMBER').reset_index(drop = True)"
   ]
  },
  {
   "cell_type": "markdown",
   "metadata": {},
   "source": [
    "df_merged.to_csv('df_merged.csv')"
   ]
  },
  {
   "cell_type": "markdown",
   "metadata": {},
   "source": [
    "# ELLIE PAY ATTENTION TO ME\n",
    "\n",
    "## you will probably need to run the recover_list function and then the rmv cofactors function.\n",
    "\n",
    "## you are working in this region of the notebook.\n",
    "\n",
    "## you need to find a way to make the get_pubchem function work with the master dataframe. this will hopefully get rid of things (like the \"ACCEPTOR\") if they do not have a pubchem id. You will also need to run a couple of cells relating to the df_cpd at the tippity top of this notebook\n",
    "\n",
    "## you are working a little ways down with the function that takes df, colname, master_df. try it with a smaller subset of the master df. you are trying to get it to try to resolve unknown pubchemids by checking with pubchempy and the smiles and returning that instead of 0. 0 should be a last resort."
   ]
  },
  {
   "cell_type": "code",
   "execution_count": 14,
   "metadata": {
    "scrolled": false
   },
   "outputs": [
    {
     "data": {
      "text/html": [
       "<div>\n",
       "<style scoped>\n",
       "    .dataframe tbody tr th:only-of-type {\n",
       "        vertical-align: middle;\n",
       "    }\n",
       "\n",
       "    .dataframe tbody tr th {\n",
       "        vertical-align: top;\n",
       "    }\n",
       "\n",
       "    .dataframe thead th {\n",
       "        text-align: right;\n",
       "    }\n",
       "</style>\n",
       "<table border=\"1\" class=\"dataframe\">\n",
       "  <thead>\n",
       "    <tr style=\"text-align: right;\">\n",
       "      <th></th>\n",
       "      <th>Unnamed: 0</th>\n",
       "      <th>EC-NUMBER</th>\n",
       "      <th>SUBSTRATES</th>\n",
       "      <th>PRODUCTS</th>\n",
       "      <th>GIBBS</th>\n",
       "      <th>DIRECTION</th>\n",
       "    </tr>\n",
       "  </thead>\n",
       "  <tbody>\n",
       "    <tr>\n",
       "      <th>0</th>\n",
       "      <td>0</td>\n",
       "      <td>EC-1</td>\n",
       "      <td>[['CPD-722', 'Red-Thioredoxin'], ['CPD-8922', ...</td>\n",
       "      <td>[['BIOTIN', 'Ox-Thioredoxin', 'WATER'], ['CPD-...</td>\n",
       "      <td>[4.5452347, -50.319992, 'No-Data', 'No-Data', ...</td>\n",
       "      <td>1</td>\n",
       "    </tr>\n",
       "    <tr>\n",
       "      <th>1</th>\n",
       "      <td>1</td>\n",
       "      <td>EC-1</td>\n",
       "      <td>[['BIOTIN', 'Ox-Thioredoxin', 'WATER'], ['CPD-...</td>\n",
       "      <td>[['CPD-722', 'Red-Thioredoxin'], ['CPD-8922', ...</td>\n",
       "      <td>[4.5452347, -50.319992, 'No-Data', 'No-Data', ...</td>\n",
       "      <td>-1</td>\n",
       "    </tr>\n",
       "    <tr>\n",
       "      <th>2</th>\n",
       "      <td>2</td>\n",
       "      <td>EC-1.1</td>\n",
       "      <td>[['CPD-19423', 'Acceptor'], ['C86-cis-keto-myc...</td>\n",
       "      <td>[['CPD-19443', 'Donor-H2'], ['3-oxo-C86-cis-ke...</td>\n",
       "      <td>['No-Data', 'No-Data', 'No-Data', 'No-Data', '...</td>\n",
       "      <td>1</td>\n",
       "    </tr>\n",
       "    <tr>\n",
       "      <th>3</th>\n",
       "      <td>3</td>\n",
       "      <td>EC-1.1</td>\n",
       "      <td>[['CPD-19443', 'Donor-H2'], ['3-oxo-C86-cis-ke...</td>\n",
       "      <td>[['CPD-19423', 'Acceptor'], ['C86-cis-keto-myc...</td>\n",
       "      <td>['No-Data', 'No-Data', 'No-Data', 'No-Data', '...</td>\n",
       "      <td>-1</td>\n",
       "    </tr>\n",
       "    <tr>\n",
       "      <th>4</th>\n",
       "      <td>4</td>\n",
       "      <td>EC-1.1.1</td>\n",
       "      <td>[['D-galactopyranose', 'NADP'], ['CPD-14807', ...</td>\n",
       "      <td>[['CPD-1242', 'NADPH', 'PROTON'], ['CPD-14806'...</td>\n",
       "      <td>[-1.6264648000000002, -0.1665039, 'No-Data', 2...</td>\n",
       "      <td>1</td>\n",
       "    </tr>\n",
       "  </tbody>\n",
       "</table>\n",
       "</div>"
      ],
      "text/plain": [
       "   Unnamed: 0 EC-NUMBER                                         SUBSTRATES  \\\n",
       "0           0      EC-1  [['CPD-722', 'Red-Thioredoxin'], ['CPD-8922', ...   \n",
       "1           1      EC-1  [['BIOTIN', 'Ox-Thioredoxin', 'WATER'], ['CPD-...   \n",
       "2           2    EC-1.1  [['CPD-19423', 'Acceptor'], ['C86-cis-keto-myc...   \n",
       "3           3    EC-1.1  [['CPD-19443', 'Donor-H2'], ['3-oxo-C86-cis-ke...   \n",
       "4           4  EC-1.1.1  [['D-galactopyranose', 'NADP'], ['CPD-14807', ...   \n",
       "\n",
       "                                            PRODUCTS  \\\n",
       "0  [['BIOTIN', 'Ox-Thioredoxin', 'WATER'], ['CPD-...   \n",
       "1  [['CPD-722', 'Red-Thioredoxin'], ['CPD-8922', ...   \n",
       "2  [['CPD-19443', 'Donor-H2'], ['3-oxo-C86-cis-ke...   \n",
       "3  [['CPD-19423', 'Acceptor'], ['C86-cis-keto-myc...   \n",
       "4  [['CPD-1242', 'NADPH', 'PROTON'], ['CPD-14806'...   \n",
       "\n",
       "                                               GIBBS  DIRECTION  \n",
       "0  [4.5452347, -50.319992, 'No-Data', 'No-Data', ...          1  \n",
       "1  [4.5452347, -50.319992, 'No-Data', 'No-Data', ...         -1  \n",
       "2  ['No-Data', 'No-Data', 'No-Data', 'No-Data', '...          1  \n",
       "3  ['No-Data', 'No-Data', 'No-Data', 'No-Data', '...         -1  \n",
       "4  [-1.6264648000000002, -0.1665039, 'No-Data', 2...          1  "
      ]
     },
     "execution_count": 14,
     "metadata": {},
     "output_type": "execute_result"
    }
   ],
   "source": [
    "master = pd.read_csv('../notebooks/df_merged_1st.csv')\n",
    "master.shape\n",
    "master.head()"
   ]
  },
  {
   "cell_type": "code",
   "execution_count": 15,
   "metadata": {},
   "outputs": [],
   "source": [
    "recover_list(master,'SUBSTRATES')\n",
    "recover_list(master,'PRODUCTS')"
   ]
  },
  {
   "cell_type": "code",
   "execution_count": 16,
   "metadata": {
    "scrolled": false
   },
   "outputs": [
    {
     "data": {
      "text/html": [
       "<div>\n",
       "<style scoped>\n",
       "    .dataframe tbody tr th:only-of-type {\n",
       "        vertical-align: middle;\n",
       "    }\n",
       "\n",
       "    .dataframe tbody tr th {\n",
       "        vertical-align: top;\n",
       "    }\n",
       "\n",
       "    .dataframe thead th {\n",
       "        text-align: right;\n",
       "    }\n",
       "</style>\n",
       "<table border=\"1\" class=\"dataframe\">\n",
       "  <thead>\n",
       "    <tr style=\"text-align: right;\">\n",
       "      <th></th>\n",
       "      <th>Unnamed: 0</th>\n",
       "      <th>EC-NUMBER</th>\n",
       "      <th>SUBSTRATES</th>\n",
       "      <th>PRODUCTS</th>\n",
       "      <th>GIBBS</th>\n",
       "      <th>DIRECTION</th>\n",
       "    </tr>\n",
       "  </thead>\n",
       "  <tbody>\n",
       "    <tr>\n",
       "      <th>0</th>\n",
       "      <td>0</td>\n",
       "      <td>EC-1</td>\n",
       "      <td>[[CPD-722, Red-Thioredoxin], [CPD-8922, OXYGEN...</td>\n",
       "      <td>[[BIOTIN, Ox-Thioredoxin, WATER], [CPD-8928], ...</td>\n",
       "      <td>[4.5452347, -50.319992, 'No-Data', 'No-Data', ...</td>\n",
       "      <td>1</td>\n",
       "    </tr>\n",
       "    <tr>\n",
       "      <th>1</th>\n",
       "      <td>1</td>\n",
       "      <td>EC-1</td>\n",
       "      <td>[[BIOTIN, Ox-Thioredoxin, WATER], [CPD-8928], ...</td>\n",
       "      <td>[[CPD-722, Red-Thioredoxin], [CPD-8922, OXYGEN...</td>\n",
       "      <td>[4.5452347, -50.319992, 'No-Data', 'No-Data', ...</td>\n",
       "      <td>-1</td>\n",
       "    </tr>\n",
       "    <tr>\n",
       "      <th>2</th>\n",
       "      <td>2</td>\n",
       "      <td>EC-1.1</td>\n",
       "      <td>[[CPD-19423, Acceptor], [C86-cis-keto-mycolate...</td>\n",
       "      <td>[[CPD-19443, Donor-H2], [3-oxo-C86-cis-keto-my...</td>\n",
       "      <td>['No-Data', 'No-Data', 'No-Data', 'No-Data', '...</td>\n",
       "      <td>1</td>\n",
       "    </tr>\n",
       "    <tr>\n",
       "      <th>3</th>\n",
       "      <td>3</td>\n",
       "      <td>EC-1.1</td>\n",
       "      <td>[[CPD-19443, Donor-H2], [3-oxo-C86-cis-keto-my...</td>\n",
       "      <td>[[CPD-19423, Acceptor], [C86-cis-keto-mycolate...</td>\n",
       "      <td>['No-Data', 'No-Data', 'No-Data', 'No-Data', '...</td>\n",
       "      <td>-1</td>\n",
       "    </tr>\n",
       "    <tr>\n",
       "      <th>4</th>\n",
       "      <td>4</td>\n",
       "      <td>EC-1.1.1</td>\n",
       "      <td>[[D-galactopyranose, NADP], [CPD-14807, NADP],...</td>\n",
       "      <td>[[CPD-1242, NADPH, PROTON], [CPD-14806, NADPH,...</td>\n",
       "      <td>[-1.6264648000000002, -0.1665039, 'No-Data', 2...</td>\n",
       "      <td>1</td>\n",
       "    </tr>\n",
       "  </tbody>\n",
       "</table>\n",
       "</div>"
      ],
      "text/plain": [
       "   Unnamed: 0 EC-NUMBER                                         SUBSTRATES  \\\n",
       "0           0      EC-1  [[CPD-722, Red-Thioredoxin], [CPD-8922, OXYGEN...   \n",
       "1           1      EC-1  [[BIOTIN, Ox-Thioredoxin, WATER], [CPD-8928], ...   \n",
       "2           2    EC-1.1  [[CPD-19423, Acceptor], [C86-cis-keto-mycolate...   \n",
       "3           3    EC-1.1  [[CPD-19443, Donor-H2], [3-oxo-C86-cis-keto-my...   \n",
       "4           4  EC-1.1.1  [[D-galactopyranose, NADP], [CPD-14807, NADP],...   \n",
       "\n",
       "                                            PRODUCTS  \\\n",
       "0  [[BIOTIN, Ox-Thioredoxin, WATER], [CPD-8928], ...   \n",
       "1  [[CPD-722, Red-Thioredoxin], [CPD-8922, OXYGEN...   \n",
       "2  [[CPD-19443, Donor-H2], [3-oxo-C86-cis-keto-my...   \n",
       "3  [[CPD-19423, Acceptor], [C86-cis-keto-mycolate...   \n",
       "4  [[CPD-1242, NADPH, PROTON], [CPD-14806, NADPH,...   \n",
       "\n",
       "                                               GIBBS  DIRECTION  \n",
       "0  [4.5452347, -50.319992, 'No-Data', 'No-Data', ...          1  \n",
       "1  [4.5452347, -50.319992, 'No-Data', 'No-Data', ...         -1  \n",
       "2  ['No-Data', 'No-Data', 'No-Data', 'No-Data', '...          1  \n",
       "3  ['No-Data', 'No-Data', 'No-Data', 'No-Data', '...         -1  \n",
       "4  [-1.6264648000000002, -0.1665039, 'No-Data', 2...          1  "
      ]
     },
     "execution_count": 16,
     "metadata": {},
     "output_type": "execute_result"
    }
   ],
   "source": [
    "master.head()"
   ]
  },
  {
   "cell_type": "code",
   "execution_count": 17,
   "metadata": {},
   "outputs": [
    {
     "data": {
      "text/plain": [
       "0        [[BIOTIN, Ox-Thioredoxin, WATER], [CPD-8928], ...\n",
       "1        [[CPD-722, Red-Thioredoxin], [CPD-8922, OXYGEN...\n",
       "2        [[CPD-19443, Donor-H2], [3-oxo-C86-cis-keto-my...\n",
       "3        [[CPD-19423, Acceptor], [C86-cis-keto-mycolate...\n",
       "4        [[CPD-1242, NADPH, PROTON], [CPD-14806, NADPH,...\n",
       "5        [[D-galactopyranose, NADP], [CPD-14807, NADP],...\n",
       "6        [[5-HYDROXYINDOLE_ACETALDEHYDE, NADH, PROTON],...\n",
       "7        [[CPD-11671, NAD], [CPD-7033, NAD], [Secondary...\n",
       "8                     [3-oxo-stearoyl-ACPs, NADPH, PROTON]\n",
       "9                         [R-3-hydroxystearoyl-ACPs, NADP]\n",
       "10       [[3-oxo-cis-D7-tetradecenoyl-ACPs, NADPH, PROT...\n",
       "11       [[3-hydroxy-cis-D7-tetraecenoyl-ACPs, NADP], [...\n",
       "12       [[PALMITOYLGLYCERONE-PHOSPHATE, NADPH, PROTON]...\n",
       "13       [[1-PALMITOYLGLYCEROL-3-PHOSPHATE, NADP], [L-1...\n",
       "14                  [[CPD-13612, NADP], [CPD-13611, NADP]]\n",
       "15       [[DEHYDROSPHINGANINE, NADPH, PROTON], [CPD-136...\n",
       "16                                            [[THR, NAD]]\n",
       "17                 [[AMINO-ACETONE, CARBON-DIOXIDE, NADH]]\n",
       "18                                        [CPD-13524, NAD]\n",
       "19                                 [RETINAL, NADH, PROTON]\n",
       "20                         [[CRPB-all-trans-Retinol, NAD]]\n",
       "21                [[CRPB-all-trans-Retinal, NADH, PROTON]]\n",
       "22                                 [CPD-375, NADH, PROTON]\n",
       "23                                        [PYRIDOXAL, NAD]\n",
       "24                        [3-DE-H-CARNITINE, NADH, PROTON]\n",
       "25                                        [NAD, CARNITINE]\n",
       "26                              [D-XYLULOSE, NADH, PROTON]\n",
       "27                                          [CPD-355, NAD]\n",
       "28                         [INDOLE_PYRUVATE, NADH, PROTON]\n",
       "29                                        [CPD-21492, NAD]\n",
       "                               ...                        \n",
       "13674                            [GLUTATHIONE, ATP, WATER]\n",
       "13675                       [GLUTATHIONE, ADP, Pi, PROTON]\n",
       "13676                           [Pi, ADP, CPD-218, PROTON]\n",
       "13677                                [WATER, ATP, CPD-218]\n",
       "13678                                  [[WATER, ATP, MET]]\n",
       "13679                             [[Pi, ADP, MET, PROTON]]\n",
       "13680       [[cystine, ATP, WATER], [CYSTINE, ATP, WATER]]\n",
       "13681    [[cystine, ADP, Pi, PROTON], [CYSTINE, Pi, PRO...\n",
       "13682                                 [ALLOSE, ATP, WATER]\n",
       "13683                            [ALLOSE, ADP, Pi, PROTON]\n",
       "13684                      [D-galactofuransoe, ATP, WATER]\n",
       "13685                 [D-galactofuransoe, ADP, Pi, PROTON]\n",
       "13686                               [ATP, WATER, D-Xylose]\n",
       "13687                          [ADP, Pi, PROTON, D-Xylose]\n",
       "13688                            [D-Galactose, ATP, WATER]\n",
       "13689                       [D-Galactose, ADP, Pi, PROTON]\n",
       "13690                            [WATER, ATP, L-ARABINOSE]\n",
       "13691                       [Pi, ADP, PROTON, L-ARABINOSE]\n",
       "13692                          [ADP, Pi, PROTON, D-Xylose]\n",
       "13693                               [ATP, WATER, D-Xylose]\n",
       "13694                          [[WATER, ATP, L-ARABINOSE]]\n",
       "13695                     [[Pi, ADP, PROTON, L-ARABINOSE]]\n",
       "13696               [CAPSULAR-POLYSACCHARIDES, WATER, ATP]\n",
       "13697                  [CAPSULAR-POLYSACCHARIDES, Pi, ADP]\n",
       "13698                   [ATP, Aliphatic-Sulfonates, WATER]\n",
       "13699              [Aliphatic-Sulfonates, ADP, Pi, PROTON]\n",
       "13700                               [ATP, THIAMINE, WATER]\n",
       "13701                          [ADP, Pi, THIAMINE, PROTON]\n",
       "13702                        [ADP, Pi, PUTRESCINE, PROTON]\n",
       "13703                             [ATP, PUTRESCINE, WATER]\n",
       "Name: PRODUCTS, Length: 13704, dtype: object"
      ]
     },
     "execution_count": 17,
     "metadata": {},
     "output_type": "execute_result"
    }
   ],
   "source": [
    "master['PRODUCTS']"
   ]
  },
  {
   "cell_type": "markdown",
   "metadata": {},
   "source": [
    "subs_list = []\n",
    "pdts_list = []\n",
    "for index, row in master.iterrows():\n",
    "    \n",
    "    Subs = []\n",
    "    Pdts = []\n",
    "    \n",
    "    for item_set in row['SUBSTRATES']:\n",
    "        if type(item_set) == list:\n",
    "            for item in item_set:\n",
    "                Subs.append(item)\n",
    "        else:\n",
    "            Subs.append(item_set)\n",
    "    for item_set in row['PRODUCTS']:\n",
    "        if type(item_set) == list:\n",
    "            for item in item_set:\n",
    "                Pdts.append(item)\n",
    "        else:\n",
    "            Pdts.append(item_set)\n",
    "    subs_list.append(Subs)\n",
    "    pdts_list.append(Pdts)\n",
    "    \n",
    "master['SUBS'] = subs_list\n",
    "master['PDTS'] = pdts_list"
   ]
  },
  {
   "cell_type": "code",
   "execution_count": 19,
   "metadata": {},
   "outputs": [
    {
     "data": {
      "text/html": [
       "<div>\n",
       "<style scoped>\n",
       "    .dataframe tbody tr th:only-of-type {\n",
       "        vertical-align: middle;\n",
       "    }\n",
       "\n",
       "    .dataframe tbody tr th {\n",
       "        vertical-align: top;\n",
       "    }\n",
       "\n",
       "    .dataframe thead th {\n",
       "        text-align: right;\n",
       "    }\n",
       "</style>\n",
       "<table border=\"1\" class=\"dataframe\">\n",
       "  <thead>\n",
       "    <tr style=\"text-align: right;\">\n",
       "      <th></th>\n",
       "      <th>Unnamed: 0</th>\n",
       "      <th>EC-NUMBER</th>\n",
       "      <th>SUBSTRATES</th>\n",
       "      <th>PRODUCTS</th>\n",
       "      <th>GIBBS</th>\n",
       "      <th>DIRECTION</th>\n",
       "      <th>SUBS</th>\n",
       "      <th>PDTS</th>\n",
       "    </tr>\n",
       "  </thead>\n",
       "  <tbody>\n",
       "    <tr>\n",
       "      <th>0</th>\n",
       "      <td>0</td>\n",
       "      <td>EC-1</td>\n",
       "      <td>[[CPD-722, Red-Thioredoxin], [CPD-8922, OXYGEN...</td>\n",
       "      <td>[[BIOTIN, Ox-Thioredoxin, WATER], [CPD-8928], ...</td>\n",
       "      <td>[4.5452347, -50.319992, 'No-Data', 'No-Data', ...</td>\n",
       "      <td>1</td>\n",
       "      <td>[CPD-722, Red-Thioredoxin, CPD-8922, OXYGEN-MO...</td>\n",
       "      <td>[BIOTIN, Ox-Thioredoxin, WATER, CPD-8928, CPD-...</td>\n",
       "    </tr>\n",
       "    <tr>\n",
       "      <th>1</th>\n",
       "      <td>1</td>\n",
       "      <td>EC-1</td>\n",
       "      <td>[[BIOTIN, Ox-Thioredoxin, WATER], [CPD-8928], ...</td>\n",
       "      <td>[[CPD-722, Red-Thioredoxin], [CPD-8922, OXYGEN...</td>\n",
       "      <td>[4.5452347, -50.319992, 'No-Data', 'No-Data', ...</td>\n",
       "      <td>-1</td>\n",
       "      <td>[BIOTIN, Ox-Thioredoxin, WATER, CPD-8928, CPD-...</td>\n",
       "      <td>[CPD-722, Red-Thioredoxin, CPD-8922, OXYGEN-MO...</td>\n",
       "    </tr>\n",
       "    <tr>\n",
       "      <th>2</th>\n",
       "      <td>2</td>\n",
       "      <td>EC-1.1</td>\n",
       "      <td>[[CPD-19423, Acceptor], [C86-cis-keto-mycolate...</td>\n",
       "      <td>[[CPD-19443, Donor-H2], [3-oxo-C86-cis-keto-my...</td>\n",
       "      <td>['No-Data', 'No-Data', 'No-Data', 'No-Data', '...</td>\n",
       "      <td>1</td>\n",
       "      <td>[CPD-19423, Acceptor, C86-cis-keto-mycolate-pk...</td>\n",
       "      <td>[CPD-19443, Donor-H2, 3-oxo-C86-cis-keto-mycol...</td>\n",
       "    </tr>\n",
       "    <tr>\n",
       "      <th>3</th>\n",
       "      <td>3</td>\n",
       "      <td>EC-1.1</td>\n",
       "      <td>[[CPD-19443, Donor-H2], [3-oxo-C86-cis-keto-my...</td>\n",
       "      <td>[[CPD-19423, Acceptor], [C86-cis-keto-mycolate...</td>\n",
       "      <td>['No-Data', 'No-Data', 'No-Data', 'No-Data', '...</td>\n",
       "      <td>-1</td>\n",
       "      <td>[CPD-19443, Donor-H2, 3-oxo-C86-cis-keto-mycol...</td>\n",
       "      <td>[CPD-19423, Acceptor, C86-cis-keto-mycolate-pk...</td>\n",
       "    </tr>\n",
       "    <tr>\n",
       "      <th>4</th>\n",
       "      <td>4</td>\n",
       "      <td>EC-1.1.1</td>\n",
       "      <td>[[D-galactopyranose, NADP], [CPD-14807, NADP],...</td>\n",
       "      <td>[[CPD-1242, NADPH, PROTON], [CPD-14806, NADPH,...</td>\n",
       "      <td>[-1.6264648000000002, -0.1665039, 'No-Data', 2...</td>\n",
       "      <td>1</td>\n",
       "      <td>[D-galactopyranose, NADP, CPD-14807, NADP, CPD...</td>\n",
       "      <td>[CPD-1242, NADPH, PROTON, CPD-14806, NADPH, PR...</td>\n",
       "    </tr>\n",
       "  </tbody>\n",
       "</table>\n",
       "</div>"
      ],
      "text/plain": [
       "   Unnamed: 0 EC-NUMBER                                         SUBSTRATES  \\\n",
       "0           0      EC-1  [[CPD-722, Red-Thioredoxin], [CPD-8922, OXYGEN...   \n",
       "1           1      EC-1  [[BIOTIN, Ox-Thioredoxin, WATER], [CPD-8928], ...   \n",
       "2           2    EC-1.1  [[CPD-19423, Acceptor], [C86-cis-keto-mycolate...   \n",
       "3           3    EC-1.1  [[CPD-19443, Donor-H2], [3-oxo-C86-cis-keto-my...   \n",
       "4           4  EC-1.1.1  [[D-galactopyranose, NADP], [CPD-14807, NADP],...   \n",
       "\n",
       "                                            PRODUCTS  \\\n",
       "0  [[BIOTIN, Ox-Thioredoxin, WATER], [CPD-8928], ...   \n",
       "1  [[CPD-722, Red-Thioredoxin], [CPD-8922, OXYGEN...   \n",
       "2  [[CPD-19443, Donor-H2], [3-oxo-C86-cis-keto-my...   \n",
       "3  [[CPD-19423, Acceptor], [C86-cis-keto-mycolate...   \n",
       "4  [[CPD-1242, NADPH, PROTON], [CPD-14806, NADPH,...   \n",
       "\n",
       "                                               GIBBS  DIRECTION  \\\n",
       "0  [4.5452347, -50.319992, 'No-Data', 'No-Data', ...          1   \n",
       "1  [4.5452347, -50.319992, 'No-Data', 'No-Data', ...         -1   \n",
       "2  ['No-Data', 'No-Data', 'No-Data', 'No-Data', '...          1   \n",
       "3  ['No-Data', 'No-Data', 'No-Data', 'No-Data', '...         -1   \n",
       "4  [-1.6264648000000002, -0.1665039, 'No-Data', 2...          1   \n",
       "\n",
       "                                                SUBS  \\\n",
       "0  [CPD-722, Red-Thioredoxin, CPD-8922, OXYGEN-MO...   \n",
       "1  [BIOTIN, Ox-Thioredoxin, WATER, CPD-8928, CPD-...   \n",
       "2  [CPD-19423, Acceptor, C86-cis-keto-mycolate-pk...   \n",
       "3  [CPD-19443, Donor-H2, 3-oxo-C86-cis-keto-mycol...   \n",
       "4  [D-galactopyranose, NADP, CPD-14807, NADP, CPD...   \n",
       "\n",
       "                                                PDTS  \n",
       "0  [BIOTIN, Ox-Thioredoxin, WATER, CPD-8928, CPD-...  \n",
       "1  [CPD-722, Red-Thioredoxin, CPD-8922, OXYGEN-MO...  \n",
       "2  [CPD-19443, Donor-H2, 3-oxo-C86-cis-keto-mycol...  \n",
       "3  [CPD-19423, Acceptor, C86-cis-keto-mycolate-pk...  \n",
       "4  [CPD-1242, NADPH, PROTON, CPD-14806, NADPH, PR...  "
      ]
     },
     "execution_count": 19,
     "metadata": {},
     "output_type": "execute_result"
    }
   ],
   "source": [
    "master.head()"
   ]
  },
  {
   "cell_type": "code",
   "execution_count": 21,
   "metadata": {},
   "outputs": [],
   "source": [
    "small = master.iloc[:5,:]"
   ]
  },
  {
   "cell_type": "code",
   "execution_count": 22,
   "metadata": {},
   "outputs": [],
   "source": [
    "def rm_cofactor_only_cpd(df,prod_columnname,sub_columnname,cofactor_list):\n",
    "    cleaned_product_column = []\n",
    "    cleaned_substrate_column = []\n",
    "    for index,row in df.iterrows():\n",
    "        prod_compound_list =[]\n",
    "        sub_compound_list = []\n",
    "        for compound in row[prod_columnname]:\n",
    "            if compound not in cofactor_list:\n",
    "                prod_compound_list.append(compound)\n",
    "            else:\n",
    "                pass\n",
    "        \n",
    "        for comp in row[sub_columnname]:\n",
    "            if comp not in cofactor_list:\n",
    "                sub_compound_list.append(comp)\n",
    "            else:\n",
    "                pass\n",
    "        if len(prod_compound_list)==0:\n",
    "            cleaned_product_column.append('NA')\n",
    "        else: \n",
    "            cleaned_product_column.append(prod_compound_list)\n",
    "        if len(sub_compound_list)==0:\n",
    "            cleaned_substrate_column.append('NA')\n",
    "        else: \n",
    "            cleaned_substrate_column.append(sub_compound_list)\n",
    "    newdf = df.drop(['PRODUCTS', 'SUBSTRATES'], axis=1)\n",
    "    newdf['SUBSTRATES'] = cleaned_substrate_column\n",
    "    newdf['PRODUCTS'] = cleaned_product_column\n",
    "\n",
    "    return newdf"
   ]
  },
  {
   "cell_type": "code",
   "execution_count": 23,
   "metadata": {},
   "outputs": [],
   "source": [
    "cofactor_list = ['WATER',\n",
    " 'ATP',\n",
    " 'NAD',\n",
    " 'NADH',\n",
    " 'NADPH',\n",
    " 'NADP',\n",
    " 'OXYGEN-MOLECULE',\n",
    " 'ADP',\n",
    " 'PROTON',\n",
    " 'CARBON-MONOXIDE',\n",
    " 'CARBON-DIOXIDE',\n",
    " 'CO2',\n",
    " 'Carbon dioxide',\n",
    " 'FMN',\n",
    " 'FAD',\n",
    " 'FMNH',\n",
    " 'FADH',\n",
    " 'FMNH2',\n",
    " 'FADH2',\n",
    " 'PYRIDOXAL_PHOSPHATE',\n",
    " 'RIBOFLAVIN',\n",
    " 'AMP']"
   ]
  },
  {
   "cell_type": "code",
   "execution_count": 24,
   "metadata": {},
   "outputs": [],
   "source": [
    "cleaned_df_productinList = rm_cofactor_only_cpd(small,'PDTS','SUBS',cofactor_list)"
   ]
  },
  {
   "cell_type": "code",
   "execution_count": 26,
   "metadata": {
    "scrolled": true
   },
   "outputs": [
    {
     "data": {
      "text/html": [
       "<div>\n",
       "<style scoped>\n",
       "    .dataframe tbody tr th:only-of-type {\n",
       "        vertical-align: middle;\n",
       "    }\n",
       "\n",
       "    .dataframe tbody tr th {\n",
       "        vertical-align: top;\n",
       "    }\n",
       "\n",
       "    .dataframe thead th {\n",
       "        text-align: right;\n",
       "    }\n",
       "</style>\n",
       "<table border=\"1\" class=\"dataframe\">\n",
       "  <thead>\n",
       "    <tr style=\"text-align: right;\">\n",
       "      <th></th>\n",
       "      <th>Unnamed: 0</th>\n",
       "      <th>EC-NUMBER</th>\n",
       "      <th>GIBBS</th>\n",
       "      <th>DIRECTION</th>\n",
       "      <th>SUBS</th>\n",
       "      <th>PDTS</th>\n",
       "      <th>SUBSTRATES</th>\n",
       "      <th>PRODUCTS</th>\n",
       "    </tr>\n",
       "  </thead>\n",
       "  <tbody>\n",
       "    <tr>\n",
       "      <th>0</th>\n",
       "      <td>0</td>\n",
       "      <td>EC-1</td>\n",
       "      <td>[4.5452347, -50.319992, 'No-Data', 'No-Data', ...</td>\n",
       "      <td>1</td>\n",
       "      <td>[CPD-722, Red-Thioredoxin, CPD-8922, OXYGEN-MO...</td>\n",
       "      <td>[BIOTIN, Ox-Thioredoxin, WATER, CPD-8928, CPD-...</td>\n",
       "      <td>[CPD-722, Red-Thioredoxin, CPD-8922, CPD-8922,...</td>\n",
       "      <td>[BIOTIN, Ox-Thioredoxin, CPD-8928, CPD-14837, ...</td>\n",
       "    </tr>\n",
       "    <tr>\n",
       "      <th>1</th>\n",
       "      <td>1</td>\n",
       "      <td>EC-1</td>\n",
       "      <td>[4.5452347, -50.319992, 'No-Data', 'No-Data', ...</td>\n",
       "      <td>-1</td>\n",
       "      <td>[BIOTIN, Ox-Thioredoxin, WATER, CPD-8928, CPD-...</td>\n",
       "      <td>[CPD-722, Red-Thioredoxin, CPD-8922, OXYGEN-MO...</td>\n",
       "      <td>[BIOTIN, Ox-Thioredoxin, CPD-8928, CPD-14837, ...</td>\n",
       "      <td>[CPD-722, Red-Thioredoxin, CPD-8922, CPD-8922,...</td>\n",
       "    </tr>\n",
       "    <tr>\n",
       "      <th>2</th>\n",
       "      <td>2</td>\n",
       "      <td>EC-1.1</td>\n",
       "      <td>['No-Data', 'No-Data', 'No-Data', 'No-Data', '...</td>\n",
       "      <td>1</td>\n",
       "      <td>[CPD-19423, Acceptor, C86-cis-keto-mycolate-pk...</td>\n",
       "      <td>[CPD-19443, Donor-H2, 3-oxo-C86-cis-keto-mycol...</td>\n",
       "      <td>[CPD-19423, Acceptor, C86-cis-keto-mycolate-pk...</td>\n",
       "      <td>[CPD-19443, Donor-H2, 3-oxo-C86-cis-keto-mycol...</td>\n",
       "    </tr>\n",
       "    <tr>\n",
       "      <th>3</th>\n",
       "      <td>3</td>\n",
       "      <td>EC-1.1</td>\n",
       "      <td>['No-Data', 'No-Data', 'No-Data', 'No-Data', '...</td>\n",
       "      <td>-1</td>\n",
       "      <td>[CPD-19443, Donor-H2, 3-oxo-C86-cis-keto-mycol...</td>\n",
       "      <td>[CPD-19423, Acceptor, C86-cis-keto-mycolate-pk...</td>\n",
       "      <td>[CPD-19443, Donor-H2, 3-oxo-C86-cis-keto-mycol...</td>\n",
       "      <td>[CPD-19423, Acceptor, C86-cis-keto-mycolate-pk...</td>\n",
       "    </tr>\n",
       "    <tr>\n",
       "      <th>4</th>\n",
       "      <td>4</td>\n",
       "      <td>EC-1.1.1</td>\n",
       "      <td>[-1.6264648000000002, -0.1665039, 'No-Data', 2...</td>\n",
       "      <td>1</td>\n",
       "      <td>[D-galactopyranose, NADP, CPD-14807, NADP, CPD...</td>\n",
       "      <td>[CPD-1242, NADPH, PROTON, CPD-14806, NADPH, PR...</td>\n",
       "      <td>[D-galactopyranose, CPD-14807, CPD-9667, Donor...</td>\n",
       "      <td>[CPD-1242, CPD-14806, CPD-18794, Acceptor, CPD...</td>\n",
       "    </tr>\n",
       "  </tbody>\n",
       "</table>\n",
       "</div>"
      ],
      "text/plain": [
       "   Unnamed: 0 EC-NUMBER                                              GIBBS  \\\n",
       "0           0      EC-1  [4.5452347, -50.319992, 'No-Data', 'No-Data', ...   \n",
       "1           1      EC-1  [4.5452347, -50.319992, 'No-Data', 'No-Data', ...   \n",
       "2           2    EC-1.1  ['No-Data', 'No-Data', 'No-Data', 'No-Data', '...   \n",
       "3           3    EC-1.1  ['No-Data', 'No-Data', 'No-Data', 'No-Data', '...   \n",
       "4           4  EC-1.1.1  [-1.6264648000000002, -0.1665039, 'No-Data', 2...   \n",
       "\n",
       "   DIRECTION                                               SUBS  \\\n",
       "0          1  [CPD-722, Red-Thioredoxin, CPD-8922, OXYGEN-MO...   \n",
       "1         -1  [BIOTIN, Ox-Thioredoxin, WATER, CPD-8928, CPD-...   \n",
       "2          1  [CPD-19423, Acceptor, C86-cis-keto-mycolate-pk...   \n",
       "3         -1  [CPD-19443, Donor-H2, 3-oxo-C86-cis-keto-mycol...   \n",
       "4          1  [D-galactopyranose, NADP, CPD-14807, NADP, CPD...   \n",
       "\n",
       "                                                PDTS  \\\n",
       "0  [BIOTIN, Ox-Thioredoxin, WATER, CPD-8928, CPD-...   \n",
       "1  [CPD-722, Red-Thioredoxin, CPD-8922, OXYGEN-MO...   \n",
       "2  [CPD-19443, Donor-H2, 3-oxo-C86-cis-keto-mycol...   \n",
       "3  [CPD-19423, Acceptor, C86-cis-keto-mycolate-pk...   \n",
       "4  [CPD-1242, NADPH, PROTON, CPD-14806, NADPH, PR...   \n",
       "\n",
       "                                          SUBSTRATES  \\\n",
       "0  [CPD-722, Red-Thioredoxin, CPD-8922, CPD-8922,...   \n",
       "1  [BIOTIN, Ox-Thioredoxin, CPD-8928, CPD-14837, ...   \n",
       "2  [CPD-19423, Acceptor, C86-cis-keto-mycolate-pk...   \n",
       "3  [CPD-19443, Donor-H2, 3-oxo-C86-cis-keto-mycol...   \n",
       "4  [D-galactopyranose, CPD-14807, CPD-9667, Donor...   \n",
       "\n",
       "                                            PRODUCTS  \n",
       "0  [BIOTIN, Ox-Thioredoxin, CPD-8928, CPD-14837, ...  \n",
       "1  [CPD-722, Red-Thioredoxin, CPD-8922, CPD-8922,...  \n",
       "2  [CPD-19443, Donor-H2, 3-oxo-C86-cis-keto-mycol...  \n",
       "3  [CPD-19423, Acceptor, C86-cis-keto-mycolate-pk...  \n",
       "4  [CPD-1242, CPD-14806, CPD-18794, Acceptor, CPD...  "
      ]
     },
     "execution_count": 26,
     "metadata": {},
     "output_type": "execute_result"
    }
   ],
   "source": [
    "cleaned_df_productinList.iloc[1,7]\n",
    "cleaned_df_productinList.head()"
   ]
  },
  {
   "cell_type": "code",
   "execution_count": 46,
   "metadata": {},
   "outputs": [
    {
     "data": {
      "text/html": [
       "<div>\n",
       "<style scoped>\n",
       "    .dataframe tbody tr th:only-of-type {\n",
       "        vertical-align: middle;\n",
       "    }\n",
       "\n",
       "    .dataframe tbody tr th {\n",
       "        vertical-align: top;\n",
       "    }\n",
       "\n",
       "    .dataframe thead th {\n",
       "        text-align: right;\n",
       "    }\n",
       "</style>\n",
       "<table border=\"1\" class=\"dataframe\">\n",
       "  <thead>\n",
       "    <tr style=\"text-align: right;\">\n",
       "      <th></th>\n",
       "      <th>COMMON-NAME</th>\n",
       "      <th>GIBBS-0</th>\n",
       "      <th>INCHI</th>\n",
       "      <th>SMILES</th>\n",
       "      <th>PubChemID</th>\n",
       "    </tr>\n",
       "    <tr>\n",
       "      <th>UNIQUE-ID</th>\n",
       "      <th></th>\n",
       "      <th></th>\n",
       "      <th></th>\n",
       "      <th></th>\n",
       "      <th></th>\n",
       "    </tr>\n",
       "  </thead>\n",
       "  <tbody>\n",
       "    <tr>\n",
       "      <th>CPD-14966</th>\n",
       "      <td>(2Z,4Z)-2-hydroxy-5-carboxymuconate-6-semialde...</td>\n",
       "      <td>-150.733760</td>\n",
       "      <td>InChI=1S/C7H6O6/c8-3-4(6(10)11)1-2-5(9)7(12)13...</td>\n",
       "      <td>[CH](=O)C(C(=O)[O-])=CC=C(O)C([O-])=O</td>\n",
       "      <td>90657979</td>\n",
       "    </tr>\n",
       "    <tr>\n",
       "      <th>CPD-14905</th>\n",
       "      <td>4&amp;alpha;,14&amp;alpha;-dimethyl-porifersta-8,25(27...</td>\n",
       "      <td>568.928300</td>\n",
       "      <td>InChI=1S/C31H52O/c1-9-23(20(2)3)11-10-21(4)24-...</td>\n",
       "      <td>CCC(C(C)=C)CCC(C)[CH]3(CCC4(C)(C2(CC[CH]1(C(C)...</td>\n",
       "      <td>102515047</td>\n",
       "    </tr>\n",
       "    <tr>\n",
       "      <th>CPD-14658</th>\n",
       "      <td>(+)-orobanchyl acetate</td>\n",
       "      <td>90.736885</td>\n",
       "      <td>InChI=1S/C21H24O7/c1-10-8-14(27-19(10)23)25-9-...</td>\n",
       "      <td>CC1(C(=O)OC(C=1)OC=C2(C(=O)O[CH]3([CH]2C(OC(C)...</td>\n",
       "      <td>24796587</td>\n",
       "    </tr>\n",
       "    <tr>\n",
       "      <th>CPD-14885</th>\n",
       "      <td>3-aminobenzoate</td>\n",
       "      <td>12.324662</td>\n",
       "      <td>InChI=1S/C7H7NO2/c8-6-3-1-2-5(4-6)7(9)10/h1-4H...</td>\n",
       "      <td>C(=O)([O-])C1(C=C(N)C=CC=1)</td>\n",
       "      <td>3014145</td>\n",
       "    </tr>\n",
       "    <tr>\n",
       "      <th>CPD-14884</th>\n",
       "      <td>3-amino-4-hydroxybenzenesulfonate</td>\n",
       "      <td>-40.905334</td>\n",
       "      <td>InChI=1S/C6H7NO4S/c7-5-3-4(12(9,10)11)1-2-6(5)...</td>\n",
       "      <td>C1(C(S(=O)([O-])=O)=CC(N)=C(O)C=1)</td>\n",
       "      <td>4146016</td>\n",
       "    </tr>\n",
       "    <tr>\n",
       "      <th>CPD-14655</th>\n",
       "      <td>(+)-strigol</td>\n",
       "      <td>107.644646</td>\n",
       "      <td>InChI=1S/C19H22O6/c1-9-6-14(24-17(9)21)23-8-12...</td>\n",
       "      <td>CC1(C(=O)OC(C=1)OC=C2(C(=O)O[CH]3([CH]2CC4(=C3...</td>\n",
       "      <td>5281396</td>\n",
       "    </tr>\n",
       "    <tr>\n",
       "      <th>CPD-14879</th>\n",
       "      <td>2-aminophenoxazin-3-one-8-aldehyde</td>\n",
       "      <td>53.808968</td>\n",
       "      <td>InChI=1S/C13H8N2O3/c14-8-4-10-13(5-11(8)17)18-...</td>\n",
       "      <td>C(=O)C3(=CC=C2(OC1(=CC(=O)C(N)=CC1=NC2=C3)))</td>\n",
       "      <td>46245309</td>\n",
       "    </tr>\n",
       "    <tr>\n",
       "      <th>CPD-14872</th>\n",
       "      <td>2-amino-4,5-dihydroxy-6-oxo-7-(phosphooxy)hept...</td>\n",
       "      <td>-314.264770</td>\n",
       "      <td>InChI=1S/C7H14NO9P/c8-3(7(12)13)1-4(9)6(11)5(1...</td>\n",
       "      <td>C(OP([O-])(=O)[O-])C(=O)C(O)C(O)CC([N+])C(=O)[O-]</td>\n",
       "      <td>46878474</td>\n",
       "    </tr>\n",
       "    <tr>\n",
       "      <th>CPD-14811</th>\n",
       "      <td>piperazate</td>\n",
       "      <td>35.768032</td>\n",
       "      <td>InChI=1S/C5H10N2O2/c8-5(9)4-2-1-3-6-7-4/h4,6-7...</td>\n",
       "      <td>C([O-])(=O)C1(NNCCC1)</td>\n",
       "      <td>20229138</td>\n",
       "    </tr>\n",
       "    <tr>\n",
       "      <th>CPD-14810</th>\n",
       "      <td>4-methylcyclohex-1,5-diene-1-carbonyl-CoA</td>\n",
       "      <td>-413.387150</td>\n",
       "      <td>InChI=1S/C29H44N7O17P3S/c1-16-4-6-17(7-5-16)28...</td>\n",
       "      <td>CC4(C=CC(C(SCCNC(=O)CCNC(=O)C(O)C(C)(C)COP(=O)...</td>\n",
       "      <td>90658598</td>\n",
       "    </tr>\n",
       "    <tr>\n",
       "      <th>CPD-14792</th>\n",
       "      <td>isoshowacene</td>\n",
       "      <td>692.158260</td>\n",
       "      <td>InChI=1S/C31H52/c1-11-31(10,23-14-19-28(7)20-2...</td>\n",
       "      <td>C=CC(C)(C=CC(C)CCC=C(C)CCC=C(C)C)CCC=C(C)CCC(C...</td>\n",
       "      <td>90657773</td>\n",
       "    </tr>\n",
       "    <tr>\n",
       "      <th>CPD-14769</th>\n",
       "      <td>5,8,11,14-icosatetraynoate</td>\n",
       "      <td>498.173680</td>\n",
       "      <td>InChI=1S/C20H24O2/c1-2-3-4-5-6-7-8-9-10-11-12-...</td>\n",
       "      <td>CCCCCC#CCC#CCC#CCC#CCCCC(=O)[O-]</td>\n",
       "      <td>18544330</td>\n",
       "    </tr>\n",
       "    <tr>\n",
       "      <th>CPD-14766</th>\n",
       "      <td>2-hydroxyhexadecanal</td>\n",
       "      <td>279.265870</td>\n",
       "      <td>InChI=1S/C16H32O2/c1-2-3-4-5-6-7-8-9-10-11-12-...</td>\n",
       "      <td>CCCCCCCCCCCCCCC(O)[CH]=O</td>\n",
       "      <td>18987871</td>\n",
       "    </tr>\n",
       "    <tr>\n",
       "      <th>CPD-14765</th>\n",
       "      <td>16-sinapoyloxypalmitate</td>\n",
       "      <td>248.393890</td>\n",
       "      <td>InChI=1S/C27H42O7/c1-32-23-20-22(21-24(33-2)27...</td>\n",
       "      <td>COC1(C(O)=C(OC)C=C(C=1)C=CC(=O)OCCCCCCCCCCCCCC...</td>\n",
       "      <td>90657145</td>\n",
       "    </tr>\n",
       "    <tr>\n",
       "      <th>CPD-14743</th>\n",
       "      <td>3-methylquinolin-2-ol</td>\n",
       "      <td>88.011100</td>\n",
       "      <td>InChI=1S/C10H9NO/c1-7-6-8-4-2-3-5-9(8)11-10(7)...</td>\n",
       "      <td>CC1(=CC2(C(N=C1O)=CC=CC=2))</td>\n",
       "      <td>0</td>\n",
       "    </tr>\n",
       "  </tbody>\n",
       "</table>\n",
       "</div>"
      ],
      "text/plain": [
       "                                                 COMMON-NAME     GIBBS-0  \\\n",
       "UNIQUE-ID                                                                  \n",
       "CPD-14966  (2Z,4Z)-2-hydroxy-5-carboxymuconate-6-semialde... -150.733760   \n",
       "CPD-14905  4&alpha;,14&alpha;-dimethyl-porifersta-8,25(27...  568.928300   \n",
       "CPD-14658                             (+)-orobanchyl acetate   90.736885   \n",
       "CPD-14885                                    3-aminobenzoate   12.324662   \n",
       "CPD-14884                  3-amino-4-hydroxybenzenesulfonate  -40.905334   \n",
       "CPD-14655                                        (+)-strigol  107.644646   \n",
       "CPD-14879                 2-aminophenoxazin-3-one-8-aldehyde   53.808968   \n",
       "CPD-14872  2-amino-4,5-dihydroxy-6-oxo-7-(phosphooxy)hept... -314.264770   \n",
       "CPD-14811                                         piperazate   35.768032   \n",
       "CPD-14810          4-methylcyclohex-1,5-diene-1-carbonyl-CoA -413.387150   \n",
       "CPD-14792                                       isoshowacene  692.158260   \n",
       "CPD-14769                         5,8,11,14-icosatetraynoate  498.173680   \n",
       "CPD-14766                               2-hydroxyhexadecanal  279.265870   \n",
       "CPD-14765                            16-sinapoyloxypalmitate  248.393890   \n",
       "CPD-14743                              3-methylquinolin-2-ol   88.011100   \n",
       "\n",
       "                                                       INCHI  \\\n",
       "UNIQUE-ID                                                      \n",
       "CPD-14966  InChI=1S/C7H6O6/c8-3-4(6(10)11)1-2-5(9)7(12)13...   \n",
       "CPD-14905  InChI=1S/C31H52O/c1-9-23(20(2)3)11-10-21(4)24-...   \n",
       "CPD-14658  InChI=1S/C21H24O7/c1-10-8-14(27-19(10)23)25-9-...   \n",
       "CPD-14885  InChI=1S/C7H7NO2/c8-6-3-1-2-5(4-6)7(9)10/h1-4H...   \n",
       "CPD-14884  InChI=1S/C6H7NO4S/c7-5-3-4(12(9,10)11)1-2-6(5)...   \n",
       "CPD-14655  InChI=1S/C19H22O6/c1-9-6-14(24-17(9)21)23-8-12...   \n",
       "CPD-14879  InChI=1S/C13H8N2O3/c14-8-4-10-13(5-11(8)17)18-...   \n",
       "CPD-14872  InChI=1S/C7H14NO9P/c8-3(7(12)13)1-4(9)6(11)5(1...   \n",
       "CPD-14811  InChI=1S/C5H10N2O2/c8-5(9)4-2-1-3-6-7-4/h4,6-7...   \n",
       "CPD-14810  InChI=1S/C29H44N7O17P3S/c1-16-4-6-17(7-5-16)28...   \n",
       "CPD-14792  InChI=1S/C31H52/c1-11-31(10,23-14-19-28(7)20-2...   \n",
       "CPD-14769  InChI=1S/C20H24O2/c1-2-3-4-5-6-7-8-9-10-11-12-...   \n",
       "CPD-14766  InChI=1S/C16H32O2/c1-2-3-4-5-6-7-8-9-10-11-12-...   \n",
       "CPD-14765  InChI=1S/C27H42O7/c1-32-23-20-22(21-24(33-2)27...   \n",
       "CPD-14743  InChI=1S/C10H9NO/c1-7-6-8-4-2-3-5-9(8)11-10(7)...   \n",
       "\n",
       "                                                      SMILES  PubChemID  \n",
       "UNIQUE-ID                                                                \n",
       "CPD-14966              [CH](=O)C(C(=O)[O-])=CC=C(O)C([O-])=O   90657979  \n",
       "CPD-14905  CCC(C(C)=C)CCC(C)[CH]3(CCC4(C)(C2(CC[CH]1(C(C)...  102515047  \n",
       "CPD-14658  CC1(C(=O)OC(C=1)OC=C2(C(=O)O[CH]3([CH]2C(OC(C)...   24796587  \n",
       "CPD-14885                        C(=O)([O-])C1(C=C(N)C=CC=1)    3014145  \n",
       "CPD-14884                 C1(C(S(=O)([O-])=O)=CC(N)=C(O)C=1)    4146016  \n",
       "CPD-14655  CC1(C(=O)OC(C=1)OC=C2(C(=O)O[CH]3([CH]2CC4(=C3...    5281396  \n",
       "CPD-14879       C(=O)C3(=CC=C2(OC1(=CC(=O)C(N)=CC1=NC2=C3)))   46245309  \n",
       "CPD-14872  C(OP([O-])(=O)[O-])C(=O)C(O)C(O)CC([N+])C(=O)[O-]   46878474  \n",
       "CPD-14811                              C([O-])(=O)C1(NNCCC1)   20229138  \n",
       "CPD-14810  CC4(C=CC(C(SCCNC(=O)CCNC(=O)C(O)C(C)(C)COP(=O)...   90658598  \n",
       "CPD-14792  C=CC(C)(C=CC(C)CCC=C(C)CCC=C(C)C)CCC=C(C)CCC(C...   90657773  \n",
       "CPD-14769                   CCCCCC#CCC#CCC#CCC#CCCCC(=O)[O-]   18544330  \n",
       "CPD-14766                           CCCCCCCCCCCCCCC(O)[CH]=O   18987871  \n",
       "CPD-14765  COC1(C(O)=C(OC)C=C(C=1)C=CC(=O)OCCCCCCCCCCCCCC...   90657145  \n",
       "CPD-14743                        CC1(=CC2(C(N=C1O)=CC=CC=2))          0  "
      ]
     },
     "execution_count": 46,
     "metadata": {},
     "output_type": "execute_result"
    }
   ],
   "source": [
    "df_cpd.head(15)"
   ]
  },
  {
   "cell_type": "code",
   "execution_count": 55,
   "metadata": {},
   "outputs": [
    {
     "data": {
      "text/plain": [
       "numpy.int32"
      ]
     },
     "execution_count": 55,
     "metadata": {},
     "output_type": "execute_result"
    }
   ],
   "source": [
    "type(df_cpd.iloc[14,4])"
   ]
  },
  {
   "cell_type": "code",
   "execution_count": 30,
   "metadata": {},
   "outputs": [],
   "source": [
    "import pubchempy as pcp"
   ]
  },
  {
   "cell_type": "code",
   "execution_count": 69,
   "metadata": {},
   "outputs": [],
   "source": [
    "def retrieve_pubchem(df, colname, master_df):\n",
    "    \"\"\"This function takes a df containing PubChemIDs, the name of the corresponding ID column, and a master df and returns a master df with a column of PubChemIDs\n",
    "    This function can augment missing PubChemIDs by using Pubchempy to turn SMILES into an ID.\n",
    "    \n",
    "    Args:\n",
    "        df: dataframe that contains compound information, including a column of SMILES\n",
    "        colname: columne in df that contains PubChemIDs\n",
    "        master_df: dataframe that IDs should be added to\n",
    "        \n",
    "    Returns:\n",
    "        master_df: with the addition of a column of PubChemIDs\n",
    "        \n",
    "    \"\"\"\n",
    "    \n",
    "    \n",
    "    listed = df[colname].values.tolist()\n",
    "    newlist = []\n",
    "    counter = 0\n",
    "    for index, row in df.iterrows():\n",
    "        ID = row[colname]\n",
    "        if ID in listed and ID != 0:\n",
    "            newlist.append(ID)\n",
    "        elif ID in listed and ID == 0:\n",
    "            try:\n",
    "                sml = str(row['SMILES'])\n",
    "                pub = pcp.get_compounds(sml, 'smiles')\n",
    "                newlist.append(pub)\n",
    "            except: \n",
    "                continue\n",
    "            counter += 1\n",
    "        else:\n",
    "            newlist.append(0)\n",
    "    #master_df[colname] = newlist\n",
    "    return counter, newlist"
   ]
  },
  {
   "cell_type": "code",
   "execution_count": null,
   "metadata": {},
   "outputs": [],
   "source": [
    "retrieve_pubchem(df_cpd, 'PubChemID', master)"
   ]
  },
  {
   "cell_type": "code",
   "execution_count": 119,
   "metadata": {},
   "outputs": [],
   "source": [
    "def get_pubchem(ID):\n",
    "    \n",
    "    \"\"\"This function accept UNIQUE-ID and return InChI string of a certain compound\"\"\"\n",
    "    if ID in df_cpd['PubChemID']:\n",
    "        pubchem = df_cpd['PubChemID'][ID]\n",
    "    else:\n",
    "        pubchem = '0'\n",
    "        \n",
    "    return pubchem"
   ]
  },
  {
   "cell_type": "code",
   "execution_count": 117,
   "metadata": {},
   "outputs": [],
   "source": [
    "def get_pubchem(df,colname):\n",
    "    \n",
    "    \"\"\"This function accept UNIQUE-ID and return InChI string of a certain compound\"\"\"\n",
    "    listed = df[colname].values.tolist()\n",
    "    newlist = []\n",
    "    for index, row in df.iterrows():\n",
    "        ID = row[colname]\n",
    "        if ID in df_cpd['PubChemID']:\n",
    "            newlist.append(df_cpd['PubChemID'][ID])\n",
    "        else:\n",
    "            newlist.append('0')\n",
    "    df['new'+colname] = newlist  \n",
    "    return df"
   ]
  },
  {
   "cell_type": "code",
   "execution_count": 118,
   "metadata": {},
   "outputs": [
    {
     "ename": "TypeError",
     "evalue": "unhashable type: 'list'",
     "output_type": "error",
     "traceback": [
      "\u001b[1;31m---------------------------------------------------------------------------\u001b[0m",
      "\u001b[1;31mTypeError\u001b[0m                                 Traceback (most recent call last)",
      "\u001b[1;32m<ipython-input-118-cf7c2aaf9a0a>\u001b[0m in \u001b[0;36m<module>\u001b[1;34m\u001b[0m\n\u001b[1;32m----> 1\u001b[1;33m \u001b[0mget_pubchem\u001b[0m\u001b[1;33m(\u001b[0m\u001b[0mmaster\u001b[0m\u001b[1;33m,\u001b[0m\u001b[1;34m'PRODUCTS'\u001b[0m\u001b[1;33m)\u001b[0m\u001b[1;33m\u001b[0m\u001b[0m\n\u001b[0m",
      "\u001b[1;32m<ipython-input-117-974600591f73>\u001b[0m in \u001b[0;36mget_pubchem\u001b[1;34m(df, colname)\u001b[0m\n\u001b[0;32m      6\u001b[0m     \u001b[1;32mfor\u001b[0m \u001b[0mindex\u001b[0m\u001b[1;33m,\u001b[0m \u001b[0mrow\u001b[0m \u001b[1;32min\u001b[0m \u001b[0mdf\u001b[0m\u001b[1;33m.\u001b[0m\u001b[0miterrows\u001b[0m\u001b[1;33m(\u001b[0m\u001b[1;33m)\u001b[0m\u001b[1;33m:\u001b[0m\u001b[1;33m\u001b[0m\u001b[0m\n\u001b[0;32m      7\u001b[0m         \u001b[0mID\u001b[0m \u001b[1;33m=\u001b[0m \u001b[0mrow\u001b[0m\u001b[1;33m[\u001b[0m\u001b[0mcolname\u001b[0m\u001b[1;33m]\u001b[0m\u001b[1;33m\u001b[0m\u001b[0m\n\u001b[1;32m----> 8\u001b[1;33m         \u001b[1;32mif\u001b[0m \u001b[0mID\u001b[0m \u001b[1;32min\u001b[0m \u001b[0mdf_cpd\u001b[0m\u001b[1;33m[\u001b[0m\u001b[1;34m'PubChemID'\u001b[0m\u001b[1;33m]\u001b[0m\u001b[1;33m:\u001b[0m\u001b[1;33m\u001b[0m\u001b[0m\n\u001b[0m\u001b[0;32m      9\u001b[0m             \u001b[0mnewlist\u001b[0m\u001b[1;33m.\u001b[0m\u001b[0mappend\u001b[0m\u001b[1;33m(\u001b[0m\u001b[0mdf_cpd\u001b[0m\u001b[1;33m[\u001b[0m\u001b[1;34m'PubChemID'\u001b[0m\u001b[1;33m]\u001b[0m\u001b[1;33m[\u001b[0m\u001b[0mID\u001b[0m\u001b[1;33m]\u001b[0m\u001b[1;33m)\u001b[0m\u001b[1;33m\u001b[0m\u001b[0m\n\u001b[0;32m     10\u001b[0m         \u001b[1;32melse\u001b[0m\u001b[1;33m:\u001b[0m\u001b[1;33m\u001b[0m\u001b[0m\n",
      "\u001b[1;32m~\\Miniconda3\\lib\\site-packages\\pandas\\core\\generic.py\u001b[0m in \u001b[0;36m__contains__\u001b[1;34m(self, key)\u001b[0m\n\u001b[0;32m   1844\u001b[0m     \u001b[1;32mdef\u001b[0m \u001b[0m__contains__\u001b[0m\u001b[1;33m(\u001b[0m\u001b[0mself\u001b[0m\u001b[1;33m,\u001b[0m \u001b[0mkey\u001b[0m\u001b[1;33m)\u001b[0m\u001b[1;33m:\u001b[0m\u001b[1;33m\u001b[0m\u001b[0m\n\u001b[0;32m   1845\u001b[0m         \u001b[1;34m\"\"\"True if the key is in the info axis\"\"\"\u001b[0m\u001b[1;33m\u001b[0m\u001b[0m\n\u001b[1;32m-> 1846\u001b[1;33m         \u001b[1;32mreturn\u001b[0m \u001b[0mkey\u001b[0m \u001b[1;32min\u001b[0m \u001b[0mself\u001b[0m\u001b[1;33m.\u001b[0m\u001b[0m_info_axis\u001b[0m\u001b[1;33m\u001b[0m\u001b[0m\n\u001b[0m\u001b[0;32m   1847\u001b[0m \u001b[1;33m\u001b[0m\u001b[0m\n\u001b[0;32m   1848\u001b[0m     \u001b[1;33m@\u001b[0m\u001b[0mproperty\u001b[0m\u001b[1;33m\u001b[0m\u001b[0m\n",
      "\u001b[1;32m~\\Miniconda3\\lib\\site-packages\\pandas\\core\\indexes\\base.py\u001b[0m in \u001b[0;36m__contains__\u001b[1;34m(self, key)\u001b[0m\n\u001b[0;32m   3918\u001b[0m     \u001b[1;33m@\u001b[0m\u001b[0mAppender\u001b[0m\u001b[1;33m(\u001b[0m\u001b[0m_index_shared_docs\u001b[0m\u001b[1;33m[\u001b[0m\u001b[1;34m'contains'\u001b[0m\u001b[1;33m]\u001b[0m \u001b[1;33m%\u001b[0m \u001b[0m_index_doc_kwargs\u001b[0m\u001b[1;33m)\u001b[0m\u001b[1;33m\u001b[0m\u001b[0m\n\u001b[0;32m   3919\u001b[0m     \u001b[1;32mdef\u001b[0m \u001b[0m__contains__\u001b[0m\u001b[1;33m(\u001b[0m\u001b[0mself\u001b[0m\u001b[1;33m,\u001b[0m \u001b[0mkey\u001b[0m\u001b[1;33m)\u001b[0m\u001b[1;33m:\u001b[0m\u001b[1;33m\u001b[0m\u001b[0m\n\u001b[1;32m-> 3920\u001b[1;33m         \u001b[0mhash\u001b[0m\u001b[1;33m(\u001b[0m\u001b[0mkey\u001b[0m\u001b[1;33m)\u001b[0m\u001b[1;33m\u001b[0m\u001b[0m\n\u001b[0m\u001b[0;32m   3921\u001b[0m         \u001b[1;32mtry\u001b[0m\u001b[1;33m:\u001b[0m\u001b[1;33m\u001b[0m\u001b[0m\n\u001b[0;32m   3922\u001b[0m             \u001b[1;32mreturn\u001b[0m \u001b[0mkey\u001b[0m \u001b[1;32min\u001b[0m \u001b[0mself\u001b[0m\u001b[1;33m.\u001b[0m\u001b[0m_engine\u001b[0m\u001b[1;33m\u001b[0m\u001b[0m\n",
      "\u001b[1;31mTypeError\u001b[0m: unhashable type: 'list'"
     ]
    }
   ],
   "source": [
    "get_pubchem(master,'PRODUCTS')"
   ]
  },
  {
   "cell_type": "code",
   "execution_count": null,
   "metadata": {},
   "outputs": [],
   "source": []
  },
  {
   "cell_type": "code",
   "execution_count": null,
   "metadata": {},
   "outputs": [],
   "source": []
  },
  {
   "cell_type": "code",
   "execution_count": null,
   "metadata": {},
   "outputs": [],
   "source": []
  },
  {
   "cell_type": "code",
   "execution_count": 109,
   "metadata": {},
   "outputs": [
    {
     "data": {
      "text/plain": [
       "['CPD-722',\n",
       " 'Red-Thioredoxin',\n",
       " 'CPD-8922',\n",
       " 'OXYGEN-MOLECULE',\n",
       " 'CPD-8922',\n",
       " 'OXYGEN-MOLECULE',\n",
       " 'Donor-H2',\n",
       " 'Nitroaromatic-Ox-Compounds',\n",
       " 'NADPH',\n",
       " 'CPD-10257',\n",
       " 'OXYGEN-MOLECULE',\n",
       " 'Donor-H2',\n",
       " 'OXOPENTENOATE',\n",
       " 'Acceptor',\n",
       " 'CPD-14537',\n",
       " 'OXYGEN-MOLECULE',\n",
       " 'PROTON',\n",
       " 'Donor-H2',\n",
       " 'CPD-8927',\n",
       " 'OXYGEN-MOLECULE',\n",
       " 'SALICYLALDEHYDE',\n",
       " 'Donor-H2',\n",
       " 'CPD-8961',\n",
       " 'OXYGEN-MOLECULE',\n",
       " 'Donor-H2',\n",
       " 'COUMARATE']"
      ]
     },
     "execution_count": 109,
     "metadata": {},
     "output_type": "execute_result"
    }
   ],
   "source": [
    "cleaned_df_productinList.iloc[1,5]"
   ]
  },
  {
   "cell_type": "code",
   "execution_count": null,
   "metadata": {},
   "outputs": [],
   "source": [
    "# from metamoles.py\n",
    "def parse_reversible_reactions(reaction_list: list):\n",
    "    \"\"\"\n",
    "    parse_reversible_reactions() queries the KEGG database with the input\n",
    "        reaction list, and parses the results for all reactions that have been\n",
    "        annotated with \"<=>\" in the reaction equation, which suggests that the\n",
    "        catalyzed reaction is reversible\n",
    "\n",
    "    Args:\n",
    "        reaction_list (list): contains KEGG reaction IDs (e.g. 'R00709')\n",
    "\n",
    "    Returns:\n",
    "        list: contains KEGG IDs of reversible reactions\n",
    "    \"\"\"\n",
    "\n",
    "    reversible_reaction = []\n",
    "    for reaction in reaction_list:\n",
    "        reaction_file = REST.kegg_get(reaction).read()\n",
    "        for i in reaction_file.rstrip().split(\"\\n\"):\n",
    "            if i.startswith(\"EQUATION\") and \"<=>\" in i:\n",
    "                reversible_reaction.append(reaction)\n",
    "    return reversible_reaction\n",
    "\n",
    "def combine_substrates_products(df: pd.DataFrame):\n",
    "    \"\"\"\n",
    "    combine_substrates_products() is for use with a collection of enzymes\n",
    "        in which it is understood that they are capable of catalyzing both the\n",
    "        forward and reverser reactions. In this case, both the substrates and\n",
    "        the products should be considered as bioreachable products.\n",
    "        This function parses the list of substrates and products from their\n",
    "        respective fields in the input dataframe, and returns a new dataframe\n",
    "        with the combined substrates and products in a column labeled 'product'\n",
    "\n",
    "    WARNING: combine_substrates_products() should not be run multiple times on\n",
    "        the same dataframe becuase it will will append duplicate substrates\n",
    "\n",
    "    Args:\n",
    "        df (pandas.DataFrame): must contain fields\n",
    "            ['entry', 'substrate', 'product']\n",
    "\n",
    "    Returns:\n",
    "        pandas.DataFrame: contains only fields ['entry', 'product']\n",
    "    \"\"\"\n",
    "\n",
    "    rowindex = np.arange(0,len(df))\n",
    "    df_with_ordered_index = df.set_index(rowindex)\n",
    "\n",
    "    newdf = df_with_ordered_index\n",
    "    # should this be a .copy()?\n",
    "\n",
    "    for index,row in df_with_ordered_index.iterrows():\n",
    "        productlist = row['product']\n",
    "        substratelist = row['substrate']\n",
    "        newdf.iloc[index,2] = productlist + substratelist\n",
    "\n",
    "    return newdf[[\"entry\",\"product\"]]\n",
    "\n",
    "\n",
    "def explode_dataframe(dataframe: pd.DataFrame, explosion_function,\n",
    "                        explosion_target_field: str, fields_to_include: list):\n",
    "    \"\"\"\n",
    "    explode_dataframe() applies the input explosion_function to the target\n",
    "        field in each row of a dataframe. Each item in the output of the\n",
    "        explosion_function is an anchor for a new row in the new dataframe. All\n",
    "        of the supplied fields_to_include are added to the explosion item,\n",
    "        and appended to the new dataframe row.\n",
    "\n",
    "    Args:\n",
    "        dataframe (pandas.DataFrame): input dataset\n",
    "        explosion_function (function): function to be applied to target\n",
    "            column in dataframe\n",
    "        explosion_target_field (str): name of field in dataframe to which the\n",
    "            explosion funciton will be applied\n",
    "        fields_to_include (list): a list of strings that denote the columns of\n",
    "            the input dataframe to be included in the output\n",
    "\n",
    "    Returns:\n",
    "        pandas.DataFrame: new exploded dataframe\n",
    "    \"\"\"\n",
    "    new_rows = []\n",
    "    for _, row in dataframe.iterrows():\n",
    "        explosion_list = explosion_function(row[explosion_target_field])\n",
    "        for item in explosion_list:\n",
    "            row_data = [row[field] for field in fields_to_include]\n",
    "            row_data.append(item)\n",
    "            new_rows.append(row_data)\n",
    "\n",
    "    fields_to_include.append(explosion_target_field)\n",
    "    new_df = pd.DataFrame(new_rows, columns=fields_to_include)\n",
    "\n",
    "    return new_df\n",
    "\n",
    "\n",
    "def remove_cofactors(master_df: pd.DataFrame, master_cpd_field: str,\n",
    "                     cofactor_df: pd.DataFrame, cofactor_field: str,\n",
    "                     drop_na=True):\n",
    "    \"\"\"\n",
    "    remove_cofactors() should be used to clean the dataset of cofactors. These\n",
    "        will be included in the KEGG records as substrates and products, but\n",
    "        are not actually products in the reaction\n",
    "\n",
    "    Args:\n",
    "        master_df (pandas.DataFrame): input dataset\n",
    "        master_cpd_field (str): field that contains products\n",
    "        cofactor_df (pandas.DataFrame): contains cofactors to be removed\n",
    "        cofactor_field (str): field that contains cofactors\n",
    "        drop_na (bool): default True\n",
    "\n",
    "    Returns:\n",
    "        pandas.DataFrame: cleaned data without cofactor entries\n",
    "    \"\"\"\n",
    "    cofactor_list = parse_compound_ids(cofactor_df[cofactor_field])\n",
    "    bool_mask = [False if cpd in cofactor_list else True for cpd in master_df[master_cpd_field]]\n",
    "    clean_df = master_df[bool_mask]\n",
    "    clean_df = clean_df.drop_duplicates()\n",
    "\n",
    "    if drop_na:\n",
    "        clean_df = clean_df[clean_df[master_cpd_field] != 'NA']\n",
    "    else:\n",
    "        pass\n",
    "\n",
    "    return clean_df\n",
    "\n",
    "def create_negative_matches(dataframe: pd.DataFrame,\n",
    "                            enzyme_field: str, compound_field: str):\n",
    "    \"\"\"\n",
    "    create_negative_matches() returns two dataframes.\n",
    "        One dataframe is positive data that contains all the enzyme-compound\n",
    "        pairs that exist in the input dataset.\n",
    "        The second data frame is negative data made from matching all\n",
    "        enzyme-compound pairs that do not exist in the dataset.\n",
    "\n",
    "    Args:\n",
    "        dataframe (pandas.DataFrame): input dataset\n",
    "        enzyme_field (str): column in dataframe that contains enzyme ids\n",
    "        compound_field (str): column in dataframe that contains compound ids\n",
    "\n",
    "    Returns:\n",
    "        pandas.DataFrame: positive data\n",
    "            (contains fields ['enzyme', 'product', 'reacts'])\n",
    "        pandas.DataFrame: negative data\n",
    "            (contains fields ['enzyme', 'product', 'reacts'])\n",
    "    \"\"\"\n",
    "    unique_enzymes = set(dataframe[enzyme_field].unique())\n",
    "    # set of all unique enzymes in provided dataframes\n",
    "    unique_cpds = set(dataframe[compound_field].unique())\n",
    "    # set of all unique compounds in provided dataframe\n",
    "\n",
    "    positive_data = []\n",
    "    negative_data = []\n",
    "    # initialize empty lists\n",
    "\n",
    "    for enzyme in unique_enzymes:\n",
    "    # iterate through unique enzyme set\n",
    "        working_prods = set(dataframe[dataframe[enzyme_field] == enzyme][compound_field].unique())\n",
    "        # unique set of all products reported to reaction with this enzyme in provided dataset\n",
    "        non_working_prods = (unique_cpds - working_prods)\n",
    "        # set math of all remaining products in the dataset minus those reported to react\n",
    "\n",
    "        reactions = [{'reacts':1.0, 'enzyme':enzyme, 'product':product} for product in working_prods]\n",
    "        # create new entry for each positive reaction\n",
    "        non_reactions = [{'reacts':0.0, 'enzyme':enzyme, 'product':product} for product in non_working_prods]\n",
    "        # create new entry for each negative reaction\n",
    "\n",
    "        positive_data.extend(reactions)\n",
    "        # add positive reactions to master list\n",
    "        negative_data.extend(non_reactions)\n",
    "        # add negative reactions to master list\n",
    "\n",
    "    positive_df = pd.DataFrame(positive_data)\n",
    "    negative_df = pd.DataFrame(negative_data)\n",
    "\n",
    "    return positive_df, negative_df\n",
    "\n"
   ]
  },
  {
   "cell_type": "markdown",
   "metadata": {},
   "source": [
    "#### Still, there is a problem\n",
    "For some `EC-NUMBER` value, they are in `|_|` bracket with weird annotation with character instead of number. To solve this, we can modify some string value but if there is no repeating `EC-NUMBER` with and without bracket, we can just change the `EC-NUMBER` column without renewing the dataframe.\n",
    "\n",
    "## So, we have a sortof Master Dataframe v1 right now"
   ]
  },
  {
   "cell_type": "markdown",
   "metadata": {},
   "source": [
    "### What is the next step?\n",
    "- Alter CPD-ID into PubChemID or InChI ---> go for PubChemID first\n",
    "    - Done!\n",
    "- Make reversible reaction\n",
    "- Make negative dataset"
   ]
  },
  {
   "cell_type": "code",
   "execution_count": null,
   "metadata": {},
   "outputs": [],
   "source": [
    "def get_pubchem(ID):\n",
    "    \n",
    "    \"\"\"This function accept UNIQUE-ID and return InChI string of a certain compound\"\"\"\n",
    "    if ID in df_cpd['PubChemID']:\n",
    "        pubchem = df_cpd['PubChemID'][ID]\n",
    "    else:\n",
    "        pubchem = '0'\n",
    "        \n",
    "    return pubchem"
   ]
  },
  {
   "cell_type": "code",
   "execution_count": null,
   "metadata": {},
   "outputs": [],
   "source": [
    "df_rxn.head()"
   ]
  },
  {
   "cell_type": "code",
   "execution_count": null,
   "metadata": {},
   "outputs": [],
   "source": [
    "'Nitroaromatic-Ox-Compounds' in df_cpd['PubChemID']"
   ]
  },
  {
   "cell_type": "code",
   "execution_count": null,
   "metadata": {
    "scrolled": true
   },
   "outputs": [],
   "source": [
    "'BIOTIN' in df_cpd['PubChemID']"
   ]
  },
  {
   "cell_type": "code",
   "execution_count": null,
   "metadata": {},
   "outputs": [],
   "source": [
    "if 'BIOTIN' in df_cpd['PubChemID']:\n",
    "    print('Yes')"
   ]
  },
  {
   "cell_type": "code",
   "execution_count": null,
   "metadata": {},
   "outputs": [],
   "source": [
    "get_pubchem('MALONYL-ACP')"
   ]
  },
  {
   "cell_type": "code",
   "execution_count": null,
   "metadata": {
    "scrolled": false
   },
   "outputs": [],
   "source": [
    "# Start from df_rxn and rerun the master dataframe again\n",
    "subs_id = []\n",
    "pdts_id = []\n",
    "\n",
    "for index, row in df_rxn.iterrows():\n",
    "    \n",
    "    subs = []\n",
    "    for item in row['SUBSTRATES']:\n",
    "        subs.append(get_pubchem(item))\n",
    "    subs_id.append(subs)\n",
    "    \n",
    "    pdts = []\n",
    "    for item in row['PRODUCTS']:\n",
    "        pdts.append(get_pubchem(item))\n",
    "    pdts_id.append(pdts)"
   ]
  },
  {
   "cell_type": "code",
   "execution_count": null,
   "metadata": {
    "scrolled": false
   },
   "outputs": [],
   "source": [
    "df_rxn['SUBSTRATES'] = subs_id\n",
    "df_rxn['PRODUCTS'] = pdts_id\n",
    "df_rxn.head()"
   ]
  },
  {
   "cell_type": "code",
   "execution_count": null,
   "metadata": {},
   "outputs": [],
   "source": [
    "counter_s_y = 0\n",
    "counter_s_n = 0\n",
    "\n",
    "counter_p_y = 0\n",
    "counter_p_n = 0\n",
    "\n",
    "for index, row in df_rxn.iterrows():\n",
    "    \n",
    "    for item in row['SUBSTRATES']:\n",
    "        if item in df_cpd['PubChemID']:\n",
    "            counter_s_y += 1\n",
    "        else:\n",
    "            counter_s_n += 1\n",
    "    \n",
    "    for item in row['PRODUCTS']:\n",
    "        if item in df_cpd['PubChemID']:\n",
    "            counter_p_y += 1\n",
    "        else:\n",
    "            counter_p_n += 1\n",
    "\n",
    "print('Counting substrates True is', counter_s_y, 'False is', counter_s_n)\n",
    "print('Counting products True is', counter_p_y, 'False is', counter_p_n)"
   ]
  },
  {
   "cell_type": "code",
   "execution_count": null,
   "metadata": {},
   "outputs": [],
   "source": [
    "percent_s = counter_s_y/(counter_s_y + counter_s_n)\n",
    "percent_p = counter_p_y/(counter_p_y + counter_p_n)\n",
    "\n",
    "print('Percents of available substrate and product are', percent_s*100, 'and', percent_p*100)"
   ]
  },
  {
   "cell_type": "code",
   "execution_count": null,
   "metadata": {
    "scrolled": true
   },
   "outputs": [],
   "source": [
    "get_pubchem('Nitroaromatic-Ox-Compounds')"
   ]
  },
  {
   "cell_type": "markdown",
   "metadata": {},
   "source": [
    "### Problems found\n",
    "Where there is no data available for a certain UNIQUE-ID, the function goes wrong!!!\n",
    "- Those are macromolecules, general group of compounds, etc.\n",
    "\n",
    "Already solve by check availability by `in` function"
   ]
  },
  {
   "cell_type": "code",
   "execution_count": null,
   "metadata": {},
   "outputs": [],
   "source": []
  }
 ],
 "metadata": {
  "kernelspec": {
   "display_name": "Python 3",
   "language": "python",
   "name": "python3"
  },
  "language_info": {
   "codemirror_mode": {
    "name": "ipython",
    "version": 3
   },
   "file_extension": ".py",
   "mimetype": "text/x-python",
   "name": "python",
   "nbconvert_exporter": "python",
   "pygments_lexer": "ipython3",
   "version": "3.7.0"
  }
 },
 "nbformat": 4,
 "nbformat_minor": 2
}
