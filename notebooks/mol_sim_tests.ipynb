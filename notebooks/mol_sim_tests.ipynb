{
 "cells": [
  {
   "cell_type": "code",
   "execution_count": 1,
   "metadata": {},
   "outputs": [],
   "source": [
    "import pandas as pd\n",
    "import mol_sim"
   ]
  },
  {
   "cell_type": "code",
   "execution_count": 2,
   "metadata": {},
   "outputs": [],
   "source": [
    "input_df = pd.read_csv('playground_df_cleaned_kegg_with_smiles.csv')"
   ]
  },
  {
   "cell_type": "code",
   "execution_count": null,
   "metadata": {},
   "outputs": [],
   "source": [
    "def test_input_data():\n",
    "\n",
    "    return\n",
    "\n",
    "def test_fingerprint_products():\n",
    "\n",
    "    return\n",
    "\n",
    "def test_split_by_enzyme():\n",
    "\n",
    "    return\n",
    "\n",
    "def test_sim_i_j():\n",
    "\n",
    "    return\n",
    "\n",
    "def test_sim_i_all():\n",
    "\n",
    "    return\n",
    "\n",
    "def test_sim_metric():\n",
    "\n",
    "    return"
   ]
  }
 ],
 "metadata": {
  "kernelspec": {
   "display_name": "Python 3",
   "language": "python",
   "name": "python3"
  },
  "language_info": {
   "codemirror_mode": {
    "name": "ipython",
    "version": 3
   },
   "file_extension": ".py",
   "mimetype": "text/x-python",
   "name": "python",
   "nbconvert_exporter": "python",
   "pygments_lexer": "ipython3",
   "version": "3.6.8"
  }
 },
 "nbformat": 4,
 "nbformat_minor": 2
}
