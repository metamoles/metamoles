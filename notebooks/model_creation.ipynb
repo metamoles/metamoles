{
 "cells": [
  {
   "cell_type": "code",
   "execution_count": 17,
   "metadata": {},
   "outputs": [],
   "source": [
    "import pandas as pd\n",
    "import numpy as np\n",
    "import sklearn\n",
    "from sklearn import linear_model\n",
    "from sklearn.model_selection import cross_val_score\n",
    "from sklearn.model_selection import KFold\n",
    "from sklearn.model_selection import train_test_split\n",
    "import matplotlib.pyplot as plt\n"
   ]
  },
  {
   "cell_type": "code",
   "execution_count": 6,
   "metadata": {
    "scrolled": true
   },
   "outputs": [
    {
     "data": {
      "text/html": [
       "<div>\n",
       "<style scoped>\n",
       "    .dataframe tbody tr th:only-of-type {\n",
       "        vertical-align: middle;\n",
       "    }\n",
       "\n",
       "    .dataframe tbody tr th {\n",
       "        vertical-align: top;\n",
       "    }\n",
       "\n",
       "    .dataframe thead th {\n",
       "        text-align: right;\n",
       "    }\n",
       "</style>\n",
       "<table border=\"1\" class=\"dataframe\">\n",
       "  <thead>\n",
       "    <tr style=\"text-align: right;\">\n",
       "      <th></th>\n",
       "      <th>entry</th>\n",
       "      <th>product</th>\n",
       "      <th>reacts</th>\n",
       "      <th>PubChem</th>\n",
       "      <th>SMILES</th>\n",
       "      <th>Mol</th>\n",
       "      <th>Fingerprint</th>\n",
       "      <th>dist</th>\n",
       "      <th>enzyme_class_1</th>\n",
       "      <th>enzyme_class_2</th>\n",
       "      <th>...</th>\n",
       "      <th>enzyme_class_7</th>\n",
       "      <th>n_C</th>\n",
       "      <th>n_H</th>\n",
       "      <th>n_O</th>\n",
       "      <th>n_N</th>\n",
       "      <th>n_P</th>\n",
       "      <th>n_S</th>\n",
       "      <th>n_X</th>\n",
       "      <th>DoU</th>\n",
       "      <th>MW</th>\n",
       "    </tr>\n",
       "  </thead>\n",
       "  <tbody>\n",
       "    <tr>\n",
       "      <th>0</th>\n",
       "      <td>1.14.99.46</td>\n",
       "      <td>C20232</td>\n",
       "      <td>1.0</td>\n",
       "      <td>163311975</td>\n",
       "      <td>C/C(=C/NC(=O)N)/C(=O)OO</td>\n",
       "      <td>&lt;rdkit.Chem.rdchem.Mol object at 0x1a7c6372b0&gt;</td>\n",
       "      <td>&lt;rdkit.DataStructs.cDataStructs.ExplicitBitVec...</td>\n",
       "      <td>0.421512</td>\n",
       "      <td>1</td>\n",
       "      <td>0</td>\n",
       "      <td>...</td>\n",
       "      <td>0</td>\n",
       "      <td>5.0</td>\n",
       "      <td>8.0</td>\n",
       "      <td>4.0</td>\n",
       "      <td>2.0</td>\n",
       "      <td>0.0</td>\n",
       "      <td>0.0</td>\n",
       "      <td>0.0</td>\n",
       "      <td>3.0</td>\n",
       "      <td>160.129</td>\n",
       "    </tr>\n",
       "    <tr>\n",
       "      <th>1</th>\n",
       "      <td>3.5.1.110</td>\n",
       "      <td>C20232</td>\n",
       "      <td>1.0</td>\n",
       "      <td>163311975</td>\n",
       "      <td>C/C(=C/NC(=O)N)/C(=O)OO</td>\n",
       "      <td>&lt;rdkit.Chem.rdchem.Mol object at 0x1a7c637300&gt;</td>\n",
       "      <td>&lt;rdkit.DataStructs.cDataStructs.ExplicitBitVec...</td>\n",
       "      <td>0.467093</td>\n",
       "      <td>0</td>\n",
       "      <td>0</td>\n",
       "      <td>...</td>\n",
       "      <td>0</td>\n",
       "      <td>5.0</td>\n",
       "      <td>8.0</td>\n",
       "      <td>4.0</td>\n",
       "      <td>2.0</td>\n",
       "      <td>0.0</td>\n",
       "      <td>0.0</td>\n",
       "      <td>0.0</td>\n",
       "      <td>3.0</td>\n",
       "      <td>160.129</td>\n",
       "    </tr>\n",
       "    <tr>\n",
       "      <th>2</th>\n",
       "      <td>1.14.99.46</td>\n",
       "      <td>C00178</td>\n",
       "      <td>1.0</td>\n",
       "      <td>3478</td>\n",
       "      <td>CC1=CNC(=O)NC1=O</td>\n",
       "      <td>&lt;rdkit.Chem.rdchem.Mol object at 0x1a7c637210&gt;</td>\n",
       "      <td>&lt;rdkit.DataStructs.cDataStructs.ExplicitBitVec...</td>\n",
       "      <td>0.421512</td>\n",
       "      <td>1</td>\n",
       "      <td>0</td>\n",
       "      <td>...</td>\n",
       "      <td>0</td>\n",
       "      <td>5.0</td>\n",
       "      <td>6.0</td>\n",
       "      <td>2.0</td>\n",
       "      <td>2.0</td>\n",
       "      <td>0.0</td>\n",
       "      <td>0.0</td>\n",
       "      <td>0.0</td>\n",
       "      <td>4.0</td>\n",
       "      <td>126.115</td>\n",
       "    </tr>\n",
       "    <tr>\n",
       "      <th>3</th>\n",
       "      <td>1.17.99.4</td>\n",
       "      <td>C00178</td>\n",
       "      <td>1.0</td>\n",
       "      <td>3478</td>\n",
       "      <td>CC1=CNC(=O)NC1=O</td>\n",
       "      <td>&lt;rdkit.Chem.rdchem.Mol object at 0x1a7c637620&gt;</td>\n",
       "      <td>&lt;rdkit.DataStructs.cDataStructs.ExplicitBitVec...</td>\n",
       "      <td>0.414081</td>\n",
       "      <td>1</td>\n",
       "      <td>0</td>\n",
       "      <td>...</td>\n",
       "      <td>0</td>\n",
       "      <td>5.0</td>\n",
       "      <td>6.0</td>\n",
       "      <td>2.0</td>\n",
       "      <td>2.0</td>\n",
       "      <td>0.0</td>\n",
       "      <td>0.0</td>\n",
       "      <td>0.0</td>\n",
       "      <td>4.0</td>\n",
       "      <td>126.115</td>\n",
       "    </tr>\n",
       "    <tr>\n",
       "      <th>4</th>\n",
       "      <td>1.3.1.1</td>\n",
       "      <td>C00178</td>\n",
       "      <td>1.0</td>\n",
       "      <td>3478</td>\n",
       "      <td>CC1=CNC(=O)NC1=O</td>\n",
       "      <td>&lt;rdkit.Chem.rdchem.Mol object at 0x1a7c637670&gt;</td>\n",
       "      <td>&lt;rdkit.DataStructs.cDataStructs.ExplicitBitVec...</td>\n",
       "      <td>0.420926</td>\n",
       "      <td>1</td>\n",
       "      <td>0</td>\n",
       "      <td>...</td>\n",
       "      <td>0</td>\n",
       "      <td>5.0</td>\n",
       "      <td>6.0</td>\n",
       "      <td>2.0</td>\n",
       "      <td>2.0</td>\n",
       "      <td>0.0</td>\n",
       "      <td>0.0</td>\n",
       "      <td>0.0</td>\n",
       "      <td>4.0</td>\n",
       "      <td>126.115</td>\n",
       "    </tr>\n",
       "  </tbody>\n",
       "</table>\n",
       "<p>5 rows × 24 columns</p>\n",
       "</div>"
      ],
      "text/plain": [
       "        entry product  reacts    PubChem                   SMILES  \\\n",
       "0  1.14.99.46  C20232     1.0  163311975  C/C(=C/NC(=O)N)/C(=O)OO   \n",
       "1   3.5.1.110  C20232     1.0  163311975  C/C(=C/NC(=O)N)/C(=O)OO   \n",
       "2  1.14.99.46  C00178     1.0       3478         CC1=CNC(=O)NC1=O   \n",
       "3   1.17.99.4  C00178     1.0       3478         CC1=CNC(=O)NC1=O   \n",
       "4     1.3.1.1  C00178     1.0       3478         CC1=CNC(=O)NC1=O   \n",
       "\n",
       "                                              Mol  \\\n",
       "0  <rdkit.Chem.rdchem.Mol object at 0x1a7c6372b0>   \n",
       "1  <rdkit.Chem.rdchem.Mol object at 0x1a7c637300>   \n",
       "2  <rdkit.Chem.rdchem.Mol object at 0x1a7c637210>   \n",
       "3  <rdkit.Chem.rdchem.Mol object at 0x1a7c637620>   \n",
       "4  <rdkit.Chem.rdchem.Mol object at 0x1a7c637670>   \n",
       "\n",
       "                                         Fingerprint      dist  \\\n",
       "0  <rdkit.DataStructs.cDataStructs.ExplicitBitVec...  0.421512   \n",
       "1  <rdkit.DataStructs.cDataStructs.ExplicitBitVec...  0.467093   \n",
       "2  <rdkit.DataStructs.cDataStructs.ExplicitBitVec...  0.421512   \n",
       "3  <rdkit.DataStructs.cDataStructs.ExplicitBitVec...  0.414081   \n",
       "4  <rdkit.DataStructs.cDataStructs.ExplicitBitVec...  0.420926   \n",
       "\n",
       "   enzyme_class_1  enzyme_class_2   ...     enzyme_class_7  n_C  n_H  n_O  \\\n",
       "0               1               0   ...                  0  5.0  8.0  4.0   \n",
       "1               0               0   ...                  0  5.0  8.0  4.0   \n",
       "2               1               0   ...                  0  5.0  6.0  2.0   \n",
       "3               1               0   ...                  0  5.0  6.0  2.0   \n",
       "4               1               0   ...                  0  5.0  6.0  2.0   \n",
       "\n",
       "   n_N  n_P  n_S  n_X  DoU       MW  \n",
       "0  2.0  0.0  0.0  0.0  3.0  160.129  \n",
       "1  2.0  0.0  0.0  0.0  3.0  160.129  \n",
       "2  2.0  0.0  0.0  0.0  4.0  126.115  \n",
       "3  2.0  0.0  0.0  0.0  4.0  126.115  \n",
       "4  2.0  0.0  0.0  0.0  4.0  126.115  \n",
       "\n",
       "[5 rows x 24 columns]"
      ]
     },
     "execution_count": 6,
     "metadata": {},
     "output_type": "execute_result"
    }
   ],
   "source": [
    "# import something\n",
    "master_df = pd.read_csv('../datasets/MASTER_DF.csv')\n",
    "master_df.head()"
   ]
  },
  {
   "cell_type": "code",
   "execution_count": 30,
   "metadata": {},
   "outputs": [
    {
     "data": {
      "text/html": [
       "<div>\n",
       "<style scoped>\n",
       "    .dataframe tbody tr th:only-of-type {\n",
       "        vertical-align: middle;\n",
       "    }\n",
       "\n",
       "    .dataframe tbody tr th {\n",
       "        vertical-align: top;\n",
       "    }\n",
       "\n",
       "    .dataframe thead th {\n",
       "        text-align: right;\n",
       "    }\n",
       "</style>\n",
       "<table border=\"1\" class=\"dataframe\">\n",
       "  <thead>\n",
       "    <tr style=\"text-align: right;\">\n",
       "      <th></th>\n",
       "      <th>dist</th>\n",
       "      <th>enzyme_class_1</th>\n",
       "      <th>enzyme_class_2</th>\n",
       "      <th>enzyme_class_3</th>\n",
       "      <th>enzyme_class_4</th>\n",
       "      <th>enzyme_class_5</th>\n",
       "      <th>enzyme_class_6</th>\n",
       "      <th>enzyme_class_7</th>\n",
       "      <th>n_C</th>\n",
       "      <th>n_H</th>\n",
       "      <th>n_O</th>\n",
       "      <th>n_N</th>\n",
       "      <th>n_P</th>\n",
       "      <th>n_S</th>\n",
       "      <th>n_X</th>\n",
       "      <th>DoU</th>\n",
       "      <th>MW</th>\n",
       "    </tr>\n",
       "  </thead>\n",
       "  <tbody>\n",
       "    <tr>\n",
       "      <th>0</th>\n",
       "      <td>0.421512</td>\n",
       "      <td>1</td>\n",
       "      <td>0</td>\n",
       "      <td>0</td>\n",
       "      <td>0</td>\n",
       "      <td>0</td>\n",
       "      <td>0</td>\n",
       "      <td>0</td>\n",
       "      <td>5.0</td>\n",
       "      <td>8.0</td>\n",
       "      <td>4.0</td>\n",
       "      <td>2.0</td>\n",
       "      <td>0.0</td>\n",
       "      <td>0.0</td>\n",
       "      <td>0.0</td>\n",
       "      <td>3.0</td>\n",
       "      <td>160.129</td>\n",
       "    </tr>\n",
       "    <tr>\n",
       "      <th>1</th>\n",
       "      <td>0.467093</td>\n",
       "      <td>0</td>\n",
       "      <td>0</td>\n",
       "      <td>1</td>\n",
       "      <td>0</td>\n",
       "      <td>0</td>\n",
       "      <td>0</td>\n",
       "      <td>0</td>\n",
       "      <td>5.0</td>\n",
       "      <td>8.0</td>\n",
       "      <td>4.0</td>\n",
       "      <td>2.0</td>\n",
       "      <td>0.0</td>\n",
       "      <td>0.0</td>\n",
       "      <td>0.0</td>\n",
       "      <td>3.0</td>\n",
       "      <td>160.129</td>\n",
       "    </tr>\n",
       "    <tr>\n",
       "      <th>2</th>\n",
       "      <td>0.421512</td>\n",
       "      <td>1</td>\n",
       "      <td>0</td>\n",
       "      <td>0</td>\n",
       "      <td>0</td>\n",
       "      <td>0</td>\n",
       "      <td>0</td>\n",
       "      <td>0</td>\n",
       "      <td>5.0</td>\n",
       "      <td>6.0</td>\n",
       "      <td>2.0</td>\n",
       "      <td>2.0</td>\n",
       "      <td>0.0</td>\n",
       "      <td>0.0</td>\n",
       "      <td>0.0</td>\n",
       "      <td>4.0</td>\n",
       "      <td>126.115</td>\n",
       "    </tr>\n",
       "    <tr>\n",
       "      <th>3</th>\n",
       "      <td>0.414081</td>\n",
       "      <td>1</td>\n",
       "      <td>0</td>\n",
       "      <td>0</td>\n",
       "      <td>0</td>\n",
       "      <td>0</td>\n",
       "      <td>0</td>\n",
       "      <td>0</td>\n",
       "      <td>5.0</td>\n",
       "      <td>6.0</td>\n",
       "      <td>2.0</td>\n",
       "      <td>2.0</td>\n",
       "      <td>0.0</td>\n",
       "      <td>0.0</td>\n",
       "      <td>0.0</td>\n",
       "      <td>4.0</td>\n",
       "      <td>126.115</td>\n",
       "    </tr>\n",
       "    <tr>\n",
       "      <th>4</th>\n",
       "      <td>0.420926</td>\n",
       "      <td>1</td>\n",
       "      <td>0</td>\n",
       "      <td>0</td>\n",
       "      <td>0</td>\n",
       "      <td>0</td>\n",
       "      <td>0</td>\n",
       "      <td>0</td>\n",
       "      <td>5.0</td>\n",
       "      <td>6.0</td>\n",
       "      <td>2.0</td>\n",
       "      <td>2.0</td>\n",
       "      <td>0.0</td>\n",
       "      <td>0.0</td>\n",
       "      <td>0.0</td>\n",
       "      <td>4.0</td>\n",
       "      <td>126.115</td>\n",
       "    </tr>\n",
       "  </tbody>\n",
       "</table>\n",
       "</div>"
      ],
      "text/plain": [
       "       dist  enzyme_class_1  enzyme_class_2  enzyme_class_3  enzyme_class_4  \\\n",
       "0  0.421512               1               0               0               0   \n",
       "1  0.467093               0               0               1               0   \n",
       "2  0.421512               1               0               0               0   \n",
       "3  0.414081               1               0               0               0   \n",
       "4  0.420926               1               0               0               0   \n",
       "\n",
       "   enzyme_class_5  enzyme_class_6  enzyme_class_7  n_C  n_H  n_O  n_N  n_P  \\\n",
       "0               0               0               0  5.0  8.0  4.0  2.0  0.0   \n",
       "1               0               0               0  5.0  8.0  4.0  2.0  0.0   \n",
       "2               0               0               0  5.0  6.0  2.0  2.0  0.0   \n",
       "3               0               0               0  5.0  6.0  2.0  2.0  0.0   \n",
       "4               0               0               0  5.0  6.0  2.0  2.0  0.0   \n",
       "\n",
       "   n_S  n_X  DoU       MW  \n",
       "0  0.0  0.0  3.0  160.129  \n",
       "1  0.0  0.0  3.0  160.129  \n",
       "2  0.0  0.0  4.0  126.115  \n",
       "3  0.0  0.0  4.0  126.115  \n",
       "4  0.0  0.0  4.0  126.115  "
      ]
     },
     "execution_count": 30,
     "metadata": {},
     "output_type": "execute_result"
    }
   ],
   "source": [
    "feature_df = master_df.iloc[:,7:24].copy()\n",
    "feature_df.head()"
   ]
  },
  {
   "cell_type": "code",
   "execution_count": null,
   "metadata": {},
   "outputs": [],
   "source": [
    "kfold = KFold(n_splits=10, random_state=seed)\n",
    "results = cross_val_score(estimator, X_train, y_train, cv=kfold)\n",
    "print(\"Results: %.2f (%.2f) MSE\" % (-1 * results.mean(), results.std()))"
   ]
  },
  {
   "cell_type": "code",
   "execution_count": null,
   "metadata": {},
   "outputs": [],
   "source": [
    "estimators = []\n",
    "estimators.append(('standardize', StandardScaler()))\n",
    "estimators.append(('mlp', KerasRegressor(build_fn=simple_model,\n",
    "        epochs=150, batch_size=25000, verbose=0)))\n",
    "pipeline = Pipeline(estimators)\n",
    "kfold = KFold(n_splits=10, random_state=seed)\n",
    "results = cross_val_score(pipeline, X_train, y_train, cv=kfold)\n",
    "print('MSE mean: %.4f ; std: %.4f' % (-1 * results.mean(), results.std()))"
   ]
  },
  {
   "cell_type": "code",
   "execution_count": null,
   "metadata": {},
   "outputs": [],
   "source": []
  },
  {
   "cell_type": "code",
   "execution_count": 10,
   "metadata": {},
   "outputs": [],
   "source": [
    "logreg=linear_model.LogisticRegression() \n",
    "features = np.array(feature_df) #shape balance array for regression\n",
    "reactions = list(master_df['reacts'])\n"
   ]
  },
  {
   "cell_type": "code",
   "execution_count": 14,
   "metadata": {},
   "outputs": [],
   "source": [
    "feature_train, feature_test, reaction_train, reaction_test = train_test_split(features, reactions,\n",
    "                                                    test_size=0.20)"
   ]
  },
  {
   "cell_type": "code",
   "execution_count": 15,
   "metadata": {},
   "outputs": [
    {
     "name": "stderr",
     "output_type": "stream",
     "text": [
      "C:\\Users\\ellie\\Miniconda3\\lib\\site-packages\\sklearn\\linear_model\\logistic.py:433: FutureWarning: Default solver will be changed to 'lbfgs' in 0.22. Specify a solver to silence this warning.\n",
      "  FutureWarning)\n"
     ]
    },
    {
     "data": {
      "text/plain": [
       "LogisticRegression(C=1.0, class_weight=None, dual=False, fit_intercept=True,\n",
       "          intercept_scaling=1, max_iter=100, multi_class='warn',\n",
       "          n_jobs=None, penalty='l2', random_state=None, solver='warn',\n",
       "          tol=0.0001, verbose=0, warm_start=False)"
      ]
     },
     "execution_count": 15,
     "metadata": {},
     "output_type": "execute_result"
    }
   ],
   "source": [
    "# linear regression on default data\n",
    "\n",
    "        \n",
    "logreg.fit(feature_train, np.ravel(reaction_train)) #fit linear model, and shape default array for regression\n",
    "\n",
    "#print('B0, B1: ',logreg.intercept_, logreg.coef_[0])"
   ]
  },
  {
   "cell_type": "code",
   "execution_count": 24,
   "metadata": {},
   "outputs": [
    {
     "ename": "AttributeError",
     "evalue": "'numpy.ndarray' object has no attribute 'summary'",
     "output_type": "error",
     "traceback": [
      "\u001b[1;31m---------------------------------------------------------------------------\u001b[0m",
      "\u001b[1;31mAttributeError\u001b[0m                            Traceback (most recent call last)",
      "\u001b[1;32m<ipython-input-24-0f29c0e362da>\u001b[0m in \u001b[0;36m<module>\u001b[1;34m()\u001b[0m\n\u001b[0;32m      1\u001b[0m \u001b[0mpredictions\u001b[0m \u001b[1;33m=\u001b[0m \u001b[0mlogreg\u001b[0m\u001b[1;33m.\u001b[0m\u001b[0mpredict\u001b[0m\u001b[1;33m(\u001b[0m\u001b[0mfeature_test\u001b[0m\u001b[1;33m)\u001b[0m\u001b[1;33m\u001b[0m\u001b[0m\n\u001b[1;32m----> 2\u001b[1;33m \u001b[0mprint\u001b[0m\u001b[1;33m(\u001b[0m\u001b[0mpredictions\u001b[0m\u001b[1;33m.\u001b[0m\u001b[0msummary\u001b[0m\u001b[1;33m)\u001b[0m\u001b[1;33m\u001b[0m\u001b[0m\n\u001b[0m",
      "\u001b[1;31mAttributeError\u001b[0m: 'numpy.ndarray' object has no attribute 'summary'"
     ]
    }
   ],
   "source": [
    "predictions = logreg.predict(feature_test)\n",
    "print(predictions.summary)"
   ]
  },
  {
   "cell_type": "code",
   "execution_count": 26,
   "metadata": {},
   "outputs": [
    {
     "name": "stdout",
     "output_type": "stream",
     "text": [
      "[[1198    1]\n",
      " [ 110  217]]\n"
     ]
    }
   ],
   "source": [
    "from sklearn.metrics import confusion_matrix\n",
    "confusion_matrix = confusion_matrix(reaction_test, predictions)\n",
    "print(confusion_matrix)\n",
    "# upper left and lower right are correct: 1400 for the first go\n",
    "# lower left and upper right are incorrect : 111 for the first go"
   ]
  },
  {
   "cell_type": "code",
   "execution_count": 28,
   "metadata": {},
   "outputs": [
    {
     "name": "stdout",
     "output_type": "stream",
     "text": [
      "              precision    recall  f1-score   support\n",
      "\n",
      "         0.0       0.92      1.00      0.96      1199\n",
      "         1.0       1.00      0.66      0.80       327\n",
      "\n",
      "   micro avg       0.93      0.93      0.93      1526\n",
      "   macro avg       0.96      0.83      0.88      1526\n",
      "weighted avg       0.93      0.93      0.92      1526\n",
      "\n"
     ]
    }
   ],
   "source": [
    "from sklearn.metrics import classification_report\n",
    "print(classification_report(reaction_test, predictions))"
   ]
  },
  {
   "cell_type": "code",
   "execution_count": 29,
   "metadata": {},
   "outputs": [
    {
     "data": {
      "image/png": "[encoded data removed]",
      "text/plain": [
       "<Figure size 432x288 with 1 Axes>"
      ]
     },
     "metadata": {
      "needs_background": "light"
     },
     "output_type": "display_data"
    }
   ],
   "source": [
    "from sklearn.metrics import roc_auc_score\n",
    "from sklearn.metrics import roc_curve\n",
    "logit_roc_auc = roc_auc_score(reaction_test, logreg.predict(feature_test))\n",
    "fpr, tpr, thresholds = roc_curve(reaction_test, logreg.predict_proba(feature_test)[:,1])\n",
    "plt.figure()\n",
    "plt.plot(fpr, tpr, label='Logistic Regression (area = %0.2f)' % logit_roc_auc)\n",
    "plt.plot([0, 1], [0, 1],'r--')\n",
    "plt.xlim([0.0, 1.0])\n",
    "plt.ylim([0.0, 1.05])\n",
    "plt.xlabel('False Positive Rate')\n",
    "plt.ylabel('True Positive Rate')\n",
    "plt.title('Receiver operating characteristic')\n",
    "plt.legend(loc=\"lower right\")\n",
    "plt.savefig('Log_ROC')\n",
    "plt.show()"
   ]
  },
  {
   "cell_type": "code",
   "execution_count": 23,
   "metadata": {},
   "outputs": [
    {
     "data": {
      "text/plain": [
       "Text(0, 0.5, 'Predicted value')"
      ]
     },
     "execution_count": 23,
     "metadata": {},
     "output_type": "execute_result"
    },
    {
     "data": {
      "image/png": "[encoded data removed]",
      "text/plain": [
       "<Figure size 432x288 with 1 Axes>"
      ]
     },
     "metadata": {
      "needs_background": "light"
     },
     "output_type": "display_data"
    }
   ],
   "source": [
    "plt.scatter(reaction_test, predictions, alpha=0.1)\n",
    "plt.xlabel('True value')\n",
    "plt.ylabel('Predicted value')"
   ]
  },
  {
   "cell_type": "code",
   "execution_count": null,
   "metadata": {},
   "outputs": [],
   "source": []
  }
 ],
 "metadata": {
  "kernelspec": {
   "display_name": "Python 3",
   "language": "python",
   "name": "python3"
  },
  "language_info": {
   "codemirror_mode": {
    "name": "ipython",
    "version": 3
   },
   "file_extension": ".py",
   "mimetype": "text/x-python",
   "name": "python",
   "nbconvert_exporter": "python",
   "pygments_lexer": "ipython3",
   "version": "3.7.0"
  }
 },
 "nbformat": 4,
 "nbformat_minor": 2
}
