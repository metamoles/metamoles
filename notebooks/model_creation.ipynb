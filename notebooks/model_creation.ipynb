{
 "cells": [
  {
   "cell_type": "code",
   "execution_count": null,
   "metadata": {},
   "outputs": [],
   "source": [
    "import pandas as pd\n",
    "import numpy as np\n",
    "import sklearn\n",
    "from sklearn import linear_model\n",
    "from sklearn.model_selection import cross_val_score\n",
    "from sklearn.model_selection import KFold\n",
    "from sklearn.model_selection import train_test_split\n",
    "from sklearn.metrics import confusion_matrix\n",
    "from sklearn.metrics import classification_report\n",
    "from sklearn.metrics import roc_auc_score\n",
    "from sklearn.metrics import roc_curve\n",
    "import matplotlib.pyplot as plt\n"
   ]
  },
  {
   "cell_type": "code",
   "execution_count": null,
   "metadata": {
    "scrolled": true
   },
   "outputs": [],
   "source": [
    "# import something\n",
    "master_df = pd.read_csv('../datasets/MASTER_DF.csv')\n",
    "master_df.columns"
   ]
  },
  {
   "cell_type": "code",
   "execution_count": null,
   "metadata": {},
   "outputs": [],
   "source": [
    "feature_df = master_df[['PubChem', 'dist', 'enzyme_class_1', 'enzyme_class_2', 'enzyme_class_3',\n",
    "       'enzyme_class_4', 'enzyme_class_5', 'enzyme_class_6', 'enzyme_class_7',\n",
    "        'n_O', 'n_N', 'n_P', 'n_S', 'n_X', 'DoU']]\n",
    "feature_df.set_index(keys=['PubChem'], inplace=True)\n",
    "feature_df.head()"
   ]
  },
  {
   "cell_type": "code",
   "execution_count": 4,
   "metadata": {},
   "outputs": [],
   "source": [
    "full_feature = master_df[['dist', 'enzyme_class_1', 'enzyme_class_2', 'enzyme_class_3',\n",
    "       'enzyme_class_4', 'enzyme_class_5', 'enzyme_class_6', 'enzyme_class_7',\n",
    "       'n_C', 'n_H', 'n_O', 'n_N', 'n_P', 'n_S', 'n_X', 'DoU', 'MW']]\n",
    "full_feature.head()\n",
    "\n",
    "full_features = np.array(full_feature) #shape balance array for regression\n",
    "full_reactions = list(master_df['reacts'])\n",
    "\n",
    "full_feature_train, full_feature_test, full_reaction_train, full_reaction_test = train_test_split(full_features, full_reactions,\n",
    "                                                    test_size=0.20, random_state=42)"
   ]
  },
  {
   "cell_type": "code",
   "execution_count": 5,
   "metadata": {},
   "outputs": [],
   "source": [
    "features = np.array(feature_df) #shape balance array for regression\n",
    "reactions = list(master_df['reacts'])\n",
    "\n",
    "feature_train, feature_test, reaction_train, reaction_test = train_test_split(features, reactions,\n",
    "                                                    test_size=0.20, random_state=42)"
   ]
  },
  {
   "cell_type": "code",
   "execution_count": null,
   "metadata": {
    "scrolled": true
   },
   "outputs": [],
   "source": [
    "model_1 = linear_model.LogisticRegression(solver='liblinear', penalty='l1', random_state=1, class_weight='balanced')\n",
    "model_1.fit(feature_train, np.ravel(reaction_train))\n",
    "\n",
    "predictions = model_1.predict(feature_test) # change me to the data you want to predict based on \n",
    "\n",
    "score = model_1.score(feature_test, reaction_test)\n",
    "decision = model_1.decision_function(feature_test)\n",
    "params = model_1.get_params()\n",
    "pred_log = model_1.predict_log_proba(feature_test)\n",
    "\n",
    "pred = model_1.predict_proba(feature_test)\n",
    "\n",
    "score, pred, decision, model_1.classes_, model_1.coef_"
   ]
  },
  {
   "cell_type": "code",
   "execution_count": null,
   "metadata": {},
   "outputs": [],
   "source": [
    "prediction_values = pd.DataFrame(pred)\n",
    "model_descriptive_df = pd.DataFrame()\n",
    "model_descriptive_df['0']=prediction_values[0]\n",
    "model_descriptive_df['1']=prediction_values[1]\n",
    "model_descriptive_df"
   ]
  },
  {
   "cell_type": "code",
   "execution_count": null,
   "metadata": {},
   "outputs": [],
   "source": [
    "updated = predictions.tolist()\n",
    "confusion_matrix = confusion_matrix(reaction_test, updated)\n",
    "print(confusion_matrix)\n",
    "# upper left and lower right are correct: 1427\n",
    "# lower left and upper right are incorrect : 99 "
   ]
  },
  {
   "cell_type": "code",
   "execution_count": null,
   "metadata": {},
   "outputs": [],
   "source": [
    "print(classification_report(reaction_test, predictions))"
   ]
  },
  {
   "cell_type": "code",
   "execution_count": null,
   "metadata": {},
   "outputs": [],
   "source": [
    "model_2 = linear_model.LogisticRegressionCV(solver='liblinear', penalty='l1', random_state=1, cv=10)\n",
    "model_2.fit(feature_train, np.ravel(reaction_train))\n",
    "predictions2 = model_2.predict(feature_test)\n",
    "score2 = model_2.score(feature_test, reaction_test)\n",
    "decision2 = model_2.decision_function(feature_test)\n",
    "params2 = model_2.get_params()\n",
    "pred_log2 = model_2.predict_log_proba(feature_test)\n",
    "pred2 = model_2.predict_proba(feature_test)\n",
    "\n",
    "score2, pred2, #decision2, model_2.classes_, model_2.coef_"
   ]
  },
  {
   "cell_type": "markdown",
   "metadata": {},
   "source": [
    "plan: ridge regression, drop off the least important features and get the AUC ROC curve-> store, drop the last\n",
    "RFE again? (it didn't show anything...)\n"
   ]
  },
  {
   "cell_type": "code",
   "execution_count": null,
   "metadata": {},
   "outputs": [],
   "source": []
  },
  {
   "cell_type": "markdown",
   "metadata": {},
   "source": [
    "______________\n",
    "# linear regression on default data\n",
    "\n",
    "logreg1=linear_model.LogisticRegression(random_state=1)        \n",
    "logreg1.fit(feature_train, np.ravel(reaction_train)) #fit linear model, and shape default array for regression\n",
    "score = logreg1.score(feature_test, reaction_test)\n",
    "decision = logreg1.decision_function(feature_test)\n",
    "params = logreg1.get_params()\n",
    "pred_log = logreg1.predict_log_proba(feature_test)\n",
    "pred = logreg1.predict_proba(feature_test)\n",
    "\n",
    "score, pred, logreg1.classes_, logreg1.coef_ #np.ndarray.shape(pred)\n",
    "\n",
    "#print('B0, B1: ',logreg.intercept_, logreg.coef_[0])"
   ]
  },
  {
   "cell_type": "markdown",
   "metadata": {},
   "source": [
    "predictions1 = logreg1.predict(feature_test)\n",
    "confusion_matrix = confusion_matrix(reaction_test, predictions1)\n",
    "print(confusion_matrix)\n",
    "# upper left and lower right are correct: 1400 for the first go\n",
    "# lower left and upper right are incorrect : 111 for the first go"
   ]
  },
  {
   "cell_type": "markdown",
   "metadata": {},
   "source": [
    "print(classification_report(reaction_test, predictions1))"
   ]
  },
  {
   "cell_type": "markdown",
   "metadata": {},
   "source": [
    "logit_roc_auc = roc_auc_score(reaction_test, logreg1.predict(feature_test))\n",
    "fpr, tpr, thresholds = roc_curve(reaction_test, logreg1.predict_proba(feature_test)[:,1])\n",
    "plt.figure()\n",
    "plt.plot(fpr, tpr, label='Logistic Regression (area = %0.2f)' % logit_roc_auc)\n",
    "plt.plot([0, 1], [0, 1],'r--')\n",
    "plt.xlim([0.0, 1.0])\n",
    "plt.ylim([0.0, 1.05])\n",
    "plt.xlabel('False Positive Rate')\n",
    "plt.ylabel('True Positive Rate')\n",
    "plt.title('Receiver operating characteristic')\n",
    "plt.legend(loc=\"lower right\")\n",
    "plt.savefig('Log_ROC')\n",
    "plt.show()"
   ]
  },
  {
   "cell_type": "markdown",
   "metadata": {},
   "source": [
    "plt.scatter(reaction_test, predictions1, alpha=0.1)\n",
    "plt.xlabel('True value')\n",
    "plt.ylabel('Predicted value')"
   ]
  },
  {
   "cell_type": "markdown",
   "metadata": {},
   "source": [
    "logreg5 = linear_model.LogisticRegression(penalty='l1', random_state=1)\n",
    "logreg5.fit(feature_train, np.ravel(reaction_train))\n",
    "predictions5 = logreg5.predict(feature_test)\n",
    "score = logreg5.score(feature_test, reaction_test)\n",
    "decision = logreg5.decision_function(feature_test)\n",
    "params = logreg5.get_params()\n",
    "pred_log = logreg5.predict_log_proba(feature_test)\n",
    "pred = logreg5.predict_proba(feature_test)\n",
    "\n",
    "score, pred, logreg5.classes_, logreg5.coef_"
   ]
  },
  {
   "cell_type": "markdown",
   "metadata": {},
   "source": [
    "print(classification_report(reaction_test, predictions5))"
   ]
  },
  {
   "cell_type": "markdown",
   "metadata": {},
   "source": [
    "logit_roc_auc = roc_auc_score(reaction_test, logreg5.predict(feature_test))\n",
    "fpr, tpr, thresholds = roc_curve(reaction_test, logreg5.predict_proba(feature_test)[:,1])\n",
    "plt.figure()\n",
    "plt.plot(fpr, tpr, label='Logistic Regression (area = %0.2f)' % logit_roc_auc)\n",
    "plt.plot([0, 1], [0, 1],'r--')\n",
    "plt.xlim([0.0, 1.0])\n",
    "plt.ylim([0.0, 1.05])\n",
    "plt.xlabel('False Positive Rate')\n",
    "plt.ylabel('True Positive Rate')\n",
    "plt.title('Receiver operating characteristic')\n",
    "plt.legend(loc=\"lower right\")\n",
    "plt.savefig('Log_ROC')\n",
    "plt.show()"
   ]
  },
  {
   "cell_type": "code",
   "execution_count": 6,
   "metadata": {},
   "outputs": [],
   "source": [
    "from sklearn.feature_selection import RFE\n",
    "\n"
   ]
  },
  {
   "cell_type": "code",
   "execution_count": null,
   "metadata": {},
   "outputs": [],
   "source": [
    "rfe_results = pd.DataFrame(columns=['score']) \n",
    "\n",
    "rank_array = np.zeros((14,15))\n",
    "\n",
    "for i in range(1,14):\n",
    "    logreg2=linear_model.LogisticRegression(solver='liblinear', penalty='l1', random_state=1, max_iter=1000, class_weight='balanced') \n",
    "\n",
    "    rfe = RFE(logreg2, i)\n",
    "    rfe = rfe.fit(feature_train, np.ravel(reaction_train))\n",
    "    score = rfe.score(feature_test, reaction_test)\n",
    "\n",
    "    rfe_results.loc[i, 'score'] = score\n",
    "    for j in range(0,14):  \n",
    "        rank_array[i, j] = rfe.ranking_[j]"
   ]
  },
  {
   "cell_type": "code",
   "execution_count": null,
   "metadata": {},
   "outputs": [],
   "source": [
    "rank_df = pd.DataFrame(rank_array, columns=['dist', 'enzyme_class_1', 'enzyme_class_2', 'enzyme_class_3',\n",
    "       'enzyme_class_4', 'enzyme_class_5', 'enzyme_class_6', 'enzyme_class_7',\n",
    "       'n_O', 'n_N', 'n_P', 'n_S', 'n_X', 'DoU', 'drop'])\n",
    "#rfe_results\n",
    "rank_df.drop(rank_df.index[0], inplace=True)\n",
    "rank_df.drop(['drop'], axis=1, inplace=True)\n",
    "rank_df"
   ]
  },
  {
   "cell_type": "code",
   "execution_count": null,
   "metadata": {},
   "outputs": [],
   "source": [
    "rank_df.sum(axis=0), rfe_results"
   ]
  },
  {
   "cell_type": "code",
   "execution_count": null,
   "metadata": {},
   "outputs": [],
   "source": []
  },
  {
   "cell_type": "code",
   "execution_count": null,
   "metadata": {},
   "outputs": [],
   "source": []
  },
  {
   "cell_type": "code",
   "execution_count": 7,
   "metadata": {
    "scrolled": true
   },
   "outputs": [],
   "source": [
    "\n",
    "rfe_results = pd.DataFrame(columns=['score']) \n",
    "\n",
    "rank_array = np.zeros((17,18))\n",
    "\n",
    "for i in range(1,17):\n",
    "    logreg2=linear_model.LogisticRegression(solver='liblinear', penalty='l1', random_state=1, max_iter=1000, class_weight='balanced') \n",
    "\n",
    "    rfe = RFE(logreg2, i)\n",
    "    rfe = rfe.fit(full_feature_train, np.ravel(full_reaction_train))\n",
    "    score = rfe.score(full_feature_test, full_reaction_test)\n",
    "\n",
    "    rfe_results.loc[i, 'score'] = score\n",
    "    for j in range(0,17):  \n",
    "        rank_array[i, j]= rfe.ranking_[j]\n",
    "        "
   ]
  },
  {
   "cell_type": "code",
   "execution_count": 8,
   "metadata": {},
   "outputs": [
    {
     "data": {
      "text/html": [
       "<div>\n",
       "<style scoped>\n",
       "    .dataframe tbody tr th:only-of-type {\n",
       "        vertical-align: middle;\n",
       "    }\n",
       "\n",
       "    .dataframe tbody tr th {\n",
       "        vertical-align: top;\n",
       "    }\n",
       "\n",
       "    .dataframe thead th {\n",
       "        text-align: right;\n",
       "    }\n",
       "</style>\n",
       "<table border=\"1\" class=\"dataframe\">\n",
       "  <thead>\n",
       "    <tr style=\"text-align: right;\">\n",
       "      <th></th>\n",
       "      <th>dist</th>\n",
       "      <th>class_1</th>\n",
       "      <th>class_2</th>\n",
       "      <th>class_3</th>\n",
       "      <th>class_4</th>\n",
       "      <th>class_5</th>\n",
       "      <th>class_6</th>\n",
       "      <th>class_7</th>\n",
       "      <th>n_C</th>\n",
       "      <th>n_H</th>\n",
       "      <th>n_O</th>\n",
       "      <th>n_N</th>\n",
       "      <th>n_P</th>\n",
       "      <th>n_S</th>\n",
       "      <th>n_X</th>\n",
       "      <th>DoU</th>\n",
       "      <th>MW</th>\n",
       "    </tr>\n",
       "  </thead>\n",
       "  <tbody>\n",
       "    <tr>\n",
       "      <th>1</th>\n",
       "      <td>1.0</td>\n",
       "      <td>16.0</td>\n",
       "      <td>6.0</td>\n",
       "      <td>5.0</td>\n",
       "      <td>2.0</td>\n",
       "      <td>3.0</td>\n",
       "      <td>11.0</td>\n",
       "      <td>15.0</td>\n",
       "      <td>17.0</td>\n",
       "      <td>12.0</td>\n",
       "      <td>10.0</td>\n",
       "      <td>9.0</td>\n",
       "      <td>13.0</td>\n",
       "      <td>7.0</td>\n",
       "      <td>4.0</td>\n",
       "      <td>8.0</td>\n",
       "      <td>14.0</td>\n",
       "    </tr>\n",
       "    <tr>\n",
       "      <th>2</th>\n",
       "      <td>1.0</td>\n",
       "      <td>15.0</td>\n",
       "      <td>5.0</td>\n",
       "      <td>4.0</td>\n",
       "      <td>1.0</td>\n",
       "      <td>2.0</td>\n",
       "      <td>10.0</td>\n",
       "      <td>14.0</td>\n",
       "      <td>16.0</td>\n",
       "      <td>11.0</td>\n",
       "      <td>9.0</td>\n",
       "      <td>8.0</td>\n",
       "      <td>12.0</td>\n",
       "      <td>6.0</td>\n",
       "      <td>3.0</td>\n",
       "      <td>7.0</td>\n",
       "      <td>13.0</td>\n",
       "    </tr>\n",
       "    <tr>\n",
       "      <th>3</th>\n",
       "      <td>1.0</td>\n",
       "      <td>14.0</td>\n",
       "      <td>4.0</td>\n",
       "      <td>3.0</td>\n",
       "      <td>1.0</td>\n",
       "      <td>1.0</td>\n",
       "      <td>9.0</td>\n",
       "      <td>13.0</td>\n",
       "      <td>15.0</td>\n",
       "      <td>10.0</td>\n",
       "      <td>8.0</td>\n",
       "      <td>7.0</td>\n",
       "      <td>11.0</td>\n",
       "      <td>5.0</td>\n",
       "      <td>2.0</td>\n",
       "      <td>6.0</td>\n",
       "      <td>12.0</td>\n",
       "    </tr>\n",
       "    <tr>\n",
       "      <th>4</th>\n",
       "      <td>1.0</td>\n",
       "      <td>13.0</td>\n",
       "      <td>3.0</td>\n",
       "      <td>2.0</td>\n",
       "      <td>1.0</td>\n",
       "      <td>1.0</td>\n",
       "      <td>8.0</td>\n",
       "      <td>12.0</td>\n",
       "      <td>14.0</td>\n",
       "      <td>9.0</td>\n",
       "      <td>7.0</td>\n",
       "      <td>6.0</td>\n",
       "      <td>10.0</td>\n",
       "      <td>4.0</td>\n",
       "      <td>1.0</td>\n",
       "      <td>5.0</td>\n",
       "      <td>11.0</td>\n",
       "    </tr>\n",
       "    <tr>\n",
       "      <th>5</th>\n",
       "      <td>1.0</td>\n",
       "      <td>12.0</td>\n",
       "      <td>2.0</td>\n",
       "      <td>1.0</td>\n",
       "      <td>1.0</td>\n",
       "      <td>1.0</td>\n",
       "      <td>7.0</td>\n",
       "      <td>11.0</td>\n",
       "      <td>13.0</td>\n",
       "      <td>8.0</td>\n",
       "      <td>6.0</td>\n",
       "      <td>5.0</td>\n",
       "      <td>9.0</td>\n",
       "      <td>3.0</td>\n",
       "      <td>1.0</td>\n",
       "      <td>4.0</td>\n",
       "      <td>10.0</td>\n",
       "    </tr>\n",
       "    <tr>\n",
       "      <th>6</th>\n",
       "      <td>1.0</td>\n",
       "      <td>11.0</td>\n",
       "      <td>1.0</td>\n",
       "      <td>1.0</td>\n",
       "      <td>1.0</td>\n",
       "      <td>1.0</td>\n",
       "      <td>6.0</td>\n",
       "      <td>10.0</td>\n",
       "      <td>12.0</td>\n",
       "      <td>7.0</td>\n",
       "      <td>5.0</td>\n",
       "      <td>4.0</td>\n",
       "      <td>8.0</td>\n",
       "      <td>2.0</td>\n",
       "      <td>1.0</td>\n",
       "      <td>3.0</td>\n",
       "      <td>9.0</td>\n",
       "    </tr>\n",
       "    <tr>\n",
       "      <th>7</th>\n",
       "      <td>1.0</td>\n",
       "      <td>10.0</td>\n",
       "      <td>1.0</td>\n",
       "      <td>1.0</td>\n",
       "      <td>1.0</td>\n",
       "      <td>1.0</td>\n",
       "      <td>5.0</td>\n",
       "      <td>9.0</td>\n",
       "      <td>11.0</td>\n",
       "      <td>6.0</td>\n",
       "      <td>4.0</td>\n",
       "      <td>3.0</td>\n",
       "      <td>7.0</td>\n",
       "      <td>1.0</td>\n",
       "      <td>1.0</td>\n",
       "      <td>2.0</td>\n",
       "      <td>8.0</td>\n",
       "    </tr>\n",
       "    <tr>\n",
       "      <th>8</th>\n",
       "      <td>1.0</td>\n",
       "      <td>9.0</td>\n",
       "      <td>1.0</td>\n",
       "      <td>1.0</td>\n",
       "      <td>1.0</td>\n",
       "      <td>1.0</td>\n",
       "      <td>4.0</td>\n",
       "      <td>8.0</td>\n",
       "      <td>10.0</td>\n",
       "      <td>5.0</td>\n",
       "      <td>3.0</td>\n",
       "      <td>2.0</td>\n",
       "      <td>6.0</td>\n",
       "      <td>1.0</td>\n",
       "      <td>1.0</td>\n",
       "      <td>1.0</td>\n",
       "      <td>7.0</td>\n",
       "    </tr>\n",
       "    <tr>\n",
       "      <th>9</th>\n",
       "      <td>1.0</td>\n",
       "      <td>8.0</td>\n",
       "      <td>1.0</td>\n",
       "      <td>1.0</td>\n",
       "      <td>1.0</td>\n",
       "      <td>1.0</td>\n",
       "      <td>3.0</td>\n",
       "      <td>7.0</td>\n",
       "      <td>9.0</td>\n",
       "      <td>4.0</td>\n",
       "      <td>2.0</td>\n",
       "      <td>1.0</td>\n",
       "      <td>5.0</td>\n",
       "      <td>1.0</td>\n",
       "      <td>1.0</td>\n",
       "      <td>1.0</td>\n",
       "      <td>6.0</td>\n",
       "    </tr>\n",
       "    <tr>\n",
       "      <th>10</th>\n",
       "      <td>1.0</td>\n",
       "      <td>7.0</td>\n",
       "      <td>1.0</td>\n",
       "      <td>1.0</td>\n",
       "      <td>1.0</td>\n",
       "      <td>1.0</td>\n",
       "      <td>2.0</td>\n",
       "      <td>6.0</td>\n",
       "      <td>8.0</td>\n",
       "      <td>3.0</td>\n",
       "      <td>1.0</td>\n",
       "      <td>1.0</td>\n",
       "      <td>4.0</td>\n",
       "      <td>1.0</td>\n",
       "      <td>1.0</td>\n",
       "      <td>1.0</td>\n",
       "      <td>5.0</td>\n",
       "    </tr>\n",
       "    <tr>\n",
       "      <th>11</th>\n",
       "      <td>1.0</td>\n",
       "      <td>6.0</td>\n",
       "      <td>1.0</td>\n",
       "      <td>1.0</td>\n",
       "      <td>1.0</td>\n",
       "      <td>1.0</td>\n",
       "      <td>1.0</td>\n",
       "      <td>5.0</td>\n",
       "      <td>7.0</td>\n",
       "      <td>2.0</td>\n",
       "      <td>1.0</td>\n",
       "      <td>1.0</td>\n",
       "      <td>3.0</td>\n",
       "      <td>1.0</td>\n",
       "      <td>1.0</td>\n",
       "      <td>1.0</td>\n",
       "      <td>4.0</td>\n",
       "    </tr>\n",
       "    <tr>\n",
       "      <th>12</th>\n",
       "      <td>1.0</td>\n",
       "      <td>5.0</td>\n",
       "      <td>1.0</td>\n",
       "      <td>1.0</td>\n",
       "      <td>1.0</td>\n",
       "      <td>1.0</td>\n",
       "      <td>1.0</td>\n",
       "      <td>4.0</td>\n",
       "      <td>6.0</td>\n",
       "      <td>1.0</td>\n",
       "      <td>1.0</td>\n",
       "      <td>1.0</td>\n",
       "      <td>2.0</td>\n",
       "      <td>1.0</td>\n",
       "      <td>1.0</td>\n",
       "      <td>1.0</td>\n",
       "      <td>3.0</td>\n",
       "    </tr>\n",
       "    <tr>\n",
       "      <th>13</th>\n",
       "      <td>1.0</td>\n",
       "      <td>4.0</td>\n",
       "      <td>1.0</td>\n",
       "      <td>1.0</td>\n",
       "      <td>1.0</td>\n",
       "      <td>1.0</td>\n",
       "      <td>1.0</td>\n",
       "      <td>3.0</td>\n",
       "      <td>5.0</td>\n",
       "      <td>1.0</td>\n",
       "      <td>1.0</td>\n",
       "      <td>1.0</td>\n",
       "      <td>1.0</td>\n",
       "      <td>1.0</td>\n",
       "      <td>1.0</td>\n",
       "      <td>1.0</td>\n",
       "      <td>2.0</td>\n",
       "    </tr>\n",
       "    <tr>\n",
       "      <th>14</th>\n",
       "      <td>1.0</td>\n",
       "      <td>3.0</td>\n",
       "      <td>1.0</td>\n",
       "      <td>1.0</td>\n",
       "      <td>1.0</td>\n",
       "      <td>1.0</td>\n",
       "      <td>1.0</td>\n",
       "      <td>2.0</td>\n",
       "      <td>4.0</td>\n",
       "      <td>1.0</td>\n",
       "      <td>1.0</td>\n",
       "      <td>1.0</td>\n",
       "      <td>1.0</td>\n",
       "      <td>1.0</td>\n",
       "      <td>1.0</td>\n",
       "      <td>1.0</td>\n",
       "      <td>1.0</td>\n",
       "    </tr>\n",
       "    <tr>\n",
       "      <th>15</th>\n",
       "      <td>1.0</td>\n",
       "      <td>2.0</td>\n",
       "      <td>1.0</td>\n",
       "      <td>1.0</td>\n",
       "      <td>1.0</td>\n",
       "      <td>1.0</td>\n",
       "      <td>1.0</td>\n",
       "      <td>1.0</td>\n",
       "      <td>3.0</td>\n",
       "      <td>1.0</td>\n",
       "      <td>1.0</td>\n",
       "      <td>1.0</td>\n",
       "      <td>1.0</td>\n",
       "      <td>1.0</td>\n",
       "      <td>1.0</td>\n",
       "      <td>1.0</td>\n",
       "      <td>1.0</td>\n",
       "    </tr>\n",
       "    <tr>\n",
       "      <th>16</th>\n",
       "      <td>1.0</td>\n",
       "      <td>1.0</td>\n",
       "      <td>1.0</td>\n",
       "      <td>1.0</td>\n",
       "      <td>1.0</td>\n",
       "      <td>1.0</td>\n",
       "      <td>1.0</td>\n",
       "      <td>1.0</td>\n",
       "      <td>2.0</td>\n",
       "      <td>1.0</td>\n",
       "      <td>1.0</td>\n",
       "      <td>1.0</td>\n",
       "      <td>1.0</td>\n",
       "      <td>1.0</td>\n",
       "      <td>1.0</td>\n",
       "      <td>1.0</td>\n",
       "      <td>1.0</td>\n",
       "    </tr>\n",
       "  </tbody>\n",
       "</table>\n",
       "</div>"
      ],
      "text/plain": [
       "    dist  class_1  class_2  class_3  class_4  class_5  class_6  class_7   n_C  \\\n",
       "1    1.0     16.0      6.0      5.0      2.0      3.0     11.0     15.0  17.0   \n",
       "2    1.0     15.0      5.0      4.0      1.0      2.0     10.0     14.0  16.0   \n",
       "3    1.0     14.0      4.0      3.0      1.0      1.0      9.0     13.0  15.0   \n",
       "4    1.0     13.0      3.0      2.0      1.0      1.0      8.0     12.0  14.0   \n",
       "5    1.0     12.0      2.0      1.0      1.0      1.0      7.0     11.0  13.0   \n",
       "6    1.0     11.0      1.0      1.0      1.0      1.0      6.0     10.0  12.0   \n",
       "7    1.0     10.0      1.0      1.0      1.0      1.0      5.0      9.0  11.0   \n",
       "8    1.0      9.0      1.0      1.0      1.0      1.0      4.0      8.0  10.0   \n",
       "9    1.0      8.0      1.0      1.0      1.0      1.0      3.0      7.0   9.0   \n",
       "10   1.0      7.0      1.0      1.0      1.0      1.0      2.0      6.0   8.0   \n",
       "11   1.0      6.0      1.0      1.0      1.0      1.0      1.0      5.0   7.0   \n",
       "12   1.0      5.0      1.0      1.0      1.0      1.0      1.0      4.0   6.0   \n",
       "13   1.0      4.0      1.0      1.0      1.0      1.0      1.0      3.0   5.0   \n",
       "14   1.0      3.0      1.0      1.0      1.0      1.0      1.0      2.0   4.0   \n",
       "15   1.0      2.0      1.0      1.0      1.0      1.0      1.0      1.0   3.0   \n",
       "16   1.0      1.0      1.0      1.0      1.0      1.0      1.0      1.0   2.0   \n",
       "\n",
       "     n_H   n_O  n_N   n_P  n_S  n_X  DoU    MW  \n",
       "1   12.0  10.0  9.0  13.0  7.0  4.0  8.0  14.0  \n",
       "2   11.0   9.0  8.0  12.0  6.0  3.0  7.0  13.0  \n",
       "3   10.0   8.0  7.0  11.0  5.0  2.0  6.0  12.0  \n",
       "4    9.0   7.0  6.0  10.0  4.0  1.0  5.0  11.0  \n",
       "5    8.0   6.0  5.0   9.0  3.0  1.0  4.0  10.0  \n",
       "6    7.0   5.0  4.0   8.0  2.0  1.0  3.0   9.0  \n",
       "7    6.0   4.0  3.0   7.0  1.0  1.0  2.0   8.0  \n",
       "8    5.0   3.0  2.0   6.0  1.0  1.0  1.0   7.0  \n",
       "9    4.0   2.0  1.0   5.0  1.0  1.0  1.0   6.0  \n",
       "10   3.0   1.0  1.0   4.0  1.0  1.0  1.0   5.0  \n",
       "11   2.0   1.0  1.0   3.0  1.0  1.0  1.0   4.0  \n",
       "12   1.0   1.0  1.0   2.0  1.0  1.0  1.0   3.0  \n",
       "13   1.0   1.0  1.0   1.0  1.0  1.0  1.0   2.0  \n",
       "14   1.0   1.0  1.0   1.0  1.0  1.0  1.0   1.0  \n",
       "15   1.0   1.0  1.0   1.0  1.0  1.0  1.0   1.0  \n",
       "16   1.0   1.0  1.0   1.0  1.0  1.0  1.0   1.0  "
      ]
     },
     "execution_count": 8,
     "metadata": {},
     "output_type": "execute_result"
    }
   ],
   "source": [
    "rank_df = pd.DataFrame(rank_array, columns=['dist', 'class_1', 'class_2', 'class_3',\n",
    "       'class_4', 'class_5', 'class_6', 'class_7',\n",
    "       'n_C', 'n_H', 'n_O', 'n_N', 'n_P', 'n_S', 'n_X', 'DoU', 'MW', 'drop'])\n",
    "#rfe_results\n",
    "rank_df.drop(rank_df.index[0], inplace=True)\n",
    "rank_df.drop(['drop'], axis=1, inplace=True)\n",
    "rank_df"
   ]
  },
  {
   "cell_type": "code",
   "execution_count": 9,
   "metadata": {
    "scrolled": true
   },
   "outputs": [
    {
     "ename": "SyntaxError",
     "evalue": "EOL while scanning string literal (<ipython-input-9-151746c8ab22>, line 15)",
     "output_type": "error",
     "traceback": [
      "\u001b[1;36m  File \u001b[1;32m\"<ipython-input-9-151746c8ab22>\"\u001b[1;36m, line \u001b[1;32m15\u001b[0m\n\u001b[1;33m    df_raw.sort_values(by='1, inplace=True)\u001b[0m\n\u001b[1;37m                                           ^\u001b[0m\n\u001b[1;31mSyntaxError\u001b[0m\u001b[1;31m:\u001b[0m EOL while scanning string literal\n"
     ]
    }
   ],
   "source": [
    "rank_df.sum(axis=0)\n",
    "# lose MW, n_X, \n",
    "\n",
    "classes=['dist', 'enzyme_class_1', 'enzyme_class_2', 'enzyme_class_3',\n",
    "       'enzyme_class_4', 'enzyme_class_5', 'enzyme_class_6', 'enzyme_class_7',\n",
    "       'n_C', 'n_H', 'n_O', 'n_N', 'n_P', 'n_S', 'n_X', 'DoU', 'MW']\n",
    "scores=[16.0,136.0,31.0,26.0,17.0,19.0,71.0,121.0,152.0,82.0,61.0,52.0,94.0,37.0,22.0,44.0,107.0]  \n",
    "\n",
    "df_raw=pd.DataFrame([['dist', 'enzyme_class_1', 'enzyme_class_2', 'enzyme_class_3',\n",
    "       'enzyme_class_4', 'enzyme_class_5', 'enzyme_class_6', 'enzyme_class_7',\n",
    "       'n_C', 'n_H', 'n_O', 'n_N', 'n_P', 'n_S', 'n_X', 'DoU', 'MW'],\n",
    "[16.0,136.0,31.0,26.0,17.0,19.0,71.0,121.0,152.0,82.0,61.0,52.0,94.0,37.0,22.0,44.0,107.0]])\n",
    "df_raw.columns=df_raw.iloc[0]\n",
    "df_raw.reindex(df_raw.index.drop(0))\n",
    "df_raw.sort_values(by='1, inplace=True)"
   ]
  },
  {
   "cell_type": "code",
   "execution_count": 10,
   "metadata": {},
   "outputs": [],
   "source": [
    "make_df = pd.DataFrame(rank_df.sum(axis=0), columns=['score'])\n",
    "make_df.sort_values('score', axis=0, inplace=True)"
   ]
  },
  {
   "cell_type": "code",
   "execution_count": 13,
   "metadata": {},
   "outputs": [
    {
     "data": {
      "image/png": "[encoded data removed]",
      "text/plain": [
       "<Figure size 1600x1000 with 1 Axes>"
      ]
     },
     "metadata": {},
     "output_type": "display_data"
    }
   ],
   "source": [
    "import matplotlib.patches as patches\n",
    "\n",
    "a = 'firebrick'\n",
    "b = 'royalblue'\n",
    "fig, ax = plt.subplots(figsize=(16,10), facecolor='white', dpi= 100)\n",
    "ax.bar(x=make_df.index, y=0, height=make_df.score, color=[b,b,b,b,b,b,b,b,b,b,b,a,a,a,b,b,a], alpha=0.65, linewidth=18)\n",
    "ax.set_title('Feature Ranking', fontsize=24)\n",
    "ax.set_ylabel('Order of Selection', fontsize=16)\n",
    "ax.set_xlabel('Feature', fontsize=14)\n",
    "ax.set_xticklabels(labels=make_df.index, fontsize=13)\n",
    "ax.set_yticklabels(labels=['0','20','40','60','80','100','120','140'],fontsize=14)\n",
    "\n",
    "plt.show()\n",
    "fig.savefig('Feature Rankings.png')"
   ]
  },
  {
   "cell_type": "code",
   "execution_count": null,
   "metadata": {},
   "outputs": [],
   "source": []
  },
  {
   "cell_type": "code",
   "execution_count": null,
   "metadata": {},
   "outputs": [],
   "source": []
  },
  {
   "cell_type": "code",
   "execution_count": null,
   "metadata": {},
   "outputs": [],
   "source": []
  },
  {
   "cell_type": "code",
   "execution_count": null,
   "metadata": {},
   "outputs": [],
   "source": []
  },
  {
   "cell_type": "code",
   "execution_count": null,
   "metadata": {},
   "outputs": [],
   "source": [
    "rfe_results"
   ]
  },
  {
   "cell_type": "code",
   "execution_count": null,
   "metadata": {
    "scrolled": true
   },
   "outputs": [],
   "source": [
    "logreg2.fit(full_feature_train, np.ravel(full_reaction_train))\n",
    "logit_roc_auc = roc_auc_score(full_reaction_test, logreg2.predict(full_feature_test))\n",
    "fpr, tpr, thresholds = roc_curve(full_reaction_test, logreg2.predict_proba(full_feature_test)[:,1])\n",
    "plt.figure()\n",
    "plt.plot(fpr, tpr, label='Logistic Regression (area = %0.2f)' % logit_roc_auc)\n",
    "plt.plot([0, 1], [0, 1],'r--')\n",
    "plt.xlim([0.0, 1.0])\n",
    "plt.ylim([0.0, 1.05])\n",
    "plt.xlabel('False Positive Rate')\n",
    "plt.ylabel('True Positive Rate')\n",
    "plt.title('Receiver operating characteristic')\n",
    "plt.legend(loc=\"lower right\")\n",
    "plt.savefig('Log_ROC')\n",
    "plt.show()"
   ]
  },
  {
   "cell_type": "code",
   "execution_count": null,
   "metadata": {},
   "outputs": [],
   "source": [
    "logreg2.fit(feature_train, np.ravel(reaction_train))\n",
    "logit_roc_auc = roc_auc_score(reaction_test, logreg2.predict(feature_test))\n",
    "fpr, tpr, thresholds = roc_curve(reaction_test, logreg2.predict_proba(feature_test)[:,1])\n",
    "plt.figure()\n",
    "plt.plot(fpr, tpr, label='Logistic Regression (area = %0.2f)' % logit_roc_auc)\n",
    "plt.plot([0, 1], [0, 1],'r--')\n",
    "plt.xlim([0.0, 1.0])\n",
    "plt.ylim([0.0, 1.05])\n",
    "plt.xlabel('False Positive Rate')\n",
    "plt.ylabel('True Positive Rate')\n",
    "plt.title('Receiver operating characteristic')\n",
    "plt.legend(loc=\"lower right\")\n",
    "plt.savefig('Log_ROC')\n",
    "plt.show()"
   ]
  },
  {
   "cell_type": "code",
   "execution_count": null,
   "metadata": {
    "scrolled": true
   },
   "outputs": [],
   "source": [
    "feature_df.columns"
   ]
  },
  {
   "cell_type": "code",
   "execution_count": null,
   "metadata": {},
   "outputs": [],
   "source": [
    "non_enzyme_feature_df = feature_df.copy()\n",
    "non_enzyme_feature_df.drop(['enzyme_class_1', 'enzyme_class_2', 'enzyme_class_3',\n",
    "       'enzyme_class_4', 'enzyme_class_5', 'enzyme_class_6', 'enzyme_class_7'], axis=1, inplace=True)\n",
    "non_enzyme_feature_df\n",
    "\n"
   ]
  },
  {
   "cell_type": "code",
   "execution_count": null,
   "metadata": {},
   "outputs": [],
   "source": [
    "features = np.array(non_enzyme_feature_df) #shape balance array for regression\n",
    "reactions = list(master_df['reacts'])\n",
    "\n",
    "feature_train, feature_test, reaction_train, reaction_test = train_test_split(features, reactions,\n",
    "                                                  test_size=0.20, random_state=42)"
   ]
  },
  {
   "cell_type": "code",
   "execution_count": null,
   "metadata": {},
   "outputs": [],
   "source": [
    "non_enzyme_rfe_results = pd.DataFrame(columns=['score']) \n",
    "\n",
    "non_enzyme_rank_array = np.zeros((11,11))\n",
    "\n",
    "for i in range(1,11):\n",
    "    logreg2=linear_model.LogisticRegression(solver='liblinear', penalty='l1', random_state=1, max_iter=1000, class_weight='balanced') \n",
    "\n",
    "    rfe = RFE(logreg2, i)\n",
    "    rfe = rfe.fit(feature_train, np.ravel(reaction_train))\n",
    "    score = rfe.score(feature_test, reaction_test)\n",
    "\n",
    "    non_enzyme_rfe_results.loc[i, 'score'] = score\n",
    "    for j in range(0,10):  \n",
    "        non_enzyme_rank_array[i, j] = rfe.ranking_[j]\n",
    "        "
   ]
  },
  {
   "cell_type": "code",
   "execution_count": null,
   "metadata": {},
   "outputs": [],
   "source": [
    "non_enzyme_rank_df = pd.DataFrame(non_enzyme_rank_array, columns=['dist',\n",
    "       'n_C', 'n_H', 'n_O', 'n_N', 'n_P', 'n_S', 'n_X', 'DoU', 'MW', 'drop'])\n",
    "#rfe_results\n",
    "non_enzyme_rank_df.drop(non_enzyme_rank_df.index[0], inplace=True)\n",
    "non_enzyme_rank_df.drop(['drop'], axis=1, inplace=True)\n",
    "non_enzyme_rank_df"
   ]
  },
  {
   "cell_type": "code",
   "execution_count": null,
   "metadata": {},
   "outputs": [],
   "source": [
    "non_enzyme_rank_df.sum(axis=0)\n",
    "# ditch n_N, MW, n_H, n_P"
   ]
  },
  {
   "cell_type": "code",
   "execution_count": null,
   "metadata": {},
   "outputs": [],
   "source": [
    "features = list(master_df['dist']) #shape balance array for regression\n",
    "reactions = list(master_df['reacts'])\n",
    "\n",
    "feature_train, feature_test, reaction_train, reaction_test = train_test_split(features, reactions,\n",
    "                                                  test_size=0.20, random_state=42)\n",
    "a = len(feature_train)\n",
    "b = len(feature_test)\n",
    "feature_train = np.reshape(feature_train, (a, 1))\n",
    "feature_test = np.reshape(feature_test, (b,1))"
   ]
  },
  {
   "cell_type": "code",
   "execution_count": null,
   "metadata": {},
   "outputs": [],
   "source": [
    "\n",
    "dist_only_model=linear_model.LogisticRegression(solver='liblinear', penalty='l1', random_state=1, max_iter=1000, class_weight='balanced') \n",
    "\n",
    "dist_only_model.fit(feature_train, np.ravel(reaction_train))\n",
    "\n",
    "predictions = dist_only_model.predict(feature_test) # change me to the data you want to predict based on \n",
    "\n",
    "score = dist_only_model.score(feature_test, reaction_test)\n",
    "decision = dist_only_model.decision_function(feature_test)\n",
    "params = dist_only_model.get_params()\n",
    "pred_log = dist_only_model.predict_log_proba(feature_test)\n",
    "\n",
    "pred = dist_only_model.predict_proba(feature_test)\n",
    "\n",
    "score, pred, decision, dist_only_model.classes_, dist_only_model.coef_\n",
    "        "
   ]
  },
  {
   "cell_type": "markdown",
   "metadata": {},
   "source": [
    "kf = KFold(n_splits=10, shuffle=True)\n",
    "kf.get_n_splits(features, reactions)\n",
    "\n",
    "int_reactions = [int(i) for i in reactions]\n",
    "\n",
    "\n",
    "for train_index, test_index in kf.split(features, reactions):\n",
    "    #print(\"TRAIN:\", train_index, \"TEST:\", test_index)\n",
    "    feature_train, feature_test = features[train_index], features[test_index]\n",
    "    reaction_train, reaction_test = np.array(int_reactions)[train_index], np.array(int_reactions)[test_index]\n",
    "\n",
    "    reg = linear_model.LogisticRegression().fit(feature_train, reaction_train)\n",
    "    y_pred = reg.predict(feature_test)\n",
    "\n",
    " "
   ]
  },
  {
   "cell_type": "markdown",
   "metadata": {},
   "source": [
    "print(classification_report(reaction_test, y_pred))"
   ]
  },
  {
   "cell_type": "markdown",
   "metadata": {},
   "source": [
    "logit_roc_auc = roc_auc_score(reaction_test, reg.predict(feature_test))\n",
    "fpr, tpr, thresholds = roc_curve(reaction_test, reg.predict_proba(feature_test)[:,1])\n",
    "plt.figure()\n",
    "plt.plot(fpr, tpr, label='Logistic Regression (area = %0.2f)' % logit_roc_auc)\n",
    "plt.plot([0, 1], [0, 1],'r--')\n",
    "plt.xlim([0.0, 1.0])\n",
    "plt.ylim([0.0, 1.05])\n",
    "plt.xlabel('False Positive Rate')\n",
    "plt.ylabel('True Positive Rate')\n",
    "plt.title('Receiver operating characteristic')\n",
    "plt.legend(loc=\"lower right\")\n",
    "plt.savefig('Log_ROC')\n",
    "plt.show()"
   ]
  },
  {
   "cell_type": "markdown",
   "metadata": {},
   "source": [
    "plt.scatter(reaction_test, y_pred, alpha=0.1)\n",
    "plt.xlabel('True value')\n",
    "plt.ylabel('Predicted value')"
   ]
  },
  {
   "cell_type": "markdown",
   "metadata": {},
   "source": [
    "logreg3 = linear_model.LogisticRegression(solver='sag', max_iter=100000)\n",
    "logreg3.fit(feature_train, np.ravel(reaction_train))\n",
    "predictions3 = logreg3.predict(feature_test)"
   ]
  },
  {
   "cell_type": "markdown",
   "metadata": {},
   "source": [
    "confusion_matrix = confusion_matrix(reaction_test, predictions3)\n",
    "print(confusion_matrix)"
   ]
  },
  {
   "cell_type": "markdown",
   "metadata": {},
   "source": [
    "print(classification_report(reaction_test, predictions3))"
   ]
  },
  {
   "cell_type": "markdown",
   "metadata": {},
   "source": [
    "logit_roc_auc = roc_auc_score(reaction_test, logreg3.predict(feature_test))\n",
    "fpr, tpr, thresholds = roc_curve(reaction_test, logreg3.predict_proba(feature_test)[:,1])\n",
    "plt.figure()\n",
    "plt.plot(fpr, tpr, label='Logistic Regression (area = %0.2f)' % logit_roc_auc)\n",
    "plt.plot([0, 1], [0, 1],'r--')\n",
    "plt.xlim([0.0, 1.0])\n",
    "plt.ylim([0.0, 1.05])\n",
    "plt.xlabel('False Positive Rate')\n",
    "plt.ylabel('True Positive Rate')\n",
    "plt.title('Receiver operating characteristic')\n",
    "plt.legend(loc=\"lower right\")\n",
    "plt.savefig('Log_ROC')\n",
    "plt.show()"
   ]
  },
  {
   "cell_type": "markdown",
   "metadata": {},
   "source": [
    "logreg4 = linear_model.LogisticRegression(solver='lbfgs', max_iter=10000)\n",
    "logreg4.fit(feature_train, np.ravel(reaction_train))\n",
    "predictions4 = logreg4.predict(feature_test)"
   ]
  },
  {
   "cell_type": "markdown",
   "metadata": {},
   "source": [
    "logit_roc_auc = roc_auc_score(reaction_test, logreg4.predict(feature_test))\n",
    "fpr, tpr, thresholds = roc_curve(reaction_test, logreg4.predict_proba(feature_test)[:,1])\n",
    "plt.figure()\n",
    "plt.plot(fpr, tpr, label='Logistic Regression (area = %0.2f)' % logit_roc_auc)\n",
    "plt.plot([0, 1], [0, 1],'r--')\n",
    "plt.xlim([0.0, 1.0])\n",
    "plt.ylim([0.0, 1.05])\n",
    "plt.xlabel('False Positive Rate')\n",
    "plt.ylabel('True Positive Rate')\n",
    "plt.title('Receiver operating characteristic')\n",
    "plt.legend(loc=\"lower right\")\n",
    "plt.savefig('Log_ROC')\n",
    "plt.show()"
   ]
  },
  {
   "cell_type": "markdown",
   "metadata": {},
   "source": [
    "print(classification_report(reaction_test, predictions4))"
   ]
  }
 ],
 "metadata": {
  "kernelspec": {
   "display_name": "Python 3",
   "language": "python",
   "name": "python3"
  },
  "language_info": {
   "codemirror_mode": {
    "name": "ipython",
    "version": 3
   },
   "file_extension": ".py",
   "mimetype": "text/x-python",
   "name": "python",
   "nbconvert_exporter": "python",
   "pygments_lexer": "ipython3",
   "version": "3.7.0"
  }
 },
 "nbformat": 4,
 "nbformat_minor": 2
}
