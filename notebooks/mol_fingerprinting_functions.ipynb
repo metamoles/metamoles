{
 "cells": [
  {
   "cell_type": "code",
   "execution_count": 46,
   "metadata": {},
   "outputs": [],
   "source": [
    "#rdkit imports\n",
    "import rdkit\n",
    "from rdkit import Chem\n",
    "from rdkit.Chem import Draw\n",
    "from rdkit.Chem.EState import Fingerprinter\n",
    "from rdkit.Chem import Descriptors\n",
    "from rdkit.Chem.rdmolops import RDKFingerprint\n",
    "from rdkit.Chem.Fingerprints import FingerprintMols\n",
    "from rdkit import DataStructs\n",
    "from rdkit.Avalon.pyAvalonTools import GetAvalonFP\n",
    "\n",
    "#ml imports\n",
    "#from sklearn.preprocessing import StandardScaler\n",
    "#from sklearn import cross_validation\n",
    "#from sklearn import cross_validation\n",
    "#from sklearn.kernel_ridge import KernelRidge\n",
    "#from sklearn.linear_model import Ridge, LinearRegression\n",
    "#from sklearn.svm import SVR\n",
    "#from sklearn.neighbors import KNeighborsRegressor\n",
    "#from sklearn.gaussian_process import GaussianProcessRegressor\n",
    "#from sklearn.neural_network import MLPRegressor\n",
    "#from sklearn.ensemble import GradientBoostingRegressor, RandomForestRegressor\n",
    "#from sklearn.model_selection import GridSearchCV\n",
    "\n",
    "#housekeeping imports\n",
    "import pandas as pd\n",
    "import matplotlib\n",
    "import numpy as np\n",
    "import scipy as sp"
   ]
  },
  {
   "cell_type": "code",
   "execution_count": 36,
   "metadata": {},
   "outputs": [],
   "source": [
    "rapamycin_SMILES = 'CC1CCC2CC(C(=CC=CC=CC(CC(C(=O)C(C(C(=CC(C(=O)CC(OC(=O)C3CCCCN3C(=O)C(=O)C1(O2)O)C(C)CC4CCC(C(C4)OC)O)C)C)O)OC)C)C)C)OC'\n",
    "rapamycin_SMILES_isomeric = 'C[C@@H]1CC[C@H]2C[C@@H](/C(=C/C=C/C=C/[C@H](C[C@H](C(=O)[C@@H]([C@@H](/C(=C/[C@H](C(=O)C[C@H](OC(=O)[C@@H]3CCCCN3C(=O)C(=O)[C@@]1(O2)O)[C@H](C)C[C@@H]4CC[C@H]([C@@H](C4)OC)O)C)/C)O)OC)C)C)/C)OC'\n",
    "circumin_SMILES = 'COC1=C(C=CC(=C1)C=CC(=O)CC(=O)C=CC2=CC(=C(C=C2)O)OC)O'\n",
    "circumin_SMILES_isomeric = 'COC1=C(C=CC(=C1)/C=C/C(=O)CC(=O)/C=C/C2=CC(=C(C=C2)O)OC)O'"
   ]
  },
  {
   "cell_type": "code",
   "execution_count": 37,
   "metadata": {},
   "outputs": [
    {
     "data": {
      "image/png": "[encoded data removed]",
      "text/plain": [
       "<Figure size 72x72 with 1 Axes>"
      ]
     },
     "metadata": {
      "needs_background": "light"
     },
     "output_type": "display_data"
    }
   ],
   "source": [
    "mol0 = Chem.rdmolfiles.MolFromSmiles(rapamycin_SMILES_isomeric)\n",
    "fig = Draw.MolToMPL(mol0, size=(100, 100), wedgeBonds=True)"
   ]
  },
  {
   "cell_type": "code",
   "execution_count": 38,
   "metadata": {},
   "outputs": [
    {
     "data": {
      "image/png": "[encoded data removed]",
      "text/plain": [
       "<Figure size 72x72 with 1 Axes>"
      ]
     },
     "metadata": {
      "needs_background": "light"
     },
     "output_type": "display_data"
    }
   ],
   "source": [
    "mol1 = Chem.rdmolfiles.MolFromSmiles(circumin_SMILES_isomeric)\n",
    "fig = Draw.MolToMPL(mol1, size=(100, 100), wedgeBonds=True)"
   ]
  },
  {
   "cell_type": "code",
   "execution_count": 40,
   "metadata": {},
   "outputs": [],
   "source": [
    "foo0 = FingerprintMols.FingerprintMol(mol0)\n",
    "foo1 = FingerprintMols.FingerprintMol(mol1)"
   ]
  },
  {
   "cell_type": "code",
   "execution_count": 28,
   "metadata": {},
   "outputs": [],
   "source": [
    "def cast_as_array(bitvector):\n",
    "    bitstring = bitvector.ToBitString() #makes string of bits\n",
    "    map_ints = map(int, bitstring) #maps ints to string\n",
    "    return np.array(list(map_ints)) #lists string of ints"
   ]
  },
  {
   "cell_type": "code",
   "execution_count": 41,
   "metadata": {},
   "outputs": [
    {
     "data": {
      "text/plain": [
       "2048"
      ]
     },
     "execution_count": 41,
     "metadata": {},
     "output_type": "execute_result"
    }
   ],
   "source": [
    "arr0 = cast_as_array(foo0)\n",
    "len(arr0)"
   ]
  },
  {
   "cell_type": "code",
   "execution_count": 43,
   "metadata": {},
   "outputs": [
    {
     "data": {
      "text/plain": [
       "1024"
      ]
     },
     "execution_count": 43,
     "metadata": {},
     "output_type": "execute_result"
    }
   ],
   "source": [
    "arr1 = cast_as_array(foo1)\n",
    "len(arr1)"
   ]
  },
  {
   "cell_type": "code",
   "execution_count": 47,
   "metadata": {},
   "outputs": [
    {
     "data": {
      "text/plain": [
       "0.29751131221719457"
      ]
     },
     "execution_count": 47,
     "metadata": {},
     "output_type": "execute_result"
    }
   ],
   "source": [
    "DataStructs.FingerprintSimilarity(foo0, foo1, metric=DataStructs.TanimotoSimilarity)"
   ]
  },
  {
   "cell_type": "code",
   "execution_count": null,
   "metadata": {},
   "outputs": [],
   "source": []
  },
  {
   "cell_type": "code",
   "execution_count": null,
   "metadata": {},
   "outputs": [],
   "source": []
  }
 ],
 "metadata": {
  "kernelspec": {
   "display_name": "Python 3",
   "language": "python",
   "name": "python3"
  },
  "language_info": {
   "codemirror_mode": {
    "name": "ipython",
    "version": 3
   },
   "file_extension": ".py",
   "mimetype": "text/x-python",
   "name": "python",
   "nbconvert_exporter": "python",
   "pygments_lexer": "ipython3",
   "version": "3.6.8"
  }
 },
 "nbformat": 4,
 "nbformat_minor": 2
}
