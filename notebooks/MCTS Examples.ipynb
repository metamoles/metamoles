{
 "cells": [
  {
   "cell_type": "markdown",
   "metadata": {},
   "source": [
    "from https://github.com/brilee/python_uct"
   ]
  },
  {
   "cell_type": "code",
   "execution_count": 1,
   "metadata": {},
   "outputs": [],
   "source": [
    "import collections\n",
    "import numpy as np\n",
    "import math\n",
    "\n",
    "class UCTNode(): #the node object, it corresponds to a molecular state.\n",
    "    def __init__(self, mol_state, move, parent=None): #a given node needs a molecular state\n",
    "        self.mol_state = mol_state #associated State() object which is a molecular structure\n",
    "        self.move = move # if a node was made with a move, that move index is linked here\n",
    "        self.is_expanded = False # nodes start unexpanded\n",
    "        self.parent = parent  # Optional[UCTNode] (I think if it's not the root it should have a parent?)\n",
    "        self.children = {}  # Dict[move, UCTNode] starts with no children\n",
    "        self.child_priors = np.zeros([362], dtype=np.float32) # an array of probabilities, indicating the current preference for each followup move\n",
    "        self.child_number_visits = np.zeros([362], dtype=np.float32) # an array of the number of visits of each child\n",
    "        self.children_total_values = np.zeros([362], dtype=np.float32) # an array of the total values of each of the children\n",
    "        \n",
    "    \"\"\"Now that each node no longer knows about its own statistics, \n",
    "    we create aliases for a node’s statistics by using property getters and setters. \n",
    "    These allow us to transparently proxy these properties to the relevant entry in the parents’ child arrays.\"\"\"\n",
    "        \n",
    "    @property\n",
    "    def number_visits(self):\n",
    "        return self.parent.child_number_visits[self.move]\n",
    "\n",
    "    @number_visits.setter\n",
    "    def number_visits(self, value):\n",
    "        self.parent.child_number_visits[self.move] = value\n",
    "\n",
    "    @property\n",
    "    def total_value(self):\n",
    "        return self.parent.children_total_values[self.move]\n",
    "\n",
    "    @total_value.setter # self.move indexes the child to itself in the parent's children_total_values array. \n",
    "    def total_value(self, value):\n",
    "        self.parent.children_total_values[self.move] = value\n",
    "\n",
    "    def child_Q(self): # calculate Quality for the child arrays\n",
    "        return self.children_total_values / (1 + self.child_number_visits)\n",
    "\n",
    "    def child_U(self): # calculate Upper confidence bound for the child arrays\n",
    "        return math.sqrt(self.number_visits) * (self.child_priors / (1 + self.child_number_visits))\n",
    "\n",
    "    def best_child(self): #quickly finds the index of the child that has the highest aggregate of Q and U scores\n",
    "        return np.argmax(self.child_Q() + self.child_U()) \n",
    "\n",
    "    def select_leaf(self):\n",
    "        current = self\n",
    "        while current.is_expanded: # if not expanded immediately return self\n",
    "            best_move = current.best_child()\n",
    "            current = current.maybe_add_child(best_move)\n",
    "        return current\n",
    "\n",
    "    def expand(self, child_priors):\n",
    "        self.is_expanded = True\n",
    "        self.child_priors = child_priors\n",
    "\n",
    "    def maybe_add_child(self, move):\n",
    "        if move not in self.children:\n",
    "            self.children[move] = UCTNode(\n",
    "                self.mol_state.react(move), move, parent=self) # make a child with a reaction\n",
    "        return self.children[move]\n",
    "\n",
    "    def backup(self, value_estimate: float): #NEED to check \n",
    "        current = self\n",
    "        while current.parent is not None:\n",
    "            current.number_visits += 1\n",
    "            current.total_value += value_estimate# used to (value_estimate * self.mol_state.to_play) # inverts based on turn, should try to remove\n",
    "            current = current.parent #MIGHT not be right\n",
    "\n",
    "class DummyNode(object): # makes a node without any child values or parent\n",
    "    def __init__(self): \n",
    "        self.parent = None\n",
    "        self.children_total_values = collections.defaultdict(float) \n",
    "        self.child_number_visits = collections.defaultdict(float)\n",
    "\n",
    "def UCT_search(mol_state, num_reads):\n",
    "    root = UCTNode(mol_state, move=None, parent=DummyNode()) # initializes the search starting with the given mol_state\n",
    "# the parent is a dummy node because there shouldn't be a parent for the root molecule\n",
    "    for _ in range(num_reads):\n",
    "        leaf = root.select_leaf()\n",
    "        child_priors, value_estimate = NeuralNet.evaluate(leaf.mol_state)\n",
    "        leaf.expand(child_priors)\n",
    "        leaf.backup(value_estimate)\n",
    "    return np.argmax(root.child_number_visits)\n",
    "\n",
    "class NeuralNet(): #returns an array of probabilities for followup moves and a value estimation of the current node\n",
    "    @classmethod\n",
    "    def evaluate(self, mol_state):\n",
    "        return np.random.random([362]), np.random.random()\n",
    "\n",
    "class State(): # NEED to make sure move indexes map to reactions\n",
    "    def __init__(self, mol=None): #mol should be a molecule\n",
    "        self.mol = mol\n",
    "        self.name = str('foo') #SMILES or lookup method\n",
    "\n",
    "    def react(self, move):\n",
    "        return State(self.mol*move + np.random.random()) # eventually build and return a new structure"
   ]
  },
  {
   "cell_type": "code",
   "execution_count": 2,
   "metadata": {},
   "outputs": [
    {
     "name": "stdout",
     "output_type": "stream",
     "text": [
      "Took 1.168428897857666 sec to run 10000 times\n"
     ]
    }
   ],
   "source": [
    "num_reads = 10000\n",
    "import time\n",
    "tick = time.time()\n",
    "UCT_search(State(3), num_reads)\n",
    "tock = time.time()\n",
    "print(\"Took %s sec to run %s times\" % (tock - tick, num_reads))\n",
    "#import resource\n",
    "#print(\"Consumed %sB memory\" % resource.getrusage(resource.RUSAGE_SELF).ru_maxrss)"
   ]
  },
  {
   "cell_type": "code",
   "execution_count": null,
   "metadata": {},
   "outputs": [],
   "source": []
  }
 ],
 "metadata": {
  "kernelspec": {
   "display_name": "Python 3",
   "language": "python",
   "name": "python3"
  },
  "language_info": {
   "codemirror_mode": {
    "name": "ipython",
    "version": 3
   },
   "file_extension": ".py",
   "mimetype": "text/x-python",
   "name": "python",
   "nbconvert_exporter": "python",
   "pygments_lexer": "ipython3",
   "version": "3.6.8"
  }
 },
 "nbformat": 4,
 "nbformat_minor": 2
}
