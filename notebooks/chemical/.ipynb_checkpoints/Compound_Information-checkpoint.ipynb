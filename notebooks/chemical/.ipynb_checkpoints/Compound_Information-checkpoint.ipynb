{
 "cells": [
  {
   "cell_type": "code",
   "execution_count": 8,
   "metadata": {},
   "outputs": [],
   "source": [
    "from rdkit import Chem\n",
    "from rdkit.Chem import AllChem\n",
    "\n",
    "def count_C(mol):\n",
    "    return sum(1 for atom in mol.GetAtoms() if atom.GetAtomicNum() == 6)\n",
    "def count_O(mol):\n",
    "    return sum(1 for atom in mol.GetAtoms() if atom.GetAtomicNum() == 8)\n",
    "def count_N(mol):\n",
    "    return sum(1 for atom in mol.GetAtoms() if atom.GetAtomicNum() == 7)\n",
    "def count_P(mol):\n",
    "    return sum(1 for atom in mol.GetAtoms() if atom.GetAtomicNum() == 15)\n",
    "def count_S(mol):\n",
    "    return sum(1 for atom in mol.GetAtoms() if atom.GetAtomicNum() == 16)\n",
    "def count_X(mol):\n",
    "    return sum(1 for atom in mol.GetAtoms() if atom.GetAtomicNum() == 9 or atom.GetAtomicNum() == 17 or atom.GetAtomicNum() == 35 or atom.GetAtomicNum() == 53)\n",
    "def count_H(mol):\n",
    "    H = 0\n",
    "    for i in range(mol.GetNumAtoms()):\n",
    "        H += mol.GetAtomWithIdx(i).GetTotalNumHs(includeNeighbors=True)\n",
    "    return H\n",
    "\n",
    "def DoU(mol):\n",
    "    C = count_C(mol)\n",
    "    H = count_H(mol)\n",
    "    O = count_O(mol)\n",
    "    N = count_N(mol)\n",
    "    P = count_P(mol)\n",
    "    S = count_S(mol)\n",
    "    X = count_X(mol)\n",
    "    return int((2*C+2+N+P-X-H)/2)\n",
    "\n",
    "from rdkit.Chem.Descriptors import MolWt\n",
    "\n",
    "def cpd_inform(SMILES):\n",
    "    \n",
    "    \"\"\"A function for getting compound information from SMILES string\n",
    "    it received a SMILES string and return a dictionary of information consisted of number of C, H, O , N, P, S, X, Degree of Unsaturation and Molecular Weight\"\"\"\n",
    "    info = {}\n",
    "    mol = Chem.MolFromSmiles(SMILES)\n",
    "    info['n_C'] = count_C(mol)\n",
    "    info['n_H'] = count_H(mol)\n",
    "    info['n_O'] = count_O(mol)\n",
    "    info['n_N'] = count_N(mol)\n",
    "    info['n_P'] = count_P(mol)\n",
    "    info['n_S'] = count_S(mol)\n",
    "    info['n_X'] = count_X(mol)\n",
    "    info['DoU'] = DoU(mol)\n",
    "    info['MW'] = MolWt(mol)\n",
    "    \n",
    "    return info"
   ]
  },
  {
   "cell_type": "code",
   "execution_count": 9,
   "metadata": {},
   "outputs": [],
   "source": [
    "from rdkit import Chem\n",
    "from rdkit.Chem import AllChem\n",
    "from cpd_inform import cpd_inform\n",
    "def test_cpd_inform():\n",
    "    rapamycin = 'C[C@@H]1CC[C@H]2C[C@@H](/C(=C/C=C/C=C/[C@H](C[C@H](C(=O)[C@@H]([C@@H](/C(=C/[C@H](C(=O)C[C@H](OC(=O)[C@@H]3CCCCN3C(=O)C(=O)[C@@]1(O2)O)[C@H](C)C[C@@H]4CC[C@H]([C@@H](C4)OC)O)C)/C)O)OC)C)C)/C)OC'\n",
    "    test = cpd_inform(rapamycin)\n",
    "    \n",
    "    assert test['n_C'] == 51, \"Carbon count is incorrect\"\n",
    "    assert test['n_H'] == 79, \"Hydrogen count is incorrect\"\n",
    "    assert type(test['DoU']) == type(5), \"TypeError: Degree of Saturation should be an int\"\n",
    "    assert type(test['MW']) == type(1.0), \"TypeError: Molecular Weight should be float\"\n",
    "    \n",
    "    return 'Test pass, yayyyyyy'"
   ]
  },
  {
   "cell_type": "code",
   "execution_count": 10,
   "metadata": {},
   "outputs": [
    {
     "data": {
      "text/plain": [
       "{'n_C': 51,\n",
       " 'n_H': 79,\n",
       " 'n_O': 13,\n",
       " 'n_N': 1,\n",
       " 'n_P': 0,\n",
       " 'n_S': 0,\n",
       " 'n_X': 0,\n",
       " 'DoU': 13,\n",
       " 'MW': 914.1870000000001}"
      ]
     },
     "execution_count": 10,
     "metadata": {},
     "output_type": "execute_result"
    }
   ],
   "source": [
    "rapamycin = 'C[C@@H]1CC[C@H]2C[C@@H](/C(=C/C=C/C=C/[C@H](C[C@H](C(=O)[C@@H]([C@@H](/C(=C/[C@H](C(=O)C[C@H](OC(=O)[C@@H]3CCCCN3C(=O)C(=O)[C@@]1(O2)O)[C@H](C)C[C@@H]4CC[C@H]([C@@H](C4)OC)O)C)/C)O)OC)C)C)/C)OC'\n",
    "cpd_inform(rapamycin)"
   ]
  },
  {
   "cell_type": "code",
   "execution_count": null,
   "metadata": {},
   "outputs": [],
   "source": []
  }
 ],
 "metadata": {
  "kernelspec": {
   "display_name": "Python 3",
   "language": "python",
   "name": "python3"
  },
  "language_info": {
   "codemirror_mode": {
    "name": "ipython",
    "version": 3
   },
   "file_extension": ".py",
   "mimetype": "text/x-python",
   "name": "python",
   "nbconvert_exporter": "python",
   "pygments_lexer": "ipython3",
   "version": "3.6.8"
  }
 },
 "nbformat": 4,
 "nbformat_minor": 2
}
