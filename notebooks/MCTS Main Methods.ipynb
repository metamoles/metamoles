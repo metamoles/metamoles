{
 "cells": [
  {
   "cell_type": "markdown",
   "metadata": {},
   "source": [
    "(1) Selection. In the first 3N-MCTS phase, starting at the root node (the target molecule) of the search tree, the algorithm sequentially selects the most promising next position within the tree until a leaf node is reached (Fig. 2a). The algorithm balances the selection of high-value positions and unexplored positions. If a leaf node is visited for the first time, it is directly evaluated by a rollout. If it is visited for the second time, it is expanded by processing via the expansion policy.\n",
    "\n",
    "(2) Expansion. Now, the possible transformations determining the follow-up positions of the current position are selected by applying the expansion procedure. The predicted follow-up positions are added to the tree as children of the leaf node, and the most promising position is selected for rollout.\n",
    "\n",
    "(3) Rollout. This phase starts with checking the status of the position. If it is already solved, the algorithm directly receives a reward greater than 1 to encourage exploitation. Non-terminal states are subjected to a rollout, where actions are sampled from the rollout network recursively, until the state has been deconstructed into building blocks or a maximal depth is reached.\n",
    "\n",
    "(4) Update. If a solution has been found during rollout, a reward of 1 is received. Partial rewards are given if some, but not all, molecules in the state are solved. If no solution was found, a reward of –1 is received. Here, bespoke scoring functions for the problem at hand, such as process chemistry or small-scale medicinal chemistry, can also be supplied. Eventually, the tree is updated to incorporate the achieved reward by updating the position values.\n",
    "\n",
    "These four phases of 3N-MCTS are iterated until a time budget or maximal iteration count is exceeded. Finally, to obtain the synthesis plan, we repeatedly select the retrosynthetic step with the highest value until a solved position is reached, or a maximum depth has been exceeded, in which case the problem is unsolved."
   ]
  },
  {
   "cell_type": "code",
   "execution_count": 2,
   "metadata": {},
   "outputs": [],
   "source": [
    "import math\n",
    "import numpy as np\n",
    "import scipy as sp\n",
    "import matplotlib.pyplot as plot"
   ]
  },
  {
   "cell_type": "markdown",
   "metadata": {},
   "source": [
    "Example monte carlo pi approximation:"
   ]
  },
  {
   "cell_type": "code",
   "execution_count": 3,
   "metadata": {},
   "outputs": [
    {
     "data": {
      "image/png": "[encoded data removed]",
      "text/plain": [
       "<Figure size 432x288 with 1 Axes>"
      ]
     },
     "metadata": {
      "needs_background": "light"
     },
     "output_type": "display_data"
    }
   ],
   "source": [
    "l = []\n",
    "\n",
    "inside=0\n",
    "outside=0\n",
    "\n",
    "for i in range(0,10000):\n",
    "    x = np.random.uniform(low=-1,high=1)\n",
    "    y = np.random.uniform(low=-1,high=1)\n",
    "    l.append((x,y))\n",
    "    \n",
    "    if math.sqrt(x**2+y**2) < 1:\n",
    "        plot.scatter(x,y, c=\"r\")\n",
    "        inside+=1\n",
    "    else:\n",
    "        plot.scatter(x,y, c=\"b\")\n",
    "        outside+=1"
   ]
  },
  {
   "cell_type": "code",
   "execution_count": 4,
   "metadata": {},
   "outputs": [
    {
     "name": "stdout",
     "output_type": "stream",
     "text": [
      "pi is approximately 3.1528\n"
     ]
    }
   ],
   "source": [
    "pi_approx = (4*inside/(inside+outside))\n",
    "print(\"pi is approximately\",pi_approx)"
   ]
  },
  {
   "cell_type": "code",
   "execution_count": null,
   "metadata": {},
   "outputs": [],
   "source": []
  }
 ],
 "metadata": {
  "kernelspec": {
   "display_name": "Python 3",
   "language": "python",
   "name": "python3"
  },
  "language_info": {
   "codemirror_mode": {
    "name": "ipython",
    "version": 3
   },
   "file_extension": ".py",
   "mimetype": "text/x-python",
   "name": "python",
   "nbconvert_exporter": "python",
   "pygments_lexer": "ipython3",
   "version": "3.6.8"
  }
 },
 "nbformat": 4,
 "nbformat_minor": 2
}
