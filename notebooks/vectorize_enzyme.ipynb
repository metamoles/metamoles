{
 "cells": [
  {
   "cell_type": "code",
   "execution_count": 2,
   "metadata": {},
   "outputs": [],
   "source": [
    "import Bio\n",
    "from Bio.KEGG import REST\n",
    "from Bio.KEGG import Enzyme\n",
    "\n",
    "import gzip\n",
    "import pandas as pd\n",
    "import numpy as np\n",
    "import matplotlib as mpl\n",
    "import matplotlib.pyplot as plt\n",
    "import seaborn as sns"
   ]
  },
  {
   "cell_type": "code",
   "execution_count": 3,
   "metadata": {},
   "outputs": [],
   "source": [
    "enzyme_fields = [method for method in dir(Enzyme.Record()) if not method.startswith('_')]\n",
    "data_matrix = []\n",
    "\n",
    "with gzip.open('../datasets/KEGG_enzymes_all_data.gz', 'rt') as file:\n",
    "    for record in Enzyme.parse(file):\n",
    "        data_matrix.append([getattr(record, field) for field in enzyme_fields])"
   ]
  },
  {
   "cell_type": "code",
   "execution_count": 94,
   "metadata": {},
   "outputs": [],
   "source": [
    "def vectorize_enzyme(enzyme_df,entry_columnname):\n",
    "    entry_df = enzyme_df[[entry_columnname]]\n",
    "    vectorized_df = pd.concat([entry_df,pd.DataFrame(columns=['EC1','EC2','EC3','EC4','EC5','EC6','EC7'])], sort=True)\n",
    "    cols = newdf.columns.tolist()\n",
    "    #reordered columns\n",
    "    cols = [entry_columnname] + cols[1:8]\n",
    "    vectorized_df = vectorized_df[cols] \n",
    "    ECcols = cols[1:]\n",
    "    for index,row in newdf.iterrows():\n",
    "        ECclass = row[0][0]\n",
    "        for column in ECcols:\n",
    "            if ECclass ==  column[-1]:\n",
    "                vectorized_df.iloc[index,vectorized_df.columns.get_loc(column)] = 1\n",
    "            else:\n",
    "                vectorized_df.iloc[index,vectorized_df.columns.get_loc(column)] = 0\n",
    "    return vectorized_df"
   ]
  },
  {
   "cell_type": "code",
   "execution_count": 95,
   "metadata": {},
   "outputs": [],
   "source": [
    "vectorized_enzyme_df = vectorize_enzyme(enzyme_df,'entry')"
   ]
  },
  {
   "cell_type": "code",
   "execution_count": 97,
   "metadata": {},
   "outputs": [],
   "source": [
    "#vectorized_enzyme_df.to_csv(\"../datasets/vectorized_enzyme.csv\")"
   ]
  },
  {
   "cell_type": "code",
   "execution_count": null,
   "metadata": {},
   "outputs": [],
   "source": []
  }
 ],
 "metadata": {
  "kernelspec": {
   "display_name": "Python 3",
   "language": "python",
   "name": "python3"
  },
  "language_info": {
   "codemirror_mode": {
    "name": "ipython",
    "version": 3
   },
   "file_extension": ".py",
   "mimetype": "text/x-python",
   "name": "python",
   "nbconvert_exporter": "python",
   "pygments_lexer": "ipython3",
   "version": "3.6.5"
  }
 },
 "nbformat": 4,
 "nbformat_minor": 2
}
