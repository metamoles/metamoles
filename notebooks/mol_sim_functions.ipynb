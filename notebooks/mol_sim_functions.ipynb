{
 "cells": [
  {
   "cell_type": "code",
   "execution_count": 1,
   "metadata": {},
   "outputs": [],
   "source": [
    "#rdkit imports\n",
    "import rdkit\n",
    "from rdkit import Chem\n",
    "from rdkit.Chem import Draw\n",
    "from rdkit.Chem.EState import Fingerprinter\n",
    "from rdkit.Chem import Descriptors\n",
    "from rdkit.Chem import rdFMCS\n",
    "from rdkit.Chem.rdmolops import RDKFingerprint\n",
    "from rdkit.Chem.Fingerprints import FingerprintMols\n",
    "from rdkit import DataStructs\n",
    "from rdkit.Avalon.pyAvalonTools import GetAvalonFP\n",
    "\n",
    "#ml imports\n",
    "#from sklearn.preprocessing import StandardScaler\n",
    "#from sklearn import cross_validation\n",
    "#from sklearn import cross_validation\n",
    "#from sklearn.kernel_ridge import KernelRidge\n",
    "#from sklearn.linear_model import Ridge, LinearRegression\n",
    "#from sklearn.svm import SVR\n",
    "#from sklearn.neighbors import KNeighborsRegressor\n",
    "#from sklearn.gaussian_process import GaussianProcessRegressor\n",
    "#from sklearn.neural_network import MLPRegressor\n",
    "#from sklearn.ensemble import GradientBoostingRegressor, RandomForestRegressor\n",
    "#from sklearn.model_selection import GridSearchCV\n",
    "\n",
    "#housekeeping imports\n",
    "import pandas as pd\n",
    "import matplotlib\n",
    "import numpy as np\n",
    "import scipy as sp"
   ]
  },
  {
   "cell_type": "markdown",
   "metadata": {},
   "source": [
    "Maximum common substructure"
   ]
  },
  {
   "cell_type": "code",
   "execution_count": 2,
   "metadata": {},
   "outputs": [],
   "source": [
    "# finds maximum common substructure among list of molecule objects\n",
    "def get_mcs(input_df):      # gets a df containing SMILES strings of products\n",
    "    \n",
    "    mol_list = list(input_df['SMILES']) # converts product column to list\n",
    "\n",
    "    #for i in range(len(mol_list)): # converts SMILES strings to molecule objects\n",
    "        #if mol_list[i] = 'none'\n",
    "        #mol_list[i] = Chem.MolFromSmiles(mol_list[i])\n",
    "\n",
    "    #maximum_common_substructure = rdFMCS.FindMCS(mol_list)\n",
    "    \n",
    "    return mol_list #maximum_common_substructure\n",
    "\n",
    "#Draw.MolToImage(maximum_common_substructure, size=(300, 300), kekulize=False, wedgeBonds=True)"
   ]
  },
  {
   "cell_type": "markdown",
   "metadata": {},
   "source": [
    "Data cleaning"
   ]
  },
  {
   "cell_type": "code",
   "execution_count": 51,
   "metadata": {},
   "outputs": [],
   "source": [
    "input_df = pd.read_csv('~/OneDrive/Documents/Python/CLASSES/DIRECT/metamoles/datasets/playground_df_cleaned_kegg_with_smiles.csv')"
   ]
  },
  {
   "cell_type": "code",
   "execution_count": 52,
   "metadata": {},
   "outputs": [],
   "source": [
    "def input_data(input_df): #cleans input df and returns neccessary elements\n",
    "    for index, row in input_df.iterrows():\n",
    "        if row['SMILES'] == 'none':\n",
    "            input_df.drop(index, inplace=True)            \n",
    "        \n",
    "    return input_df"
   ]
  },
  {
   "cell_type": "code",
   "execution_count": 54,
   "metadata": {},
   "outputs": [],
   "source": [
    "def fingerprint_products(input_df): #fingerprints all products in a given df\n",
    "    \n",
    "    mol_list = []\n",
    "    fp_list = []\n",
    "    \n",
    "    for index, row in input_df.iterrows():\n",
    "        mol_list.append(Chem.rdmolfiles.MolFromSmiles(row['SMILES'])) #get mols from SMILES and add mols to list\n",
    "        fp_list.append(FingerprintMols.FingerprintMol(Chem.rdmolfiles.MolFromSmiles(row['SMILES']))) #get fingerprints from mols and and fingerprints to list\n",
    "        \n",
    "    input_df.insert(6, column='Mol', value=mol_list)\n",
    "    input_df.insert(7, column='Fingerprint', value= fp_list)\n",
    "            \n",
    "    return input_df"
   ]
  },
  {
   "cell_type": "code",
   "execution_count": 55,
   "metadata": {},
   "outputs": [],
   "source": [
    "input_df2 = fingerprint_products(input_df) #build df containing new Mol and Fingerprint columns"
   ]
  },
  {
   "cell_type": "markdown",
   "metadata": {},
   "source": [
    "split by enzyme"
   ]
  },
  {
   "cell_type": "code",
   "execution_count": 47,
   "metadata": {},
   "outputs": [],
   "source": [
    "def split_by_enzyme(input_df):\n",
    "    unique_enzymes = set(input_df['entry'].unique())\n",
    "    \n",
    "    enzyme_df_list = []\n",
    "    \n",
    "    for entry in unique_enzymes: #for each unique enzyme in the input dataframe...\n",
    "        \n",
    "        enzyme_df = pd.DataFrame(columns=input_df.columns) #...initialize a new dataframe with the same columns as the input dataframe...\n",
    "        \n",
    "        for index, row in input_df.iterrows(): #...iterate through the input dataframe...\n",
    "            \n",
    "            if row['entry'] == entry: #... and add product rows that correspond to the unique enzyme entry...\n",
    "                enzyme_df.loc[index] = row\n",
    "                \n",
    "        enzyme_df_list.append(enzyme_df) #...then add the completed dataframe of unique enzyme products to a list\n",
    "           \n",
    "    return enzyme_df_list #return list of dataframes"
   ]
  },
  {
   "cell_type": "code",
   "execution_count": 204,
   "metadata": {},
   "outputs": [],
   "source": [
    "def main(input_df):\n",
    "    \n",
    "    input_df = fingerprint_products(input_df)    #expand input df: generate mols from SMILES then generate fingerprints from mols, adding columns for each\n",
    "    \n",
    "    enzyme_df_list = split_by_enzyme(input_df)    #split expanded df by rows, grouped by enzyme entry (1.1.1.110 etc), into a list of dataframes\n",
    "    \n",
    "    master_df = pd.DataFrame()    #initialize output\n",
    "    \n",
    "    for enzyme_df in enzyme_df_list:    #loop through list of enzyme dataframes\n",
    "        \n",
    "        metric = sim_metric(input_df)    #get similarity matrix dataframe\n",
    "        \n",
    "        #for index, row in metric.iterrows():    #loop through similarity matrix\n",
    "            #enzyme_df['Dist'].loc[index] = metric.[0]loc[index]\n",
    "            \n",
    "        #add averaged distance calculated from metric\n",
    "    \n",
    "    # concatenate enzyme df onto master_df     \n",
    "    \n",
    "    return master_df\n",
    "        \n",
    "        "
   ]
  },
  {
   "cell_type": "markdown",
   "metadata": {},
   "source": [
    "similarity functions"
   ]
  },
  {
   "cell_type": "code",
   "execution_count": 57,
   "metadata": {},
   "outputs": [],
   "source": [
    "def sim_i_j(row_i, row_j):\n",
    "    \"\"\"DocString\"\"\"\n",
    "    return DataStructs.FingerprintSimilarity(row_i['Fingerprint'], row_j['Fingerprint'], metric=DataStructs.TanimotoSimilarity)"
   ]
  },
  {
   "cell_type": "code",
   "execution_count": 58,
   "metadata": {},
   "outputs": [],
   "source": [
    "def sim_i_all(input_df, index_i, row_i, metric):\n",
    "    \"\"\"DocString\"\"\"\n",
    "    for index_j, row_j in input_df.iterrows():\n",
    "        if index_j < index_i: #skip redundant rows\n",
    "            continue\n",
    "        elif index_i == index_j: #autocorrelate rows\n",
    "            metric.loc[index_i, index_j] = 1\n",
    "        else:\n",
    "            metric.loc[index_i, index_j] = sim_i_j(row_i, row_j) #fill matrix with calculated similarity at two positions at once \n",
    "            metric.loc[index_j, index_i] = metric.loc[index_i, index_j]\n",
    "    return "
   ]
  },
  {
   "cell_type": "code",
   "execution_count": 59,
   "metadata": {},
   "outputs": [],
   "source": [
    "def sim_metric(input_df):\n",
    "    \"\"\"DocString\"\"\"\n",
    "    metric = pd.DataFrame()\n",
    "    for index_i, row_i in input_df.iterrows():\n",
    "        sim_i_all(input_df, index_i, row_i, metric)\n",
    "    return metric"
   ]
  },
  {
   "cell_type": "code",
   "execution_count": 62,
   "metadata": {},
   "outputs": [
    {
     "data": {
      "text/html": [
       "<div>\n",
       "<style scoped>\n",
       "    .dataframe tbody tr th:only-of-type {\n",
       "        vertical-align: middle;\n",
       "    }\n",
       "\n",
       "    .dataframe tbody tr th {\n",
       "        vertical-align: top;\n",
       "    }\n",
       "\n",
       "    .dataframe thead th {\n",
       "        text-align: right;\n",
       "    }\n",
       "</style>\n",
       "<table border=\"1\" class=\"dataframe\">\n",
       "  <thead>\n",
       "    <tr style=\"text-align: right;\">\n",
       "      <th></th>\n",
       "      <th>23</th>\n",
       "      <th>24</th>\n",
       "      <th>25</th>\n",
       "      <th>26</th>\n",
       "    </tr>\n",
       "  </thead>\n",
       "  <tbody>\n",
       "    <tr>\n",
       "      <th>23</th>\n",
       "      <td>1.000000</td>\n",
       "      <td>0.507205</td>\n",
       "      <td>0.811594</td>\n",
       "      <td>0.495601</td>\n",
       "    </tr>\n",
       "    <tr>\n",
       "      <th>24</th>\n",
       "      <td>0.507205</td>\n",
       "      <td>1.000000</td>\n",
       "      <td>0.392713</td>\n",
       "      <td>0.720588</td>\n",
       "    </tr>\n",
       "    <tr>\n",
       "      <th>25</th>\n",
       "      <td>0.811594</td>\n",
       "      <td>0.392713</td>\n",
       "      <td>1.000000</td>\n",
       "      <td>0.358025</td>\n",
       "    </tr>\n",
       "    <tr>\n",
       "      <th>26</th>\n",
       "      <td>0.495601</td>\n",
       "      <td>0.720588</td>\n",
       "      <td>0.358025</td>\n",
       "      <td>1.000000</td>\n",
       "    </tr>\n",
       "  </tbody>\n",
       "</table>\n",
       "</div>"
      ],
      "text/plain": [
       "          23        24        25        26\n",
       "23  1.000000  0.507205  0.811594  0.495601\n",
       "24  0.507205  1.000000  0.392713  0.720588\n",
       "25  0.811594  0.392713  1.000000  0.358025\n",
       "26  0.495601  0.720588  0.358025  1.000000"
      ]
     },
     "execution_count": 62,
     "metadata": {},
     "output_type": "execute_result"
    }
   ],
   "source": [
    "dists = sim_metric(split_by_enzyme(input_df2)[0])\n",
    "dists"
   ]
  },
  {
   "cell_type": "code",
   "execution_count": 66,
   "metadata": {},
   "outputs": [
    {
     "ename": "TypeError",
     "evalue": "'type' object is not iterable",
     "output_type": "error",
     "traceback": [
      "\u001b[1;31m---------------------------------------------------------------------------\u001b[0m",
      "\u001b[1;31mTypeError\u001b[0m                                 Traceback (most recent call last)",
      "\u001b[1;32m<ipython-input-66-24ed6e2eaa25>\u001b[0m in \u001b[0;36m<module>\u001b[1;34m\u001b[0m\n\u001b[0;32m      2\u001b[0m     \u001b[0mlista\u001b[0m \u001b[1;33m=\u001b[0m \u001b[0mlist\u001b[0m\u001b[1;33m(\u001b[0m\u001b[0mrow\u001b[0m\u001b[1;33m)\u001b[0m\u001b[1;33m\u001b[0m\u001b[1;33m\u001b[0m\u001b[0m\n\u001b[0;32m      3\u001b[0m     \u001b[0mlista\u001b[0m\u001b[1;33m.\u001b[0m\u001b[0mremove\u001b[0m\u001b[1;33m(\u001b[0m\u001b[1;36m1.0\u001b[0m\u001b[1;33m)\u001b[0m\u001b[1;33m\u001b[0m\u001b[1;33m\u001b[0m\u001b[0m\n\u001b[1;32m----> 4\u001b[1;33m \u001b[0msum\u001b[0m\u001b[1;33m(\u001b[0m\u001b[0mlist\u001b[0m\u001b[1;33m)\u001b[0m\u001b[1;33m/\u001b[0m\u001b[0mlen\u001b[0m\u001b[1;33m(\u001b[0m\u001b[0mlist\u001b[0m\u001b[1;33m)\u001b[0m\u001b[1;33m\u001b[0m\u001b[1;33m\u001b[0m\u001b[0m\n\u001b[0m",
      "\u001b[1;31mTypeError\u001b[0m: 'type' object is not iterable"
     ]
    }
   ],
   "source": []
  },
  {
   "cell_type": "code",
   "execution_count": null,
   "metadata": {},
   "outputs": [],
   "source": []
  }
 ],
 "metadata": {
  "kernelspec": {
   "display_name": "Python 3",
   "language": "python",
   "name": "python3"
  },
  "language_info": {
   "codemirror_mode": {
    "name": "ipython",
    "version": 3
   },
   "file_extension": ".py",
   "mimetype": "text/x-python",
   "name": "python",
   "nbconvert_exporter": "python",
   "pygments_lexer": "ipython3",
   "version": "3.6.8"
  }
 },
 "nbformat": 4,
 "nbformat_minor": 2
}
