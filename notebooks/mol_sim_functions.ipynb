{
 "cells": [
  {
   "cell_type": "code",
   "execution_count": 43,
   "metadata": {},
   "outputs": [],
   "source": [
    "#rdkit imports\n",
    "import rdkit\n",
    "from rdkit import Chem\n",
    "from rdkit.Chem import Draw\n",
    "from rdkit.Chem.EState import Fingerprinter\n",
    "from rdkit.Chem import Descriptors\n",
    "from rdkit.Chem import rdFMCS\n",
    "from rdkit.Chem.rdmolops import RDKFingerprint\n",
    "from rdkit.Chem.Fingerprints import FingerprintMols\n",
    "from rdkit import DataStructs\n",
    "from rdkit.Avalon.pyAvalonTools import GetAvalonFP\n",
    "\n",
    "#housekeeping imports\n",
    "import pandas as pd\n",
    "import matplotlib\n",
    "import numpy as np\n",
    "import scipy as sp"
   ]
  },
  {
   "cell_type": "markdown",
   "metadata": {},
   "source": [
    "Maximum common substructure (not currently in use)"
   ]
  },
  {
   "cell_type": "code",
   "execution_count": 44,
   "metadata": {},
   "outputs": [],
   "source": [
    "# finds maximum common substructure among list of molecule objects\n",
    "def get_mcs(input_df):      # gets a df containing SMILES strings of products\n",
    "    \n",
    "    mol_list = list(input_df['SMILES']) # converts product column to list\n",
    "\n",
    "    #for i in range(len(mol_list)): # converts SMILES strings to molecule objects\n",
    "        #if mol_list[i] = 'none'\n",
    "        #mol_list[i] = Chem.MolFromSmiles(mol_list[i])\n",
    "\n",
    "    #maximum_common_substructure = rdFMCS.FindMCS(mol_list)\n",
    "    \n",
    "    return mol_list #maximum_common_substructure\n",
    "\n",
    "#Draw.MolToImage(maximum_common_substructure, size=(300, 300), kekulize=False, wedgeBonds=True)"
   ]
  },
  {
   "cell_type": "markdown",
   "metadata": {},
   "source": [
    "Data cleaning"
   ]
  },
  {
   "cell_type": "code",
   "execution_count": 62,
   "metadata": {},
   "outputs": [],
   "source": [
    "input_df = pd.read_csv('~/OneDrive/Documents/Python/CLASSES/DIRECT/metamoles/datasets/playground_df_cleaned_kegg_with_smiles.csv')"
   ]
  },
  {
   "cell_type": "code",
   "execution_count": 54,
   "metadata": {},
   "outputs": [],
   "source": [
    "def input_data(input_df): #cleans input df and returns neccessary elements\n",
    "    '''DocString'''\n",
    "    \n",
    "    for index, row in input_df.iterrows():\n",
    "        \n",
    "        if row['SMILES'] == 'none':\n",
    "            \n",
    "            input_df.drop(index, inplace=True)            \n",
    "        \n",
    "    return input_df"
   ]
  },
  {
   "cell_type": "code",
   "execution_count": 55,
   "metadata": {},
   "outputs": [],
   "source": [
    "#input_df = input_data(input_df)"
   ]
  },
  {
   "cell_type": "code",
   "execution_count": 56,
   "metadata": {},
   "outputs": [],
   "source": [
    "def fingerprint_products(input_df): #fingerprints all products in a given df\n",
    "    '''DocString'''\n",
    "    \n",
    "    mol_list = []\n",
    "    fp_list = []\n",
    "    \n",
    "    for index, row in input_df.iterrows():\n",
    "        mol_list.append(Chem.rdmolfiles.MolFromSmiles(row['SMILES'])) #get mols from SMILES and add mols to list\n",
    "        fp_list.append(FingerprintMols.FingerprintMol(Chem.rdmolfiles.MolFromSmiles(row['SMILES']))) #get fingerprints from mols and and fingerprints to list\n",
    "        \n",
    "    input_df.insert(6, column='Mol', value=mol_list)\n",
    "    input_df.insert(7, column='Fingerprint', value= fp_list)\n",
    "            \n",
    "    return input_df"
   ]
  },
  {
   "cell_type": "code",
   "execution_count": 57,
   "metadata": {},
   "outputs": [],
   "source": [
    "#input_df2 = fingerprint_products(input_data(input_df)) #build df containing new Mol and Fingerprint columns"
   ]
  },
  {
   "cell_type": "markdown",
   "metadata": {},
   "source": [
    "split by enzyme"
   ]
  },
  {
   "cell_type": "code",
   "execution_count": 58,
   "metadata": {},
   "outputs": [],
   "source": [
    "def split_by_enzyme(input_df):\n",
    "    '''DocString'''\n",
    "    \n",
    "    unique_enzymes = set(input_df['entry'].unique())\n",
    "    \n",
    "    enzyme_df_list = []\n",
    "    \n",
    "    for entry in unique_enzymes: #for each unique enzyme in the input dataframe...\n",
    "        \n",
    "        enzyme_df = pd.DataFrame(columns=input_df.columns) #...initialize a new dataframe with the same columns as the input dataframe...\n",
    "        \n",
    "        for index, row in input_df.iterrows(): #...iterate through the input dataframe...\n",
    "            \n",
    "            if row['entry'] == entry: #... and add product rows that correspond to the unique enzyme entry...\n",
    "                enzyme_df.loc[index] = row\n",
    "                \n",
    "        enzyme_df_list.append(enzyme_df) #...then add the completed dataframe of unique enzyme products to a list\n",
    "           \n",
    "    return enzyme_df_list #return list of dataframes"
   ]
  },
  {
   "cell_type": "code",
   "execution_count": 59,
   "metadata": {},
   "outputs": [],
   "source": [
    "def main(input_df):\n",
    "    '''DocString'''\n",
    "        \n",
    "    input_df = fingerprint_products(input_data(input_df))    #expand input df: generate mols from SMILES then generate fingerprints from mols, adding columns for each\n",
    "    \n",
    "    enzyme_df_list = split_by_enzyme(input_df)    #split expanded df by rows, grouped by enzyme entry (1.1.1.110 etc), into a list of dataframes\n",
    "    \n",
    "    for enzyme_df in enzyme_df_list:    #loop through list of enzyme dataframes\n",
    "        \n",
    "        enzyme_df['Dist'] = '' #initialize distance column\n",
    "        \n",
    "        metric = sim_metric(enzyme_df) #get similarity matrix dataframe\n",
    "        \n",
    "        vals = metric.values #use np array of similarity matrix\n",
    "        \n",
    "        start_at = 1 #skip autocorrelation\n",
    "        \n",
    "        dist_list =[] #initialize list\n",
    "        \n",
    "        for i in range(len(vals)-1): #row of matrix except for last row\n",
    "            \n",
    "            for j in range(start_at, len(vals)): #col of matrix skipping first column\n",
    "                \n",
    "                dist_list.append(vals[i][j]) #add distance value to list\n",
    "            \n",
    "            start_at += 1 #start at higher index to skip redundancy\n",
    "        \n",
    "        avg_dist = sum(dist_list)/len(dist_list) #compute average distance\n",
    "        \n",
    "        for index, row in enzyme_df.iterrows():    #loop through enzyme dataframe \n",
    "            enzyme_df['Dist'].loc[index] = avg_dist #add averaged distance to each product row of enzyme dataframe\n",
    "    \n",
    "    master_df = pd.concat(enzyme_df_list) #concatenate enzyme dataframes into master_df\n",
    "    \n",
    "    return master_df"
   ]
  },
  {
   "cell_type": "code",
   "execution_count": 63,
   "metadata": {},
   "outputs": [
    {
     "data": {
      "text/html": [
       "<div>\n",
       "<style scoped>\n",
       "    .dataframe tbody tr th:only-of-type {\n",
       "        vertical-align: middle;\n",
       "    }\n",
       "\n",
       "    .dataframe tbody tr th {\n",
       "        vertical-align: top;\n",
       "    }\n",
       "\n",
       "    .dataframe thead th {\n",
       "        text-align: right;\n",
       "    }\n",
       "</style>\n",
       "<table border=\"1\" class=\"dataframe\">\n",
       "  <thead>\n",
       "    <tr style=\"text-align: right;\">\n",
       "      <th></th>\n",
       "      <th>Unnamed: 0</th>\n",
       "      <th>entry</th>\n",
       "      <th>KEGG</th>\n",
       "      <th>PubChem</th>\n",
       "      <th>CID</th>\n",
       "      <th>SMILES</th>\n",
       "      <th>Mol</th>\n",
       "      <th>Fingerprint</th>\n",
       "      <th>Dist</th>\n",
       "    </tr>\n",
       "  </thead>\n",
       "  <tbody>\n",
       "    <tr>\n",
       "      <th>17</th>\n",
       "      <td>6</td>\n",
       "      <td>1.1.1.237</td>\n",
       "      <td>C03964</td>\n",
       "      <td>6685</td>\n",
       "      <td>440177</td>\n",
       "      <td>C1=CC(=CC=C1C[C@H](C(=O)O)O)O</td>\n",
       "      <td>&lt;rdkit.Chem.rdchem.Mol object at 0x00000243344...</td>\n",
       "      <td>[0, 0, 1, 0, 0, 0, 0, 0, 0, 1, 0, 0, 1, 0, 0, ...</td>\n",
       "      <td>0.69139</td>\n",
       "    </tr>\n",
       "    <tr>\n",
       "      <th>18</th>\n",
       "      <td>9</td>\n",
       "      <td>1.1.1.237</td>\n",
       "      <td>C01179</td>\n",
       "      <td>4406</td>\n",
       "      <td>979</td>\n",
       "      <td>C1=CC(=CC=C1CC(=O)C(=O)O)O</td>\n",
       "      <td>&lt;rdkit.Chem.rdchem.Mol object at 0x00000243383...</td>\n",
       "      <td>[0, 1, 1, 0, 1, 0, 0, 1, 0, 1, 0, 0, 1, 0, 0, ...</td>\n",
       "      <td>0.69139</td>\n",
       "    </tr>\n",
       "    <tr>\n",
       "      <th>19</th>\n",
       "      <td>24</td>\n",
       "      <td>1.1.1.237</td>\n",
       "      <td>C04045</td>\n",
       "      <td>6746</td>\n",
       "      <td>165198</td>\n",
       "      <td>C1=CC(=C(C=C1CC(=O)C(=O)O)O)O</td>\n",
       "      <td>&lt;rdkit.Chem.rdchem.Mol object at 0x00000243383...</td>\n",
       "      <td>[0, 1, 1, 0, 1, 0, 0, 1, 0, 1, 0, 0, 1, 0, 0, ...</td>\n",
       "      <td>0.69139</td>\n",
       "    </tr>\n",
       "    <tr>\n",
       "      <th>43</th>\n",
       "      <td>13</td>\n",
       "      <td>1.1.1.325</td>\n",
       "      <td>C03684</td>\n",
       "      <td>6459</td>\n",
       "      <td>135398695</td>\n",
       "      <td>CC(=O)C(=O)C1CNC2=C(N1)C(=O)NC(=N2)N</td>\n",
       "      <td>&lt;rdkit.Chem.rdchem.Mol object at 0x00000243383...</td>\n",
       "      <td>[1, 1, 0, 1, 1, 1, 0, 0, 0, 0, 0, 1, 0, 1, 0, ...</td>\n",
       "      <td>0.620358</td>\n",
       "    </tr>\n",
       "    <tr>\n",
       "      <th>44</th>\n",
       "      <td>15</td>\n",
       "      <td>1.1.1.325</td>\n",
       "      <td>C00835</td>\n",
       "      <td>4093</td>\n",
       "      <td>135398579</td>\n",
       "      <td>C[C@@H](C(=O)C1=NC2=C(NC1)N=C(NC2=O)N)O</td>\n",
       "      <td>&lt;rdkit.Chem.rdchem.Mol object at 0x00000243383...</td>\n",
       "      <td>[1, 0, 0, 0, 1, 1, 1, 1, 0, 0, 0, 1, 0, 1, 0, ...</td>\n",
       "      <td>0.620358</td>\n",
       "    </tr>\n",
       "  </tbody>\n",
       "</table>\n",
       "</div>"
      ],
      "text/plain": [
       "   Unnamed: 0      entry    KEGG PubChem        CID  \\\n",
       "17          6  1.1.1.237  C03964    6685     440177   \n",
       "18          9  1.1.1.237  C01179    4406        979   \n",
       "19         24  1.1.1.237  C04045    6746     165198   \n",
       "43         13  1.1.1.325  C03684    6459  135398695   \n",
       "44         15  1.1.1.325  C00835    4093  135398579   \n",
       "\n",
       "                                     SMILES  \\\n",
       "17            C1=CC(=CC=C1C[C@H](C(=O)O)O)O   \n",
       "18               C1=CC(=CC=C1CC(=O)C(=O)O)O   \n",
       "19            C1=CC(=C(C=C1CC(=O)C(=O)O)O)O   \n",
       "43     CC(=O)C(=O)C1CNC2=C(N1)C(=O)NC(=N2)N   \n",
       "44  C[C@@H](C(=O)C1=NC2=C(NC1)N=C(NC2=O)N)O   \n",
       "\n",
       "                                                  Mol  \\\n",
       "17  <rdkit.Chem.rdchem.Mol object at 0x00000243344...   \n",
       "18  <rdkit.Chem.rdchem.Mol object at 0x00000243383...   \n",
       "19  <rdkit.Chem.rdchem.Mol object at 0x00000243383...   \n",
       "43  <rdkit.Chem.rdchem.Mol object at 0x00000243383...   \n",
       "44  <rdkit.Chem.rdchem.Mol object at 0x00000243383...   \n",
       "\n",
       "                                          Fingerprint      Dist  \n",
       "17  [0, 0, 1, 0, 0, 0, 0, 0, 0, 1, 0, 0, 1, 0, 0, ...   0.69139  \n",
       "18  [0, 1, 1, 0, 1, 0, 0, 1, 0, 1, 0, 0, 1, 0, 0, ...   0.69139  \n",
       "19  [0, 1, 1, 0, 1, 0, 0, 1, 0, 1, 0, 0, 1, 0, 0, ...   0.69139  \n",
       "43  [1, 1, 0, 1, 1, 1, 0, 0, 0, 0, 0, 1, 0, 1, 0, ...  0.620358  \n",
       "44  [1, 0, 0, 0, 1, 1, 1, 1, 0, 0, 0, 1, 0, 1, 0, ...  0.620358  "
      ]
     },
     "execution_count": 63,
     "metadata": {},
     "output_type": "execute_result"
    }
   ],
   "source": [
    "main(input_df).head()"
   ]
  },
  {
   "cell_type": "markdown",
   "metadata": {},
   "source": [
    "similarity functions"
   ]
  },
  {
   "cell_type": "code",
   "execution_count": 8,
   "metadata": {},
   "outputs": [],
   "source": [
    "def sim_i_j(row_i, row_j):\n",
    "    \"\"\"DocString\"\"\"\n",
    "    return DataStructs.FingerprintSimilarity(row_i['Fingerprint'], row_j['Fingerprint'], metric=DataStructs.TanimotoSimilarity)"
   ]
  },
  {
   "cell_type": "code",
   "execution_count": 9,
   "metadata": {},
   "outputs": [],
   "source": [
    "def sim_i_all(input_df, index_i, row_i, metric):\n",
    "    \"\"\"DocString\"\"\"\n",
    "    for index_j, row_j in input_df.iterrows():\n",
    "        if index_j < index_i: #skip redundant rows\n",
    "            continue\n",
    "        elif index_i == index_j: #autocorrelate rows\n",
    "            metric.loc[index_i, index_j] = 1\n",
    "        else:\n",
    "            metric.loc[index_i, index_j] = sim_i_j(row_i, row_j) #fill matrix with calculated similarity at two positions at once \n",
    "            metric.loc[index_j, index_i] = metric.loc[index_i, index_j]\n",
    "    return "
   ]
  },
  {
   "cell_type": "code",
   "execution_count": 10,
   "metadata": {},
   "outputs": [],
   "source": [
    "def sim_metric(input_df):\n",
    "    \"\"\"DocString\"\"\"\n",
    "    metric = pd.DataFrame()\n",
    "    for index_i, row_i in input_df.iterrows():\n",
    "        sim_i_all(input_df, index_i, row_i, metric)\n",
    "    return metric"
   ]
  }
 ],
 "metadata": {
  "kernelspec": {
   "display_name": "Python 3",
   "language": "python",
   "name": "python3"
  },
  "language_info": {
   "codemirror_mode": {
    "name": "ipython",
    "version": 3
   },
   "file_extension": ".py",
   "mimetype": "text/x-python",
   "name": "python",
   "nbconvert_exporter": "python",
   "pygments_lexer": "ipython3",
   "version": "3.6.8"
  }
 },
 "nbformat": 4,
 "nbformat_minor": 2
}
