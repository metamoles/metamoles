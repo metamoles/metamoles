{
 "cells": [
  {
   "cell_type": "code",
   "execution_count": 6,
   "metadata": {},
   "outputs": [],
   "source": [
    "import rdkit\n",
    "from rdkit import Chem\n",
    "from rdkit.Chem import Draw"
   ]
  },
  {
   "cell_type": "markdown",
   "metadata": {},
   "source": [
    "molecule is [rapamycin](https://pubchem.ncbi.nlm.nih.gov/compound/rapamycin#section=2D-Structure)"
   ]
  },
  {
   "cell_type": "code",
   "execution_count": 12,
   "metadata": {},
   "outputs": [],
   "source": [
    "rapamycin_SMILES = 'CC1CCC2CC(C(=CC=CC=CC(CC(C(=O)C(C(C(=CC(C(=O)CC(OC(=O)C3CCCCN3C(=O)C(=O)C1(O2)O)C(C)CC4CCC(C(C4)OC)O)C)C)O)OC)C)C)C)OC'\n",
    "ramapycin_SMILES_isomeric = 'C[C@@H]1CC[C@H]2C[C@@H](/C(=C/C=C/C=C/[C@H](C[C@H](C(=O)[C@@H]([C@@H](/C(=C/[C@H](C(=O)C[C@H](OC(=O)[C@@H]3CCCCN3C(=O)C(=O)[C@@]1(O2)O)[C@H](C)C[C@@H]4CC[C@H]([C@@H](C4)OC)O)C)/C)O)OC)C)C)/C)OC'"
   ]
  },
  {
   "cell_type": "code",
   "execution_count": 33,
   "metadata": {},
   "outputs": [
    {
     "data": {
      "image/png": "[encoded data removed]",
      "text/plain": [
       "<PIL.Image.Image image mode=RGB size=300x300 at 0x1A91FE08518>"
      ]
     },
     "execution_count": 33,
     "metadata": {},
     "output_type": "execute_result"
    }
   ],
   "source": [
    "mol = Chem.rdmolfiles.MolFromSmiles(ramapycin_SMILES_isomeric)\n",
    "Draw.MolToImage(mol, size=(300, 300), wedgeBonds=True)"
   ]
  },
  {
   "cell_type": "markdown",
   "metadata": {},
   "source": [
    "maximal common substructure code"
   ]
  },
  {
   "cell_type": "code",
   "execution_count": 29,
   "metadata": {},
   "outputs": [],
   "source": [
    "import pandas as pd\n",
    "from rdkit.Chem import rdFMCS"
   ]
  },
  {
   "cell_type": "code",
   "execution_count": 27,
   "metadata": {},
   "outputs": [],
   "source": [
    "# gets a df containing SMILES strings of products\n",
    "df = pd.DataFrame([[\"C#CCP\"],[\"C=CCO\"]])\n",
    "# converts product column to list\n",
    "mol_list = list(df[0])\n",
    "\n",
    "# converts SMILES strings to molecule objects\n",
    "for i in range(len(mol_list)):\n",
    "    mol_list[i] = Chem.MolFromSmiles(mol_list[i])\n"
   ]
  },
  {
   "cell_type": "code",
   "execution_count": 31,
   "metadata": {},
   "outputs": [],
   "source": [
    "# finds maximum common substructure among list of molecule objects\n",
    "def get_mcs(products_df):      \n",
    "    \n",
    "    mol_list = list(products_df[0])\n",
    "\n",
    "    for i in range(len(mol_list)):\n",
    "        mol_list[i] = Chem.MolFromSmiles(mol_list[i])\n",
    "\n",
    "    maximum_common_substructure = rdFMCS.FindMCS(mol_list)\n",
    "    \n",
    "return maximum_common_substructure\n",
    "\n",
    "#Draw.MolToImage(maximum_common_substructure, size=(300, 300), kekulize=False, wedgeBonds=True)"
   ]
  },
  {
   "cell_type": "markdown",
   "metadata": {},
   "source": [
    "molecular similarity between maximal common substructure and each product"
   ]
  },
  {
   "cell_type": "code",
   "execution_count": null,
   "metadata": {},
   "outputs": [],
   "source": [
    "with input as enzyme_products_df\n",
    "    \n",
    "    mcs = get_mcs(input)\n",
    "    \n",
    "    distance_list = []\n",
    "    \n",
    "    for index, row in input.itterrows():\n",
    "        distance = #distance score to mcs\n",
    "        distance_list.append(distance)\n",
    "    \n",
    "    return distance_list"
   ]
  },
  {
   "cell_type": "markdown",
   "metadata": {},
   "source": [
    "average similarity value"
   ]
  },
  {
   "cell_type": "code",
   "execution_count": 43,
   "metadata": {},
   "outputs": [],
   "source": [
    "def avg_similarity(distance_list):\n",
    "    \n",
    "    return sum(distance_list)/len(distance_list)"
   ]
  }
 ],
 "metadata": {
  "kernelspec": {
   "display_name": "Python 3",
   "language": "python",
   "name": "python3"
  },
  "language_info": {
   "codemirror_mode": {
    "name": "ipython",
    "version": 3
   },
   "file_extension": ".py",
   "mimetype": "text/x-python",
   "name": "python",
   "nbconvert_exporter": "python",
   "pygments_lexer": "ipython3",
   "version": "3.7.0"
  }
 },
 "nbformat": 4,
 "nbformat_minor": 2
}
