{
 "cells": [
  {
   "cell_type": "code",
   "execution_count": 2,
   "metadata": {},
   "outputs": [
    {
     "ename": "ModuleNotFoundError",
     "evalue": "No module named 'pubchempy'",
     "output_type": "error",
     "traceback": [
      "\u001b[0;31m---------------------------------------------------------------------------\u001b[0m",
      "\u001b[0;31mModuleNotFoundError\u001b[0m                       Traceback (most recent call last)",
      "\u001b[0;32m<ipython-input-2-00e8057d3b88>\u001b[0m in \u001b[0;36m<module>\u001b[0;34m()\u001b[0m\n\u001b[1;32m      1\u001b[0m \u001b[0;32mimport\u001b[0m \u001b[0mnumpy\u001b[0m \u001b[0;32mas\u001b[0m \u001b[0mnp\u001b[0m\u001b[0;34m\u001b[0m\u001b[0m\n\u001b[1;32m      2\u001b[0m \u001b[0;32mimport\u001b[0m \u001b[0mpandas\u001b[0m \u001b[0;32mas\u001b[0m \u001b[0mpd\u001b[0m\u001b[0;34m\u001b[0m\u001b[0m\n\u001b[0;32m----> 3\u001b[0;31m \u001b[0;32mimport\u001b[0m \u001b[0mpubchempy\u001b[0m \u001b[0;32mas\u001b[0m \u001b[0mpc\u001b[0m\u001b[0;34m\u001b[0m\u001b[0m\n\u001b[0m",
      "\u001b[0;31mModuleNotFoundError\u001b[0m: No module named 'pubchempy'"
     ]
    }
   ],
   "source": [
    "import numpy as np\n",
    "import pandas as pd\n"
   ]
  },
  {
   "cell_type": "code",
   "execution_count": null,
   "metadata": {},
   "outputs": [],
   "source": [
    "def get_similarity(a,b):\n",
    "    return DataStructs.FingerprintSimilarity(a, b, metric=DataStructs.TanimotoSimilarity)\n",
    "\n",
    "\n",
    "# import ellie's function \n",
    "def input_to_compound(PubChemSID:str, master_df:pd.Dataframe):\n",
    "    \"\"\"\n",
    "    input_to_compound() calculates the distance from input compound to \n",
    "        all products and create a new column. \n",
    "    Additionally, calculates the average distance between input compound\n",
    "    and products for each promiscuous enzyme. \n",
    "    \n",
    "    \n",
    "    Args: \n",
    "        PubChemSID (str): contains PubChemSID to be queried\n",
    "        master_df (pd.Dataframe): pre-calculated model dataframe \n",
    "               \n",
    "    Returns:\n",
    "        pd.Dataframe: master_df with new column that contains distance from \n",
    "        input compound to all products\n",
    "    \"\"\"\n",
    "    \n",
    "    input_SMILES = sid_to_smiles(PubChemSID) #Ellie's function \n",
    "    input_fingerprint = FingerprintMols.FingerprintMol(Chem.rdmolfiles.MolFromSmiles(input_SMILES))\n",
    "    dist_from_input = []\n",
    "    \n",
    "    for i in master_df['Fingerprint']:\n",
    "        dist_from_input.append(get_similarity(i,input_fingerprint))\n",
    "        \n",
    "    for entry in np.unique(master_df['entry']):\n",
    "        \n",
    "        enzyme_split = df[df['entry']==entry]\n",
    "        number_of_compounds = len(enzyme_split)\n",
    "        total_distance = 0 \n",
    "        for j in enzyme_split['Fingerprint']:\n",
    "            total_distance += get_similarity(j,input_fingerprint)\n",
    "        \n",
    "        avg_distance = total_distance/number_of_compounds\n",
    "        \n",
    "        \n",
    "        \n",
    "    \n",
    "    master_df['dist_from_input'] = dist_from_input \n",
    "    "
   ]
  },
  {
   "cell_type": "code",
   "execution_count": 3,
   "metadata": {},
   "outputs": [],
   "source": [
    "df = pd.read_csv(\"../datasets/promiscuous_cleaned_KEGGtoPubChem.csv\")"
   ]
  },
  {
   "cell_type": "code",
   "execution_count": 9,
   "metadata": {},
   "outputs": [
    {
     "ename": "SyntaxError",
     "evalue": "'return' outside function (<ipython-input-9-10f16facfcfe>, line 2)",
     "output_type": "error",
     "traceback": [
      "\u001b[0;36m  File \u001b[0;32m\"<ipython-input-9-10f16facfcfe>\"\u001b[0;36m, line \u001b[0;32m2\u001b[0m\n\u001b[0;31m    return df[df['entry']==entry]\u001b[0m\n\u001b[0m    ^\u001b[0m\n\u001b[0;31mSyntaxError\u001b[0m\u001b[0;31m:\u001b[0m 'return' outside function\n"
     ]
    }
   ],
   "source": [
    "for entry in np.unique(df.entry):\n",
    "    enzyme_split = df[df['entry']==entry]\n",
    "    number_of_compounds = len(enzyme_split)\n",
    "    "
   ]
  },
  {
   "cell_type": "code",
   "execution_count": 17,
   "metadata": {},
   "outputs": [
    {
     "name": "stdout",
     "output_type": "stream",
     "text": [
      "3371.0\n",
      "3526.0\n",
      "4627.0\n",
      "4764.0\n"
     ]
    }
   ],
   "source": [
    "distance = 0\n",
    "\n",
    "for i in df[df['entry']==\"1.1.1.1\"]['PubChem']:\n",
    "    print (i)\n"
   ]
  },
  {
   "cell_type": "code",
   "execution_count": null,
   "metadata": {},
   "outputs": [],
   "source": []
  }
 ],
 "metadata": {
  "kernelspec": {
   "display_name": "Python 3",
   "language": "python",
   "name": "python3"
  },
  "language_info": {
   "codemirror_mode": {
    "name": "ipython",
    "version": 3
   },
   "file_extension": ".py",
   "mimetype": "text/x-python",
   "name": "python",
   "nbconvert_exporter": "python",
   "pygments_lexer": "ipython3",
   "version": "3.6.6"
  }
 },
 "nbformat": 4,
 "nbformat_minor": 2
}
