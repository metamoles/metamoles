{
 "cells": [
  {
   "cell_type": "markdown",
   "metadata": {},
   "source": [
    "The purpose of this notebook is to read the full enzyme database into a notebook, and to begin to explore promiscuous enzymes, and how to pull data on linked reactions"
   ]
  },
  {
   "cell_type": "code",
   "execution_count": 184,
   "metadata": {},
   "outputs": [],
   "source": [
    "# imports\n",
    "\n",
    "from Bio.KEGG import REST\n",
    "from Bio.KEGG import Enzyme\n",
    "\n",
    "import gzip\n",
    "import pandas as pd\n",
    "import numpy as np\n",
    "import matplotlib as mpl\n",
    "import matplotlib.pyplot as plt\n",
    "import seaborn as sns"
   ]
  },
  {
   "cell_type": "code",
   "execution_count": 196,
   "metadata": {},
   "outputs": [],
   "source": [
    "# solution: read data directly from the text file instead\n",
    "\n",
    "enzyme_fields = [method for method in dir(Enzyme.Record()) if not method.startswith('_')]\n",
    "data_matrix = []\n",
    "\n",
    "with gzip.open('../datasets/KEGG_enzymes_all_data.gz', 'rt') as file:\n",
    "    for record in Enzyme.parse(file):\n",
    "        data_matrix.append([getattr(record, field) for field in enzyme_fields])"
   ]
  },
  {
   "cell_type": "code",
   "execution_count": 197,
   "metadata": {},
   "outputs": [],
   "source": [
    "# make dataframe\n",
    "\n",
    "enzyme_df = pd.DataFrame(data_matrix, columns=enzyme_fields)"
   ]
  },
  {
   "cell_type": "code",
   "execution_count": 198,
   "metadata": {},
   "outputs": [
    {
     "data": {
      "text/plain": [
       "(7524, 16)"
      ]
     },
     "execution_count": 198,
     "metadata": {},
     "output_type": "execute_result"
    }
   ],
   "source": [
    "enzyme_df.shape"
   ]
  },
  {
   "cell_type": "code",
   "execution_count": 202,
   "metadata": {},
   "outputs": [
    {
     "data": {
      "text/html": [
       "<div>\n",
       "<style scoped>\n",
       "    .dataframe tbody tr th:only-of-type {\n",
       "        vertical-align: middle;\n",
       "    }\n",
       "\n",
       "    .dataframe tbody tr th {\n",
       "        vertical-align: top;\n",
       "    }\n",
       "\n",
       "    .dataframe thead th {\n",
       "        text-align: right;\n",
       "    }\n",
       "</style>\n",
       "<table border=\"1\" class=\"dataframe\">\n",
       "  <thead>\n",
       "    <tr style=\"text-align: right;\">\n",
       "      <th></th>\n",
       "      <th>classname</th>\n",
       "      <th>cofactor</th>\n",
       "      <th>comment</th>\n",
       "      <th>dblinks</th>\n",
       "      <th>disease</th>\n",
       "      <th>effector</th>\n",
       "      <th>entry</th>\n",
       "      <th>genes</th>\n",
       "      <th>inhibitor</th>\n",
       "      <th>name</th>\n",
       "      <th>pathway</th>\n",
       "      <th>product</th>\n",
       "      <th>reaction</th>\n",
       "      <th>structures</th>\n",
       "      <th>substrate</th>\n",
       "      <th>sysname</th>\n",
       "    </tr>\n",
       "  </thead>\n",
       "  <tbody>\n",
       "    <tr>\n",
       "      <th>0</th>\n",
       "      <td>[Oxidoreductases;, Acting on the CH-OH group o...</td>\n",
       "      <td>[]</td>\n",
       "      <td>[A zinc protein. Acts on primary or secondary ...</td>\n",
       "      <td>[(ExplorEnz - The Enzyme Database, [1.1.1.1]),...</td>\n",
       "      <td>[]</td>\n",
       "      <td>[]</td>\n",
       "      <td>1.1.1.1</td>\n",
       "      <td>[(HSA, [124, 125, 126, 127, 128, 130, 131]), (...</td>\n",
       "      <td>[]</td>\n",
       "      <td>[alcohol dehydrogenase, aldehyde reductase, AD...</td>\n",
       "      <td>[(PATH, ec00010, Glycolysis / Gluconeogenesis)...</td>\n",
       "      <td>[aldehyde [CPD:C00071], NADH [CPD:C00004], H+ ...</td>\n",
       "      <td>[(1) a primary alcohol + NAD+ = an aldehyde + ...</td>\n",
       "      <td>[]</td>\n",
       "      <td>[primary alcohol [CPD:C00226], NAD+ [CPD:C0000...</td>\n",
       "      <td>[alcohol:NAD+ oxidoreductase]</td>\n",
       "    </tr>\n",
       "    <tr>\n",
       "      <th>1</th>\n",
       "      <td>[Oxidoreductases;, Acting on the CH-OH group o...</td>\n",
       "      <td>[]</td>\n",
       "      <td>[A zinc protein. Some members of this group ox...</td>\n",
       "      <td>[(ExplorEnz - The Enzyme Database, [1.1.1.2]),...</td>\n",
       "      <td>[]</td>\n",
       "      <td>[]</td>\n",
       "      <td>1.1.1.2</td>\n",
       "      <td>[(HSA, [10327]), (PTR, [741418]), (PPS, [10099...</td>\n",
       "      <td>[]</td>\n",
       "      <td>[alcohol dehydrogenase (NADP+), aldehyde reduc...</td>\n",
       "      <td>[(PATH, ec00010, Glycolysis / Gluconeogenesis)...</td>\n",
       "      <td>[aldehyde [CPD:C00071], NADPH [CPD:C00005], H+...</td>\n",
       "      <td>[an alcohol + NADP+ = an aldehyde + NADPH + H+...</td>\n",
       "      <td>[]</td>\n",
       "      <td>[alcohol [CPD:C00069], NADP+ [CPD:C00006]]</td>\n",
       "      <td>[alcohol:NADP+ oxidoreductase]</td>\n",
       "    </tr>\n",
       "    <tr>\n",
       "      <th>2</th>\n",
       "      <td>[Oxidoreductases;, Acting on the CH-OH group o...</td>\n",
       "      <td>[]</td>\n",
       "      <td>[The yeast enzyme acts most rapidly with NAD+;...</td>\n",
       "      <td>[(ExplorEnz - The Enzyme Database, [1.1.1.3]),...</td>\n",
       "      <td>[]</td>\n",
       "      <td>[]</td>\n",
       "      <td>1.1.1.3</td>\n",
       "      <td>[(NVE, [NEMVE_v1g225948]), (ATH, [AT1G31230, A...</td>\n",
       "      <td>[]</td>\n",
       "      <td>[homoserine dehydrogenase, HSDH, HSD]</td>\n",
       "      <td>[(PATH, ec00260, Glycine, serine and threonine...</td>\n",
       "      <td>[L-aspartate 4-semialdehyde [CPD:C00441], NADH...</td>\n",
       "      <td>[L-homoserine + NAD(P)+ = L-aspartate 4-semial...</td>\n",
       "      <td>[]</td>\n",
       "      <td>[L-homoserine [CPD:C00263], NAD+ [CPD:C00003],...</td>\n",
       "      <td>[L-homoserine:NAD(P)+ oxidoreductase]</td>\n",
       "    </tr>\n",
       "    <tr>\n",
       "      <th>3</th>\n",
       "      <td>[Oxidoreductases;, Acting on the CH-OH group o...</td>\n",
       "      <td>[]</td>\n",
       "      <td>[Also converts diacetyl into acetoin with NADH...</td>\n",
       "      <td>[(ExplorEnz - The Enzyme Database, [1.1.1.4]),...</td>\n",
       "      <td>[]</td>\n",
       "      <td>[]</td>\n",
       "      <td>1.1.1.4</td>\n",
       "      <td>[(SCE, [YAL060W, YAL061W]), (KLA, [KLLA0_F0050...</td>\n",
       "      <td>[]</td>\n",
       "      <td>[(R,R)-butanediol dehydrogenase, butyleneglyco...</td>\n",
       "      <td>[(PATH, ec00650, Butanoate metabolism)]</td>\n",
       "      <td>[(R)-acetoin [CPD:C00810], NADH [CPD:C00004], ...</td>\n",
       "      <td>[(R,R)-butane-2,3-diol + NAD+ = (R)-acetoin + ...</td>\n",
       "      <td>[]</td>\n",
       "      <td>[(R,R)-butane-2,3-diol [CPD:C03044], NAD+ [CPD...</td>\n",
       "      <td>[(R,R)-butane-2,3-diol:NAD+ oxidoreductase]</td>\n",
       "    </tr>\n",
       "    <tr>\n",
       "      <th>4</th>\n",
       "      <td>[Oxidoreductases;, Acting on the CH-OH group o...</td>\n",
       "      <td>[]</td>\n",
       "      <td>[Transferred entry: acetoin dehydrogenase. Now...</td>\n",
       "      <td>[]</td>\n",
       "      <td>[]</td>\n",
       "      <td>[]</td>\n",
       "      <td>1.1.1.5</td>\n",
       "      <td>[]</td>\n",
       "      <td>[]</td>\n",
       "      <td>[Transferred to 1.1.1.303 and 1.1.1.304]</td>\n",
       "      <td>[]</td>\n",
       "      <td>[]</td>\n",
       "      <td>[]</td>\n",
       "      <td>[]</td>\n",
       "      <td>[]</td>\n",
       "      <td>[]</td>\n",
       "    </tr>\n",
       "  </tbody>\n",
       "</table>\n",
       "</div>"
      ],
      "text/plain": [
       "                                           classname cofactor  \\\n",
       "0  [Oxidoreductases;, Acting on the CH-OH group o...       []   \n",
       "1  [Oxidoreductases;, Acting on the CH-OH group o...       []   \n",
       "2  [Oxidoreductases;, Acting on the CH-OH group o...       []   \n",
       "3  [Oxidoreductases;, Acting on the CH-OH group o...       []   \n",
       "4  [Oxidoreductases;, Acting on the CH-OH group o...       []   \n",
       "\n",
       "                                             comment  \\\n",
       "0  [A zinc protein. Acts on primary or secondary ...   \n",
       "1  [A zinc protein. Some members of this group ox...   \n",
       "2  [The yeast enzyme acts most rapidly with NAD+;...   \n",
       "3  [Also converts diacetyl into acetoin with NADH...   \n",
       "4  [Transferred entry: acetoin dehydrogenase. Now...   \n",
       "\n",
       "                                             dblinks disease effector  \\\n",
       "0  [(ExplorEnz - The Enzyme Database, [1.1.1.1]),...      []       []   \n",
       "1  [(ExplorEnz - The Enzyme Database, [1.1.1.2]),...      []       []   \n",
       "2  [(ExplorEnz - The Enzyme Database, [1.1.1.3]),...      []       []   \n",
       "3  [(ExplorEnz - The Enzyme Database, [1.1.1.4]),...      []       []   \n",
       "4                                                 []      []       []   \n",
       "\n",
       "     entry                                              genes inhibitor  \\\n",
       "0  1.1.1.1  [(HSA, [124, 125, 126, 127, 128, 130, 131]), (...        []   \n",
       "1  1.1.1.2  [(HSA, [10327]), (PTR, [741418]), (PPS, [10099...        []   \n",
       "2  1.1.1.3  [(NVE, [NEMVE_v1g225948]), (ATH, [AT1G31230, A...        []   \n",
       "3  1.1.1.4  [(SCE, [YAL060W, YAL061W]), (KLA, [KLLA0_F0050...        []   \n",
       "4  1.1.1.5                                                 []        []   \n",
       "\n",
       "                                                name  \\\n",
       "0  [alcohol dehydrogenase, aldehyde reductase, AD...   \n",
       "1  [alcohol dehydrogenase (NADP+), aldehyde reduc...   \n",
       "2              [homoserine dehydrogenase, HSDH, HSD]   \n",
       "3  [(R,R)-butanediol dehydrogenase, butyleneglyco...   \n",
       "4           [Transferred to 1.1.1.303 and 1.1.1.304]   \n",
       "\n",
       "                                             pathway  \\\n",
       "0  [(PATH, ec00010, Glycolysis / Gluconeogenesis)...   \n",
       "1  [(PATH, ec00010, Glycolysis / Gluconeogenesis)...   \n",
       "2  [(PATH, ec00260, Glycine, serine and threonine...   \n",
       "3            [(PATH, ec00650, Butanoate metabolism)]   \n",
       "4                                                 []   \n",
       "\n",
       "                                             product  \\\n",
       "0  [aldehyde [CPD:C00071], NADH [CPD:C00004], H+ ...   \n",
       "1  [aldehyde [CPD:C00071], NADPH [CPD:C00005], H+...   \n",
       "2  [L-aspartate 4-semialdehyde [CPD:C00441], NADH...   \n",
       "3  [(R)-acetoin [CPD:C00810], NADH [CPD:C00004], ...   \n",
       "4                                                 []   \n",
       "\n",
       "                                            reaction structures  \\\n",
       "0  [(1) a primary alcohol + NAD+ = an aldehyde + ...         []   \n",
       "1  [an alcohol + NADP+ = an aldehyde + NADPH + H+...         []   \n",
       "2  [L-homoserine + NAD(P)+ = L-aspartate 4-semial...         []   \n",
       "3  [(R,R)-butane-2,3-diol + NAD+ = (R)-acetoin + ...         []   \n",
       "4                                                 []         []   \n",
       "\n",
       "                                           substrate  \\\n",
       "0  [primary alcohol [CPD:C00226], NAD+ [CPD:C0000...   \n",
       "1         [alcohol [CPD:C00069], NADP+ [CPD:C00006]]   \n",
       "2  [L-homoserine [CPD:C00263], NAD+ [CPD:C00003],...   \n",
       "3  [(R,R)-butane-2,3-diol [CPD:C03044], NAD+ [CPD...   \n",
       "4                                                 []   \n",
       "\n",
       "                                       sysname  \n",
       "0                [alcohol:NAD+ oxidoreductase]  \n",
       "1               [alcohol:NADP+ oxidoreductase]  \n",
       "2        [L-homoserine:NAD(P)+ oxidoreductase]  \n",
       "3  [(R,R)-butane-2,3-diol:NAD+ oxidoreductase]  \n",
       "4                                           []  "
      ]
     },
     "execution_count": 202,
     "metadata": {},
     "output_type": "execute_result"
    }
   ],
   "source": [
    "enzyme_df.head()"
   ]
  },
  {
   "cell_type": "code",
   "execution_count": 199,
   "metadata": {},
   "outputs": [],
   "source": [
    "# apply a boolean mask to the dataframe to select only rows in which the number of reaction entries is > 1\n",
    "\n",
    "promiscuous_df = enzyme_df[[True if len(rxn) > 1 else False for rxn in enzyme_df['reaction']]]"
   ]
  },
  {
   "cell_type": "code",
   "execution_count": 200,
   "metadata": {},
   "outputs": [
    {
     "data": {
      "text/plain": [
       "(549, 16)"
      ]
     },
     "execution_count": 200,
     "metadata": {},
     "output_type": "execute_result"
    }
   ],
   "source": [
    "# how many promiscuous enzymes are there?\n",
    "\n",
    "promiscuous_df.shape"
   ]
  },
  {
   "cell_type": "code",
   "execution_count": 201,
   "metadata": {},
   "outputs": [
    {
     "data": {
      "image/png": "[encoded data removed]",
      "text/plain": [
       "<Figure size 432x288 with 1 Axes>"
      ]
     },
     "metadata": {
      "needs_background": "light"
     },
     "output_type": "display_data"
    }
   ],
   "source": [
    "# histogram of total reactions per enzyme EC category\n",
    "\n",
    "reactions = [len(rxn) for rxn in promiscuous_df['reaction']]\n",
    "\n",
    "hist = sns.distplot(reactions, bins=20, kde=False, norm_hist=False)"
   ]
  },
  {
   "cell_type": "code",
   "execution_count": null,
   "metadata": {},
   "outputs": [],
   "source": [
    "# to do: parse out KEGG reaction & compound IDs from reaction, substrate, & product fields of promiscuous dataframe\n",
    "# add these as additional columns in dataframe\n",
    "\n"
   ]
  },
  {
   "cell_type": "code",
   "execution_count": null,
   "metadata": {},
   "outputs": [],
   "source": [
    "# to do: pull KEGG records for each of the extracted reaction & compound IDs\n",
    "\n"
   ]
  },
  {
   "cell_type": "code",
   "execution_count": null,
   "metadata": {},
   "outputs": [],
   "source": [
    "# to do: join KEGG records back into dataframe\n",
    "\n"
   ]
  }
 ],
 "metadata": {
  "kernelspec": {
   "display_name": "Python 3",
   "language": "python",
   "name": "python3"
  },
  "language_info": {
   "codemirror_mode": {
    "name": "ipython",
    "version": 3
   },
   "file_extension": ".py",
   "mimetype": "text/x-python",
   "name": "python",
   "nbconvert_exporter": "python",
   "pygments_lexer": "ipython3",
   "version": "3.7.1"
  }
 },
 "nbformat": 4,
 "nbformat_minor": 2
}
