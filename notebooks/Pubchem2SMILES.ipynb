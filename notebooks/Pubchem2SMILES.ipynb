{
 "cells": [
  {
   "cell_type": "markdown",
   "metadata": {},
   "source": [
    "**This notebook contains a function that fetches a SMILE string starting from a KEGG compound page. It also contains the associated unittests.**\n",
    "\n",
    "USE KEGG_DF_TO_SMILES and SID_TO_SMILES\n",
    "\n",
    "This notebook contains the basis of a function(s) to take a PubChem ID number and fetch the associated SMILES string from PubChem.\n",
    "\n",
    "It also contains code pieces to pull an SID from a KEGG webpage."
   ]
  },
  {
   "cell_type": "code",
   "execution_count": 52,
   "metadata": {},
   "outputs": [],
   "source": [
    "import numpy as np\n",
    "import pandas as pd\n",
    "import pubchempy as pc\n",
    "import requests\n",
    "import re\n",
    "from time import sleep\n",
    "\n",
    "from bs4 import BeautifulSoup\n"
   ]
  },
  {
   "cell_type": "markdown",
   "metadata": {},
   "source": [
    "There are multiple identifier types for each chemical in PubChem. The two we are interacting with here are **SID** (substance ID) and **CID** (chemical ID). CID can be used to acces SMILES directly with PubChemPy. **KEGG does not have CID**, only SID. SID can be turned into CID from which SMILES can be found. "
   ]
  },
  {
   "cell_type": "markdown",
   "metadata": {},
   "source": [
    "### Get SMILES from CID and SID"
   ]
  },
  {
   "cell_type": "code",
   "execution_count": 3,
   "metadata": {},
   "outputs": [
    {
     "name": "stdout",
     "output_type": "stream",
     "text": [
      "C1=CC=C(C=C1)C(=O)O\n"
     ]
    }
   ],
   "source": [
    "# get SMILES directly from CID\n",
    "for compound in pc.get_compounds('243'):\n",
    "    print(compound.isomeric_smiles)"
   ]
  },
  {
   "cell_type": "code",
   "execution_count": 4,
   "metadata": {},
   "outputs": [
    {
     "name": "stdout",
     "output_type": "stream",
     "text": [
      "C1=CC(=C[N+](=C1)[C@H]2[C@@H]([C@@H]([C@H](O2)COP(=O)(O)OP(=O)(O)OC[C@@H]3[C@H]([C@H]([C@@H](O3)N4C=NC5=C4N=CN=C5N)O)O)O)O)C(=O)N Compound(5893)\n"
     ]
    }
   ],
   "source": [
    "# get SMILES from SID through mapping to CID\n",
    "substance = pc.Substance.from_sid('3305')\n",
    "cid = substance.standardized_cid\n",
    "compound = pc.get_compounds(cid)[0]\n",
    "print(compound.isomeric_smiles, compound)"
   ]
  },
  {
   "cell_type": "code",
   "execution_count": 35,
   "metadata": {},
   "outputs": [],
   "source": [
    "def sid_to_smiles(df):\n",
    "    sid = df['SID']\n",
    "    substance = pc.Substance.from_sid(sid)\n",
    "    sleep(0.05)\n",
    "    cid = substance.standardized_cid\n",
    "    compound = pc.get_compounds(cid)[0]\n",
    "    print(compound.isomeric_smiles)"
   ]
  },
  {
   "cell_type": "code",
   "execution_count": null,
   "metadata": {},
   "outputs": [],
   "source": [
    "# for compound in pc.get_compounds('glucose', 'name'):\n",
    "#    print(compound.cid, compound.isomeric_smiles, compound.smiles)"
   ]
  },
  {
   "cell_type": "code",
   "execution_count": 2,
   "metadata": {},
   "outputs": [
    {
     "name": "stdout",
     "output_type": "stream",
     "text": [
      "Overwriting make_smiles_utils.py\n"
     ]
    }
   ],
   "source": [
    "#%%writefile make_smiles_utils.py\n",
    "\n",
    "import pubchempy as pc\n",
    "# I could easily make this handle SIDs, too, but then the user would have to specify whether it is an SID or a CID.\n",
    "def user_input_to_smiles(input_cid):\n",
    "    \"\"\"Takes a PubChem CID input and outputs the associated SMILES.\"\"\"\n",
    "    assert type(input_cid) is int, 'Expected an integer ID input'\n",
    "    for compound in pc.get_compounds(input_cid):\n",
    "        print(compound.isomeric_smiles)"
   ]
  },
  {
   "cell_type": "code",
   "execution_count": 72,
   "metadata": {},
   "outputs": [
    {
     "name": "stdout",
     "output_type": "stream",
     "text": [
      "C1=CC=C(C=C1)C(=O)O\n"
     ]
    }
   ],
   "source": [
    "user_input_to_smiles(243)"
   ]
  },
  {
   "cell_type": "code",
   "execution_count": 33,
   "metadata": {},
   "outputs": [],
   "source": [
    "#%%writefile test_make_smiles_utils.py\n",
    "\n",
    "import pubchempy as pc\n",
    "import make_smiles_utils\n",
    "\n",
    "def test_user_input_to_smiles():\n",
    "    # check that the input is an integer\n",
    "    # check that the output is a string\n",
    "    \n",
    "    # CID for thiophene\n",
    "    inp_cid = 8030 \n",
    "    smiles = make_smiles_utils.user_input_to_smiles(inp_cid)\n",
    "    \n",
    "    assert len(str(smiles)) == 4, 'This is not the correct SMILES length for thiophene'\n",
    "    assert str(smiles) == 'C1=CSC=C1', 'This is not the correct SMILES for thiophene'\n",
    "    \n",
    "    return #len(str(smiles))"
   ]
  },
  {
   "cell_type": "code",
   "execution_count": 35,
   "metadata": {},
   "outputs": [
    {
     "name": "stdout",
     "output_type": "stream",
     "text": [
      "C1=CSC=C1\n"
     ]
    }
   ],
   "source": [
    "test_user_input_to_smiles()"
   ]
  },
  {
   "cell_type": "markdown",
   "metadata": {},
   "source": [
    "__________________\n",
    "\n",
    "### Manipulate DF containing SID into SMILES"
   ]
  },
  {
   "cell_type": "code",
   "execution_count": 111,
   "metadata": {
    "scrolled": true
   },
   "outputs": [
    {
     "data": {
      "text/html": [
       "<div>\n",
       "<style scoped>\n",
       "    .dataframe tbody tr th:only-of-type {\n",
       "        vertical-align: middle;\n",
       "    }\n",
       "\n",
       "    .dataframe tbody tr th {\n",
       "        vertical-align: top;\n",
       "    }\n",
       "\n",
       "    .dataframe thead th {\n",
       "        text-align: right;\n",
       "    }\n",
       "</style>\n",
       "<table border=\"1\" class=\"dataframe\">\n",
       "  <thead>\n",
       "    <tr style=\"text-align: right;\">\n",
       "      <th></th>\n",
       "      <th>Compound Name</th>\n",
       "      <th>SID</th>\n",
       "    </tr>\n",
       "  </thead>\n",
       "  <tbody>\n",
       "    <tr>\n",
       "      <th>0</th>\n",
       "      <td>NAD</td>\n",
       "      <td>3305</td>\n",
       "    </tr>\n",
       "    <tr>\n",
       "      <th>1</th>\n",
       "      <td>glucose</td>\n",
       "      <td>3333</td>\n",
       "    </tr>\n",
       "    <tr>\n",
       "      <th>2</th>\n",
       "      <td>benzoic acid</td>\n",
       "      <td>3480</td>\n",
       "    </tr>\n",
       "    <tr>\n",
       "      <th>3</th>\n",
       "      <td>methanol</td>\n",
       "      <td>3432</td>\n",
       "    </tr>\n",
       "  </tbody>\n",
       "</table>\n",
       "</div>"
      ],
      "text/plain": [
       "  Compound Name   SID\n",
       "0           NAD  3305\n",
       "1       glucose  3333\n",
       "2  benzoic acid  3480\n",
       "3      methanol  3432"
      ]
     },
     "execution_count": 111,
     "metadata": {},
     "output_type": "execute_result"
    }
   ],
   "source": [
    "sids = ['3305', '3333', '3480', '3432']\n",
    "compounds = ['NAD', 'glucose', 'benzoic acid', 'methanol']\n",
    "tuple_list = list(zip(compounds, sids))\n",
    "tuple_list\n",
    "devo_df = pd.DataFrame(tuple_list, columns=['Compound Name','SID'])\n",
    "devo_df"
   ]
  },
  {
   "cell_type": "code",
   "execution_count": 76,
   "metadata": {},
   "outputs": [],
   "source": [
    "def sid_to_smiles(sid):\n",
    "    substance = pc.Substance.from_sid(sid)\n",
    "    cid = substance.standardized_cid\n",
    "    compound = pc.get_compounds(cid)[0]\n",
    "    return compound.isomeric_smiles"
   ]
  },
  {
   "cell_type": "code",
   "execution_count": 109,
   "metadata": {},
   "outputs": [],
   "source": [
    "def kegg_df_to_smiles(kegg_df):\n",
    "    \"\"\"Takes a pandas dataframe that includes a column of SIDs, gets the isomeric SMILES for each SID, stores them as a list, then adds a SMILES column.\"\"\"\n",
    "\n",
    "    res = [] \n",
    "    \n",
    "    for i in range(len(kegg_df)):\n",
    "        sid = kegg_df.iloc[i, 1] #CHANGE THIS 1 TO THE PROPER COLUMN NUMBER FOR SID \n",
    "        result = sid_to_smiles(sid)\n",
    "        res.append(result)\n",
    "        \n",
    "    \n",
    "    kegg_df.insert(2, column='SMILES', value=res) #Change this 2 to the number where the smiles column should be\n",
    "    \n",
    "    return kegg_df"
   ]
  },
  {
   "cell_type": "code",
   "execution_count": 112,
   "metadata": {
    "scrolled": true
   },
   "outputs": [
    {
     "data": {
      "text/html": [
       "<div>\n",
       "<style scoped>\n",
       "    .dataframe tbody tr th:only-of-type {\n",
       "        vertical-align: middle;\n",
       "    }\n",
       "\n",
       "    .dataframe tbody tr th {\n",
       "        vertical-align: top;\n",
       "    }\n",
       "\n",
       "    .dataframe thead th {\n",
       "        text-align: right;\n",
       "    }\n",
       "</style>\n",
       "<table border=\"1\" class=\"dataframe\">\n",
       "  <thead>\n",
       "    <tr style=\"text-align: right;\">\n",
       "      <th></th>\n",
       "      <th>Compound Name</th>\n",
       "      <th>SID</th>\n",
       "      <th>SMILES</th>\n",
       "    </tr>\n",
       "  </thead>\n",
       "  <tbody>\n",
       "    <tr>\n",
       "      <th>0</th>\n",
       "      <td>NAD</td>\n",
       "      <td>3305</td>\n",
       "      <td>C1=CC(=C[N+](=C1)[C@H]2[C@@H]([C@@H]([C@H](O2)...</td>\n",
       "    </tr>\n",
       "    <tr>\n",
       "      <th>1</th>\n",
       "      <td>glucose</td>\n",
       "      <td>3333</td>\n",
       "      <td>C([C@@H]1[C@H]([C@@H]([C@H](C(O1)O)O)O)O)O</td>\n",
       "    </tr>\n",
       "    <tr>\n",
       "      <th>2</th>\n",
       "      <td>benzoic acid</td>\n",
       "      <td>3480</td>\n",
       "      <td>C1=CC=C(C=C1)C(=O)O</td>\n",
       "    </tr>\n",
       "    <tr>\n",
       "      <th>3</th>\n",
       "      <td>methanol</td>\n",
       "      <td>3432</td>\n",
       "      <td>CO</td>\n",
       "    </tr>\n",
       "  </tbody>\n",
       "</table>\n",
       "</div>"
      ],
      "text/plain": [
       "  Compound Name   SID                                             SMILES\n",
       "0           NAD  3305  C1=CC(=C[N+](=C1)[C@H]2[C@@H]([C@@H]([C@H](O2)...\n",
       "1       glucose  3333         C([C@@H]1[C@H]([C@@H]([C@H](C(O1)O)O)O)O)O\n",
       "2  benzoic acid  3480                                C1=CC=C(C=C1)C(=O)O\n",
       "3      methanol  3432                                                 CO"
      ]
     },
     "execution_count": 112,
     "metadata": {},
     "output_type": "execute_result"
    }
   ],
   "source": [
    "kegg_df_to_smiles(devo_df)"
   ]
  },
  {
   "cell_type": "markdown",
   "metadata": {},
   "source": [
    "---\n",
    "### Get SID from KEGG url \n",
    "\n",
    "This currently works from the compound page. I have not seen if it can be pulled from the reaction page.\n"
   ]
  },
  {
   "cell_type": "code",
   "execution_count": 60,
   "metadata": {},
   "outputs": [
    {
     "name": "stdout",
     "output_type": "stream",
     "text": [
      "Overwriting kegg_utils.py\n"
     ]
    }
   ],
   "source": [
    "#%%writefile kegg_utils.py\n",
    "\n",
    "import pubchempy as pc\n",
    "import re\n",
    "import requests\n",
    "\n",
    "from bs4 import BeautifulSoup\n",
    "\n",
    "\n",
    "def kegg_to_sid(url):\n",
    "    # access the url\n",
    "    response = requests.get(url)\n",
    "\n",
    "    # turn the webpage into html\n",
    "    soup = BeautifulSoup(response.content, 'html.parser')\n",
    "\n",
    "    # find the link that contains 'pubchem'\n",
    "    sid = soup.find('a', href=re.compile(r'https://pubchem\\.ncbi'))\n",
    "\n",
    "    sid_string = sid.string\n",
    "\n",
    "    return sid_string\n",
    "\n",
    "\n",
    "def kegg_to_smiles(url):\n",
    "    \"\"\"Uses the KEGG compound page url to find the compound's PubChem SID, then to find the SMILES for that compound using the SID.\"\"\"\n",
    "\n",
    "    # access the url\n",
    "    response = requests.get(url)\n",
    "\n",
    "    # turn the webpage into html\n",
    "    soup = BeautifulSoup(response.content, 'html.parser')\n",
    "\n",
    "    # find the link that contains 'pubchem'\n",
    "    sid = soup.find('a', href=re.compile(r'https://pubchem\\.ncbi'))\n",
    "\n",
    "    substance = pc.Substance.from_sid(sid.string)\n",
    "    cid = substance.standardized_cid\n",
    "    compound = pc.get_compounds(cid)[0]\n",
    "\n",
    "    print(compound.isomeric_smiles)"
   ]
  },
  {
   "cell_type": "code",
   "execution_count": null,
   "metadata": {},
   "outputs": [],
   "source": [
    "#%%writefile kegg_utils.py\n",
    "\n",
    "import pubchempy as pc\n",
    "import re\n",
    "import requests\n",
    "\n",
    "from bs4 import BeautifulSoup\n",
    "\n",
    "\n",
    "def kegg_to_sid(url):\n",
    "    # access the url\n",
    "    response = requests.get(url)\n",
    "\n",
    "    # turn the webpage into html\n",
    "    soup = BeautifulSoup(response.content, 'html.parser')\n",
    "\n",
    "    # find the link that contains 'pubchem'\n",
    "    sid = soup.find('a', href=re.compile(r'https://pubchem\\.ncbi'))\n",
    "\n",
    "    sid_string = sid.string\n",
    "\n",
    "    return sid_string"
   ]
  },
  {
   "cell_type": "code",
   "execution_count": 7,
   "metadata": {},
   "outputs": [
    {
     "name": "stdout",
     "output_type": "stream",
     "text": [
      "3480\n"
     ]
    }
   ],
   "source": [
    "# url of the desired KEGG compound page\n",
    "url = 'https://www.genome.jp/dbget-bin/www_bget?cpd:C00180'\n",
    "# access the url\n",
    "response = requests.get(url)\n",
    "\n",
    "# turn the webpage into html\n",
    "soup = BeautifulSoup(response.content, 'html.parser')\n",
    "\n",
    "# find the link that contains 'pubchem'\n",
    "sid = soup.find('a', href=re.compile('https://pubchem\\.ncbi'))\n",
    "\n",
    "# print the string that is displayed as the link\n",
    "# (this is the SID, which works with pubchempy to get the SMILES)\n",
    "print(sid.string)"
   ]
  },
  {
   "cell_type": "code",
   "execution_count": 62,
   "metadata": {},
   "outputs": [
    {
     "name": "stdout",
     "output_type": "stream",
     "text": [
      "Overwriting test_kegg_utils.py\n"
     ]
    }
   ],
   "source": [
    "#%%writefile test_kegg_utils.py\n",
    "import unittest\n",
    "\n",
    "import kegg_utils\n",
    "\n",
    "\n",
    "def test_kegg_to_sid():\n",
    "    url_list = [\n",
    "        'https://www.genome.jp/dbget-bin/www_bget?cpd:C00180',\n",
    "        'https://www.genome.jp/dbget-bin/www_bget?cpd:C00587',\n",
    "        'https://www.genome.jp/dbget-bin/www_bget?cpd:C00002']\n",
    "    for url in url_list:\n",
    "        sid_str = kegg_utils.kegg_to_sid(url)\n",
    "        sid_str.isdigit(), 'SID contains characters other than numbers'\n",
    "    return\n",
    "\n",
    "\n",
    "def test_kegg_to_smiles():\n",
    "\n",
    "    url = 'https://www.genome.jp/dbget-bin/www_bget?cpd:C00587'\n",
    "    smiles = kegg_utils.kegg_to_sid(url)\n",
    "\n",
    "    assert len(smiles) >= 1, 'SMILES string is very short. Check SMILES.'\n",
    "    isinstance(smiles, str), 'SMILES not returned as string.'\n",
    "    \n",
    "    return"
   ]
  },
  {
   "cell_type": "markdown",
   "metadata": {},
   "source": [
    "biopython kegg api to pull SID\n",
    "\n",
    "store smiles into dataframe to join later \n"
   ]
  }
 ],
 "metadata": {
  "kernelspec": {
   "display_name": "Python 3",
   "language": "python",
   "name": "python3"
  },
  "language_info": {
   "codemirror_mode": {
    "name": "ipython",
    "version": 3
   },
   "file_extension": ".py",
   "mimetype": "text/x-python",
   "name": "python",
   "nbconvert_exporter": "python",
   "pygments_lexer": "ipython3",
   "version": "3.7.0"
  }
 },
 "nbformat": 4,
 "nbformat_minor": 2
}
