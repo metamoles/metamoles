{
 "cells": [
  {
   "cell_type": "markdown",
   "metadata": {},
   "source": [
    "This notebook contains the basis of a function(s) to take a PubChem ID number and fetch the associated SMILES string from PubChem.\n",
    "\n",
    "It also contains code pieces to pull an SID from a KEGG webpage."
   ]
  },
  {
   "cell_type": "code",
   "execution_count": 16,
   "metadata": {},
   "outputs": [],
   "source": [
    "import pubchempy as pc\n",
    "import requests\n",
    "\n",
    "from bs4 import BeautifulSoup\n"
   ]
  },
  {
   "cell_type": "markdown",
   "metadata": {},
   "source": [
    "There are multiple identifier types for each chemical in PubChem. The two we are interacting with here are **SID** (substance ID) and **CID** (chemical ID). CID can be used to acces SMILES directly with PubChemPy. **KEGG does not have CID**, only SID. SID can be turned into CID from which SMILES can be found. "
   ]
  },
  {
   "cell_type": "markdown",
   "metadata": {},
   "source": [
    "### Get SMILES from CID and SID"
   ]
  },
  {
   "cell_type": "code",
   "execution_count": 20,
   "metadata": {},
   "outputs": [
    {
     "name": "stdout",
     "output_type": "stream",
     "text": [
      "C1=CC=C(C=C1)C(=O)O\n"
     ]
    }
   ],
   "source": [
    "# get SMILES directly from CID\n",
    "for compound in pc.get_compounds('243'):\n",
    "    print(compound.isomeric_smiles)"
   ]
  },
  {
   "cell_type": "code",
   "execution_count": 24,
   "metadata": {},
   "outputs": [
    {
     "name": "stdout",
     "output_type": "stream",
     "text": [
      "C1=CC=C(C=C1)C(=O)O\n"
     ]
    }
   ],
   "source": [
    "# get SMILES from SID through mapping to CID\n",
    "substance = pc.Substance.from_sid('3480')\n",
    "cid = substance.standardized_cid\n",
    "compound = pc.get_compounds(cid)[0]\n",
    "print(compound.isomeric_smiles)"
   ]
  },
  {
   "cell_type": "code",
   "execution_count": null,
   "metadata": {},
   "outputs": [],
   "source": [
    "# for compound in pc.get_compounds('glucose', 'name'):\n",
    "#    print(compound.cid, compound.isomeric_smiles, compound.smiles)"
   ]
  },
  {
   "cell_type": "markdown",
   "metadata": {},
   "source": [
    "---\n",
    "### Get SID from KEGG url \n",
    "\n",
    "This currently works from the compound page. I have not seen if it can be pulled from the reaction page.\n"
   ]
  },
  {
   "cell_type": "code",
   "execution_count": 15,
   "metadata": {},
   "outputs": [
    {
     "name": "stdout",
     "output_type": "stream",
     "text": [
      "3480\n"
     ]
    }
   ],
   "source": [
    "# url of the desired KEGG compound page\n",
    "url = 'https://www.genome.jp/dbget-bin/www_bget?cpd:C00180'\n",
    "# access the url\n",
    "response = requests.get(url)\n",
    "\n",
    "# turn the webpage into html\n",
    "soup = BeautifulSoup(response.content, 'html.parser')\n",
    "\n",
    "# find the link that contains 'pubchem'\n",
    "SID = soup.find('a', href=re.compile('https://pubchem\\.ncbi'))\n",
    "\n",
    "# print the string that is displayed as the link\n",
    "# (this is the SID, which works with pubchempy to get the SMILES)\n",
    "print(pubchem.string)\n"
   ]
  }
 ],
 "metadata": {
  "kernelspec": {
   "display_name": "Python 3",
   "language": "python",
   "name": "python3"
  },
  "language_info": {
   "codemirror_mode": {
    "name": "ipython",
    "version": 3
   },
   "file_extension": ".py",
   "mimetype": "text/x-python",
   "name": "python",
   "nbconvert_exporter": "python",
   "pygments_lexer": "ipython3",
   "version": "3.7.0"
  }
 },
 "nbformat": 4,
 "nbformat_minor": 2
}
