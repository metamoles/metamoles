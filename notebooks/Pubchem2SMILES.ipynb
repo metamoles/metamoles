{
 "cells": [
  {
   "cell_type": "markdown",
   "metadata": {},
   "source": [
    "**This notebook contains a function that fetches a SMILE string starting from a KEGG compound page. It also contains the associated unittests.**\n",
    "\n",
    "This notebook contains the basis of a function(s) to take a PubChem ID number and fetch the associated SMILES string from PubChem.\n",
    "\n",
    "It also contains code pieces to pull an SID from a KEGG webpage."
   ]
  },
  {
   "cell_type": "code",
   "execution_count": 4,
   "metadata": {},
   "outputs": [],
   "source": [
    "import pubchempy as pc\n",
    "import requests\n",
    "import re\n",
    "\n",
    "from bs4 import BeautifulSoup\n"
   ]
  },
  {
   "cell_type": "markdown",
   "metadata": {},
   "source": [
    "There are multiple identifier types for each chemical in PubChem. The two we are interacting with here are **SID** (substance ID) and **CID** (chemical ID). CID can be used to acces SMILES directly with PubChemPy. **KEGG does not have CID**, only SID. SID can be turned into CID from which SMILES can be found. "
   ]
  },
  {
   "cell_type": "markdown",
   "metadata": {},
   "source": [
    "### Get SMILES from CID and SID"
   ]
  },
  {
   "cell_type": "code",
   "execution_count": 20,
   "metadata": {},
   "outputs": [
    {
     "name": "stdout",
     "output_type": "stream",
     "text": [
      "C1=CC=C(C=C1)C(=O)O\n"
     ]
    }
   ],
   "source": [
    "# get SMILES directly from CID\n",
    "for compound in pc.get_compounds('243'):\n",
    "    print(compound.isomeric_smiles)"
   ]
  },
  {
   "cell_type": "code",
   "execution_count": 8,
   "metadata": {},
   "outputs": [
    {
     "name": "stdout",
     "output_type": "stream",
     "text": [
      "C1=CC=C(C=C1)C(=O)O\n"
     ]
    }
   ],
   "source": [
    "# get SMILES from SID through mapping to CID\n",
    "substance = pc.Substance.from_sid('3480')\n",
    "cid = substance.standardized_cid\n",
    "compound = pc.get_compounds(cid)[0]\n",
    "print(compound.isomeric_smiles)"
   ]
  },
  {
   "cell_type": "code",
   "execution_count": null,
   "metadata": {},
   "outputs": [],
   "source": [
    "# for compound in pc.get_compounds('glucose', 'name'):\n",
    "#    print(compound.cid, compound.isomeric_smiles, compound.smiles)"
   ]
  },
  {
   "cell_type": "markdown",
   "metadata": {},
   "source": [
    "---\n",
    "### Get SID from KEGG url \n",
    "\n",
    "This currently works from the compound page. I have not seen if it can be pulled from the reaction page.\n"
   ]
  },
  {
   "cell_type": "code",
   "execution_count": 7,
   "metadata": {},
   "outputs": [
    {
     "name": "stdout",
     "output_type": "stream",
     "text": [
      "3480\n"
     ]
    }
   ],
   "source": [
    "# url of the desired KEGG compound page\n",
    "url = 'https://www.genome.jp/dbget-bin/www_bget?cpd:C00180'\n",
    "# access the url\n",
    "response = requests.get(url)\n",
    "\n",
    "# turn the webpage into html\n",
    "soup = BeautifulSoup(response.content, 'html.parser')\n",
    "\n",
    "# find the link that contains 'pubchem'\n",
    "sid = soup.find('a', href=re.compile('https://pubchem\\.ncbi'))\n",
    "\n",
    "# print the string that is displayed as the link\n",
    "# (this is the SID, which works with pubchempy to get the SMILES)\n",
    "print(sid.string)"
   ]
  },
  {
   "cell_type": "code",
   "execution_count": 60,
   "metadata": {},
   "outputs": [
    {
     "name": "stdout",
     "output_type": "stream",
     "text": [
      "Overwriting kegg_utils.py\n"
     ]
    }
   ],
   "source": [
    "#%%writefile kegg_utils.py\n",
    "\n",
    "import pubchempy as pc\n",
    "import re\n",
    "import requests\n",
    "\n",
    "from bs4 import BeautifulSoup\n",
    "\n",
    "\n",
    "def kegg_to_sid(url):\n",
    "    # access the url\n",
    "    response = requests.get(url)\n",
    "\n",
    "    # turn the webpage into html\n",
    "    soup = BeautifulSoup(response.content, 'html.parser')\n",
    "\n",
    "    # find the link that contains 'pubchem'\n",
    "    sid = soup.find('a', href=re.compile(r'https://pubchem\\.ncbi'))\n",
    "\n",
    "    sid_string = sid.string\n",
    "\n",
    "    return sid_string\n",
    "\n",
    "\n",
    "def kegg_to_smiles(url):\n",
    "    \"\"\"Uses the KEGG compound page url to find the compound's PubChem SID, then to find the SMILES for that compound using the SID.\"\"\"\n",
    "\n",
    "    # access the url\n",
    "    response = requests.get(url)\n",
    "\n",
    "    # turn the webpage into html\n",
    "    soup = BeautifulSoup(response.content, 'html.parser')\n",
    "\n",
    "    # find the link that contains 'pubchem'\n",
    "    sid = soup.find('a', href=re.compile(r'https://pubchem\\.ncbi'))\n",
    "\n",
    "    substance = pc.Substance.from_sid(sid.string)\n",
    "    cid = substance.standardized_cid\n",
    "    compound = pc.get_compounds(cid)[0]\n",
    "\n",
    "    print(compound.isomeric_smiles)"
   ]
  },
  {
   "cell_type": "code",
   "execution_count": 62,
   "metadata": {},
   "outputs": [
    {
     "name": "stdout",
     "output_type": "stream",
     "text": [
      "Overwriting test_kegg_utils.py\n"
     ]
    }
   ],
   "source": [
    "#%%writefile test_kegg_utils.py\n",
    "import unittest\n",
    "\n",
    "import kegg_utils\n",
    "\n",
    "\n",
    "def test_kegg_to_sid():\n",
    "    url_list = [\n",
    "        'https://www.genome.jp/dbget-bin/www_bget?cpd:C00180',\n",
    "        'https://www.genome.jp/dbget-bin/www_bget?cpd:C00587',\n",
    "        'https://www.genome.jp/dbget-bin/www_bget?cpd:C00002']\n",
    "    for url in url_list:\n",
    "        sid_str = kegg_utils.kegg_to_sid(url)\n",
    "        sid_str.isdigit(), 'SID contains characters other than numbers'\n",
    "    return\n",
    "\n",
    "\n",
    "def test_kegg_to_smiles():\n",
    "\n",
    "    url = 'https://www.genome.jp/dbget-bin/www_bget?cpd:C00587'\n",
    "    smiles = kegg_utils.kegg_to_sid(url)\n",
    "\n",
    "    assert len(smiles) >= 1, 'SMILES string is very short. Check SMILES.'\n",
    "    isinstance(smiles, str), 'SMILES not returned as string.'\n",
    "    \n",
    "    return"
   ]
  },
  {
   "cell_type": "code",
   "execution_count": null,
   "metadata": {},
   "outputs": [],
   "source": []
  }
 ],
 "metadata": {
  "kernelspec": {
   "display_name": "Python 3",
   "language": "python",
   "name": "python3"
  },
  "language_info": {
   "codemirror_mode": {
    "name": "ipython",
    "version": 3
   },
   "file_extension": ".py",
   "mimetype": "text/x-python",
   "name": "python",
   "nbconvert_exporter": "python",
   "pygments_lexer": "ipython3",
   "version": "3.7.0"
  }
 },
 "nbformat": 4,
 "nbformat_minor": 2
}
