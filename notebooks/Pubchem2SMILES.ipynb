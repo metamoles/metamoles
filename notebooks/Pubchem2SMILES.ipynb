{
 "cells": [
  {
   "cell_type": "markdown",
   "metadata": {},
   "source": [
    "**This notebook contains a function that fetches a SMILE string starting from a KEGG compound page. It also contains the associated unittests.**\n",
    "\n",
    "USE KEGG_DF_TO_SMILES and SID_TO_SMILES\n",
    "\n",
    "All of the unit tests are passing as of 3/5/19 at 7:30 pm. \n",
    "\n",
    "This notebook contains the basis of a function(s) to take a PubChem ID number and fetch the associated SMILES string from PubChem.\n",
    "\n",
    "It also contains code pieces to pull an SID from a KEGG webpage."
   ]
  },
  {
   "cell_type": "code",
   "execution_count": null,
   "metadata": {},
   "outputs": [],
   "source": [
    "import numpy as np\n",
    "import pandas as pd\n",
    "import pubchempy as pc"
   ]
  },
  {
   "cell_type": "markdown",
   "metadata": {},
   "source": [
    "There are multiple identifier types for each chemical in PubChem. The two we are interacting with here are **SID** (substance ID) and **CID** (chemical ID). CID can be used to acces SMILES directly with PubChemPy. **KEGG does not have CID**, only SID. SID can be turned into CID from which SMILES can be found. "
   ]
  },
  {
   "cell_type": "markdown",
   "metadata": {},
   "source": [
    "### Get SMILES from CID and SID"
   ]
  },
  {
   "cell_type": "code",
   "execution_count": null,
   "metadata": {},
   "outputs": [],
   "source": [
    "# get SMILES directly from CID\n",
    "for compound in pc.get_compounds('243'):\n",
    "    print(compound.isomeric_smiles)"
   ]
  },
  {
   "cell_type": "code",
   "execution_count": null,
   "metadata": {},
   "outputs": [],
   "source": [
    "# get SMILES from SID through mapping to CID\n",
    "substance = pc.Substance.from_sid('3371')\n",
    "cid = substance.standardized_cid\n",
    "if cid == None:\n",
    "    pass\n",
    "    none_tally += 1\n",
    "else:\n",
    "    compound = pc.get_compounds(cid)[0]\n",
    "\n",
    "print(none_tally)\n",
    "#print(compound.isomeric_smiles, compound)"
   ]
  },
  {
   "cell_type": "code",
   "execution_count": null,
   "metadata": {},
   "outputs": [],
   "source": [
    "def sid_to_smiles(df):\n",
    "    \"\"\"Takes an SID and prints the associated SMILES string.\"\"\"\n",
    "    sid = df['SID']\n",
    "    substance = pc.Substance.from_sid(sid)\n",
    "    cid = substance.standardized_cid\n",
    "    if cid == None:\n",
    "        pass\n",
    "        none_tally += 1\n",
    "    else:\n",
    "        compound = pc.get_compounds(cid)[0]\n",
    "\n",
    "    return compound.isomeric_smiles"
   ]
  },
  {
   "cell_type": "code",
   "execution_count": null,
   "metadata": {},
   "outputs": [],
   "source": [
    "# for compound in pc.get_compounds('glucose', 'name'):\n",
    "#    print(compound.cid, compound.isomeric_smiles, compound.smiles)"
   ]
  },
  {
   "cell_type": "code",
   "execution_count": null,
   "metadata": {},
   "outputs": [],
   "source": [
    "#%%writefile make_smiles_utils.py\n",
    "\n",
    "import pubchempy as pc\n",
    "# I could easily make this handle SIDs, too, but then the user would have to specify whether it is an SID or a CID.\n",
    "def user_input_to_smiles(input_cid):\n",
    "    \"\"\"Takes a PubChem CID input and outputs the associated SMILES.\"\"\"\n",
    "    assert type(input_cid) is int, 'Expected an integer ID input'\n",
    "    for compound in pc.get_compounds(input_cid):\n",
    "        print(compound.isomeric_smiles)"
   ]
  },
  {
   "cell_type": "code",
   "execution_count": null,
   "metadata": {},
   "outputs": [],
   "source": [
    "user_input_to_smiles(243)"
   ]
  },
  {
   "cell_type": "code",
   "execution_count": null,
   "metadata": {},
   "outputs": [],
   "source": [
    "#%%writefile test_make_smiles_utils.py\n",
    "\n",
    "import pubchempy as pc\n",
    "import make_smiles_utils\n",
    "\n",
    "def test_user_input_to_smiles():\n",
    "    # check that the input is an integer\n",
    "    # check that the output is a string\n",
    "    \n",
    "    # CID for thiophene\n",
    "    inp_cid = 8030 \n",
    "    smiles = make_smiles_utils.user_input_to_smiles(inp_cid)\n",
    "    \n",
    "    assert len(str(smiles)) == 4, 'This is not the correct SMILES length for thiophene'\n",
    "    assert str(smiles) == 'C1=CSC=C1', 'This is not the correct SMILES for thiophene'\n",
    "    \n",
    "    return #len(str(smiles))"
   ]
  },
  {
   "cell_type": "code",
   "execution_count": null,
   "metadata": {},
   "outputs": [],
   "source": [
    "test_user_input_to_smiles()"
   ]
  },
  {
   "cell_type": "markdown",
   "metadata": {},
   "source": [
    "__________________\n",
    "\n",
    "### Manipulate DF containing SID into SMILES"
   ]
  },
  {
   "cell_type": "code",
   "execution_count": null,
   "metadata": {
    "scrolled": true
   },
   "outputs": [],
   "source": [
    "filler = ['fill', 'fill', 'fill', 'fill']\n",
    "sids = ['3305', '3333', '3480', '3371']\n",
    "compounds = ['NAD', 'glucose', 'benzoic acid', 'unknown']\n",
    "tuple_list = list(zip(filler, compounds, sids))\n",
    "tuple_list\n",
    "devo_df = pd.DataFrame(tuple_list, columns=['Filler', 'Compound Name','SID'])\n",
    "devo_df"
   ]
  },
  {
   "cell_type": "markdown",
   "metadata": {},
   "source": [
    "kegg_df_to_smiles(devo_df)"
   ]
  },
  {
   "cell_type": "code",
   "execution_count": 1,
   "metadata": {},
   "outputs": [],
   "source": [
    "#%%writefile pubchem_client.py\n",
    "\n",
    "import pubchempy as pc\n",
    "import pandas as pd\n",
    "import numpy as np\n",
    "\n",
    "def sid_to_smiles(sid):\n",
    "    \"\"\"Takes an SID and prints the associated SMILES string.\"\"\"\n",
    "\n",
    "    substance = pc.Substance.from_sid(sid)\n",
    "    cid = substance.standardized_cid\n",
    "    compound = pc.get_compounds(cid)[0]\n",
    "        \n",
    "    \n",
    "    return compound.isomeric_smiles, cid\n",
    "\n",
    "\n",
    "def kegg_df_to_smiles(kegg_df):\n",
    "    \"\"\"Takes a pandas dataframe that includes a column of SIDs, gets the isomeric SMILES for each SID, stores them as a list, then adds a SMILES column.\"\"\"\n",
    "\n",
    "    res = [] \n",
    "    cid_list = []\n",
    "    unsuccessful_list = []\n",
    "    \n",
    "    for i in range(len(kegg_df)):\n",
    "        sid = kegg_df.iloc[i, 2] #CHANGE THIS 1 TO THE PROPER COLUMN NUMBER FOR SID\n",
    "        try:\n",
    "            smile_result = sid_to_smiles(sid)[0]\n",
    "            res.append(smile_result)\n",
    "            cid_result = sid_to_smiles(sid)[1]\n",
    "            cid_list.append(cid_result)\n",
    "        except:\n",
    "            res.append('none')\n",
    "            cid_list.append('none')\n",
    "            unsuccessful_list.append(sid)\n",
    "            pass\n",
    "        \n",
    "    kegg_df.insert(3, column='CID', value=cid_list)    \n",
    "    kegg_df.insert(4, column='SMILES', value=res) #Change this 2 to the number where the smiles column should be\n",
    "    #kegg_df.to_csv(r'../datasets/df_cleaned_kegg_with_smiles.csv')\n",
    "    \n",
    "    return kegg_df, unsuccessful_list"
   ]
  },
  {
   "cell_type": "code",
   "execution_count": 36,
   "metadata": {},
   "outputs": [
    {
     "name": "stdout",
     "output_type": "stream",
     "text": [
      "Overwriting test_pubchem_client.py\n"
     ]
    }
   ],
   "source": [
    "#%%writefile test_pubchem_client.py\n",
    "\n",
    "import pandas as pd\n",
    "\n",
    "from pandas.util.testing import assert_frame_equal\n",
    "\n",
    "import pubchem_client\n",
    "\n",
    "def test_sid_to_smiles():\n",
    "    \n",
    "    sids = ['3489', '3990']\n",
    "    expected = ['C(CO)N', 'C1CSSC1CCCCC(=O)O']\n",
    "    actual = []\n",
    "    \n",
    "    for sid in sids:\n",
    "        result_smile = pubchem_client.sid_to_smiles(sid)\n",
    "        \n",
    "        assert len(result_smile) >= 1, 'SMILES string is very short. Check SMILES.'\n",
    "        isinstance(result_smile, str), 'SMILES not returned as string.'\n",
    "        \n",
    "        actual.append(result_smile[0])\n",
    "    \n",
    "    assert expected == actual, 'Actual SMILES are not the expected SMILES.'\n",
    "    \n",
    "    return\n",
    "   \n",
    "    \n",
    "    \n",
    "def test_kegg_df_to_smiles():\n",
    "    \n",
    "    test_frame = pd.DataFrame([['space fill', 'ethanolamine', '3489'], ['space fill', 'pyruvate', '3324']], columns=['Filler', 'Compound Name', 'SID'])\n",
    "    \n",
    "    expected_frame = pd.DataFrame([['space fill', 'ethanolamine', '3489', int(700), 'C(CO)N'], ['space fill', 'pyruvate', '3324', int(1060), 'CC(=O)C(=O)O']], columns=['Filler', 'Compound Name', 'SID', 'CID', 'SMILES'])\n",
    "    \n",
    "    result_frame = pubchem_client.kegg_df_to_smiles(test_frame)\n",
    "    \n",
    "    assert_frame_equal(result_frame[0], expected_frame), 'Did not generate expected df.'\n",
    "    \n",
    "    return \n"
   ]
  },
  {
   "cell_type": "code",
   "execution_count": 29,
   "metadata": {},
   "outputs": [],
   "source": [
    "test_sid_to_smiles()"
   ]
  },
  {
   "cell_type": "code",
   "execution_count": 30,
   "metadata": {
    "scrolled": true
   },
   "outputs": [],
   "source": [
    "test_kegg_df_to_smiles()"
   ]
  },
  {
   "cell_type": "markdown",
   "metadata": {},
   "source": [
    "---\n",
    "# Probably don't need this stuff, keeping it just in case\n",
    "\n",
    "### Get SID from KEGG url \n",
    "\n",
    "This currently works from the compound page. I have not seen if it can be pulled from the reaction page.\n"
   ]
  },
  {
   "cell_type": "code",
   "execution_count": null,
   "metadata": {},
   "outputs": [],
   "source": [
    "#%%writefile kegg_utils.py\n",
    "\n",
    "import pubchempy as pc\n",
    "import re\n",
    "import requests\n",
    "\n",
    "from bs4 import BeautifulSoup\n",
    "\n",
    "\n",
    "def sid_to_smiles(sid):\n",
    "    substance = pc.Substance.from_sid(sid)\n",
    "    cid = substance.standardized_cid\n",
    "    compound = pc.get_compounds(cid)[0]\n",
    "    return compound.isomeric_smiles\n",
    "\n",
    "\n",
    "def kegg_to_sid(url):\n",
    "    # access the url\n",
    "    response = requests.get(url)\n",
    "\n",
    "    # turn the webpage into html\n",
    "    soup = BeautifulSoup(response.content, 'html.parser')\n",
    "\n",
    "    # find the link that contains 'pubchem'\n",
    "    sid = soup.find('a', href=re.compile(r'https://pubchem\\.ncbi'))\n",
    "\n",
    "    sid_string = sid.string\n",
    "\n",
    "    return sid_string\n",
    "\n",
    "\n",
    "def kegg_to_smiles(url):\n",
    "    \"\"\"Uses the KEGG compound page url to find the compound's PubChem SID, then to find the SMILES for that compound using the SID.\"\"\"\n",
    "\n",
    "    # access the url\n",
    "    response = requests.get(url)\n",
    "\n",
    "    # turn the webpage into html\n",
    "    soup = BeautifulSoup(response.content, 'html.parser')\n",
    "\n",
    "    # find the link that contains 'pubchem'\n",
    "    sid = soup.find('a', href=re.compile(r'https://pubchem\\.ncbi'))\n",
    "\n",
    "    substance = pc.Substance.from_sid(sid.string)\n",
    "    cid = substance.standardized_cid\n",
    "    compound = pc.get_compounds(cid)[0]\n",
    "\n",
    "    print(compound.isomeric_smiles)"
   ]
  },
  {
   "cell_type": "code",
   "execution_count": null,
   "metadata": {},
   "outputs": [],
   "source": [
    "#%%writefile kegg_utils.py\n",
    "\n",
    "import pubchempy as pc\n",
    "import re\n",
    "import requests\n",
    "\n",
    "from bs4 import BeautifulSoup\n",
    "\n",
    "\n",
    "def kegg_to_sid(url):\n",
    "    # access the url\n",
    "    response = requests.get(url)\n",
    "\n",
    "    # turn the webpage into html\n",
    "    soup = BeautifulSoup(response.content, 'html.parser')\n",
    "\n",
    "    # find the link that contains 'pubchem'\n",
    "    sid = soup.find('a', href=re.compile(r'https://pubchem\\.ncbi'))\n",
    "\n",
    "    sid_string = sid.string\n",
    "\n",
    "    return sid_string"
   ]
  },
  {
   "cell_type": "code",
   "execution_count": null,
   "metadata": {},
   "outputs": [],
   "source": [
    "# url of the desired KEGG compound page\n",
    "url = 'https://www.genome.jp/dbget-bin/www_bget?cpd:C00180'\n",
    "# access the url\n",
    "response = requests.get(url)\n",
    "\n",
    "# turn the webpage into html\n",
    "soup = BeautifulSoup(response.content, 'html.parser')\n",
    "\n",
    "# find the link that contains 'pubchem'\n",
    "sid = soup.find('a', href=re.compile('https://pubchem\\.ncbi'))\n",
    "\n",
    "# print the string that is displayed as the link\n",
    "# (this is the SID, which works with pubchempy to get the SMILES)\n",
    "print(sid.string)"
   ]
  },
  {
   "cell_type": "code",
   "execution_count": null,
   "metadata": {},
   "outputs": [],
   "source": [
    "#%%writefile test_kegg_utils.py\n",
    "import unittest\n",
    "\n",
    "import kegg_utils\n",
    "\n",
    "\n",
    "def test_kegg_to_sid():\n",
    "    url_list = [\n",
    "        'https://www.genome.jp/dbget-bin/www_bget?cpd:C00180',\n",
    "        'https://www.genome.jp/dbget-bin/www_bget?cpd:C00587',\n",
    "        'https://www.genome.jp/dbget-bin/www_bget?cpd:C00002']\n",
    "    for url in url_list:\n",
    "        sid_str = kegg_utils.kegg_to_sid(url)\n",
    "        sid_str.isdigit(), 'SID contains characters other than numbers'\n",
    "    return\n",
    "\n",
    "\n",
    "def test_kegg_to_smiles():\n",
    "\n",
    "    url = 'https://www.genome.jp/dbget-bin/www_bget?cpd:C00587'\n",
    "    smiles = kegg_utils.kegg_to_sid(url)\n",
    "\n",
    "    assert len(smiles) >= 1, 'SMILES string is very short. Check SMILES.'\n",
    "    isinstance(smiles, str), 'SMILES not returned as string.'\n",
    "    \n",
    "    return\n",
    "\n",
    "import pandas as pd\n",
    "import pubchempy as pc\n",
    "\n",
    "import kegg_utils\n",
    "\n",
    "def test_kegg_df_to_smiles():\n",
    "    \n",
    "    test_frame = pd.DataFrame([['ethanolamine', '3489'], ['pyruvate', '3324']], columns=['Compound Name', 'SID'])\n",
    "    \n",
    "    expected_frame = pd.DataFrame([['ethanolamine', '3489', 'C(CO)N'], ['pyruvate', '3324', 'CC(=O)C(=O)O']], columns=['Compound Name', 'SID', 'SMILES'])\n",
    "    \n",
    "    result_frame = kegg_utils.kegg_df_to_smiles(test_frame)\n",
    "    \n",
    "    assert result_frame.equals(expected_frame), 'Did not generate expected df.'\n",
    "    \n",
    "    return"
   ]
  },
  {
   "cell_type": "markdown",
   "metadata": {},
   "source": [
    "biopython kegg api to pull SID\n",
    "\n",
    "store smiles into dataframe to join later \n"
   ]
  }
 ],
 "metadata": {
  "kernelspec": {
   "display_name": "Python 3",
   "language": "python",
   "name": "python3"
  },
  "language_info": {
   "codemirror_mode": {
    "name": "ipython",
    "version": 3
   },
   "file_extension": ".py",
   "mimetype": "text/x-python",
   "name": "python",
   "nbconvert_exporter": "python",
   "pygments_lexer": "ipython3",
   "version": "3.7.0"
  }
 },
 "nbformat": 4,
 "nbformat_minor": 2
}
