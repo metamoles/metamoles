{
 "cells": [
  {
   "cell_type": "markdown",
   "metadata": {},
   "source": [
    "Test"
   ]
  },
  {
   "cell_type": "code",
   "execution_count": 79,
   "metadata": {},
   "outputs": [],
   "source": [
    "test_create_negative_matches()"
   ]
  },
  {
   "cell_type": "code",
   "execution_count": 82,
   "metadata": {},
   "outputs": [
    {
     "data": {
      "text/plain": [
       "['C00004', 'C01450', 'C00441', 'C00441', 'C00005', 'C01450', 'C00071']"
      ]
     },
     "execution_count": 82,
     "metadata": {},
     "output_type": "execute_result"
    }
   ],
   "source": [
    "df = metamoles.create_kegg_df(\"test_kegg_enzyme_records.txt.gz\",\"enzyme\")\n",
    "exploded_df = metamoles.explode_dataframe(df, metamoles.parse_compound_ids,\n",
    "                                'product', ['entry'])\n",
    "pos_df, neg_df = metamoles.create_negative_matches(exploded_df, 'entry', 'product')\n",
    "neg_df['product'].tolist()"
   ]
  },
  {
   "cell_type": "code",
   "execution_count": 81,
   "metadata": {},
   "outputs": [
    {
     "data": {
      "text/plain": [
       "['1.1.1.2',\n",
       " '1.1.1.2',\n",
       " '1.1.1.2',\n",
       " '1.1.1.1',\n",
       " '1.1.1.1',\n",
       " '1.1.1.1',\n",
       " '1.1.1.1',\n",
       " '1.1.1.3',\n",
       " '1.1.1.3',\n",
       " '1.1.1.3',\n",
       " '1.1.1.3']"
      ]
     },
     "execution_count": 81,
     "metadata": {},
     "output_type": "execute_result"
    }
   ],
   "source": [
    "pos_df['enzyme'].tolist()"
   ]
  },
  {
   "cell_type": "code",
   "execution_count": 83,
   "metadata": {},
   "outputs": [],
   "source": [
    "assert pos_df['enzyme'].tolist() == ['1.1.1.2', '1.1.1.2', '1.1.1.2',\n",
    "    '1.1.1.1', '1.1.1.1', '1.1.1.1', '1.1.1.1', '1.1.1.3',\n",
    "    '1.1.1.3', '1.1.1.3', '1.1.1.3']"
   ]
  },
  {
   "cell_type": "code",
   "execution_count": 77,
   "metadata": {},
   "outputs": [],
   "source": [
    "#def test_create_negative_matches():\n",
    "\"\"\"Unit tests for create_negative_matches()\n",
    "\"\"\"\n",
    "df = metamoles.create_kegg_df(\"test_kegg_enzyme_records.txt.gz\",\"enzyme\")\n",
    "exploded_df = metamoles.explode_dataframe(df, metamoles.parse_compound_ids,\n",
    "                                'product', ['entry'])\n",
    "pos_df, neg_df = metamoles.create_negative_matches(exploded_df, 'entry', 'product')\n",
    "assert pos_df.shape == (11, 3)\n",
    "assert neg_df.shape == (7, 3)\n",
    "assert pos_df['enzyme'].tolist() == ['1.1.1.2', '1.1.1.2', '1.1.1.2',\n",
    "    '1.1.1.1', '1.1.1.1', '1.1.1.1', '1.1.1.1', '1.1.1.3',\n",
    "    '1.1.1.3', '1.1.1.3', '1.1.1.3']\n",
    "assert neg_df['product'].tolist() == ['C00004', 'C01450', 'C00441', 'C00441',\n",
    " 'C00005', 'C01450', 'C00071']\n",
    "#    return\n"
   ]
  },
  {
   "cell_type": "code",
   "execution_count": 62,
   "metadata": {
    "scrolled": true
   },
   "outputs": [],
   "source": [
    "test_kegg_df_to_smiles()"
   ]
  },
  {
   "cell_type": "code",
   "execution_count": 60,
   "metadata": {},
   "outputs": [
    {
     "data": {
      "text/plain": [
       "(None, 'Did not generate expected df.')"
      ]
     },
     "execution_count": 60,
     "metadata": {},
     "output_type": "execute_result"
    }
   ],
   "source": [
    "#def test_kegg_df_to_smiles():\n",
    "\"\"\"Unit test for pubchem_client.py kegg_df_to_smiles.\"\"\"\n",
    "test_frame = pd.DataFrame([['space fill', 'ethanolamine', '3489'], [\n",
    "                          'space fill', 'pyruvate', '3324']], columns=['Filler', 'Compound Name', 'SID'])\n",
    "expected_frame = pd.DataFrame([[int(700),\n",
    "                                'C(CO)N',\n",
    "                                'space fill',\n",
    "                                'ethanolamine',\n",
    "                                '3489'],\n",
    "                               [int(1060),\n",
    "                                'CC(=O)C(=O)O',\n",
    "                                'space fill',\n",
    "                                'pyruvate',\n",
    "                                '3324']],\n",
    "                              columns=['CID',\n",
    "                                       'SMILES',\n",
    "                                       'Filler',\n",
    "                                       'Compound Name',\n",
    "                                       'SID'])\n",
    "result_frame = kegg_df_to_smiles(test_frame, 'SID')\n",
    "assert_frame_equal(\n",
    "    result_frame[0], expected_frame), 'Did not generate expected df.'\n",
    "#    return"
   ]
  },
  {
   "cell_type": "code",
   "execution_count": null,
   "metadata": {},
   "outputs": [],
   "source": [
    "test_sid_to_smiles()"
   ]
  },
  {
   "cell_type": "code",
   "execution_count": null,
   "metadata": {},
   "outputs": [],
   "source": [
    "def test_sid_to_smiles():\n",
    "    \"\"\"Unit test for pubchem_client.py sid_to_smiles.\"\"\"\n",
    "    sids = ['3489', '3990']\n",
    "    expected = ['C(CO)N', 'C1CSSC1CCCCC(=O)O']\n",
    "    actual = []\n",
    "    for sid in sids:\n",
    "        result_smile = sid_to_smiles(sid)\n",
    "        assert len(\n",
    "            result_smile) >= 1, 'SMILES string is very short. Check SMILES.'\n",
    "        isinstance(result_smile, str), 'SMILES not returned as string.'\n",
    "        actual.append(result_smile[0])\n",
    "    assert expected == actual, 'Actual SMILES are not the expected SMILES.'\n",
    "    return"
   ]
  },
  {
   "cell_type": "code",
   "execution_count": 43,
   "metadata": {},
   "outputs": [],
   "source": [
    "test_sid_to_smiles()"
   ]
  },
  {
   "cell_type": "code",
   "execution_count": 31,
   "metadata": {},
   "outputs": [],
   "source": [
    "    \"\"\"Unit test for pubchem_client.py sid_to_smiles.\"\"\"\n",
    "    sids = ['3489', '3990']\n",
    "    expected = ['C(CO)N', 'C1CSSC1CCCCC(=O)O']\n",
    "    actual = []\n",
    "    for sid in sids:\n",
    "        result_smile = sid_to_smiles(sid)\n",
    "        assert len(\n",
    "            result_smile) >= 1, 'SMILES string is very short. Check SMILES.'\n",
    "        isinstance(result_smile, str), 'SMILES not returned as string.'\n",
    "        actual.append(result_smile[0])\n",
    "    assert expected == actual, 'Actual SMILES are not the expected SMILES.'\n"
   ]
  },
  {
   "cell_type": "code",
   "execution_count": 20,
   "metadata": {},
   "outputs": [],
   "source": [
    "test_create_kegg_df()"
   ]
  },
  {
   "cell_type": "code",
   "execution_count": 28,
   "metadata": {},
   "outputs": [],
   "source": [
    "test_select_promiscuous_enzymes()"
   ]
  },
  {
   "cell_type": "code",
   "execution_count": 26,
   "metadata": {},
   "outputs": [],
   "source": [
    "df = metamoles.create_kegg_df(\"test_kegg_enzyme_records.txt.gz\",\"enzyme\")\n",
    "test_prom_df = metamoles.select_promiscuous_enzymes(df)\n",
    "expected_column = ['entry', 'reaction', 'product', 'substrate']\n",
    "actual_column = test_prom_df.columns.tolist()\n",
    "assert test_prom_df.shape == (1,4)\n",
    "assert expected_column == actual_column, \"expected column names and actual column names do not match\""
   ]
  },
  {
   "cell_type": "code",
   "execution_count": 25,
   "metadata": {},
   "outputs": [
    {
     "data": {
      "text/plain": [
       "['entry', 'reaction', 'product', 'substrate']"
      ]
     },
     "execution_count": 25,
     "metadata": {},
     "output_type": "execute_result"
    }
   ],
   "source": [
    "actual_column"
   ]
  },
  {
   "cell_type": "code",
   "execution_count": 7,
   "metadata": {},
   "outputs": [],
   "source": [
    "import metamoles\n",
    "from metamoles import *\n",
    "import pandas as pd\n",
    "from rdkit import Chem\n",
    "from rdkit.Chem import AllChem"
   ]
  },
  {
   "cell_type": "code",
   "execution_count": 18,
   "metadata": {},
   "outputs": [
    {
     "data": {
      "text/plain": [
       "['classname',\n",
       " 'cofactor',\n",
       " 'comment',\n",
       " 'dblinks',\n",
       " 'disease',\n",
       " 'effector',\n",
       " 'entry',\n",
       " 'genes',\n",
       " 'inhibitor',\n",
       " 'name',\n",
       " 'pathway',\n",
       " 'product',\n",
       " 'reaction',\n",
       " 'structures',\n",
       " 'substrate',\n",
       " 'sysname']"
      ]
     },
     "execution_count": 18,
     "metadata": {},
     "output_type": "execute_result"
    }
   ],
   "source": [
    "df1 = metamoles.create_kegg_df(\"test_kegg_enzyme_records.txt.gz\",\"enzyme\")\n",
    "df1.columns.tolist()"
   ]
  },
  {
   "cell_type": "code",
   "execution_count": 14,
   "metadata": {},
   "outputs": [
    {
     "data": {
      "text/plain": [
       "['classname',\n",
       " 'cofactor',\n",
       " 'comment',\n",
       " 'dblinks',\n",
       " 'disease',\n",
       " 'effector',\n",
       " 'entry',\n",
       " 'genes',\n",
       " 'inhibitor',\n",
       " 'name',\n",
       " 'pathway',\n",
       " 'product',\n",
       " 'reaction',\n",
       " 'structures',\n",
       " 'substrate',\n",
       " 'sysname']"
      ]
     },
     "execution_count": 14,
     "metadata": {},
     "output_type": "execute_result"
    }
   ],
   "source": [
    "list(df1.columns)"
   ]
  },
  {
   "cell_type": "code",
   "execution_count": 15,
   "metadata": {},
   "outputs": [
    {
     "name": "stdout",
     "output_type": "stream",
     "text": [
      "Yes\n"
     ]
    }
   ],
   "source": [
    "if list(df1.columns) == ['classname', 'cofactor', 'comment', 'dblinks', 'disease', 'effector', 'entry', 'genes', 'inhibitor', 'name', 'pathway', 'product', 'reaction', 'structures', 'substrate', 'sysname']:\n",
    "    print ('Yes')\n",
    "else:\n",
    "    print ('No')"
   ]
  },
  {
   "cell_type": "code",
   "execution_count": 75,
   "metadata": {},
   "outputs": [],
   "source": [
    "import metamoles\n",
    "from metamoles import *\n",
    "import pandas as pd\n",
    "from rdkit import Chem\n",
    "from rdkit.Chem import AllChem\n",
    "from pandas.util.testing import assert_frame_equal\n",
    "\n",
    "#Tests for the RDKit molecular similarity functions\n",
    "#Requires playground_df_cleaned_kegg_with_smiles.csv to be in the same directory for tests to pass.\n",
    "\n",
    "def test_input_data():\n",
    "    '''Tests input_data function in metamoles.py'''\n",
    "    input_df = pd.read_csv('playground_df_cleaned_kegg_with_smiles.csv')\n",
    "    test_df = metamoles.input_data(input_df)\n",
    "    assert isinstance(test_df, pd.DataFrame) == True, \"\"\"TypeError,\n",
    "    function should return a pandas dataframe\"\"\"\n",
    "    #assert\n",
    "    return '1/1 tests successful'\n",
    "\n",
    "def test_fingerprint_products():\n",
    "    '''Tests fingerprint_products function in metamoles.py'''\n",
    "    input_df = pd.read_csv('playground_df_cleaned_kegg_with_smiles.csv')\n",
    "    test_df = metamoles.input_data(input_df)\n",
    "    assert isinstance(metamoles.fingerprint_products(test_df), pd.DataFrame) == True, \"\"\"TypeError,\n",
    "    function should return a pandas dataframe\"\"\"\n",
    "    #assert\n",
    "    return '1/1 tests successful'\n",
    "\n",
    "def test_sim_i_j():\n",
    "    '''Tests sim_i_j function in metamoles.py'''\n",
    "    input_df = pd.read_csv('playground_df_cleaned_kegg_with_smiles.csv')\n",
    "    test_df = metamoles.fingerprint_products(metamoles.input_data(input_df))\n",
    "    A = test_df.iloc[0]\n",
    "    #B = test_df.iloc[1]\n",
    "    #C = test_df.iloc[2]\n",
    "    assert metamoles.sim_i_j(A, A) == 1, \"Self correlation is broken\"\n",
    "    #assert metamoles.sim_i_j(A, B) == -1, \"Standard correlation is broken\"\n",
    "    #assert metamoles.sim_i_j(A, C) == 0, \"Standard correlation is broken\"\n",
    "    return '1/1 tests successful'\n",
    "\n",
    "def test_sim_i_all():\n",
    "    '''Test sim_i_all function in metamoles.py'''\n",
    "    input_df = pd.read_csv('playground_df_cleaned_kegg_with_smiles.csv')\n",
    "    test_df = metamoles.fingerprint_products(metamoles.input_data(input_df))\n",
    "    metric = pd.DataFrame()\n",
    "    assert metric.empty == True, \"\"\"ShapeError, input metric dataframe\n",
    "    should be initialized as empty\"\"\"\n",
    "    for index, row in test_df.iterrows():\n",
    "        assert metamoles.sim_i_all(test_df, index, row, metric) == None, \"\"\"OutputError, function\n",
    "        shouldn't return anything\"\"\"\n",
    "        assert metric[index].all() >= 0 and metric[index].all() <= 1.0, \"\"\"ValueError,\n",
    "        metric should be between 0 and 1\"\"\"\n",
    "    return \"3/3 Tests successful\"\n",
    "\n",
    "def test_sim_metric():\n",
    "    '''Test sim_i_all function in metamoles.py'''\n",
    "    input_df = pd.read_csv('playground_df_cleaned_kegg_with_smiles.csv')\n",
    "    test_df = metamoles.fingerprint_products(metamoles.input_data(input_df))\n",
    "    assert isinstance(metamoles.sim_metric(test_df), pd.DataFrame) == True, \"\"\"TypeError,\n",
    "    function should return a dataframe\"\"\"\n",
    "    assert metamoles.sim_metric(test_df).isnull().values.any() == False, \"\"\"ValueError,\n",
    "    function-generated dataframe should not contain null values\"\"\"\n",
    "    #assert test_df.size == metamoles.sim_metric(test_df).size, \"\"\"ShapeError,\n",
    "    #function-generated dataframe should be the same size as input dataframe\"\"\"\n",
    "    return \"2/2 Tests successful\"\n",
    "\n",
    "def test_calculate_dist():\n",
    "    '''Test calculate_dist function in metamoles.py'''\n",
    "    df = pd.read_csv('playground_df_cleaned_kegg_with_smiles.csv')\n",
    "    test_df = metamoles.calculate_dist(df)\n",
    "    assert isinstance(test_df, pd.DataFrame) == True, \"\"\"TypeError,\n",
    "    function should return a dataframe\"\"\"\n",
    "    #assert len(test_df.columns) == 3+len(df.columns), \"\"\"ShapeError,\n",
    "    #function should add 3 columns to dataframe\"\"\"\n",
    "    return \"1/1 Tests successful\"\n",
    "\n",
    "#Tests for the RDKit compound inform functions\n",
    "\n",
    "def test_cpd_inform():\n",
    "\t'''Test cpd_inform function in metamoles.py'''\n",
    "\trapamycin = 'C[C@@H]1CC[C@H]2C[C@@H](/C(=C/C=C/C=C/[C@H](C[C@H](C(=O)[C@@H]([C@@H](/C(=C/[C@H](C(=O)C[C@H](OC(=O)[C@@H]3CCCCN3C(=O)C(=O)[C@@]1(O2)O)[C@H](C)C[C@@H]4CC[C@H]([C@@H](C4)OC)O)C)/C)O)OC)C)C)/C)OC'\n",
    "\ttest = cpd_inform(rapamycin)\n",
    "\tassert test[0] == 51, \"Carbon count is incorrect\"\n",
    "\tassert test[1] == 79, \"Hydrogen count is incorrect\"\n",
    "\tassert type(test[-1]) == type(1.0), \"TypeError: Molecular Weight should be float\"\n",
    "\treturn '3/3 Tests successful'\n",
    "\n",
    "def test_create_cpd_info():\n",
    "\t'''Test create_cpd_info function in metamoles.py'''\n",
    "\tdf_master = pd.DataFrame(['C([C@@H]1[C@H]([C@@H]([C@H](C(O1)O)O)O)O)O',\n",
    "\t\t 'C([C@@H]1[C@@H]([C@@H]([C@H]([C@H](O1)O)O)O)O)O',\n",
    "\t\t 'C([C@H]([C@H]([C@@H](C(=O)CO)O)O)O)O',\n",
    "\n",
    "'C[C@@H]1CC[C@H]2C[C@@H](/C(=C/C=C/C=C/[C@H](C[C@H](C(=O)[C@@H]([C@@H](/C(=C/[C@H](C(=O)C[C@H](OC(=O)[C@@H]3CCCCN3C(=O)C(=O)[C@@]1(O2)O)[C@H](C)C[C@@H]4CC[C@H]([C@@H](C4)OC)O)C)/C)O)OC)C)C)/C)OC']\n",
    ", columns=['SMILES'])\n",
    "\ttest = create_cpd_info(df_master)\n",
    "\n",
    "\tassert test['n_C'][0] == 6, \"ValueError: Carbon count is incorrect\"\n",
    "\tassert test['DoU'][3] == 13, \"ValueError: Degree of Unsaturation in inaccurate\"\n",
    "\tassert type(test['MW'][2]) == type(test['n_C'][0]), \"TypeError: MW should be float\"\n",
    "\tassert type(test['n_H'][3]) == type(test['n_C'][0]), \"TypeError: All data should be float\"\n",
    "\n",
    "\treturn '3/3 Tests successful'\n",
    "\n",
    "def test_count_C():\n",
    "\t'''Test count_C function in metamoles.py'''\n",
    "\tmol='CC[C@H](C)[C@@H]1NC(=O)[C@H](Cc2ccc(O)cc2)NC(=O)[C@@H](N)CSSC[C@H](NC(=O)[C@H](CC(N)=O)NC(=O)[C@H](CCC(N)=O)NC1=O)C(=O)N3CCC[C@H]3C(=O)N[C@@H](CC(C)C)C(=O)NCC(N)=O'\n",
    "\tmol=Chem.rdmolfiles.MolFromSmiles(mol)\n",
    "\tassert count_C(mol) == 43, \"ValueError: Count is incorrect\"\n",
    "\treturn '1/1 Tests successful'\n",
    "\n",
    "def test_count_O():\n",
    "\t'''Test count_O function in metamoles.py'''\n",
    "\tmol='CC[C@H](C)[C@@H]1NC(=O)[C@H](Cc2ccc(O)cc2)NC(=O)[C@@H](N)CSSC[C@H](NC(=O)[C@H](CC(N)=O)NC(=O)[C@H](CCC(N)=O)NC1=O)C(=O)N3CCC[C@H]3C(=O)N[C@@H](CC(C)C)C(=O)NCC(N)=O'\n",
    "\tmol=Chem.rdmolfiles.MolFromSmiles(mol)\n",
    "\tassert count_O(mol) == 12, \"ValueError: Count is incorrect\"\n",
    "\treturn '1/1 Tests successful'\n",
    "\n",
    "def test_count_N():\n",
    "\t'''Test count_N function in metamoles.py'''\n",
    "\tmol='CC[C@H](C)[C@@H]1NC(=O)[C@H](Cc2ccc(O)cc2)NC(=O)[C@@H](N)CSSC[C@H](NC(=O)[C@H](CC(N)=O)NC(=O)[C@H](CCC(N)=O)NC1=O)C(=O)N3CCC[C@H]3C(=O)N[C@@H](CC(C)C)C(=O)NCC(N)=O'\n",
    "\tmol=Chem.rdmolfiles.MolFromSmiles(mol)\n",
    "\tassert count_N(mol) == 12, \"ValueError: Count is incorrect\"\n",
    "\treturn '1/1 Tests successful'\n",
    "\n",
    "def test_count_P():\n",
    "\t'''Test count_P function in metamoles.py'''\n",
    "\tmol='ClP(Cl)Cl'\n",
    "\tmol=Chem.rdmolfiles.MolFromSmiles(mol)\n",
    "\tassert count_P(mol) == 1, \"ValueError: Count is incorrect\"\n",
    "\treturn '1/1 Tests successful'\n",
    "\n",
    "def test_count_S():\n",
    "\t'''Test count_S function in metamoles.py'''\n",
    "\tmol='CC[C@H](C)[C@@H]1NC(=O)[C@H](Cc2ccc(O)cc2)NC(=O)[C@@H](N)CSSC[C@H](NC(=O)[C@H](CC(N)=O)NC(=O)[C@H](CCC(N)=O)NC1=O)C(=O)N3CCC[C@H]3C(=O)N[C@@H](CC(C)C)C(=O)NCC(N)=O'\n",
    "\tmol=Chem.rdmolfiles.MolFromSmiles(mol)\n",
    "\tassert count_S(mol) == 2, \"ValueError: Count is incorrect\"\n",
    "\treturn '1/1 Tests successful'\n",
    "\n",
    "def test_count_X():\n",
    "\t'''Test count_X function in metamoles.py'''\n",
    "\tmol='ClP(Cl)Cl'\n",
    "\tmol=Chem.rdmolfiles.MolFromSmiles(mol)\n",
    "\tassert count_X(mol) == 3, \"ValueError: Count is incorrect\"\n",
    "\treturn '1/1 Tests successful'\n",
    "\n",
    "def test_count_H():\n",
    "\t'''Test count_H function in metamoles.py'''\n",
    "\tmol='CC[C@H](C)[C@@H]1NC(=O)[C@H](Cc2ccc(O)cc2)NC(=O)[C@@H](N)CSSC[C@H](NC(=O)[C@H](CC(N)=O)NC(=O)[C@H](CCC(N)=O)NC1=O)C(=O)N3CCC[C@H]3C(=O)N[C@@H](CC(C)C)C(=O)NCC(N)=O'\n",
    "\tmol=Chem.rdmolfiles.MolFromSmiles(mol)\n",
    "\tassert count_H(mol) == 66, \"ValueError: Count is incorrect\"\n",
    "\treturn '1/1 Tests successful'\n",
    "\n",
    "def test_create_kegg_df():\n",
    "    \"\"\"Unit tests for create_kegg_df()\n",
    "    \"\"\"\n",
    "    df1 = metamoles.create_kegg_df(\"test_kegg_enzyme_records.txt.gz\",\"enzyme\")\n",
    "    df2 = metamoles.create_kegg_df(\"test_kegg_compound_records.txt.gz\",\"compound\")\n",
    "    # for enzyme database\n",
    "    assert df1.shape == (3, 16)\n",
    "    assert df1.columns.tolist() == ['classname', 'cofactor', 'comment', 'dblinks', 'disease', 'effector', 'entry', 'genes', 'inhibitor', 'name', 'pathway', 'product', 'reaction', 'structures', 'substrate', 'sysname']\n",
    "    assert df1['entry'].tolist() == ['1.1.1.1', '1.1.1.2', '1.1.1.3']\n",
    "    # for compound database\n",
    "    assert df2.shape == (55, 8)\n",
    "    assert df2.columns.tolist() == ['dblinks', 'entry', 'enzyme', 'formula', 'mass',\n",
    "            'name', 'pathway', 'structures']\n",
    "    assert df2['entry'].tolist() == ['C00001', 'C00002', 'C00003', 'C00004',\n",
    "            'C00005', 'C00006', 'C00007', 'C00008', 'C00009', 'C00010', 'C00011',\n",
    "            'C00012', 'C00013', 'C00014', 'C00015', 'C00016', 'C00017', 'C00018',\n",
    "            'C00019', 'C00020', 'C00021', 'C00022', 'C00023', 'C00024', 'C00025',\n",
    "            'C00026', 'C00027', 'C00028', 'C00029', 'C00030', 'C00031', 'C00032',\n",
    "            'C00033', 'C00034', 'C00035', 'C00036', 'C00037', 'C00038', 'C00039',\n",
    "            'C00040', 'C00041', 'C00042', 'C00043', 'C00044', 'C00045', 'C00046',\n",
    "            'C00047', 'C00048', 'C00049', 'C00050', 'C00051', 'C00052', 'C00053',\n",
    "            'C00054', 'C00055']\n",
    "    return\n",
    "\n",
    "def test_select_promiscuous_enzymes():\n",
    "    \"\"\"Unit tests for select_promiscuous_enzymes()\n",
    "    \"\"\"\n",
    "    df = metamoles.create_kegg_df(\"test_kegg_enzyme_records.txt.gz\",\"enzyme\")\n",
    "    test_prom_df = metamoles.select_promiscuous_enzymes(df)\n",
    "    expected_column = ['entry', 'reaction', 'product', 'substrate']\n",
    "    actual_column = test_prom_df.columns.tolist()\n",
    "    assert test_prom_df.shape == (1,4)\n",
    "    assert expected_column == actual_column, \"expected column names and actual column names do not match\"\n",
    "    \n",
    "    return\n",
    "\n",
    "def test_parse_compound_ids():\n",
    "    \"\"\"Unit tests for parse_compound_ids()\n",
    "    \"\"\"\n",
    "    df = metamoles.create_kegg_df(\"test_kegg_enzyme_records.txt.gz\",\"enzyme\")\n",
    "    expected = ['C00071','C00004','C00080','C01450','C00071','C00005',\n",
    "    'C00080','C00441','C00004','C00005','C00080']\n",
    "    actual = metamoles.parse_compound_ids(df[\"product\"])\n",
    "    assert expected == actual, \"expected result of parse_compound_ids does not match the actual result\"\n",
    "\n",
    "    return\n",
    "\n",
    "def test_parse_pubchem_ids():\n",
    "    \"\"\"Unit tests for parse_pubchem_ids()\n",
    "    \"\"\"\n",
    "    compound_df = metamoles.create_kegg_df(\"test_kegg_compound_records.txt.gz\",\"compound\")\n",
    "    PubChemID_list = []\n",
    "    for _, row in compound_df.iterrows():\n",
    "        pubchem_id = metamoles.parse_pubchem_ids(row['dblinks'])\n",
    "        PubChemID_list.append(pubchem_id)\n",
    "    assert PubChemID_list == ['3303', '3304', '3305', '3306', '3307', '3308',\n",
    "        '3309', '3310', '3311', '3312', '3313', '3314', '3315', '3316', '3317',\n",
    "        '3318', '3319', '3320', '3321', '3322', '3323', '3324', '3325', '3326',\n",
    "        '3327', '3328', '3329', '3330', '3331', '3332', '3333', '3334', '3335',\n",
    "        '3336', '3337', '3338', '3339', '3340', '3341', '3342', '3343', '3344',\n",
    "        '3345', '3346', '3347', '3348', '3349', '3350', '3351', '3352', '3353',\n",
    "        '3354', '3355', '3356', '3357']\n",
    "    return\n",
    "\n",
    "def test_explode_dataframe():\n",
    "    \"\"\"Unit tests for explode_dataframe()\n",
    "    \"\"\"\n",
    "    df = metamoles.create_kegg_df(\"test_kegg_enzyme_records.txt.gz\",\"enzyme\")\n",
    "    exploded_df = metamoles.explode_dataframe(df, metamoles.parse_compound_ids,\n",
    "                                    'product', ['entry'])\n",
    "    assert exploded_df.shape == (11, 2)\n",
    "    assert exploded_df['product'].tolist() == ['C00071','C00004','C00080','C01450',\n",
    "        'C00071','C00005','C00080','C00441','C00004','C00005', 'C00080']\n",
    "    return\n",
    "\n",
    "def test_create_negative_matches():\n",
    "    \"\"\"Unit tests for create_negative_matches()\n",
    "    \"\"\"\n",
    "    df = metamoles.create_kegg_df(\"test_kegg_enzyme_records.txt.gz\",\"enzyme\")\n",
    "    exploded_df = metamoles.explode_dataframe(df, metamoles.parse_compound_ids,\n",
    "                                    'product', ['entry'])\n",
    "    pos_df, neg_df = metamoles.create_negative_matches(exploded_df, 'entry', 'product')\n",
    "    assert pos_df.shape == (11, 3)\n",
    "    assert neg_df.shape == (7, 3)\n",
    "    assert pos_df['enzyme'].tolist() == ['1.1.1.2', '1.1.1.2', '1.1.1.2',\n",
    "        '1.1.1.1', '1.1.1.1', '1.1.1.1', '1.1.1.1', '1.1.1.3',\n",
    "        '1.1.1.3', '1.1.1.3', '1.1.1.3']\n",
    "    assert neg_df['product'].tolist() == ['C00004', 'C01450', 'C00441', 'C00441',\n",
    " 'C00005', 'C01450', 'C00071']\n",
    "    return\n",
    "\n",
    "def test_parse_reaction_ids():\n",
    "    \"\"\"Unit tests for parse_reaction_ids()\n",
    "    \"\"\"\n",
    "    df = metamoles.create_kegg_df(\"test_kegg_enzyme_records.txt.gz\",\"enzyme\")\n",
    "    assert metamoles.parse_reaction_ids(df)==['R00623', 'R00624', 'R07328', 'R01773', 'R01775']\n",
    "    return\n",
    "\n",
    "def test_parse_reversible_reactions():\n",
    "     \"\"\"Unit tests for parse_reversible_reactions()\n",
    "     \"\"\"\n",
    "     df = metamoles.create_kegg_df(\"test_kegg_enzyme_records.txt.gz\",\"enzyme\")\n",
    "     reaction_list = metamoles.parse_reaction_ids(df)\n",
    "     assert metamoles.parse_reversible_reactions(reaction_list) == reaction_list\n",
    "     return\n",
    "\n",
    "\n",
    "def test_binarize_enzyme_class():\n",
    "    \"\"\"Unit tests for binarize_enzyme_class()\"\"\"\n",
    "    df = metamoles.create_kegg_df(\"test_kegg_enzyme_records.txt.gz\",\"enzyme\")\n",
    "    actual = metamoles.binarize_enzyme_class(df,column=\"entry\").enzyme_class_1.tolist()\n",
    "    assert actual == [1, 1, 1]\n",
    "    return\n",
    "\n",
    "def test_remove_single_cpd_rows():\n",
    "    \"\"\"Unit tests for remove_single_cpd_rows()\n",
    "    \"\"\"\n",
    "    smilesdf = pd.read_csv(\"playground_df_cleaned_kegg_with_smiles.csv\")\n",
    "    assert metamoles.remove_single_cpd_rows(smilesdf,\"entry\",\"SMILES\").shape == (50, 6)\n",
    "    return\n",
    "\n",
    "def test_join_pubchem_ids():\n",
    "     \"\"\"Unit tests for join_pubchem_ids()\n",
    "     \"\"\"\n",
    "     pubchemdf = metamoles.create_kegg_df(\"test_kegg_compound_records.txt.gz\",\"compound\")\n",
    "     masterdf =  metamoles.create_kegg_df(\"test_kegg_enzyme_records.txt.gz\",\"enzyme\")\n",
    "     return\n",
    "\n",
    "def test_sid_to_smiles():\n",
    "    \"\"\"Unit test for pubchem_client.py sid_to_smiles.\"\"\"\n",
    "    sids = ['3489', '3990']\n",
    "    expected = ['C(CO)N', 'C1CSSC1CCCCC(=O)O']\n",
    "    actual = []\n",
    "    for sid in sids:\n",
    "        result_smile = sid_to_smiles(sid)\n",
    "        assert len(\n",
    "            result_smile) >= 1, 'SMILES string is very short. Check SMILES.'\n",
    "        isinstance(result_smile, str), 'SMILES not returned as string.'\n",
    "        actual.append(result_smile[0])\n",
    "    assert expected == actual, 'Actual SMILES are not the expected SMILES.'\n",
    "    return\n",
    "\n",
    "def test_kegg_df_to_smiles():\n",
    "    \"\"\"Unit test for pubchem_client.py kegg_df_to_smiles.\"\"\"\n",
    "    test_frame = pd.DataFrame([['space fill', 'ethanolamine', '3489'], [\n",
    "                              'space fill', 'pyruvate', '3324']], columns=['Filler', 'Compound Name', 'SID'])\n",
    "    expected_frame = pd.DataFrame([[int(700),\n",
    "                                'C(CO)N',\n",
    "                                'space fill',\n",
    "                                'ethanolamine',\n",
    "                                '3489'],\n",
    "                               [int(1060),\n",
    "                                'CC(=O)C(=O)O',\n",
    "                                'space fill',\n",
    "                                'pyruvate',\n",
    "                                '3324']],\n",
    "                              columns=['CID',\n",
    "                                       'SMILES',\n",
    "                                       'Filler',\n",
    "                                       'Compound Name',\n",
    "                                       'SID'])\n",
    "    result_frame = kegg_df_to_smiles(test_frame, 'SID')\n",
    "    assert_frame_equal(\n",
    "        result_frame[0], expected_frame), 'Did not generate expected df.'\n",
    "    return\n"
   ]
  },
  {
   "cell_type": "code",
   "execution_count": null,
   "metadata": {},
   "outputs": [],
   "source": []
  }
 ],
 "metadata": {
  "kernelspec": {
   "display_name": "Python 3",
   "language": "python",
   "name": "python3"
  },
  "language_info": {
   "codemirror_mode": {
    "name": "ipython",
    "version": 3
   },
   "file_extension": ".py",
   "mimetype": "text/x-python",
   "name": "python",
   "nbconvert_exporter": "python",
   "pygments_lexer": "ipython3",
   "version": "3.7.0"
  }
 },
 "nbformat": 4,
 "nbformat_minor": 2
}
