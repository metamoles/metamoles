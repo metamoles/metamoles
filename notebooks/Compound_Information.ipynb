{
 "cells": [
  {
   "cell_type": "code",
   "execution_count": 11,
   "metadata": {},
   "outputs": [],
   "source": [
    "# create a function that return the general information of that compound e.g., number of each atom, MW, unsaturation\n",
    "\n",
    "from rdkit import Chem\n",
    "from rdkit.Chem import AllChem\n",
    "\n",
    "def count_C(mol):\n",
    "    return sum(1 for atom in mol.GetAtoms() if atom.GetAtomicNum() == 6)\n",
    "def count_O(mol):\n",
    "    return sum(1 for atom in mol.GetAtoms() if atom.GetAtomicNum() == 8)\n",
    "def count_N(mol):\n",
    "    return sum(1 for atom in mol.GetAtoms() if atom.GetAtomicNum() == 7)\n",
    "def count_P(mol):\n",
    "    return sum(1 for atom in mol.GetAtoms() if atom.GetAtomicNum() == 15)\n",
    "def count_S(mol):\n",
    "    return sum(1 for atom in mol.GetAtoms() if atom.GetAtomicNum() == 16)\n",
    "def count_X(mol):\n",
    "    return sum(1 for atom in mol.GetAtoms() if atom.GetAtomicNum() == 9 or atom.GetAtomicNum() == 17 or atom.GetAtomicNum() == 35 or atom.GetAtomicNum() == 53)\n",
    "def count_H(mol):\n",
    "    H = 0\n",
    "    for i in range(mol.GetNumAtoms()):\n",
    "        H += mol.GetAtomWithIdx(i).GetTotalNumHs(includeNeighbors=True)\n",
    "    return H\n",
    "\n",
    "def DoU(mol):\n",
    "    C = count_C(mol)\n",
    "    H = count_H(mol)\n",
    "    O = count_O(mol)\n",
    "    N = count_N(mol)\n",
    "    P = count_P(mol)\n",
    "    S = count_S(mol)\n",
    "    X = count_X(mol)\n",
    "    return float((2*C+2+N+P-X-H)/2)\n",
    "\n",
    "from rdkit.Chem.Descriptors import MolWt\n",
    "\n",
    "def cpd_inform(SMILES):\n",
    "    \n",
    "    \"\"\"A function for getting compound information from SMILES string\n",
    "    it received a SMILES string and return a dictionary of information consisted of number of C, H, O , N, P, S, X, Degree of Unsaturation and Molecular Weight\"\"\"\n",
    "    info = {}\n",
    "    mol = Chem.MolFromSmiles(SMILES)\n",
    "    info['n_C'] = float(count_C(mol))\n",
    "    info['n_H'] = float(count_H(mol))\n",
    "    info['n_O'] = float(count_O(mol))\n",
    "    info['n_N'] = float(count_N(mol))\n",
    "    info['n_P'] = float(count_P(mol))\n",
    "    info['n_S'] = float(count_S(mol))\n",
    "    info['n_X'] = float(count_X(mol))\n",
    "    info['DoU'] = DoU(mol)\n",
    "    info['MW'] = MolWt(mol)\n",
    "    \n",
    "    return info"
   ]
  },
  {
   "cell_type": "code",
   "execution_count": 12,
   "metadata": {},
   "outputs": [],
   "source": [
    "from rdkit import Chem\n",
    "from rdkit.Chem import AllChem\n",
    "from cpd_inform import cpd_inform\n",
    "def test_cpd_inform():\n",
    "    rapamycin = 'C[C@@H]1CC[C@H]2C[C@@H](/C(=C/C=C/C=C/[C@H](C[C@H](C(=O)[C@@H]([C@@H](/C(=C/[C@H](C(=O)C[C@H](OC(=O)[C@@H]3CCCCN3C(=O)C(=O)[C@@]1(O2)O)[C@H](C)C[C@@H]4CC[C@H]([C@@H](C4)OC)O)C)/C)O)OC)C)C)/C)OC'\n",
    "    test = cpd_inform(rapamycin)\n",
    "    \n",
    "    assert test['n_C'] == 51, \"Carbon count is incorrect\"\n",
    "    assert test['n_H'] == 79, \"Hydrogen count is incorrect\"\n",
    "    assert type(test['MW']) == type(1.0), \"TypeError: Molecular Weight should be float\"\n",
    "    \n",
    "    return 'Test pass, yayyyyyy'"
   ]
  },
  {
   "cell_type": "code",
   "execution_count": 13,
   "metadata": {
    "scrolled": true
   },
   "outputs": [
    {
     "data": {
      "text/plain": [
       "{'n_C': 51.0,\n",
       " 'n_H': 79.0,\n",
       " 'n_O': 13.0,\n",
       " 'n_N': 1.0,\n",
       " 'n_P': 0.0,\n",
       " 'n_S': 0.0,\n",
       " 'n_X': 0.0,\n",
       " 'DoU': 13.0,\n",
       " 'MW': 914.1870000000001}"
      ]
     },
     "execution_count": 13,
     "metadata": {},
     "output_type": "execute_result"
    }
   ],
   "source": [
    "rapamycin = 'C[C@@H]1CC[C@H]2C[C@@H](/C(=C/C=C/C=C/[C@H](C[C@H](C(=O)[C@@H]([C@@H](/C(=C/[C@H](C(=O)C[C@H](OC(=O)[C@@H]3CCCCN3C(=O)C(=O)[C@@]1(O2)O)[C@H](C)C[C@@H]4CC[C@H]([C@@H](C4)OC)O)C)/C)O)OC)C)C)/C)OC'\n",
    "test = cpd_inform(rapamycin)\n",
    "test"
   ]
  },
  {
   "cell_type": "code",
   "execution_count": 14,
   "metadata": {},
   "outputs": [
    {
     "data": {
      "text/plain": [
       "51.0"
      ]
     },
     "execution_count": 14,
     "metadata": {},
     "output_type": "execute_result"
    }
   ],
   "source": [
    "test['n_C']"
   ]
  },
  {
   "cell_type": "code",
   "execution_count": 15,
   "metadata": {},
   "outputs": [
    {
     "data": {
      "text/plain": [
       "'Test pass, yayyyyyy'"
      ]
     },
     "execution_count": 15,
     "metadata": {},
     "output_type": "execute_result"
    }
   ],
   "source": [
    "test_cpd_inform()"
   ]
  },
  {
   "cell_type": "code",
   "execution_count": 37,
   "metadata": {},
   "outputs": [],
   "source": [
    "# Create a function that create a new column of chemical information\n",
    "\n",
    "import pandas as pd\n",
    "from cpd_inform import cpd_inform\n",
    "\n",
    "def create_cpd_info(df, col_name='SMILES'):\n",
    "    \n",
    "    \"\"\"Receive a DataFrame and return a dataframe with additional columns named n_C, n_H, ..., DoU, and MW\"\"\"\n",
    "    \n",
    "    df['n_C'] = 'Empty'\n",
    "    df['n_H'] = 'Empty'\n",
    "    df['n_O'] = 'Empty'\n",
    "    df['n_N'] = 'Empty'\n",
    "    df['n_P'] = 'Empty'\n",
    "    df['n_S'] = 'Empty'\n",
    "    df['n_X'] = 'Empty'\n",
    "    df['DoU'] = 'Empty'\n",
    "    df['MW'] = 'Empty'\n",
    "    \n",
    "    for index in range(df.shape[0]):\n",
    "        mol = df[col_name][index]\n",
    "        info = cpd_inform(mol)\n",
    "        df['n_C'][index] = info['n_C']\n",
    "        df['n_H'][index] = info['n_H']\n",
    "        df['n_O'][index] = info['n_O']\n",
    "        df['n_N'][index] = info['n_N']\n",
    "        df['n_P'][index] = info['n_P']\n",
    "        df['n_S'][index] = info['n_S']\n",
    "        df['n_X'][index] = info['n_X']\n",
    "        df['DoU'][index] = info['DoU']\n",
    "        df['MW'][index] = info['MW']\n",
    "        \n",
    "    return df"
   ]
  },
  {
   "cell_type": "code",
   "execution_count": 38,
   "metadata": {
    "scrolled": true
   },
   "outputs": [
    {
     "data": {
      "text/html": [
       "<div>\n",
       "<style scoped>\n",
       "    .dataframe tbody tr th:only-of-type {\n",
       "        vertical-align: middle;\n",
       "    }\n",
       "\n",
       "    .dataframe tbody tr th {\n",
       "        vertical-align: top;\n",
       "    }\n",
       "\n",
       "    .dataframe thead th {\n",
       "        text-align: right;\n",
       "    }\n",
       "</style>\n",
       "<table border=\"1\" class=\"dataframe\">\n",
       "  <thead>\n",
       "    <tr style=\"text-align: right;\">\n",
       "      <th></th>\n",
       "      <th>SMILES</th>\n",
       "      <th>n_C</th>\n",
       "      <th>n_H</th>\n",
       "      <th>n_O</th>\n",
       "      <th>n_N</th>\n",
       "      <th>n_P</th>\n",
       "      <th>n_S</th>\n",
       "      <th>n_X</th>\n",
       "      <th>DoU</th>\n",
       "      <th>MW</th>\n",
       "    </tr>\n",
       "  </thead>\n",
       "  <tbody>\n",
       "    <tr>\n",
       "      <th>0</th>\n",
       "      <td>C([C@@H]1[C@H]([C@@H]([C@H](C(O1)O)O)O)O)O</td>\n",
       "      <td>6</td>\n",
       "      <td>12</td>\n",
       "      <td>6</td>\n",
       "      <td>0</td>\n",
       "      <td>0</td>\n",
       "      <td>0</td>\n",
       "      <td>0</td>\n",
       "      <td>1</td>\n",
       "      <td>180.156</td>\n",
       "    </tr>\n",
       "    <tr>\n",
       "      <th>1</th>\n",
       "      <td>C([C@@H]1[C@@H]([C@@H]([C@H]([C@H](O1)O)O)O)O)O</td>\n",
       "      <td>6</td>\n",
       "      <td>12</td>\n",
       "      <td>6</td>\n",
       "      <td>0</td>\n",
       "      <td>0</td>\n",
       "      <td>0</td>\n",
       "      <td>0</td>\n",
       "      <td>1</td>\n",
       "      <td>180.156</td>\n",
       "    </tr>\n",
       "    <tr>\n",
       "      <th>2</th>\n",
       "      <td>C([C@H]([C@H]([C@@H](C(=O)CO)O)O)O)O</td>\n",
       "      <td>6</td>\n",
       "      <td>12</td>\n",
       "      <td>6</td>\n",
       "      <td>0</td>\n",
       "      <td>0</td>\n",
       "      <td>0</td>\n",
       "      <td>0</td>\n",
       "      <td>1</td>\n",
       "      <td>180.156</td>\n",
       "    </tr>\n",
       "    <tr>\n",
       "      <th>3</th>\n",
       "      <td>C[C@@H]1CC[C@H]2C[C@@H](/C(=C/C=C/C=C/[C@H](C[...</td>\n",
       "      <td>51</td>\n",
       "      <td>79</td>\n",
       "      <td>13</td>\n",
       "      <td>1</td>\n",
       "      <td>0</td>\n",
       "      <td>0</td>\n",
       "      <td>0</td>\n",
       "      <td>13</td>\n",
       "      <td>914.187</td>\n",
       "    </tr>\n",
       "  </tbody>\n",
       "</table>\n",
       "</div>"
      ],
      "text/plain": [
       "                                              SMILES n_C n_H n_O n_N n_P n_S  \\\n",
       "0         C([C@@H]1[C@H]([C@@H]([C@H](C(O1)O)O)O)O)O   6  12   6   0   0   0   \n",
       "1    C([C@@H]1[C@@H]([C@@H]([C@H]([C@H](O1)O)O)O)O)O   6  12   6   0   0   0   \n",
       "2               C([C@H]([C@H]([C@@H](C(=O)CO)O)O)O)O   6  12   6   0   0   0   \n",
       "3  C[C@@H]1CC[C@H]2C[C@@H](/C(=C/C=C/C=C/[C@H](C[...  51  79  13   1   0   0   \n",
       "\n",
       "  n_X DoU       MW  \n",
       "0   0   1  180.156  \n",
       "1   0   1  180.156  \n",
       "2   0   1  180.156  \n",
       "3   0  13  914.187  "
      ]
     },
     "execution_count": 38,
     "metadata": {},
     "output_type": "execute_result"
    }
   ],
   "source": [
    "create_cpd_info(df_master, 'SMILES')"
   ]
  },
  {
   "cell_type": "code",
   "execution_count": 40,
   "metadata": {},
   "outputs": [
    {
     "data": {
      "text/html": [
       "<div>\n",
       "<style scoped>\n",
       "    .dataframe tbody tr th:only-of-type {\n",
       "        vertical-align: middle;\n",
       "    }\n",
       "\n",
       "    .dataframe tbody tr th {\n",
       "        vertical-align: top;\n",
       "    }\n",
       "\n",
       "    .dataframe thead th {\n",
       "        text-align: right;\n",
       "    }\n",
       "</style>\n",
       "<table border=\"1\" class=\"dataframe\">\n",
       "  <thead>\n",
       "    <tr style=\"text-align: right;\">\n",
       "      <th></th>\n",
       "      <th>SMILES</th>\n",
       "      <th>n_C</th>\n",
       "      <th>n_H</th>\n",
       "      <th>n_O</th>\n",
       "      <th>n_N</th>\n",
       "      <th>n_P</th>\n",
       "      <th>n_S</th>\n",
       "      <th>n_X</th>\n",
       "      <th>DoU</th>\n",
       "      <th>MW</th>\n",
       "    </tr>\n",
       "  </thead>\n",
       "  <tbody>\n",
       "    <tr>\n",
       "      <th>0</th>\n",
       "      <td>C([C@@H]1[C@H]([C@@H]([C@H](C(O1)O)O)O)O)O</td>\n",
       "      <td>6</td>\n",
       "      <td>12</td>\n",
       "      <td>6</td>\n",
       "      <td>0</td>\n",
       "      <td>0</td>\n",
       "      <td>0</td>\n",
       "      <td>0</td>\n",
       "      <td>1</td>\n",
       "      <td>180.156</td>\n",
       "    </tr>\n",
       "    <tr>\n",
       "      <th>1</th>\n",
       "      <td>C([C@@H]1[C@@H]([C@@H]([C@H]([C@H](O1)O)O)O)O)O</td>\n",
       "      <td>6</td>\n",
       "      <td>12</td>\n",
       "      <td>6</td>\n",
       "      <td>0</td>\n",
       "      <td>0</td>\n",
       "      <td>0</td>\n",
       "      <td>0</td>\n",
       "      <td>1</td>\n",
       "      <td>180.156</td>\n",
       "    </tr>\n",
       "    <tr>\n",
       "      <th>2</th>\n",
       "      <td>C([C@H]([C@H]([C@@H](C(=O)CO)O)O)O)O</td>\n",
       "      <td>6</td>\n",
       "      <td>12</td>\n",
       "      <td>6</td>\n",
       "      <td>0</td>\n",
       "      <td>0</td>\n",
       "      <td>0</td>\n",
       "      <td>0</td>\n",
       "      <td>1</td>\n",
       "      <td>180.156</td>\n",
       "    </tr>\n",
       "    <tr>\n",
       "      <th>3</th>\n",
       "      <td>C[C@@H]1CC[C@H]2C[C@@H](/C(=C/C=C/C=C/[C@H](C[...</td>\n",
       "      <td>51</td>\n",
       "      <td>79</td>\n",
       "      <td>13</td>\n",
       "      <td>1</td>\n",
       "      <td>0</td>\n",
       "      <td>0</td>\n",
       "      <td>0</td>\n",
       "      <td>13</td>\n",
       "      <td>914.187</td>\n",
       "    </tr>\n",
       "  </tbody>\n",
       "</table>\n",
       "</div>"
      ],
      "text/plain": [
       "                                              SMILES n_C n_H n_O n_N n_P n_S  \\\n",
       "0         C([C@@H]1[C@H]([C@@H]([C@H](C(O1)O)O)O)O)O   6  12   6   0   0   0   \n",
       "1    C([C@@H]1[C@@H]([C@@H]([C@H]([C@H](O1)O)O)O)O)O   6  12   6   0   0   0   \n",
       "2               C([C@H]([C@H]([C@@H](C(=O)CO)O)O)O)O   6  12   6   0   0   0   \n",
       "3  C[C@@H]1CC[C@H]2C[C@@H](/C(=C/C=C/C=C/[C@H](C[...  51  79  13   1   0   0   \n",
       "\n",
       "  n_X DoU       MW  \n",
       "0   0   1  180.156  \n",
       "1   0   1  180.156  \n",
       "2   0   1  180.156  \n",
       "3   0  13  914.187  "
      ]
     },
     "execution_count": 40,
     "metadata": {},
     "output_type": "execute_result"
    }
   ],
   "source": [
    "create_cpd_info(df_master)"
   ]
  },
  {
   "cell_type": "code",
   "execution_count": 43,
   "metadata": {},
   "outputs": [],
   "source": [
    "import pandas as pd\n",
    "from create_cpd_info import create_cpd_info\n",
    "\n",
    "def test_create_cpd_info():\n",
    "    \n",
    "    \"\"\"A unit test for create compound info\"\"\"\n",
    "    \n",
    "    df_master = pd.DataFrame(['C([C@@H]1[C@H]([C@@H]([C@H](C(O1)O)O)O)O)O',\n",
    "         'C([C@@H]1[C@@H]([C@@H]([C@H]([C@H](O1)O)O)O)O)O',\n",
    "         'C([C@H]([C@H]([C@@H](C(=O)CO)O)O)O)O', \n",
    "         'C[C@@H]1CC[C@H]2C[C@@H](/C(=C/C=C/C=C/[C@H](C[C@H](C(=O)[C@@H]([C@@H](/C(=C/[C@H](C(=O)C[C@H](OC(=O)[C@@H]3CCCCN3C(=O)C(=O)[C@@]1(O2)O)[C@H](C)C[C@@H]4CC[C@H]([C@@H](C4)OC)O)C)/C)O)OC)C)C)/C)OC'] , columns=['SMILES'])\n",
    "    test = create_cpd_info(df_master)\n",
    "    \n",
    "    assert test['n_C'][0] == 6, \"ValueError: Carbon count is incorrect\"\n",
    "    assert test['DoU'][3] == 13, \"ValueError: Degree of Unsaturation in inaccurate\"\n",
    "    assert type(test['MW'][2]) == type(5.0), \"TypeError: MW should be float\"\n",
    "    assert type(test['n_H'][3]) == type(1.0), \"TypeError: All data should be float\"\n",
    "    \n",
    "    return 'Test pass, you can use it to create compound info columns'"
   ]
  },
  {
   "cell_type": "code",
   "execution_count": 44,
   "metadata": {},
   "outputs": [
    {
     "data": {
      "text/plain": [
       "'Test pass, you can use it to create compound info columns'"
      ]
     },
     "execution_count": 44,
     "metadata": {},
     "output_type": "execute_result"
    }
   ],
   "source": [
    "test_create_cpd_info()"
   ]
  },
  {
   "cell_type": "code",
   "execution_count": 25,
   "metadata": {},
   "outputs": [
    {
     "data": {
      "text/html": [
       "<div>\n",
       "<style scoped>\n",
       "    .dataframe tbody tr th:only-of-type {\n",
       "        vertical-align: middle;\n",
       "    }\n",
       "\n",
       "    .dataframe tbody tr th {\n",
       "        vertical-align: top;\n",
       "    }\n",
       "\n",
       "    .dataframe thead th {\n",
       "        text-align: right;\n",
       "    }\n",
       "</style>\n",
       "<table border=\"1\" class=\"dataframe\">\n",
       "  <thead>\n",
       "    <tr style=\"text-align: right;\">\n",
       "      <th></th>\n",
       "      <th>SMILES</th>\n",
       "      <th>n_C</th>\n",
       "    </tr>\n",
       "  </thead>\n",
       "  <tbody>\n",
       "    <tr>\n",
       "      <th>0</th>\n",
       "      <td>C([C@@H]1[C@H]([C@@H]([C@H](C(O1)O)O)O)O)O</td>\n",
       "      <td>0.0</td>\n",
       "    </tr>\n",
       "    <tr>\n",
       "      <th>1</th>\n",
       "      <td>C([C@@H]1[C@@H]([C@@H]([C@H]([C@H](O1)O)O)O)O)O</td>\n",
       "      <td>0.0</td>\n",
       "    </tr>\n",
       "    <tr>\n",
       "      <th>2</th>\n",
       "      <td>C([C@H]([C@H]([C@@H](C(=O)CO)O)O)O)O</td>\n",
       "      <td>0.0</td>\n",
       "    </tr>\n",
       "    <tr>\n",
       "      <th>3</th>\n",
       "      <td>C[C@@H]1CC[C@H]2C[C@@H](/C(=C/C=C/C=C/[C@H](C[...</td>\n",
       "      <td>0.0</td>\n",
       "    </tr>\n",
       "  </tbody>\n",
       "</table>\n",
       "</div>"
      ],
      "text/plain": [
       "                                              SMILES  n_C\n",
       "0         C([C@@H]1[C@H]([C@@H]([C@H](C(O1)O)O)O)O)O  0.0\n",
       "1    C([C@@H]1[C@@H]([C@@H]([C@H]([C@H](O1)O)O)O)O)O  0.0\n",
       "2               C([C@H]([C@H]([C@@H](C(=O)CO)O)O)O)O  0.0\n",
       "3  C[C@@H]1CC[C@H]2C[C@@H](/C(=C/C=C/C=C/[C@H](C[...  0.0"
      ]
     },
     "execution_count": 25,
     "metadata": {},
     "output_type": "execute_result"
    }
   ],
   "source": [
    "df_master['n_C'] = '0.0'\n",
    "df_master"
   ]
  },
  {
   "cell_type": "code",
   "execution_count": null,
   "metadata": {},
   "outputs": [],
   "source": []
  }
 ],
 "metadata": {
  "kernelspec": {
   "display_name": "Python 3",
   "language": "python",
   "name": "python3"
  },
  "language_info": {
   "codemirror_mode": {
    "name": "ipython",
    "version": 3
   },
   "file_extension": ".py",
   "mimetype": "text/x-python",
   "name": "python",
   "nbconvert_exporter": "python",
   "pygments_lexer": "ipython3",
   "version": "3.6.8"
  }
 },
 "nbformat": 4,
 "nbformat_minor": 2
}
