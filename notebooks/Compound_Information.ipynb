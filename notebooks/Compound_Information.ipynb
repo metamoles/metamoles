{
 "cells": [
  {
   "cell_type": "code",
   "execution_count": 25,
   "metadata": {},
   "outputs": [],
   "source": [
    "# create a function that return the general information of that compound e.g., number of each atom, MW, unsaturation\n",
    "# this will be cpd_info.py\n",
    "\n",
    "from rdkit import Chem\n",
    "from rdkit.Chem import AllChem\n",
    "\n",
    "def count_C(mol):\n",
    "    return sum(1 for atom in mol.GetAtoms() if atom.GetAtomicNum() == 6)\n",
    "def count_O(mol):\n",
    "    return sum(1 for atom in mol.GetAtoms() if atom.GetAtomicNum() == 8)\n",
    "def count_N(mol):\n",
    "    return sum(1 for atom in mol.GetAtoms() if atom.GetAtomicNum() == 7)\n",
    "def count_P(mol):\n",
    "    return sum(1 for atom in mol.GetAtoms() if atom.GetAtomicNum() == 15)\n",
    "def count_S(mol):\n",
    "    return sum(1 for atom in mol.GetAtoms() if atom.GetAtomicNum() == 16)\n",
    "def count_X(mol):\n",
    "    return sum(1 for atom in mol.GetAtoms() if atom.GetAtomicNum() == 9 or atom.GetAtomicNum() == 17 or atom.GetAtomicNum() == 35 or atom.GetAtomicNum() == 53)\n",
    "def count_H(mol):\n",
    "    H = 0\n",
    "    for i in range(mol.GetNumAtoms()):\n",
    "        H += mol.GetAtomWithIdx(i).GetTotalNumHs(includeNeighbors=True)\n",
    "    return H\n",
    "\n",
    "from rdkit.Chem.Descriptors import MolWt\n",
    "\n",
    "def cpd_inform(SMILES):\n",
    "    \n",
    "    \"\"\"A function for getting compound information from SMILES string\n",
    "    it received a SMILES string and return a dictionary of information consisted of number of C, H, O , N, P, S, X, Degree of Unsaturation and Molecular Weight\"\"\"\n",
    "    info = []\n",
    "    mol = Chem.MolFromSmiles(SMILES)\n",
    "    info.append(float(count_C(mol)))\n",
    "    info.append(float(count_H(mol)))\n",
    "    info.append(float(count_O(mol)))\n",
    "    info.append(float(count_N(mol)))\n",
    "    info.append(float(count_P(mol)))\n",
    "    info.append(float(count_S(mol)))\n",
    "    info.append(float(count_X(mol)))\n",
    "    info.append((2*info[0] + 2 + info[3] + info[4] - info[6] - info[1])/2) # it is (2*C + 2 + N + P - X - H)/2\n",
    "    info.append(MolWt(mol))\n",
    "    return info\n",
    "\n",
    "# Create a function that create a new column of chemical information\n",
    "\n",
    "import pandas as pd\n",
    "\n",
    "def create_cpd_info(input_df, col_name='SMILES'):\n",
    "    \n",
    "    \"\"\"Receive a DataFrame and return a dataframe with additional columns named n_C, n_H, ..., DoU, and MW\"\"\"\n",
    "    \n",
    "    # create an empty funciton with either empty strint '' or NaN by np.nan\n",
    "\n",
    "    n_C = []\n",
    "    n_H = []\n",
    "    n_O = []\n",
    "    n_N = []\n",
    "    n_P = []\n",
    "    n_S = []\n",
    "    n_X = []\n",
    "    DoU = []\n",
    "    MW = []\n",
    "\n",
    "    for row in range(input_df.shape[0]):\n",
    "        mol = input_df[col_name][row]\n",
    "        info = cpd_inform(mol)\n",
    "        n_C.append(info[0])\n",
    "        n_H.append(info[1])\n",
    "        n_O.append(info[2])\n",
    "        n_N.append(info[3])\n",
    "        n_P.append(info[4])\n",
    "        n_S.append(info[5])\n",
    "        n_X.append(info[6])\n",
    "        DoU.append(info[7])\n",
    "        MW.append(info[8])\n",
    "\n",
    "    input_df['n_C'] = pd.DataFrame(n_C)\n",
    "    input_df['n_H'] = pd.DataFrame(n_H)\n",
    "    input_df['n_O'] = pd.DataFrame(n_O)\n",
    "    input_df['n_N'] = pd.DataFrame(n_N)\n",
    "    input_df['n_P'] = pd.DataFrame(n_P)\n",
    "    input_df['n_S'] = pd.DataFrame(n_S)\n",
    "    input_df['n_X'] = pd.DataFrame(n_X)\n",
    "    input_df['DoU'] = pd.DataFrame(DoU)\n",
    "    input_df['MW'] = pd.DataFrame(MW)\n",
    "    \n",
    "    return input_df"
   ]
  },
  {
   "cell_type": "code",
   "execution_count": 46,
   "metadata": {},
   "outputs": [],
   "source": [
    "# This cell is test_cpd_info.py\n",
    "\n",
    "from rdkit import Chem\n",
    "from rdkit.Chem import AllChem\n",
    "from cpd_info import cpd_inform\n",
    "from cpd_info import create_cpd_info\n",
    "\n",
    "def test_cpd_inform():\n",
    "    rapamycin = 'C[C@@H]1CC[C@H]2C[C@@H](/C(=C/C=C/C=C/[C@H](C[C@H](C(=O)[C@@H]([C@@H](/C(=C/[C@H](C(=O)C[C@H](OC(=O)[C@@H]3CCCCN3C(=O)C(=O)[C@@]1(O2)O)[C@H](C)C[C@@H]4CC[C@H]([C@@H](C4)OC)O)C)/C)O)OC)C)C)/C)OC'\n",
    "    test = cpd_inform(rapamycin)\n",
    "    \n",
    "    assert test[0] == 51, \"Carbon count is incorrect\"\n",
    "    assert test[1] == 79, \"Hydrogen count is incorrect\"\n",
    "    assert type(test[-1]) == type(1.0), \"TypeError: Molecular Weight should be float\"\n",
    "    \n",
    "    return 'Test pass, yayyyyyy'\n",
    "import pandas as pd\n",
    "\n",
    "def test_create_cpd_info():\n",
    "    \n",
    "    \"\"\"A unit test for create compound info\"\"\"\n",
    "    \n",
    "    df_master = pd.DataFrame(['C([C@@H]1[C@H]([C@@H]([C@H](C(O1)O)O)O)O)O',\n",
    "         'C([C@@H]1[C@@H]([C@@H]([C@H]([C@H](O1)O)O)O)O)O',\n",
    "         'C([C@H]([C@H]([C@@H](C(=O)CO)O)O)O)O', \n",
    "         'C[C@@H]1CC[C@H]2C[C@@H](/C(=C/C=C/C=C/[C@H](C[C@H](C(=O)[C@@H]([C@@H](/C(=C/[C@H](C(=O)C[C@H](OC(=O)[C@@H]3CCCCN3C(=O)C(=O)[C@@]1(O2)O)[C@H](C)C[C@@H]4CC[C@H]([C@@H](C4)OC)O)C)/C)O)OC)C)C)/C)OC'] , columns=['SMILES'])\n",
    "    test = create_cpd_info(df_master)\n",
    "    \n",
    "    assert test['n_C'][0] == 6, \"ValueError: Carbon count is incorrect\"\n",
    "    assert test['DoU'][3] == 13, \"ValueError: Degree of Unsaturation in inaccurate\"\n",
    "    assert type(test['MW'][2]) == type(test['n_C'][0]), \"TypeError: MW should be float\"\n",
    "    assert type(test['n_H'][3]) == type(test['n_C'][0]), \"TypeError: All data should be float\"\n",
    "    \n",
    "    return 'Test pass, you can use it to create compound info columns'"
   ]
  },
  {
   "cell_type": "code",
   "execution_count": 27,
   "metadata": {
    "scrolled": true
   },
   "outputs": [
    {
     "data": {
      "text/plain": [
       "[51.0, 79.0, 13.0, 1.0, 0.0, 0.0, 0.0, 13.0, 914.1870000000001]"
      ]
     },
     "execution_count": 27,
     "metadata": {},
     "output_type": "execute_result"
    }
   ],
   "source": [
    "rapamycin = 'C[C@@H]1CC[C@H]2C[C@@H](/C(=C/C=C/C=C/[C@H](C[C@H](C(=O)[C@@H]([C@@H](/C(=C/[C@H](C(=O)C[C@H](OC(=O)[C@@H]3CCCCN3C(=O)C(=O)[C@@]1(O2)O)[C@H](C)C[C@@H]4CC[C@H]([C@@H](C4)OC)O)C)/C)O)OC)C)C)/C)OC'\n",
    "test = cpd_inform(rapamycin)\n",
    "test"
   ]
  },
  {
   "cell_type": "code",
   "execution_count": 28,
   "metadata": {},
   "outputs": [
    {
     "data": {
      "text/plain": [
       "9"
      ]
     },
     "execution_count": 28,
     "metadata": {},
     "output_type": "execute_result"
    }
   ],
   "source": [
    "len(test)"
   ]
  },
  {
   "cell_type": "code",
   "execution_count": 29,
   "metadata": {},
   "outputs": [
    {
     "data": {
      "text/plain": [
       "'Test pass, yayyyyyy'"
      ]
     },
     "execution_count": 29,
     "metadata": {},
     "output_type": "execute_result"
    }
   ],
   "source": [
    "test_cpd_inform()"
   ]
  },
  {
   "cell_type": "code",
   "execution_count": 30,
   "metadata": {
    "scrolled": false
   },
   "outputs": [
    {
     "data": {
      "text/html": [
       "<div>\n",
       "<style scoped>\n",
       "    .dataframe tbody tr th:only-of-type {\n",
       "        vertical-align: middle;\n",
       "    }\n",
       "\n",
       "    .dataframe tbody tr th {\n",
       "        vertical-align: top;\n",
       "    }\n",
       "\n",
       "    .dataframe thead th {\n",
       "        text-align: right;\n",
       "    }\n",
       "</style>\n",
       "<table border=\"1\" class=\"dataframe\">\n",
       "  <thead>\n",
       "    <tr style=\"text-align: right;\">\n",
       "      <th></th>\n",
       "      <th>SMILES</th>\n",
       "    </tr>\n",
       "  </thead>\n",
       "  <tbody>\n",
       "    <tr>\n",
       "      <th>0</th>\n",
       "      <td>C([C@@H]1[C@H]([C@@H]([C@H](C(O1)O)O)O)O)O</td>\n",
       "    </tr>\n",
       "    <tr>\n",
       "      <th>1</th>\n",
       "      <td>C([C@@H]1[C@@H]([C@@H]([C@H]([C@H](O1)O)O)O)O)O</td>\n",
       "    </tr>\n",
       "    <tr>\n",
       "      <th>2</th>\n",
       "      <td>C([C@H]([C@H]([C@@H](C(=O)CO)O)O)O)O</td>\n",
       "    </tr>\n",
       "    <tr>\n",
       "      <th>3</th>\n",
       "      <td>C[C@@H]1CC[C@H]2C[C@@H](/C(=C/C=C/C=C/[C@H](C[...</td>\n",
       "    </tr>\n",
       "  </tbody>\n",
       "</table>\n",
       "</div>"
      ],
      "text/plain": [
       "                                              SMILES\n",
       "0         C([C@@H]1[C@H]([C@@H]([C@H](C(O1)O)O)O)O)O\n",
       "1    C([C@@H]1[C@@H]([C@@H]([C@H]([C@H](O1)O)O)O)O)O\n",
       "2               C([C@H]([C@H]([C@@H](C(=O)CO)O)O)O)O\n",
       "3  C[C@@H]1CC[C@H]2C[C@@H](/C(=C/C=C/C=C/[C@H](C[..."
      ]
     },
     "execution_count": 30,
     "metadata": {},
     "output_type": "execute_result"
    }
   ],
   "source": [
    "df_master = pd.DataFrame(['C([C@@H]1[C@H]([C@@H]([C@H](C(O1)O)O)O)O)O',\n",
    "         'C([C@@H]1[C@@H]([C@@H]([C@H]([C@H](O1)O)O)O)O)O',\n",
    "         'C([C@H]([C@H]([C@@H](C(=O)CO)O)O)O)O', \n",
    "         'C[C@@H]1CC[C@H]2C[C@@H](/C(=C/C=C/C=C/[C@H](C[C@H](C(=O)[C@@H]([C@@H](/C(=C/[C@H](C(=O)C[C@H](OC(=O)[C@@H]3CCCCN3C(=O)C(=O)[C@@]1(O2)O)[C@H](C)C[C@@H]4CC[C@H]([C@@H](C4)OC)O)C)/C)O)OC)C)C)/C)OC'] , columns=['SMILES'])\n",
    "df_master"
   ]
  },
  {
   "cell_type": "code",
   "execution_count": 37,
   "metadata": {},
   "outputs": [
    {
     "data": {
      "text/plain": [
       "numpy.float64"
      ]
     },
     "execution_count": 37,
     "metadata": {},
     "output_type": "execute_result"
    }
   ],
   "source": [
    "test = create_cpd_info(df_master)\n",
    "type(test['MW'][2])"
   ]
  },
  {
   "cell_type": "code",
   "execution_count": 39,
   "metadata": {},
   "outputs": [
    {
     "data": {
      "text/plain": [
       "numpy.float64"
      ]
     },
     "execution_count": 39,
     "metadata": {},
     "output_type": "execute_result"
    }
   ],
   "source": [
    "type(test['n_C'][2])"
   ]
  },
  {
   "cell_type": "code",
   "execution_count": 42,
   "metadata": {},
   "outputs": [
    {
     "data": {
      "text/plain": [
       "float"
      ]
     },
     "execution_count": 42,
     "metadata": {},
     "output_type": "execute_result"
    }
   ],
   "source": [
    "type(5.0)"
   ]
  },
  {
   "cell_type": "code",
   "execution_count": 32,
   "metadata": {},
   "outputs": [
    {
     "name": "stdout",
     "output_type": "stream",
     "text": [
      "8.96 ms ± 276 µs per loop (mean ± std. dev. of 7 runs, 100 loops each)\n"
     ]
    }
   ],
   "source": [
    "# old function\n",
    "%timeit create_cpd_info(df_master, 'SMILES')"
   ]
  },
  {
   "cell_type": "code",
   "execution_count": 33,
   "metadata": {},
   "outputs": [
    {
     "data": {
      "text/html": [
       "<div>\n",
       "<style scoped>\n",
       "    .dataframe tbody tr th:only-of-type {\n",
       "        vertical-align: middle;\n",
       "    }\n",
       "\n",
       "    .dataframe tbody tr th {\n",
       "        vertical-align: top;\n",
       "    }\n",
       "\n",
       "    .dataframe thead th {\n",
       "        text-align: right;\n",
       "    }\n",
       "</style>\n",
       "<table border=\"1\" class=\"dataframe\">\n",
       "  <thead>\n",
       "    <tr style=\"text-align: right;\">\n",
       "      <th></th>\n",
       "      <th>SMILES</th>\n",
       "      <th>n_C</th>\n",
       "      <th>n_H</th>\n",
       "      <th>n_O</th>\n",
       "      <th>n_N</th>\n",
       "      <th>n_P</th>\n",
       "      <th>n_S</th>\n",
       "      <th>n_X</th>\n",
       "      <th>DoU</th>\n",
       "      <th>MW</th>\n",
       "    </tr>\n",
       "  </thead>\n",
       "  <tbody>\n",
       "    <tr>\n",
       "      <th>0</th>\n",
       "      <td>C([C@@H]1[C@H]([C@@H]([C@H](C(O1)O)O)O)O)O</td>\n",
       "      <td>6.0</td>\n",
       "      <td>12.0</td>\n",
       "      <td>6.0</td>\n",
       "      <td>0.0</td>\n",
       "      <td>0.0</td>\n",
       "      <td>0.0</td>\n",
       "      <td>0.0</td>\n",
       "      <td>1.0</td>\n",
       "      <td>180.156</td>\n",
       "    </tr>\n",
       "    <tr>\n",
       "      <th>1</th>\n",
       "      <td>C([C@@H]1[C@@H]([C@@H]([C@H]([C@H](O1)O)O)O)O)O</td>\n",
       "      <td>6.0</td>\n",
       "      <td>12.0</td>\n",
       "      <td>6.0</td>\n",
       "      <td>0.0</td>\n",
       "      <td>0.0</td>\n",
       "      <td>0.0</td>\n",
       "      <td>0.0</td>\n",
       "      <td>1.0</td>\n",
       "      <td>180.156</td>\n",
       "    </tr>\n",
       "    <tr>\n",
       "      <th>2</th>\n",
       "      <td>C([C@H]([C@H]([C@@H](C(=O)CO)O)O)O)O</td>\n",
       "      <td>6.0</td>\n",
       "      <td>12.0</td>\n",
       "      <td>6.0</td>\n",
       "      <td>0.0</td>\n",
       "      <td>0.0</td>\n",
       "      <td>0.0</td>\n",
       "      <td>0.0</td>\n",
       "      <td>1.0</td>\n",
       "      <td>180.156</td>\n",
       "    </tr>\n",
       "    <tr>\n",
       "      <th>3</th>\n",
       "      <td>C[C@@H]1CC[C@H]2C[C@@H](/C(=C/C=C/C=C/[C@H](C[...</td>\n",
       "      <td>51.0</td>\n",
       "      <td>79.0</td>\n",
       "      <td>13.0</td>\n",
       "      <td>1.0</td>\n",
       "      <td>0.0</td>\n",
       "      <td>0.0</td>\n",
       "      <td>0.0</td>\n",
       "      <td>13.0</td>\n",
       "      <td>914.187</td>\n",
       "    </tr>\n",
       "  </tbody>\n",
       "</table>\n",
       "</div>"
      ],
      "text/plain": [
       "                                              SMILES   n_C   n_H   n_O  n_N  \\\n",
       "0         C([C@@H]1[C@H]([C@@H]([C@H](C(O1)O)O)O)O)O   6.0  12.0   6.0  0.0   \n",
       "1    C([C@@H]1[C@@H]([C@@H]([C@H]([C@H](O1)O)O)O)O)O   6.0  12.0   6.0  0.0   \n",
       "2               C([C@H]([C@H]([C@@H](C(=O)CO)O)O)O)O   6.0  12.0   6.0  0.0   \n",
       "3  C[C@@H]1CC[C@H]2C[C@@H](/C(=C/C=C/C=C/[C@H](C[...  51.0  79.0  13.0  1.0   \n",
       "\n",
       "   n_P  n_S  n_X   DoU       MW  \n",
       "0  0.0  0.0  0.0   1.0  180.156  \n",
       "1  0.0  0.0  0.0   1.0  180.156  \n",
       "2  0.0  0.0  0.0   1.0  180.156  \n",
       "3  0.0  0.0  0.0  13.0  914.187  "
      ]
     },
     "execution_count": 33,
     "metadata": {},
     "output_type": "execute_result"
    }
   ],
   "source": [
    "create_cpd_info(df_master, 'SMILES')"
   ]
  },
  {
   "cell_type": "code",
   "execution_count": 47,
   "metadata": {},
   "outputs": [
    {
     "data": {
      "text/plain": [
       "'Test pass, you can use it to create compound info columns'"
      ]
     },
     "execution_count": 47,
     "metadata": {},
     "output_type": "execute_result"
    }
   ],
   "source": [
    "test_create_cpd_info()"
   ]
  },
  {
   "cell_type": "code",
   "execution_count": null,
   "metadata": {},
   "outputs": [],
   "source": []
  }
 ],
 "metadata": {
  "kernelspec": {
   "display_name": "Python 3",
   "language": "python",
   "name": "python3"
  },
  "language_info": {
   "codemirror_mode": {
    "name": "ipython",
    "version": 3
   },
   "file_extension": ".py",
   "mimetype": "text/x-python",
   "name": "python",
   "nbconvert_exporter": "python",
   "pygments_lexer": "ipython3",
   "version": "3.6.8"
  }
 },
 "nbformat": 4,
 "nbformat_minor": 2
}
