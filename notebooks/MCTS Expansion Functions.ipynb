{
 "cells": [
  {
   "cell_type": "markdown",
   "metadata": {},
   "source": [
    "## Expansion Procedure"
   ]
  },
  {
   "cell_type": "code",
   "execution_count": 1,
   "metadata": {},
   "outputs": [],
   "source": [
    "import numpy as np\n",
    "import scipy as sp\n",
    "import string\n",
    "import random\n",
    "\n",
    "def rand_str(size=6, chars=string.ascii_uppercase):# + string.digits):\n",
    "\n",
    "    return ''.join(random.choice(chars) for _ in range(size))"
   ]
  },
  {
   "cell_type": "code",
   "execution_count": 2,
   "metadata": {},
   "outputs": [],
   "source": [
    "# begins when a molecule query is entered\n"
   ]
  },
  {
   "cell_type": "code",
   "execution_count": 3,
   "metadata": {},
   "outputs": [],
   "source": [
    "#computes all possible transformations for a given query\n",
    "    #associates each transformation with a method (enzyme, predicted promiscious or canonical)\n",
    "    \n",
    "    \n",
    "    "
   ]
  },
  {
   "cell_type": "code",
   "execution_count": 4,
   "metadata": {},
   "outputs": [],
   "source": [
    "def expansion_procedure(mol, k: int, n: int) -> list:\n",
    "\n",
    "    \"\"\"\n",
    "\n",
    "    This function recieves a molecule object and feeds into the compute_policy() function.\n",
    "    The compute_policy model returns a probability distribution of all possible transformations (T1 to Tn). \n",
    "    Then, this function keeps only the k most probable transformations for the input molecule. \n",
    "    This yields the reactants necessary to make the input, \n",
    "    and thus the set of complete reactions of length k can be generated using react_transformations. \n",
    "    \n",
    "    For each reaction in the set, a reaction prediction is performed using the compute_feasibilty function, \n",
    "    returning a probablity score for each reaction. \n",
    "    Improbable reactions are then filtered out, leading to a ranked_precursors list of length n that contains \n",
    "    admissible transformations and their corresponding reactants. These can be considered the set of allowed moves\n",
    "    for a given state (product).\n",
    "    \n",
    "    Example: \n",
    "        $ python __currently_nonexistent__.py or ``defunct example``\n",
    "\n",
    "    Attributes:\n",
    "        mol (obj): ECFP4 molecule graph\n",
    "        k (int): Number of reactions to filter, Segler et al. used 50 I think\n",
    "        n (int): Number of precursors to return, Segler et al. used 2 I think\n",
    "        \n",
    "    Returns:\n",
    "        ranked_precursors (list): A ranked list of length n of predicted precursor structures\n",
    "\n",
    "    Todo:\n",
    "        Tests, complete underlying pipeline functions\n",
    "\n",
    "    \"\"\"\n",
    "\n",
    "    all_transformations = compute_policy(mol)\n",
    "    \n",
    "    k_reactions = react_transformations(mol, all_transformations[0:k]) # apply k transformations, generating k reactions\n",
    "        \n",
    "    ranked_precursors = compute_feasibility(n, k_reactions)\n",
    "    \n",
    "    return ranked_precursors "
   ]
  },
  {
   "cell_type": "markdown",
   "metadata": {},
   "source": [
    "The first model (the compute policy) guides the search in promising directions by proposing an unlimited number of automatically extracted transformations."
   ]
  },
  {
   "cell_type": "code",
   "execution_count": 5,
   "metadata": {},
   "outputs": [],
   "source": [
    "def compute_policy(mol) -> list: #if we use a neural net it should be here since this is a \n",
    "    #graph-based multiclass prediction problem\n",
    "    \"\"\"\n",
    "    \n",
    "    This function recieves a mol object which is an ECFP4 molecule graph.\n",
    "    It then computes for the molecule the entire set of biochemical transformations and associeted probabilities\n",
    "    returning them as a ranked list of tuples with structure (precursor: (obj), probability: (float))\n",
    "    \n",
    "    Example: \n",
    "        $ python __currently_nonexistent__.py or ``defunct example``\n",
    "\n",
    "    Attributes:\n",
    "        mol (obj): ECFP4 molecule graph\n",
    "                \n",
    "    Returns:\n",
    "        all_transformations (list): A ranked list of tuples (precursor, probability) from most to least probable\n",
    "        which are the molecular precursors of possible transformations for the input mol.\n",
    "\n",
    "    Todo:\n",
    "        Decide which ML method to use, change loop and precursor_probability to reflect this\n",
    "        \n",
    "    \"\"\"\n",
    "    \n",
    "    all_transformations = []\n",
    "    \n",
    "    for i in range(0, np.random.randint(1,200)):\n",
    "        \n",
    "        precursor_probability = rand_str(size=1), np.random.random() #tuple of precursor and associated probability\n",
    "        \n",
    "        all_transformations.append(precursor_probability)\n",
    "    \n",
    "    all_transformations =  sorted(all_transformations, key=lambda t: t[1], reverse=True) #sort by probability\n",
    "    \n",
    "    return all_transformations"
   ]
  },
  {
   "cell_type": "markdown",
   "metadata": {},
   "source": [
    "Rule extraction associates each reaction, and thus each product, with a transformation rule. This allows us to train models as policies to predict the best transformations given the product, or in other words, the best reactions with which to make the products"
   ]
  },
  {
   "cell_type": "code",
   "execution_count": 6,
   "metadata": {},
   "outputs": [],
   "source": [
    "def react_transformations(mol, k_transformations: list) -> list:\n",
    "    \n",
    "    \"\"\"\n",
    "\n",
    "    This function retrieves and builds full reactions for the . \n",
    "\n",
    "    Example: \n",
    "        $ python __currently_nonexistent__.py or ``defunct example``\n",
    "\n",
    "    Attributes:\n",
    "        mol (obj): An ECFP4 molecular graph object\n",
    "        k_transformations (list): A ranked list of precursors for the\n",
    "        \n",
    "    Returns:\n",
    "        precursors (list): A ranked list of length n of predicted precursor structures\n",
    "\n",
    "    Todo:\n",
    "        Actually develop function lol\n",
    "\n",
    "    \"\"\"\n",
    "    \n",
    "    return k_reactions    "
   ]
  },
  {
   "cell_type": "markdown",
   "metadata": {},
   "source": [
    "A second model then predicts whether the proposed reactions are actually feasible (in scope). "
   ]
  },
  {
   "cell_type": "code",
   "execution_count": 112,
   "metadata": {},
   "outputs": [],
   "source": [
    "def compute_feasibility(n: int, k_reactions: list) -> list:\n",
    "\n",
    "    \"\"\"\n",
    "\n",
    "    This function filters a list of reactions that are computed chemical transformations.\n",
    "    It removes the least feasible reactions and returns a list of length n. \n",
    "\n",
    "    Example: \n",
    "        $ python __currently_nonexistent__.py or ``defunct example``\n",
    "\n",
    "    Attributes:\n",
    "        n (int): The length of list of filtered best reactions to return\n",
    "        k_reactions (list): A list of reaction tuples to filter\n",
    "        \n",
    "    Returns:\n",
    "        ranked_precursors (list): A ranked list of length n of predicted precursor structures\n",
    "\n",
    "    Todo:\n",
    "        Actually develop function lol\n",
    "\n",
    "    \"\"\"\n",
    "\n",
    "    feasibilities = []\n",
    "    for reaction in k_reactions:\n",
    "        \n",
    "        f = feasibility_model(reaction)\n",
    "        feasibilities.append(f)\n",
    "    \n",
    "    calculated_feasibilities =  list(zip(k_reactions, feasibilities)) #combine lists\n",
    "\n",
    "    calculated_feasibilities =  sorted(calculated_feasibilities,key=lambda t: t[1], reverse=True)\n",
    "    \n",
    "    ranked_precursors = calculated_feasiblities[0:n][0][0][1] #slice the n best precursors out \n",
    "    #of the list for return. #check index error\n",
    "    \n",
    "    return ranked_precursors # another function needs to build children from ranked result list?"
   ]
  },
  {
   "cell_type": "markdown",
   "metadata": {},
   "source": [
    "Quick test"
   ]
  },
  {
   "cell_type": "code",
   "execution_count": 111,
   "metadata": {},
   "outputs": [
    {
     "data": {
      "text/plain": [
       "'c'"
      ]
     },
     "execution_count": 111,
     "metadata": {},
     "output_type": "execute_result"
    }
   ],
   "source": [
    "k_reactions = [('d','b','a'),('c','d','g'),('b','c','f')] #(product, reactant, enzyme)\n",
    "\n",
    "feasibilities = [0.3,0.1,0.7]\n",
    "\n",
    "calculated_feasibilities =  list(zip(k_reactions, feasibilities)) #combine lists\n",
    "\n",
    "calculated_feasibilities =  sorted(calculated_feasibilities,key=lambda t: t[1], reverse=True)\n",
    "\n",
    "calculated_feasibilities[:][0][0][1]"
   ]
  },
  {
   "cell_type": "code",
   "execution_count": 42,
   "metadata": {},
   "outputs": [],
   "source": [
    "def feasibility_model(reaction: tuple)-> float: #this could be logistic regression maybe? \n",
    "    #BINARY classification problem, VERY important to train on failed reactions. Can augment the model used in the compute policy with negative data?\n",
    "    \"\"\"\n",
    "    \n",
    "    This function computes the feasibility (from 0 to 1) of a given reaction tuple. \n",
    "    The tuple is of structure (product, reactant, enzyme).\n",
    "    It returns a float between 0 and 1. \n",
    "\n",
    "    Example: \n",
    "        $ python __currently_nonexistent__.py or ``defunct example``\n",
    "\n",
    "    Attributes:\n",
    "        reaction (tuple): A paired triplet of format (product, reactant, enzyme) \n",
    "\n",
    "    Returns:\n",
    "        reaction_probability (float): A value between 0 and 1 of the predicted probability of a given reaction\n",
    "        \n",
    "    Todo:\n",
    "        Determine ML method to be used and update function accordingly \n",
    "\n",
    "    \"\"\"\n",
    "\n",
    "    reaction_probability = np.random.random() #fancy_calculation(reaction), maybe logistic\n",
    "    \n",
    "    return reaction_probability"
   ]
  },
  {
   "cell_type": "code",
   "execution_count": null,
   "metadata": {},
   "outputs": [],
   "source": []
  },
  {
   "cell_type": "markdown",
   "metadata": {},
   "source": [
    "Finally, to estimate the position value, transformations are sampled from a third model during the rollout phase."
   ]
  },
  {
   "cell_type": "code",
   "execution_count": null,
   "metadata": {},
   "outputs": [],
   "source": [
    "quickly rank the remaining transformations"
   ]
  },
  {
   "cell_type": "code",
   "execution_count": 52,
   "metadata": {},
   "outputs": [
    {
     "data": {
      "text/plain": [
       "0.6333014021122939"
      ]
     },
     "execution_count": 52,
     "metadata": {},
     "output_type": "execute_result"
    }
   ],
   "source": [
    "feasibility_model(2)"
   ]
  },
  {
   "cell_type": "code",
   "execution_count": 72,
   "metadata": {},
   "outputs": [
    {
     "data": {
      "text/plain": [
       "0.7056744621298212"
      ]
     },
     "execution_count": 72,
     "metadata": {},
     "output_type": "execute_result"
    }
   ],
   "source": [
    "np.random.rand()"
   ]
  },
  {
   "cell_type": "code",
   "execution_count": null,
   "metadata": {},
   "outputs": [],
   "source": []
  }
 ],
 "metadata": {
  "kernelspec": {
   "display_name": "Python 3",
   "language": "python",
   "name": "python3"
  },
  "language_info": {
   "codemirror_mode": {
    "name": "ipython",
    "version": 3
   },
   "file_extension": ".py",
   "mimetype": "text/x-python",
   "name": "python",
   "nbconvert_exporter": "python",
   "pygments_lexer": "ipython3",
   "version": "3.6.8"
  }
 },
 "nbformat": 4,
 "nbformat_minor": 2
}
