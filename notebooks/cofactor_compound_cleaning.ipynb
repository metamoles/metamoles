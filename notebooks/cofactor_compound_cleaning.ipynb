{
 "cells": [
  {
   "cell_type": "markdown",
   "metadata": {},
   "source": [
    "# data cleaning for cofactor compound "
   ]
  },
  {
   "cell_type": "code",
   "execution_count": 1,
   "metadata": {},
   "outputs": [],
   "source": [
    "import pandas as pd"
   ]
  },
  {
   "cell_type": "code",
   "execution_count": 2,
   "metadata": {},
   "outputs": [],
   "source": [
    "cofactor_df = pd.read_csv(\"cofactor_list.csv\")"
   ]
  },
  {
   "cell_type": "code",
   "execution_count": 4,
   "metadata": {},
   "outputs": [
    {
     "data": {
      "text/plain": [
       "0     cpd:C00001\n",
       "1     cpd:C00002\n",
       "2     cpd:C00003\n",
       "3     cpd:C00004\n",
       "4     cpd:C00005\n",
       "5     cpd:C00006\n",
       "6     cpd:C00007\n",
       "7     cpd:C00008\n",
       "8     cpd:C00009\n",
       "9     cpd:C00010\n",
       "10    cpd:C00011\n",
       "11    cpd:C00012\n",
       "12    cpd:C00013\n",
       "13    cpd:C00014\n",
       "14    cpd:C00015\n",
       "15    cpd:C00016\n",
       "16    cpd:C00017\n",
       "17    cpd:C00018\n",
       "18    cpd:C00019\n",
       "19    cpd:C00020\n",
       "20    cpd:C00021\n",
       "21    cpd:C00023\n",
       "22    cpd:C00027\n",
       "23    cpd:C00028\n",
       "24    cpd:C00030\n",
       "25    cpd:C00032\n",
       "26    cpd:C00034\n",
       "27    cpd:C00050\n",
       "28    cpd:C00061\n",
       "29    cpd:C00070\n",
       "30    cpd:C00080\n",
       "31    cpd:C00255\n",
       "32    cpd:C01007\n",
       "33    cpd:C01352\n",
       "34    cpd:C01382\n",
       "35    cpd:C02745\n",
       "36    cpd:C02869\n",
       "Name: CPD, dtype: object"
      ]
     },
     "execution_count": 4,
     "metadata": {},
     "output_type": "execute_result"
    }
   ],
   "source": [
    "cofactor_df['CPD']"
   ]
  },
  {
   "cell_type": "code",
   "execution_count": null,
   "metadata": {},
   "outputs": [],
   "source": []
  }
 ],
 "metadata": {
  "kernelspec": {
   "display_name": "Python 3",
   "language": "python",
   "name": "python3"
  },
  "language_info": {
   "codemirror_mode": {
    "name": "ipython",
    "version": 3
   },
   "file_extension": ".py",
   "mimetype": "text/x-python",
   "name": "python",
   "nbconvert_exporter": "python",
   "pygments_lexer": "ipython3",
   "version": "3.7.1"
  }
 },
 "nbformat": 4,
 "nbformat_minor": 2
}
