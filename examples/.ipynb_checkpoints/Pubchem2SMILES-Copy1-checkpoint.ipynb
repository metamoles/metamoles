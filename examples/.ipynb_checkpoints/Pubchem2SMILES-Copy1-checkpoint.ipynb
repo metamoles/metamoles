{
 "cells": [
  {
   "cell_type": "markdown",
   "metadata": {},
   "source": [
    "**This notebook contains a function that fetches a SMILE string starting from a KEGG compound page. It also contains the associated unittests.**\n",
    "\n",
    "USE KEGG_DF_TO_SMILES and SID_TO_SMILES\n",
    "\n",
    "All of the unit tests are passing as of 3/5/19 at 7:30 pm. \n",
    "\n",
    "This notebook contains the basis of a function(s) to take a PubChem ID number and fetch the associated SMILES string from PubChem.\n",
    "\n",
    "It also contains code pieces to pull an SID from a KEGG webpage."
   ]
  },
  {
   "cell_type": "code",
   "execution_count": 52,
   "metadata": {},
   "outputs": [],
   "source": [
    "import numpy as np\n",
    "import pandas as pd\n",
    "import pubchempy as pc\n"
   ]
  },
  {
   "cell_type": "markdown",
   "metadata": {},
   "source": [
    "There are multiple identifier types for each chemical in PubChem. The two we are interacting with here are **SID** (substance ID) and **CID** (chemical ID). CID can be used to acces SMILES directly with PubChemPy. **KEGG does not have CID**, only SID. SID can be turned into CID from which SMILES can be found. "
   ]
  },
  {
   "cell_type": "markdown",
   "metadata": {},
   "source": [
    "### Get SMILES from CID and SID"
   ]
  },
  {
   "cell_type": "markdown",
   "metadata": {},
   "source": [
    "__________________\n",
    "\n",
    "### Manipulate DF containing SID into SMILES"
   ]
  },
  {
   "cell_type": "code",
   "execution_count": 129,
   "metadata": {
    "scrolled": true
   },
   "outputs": [
    {
     "name": "stdout",
     "output_type": "stream",
     "text": [
      "Overwriting kegg_data.py\n"
     ]
    }
   ],
   "source": [
    "#%%writefile pubchem_client.py\n",
    "\n",
    "import numpy as np\n",
    "import pandas as pd\n",
    "import pubchempy as pc\n",
    "\n",
    "\n",
    "def sid_to_smiles(sid):\n",
    "    \"\"\"Takes a PubChem SID. Returns the associated isomeric SMILES string and PubChem CID.\n",
    "\n",
    "    Args:\n",
    "        sid : The PubChem SID number.\n",
    "\n",
    "    Returns:\n",
    "        str: isomeric smiles.\n",
    "        int: Pubchem CID number.\n",
    "\n",
    "    \"\"\"\n",
    "\n",
    "    substance = pc.Substance.from_sid(sid)\n",
    "    cid = substance.standardized_cid\n",
    "    compound = pc.get_compounds(cid)[0]\n",
    "\n",
    "    return compound.isomeric_smiles, cid\n",
    "\n",
    "\n",
    "def kegg_df_to_smiles(kegg_df, column_name):\n",
    "    \"\"\"\n",
    "    Args:\n",
    "        kegg_df : pandas dataframe with SID numbers\n",
    "        column_name (str) : name of column that contains PubChem SID numbers\n",
    "\n",
    "    Returns:\n",
    "        kegg_df : modified with columns containing CID and SMILES\n",
    "                  CID becomes first column, SMILES second\n",
    "        unsuccessful_list : list of SIDs for which no CID or SMILES were found\n",
    "\n",
    "    \"\"\"\n",
    "\n",
    "    res = []\n",
    "    cid_list = []\n",
    "    unsuccessful_list = []\n",
    "    #copy = kegg_df.copy()\n",
    "    for i in range(len(kegg_df)):\n",
    "        # cell index of desired SID\n",
    "        sid = kegg_df.loc[i, column_name]\n",
    "        try:\n",
    "            smile_result = sid_to_smiles(sid)[0]\n",
    "            res.append(smile_result)\n",
    "            cid_result = sid_to_smiles(sid)[1]\n",
    "            cid_list.append(cid_result)\n",
    "        except BaseException:\n",
    "            res.append('none')\n",
    "            cid_list.append('none')\n",
    "            unsuccessful_list.append(sid)\n",
    "            pass\n",
    "        \n",
    "    #kegg_df['CID'] = cid_list\n",
    "    #kegg_df['SMILES'] = res\n",
    "    kegg_df.insert(0, column='CID', value=cid_list)\n",
    "    # Change this 2 to the number where the smiles column should be\n",
    "    kegg_df.insert(1, column='SMILES', value=res)\n",
    "    # kegg_df.to_csv(r'../datasets/df_cleaned_kegg_with_smiles.csv')\n",
    "    \n",
    "    return kegg_df, unsuccessful_list\n",
    "\n",
    "\n",
    "def csv_wrapper(input_csv, column_name, output_csv):\n",
    "    \"\"\"\n",
    "    Args:\n",
    "        input_csv (str) : 'input_csv.csv' format; in current directory\n",
    "        column_name (str) : name of column that contains PubChem SID numbers\n",
    "        output_csv (str) : 'output_csv.csv' format\n",
    "    \n",
    "    Returns:\n",
    "        output_csv : saves as 'output_csv.csv' into current directory\n",
    "    \"\"\"\n",
    "    \n",
    "    input_df = pd.read_csv(input_csv).astype(str)\n",
    "    input_df['reacts'] = input_df['reacts'].astype(float)\n",
    "    output, _ = kegg_df_to_smiles(input_df, column_name)\n",
    "\n",
    "    return output.to_csv(r'' + output_csv, index=False)"
   ]
  },
  {
   "cell_type": "code",
   "execution_count": 2,
   "metadata": {},
   "outputs": [
    {
     "name": "stdout",
     "output_type": "stream",
     "text": [
      "KEGG_compound.csv\r\n",
      "KEGG_compound_db_entries.csv\r\n",
      "KEGG_compound_db_entries.gz\r\n",
      "KEGG_compounds_no_SMILES.csv\r\n",
      "KEGG_enzymes_all_data.gz\r\n",
      "KEGG_reaction_db_entries.tar.gz\r\n",
      "cleaned_promiscous_enzyme_df.csv\r\n",
      "cofactor_list.csv\r\n",
      "df_cleaned_kegg_with_smiles.csv\r\n",
      "playground_df_cleaned_kegg_with_smiles.csv\r\n",
      "promiscuous_cleaned_KEGGtoPubChem.csv\r\n",
      "promiscuous_enzyme.csv\r\n",
      "promiscuous_enzyme_list.xlsx\r\n",
      "pubchem_ids_promiscuous_enzyme_products.csv\r\n",
      "substrate_product_combined_promiscuous.csv\r\n",
      "vectorized_enzyme.csv\r\n"
     ]
    }
   ],
   "source": [
    "!ls ../datasets/KEGG_compounds_no_SMILES.csv"
   ]
  },
  {
   "cell_type": "code",
   "execution_count": null,
   "metadata": {},
   "outputs": [],
   "source": [
    "csv_wrapper('../datasets/KEGG_compounds_no_SMILES.csv', 'pubchem_id', 'KEGG_compounds_pubchem_SMILES.csv' )"
   ]
  },
  {
   "cell_type": "code",
   "execution_count": 128,
   "metadata": {},
   "outputs": [
    {
     "name": "stdout",
     "output_type": "stream",
     "text": [
      "Overwriting test_kegg_data.py\n"
     ]
    }
   ],
   "source": [
    "#%%writefile test_pubchem_client.py\n",
    "\n",
    "import pandas as pd\n",
    "\n",
    "from pandas.util.testing import assert_frame_equal\n",
    "\n",
    "import pubchem_client\n",
    "\n",
    "\n",
    "def test_sid_to_smiles():\n",
    "    \"\"\"Unit test for pubchem_client.py sid_to_smiles.\"\"\"\n",
    "\n",
    "    sids = ['3489', '3990']\n",
    "    expected = ['C(CO)N', 'C1CSSC1CCCCC(=O)O']\n",
    "    actual = []\n",
    "\n",
    "    for sid in sids:\n",
    "        result_smile = pubchem_client.sid_to_smiles(sid)\n",
    "\n",
    "        assert len(\n",
    "            result_smile) >= 1, 'SMILES string is very short. Check SMILES.'\n",
    "        isinstance(result_smile, str), 'SMILES not returned as string.'\n",
    "\n",
    "        actual.append(result_smile[0])\n",
    "\n",
    "    assert expected == actual, 'Actual SMILES are not the expected SMILES.'\n",
    "\n",
    "    return\n",
    "\n",
    "\n",
    "def test_kegg_df_to_smiles():\n",
    "    \"\"\"Unit test for pubchem_client.py kegg_df_to_smiles.\"\"\"\n",
    "\n",
    "    test_frame = pd.DataFrame([['space fill', 'ethanolamine', '1.0', '3489'], [\n",
    "                              'space fill', 'pyruvate', '1.0', '3324']], columns=['Filler', 'Compound Name', 'Reacts', 'SID'])\n",
    "\n",
    "    expected_frame = pd.DataFrame([[int(700),\n",
    "                                    'C(CO)N',\n",
    "                                    'space fill',\n",
    "                                    'ethanolamine',\n",
    "                                    '1.0',\n",
    "                                    '3489'\n",
    "                                    ],\n",
    "                                   [int(1060),\n",
    "                                    'CC(=O)C(=O)O',\n",
    "                                    'space fill',\n",
    "                                    'pyruvate',\n",
    "                                    '1.0',\n",
    "                                    '3324',\n",
    "                                    ]],\n",
    "                                  columns=['CID',\n",
    "                                           'SMILES',\n",
    "                                           'Filler',\n",
    "                                           'Compound Name',\n",
    "                                           'Reacts',\n",
    "                                           'SID',\n",
    "                                           ])\n",
    "    column_name = 'SID'\n",
    "    result_frame = pubchem_client.kegg_df_to_smiles(test_frame, column_name)\n",
    "\n",
    "    assert_frame_equal(\n",
    "        result_frame[0], expected_frame), 'Did not generate expected df.'\n",
    "\n",
    "    return\n",
    "\n",
    "\n",
    "def test_csv_wrapper():\n",
    "    \"\"\"Unit test for csv_wrapper function.\"\"\"\n",
    "    \n",
    "    filler = ['fill', 'fill', 'fill', 'fill']\n",
    "    sids = ['3305', '3333', '3480', '3371']\n",
    "    compounds = ['NAD', 'glucose', 'benzoic acid', 'unknown']\n",
    "    react = ['1.0', '0.0','1.0', '0.0']\n",
    "    tuple_list = list(zip(filler, compounds, react, sids))\n",
    "    test_df = pd.DataFrame(tuple_list, columns=['enzyme', 'product', 'reacts', 'pubchem_id'])\n",
    "    \n",
    "    test_df.to_csv(r'test_df.csv', index=False)\n",
    "    \n",
    "    expected = pd.DataFrame([['5893',\n",
    "  'C1=CC(=C[N+](=C1)[C@H]2[C@@H]([C@@H]([C@H](O2)COP(=O)(O)OP(=O)(O)OC[C@@H]3[C@H]([C@H]([C@@H](O3)N4C=NC5=C4N=CN=C5N)O)O)O)O)C(=O)N',\n",
    "  'fill',\n",
    "  'NAD',\n",
    "  1.0,\n",
    "  3305],\n",
    " ['5793',\n",
    "  'C([C@@H]1[C@H]([C@@H]([C@H](C(O1)O)O)O)O)O',\n",
    "  'fill',\n",
    "  'glucose',\n",
    "  0.0,\n",
    "  3333],\n",
    " ['243', 'C1=CC=C(C=C1)C(=O)O', 'fill', 'benzoic acid', 1.0, 3480],\n",
    " ['none', 'none', 'fill', 'unknown', 0.0, 3371]], columns=['CID', 'SMILES', 'enzyme', 'product', 'reacts', 'pubchem_id'])\n",
    "    \n",
    "    column_name = 'pubchem_id'\n",
    "    \n",
    "    pubchem_client.csv_wrapper('test_df.csv', column_name, 'wrapper_test.csv')\n",
    "    \n",
    "    actual = pd.read_csv('wrapper_test.csv')\n",
    "    \n",
    "    assert expected.loc[1, 'reacts'] == actual.loc[1, 'reacts']\n",
    "    assert expected.loc[2, 'SMILES'] == actual.loc[2, 'SMILES']\n",
    "    \n",
    "    return"
   ]
  }
 ],
 "metadata": {
  "kernelspec": {
   "display_name": "Python 3",
   "language": "python",
   "name": "python3"
  },
  "language_info": {
   "codemirror_mode": {
    "name": "ipython",
    "version": 3
   },
   "file_extension": ".py",
   "mimetype": "text/x-python",
   "name": "python",
   "nbconvert_exporter": "python",
   "pygments_lexer": "ipython3",
   "version": "3.7.1"
  }
 },
 "nbformat": 4,
 "nbformat_minor": 2
}
