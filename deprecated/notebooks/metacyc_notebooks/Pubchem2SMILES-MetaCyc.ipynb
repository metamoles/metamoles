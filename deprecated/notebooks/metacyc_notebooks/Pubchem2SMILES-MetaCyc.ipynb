{
 "cells": [
  {
   "cell_type": "markdown",
   "metadata": {},
   "source": [
    "## This notebook has mixed contents.\n",
    "\n",
    "1) This notebook has the metacyc master dataframe in its infant stages.\n",
    "2) This notebook contains the basis of a function to take a PubChem ID number and fetch the associated SMILES string from PubChem."
   ]
  },
  {
   "cell_type": "markdown",
   "metadata": {},
   "source": [
    "_____________\n",
    "\n",
    "## Master DataFrame operations performed:"
   ]
  },
  {
   "cell_type": "code",
   "execution_count": 1,
   "metadata": {},
   "outputs": [],
   "source": [
    "import numpy as np\n",
    "import pandas as pd\n",
    "import pubchempy as pc"
   ]
  },
  {
   "cell_type": "code",
   "execution_count": 2,
   "metadata": {},
   "outputs": [],
   "source": [
    "master_df = pd.read_csv('../../../big-datasets/EC_master_fix_cofactor.csv') # read in dataframe from metacyc after removal of cofactors"
   ]
  },
  {
   "cell_type": "code",
   "execution_count": 4,
   "metadata": {},
   "outputs": [],
   "source": [
    "pos_df = master_df.iloc[:7570,:] # select only the positive (true) reactions"
   ]
  },
  {
   "cell_type": "code",
   "execution_count": 9,
   "metadata": {},
   "outputs": [
    {
     "data": {
      "text/html": [
       "<div>\n",
       "<style scoped>\n",
       "    .dataframe tbody tr th:only-of-type {\n",
       "        vertical-align: middle;\n",
       "    }\n",
       "\n",
       "    .dataframe tbody tr th {\n",
       "        vertical-align: top;\n",
       "    }\n",
       "\n",
       "    .dataframe thead th {\n",
       "        text-align: right;\n",
       "    }\n",
       "</style>\n",
       "<table border=\"1\" class=\"dataframe\">\n",
       "  <thead>\n",
       "    <tr style=\"text-align: right;\">\n",
       "      <th></th>\n",
       "      <th>Unnamed: 0</th>\n",
       "      <th>Unnamed: 0.1</th>\n",
       "      <th>enzyme</th>\n",
       "      <th>product</th>\n",
       "      <th>reacts</th>\n",
       "      <th>PubChemID</th>\n",
       "    </tr>\n",
       "  </thead>\n",
       "  <tbody>\n",
       "    <tr>\n",
       "      <th>0</th>\n",
       "      <td>1</td>\n",
       "      <td>1</td>\n",
       "      <td>EC-1.1.1.321</td>\n",
       "      <td>CPD-685</td>\n",
       "      <td>1.0</td>\n",
       "      <td>5363397</td>\n",
       "    </tr>\n",
       "    <tr>\n",
       "      <th>1</th>\n",
       "      <td>2</td>\n",
       "      <td>2</td>\n",
       "      <td>EC-1.1.1.111</td>\n",
       "      <td>1-INDANOL</td>\n",
       "      <td>1.0</td>\n",
       "      <td>22819</td>\n",
       "    </tr>\n",
       "    <tr>\n",
       "      <th>2</th>\n",
       "      <td>3</td>\n",
       "      <td>3</td>\n",
       "      <td>EC-1.21.99.M2</td>\n",
       "      <td>4-HYDROXYPHENYLACETATE</td>\n",
       "      <td>1.0</td>\n",
       "      <td>4693933</td>\n",
       "    </tr>\n",
       "    <tr>\n",
       "      <th>3</th>\n",
       "      <td>4</td>\n",
       "      <td>4</td>\n",
       "      <td>EC-1.21.99.M2</td>\n",
       "      <td>CL-</td>\n",
       "      <td>1.0</td>\n",
       "      <td>312</td>\n",
       "    </tr>\n",
       "    <tr>\n",
       "      <th>4</th>\n",
       "      <td>7</td>\n",
       "      <td>7</td>\n",
       "      <td>EC-1.3.1.97</td>\n",
       "      <td>UDP-N-ACETYLMURAMATE</td>\n",
       "      <td>1.0</td>\n",
       "      <td>24772978</td>\n",
       "    </tr>\n",
       "  </tbody>\n",
       "</table>\n",
       "</div>"
      ],
      "text/plain": [
       "   Unnamed: 0  Unnamed: 0.1         enzyme                 product  reacts  \\\n",
       "0           1             1   EC-1.1.1.321                 CPD-685     1.0   \n",
       "1           2             2   EC-1.1.1.111               1-INDANOL     1.0   \n",
       "2           3             3  EC-1.21.99.M2  4-HYDROXYPHENYLACETATE     1.0   \n",
       "3           4             4  EC-1.21.99.M2                     CL-     1.0   \n",
       "4           7             7    EC-1.3.1.97    UDP-N-ACETYLMURAMATE     1.0   \n",
       "\n",
       "   PubChemID  \n",
       "0    5363397  \n",
       "1      22819  \n",
       "2    4693933  \n",
       "3        312  \n",
       "4   24772978  "
      ]
     },
     "execution_count": 9,
     "metadata": {},
     "output_type": "execute_result"
    }
   ],
   "source": [
    "pos_df.head()"
   ]
  },
  {
   "cell_type": "code",
   "execution_count": 11,
   "metadata": {},
   "outputs": [],
   "source": [
    "pos_df = pos_df[['enzyme', 'product', 'reacts', 'PubChemID']] "
   ]
  },
  {
   "cell_type": "code",
   "execution_count": 3,
   "metadata": {},
   "outputs": [],
   "source": [
    "neg_df = master_df.sample(10000, random_state=12) # randomly select 10,0000 points from the master_df\n",
    "# this is a problem to solve later!!!! some of these selected could be positive points"
   ]
  },
  {
   "cell_type": "code",
   "execution_count": 7,
   "metadata": {},
   "outputs": [],
   "source": [
    "neg_df = neg_df[['enzyme', 'product', 'reacts', 'PubChemID']]"
   ]
  },
  {
   "cell_type": "code",
   "execution_count": 8,
   "metadata": {},
   "outputs": [
    {
     "data": {
      "text/html": [
       "<div>\n",
       "<style scoped>\n",
       "    .dataframe tbody tr th:only-of-type {\n",
       "        vertical-align: middle;\n",
       "    }\n",
       "\n",
       "    .dataframe tbody tr th {\n",
       "        vertical-align: top;\n",
       "    }\n",
       "\n",
       "    .dataframe thead th {\n",
       "        text-align: right;\n",
       "    }\n",
       "</style>\n",
       "<table border=\"1\" class=\"dataframe\">\n",
       "  <thead>\n",
       "    <tr style=\"text-align: right;\">\n",
       "      <th></th>\n",
       "      <th>enzyme</th>\n",
       "      <th>product</th>\n",
       "      <th>reacts</th>\n",
       "      <th>PubChemID</th>\n",
       "    </tr>\n",
       "  </thead>\n",
       "  <tbody>\n",
       "    <tr>\n",
       "      <th>1541444</th>\n",
       "      <td>EC-1.11.1.8</td>\n",
       "      <td>CPD-9240</td>\n",
       "      <td>0.0</td>\n",
       "      <td>10895555</td>\n",
       "    </tr>\n",
       "    <tr>\n",
       "      <th>6802427</th>\n",
       "      <td>EC-4.3.1.24</td>\n",
       "      <td>GERANYL-PP</td>\n",
       "      <td>0.0</td>\n",
       "      <td>5280650</td>\n",
       "    </tr>\n",
       "    <tr>\n",
       "      <th>713426</th>\n",
       "      <td>EC-1.3.1.76</td>\n",
       "      <td>CPD-20682</td>\n",
       "      <td>0.0</td>\n",
       "      <td>131841603</td>\n",
       "    </tr>\n",
       "    <tr>\n",
       "      <th>3676086</th>\n",
       "      <td>EC-2.3.1.162</td>\n",
       "      <td>CPD-12724</td>\n",
       "      <td>0.0</td>\n",
       "      <td>5281605</td>\n",
       "    </tr>\n",
       "    <tr>\n",
       "      <th>4566352</th>\n",
       "      <td>EC-2.3.1.89</td>\n",
       "      <td>R-2-HYDROXYGLUTARATE</td>\n",
       "      <td>0.0</td>\n",
       "      <td>5460200</td>\n",
       "    </tr>\n",
       "  </tbody>\n",
       "</table>\n",
       "</div>"
      ],
      "text/plain": [
       "               enzyme               product  reacts  PubChemID\n",
       "1541444   EC-1.11.1.8              CPD-9240     0.0   10895555\n",
       "6802427   EC-4.3.1.24            GERANYL-PP     0.0    5280650\n",
       "713426    EC-1.3.1.76             CPD-20682     0.0  131841603\n",
       "3676086  EC-2.3.1.162             CPD-12724     0.0    5281605\n",
       "4566352   EC-2.3.1.89  R-2-HYDROXYGLUTARATE     0.0    5460200"
      ]
     },
     "execution_count": 8,
     "metadata": {},
     "output_type": "execute_result"
    }
   ],
   "source": [
    "neg_df.head()"
   ]
  },
  {
   "cell_type": "code",
   "execution_count": 12,
   "metadata": {},
   "outputs": [],
   "source": [
    "use_me = pos_df.append(neg_df)"
   ]
  },
  {
   "cell_type": "code",
   "execution_count": 13,
   "metadata": {},
   "outputs": [
    {
     "data": {
      "text/plain": [
       "(17570, 4)"
      ]
     },
     "execution_count": 13,
     "metadata": {},
     "output_type": "execute_result"
    }
   ],
   "source": [
    "use_me.shape"
   ]
  },
  {
   "cell_type": "code",
   "execution_count": 14,
   "metadata": {},
   "outputs": [],
   "source": [
    "use_me.to_csv('../../../big-datasets/selected_pos_neg_rxns.csv') # saving selected reactions"
   ]
  },
  {
   "cell_type": "code",
   "execution_count": 16,
   "metadata": {},
   "outputs": [],
   "source": [
    "use_df_smiles, unsuccessful = cid_df_to_smiles(use_me, 'PubChemID')"
   ]
  },
  {
   "cell_type": "code",
   "execution_count": 17,
   "metadata": {},
   "outputs": [
    {
     "data": {
      "text/html": [
       "<div>\n",
       "<style scoped>\n",
       "    .dataframe tbody tr th:only-of-type {\n",
       "        vertical-align: middle;\n",
       "    }\n",
       "\n",
       "    .dataframe tbody tr th {\n",
       "        vertical-align: top;\n",
       "    }\n",
       "\n",
       "    .dataframe thead th {\n",
       "        text-align: right;\n",
       "    }\n",
       "</style>\n",
       "<table border=\"1\" class=\"dataframe\">\n",
       "  <thead>\n",
       "    <tr style=\"text-align: right;\">\n",
       "      <th></th>\n",
       "      <th>enzyme</th>\n",
       "      <th>product</th>\n",
       "      <th>reacts</th>\n",
       "      <th>PubChemID</th>\n",
       "      <th>SMILES</th>\n",
       "    </tr>\n",
       "  </thead>\n",
       "  <tbody>\n",
       "    <tr>\n",
       "      <th>0</th>\n",
       "      <td>EC-1.1.1.321</td>\n",
       "      <td>CPD-685</td>\n",
       "      <td>1.0</td>\n",
       "      <td>5363397</td>\n",
       "      <td>CC(=CCO)CCC=C(C)CO</td>\n",
       "    </tr>\n",
       "    <tr>\n",
       "      <th>1</th>\n",
       "      <td>EC-1.1.1.111</td>\n",
       "      <td>1-INDANOL</td>\n",
       "      <td>1.0</td>\n",
       "      <td>22819</td>\n",
       "      <td>C1CC2=CC=CC=C2C1O</td>\n",
       "    </tr>\n",
       "    <tr>\n",
       "      <th>2</th>\n",
       "      <td>EC-1.21.99.M2</td>\n",
       "      <td>4-HYDROXYPHENYLACETATE</td>\n",
       "      <td>1.0</td>\n",
       "      <td>4693933</td>\n",
       "      <td>C1=CC(=CC=C1CC(=O)[O-])O</td>\n",
       "    </tr>\n",
       "    <tr>\n",
       "      <th>3</th>\n",
       "      <td>EC-1.21.99.M2</td>\n",
       "      <td>CL-</td>\n",
       "      <td>1.0</td>\n",
       "      <td>312</td>\n",
       "      <td>[Cl-]</td>\n",
       "    </tr>\n",
       "    <tr>\n",
       "      <th>4</th>\n",
       "      <td>EC-1.3.1.97</td>\n",
       "      <td>UDP-N-ACETYLMURAMATE</td>\n",
       "      <td>1.0</td>\n",
       "      <td>24772978</td>\n",
       "      <td>CC(C(=O)[O-])OC1C(C(OC(C1O)CO)OP(=O)([O-])OP(=...</td>\n",
       "    </tr>\n",
       "  </tbody>\n",
       "</table>\n",
       "</div>"
      ],
      "text/plain": [
       "          enzyme                 product  reacts  PubChemID  \\\n",
       "0   EC-1.1.1.321                 CPD-685     1.0    5363397   \n",
       "1   EC-1.1.1.111               1-INDANOL     1.0      22819   \n",
       "2  EC-1.21.99.M2  4-HYDROXYPHENYLACETATE     1.0    4693933   \n",
       "3  EC-1.21.99.M2                     CL-     1.0        312   \n",
       "4    EC-1.3.1.97    UDP-N-ACETYLMURAMATE     1.0   24772978   \n",
       "\n",
       "                                              SMILES  \n",
       "0                                 CC(=CCO)CCC=C(C)CO  \n",
       "1                                  C1CC2=CC=CC=C2C1O  \n",
       "2                           C1=CC(=CC=C1CC(=O)[O-])O  \n",
       "3                                              [Cl-]  \n",
       "4  CC(C(=O)[O-])OC1C(C(OC(C1O)CO)OP(=O)([O-])OP(=...  "
      ]
     },
     "execution_count": 17,
     "metadata": {},
     "output_type": "execute_result"
    }
   ],
   "source": [
    "use_df_smiles.head()"
   ]
  },
  {
   "cell_type": "code",
   "execution_count": 18,
   "metadata": {},
   "outputs": [
    {
     "data": {
      "text/plain": [
       "559"
      ]
     },
     "execution_count": 18,
     "metadata": {},
     "output_type": "execute_result"
    }
   ],
   "source": [
    "len(unsuccessful)"
   ]
  },
  {
   "cell_type": "code",
   "execution_count": 19,
   "metadata": {},
   "outputs": [],
   "source": [
    "use_df = use_df_smiles[~use_df_smiles['PubChemID'].isin(unsuccessful)] # drop rows without SMILES"
   ]
  },
  {
   "cell_type": "code",
   "execution_count": 20,
   "metadata": {},
   "outputs": [
    {
     "data": {
      "text/plain": [
       "(17011, 5)"
      ]
     },
     "execution_count": 20,
     "metadata": {},
     "output_type": "execute_result"
    }
   ],
   "source": [
    "use_df.shape"
   ]
  },
  {
   "cell_type": "code",
   "execution_count": 21,
   "metadata": {},
   "outputs": [],
   "source": [
    "use_df.to_csv('../../../big-datasets/selected_with_smiles.csv') # save this version of the master"
   ]
  },
  {
   "cell_type": "markdown",
   "metadata": {},
   "source": [
    "### Get SMILES from CID"
   ]
  },
  {
   "cell_type": "markdown",
   "metadata": {},
   "source": [
    "__________________\n",
    "\n",
    "### Manipulate DF containing CID into SMILES"
   ]
  },
  {
   "cell_type": "code",
   "execution_count": 3,
   "metadata": {
    "scrolled": true
   },
   "outputs": [
    {
     "name": "stdout",
     "output_type": "stream",
     "text": [
      "Overwriting pubchem_client.py\n"
     ]
    }
   ],
   "source": [
    "%%writefile pubchem_client.py\n",
    "import pubchempy as pc\n",
    "\n",
    "\n",
    "def cid_df_to_smiles(df, cid_colname):\n",
    "    \"\"\"\n",
    "    Args:\n",
    "        df : pandas dataframe with CID numbers\n",
    "        cid_colname (str) : name of column that contains PubChem SID numbers\n",
    "\n",
    "    Returns:\n",
    "        df : modified with column SMILES\n",
    "        unsuccessful_list : list of CIDs for which no SMILES were found\n",
    "\n",
    "    \"\"\"\n",
    "\n",
    "    res = []\n",
    "    unsuccessful_list = []\n",
    "\n",
    "    for index, row in df.iterrows():\n",
    "        cid = row[cid_colname]\n",
    "        try:\n",
    "            # pubchempy calls to get compound info\n",
    "            compound = pc.get_compounds(cid)[0]\n",
    "            smiles = compound.canonical_smiles\n",
    "            res.append(smiles)\n",
    "\n",
    "        except BaseException:\n",
    "            res.append('none')\n",
    "            unsuccessful_list.append(cid)\n",
    "            pass\n",
    "\n",
    "    df['SMILES'] = res\n",
    "    # df.to_csv(r'../datasets/df_cleaned_kegg_with_smiles.csv')\n",
    "\n",
    "    return df, unsuccessful_list"
   ]
  },
  {
   "cell_type": "code",
   "execution_count": 45,
   "metadata": {},
   "outputs": [
    {
     "name": "stdout",
     "output_type": "stream",
     "text": [
      "CC(=CCO)CCC=C(C)CO\n"
     ]
    }
   ],
   "source": [
    "compound = pc.get_compounds(5363397)[0]\n",
    "smiles = compound.canonical_smiles\n",
    "print(smiles)"
   ]
  },
  {
   "cell_type": "code",
   "execution_count": 52,
   "metadata": {},
   "outputs": [
    {
     "data": {
      "text/html": [
       "<div>\n",
       "<style scoped>\n",
       "    .dataframe tbody tr th:only-of-type {\n",
       "        vertical-align: middle;\n",
       "    }\n",
       "\n",
       "    .dataframe tbody tr th {\n",
       "        vertical-align: top;\n",
       "    }\n",
       "\n",
       "    .dataframe thead th {\n",
       "        text-align: right;\n",
       "    }\n",
       "</style>\n",
       "<table border=\"1\" class=\"dataframe\">\n",
       "  <thead>\n",
       "    <tr style=\"text-align: right;\">\n",
       "      <th></th>\n",
       "      <th>EC</th>\n",
       "      <th>Compound</th>\n",
       "      <th>Reacts</th>\n",
       "      <th>CID</th>\n",
       "      <th>SMILES</th>\n",
       "    </tr>\n",
       "  </thead>\n",
       "  <tbody>\n",
       "    <tr>\n",
       "      <th>0</th>\n",
       "      <td>EC-1.1.1.321</td>\n",
       "      <td>CPD-685</td>\n",
       "      <td>1</td>\n",
       "      <td>5363397</td>\n",
       "      <td>CC(=CCO)CCC=C(C)CO</td>\n",
       "    </tr>\n",
       "    <tr>\n",
       "      <th>1</th>\n",
       "      <td>EC-1.1.1.111</td>\n",
       "      <td>1-INDANOL</td>\n",
       "      <td>1</td>\n",
       "      <td>22819</td>\n",
       "      <td>C1CC2=CC=CC=C2C1O</td>\n",
       "    </tr>\n",
       "    <tr>\n",
       "      <th>2</th>\n",
       "      <td>EC-1.21.99.M2</td>\n",
       "      <td>4-HYDROXYPHENYLACETATE</td>\n",
       "      <td>1</td>\n",
       "      <td>4693933</td>\n",
       "      <td>C1=CC(=CC=C1CC(=O)[O-])O</td>\n",
       "    </tr>\n",
       "    <tr>\n",
       "      <th>3</th>\n",
       "      <td>EC-1.21.99.M2</td>\n",
       "      <td>Cl-</td>\n",
       "      <td>1</td>\n",
       "      <td>312</td>\n",
       "      <td>[Cl-]</td>\n",
       "    </tr>\n",
       "  </tbody>\n",
       "</table>\n",
       "</div>"
      ],
      "text/plain": [
       "              EC                Compound  Reacts      CID  \\\n",
       "0   EC-1.1.1.321                 CPD-685       1  5363397   \n",
       "1   EC-1.1.1.111               1-INDANOL       1    22819   \n",
       "2  EC-1.21.99.M2  4-HYDROXYPHENYLACETATE       1  4693933   \n",
       "3  EC-1.21.99.M2                     Cl-       1      312   \n",
       "\n",
       "                     SMILES  \n",
       "0        CC(=CCO)CCC=C(C)CO  \n",
       "1         C1CC2=CC=CC=C2C1O  \n",
       "2  C1=CC(=CC=C1CC(=O)[O-])O  \n",
       "3                     [Cl-]  "
      ]
     },
     "execution_count": 52,
     "metadata": {},
     "output_type": "execute_result"
    }
   ],
   "source": [
    "cid_df_to_smiles(test_df, 'CID')[0]"
   ]
  },
  {
   "cell_type": "code",
   "execution_count": 42,
   "metadata": {},
   "outputs": [],
   "source": [
    "test_df = pd.DataFrame([['EC-1.1.1.321', 'CPD-685', 1, 5363397], ['EC-1.1.1.111', '1-INDANOL', 1, 22819], \n",
    "                        ['EC-1.21.99.M2', '4-HYDROXYPHENYLACETATE', 1, 4693933],['EC-1.21.99.M2', 'Cl-', 1, 312]], columns=['EC', 'Compound', 'Reacts', 'CID'])"
   ]
  },
  {
   "cell_type": "code",
   "execution_count": 5,
   "metadata": {},
   "outputs": [
    {
     "name": "stdout",
     "output_type": "stream",
     "text": [
      "Overwriting test_pubchem_client.py\n"
     ]
    }
   ],
   "source": [
    "%%writefile test_pubchem_client.py\n",
    "import pandas as pd\n",
    "\n",
    "from pandas.util.testing import assert_frame_equal\n",
    "\n",
    "import pubchem_client\n",
    "\n",
    "\n",
    "def test_cid_df_to_smiles():\n",
    "    \"\"\"Unit test for pubchem_client.py.\"\"\"\n",
    "\n",
    "    test_frame = pd.DataFrame([['EC-1.1.1.321',\n",
    "                                'CPD-685',\n",
    "                                1,\n",
    "                                5363397],\n",
    "                               ['EC-1.1.1.111',\n",
    "                                '1-INDANOL',\n",
    "                                1,\n",
    "                                22819],\n",
    "                               ['EC-1.21.99.M2',\n",
    "                                '4-HYDROXYPHENYLACETATE',\n",
    "                                1,\n",
    "                                4693933],\n",
    "                               ['EC-1.21.99.M2',\n",
    "                                'Cl-',\n",
    "                                1,\n",
    "                                312]],\n",
    "                              columns=['EC',\n",
    "                                       'Compound',\n",
    "                                       'Reacts',\n",
    "                                       'CID'])\n",
    "\n",
    "    expected_frame = pd.DataFrame([['EC-1.1.1.321',\n",
    "                                    'CPD-685',\n",
    "                                    1,\n",
    "                                    5363397,\n",
    "                                    'CC(=CCO)CCC=C(C)CO'],\n",
    "                                   ['EC-1.1.1.111',\n",
    "                                    '1-INDANOL',\n",
    "                                    1,\n",
    "                                    22819,\n",
    "                                    'C1CC2=CC=CC=C2C1O'],\n",
    "                                   ['EC-1.21.99.M2',\n",
    "                                    '4-HYDROXYPHENYLACETATE',\n",
    "                                    1,\n",
    "                                    4693933,\n",
    "                                    'C1=CC(=CC=C1CC(=O)[O-])O'],\n",
    "                                   ['EC-1.21.99.M2',\n",
    "                                    'Cl-',\n",
    "                                    1,\n",
    "                                    312,\n",
    "                                    '[Cl-]']],\n",
    "                                  columns=['EC',\n",
    "                                           'Compound',\n",
    "                                           'Reacts',\n",
    "                                           'CID',\n",
    "                                           'SMILES',\n",
    "                                           ])\n",
    "\n",
    "    cid_colname = 'CID'\n",
    "    result_frame = pubchem_client.cid_df_to_smiles(test_frame, cid_colname)\n",
    "\n",
    "    assert_frame_equal(\n",
    "        result_frame[0], expected_frame), 'Did not generate expected df.'\n",
    "\n",
    "    return"
   ]
  },
  {
   "cell_type": "code",
   "execution_count": null,
   "metadata": {},
   "outputs": [],
   "source": []
  }
 ],
 "metadata": {
  "kernelspec": {
   "display_name": "Python 3",
   "language": "python",
   "name": "python3"
  },
  "language_info": {
   "codemirror_mode": {
    "name": "ipython",
    "version": 3
   },
   "file_extension": ".py",
   "mimetype": "text/x-python",
   "name": "python",
   "nbconvert_exporter": "python",
   "pygments_lexer": "ipython3",
   "version": "3.7.0"
  }
 },
 "nbformat": 4,
 "nbformat_minor": 2
}
