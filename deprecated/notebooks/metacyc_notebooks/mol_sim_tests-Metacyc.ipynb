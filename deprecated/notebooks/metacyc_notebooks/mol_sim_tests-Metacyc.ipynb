{
 "cells": [
  {
   "cell_type": "code",
   "execution_count": 44,
   "metadata": {},
   "outputs": [],
   "source": [
    "import pandas as pd\n",
    "import mol_sim"
   ]
  },
  {
   "cell_type": "code",
   "execution_count": 4,
   "metadata": {},
   "outputs": [],
   "source": [
    "master = pd.read_csv('../../../big-datasets/master_dataframe_metacyc.csv.gz', compression='gzip')"
   ]
  },
  {
   "cell_type": "code",
   "execution_count": 8,
   "metadata": {},
   "outputs": [],
   "source": [
    "testing_df = master.iloc[:20, :]"
   ]
  },
  {
   "cell_type": "code",
   "execution_count": 32,
   "metadata": {},
   "outputs": [],
   "source": [
    "testing_df.drop(columns=['Mol', 'Fingerprint'], inplace=True)"
   ]
  },
  {
   "cell_type": "code",
   "execution_count": 9,
   "metadata": {},
   "outputs": [],
   "source": [
    "def test_input_data():\n",
    "    '''Tests input_data function in mol_sim.py'''    \n",
    "    \n",
    "    input_df = testing_df\n",
    "    test_df = mol_sim.input_data(input_df)\n",
    "    \n",
    "    assert isinstance(test_df, pd.DataFrame) == True, \"\"\"TypeError,\n",
    "    function should return a pandas dataframe\"\"\"    \n",
    "    #assert \n",
    "    \n",
    "    return '1/1 tests successful'"
   ]
  },
  {
   "cell_type": "code",
   "execution_count": 10,
   "metadata": {},
   "outputs": [
    {
     "data": {
      "text/plain": [
       "'1/1 tests successful'"
      ]
     },
     "execution_count": 10,
     "metadata": {},
     "output_type": "execute_result"
    }
   ],
   "source": [
    "test_input_data()"
   ]
  },
  {
   "cell_type": "code",
   "execution_count": 14,
   "metadata": {},
   "outputs": [],
   "source": [
    "def test_fingerprint_products():\n",
    "    '''Tests fingerprint_products function in mol_sim.py'''\n",
    "    \n",
    "    input_df = testing_df\n",
    "    test_df = mol_sim.input_data(input_df)\n",
    "    \n",
    "    assert isinstance(mol_sim.fingerprint_products(test_df), pd.DataFrame) == True, \"\"\"TypeError,\n",
    "    function should return a pandas dataframe\"\"\"    \n",
    "    #assert\n",
    "\n",
    "    return '1/1 tests successful'"
   ]
  },
  {
   "cell_type": "code",
   "execution_count": 15,
   "metadata": {},
   "outputs": [
    {
     "data": {
      "text/plain": [
       "'1/1 tests successful'"
      ]
     },
     "execution_count": 15,
     "metadata": {},
     "output_type": "execute_result"
    }
   ],
   "source": [
    "test_fingerprint_products()"
   ]
  },
  {
   "cell_type": "code",
   "execution_count": 19,
   "metadata": {},
   "outputs": [],
   "source": [
    "def test_split_by_enzyme():\n",
    "    '''Tests split_by_enzyme function in mol_sim.py'''\n",
    "    \n",
    "    input_df = testing_df\n",
    "    test_df = mol_sim.fingerprint_products(mol_sim.input_data(input_df))\n",
    "    \n",
    "    assert isinstance(mol_sim.split_by_enzyme(test_df), list) == True, \"\"\"TypeError,\n",
    "    function should return a pandas dataframe\"\"\"    \n",
    "    #assert\n",
    "    \n",
    "    return '1/1 tests successful'"
   ]
  },
  {
   "cell_type": "code",
   "execution_count": 20,
   "metadata": {},
   "outputs": [
    {
     "ename": "KeyError",
     "evalue": "'enzyme'",
     "output_type": "error",
     "traceback": [
      "\u001b[1;31m---------------------------------------------------------------------------\u001b[0m",
      "\u001b[1;31mKeyError\u001b[0m                                  Traceback (most recent call last)",
      "\u001b[1;32m~\\Miniconda3\\lib\\site-packages\\pandas\\core\\indexes\\base.py\u001b[0m in \u001b[0;36mget_loc\u001b[1;34m(self, key, method, tolerance)\u001b[0m\n\u001b[0;32m   2656\u001b[0m             \u001b[1;32mtry\u001b[0m\u001b[1;33m:\u001b[0m\u001b[1;33m\u001b[0m\u001b[0m\n\u001b[1;32m-> 2657\u001b[1;33m                 \u001b[1;32mreturn\u001b[0m \u001b[0mself\u001b[0m\u001b[1;33m.\u001b[0m\u001b[0m_engine\u001b[0m\u001b[1;33m.\u001b[0m\u001b[0mget_loc\u001b[0m\u001b[1;33m(\u001b[0m\u001b[0mkey\u001b[0m\u001b[1;33m)\u001b[0m\u001b[1;33m\u001b[0m\u001b[0m\n\u001b[0m\u001b[0;32m   2658\u001b[0m             \u001b[1;32mexcept\u001b[0m \u001b[0mKeyError\u001b[0m\u001b[1;33m:\u001b[0m\u001b[1;33m\u001b[0m\u001b[0m\n",
      "\u001b[1;32mpandas/_libs/index.pyx\u001b[0m in \u001b[0;36mpandas._libs.index.IndexEngine.get_loc\u001b[1;34m()\u001b[0m\n",
      "\u001b[1;32mpandas/_libs/index.pyx\u001b[0m in \u001b[0;36mpandas._libs.index.IndexEngine.get_loc\u001b[1;34m()\u001b[0m\n",
      "\u001b[1;32mpandas/_libs/hashtable_class_helper.pxi\u001b[0m in \u001b[0;36mpandas._libs.hashtable.PyObjectHashTable.get_item\u001b[1;34m()\u001b[0m\n",
      "\u001b[1;32mpandas/_libs/hashtable_class_helper.pxi\u001b[0m in \u001b[0;36mpandas._libs.hashtable.PyObjectHashTable.get_item\u001b[1;34m()\u001b[0m\n",
      "\u001b[1;31mKeyError\u001b[0m: 'enzyme'",
      "\nDuring handling of the above exception, another exception occurred:\n",
      "\u001b[1;31mKeyError\u001b[0m                                  Traceback (most recent call last)",
      "\u001b[1;32m<ipython-input-20-affb55a23675>\u001b[0m in \u001b[0;36m<module>\u001b[1;34m\u001b[0m\n\u001b[1;32m----> 1\u001b[1;33m \u001b[0mtest_split_by_enzyme\u001b[0m\u001b[1;33m(\u001b[0m\u001b[1;33m)\u001b[0m\u001b[1;33m\u001b[0m\u001b[0m\n\u001b[0m",
      "\u001b[1;32m<ipython-input-19-1a83118a837a>\u001b[0m in \u001b[0;36mtest_split_by_enzyme\u001b[1;34m()\u001b[0m\n\u001b[0;32m      5\u001b[0m     \u001b[0mtest_df\u001b[0m \u001b[1;33m=\u001b[0m \u001b[0mmol_sim\u001b[0m\u001b[1;33m.\u001b[0m\u001b[0mfingerprint_products\u001b[0m\u001b[1;33m(\u001b[0m\u001b[0mmol_sim\u001b[0m\u001b[1;33m.\u001b[0m\u001b[0minput_data\u001b[0m\u001b[1;33m(\u001b[0m\u001b[0minput_df\u001b[0m\u001b[1;33m)\u001b[0m\u001b[1;33m)\u001b[0m\u001b[1;33m\u001b[0m\u001b[0m\n\u001b[0;32m      6\u001b[0m \u001b[1;33m\u001b[0m\u001b[0m\n\u001b[1;32m----> 7\u001b[1;33m     assert isinstance(mol_sim.split_by_enzyme(test_df), list) == True, \"\"\"TypeError,\n\u001b[0m\u001b[0;32m      8\u001b[0m     function should return a pandas dataframe\"\"\"    \n\u001b[0;32m      9\u001b[0m     \u001b[1;31m#assert\u001b[0m\u001b[1;33m\u001b[0m\u001b[1;33m\u001b[0m\u001b[0m\n",
      "\u001b[1;32m~\\Documents\\Data Science Classes\\metamoles\\deprecated\\notebooks\\mol_sim.py\u001b[0m in \u001b[0;36msplit_by_enzyme\u001b[1;34m(input_df)\u001b[0m\n\u001b[0;32m     94\u001b[0m     \u001b[1;34m'''DocString'''\u001b[0m\u001b[1;33m\u001b[0m\u001b[0m\n\u001b[0;32m     95\u001b[0m \u001b[1;33m\u001b[0m\u001b[0m\n\u001b[1;32m---> 96\u001b[1;33m     \u001b[0munique_enzymes\u001b[0m \u001b[1;33m=\u001b[0m \u001b[0mset\u001b[0m\u001b[1;33m(\u001b[0m\u001b[0minput_df\u001b[0m\u001b[1;33m[\u001b[0m\u001b[1;34m'enzyme'\u001b[0m\u001b[1;33m]\u001b[0m\u001b[1;33m.\u001b[0m\u001b[0munique\u001b[0m\u001b[1;33m(\u001b[0m\u001b[1;33m)\u001b[0m\u001b[1;33m)\u001b[0m\u001b[1;33m\u001b[0m\u001b[0m\n\u001b[0m\u001b[0;32m     97\u001b[0m \u001b[1;33m\u001b[0m\u001b[0m\n\u001b[0;32m     98\u001b[0m     \u001b[0menzyme_df_list\u001b[0m \u001b[1;33m=\u001b[0m \u001b[1;33m[\u001b[0m\u001b[1;33m]\u001b[0m\u001b[1;33m\u001b[0m\u001b[0m\n",
      "\u001b[1;32m~\\Miniconda3\\lib\\site-packages\\pandas\\core\\frame.py\u001b[0m in \u001b[0;36m__getitem__\u001b[1;34m(self, key)\u001b[0m\n\u001b[0;32m   2925\u001b[0m             \u001b[1;32mif\u001b[0m \u001b[0mself\u001b[0m\u001b[1;33m.\u001b[0m\u001b[0mcolumns\u001b[0m\u001b[1;33m.\u001b[0m\u001b[0mnlevels\u001b[0m \u001b[1;33m>\u001b[0m \u001b[1;36m1\u001b[0m\u001b[1;33m:\u001b[0m\u001b[1;33m\u001b[0m\u001b[0m\n\u001b[0;32m   2926\u001b[0m                 \u001b[1;32mreturn\u001b[0m \u001b[0mself\u001b[0m\u001b[1;33m.\u001b[0m\u001b[0m_getitem_multilevel\u001b[0m\u001b[1;33m(\u001b[0m\u001b[0mkey\u001b[0m\u001b[1;33m)\u001b[0m\u001b[1;33m\u001b[0m\u001b[0m\n\u001b[1;32m-> 2927\u001b[1;33m             \u001b[0mindexer\u001b[0m \u001b[1;33m=\u001b[0m \u001b[0mself\u001b[0m\u001b[1;33m.\u001b[0m\u001b[0mcolumns\u001b[0m\u001b[1;33m.\u001b[0m\u001b[0mget_loc\u001b[0m\u001b[1;33m(\u001b[0m\u001b[0mkey\u001b[0m\u001b[1;33m)\u001b[0m\u001b[1;33m\u001b[0m\u001b[0m\n\u001b[0m\u001b[0;32m   2928\u001b[0m             \u001b[1;32mif\u001b[0m \u001b[0mis_integer\u001b[0m\u001b[1;33m(\u001b[0m\u001b[0mindexer\u001b[0m\u001b[1;33m)\u001b[0m\u001b[1;33m:\u001b[0m\u001b[1;33m\u001b[0m\u001b[0m\n\u001b[0;32m   2929\u001b[0m                 \u001b[0mindexer\u001b[0m \u001b[1;33m=\u001b[0m \u001b[1;33m[\u001b[0m\u001b[0mindexer\u001b[0m\u001b[1;33m]\u001b[0m\u001b[1;33m\u001b[0m\u001b[0m\n",
      "\u001b[1;32m~\\Miniconda3\\lib\\site-packages\\pandas\\core\\indexes\\base.py\u001b[0m in \u001b[0;36mget_loc\u001b[1;34m(self, key, method, tolerance)\u001b[0m\n\u001b[0;32m   2657\u001b[0m                 \u001b[1;32mreturn\u001b[0m \u001b[0mself\u001b[0m\u001b[1;33m.\u001b[0m\u001b[0m_engine\u001b[0m\u001b[1;33m.\u001b[0m\u001b[0mget_loc\u001b[0m\u001b[1;33m(\u001b[0m\u001b[0mkey\u001b[0m\u001b[1;33m)\u001b[0m\u001b[1;33m\u001b[0m\u001b[0m\n\u001b[0;32m   2658\u001b[0m             \u001b[1;32mexcept\u001b[0m \u001b[0mKeyError\u001b[0m\u001b[1;33m:\u001b[0m\u001b[1;33m\u001b[0m\u001b[0m\n\u001b[1;32m-> 2659\u001b[1;33m                 \u001b[1;32mreturn\u001b[0m \u001b[0mself\u001b[0m\u001b[1;33m.\u001b[0m\u001b[0m_engine\u001b[0m\u001b[1;33m.\u001b[0m\u001b[0mget_loc\u001b[0m\u001b[1;33m(\u001b[0m\u001b[0mself\u001b[0m\u001b[1;33m.\u001b[0m\u001b[0m_maybe_cast_indexer\u001b[0m\u001b[1;33m(\u001b[0m\u001b[0mkey\u001b[0m\u001b[1;33m)\u001b[0m\u001b[1;33m)\u001b[0m\u001b[1;33m\u001b[0m\u001b[0m\n\u001b[0m\u001b[0;32m   2660\u001b[0m         \u001b[0mindexer\u001b[0m \u001b[1;33m=\u001b[0m \u001b[0mself\u001b[0m\u001b[1;33m.\u001b[0m\u001b[0mget_indexer\u001b[0m\u001b[1;33m(\u001b[0m\u001b[1;33m[\u001b[0m\u001b[0mkey\u001b[0m\u001b[1;33m]\u001b[0m\u001b[1;33m,\u001b[0m \u001b[0mmethod\u001b[0m\u001b[1;33m=\u001b[0m\u001b[0mmethod\u001b[0m\u001b[1;33m,\u001b[0m \u001b[0mtolerance\u001b[0m\u001b[1;33m=\u001b[0m\u001b[0mtolerance\u001b[0m\u001b[1;33m)\u001b[0m\u001b[1;33m\u001b[0m\u001b[0m\n\u001b[0;32m   2661\u001b[0m         \u001b[1;32mif\u001b[0m \u001b[0mindexer\u001b[0m\u001b[1;33m.\u001b[0m\u001b[0mndim\u001b[0m \u001b[1;33m>\u001b[0m \u001b[1;36m1\u001b[0m \u001b[1;32mor\u001b[0m \u001b[0mindexer\u001b[0m\u001b[1;33m.\u001b[0m\u001b[0msize\u001b[0m \u001b[1;33m>\u001b[0m \u001b[1;36m1\u001b[0m\u001b[1;33m:\u001b[0m\u001b[1;33m\u001b[0m\u001b[0m\n",
      "\u001b[1;32mpandas/_libs/index.pyx\u001b[0m in \u001b[0;36mpandas._libs.index.IndexEngine.get_loc\u001b[1;34m()\u001b[0m\n",
      "\u001b[1;32mpandas/_libs/index.pyx\u001b[0m in \u001b[0;36mpandas._libs.index.IndexEngine.get_loc\u001b[1;34m()\u001b[0m\n",
      "\u001b[1;32mpandas/_libs/hashtable_class_helper.pxi\u001b[0m in \u001b[0;36mpandas._libs.hashtable.PyObjectHashTable.get_item\u001b[1;34m()\u001b[0m\n",
      "\u001b[1;32mpandas/_libs/hashtable_class_helper.pxi\u001b[0m in \u001b[0;36mpandas._libs.hashtable.PyObjectHashTable.get_item\u001b[1;34m()\u001b[0m\n",
      "\u001b[1;31mKeyError\u001b[0m: 'enzyme'"
     ]
    }
   ],
   "source": [
    "test_split_by_enzyme()"
   ]
  },
  {
   "cell_type": "code",
   "execution_count": 25,
   "metadata": {},
   "outputs": [],
   "source": [
    "def test_sim_i_j():\n",
    "    '''Tests sim_i_j function in mol_sim.py'''\n",
    "    \n",
    "    input_df = testing_df\n",
    "    test_df = mol_sim.fingerprint_products(mol_sim.input_data(input_df))\n",
    "    \n",
    "    A = test_df.iloc[0]\n",
    "    #B = test_df.iloc[1]\n",
    "    #C = test_df.iloc[2]\n",
    "    \n",
    "    assert mol_sim.sim_i_j(A, A) == 1, \"Self correlation is broken\"\n",
    "    #assert mol_sim.sim_i_j(A, B) == -1, \"Standard correlation is broken\"\n",
    "    #assert mol_sim.sim_i_j(A, C) == 0, \"Standard correlation is broken\" \n",
    "    \n",
    "    return '1/1 tests successful'"
   ]
  },
  {
   "cell_type": "code",
   "execution_count": 26,
   "metadata": {},
   "outputs": [
    {
     "data": {
      "text/plain": [
       "'1/1 tests successful'"
      ]
     },
     "execution_count": 26,
     "metadata": {},
     "output_type": "execute_result"
    }
   ],
   "source": [
    "test_sim_i_j()"
   ]
  },
  {
   "cell_type": "code",
   "execution_count": 30,
   "metadata": {},
   "outputs": [],
   "source": [
    "def test_sim_i_all():\n",
    "    '''Test sim_i_all functionin mol_sim.py'''\n",
    "    \n",
    "    input_df = testing_df\n",
    "    test_df = mol_sim.fingerprint_products(mol_sim.input_data(input_df))\n",
    "    metric = pd.DataFrame()\n",
    "    \n",
    "    assert metric.empty == True, \"\"\"ShapeError, input metric dataframe \n",
    "    should be initialized as empty\"\"\"\n",
    "    \n",
    "    for index, row in test_df.iterrows():\n",
    "        assert mol_sim.sim_i_all(test_df, index, row, metric) == None, \"\"\"OutputError, function \n",
    "        shouldn't return anything\"\"\"\n",
    "        assert metric[index].all() >= 0 and metric[index].all() <= 1.0, \"\"\"ValueError, \n",
    "        metric should be between 0 and 1\"\"\"\n",
    "    \n",
    "    return \"3/3 Tests successful\""
   ]
  },
  {
   "cell_type": "code",
   "execution_count": 31,
   "metadata": {},
   "outputs": [
    {
     "data": {
      "text/plain": [
       "'3/3 Tests successful'"
      ]
     },
     "execution_count": 31,
     "metadata": {},
     "output_type": "execute_result"
    }
   ],
   "source": [
    "test_sim_i_all()"
   ]
  },
  {
   "cell_type": "code",
   "execution_count": 35,
   "metadata": {},
   "outputs": [],
   "source": [
    "def test_sim_metric():\n",
    "    '''Test sim_i_all functionin mol_sim.py'''\n",
    "    input_df = testing_df\n",
    "    test_df = mol_sim.fingerprint_products(mol_sim.input_data(input_df))\n",
    "    assert isinstance(mol_sim.sim_metric(test_df), pd.DataFrame) == True, \"\"\"TypeError, \n",
    "    function should return a dataframe\"\"\"\n",
    "    assert mol_sim.sim_metric(test_df).isnull().values.any() == False, \"\"\"ValueError, \n",
    "    function-generated dataframe should not contain null values\"\"\"\n",
    "    #assert test_df.size == mol_sim.sim_metric(test_df).size, \"\"\"ShapeError, \n",
    "    #function-generated dataframe should be the same size as input dataframe\"\"\"\n",
    "\n",
    "    return \"2/2 Tests successful\""
   ]
  },
  {
   "cell_type": "code",
   "execution_count": 36,
   "metadata": {},
   "outputs": [
    {
     "data": {
      "text/plain": [
       "'2/2 Tests successful'"
      ]
     },
     "execution_count": 36,
     "metadata": {},
     "output_type": "execute_result"
    }
   ],
   "source": [
    "test_sim_metric()"
   ]
  },
  {
   "cell_type": "code",
   "execution_count": 56,
   "metadata": {},
   "outputs": [
    {
     "name": "stderr",
     "output_type": "stream",
     "text": [
      "C:\\Users\\ellie\\Miniconda3\\lib\\site-packages\\pandas\\core\\frame.py:3940: SettingWithCopyWarning: \n",
      "A value is trying to be set on a copy of a slice from a DataFrame\n",
      "\n",
      "See the caveats in the documentation: http://pandas.pydata.org/pandas-docs/stable/indexing.html#indexing-view-versus-copy\n",
      "  errors=errors)\n"
     ]
    }
   ],
   "source": [
    "testing_df.drop(columns=['Mol', 'Fingerprint'], inplace=True)"
   ]
  },
  {
   "cell_type": "code",
   "execution_count": 57,
   "metadata": {},
   "outputs": [],
   "source": [
    "testing_df.to_csv('mol_sim_test_df.csv')"
   ]
  },
  {
   "cell_type": "code",
   "execution_count": 49,
   "metadata": {},
   "outputs": [
    {
     "name": "stderr",
     "output_type": "stream",
     "text": [
      "C:\\Users\\ellie\\Miniconda3\\lib\\site-packages\\pandas\\core\\frame.py:4025: SettingWithCopyWarning: \n",
      "A value is trying to be set on a copy of a slice from a DataFrame\n",
      "\n",
      "See the caveats in the documentation: http://pandas.pydata.org/pandas-docs/stable/indexing.html#indexing-view-versus-copy\n",
      "  return super(DataFrame, self).rename(**kwargs)\n"
     ]
    }
   ],
   "source": [
    "testing_df.rename(columns={'Enzyme':'enzyme'}, inplace=True)"
   ]
  },
  {
   "cell_type": "code",
   "execution_count": 61,
   "metadata": {},
   "outputs": [
    {
     "name": "stdout",
     "output_type": "stream",
     "text": [
      "Overwriting test_mol_sim.py\n"
     ]
    }
   ],
   "source": [
    "%%writefile test_mol_sim.py\n",
    "import pandas as pd\n",
    "\n",
    "import mol_sim\n",
    "\n",
    "\n",
    "def test_input_data():\n",
    "    '''Tests input_data function in mol_sim.py'''\n",
    "\n",
    "    input_df = pd.read_csv('mol_sim_test_df.csv')\n",
    "    test_df = mol_sim.input_data(input_df)\n",
    "\n",
    "    assert isinstance(test_df, pd.DataFrame), \"\"\"TypeError,\n",
    "    function should return a pandas dataframe\"\"\"\n",
    "\n",
    "    return '1/1 tests successful'\n",
    "\n",
    "\n",
    "def test_fingerprint_products():\n",
    "    '''Tests fingerprint_products function in mol_sim.py'''\n",
    "\n",
    "    input_df = pd.read_csv('mol_sim_test_df.csv')\n",
    "    test_df = mol_sim.input_data(input_df)\n",
    "\n",
    "    assert isinstance(mol_sim.fingerprint_products(\n",
    "        test_df), pd.DataFrame), \"\"\"TypeError,\n",
    "    function should return a pandas dataframe\"\"\"\n",
    "\n",
    "    return '1/1 tests successful'\n",
    "\n",
    "\n",
    "def test_split_by_enzyme():\n",
    "    '''Tests split_by_enzyme function in mol_sim.py'''\n",
    "\n",
    "    input_df = pd.read_csv('mol_sim_test_df.csv')\n",
    "    test_df = mol_sim.fingerprint_products(mol_sim.input_data(input_df))\n",
    "\n",
    "    assert isinstance(mol_sim.split_by_enzyme(test_df), list), \"\"\"TypeError,\n",
    "    function should return a pandas dataframe\"\"\"\n",
    "\n",
    "    return '1/1 tests successful'\n",
    "\n",
    "\n",
    "def test_sim_i_j():\n",
    "    '''Tests sim_i_j function in mol_sim.py'''\n",
    "\n",
    "    input_df = pd.read_csv('mol_sim_test_df.csv')\n",
    "    test_df = mol_sim.fingerprint_products(mol_sim.input_data(input_df))\n",
    "\n",
    "    A = test_df.iloc[0]\n",
    "\n",
    "    assert mol_sim.sim_i_j(A, A) == 1, \"Self correlation is broken\"\n",
    "\n",
    "    return '1/1 tests successful'\n",
    "\n",
    "\n",
    "def test_sim_i_all():\n",
    "    '''Test sim_i_all functionin mol_sim.py'''\n",
    "\n",
    "    input_df = pd.read_csv('mol_sim_test_df.csv')\n",
    "    test_df = mol_sim.fingerprint_products(mol_sim.input_data(input_df))\n",
    "    metric = pd.DataFrame()\n",
    "\n",
    "    assert metric.empty, \"\"\"ShapeError, input metric dataframe\n",
    "    should be initialized as empty\"\"\"\n",
    "\n",
    "    for index, row in test_df.iterrows():\n",
    "        assert mol_sim.sim_i_all(\n",
    "            test_df, index, row, metric) is None, \"\"\"OutputError, function\n",
    "        shouldn't return anything\"\"\"\n",
    "        assert metric[index].all(\n",
    "        ) >= 0 and metric[index].all() <= 1.0, \"\"\"ValueError,\n",
    "        metric should be between 0 and 1\"\"\"\n",
    "\n",
    "    return \"3/3 Tests successful\"\n",
    "\n",
    "\n",
    "def test_sim_metric():\n",
    "    '''Test sim_i_all functionin mol_sim.py'''\n",
    "\n",
    "    input_df = pd.read_csv('mol_sim_test_df.csv')\n",
    "    test_df = mol_sim.fingerprint_products(mol_sim.input_data(input_df))\n",
    "    assert isinstance(mol_sim.sim_metric(test_df), pd.DataFrame), \"\"\"TypeError,\n",
    "    function should return a dataframe\"\"\"\n",
    "    assert mol_sim.sim_metric(\n",
    "        test_df).isnull().values.any() == False, \"\"\"ValueError,\n",
    "    function-generated dataframe should not contain null values\"\"\"\n",
    "\n",
    "    return \"2/2 Tests successful\"\n",
    "\n",
    "\n",
    "def test_main():\n",
    "\n",
    "    df = pd.read_csv('mol_sim_test_df.csv')\n",
    "    test_df = mol_sim.main(df)\n",
    "\n",
    "    assert isinstance(test_df, pd.DataFrame), \"\"\"TypeError,\n",
    "    function should return a dataframe\"\"\"\n",
    "\n",
    "    return \"1/1 Tests successful\""
   ]
  },
  {
   "cell_type": "code",
   "execution_count": 54,
   "metadata": {},
   "outputs": [
    {
     "name": "stderr",
     "output_type": "stream",
     "text": [
      "C:\\Users\\ellie\\Miniconda3\\lib\\site-packages\\pandas\\core\\indexing.py:190: SettingWithCopyWarning: \n",
      "A value is trying to be set on a copy of a slice from a DataFrame\n",
      "\n",
      "See the caveats in the documentation: http://pandas.pydata.org/pandas-docs/stable/indexing.html#indexing-view-versus-copy\n",
      "  self._setitem_with_indexer(indexer, value)\n"
     ]
    },
    {
     "data": {
      "text/plain": [
       "'1/1 Tests successful'"
      ]
     },
     "execution_count": 54,
     "metadata": {},
     "output_type": "execute_result"
    }
   ],
   "source": [
    "test_main()"
   ]
  }
 ],
 "metadata": {
  "kernelspec": {
   "display_name": "Python 3",
   "language": "python",
   "name": "python3"
  },
  "language_info": {
   "codemirror_mode": {
    "name": "ipython",
    "version": 3
   },
   "file_extension": ".py",
   "mimetype": "text/x-python",
   "name": "python",
   "nbconvert_exporter": "python",
   "pygments_lexer": "ipython3",
   "version": "3.7.0"
  }
 },
 "nbformat": 4,
 "nbformat_minor": 2
}
