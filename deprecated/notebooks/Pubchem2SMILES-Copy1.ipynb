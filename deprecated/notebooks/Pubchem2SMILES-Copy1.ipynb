{
 "cells": [
  {
   "cell_type": "markdown",
   "metadata": {},
   "source": [
    "**This notebook contains a function that fetches a SMILE string starting from a KEGG compound page. It also contains the associated unittests.**\n",
    "\n",
    "USE KEGG_DF_TO_SMILES and SID_TO_SMILES\n",
    "\n",
    "All of the unit tests are passing as of 3/5/19 at 7:30 pm. \n",
    "\n",
    "This notebook contains the basis of a function(s) to take a PubChem ID number and fetch the associated SMILES string from PubChem.\n",
    "\n",
    "It also contains code pieces to pull an SID from a KEGG webpage."
   ]
  },
  {
   "cell_type": "code",
   "execution_count": 1,
   "metadata": {},
   "outputs": [],
   "source": [
    "import numpy as np\n",
    "import pandas as pd\n",
    "import pubchempy as pc\n"
   ]
  },
  {
   "cell_type": "markdown",
   "metadata": {},
   "source": [
    "There are multiple identifier types for each chemical in PubChem. The two we are interacting with here are **SID** (substance ID) and **CID** (chemical ID). CID can be used to acces SMILES directly with PubChemPy. **KEGG does not have CID**, only SID. SID can be turned into CID from which SMILES can be found. "
   ]
  },
  {
   "cell_type": "markdown",
   "metadata": {},
   "source": [
    "### Get SMILES from CID and SID"
   ]
  },
  {
   "cell_type": "markdown",
   "metadata": {},
   "source": [
    "__________________\n",
    "\n",
    "### Manipulate DF containing SID into SMILES"
   ]
  },
  {
   "cell_type": "code",
   "execution_count": 5,
   "metadata": {
    "scrolled": true
   },
   "outputs": [],
   "source": [
    "#%%writefile pubchem_client.py\n",
    "\n",
    "import numpy as np\n",
    "import pandas as pd\n",
    "import pubchempy as pc\n",
    "\n",
    "\n",
    "def sid_to_smiles(sid):\n",
    "    \"\"\"Takes a PubChem SID. Returns the associated isomeric SMILES string and PubChem CID.\n",
    "\n",
    "    Args:\n",
    "        sid : The PubChem SID number.\n",
    "\n",
    "    Returns:\n",
    "        str: isomeric smiles.\n",
    "        int: Pubchem CID number.\n",
    "\n",
    "    \"\"\"\n",
    "\n",
    "    substance = pc.Substance.from_sid(sid)\n",
    "    cid = substance.standardized_cid\n",
    "    compound = pc.get_compounds(cid)[0]\n",
    "\n",
    "    return compound.isomeric_smiles, cid\n",
    "\n",
    "\n",
    "def kegg_df_to_smiles(kegg_df, column_name):\n",
    "    \"\"\"\n",
    "    Args:\n",
    "        kegg_df : pandas dataframe with SID numbers\n",
    "        column_name (str) : name of column that contains PubChem SID numbers\n",
    "\n",
    "    Returns:\n",
    "        kegg_df : modified with columns containing CID and SMILES\n",
    "                  CID becomes first column, SMILES second\n",
    "        unsuccessful_list : list of SIDs for which no CID or SMILES were found\n",
    "\n",
    "    \"\"\"\n",
    "\n",
    "    res = []\n",
    "    cid_list = []\n",
    "    unsuccessful_list = []\n",
    "    #copy = kegg_df.copy()\n",
    "    for i in range(len(kegg_df)):\n",
    "        # cell index of desired SID\n",
    "        sid = kegg_df.loc[i, column_name]\n",
    "        try:\n",
    "            smile_result = sid_to_smiles(sid)[0]\n",
    "            res.append(smile_result)\n",
    "            cid_result = sid_to_smiles(sid)[1]\n",
    "            cid_list.append(cid_result)\n",
    "        except BaseException:\n",
    "            res.append('none')\n",
    "            cid_list.append('none')\n",
    "            unsuccessful_list.append(sid)\n",
    "            pass\n",
    "        \n",
    "    #kegg_df['CID'] = cid_list\n",
    "    #kegg_df['SMILES'] = res\n",
    "    kegg_df.insert(0, column='CID', value=cid_list)\n",
    "    # Change this 2 to the number where the smiles column should be\n",
    "    kegg_df.insert(1, column='SMILES', value=res)\n",
    "    # kegg_df.to_csv(r'../datasets/df_cleaned_kegg_with_smiles.csv')\n",
    "    \n",
    "    return kegg_df, unsuccessful_list\n",
    "\n",
    "\n",
    "def csv_wrapper(input_csv, column_name, output_csv):\n",
    "    \"\"\"\n",
    "    Args:\n",
    "        input_csv (str) : 'input_csv.csv' format; in current directory\n",
    "        column_name (str) : name of column that contains PubChem SID numbers\n",
    "        output_csv (str) : 'output_csv.csv' format\n",
    "    \n",
    "    Returns:\n",
    "        output_csv : saves as 'output_csv.csv' into current directory\n",
    "    \"\"\"\n",
    "    \n",
    "    input_df = pd.read_csv(input_csv).astype(str)\n",
    "#     input_df['reacts'] = input_df['reacts'].astype(float)\n",
    "    output, _ = kegg_df_to_smiles(input_df, column_name)\n",
    "\n",
    "    return output.to_csv(r'' + output_csv, index=False)"
   ]
  },
  {
   "cell_type": "code",
   "execution_count": 6,
   "metadata": {},
   "outputs": [
    {
     "name": "stdout",
     "output_type": "stream",
     "text": [
      "../datasets/KEGG_compounds_no_SMILES.csv\r\n"
     ]
    }
   ],
   "source": [
    "!ls ../datasets/KEGG_compounds_no_SMILES.csv"
   ]
  },
  {
   "cell_type": "code",
   "execution_count": 7,
   "metadata": {},
   "outputs": [
    {
     "ename": "ValueError",
     "evalue": "Length of values does not match length of index",
     "output_type": "error",
     "traceback": [
      "\u001b[0;31m---------------------------------------------------------------------------\u001b[0m",
      "\u001b[0;31mValueError\u001b[0m                                Traceback (most recent call last)",
      "\u001b[0;32m<ipython-input-7-663dcac9d699>\u001b[0m in \u001b[0;36m<module>\u001b[0;34m\u001b[0m\n\u001b[0;32m----> 1\u001b[0;31m \u001b[0mcsv_wrapper\u001b[0m\u001b[0;34m(\u001b[0m\u001b[0;34m'../datasets/KEGG_compounds_no_SMILES.csv'\u001b[0m\u001b[0;34m,\u001b[0m \u001b[0;34m'pubchem_id'\u001b[0m\u001b[0;34m,\u001b[0m \u001b[0;34m'../datasets/KEGG_compounds_pubchem_SMILES.csv'\u001b[0m \u001b[0;34m)\u001b[0m\u001b[0;34m\u001b[0m\u001b[0;34m\u001b[0m\u001b[0m\n\u001b[0m",
      "\u001b[0;32m<ipython-input-5-e0fe15bb4f03>\u001b[0m in \u001b[0;36mcsv_wrapper\u001b[0;34m(input_csv, column_name, output_csv)\u001b[0m\n\u001b[1;32m     79\u001b[0m     \u001b[0minput_df\u001b[0m \u001b[0;34m=\u001b[0m \u001b[0mpd\u001b[0m\u001b[0;34m.\u001b[0m\u001b[0mread_csv\u001b[0m\u001b[0;34m(\u001b[0m\u001b[0minput_csv\u001b[0m\u001b[0;34m)\u001b[0m\u001b[0;34m.\u001b[0m\u001b[0mastype\u001b[0m\u001b[0;34m(\u001b[0m\u001b[0mstr\u001b[0m\u001b[0;34m)\u001b[0m\u001b[0;34m\u001b[0m\u001b[0;34m\u001b[0m\u001b[0m\n\u001b[1;32m     80\u001b[0m \u001b[0;31m#     input_df['reacts'] = input_df['reacts'].astype(float)\u001b[0m\u001b[0;34m\u001b[0m\u001b[0;34m\u001b[0m\u001b[0;34m\u001b[0m\u001b[0m\n\u001b[0;32m---> 81\u001b[0;31m     \u001b[0moutput\u001b[0m\u001b[0;34m,\u001b[0m \u001b[0m_\u001b[0m \u001b[0;34m=\u001b[0m \u001b[0mkegg_df_to_smiles\u001b[0m\u001b[0;34m(\u001b[0m\u001b[0minput_df\u001b[0m\u001b[0;34m,\u001b[0m \u001b[0mcolumn_name\u001b[0m\u001b[0;34m)\u001b[0m\u001b[0;34m\u001b[0m\u001b[0;34m\u001b[0m\u001b[0m\n\u001b[0m\u001b[1;32m     82\u001b[0m \u001b[0;34m\u001b[0m\u001b[0m\n\u001b[1;32m     83\u001b[0m     \u001b[0;32mreturn\u001b[0m \u001b[0moutput\u001b[0m\u001b[0;34m.\u001b[0m\u001b[0mto_csv\u001b[0m\u001b[0;34m(\u001b[0m\u001b[0;34mr''\u001b[0m \u001b[0;34m+\u001b[0m \u001b[0moutput_csv\u001b[0m\u001b[0;34m,\u001b[0m \u001b[0mindex\u001b[0m\u001b[0;34m=\u001b[0m\u001b[0;32mFalse\u001b[0m\u001b[0;34m)\u001b[0m\u001b[0;34m\u001b[0m\u001b[0;34m\u001b[0m\u001b[0m\n",
      "\u001b[0;32m<ipython-input-5-e0fe15bb4f03>\u001b[0m in \u001b[0;36mkegg_df_to_smiles\u001b[0;34m(kegg_df, column_name)\u001b[0m\n\u001b[1;32m     60\u001b[0m     \u001b[0mkegg_df\u001b[0m\u001b[0;34m.\u001b[0m\u001b[0minsert\u001b[0m\u001b[0;34m(\u001b[0m\u001b[0;36m0\u001b[0m\u001b[0;34m,\u001b[0m \u001b[0mcolumn\u001b[0m\u001b[0;34m=\u001b[0m\u001b[0;34m'CID'\u001b[0m\u001b[0;34m,\u001b[0m \u001b[0mvalue\u001b[0m\u001b[0;34m=\u001b[0m\u001b[0mcid_list\u001b[0m\u001b[0;34m)\u001b[0m\u001b[0;34m\u001b[0m\u001b[0;34m\u001b[0m\u001b[0m\n\u001b[1;32m     61\u001b[0m     \u001b[0;31m# Change this 2 to the number where the smiles column should be\u001b[0m\u001b[0;34m\u001b[0m\u001b[0;34m\u001b[0m\u001b[0;34m\u001b[0m\u001b[0m\n\u001b[0;32m---> 62\u001b[0;31m     \u001b[0mkegg_df\u001b[0m\u001b[0;34m.\u001b[0m\u001b[0minsert\u001b[0m\u001b[0;34m(\u001b[0m\u001b[0;36m1\u001b[0m\u001b[0;34m,\u001b[0m \u001b[0mcolumn\u001b[0m\u001b[0;34m=\u001b[0m\u001b[0;34m'SMILES'\u001b[0m\u001b[0;34m,\u001b[0m \u001b[0mvalue\u001b[0m\u001b[0;34m=\u001b[0m\u001b[0mres\u001b[0m\u001b[0;34m)\u001b[0m\u001b[0;34m\u001b[0m\u001b[0;34m\u001b[0m\u001b[0m\n\u001b[0m\u001b[1;32m     63\u001b[0m     \u001b[0;31m# kegg_df.to_csv(r'../datasets/df_cleaned_kegg_with_smiles.csv')\u001b[0m\u001b[0;34m\u001b[0m\u001b[0;34m\u001b[0m\u001b[0;34m\u001b[0m\u001b[0m\n\u001b[1;32m     64\u001b[0m \u001b[0;34m\u001b[0m\u001b[0m\n",
      "\u001b[0;32m~/miniconda3/lib/python3.7/site-packages/pandas/core/frame.py\u001b[0m in \u001b[0;36minsert\u001b[0;34m(self, loc, column, value, allow_duplicates)\u001b[0m\n\u001b[1;32m   3218\u001b[0m         \"\"\"\n\u001b[1;32m   3219\u001b[0m         \u001b[0mself\u001b[0m\u001b[0;34m.\u001b[0m\u001b[0m_ensure_valid_index\u001b[0m\u001b[0;34m(\u001b[0m\u001b[0mvalue\u001b[0m\u001b[0;34m)\u001b[0m\u001b[0;34m\u001b[0m\u001b[0;34m\u001b[0m\u001b[0m\n\u001b[0;32m-> 3220\u001b[0;31m         \u001b[0mvalue\u001b[0m \u001b[0;34m=\u001b[0m \u001b[0mself\u001b[0m\u001b[0;34m.\u001b[0m\u001b[0m_sanitize_column\u001b[0m\u001b[0;34m(\u001b[0m\u001b[0mcolumn\u001b[0m\u001b[0;34m,\u001b[0m \u001b[0mvalue\u001b[0m\u001b[0;34m,\u001b[0m \u001b[0mbroadcast\u001b[0m\u001b[0;34m=\u001b[0m\u001b[0;32mFalse\u001b[0m\u001b[0;34m)\u001b[0m\u001b[0;34m\u001b[0m\u001b[0;34m\u001b[0m\u001b[0m\n\u001b[0m\u001b[1;32m   3221\u001b[0m         self._data.insert(loc, column, value,\n\u001b[1;32m   3222\u001b[0m                           allow_duplicates=allow_duplicates)\n",
      "\u001b[0;32m~/miniconda3/lib/python3.7/site-packages/pandas/core/frame.py\u001b[0m in \u001b[0;36m_sanitize_column\u001b[0;34m(self, key, value, broadcast)\u001b[0m\n\u001b[1;32m   3389\u001b[0m \u001b[0;34m\u001b[0m\u001b[0m\n\u001b[1;32m   3390\u001b[0m             \u001b[0;31m# turn me into an ndarray\u001b[0m\u001b[0;34m\u001b[0m\u001b[0;34m\u001b[0m\u001b[0;34m\u001b[0m\u001b[0m\n\u001b[0;32m-> 3391\u001b[0;31m             \u001b[0mvalue\u001b[0m \u001b[0;34m=\u001b[0m \u001b[0m_sanitize_index\u001b[0m\u001b[0;34m(\u001b[0m\u001b[0mvalue\u001b[0m\u001b[0;34m,\u001b[0m \u001b[0mself\u001b[0m\u001b[0;34m.\u001b[0m\u001b[0mindex\u001b[0m\u001b[0;34m,\u001b[0m \u001b[0mcopy\u001b[0m\u001b[0;34m=\u001b[0m\u001b[0;32mFalse\u001b[0m\u001b[0;34m)\u001b[0m\u001b[0;34m\u001b[0m\u001b[0;34m\u001b[0m\u001b[0m\n\u001b[0m\u001b[1;32m   3392\u001b[0m             \u001b[0;32mif\u001b[0m \u001b[0;32mnot\u001b[0m \u001b[0misinstance\u001b[0m\u001b[0;34m(\u001b[0m\u001b[0mvalue\u001b[0m\u001b[0;34m,\u001b[0m \u001b[0;34m(\u001b[0m\u001b[0mnp\u001b[0m\u001b[0;34m.\u001b[0m\u001b[0mndarray\u001b[0m\u001b[0;34m,\u001b[0m \u001b[0mIndex\u001b[0m\u001b[0;34m)\u001b[0m\u001b[0;34m)\u001b[0m\u001b[0;34m:\u001b[0m\u001b[0;34m\u001b[0m\u001b[0;34m\u001b[0m\u001b[0m\n\u001b[1;32m   3393\u001b[0m                 \u001b[0;32mif\u001b[0m \u001b[0misinstance\u001b[0m\u001b[0;34m(\u001b[0m\u001b[0mvalue\u001b[0m\u001b[0;34m,\u001b[0m \u001b[0mlist\u001b[0m\u001b[0;34m)\u001b[0m \u001b[0;32mand\u001b[0m \u001b[0mlen\u001b[0m\u001b[0;34m(\u001b[0m\u001b[0mvalue\u001b[0m\u001b[0;34m)\u001b[0m \u001b[0;34m>\u001b[0m \u001b[0;36m0\u001b[0m\u001b[0;34m:\u001b[0m\u001b[0;34m\u001b[0m\u001b[0;34m\u001b[0m\u001b[0m\n",
      "\u001b[0;32m~/miniconda3/lib/python3.7/site-packages/pandas/core/series.py\u001b[0m in \u001b[0;36m_sanitize_index\u001b[0;34m(data, index, copy)\u001b[0m\n\u001b[1;32m   3999\u001b[0m \u001b[0;34m\u001b[0m\u001b[0m\n\u001b[1;32m   4000\u001b[0m     \u001b[0;32mif\u001b[0m \u001b[0mlen\u001b[0m\u001b[0;34m(\u001b[0m\u001b[0mdata\u001b[0m\u001b[0;34m)\u001b[0m \u001b[0;34m!=\u001b[0m \u001b[0mlen\u001b[0m\u001b[0;34m(\u001b[0m\u001b[0mindex\u001b[0m\u001b[0;34m)\u001b[0m\u001b[0;34m:\u001b[0m\u001b[0;34m\u001b[0m\u001b[0;34m\u001b[0m\u001b[0m\n\u001b[0;32m-> 4001\u001b[0;31m         \u001b[0;32mraise\u001b[0m \u001b[0mValueError\u001b[0m\u001b[0;34m(\u001b[0m\u001b[0;34m'Length of values does not match length of '\u001b[0m \u001b[0;34m'index'\u001b[0m\u001b[0;34m)\u001b[0m\u001b[0;34m\u001b[0m\u001b[0;34m\u001b[0m\u001b[0m\n\u001b[0m\u001b[1;32m   4002\u001b[0m \u001b[0;34m\u001b[0m\u001b[0m\n\u001b[1;32m   4003\u001b[0m     \u001b[0;32mif\u001b[0m \u001b[0misinstance\u001b[0m\u001b[0;34m(\u001b[0m\u001b[0mdata\u001b[0m\u001b[0;34m,\u001b[0m \u001b[0mABCIndexClass\u001b[0m\u001b[0;34m)\u001b[0m \u001b[0;32mand\u001b[0m \u001b[0;32mnot\u001b[0m \u001b[0mcopy\u001b[0m\u001b[0;34m:\u001b[0m\u001b[0;34m\u001b[0m\u001b[0;34m\u001b[0m\u001b[0m\n",
      "\u001b[0;31mValueError\u001b[0m: Length of values does not match length of index"
     ]
    }
   ],
   "source": [
    "csv_wrapper('../datasets/KEGG_compounds_no_SMILES.csv', 'pubchem_id', '../datasets/KEGG_compounds_pubchem_SMILES.csv' )"
   ]
  },
  {
   "cell_type": "code",
   "execution_count": 128,
   "metadata": {},
   "outputs": [
    {
     "name": "stdout",
     "output_type": "stream",
     "text": [
      "Overwriting test_kegg_data.py\n"
     ]
    }
   ],
   "source": [
    "#%%writefile test_pubchem_client.py\n",
    "\n",
    "import pandas as pd\n",
    "\n",
    "from pandas.util.testing import assert_frame_equal\n",
    "\n",
    "import pubchem_client\n",
    "\n",
    "\n",
    "def test_sid_to_smiles():\n",
    "    \"\"\"Unit test for pubchem_client.py sid_to_smiles.\"\"\"\n",
    "\n",
    "    sids = ['3489', '3990']\n",
    "    expected = ['C(CO)N', 'C1CSSC1CCCCC(=O)O']\n",
    "    actual = []\n",
    "\n",
    "    for sid in sids:\n",
    "        result_smile = pubchem_client.sid_to_smiles(sid)\n",
    "\n",
    "        assert len(\n",
    "            result_smile) >= 1, 'SMILES string is very short. Check SMILES.'\n",
    "        isinstance(result_smile, str), 'SMILES not returned as string.'\n",
    "\n",
    "        actual.append(result_smile[0])\n",
    "\n",
    "    assert expected == actual, 'Actual SMILES are not the expected SMILES.'\n",
    "\n",
    "    return\n",
    "\n",
    "\n",
    "def test_kegg_df_to_smiles():\n",
    "    \"\"\"Unit test for pubchem_client.py kegg_df_to_smiles.\"\"\"\n",
    "\n",
    "    test_frame = pd.DataFrame([['space fill', 'ethanolamine', '1.0', '3489'], [\n",
    "                              'space fill', 'pyruvate', '1.0', '3324']], columns=['Filler', 'Compound Name', 'Reacts', 'SID'])\n",
    "\n",
    "    expected_frame = pd.DataFrame([[int(700),\n",
    "                                    'C(CO)N',\n",
    "                                    'space fill',\n",
    "                                    'ethanolamine',\n",
    "                                    '1.0',\n",
    "                                    '3489'\n",
    "                                    ],\n",
    "                                   [int(1060),\n",
    "                                    'CC(=O)C(=O)O',\n",
    "                                    'space fill',\n",
    "                                    'pyruvate',\n",
    "                                    '1.0',\n",
    "                                    '3324',\n",
    "                                    ]],\n",
    "                                  columns=['CID',\n",
    "                                           'SMILES',\n",
    "                                           'Filler',\n",
    "                                           'Compound Name',\n",
    "                                           'Reacts',\n",
    "                                           'SID',\n",
    "                                           ])\n",
    "    column_name = 'SID'\n",
    "    result_frame = pubchem_client.kegg_df_to_smiles(test_frame, column_name)\n",
    "\n",
    "    assert_frame_equal(\n",
    "        result_frame[0], expected_frame), 'Did not generate expected df.'\n",
    "\n",
    "    return\n",
    "\n",
    "\n",
    "def test_csv_wrapper():\n",
    "    \"\"\"Unit test for csv_wrapper function.\"\"\"\n",
    "    \n",
    "    filler = ['fill', 'fill', 'fill', 'fill']\n",
    "    sids = ['3305', '3333', '3480', '3371']\n",
    "    compounds = ['NAD', 'glucose', 'benzoic acid', 'unknown']\n",
    "    react = ['1.0', '0.0','1.0', '0.0']\n",
    "    tuple_list = list(zip(filler, compounds, react, sids))\n",
    "    test_df = pd.DataFrame(tuple_list, columns=['enzyme', 'product', 'reacts', 'pubchem_id'])\n",
    "    \n",
    "    test_df.to_csv(r'test_df.csv', index=False)\n",
    "    \n",
    "    expected = pd.DataFrame([['5893',\n",
    "  'C1=CC(=C[N+](=C1)[C@H]2[C@@H]([C@@H]([C@H](O2)COP(=O)(O)OP(=O)(O)OC[C@@H]3[C@H]([C@H]([C@@H](O3)N4C=NC5=C4N=CN=C5N)O)O)O)O)C(=O)N',\n",
    "  'fill',\n",
    "  'NAD',\n",
    "  1.0,\n",
    "  3305],\n",
    " ['5793',\n",
    "  'C([C@@H]1[C@H]([C@@H]([C@H](C(O1)O)O)O)O)O',\n",
    "  'fill',\n",
    "  'glucose',\n",
    "  0.0,\n",
    "  3333],\n",
    " ['243', 'C1=CC=C(C=C1)C(=O)O', 'fill', 'benzoic acid', 1.0, 3480],\n",
    " ['none', 'none', 'fill', 'unknown', 0.0, 3371]], columns=['CID', 'SMILES', 'enzyme', 'product', 'reacts', 'pubchem_id'])\n",
    "    \n",
    "    column_name = 'pubchem_id'\n",
    "    \n",
    "    pubchem_client.csv_wrapper('test_df.csv', column_name, 'wrapper_test.csv')\n",
    "    \n",
    "    actual = pd.read_csv('wrapper_test.csv')\n",
    "    \n",
    "    assert expected.loc[1, 'reacts'] == actual.loc[1, 'reacts']\n",
    "    assert expected.loc[2, 'SMILES'] == actual.loc[2, 'SMILES']\n",
    "    \n",
    "    return"
   ]
  }
 ],
 "metadata": {
  "kernelspec": {
   "display_name": "Python 3",
   "language": "python",
   "name": "python3"
  },
  "language_info": {
   "codemirror_mode": {
    "name": "ipython",
    "version": 3
   },
   "file_extension": ".py",
   "mimetype": "text/x-python",
   "name": "python",
   "nbconvert_exporter": "python",
   "pygments_lexer": "ipython3",
   "version": "3.7.1"
  }
 },
 "nbformat": 4,
 "nbformat_minor": 2
}
