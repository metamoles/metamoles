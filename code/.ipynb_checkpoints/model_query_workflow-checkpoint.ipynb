{
 "cells": [
  {
   "cell_type": "markdown",
   "metadata": {},
   "source": [
    "### The purpose of this notebook is to complete a data cleaning workflow from start to finish in order to validate the core functionality our package\n",
    "\n",
    "#### TO DO:\n",
    "- Add in complete PubChem data\n",
    "- Write PubChem function\n",
    "- Organize code modules & tests\n",
    "- Clean up/finish writing tests\n",
    "- Write main script wrapper function\n"
   ]
  },
  {
   "cell_type": "code",
   "execution_count": 2,
   "metadata": {},
   "outputs": [],
   "source": [
    "# imports\n",
    "\n",
    "from core import *\n",
    "from cpd_info import *\n",
    "from mol_sim_copy import *\n",
    "from pubchem_client import *\n",
    "\n",
    "import pandas as pd\n",
    "import matplotlib.pyplot as plt\n",
    "import seaborn as sns\n",
    "\n",
    "import sklearn\n",
    "from sklearn import linear_model\n",
    "from sklearn.model_selection import cross_val_score\n",
    "from sklearn.model_selection import KFold\n",
    "from sklearn.model_selection import train_test_split\n",
    "from sklearn.metrics import confusion_matrix\n",
    "from sklearn.metrics import classification_report\n",
    "from sklearn.metrics import roc_auc_score\n",
    "from sklearn.metrics import roc_curve\n",
    "import matplotlib.pyplot as plt"
   ]
  },
  {
   "cell_type": "markdown",
   "metadata": {},
   "source": [
    "## Step 1\n",
    "\n",
    "#### Read in master dataframe\n",
    "\n"
   ]
  },
  {
   "cell_type": "code",
   "execution_count": 3,
   "metadata": {},
   "outputs": [
    {
     "name": "stdout",
     "output_type": "stream",
     "text": [
      "(6879, 24)\n"
     ]
    },
    {
     "data": {
      "text/html": [
       "<div>\n",
       "<style scoped>\n",
       "    .dataframe tbody tr th:only-of-type {\n",
       "        vertical-align: middle;\n",
       "    }\n",
       "\n",
       "    .dataframe tbody tr th {\n",
       "        vertical-align: top;\n",
       "    }\n",
       "\n",
       "    .dataframe thead th {\n",
       "        text-align: right;\n",
       "    }\n",
       "</style>\n",
       "<table border=\"1\" class=\"dataframe\">\n",
       "  <thead>\n",
       "    <tr style=\"text-align: right;\">\n",
       "      <th></th>\n",
       "      <th>entry</th>\n",
       "      <th>product</th>\n",
       "      <th>reacts</th>\n",
       "      <th>PubChem</th>\n",
       "      <th>SMILES</th>\n",
       "      <th>Mol</th>\n",
       "      <th>Fingerprint</th>\n",
       "      <th>dist</th>\n",
       "      <th>enzyme_class_1</th>\n",
       "      <th>enzyme_class_2</th>\n",
       "      <th>...</th>\n",
       "      <th>enzyme_class_7</th>\n",
       "      <th>n_C</th>\n",
       "      <th>n_H</th>\n",
       "      <th>n_O</th>\n",
       "      <th>n_N</th>\n",
       "      <th>n_P</th>\n",
       "      <th>n_S</th>\n",
       "      <th>n_X</th>\n",
       "      <th>DoU</th>\n",
       "      <th>MW</th>\n",
       "    </tr>\n",
       "  </thead>\n",
       "  <tbody>\n",
       "    <tr>\n",
       "      <th>0</th>\n",
       "      <td>1.8.99.5</td>\n",
       "      <td>C00094</td>\n",
       "      <td>1.0</td>\n",
       "      <td>3394</td>\n",
       "      <td>OS(=O)O</td>\n",
       "      <td>&lt;rdkit.Chem.rdchem.Mol object at 0x1ac9b8a210&gt;</td>\n",
       "      <td>&lt;rdkit.DataStructs.cDataStructs.ExplicitBitVec...</td>\n",
       "      <td>0.000000</td>\n",
       "      <td>1</td>\n",
       "      <td>0</td>\n",
       "      <td>...</td>\n",
       "      <td>0</td>\n",
       "      <td>0.0</td>\n",
       "      <td>2.0</td>\n",
       "      <td>3.0</td>\n",
       "      <td>0.0</td>\n",
       "      <td>0.0</td>\n",
       "      <td>1.0</td>\n",
       "      <td>0.0</td>\n",
       "      <td>0.0</td>\n",
       "      <td>82.080</td>\n",
       "    </tr>\n",
       "    <tr>\n",
       "      <th>1</th>\n",
       "      <td>1.13.11.18</td>\n",
       "      <td>C00094</td>\n",
       "      <td>1.0</td>\n",
       "      <td>3394</td>\n",
       "      <td>OS(=O)O</td>\n",
       "      <td>&lt;rdkit.Chem.rdchem.Mol object at 0x1ac9b8a580&gt;</td>\n",
       "      <td>&lt;rdkit.DataStructs.cDataStructs.ExplicitBitVec...</td>\n",
       "      <td>0.511007</td>\n",
       "      <td>1</td>\n",
       "      <td>0</td>\n",
       "      <td>...</td>\n",
       "      <td>0</td>\n",
       "      <td>0.0</td>\n",
       "      <td>2.0</td>\n",
       "      <td>3.0</td>\n",
       "      <td>0.0</td>\n",
       "      <td>0.0</td>\n",
       "      <td>1.0</td>\n",
       "      <td>0.0</td>\n",
       "      <td>0.0</td>\n",
       "      <td>82.080</td>\n",
       "    </tr>\n",
       "    <tr>\n",
       "      <th>2</th>\n",
       "      <td>1.8.99.5</td>\n",
       "      <td>C00283</td>\n",
       "      <td>1.0</td>\n",
       "      <td>3578</td>\n",
       "      <td>S</td>\n",
       "      <td>&lt;rdkit.Chem.rdchem.Mol object at 0x1ac9b8ac10&gt;</td>\n",
       "      <td>&lt;rdkit.DataStructs.cDataStructs.ExplicitBitVec...</td>\n",
       "      <td>0.000000</td>\n",
       "      <td>1</td>\n",
       "      <td>0</td>\n",
       "      <td>...</td>\n",
       "      <td>0</td>\n",
       "      <td>0.0</td>\n",
       "      <td>2.0</td>\n",
       "      <td>0.0</td>\n",
       "      <td>0.0</td>\n",
       "      <td>0.0</td>\n",
       "      <td>1.0</td>\n",
       "      <td>0.0</td>\n",
       "      <td>0.0</td>\n",
       "      <td>34.083</td>\n",
       "    </tr>\n",
       "    <tr>\n",
       "      <th>3</th>\n",
       "      <td>2.8.1.2</td>\n",
       "      <td>C00283</td>\n",
       "      <td>1.0</td>\n",
       "      <td>3578</td>\n",
       "      <td>S</td>\n",
       "      <td>&lt;rdkit.Chem.rdchem.Mol object at 0x1ac9b8a2b0&gt;</td>\n",
       "      <td>&lt;rdkit.DataStructs.cDataStructs.ExplicitBitVec...</td>\n",
       "      <td>0.241667</td>\n",
       "      <td>0</td>\n",
       "      <td>1</td>\n",
       "      <td>...</td>\n",
       "      <td>0</td>\n",
       "      <td>0.0</td>\n",
       "      <td>2.0</td>\n",
       "      <td>0.0</td>\n",
       "      <td>0.0</td>\n",
       "      <td>0.0</td>\n",
       "      <td>1.0</td>\n",
       "      <td>0.0</td>\n",
       "      <td>0.0</td>\n",
       "      <td>34.083</td>\n",
       "    </tr>\n",
       "    <tr>\n",
       "      <th>4</th>\n",
       "      <td>4.4.1.28</td>\n",
       "      <td>C00283</td>\n",
       "      <td>1.0</td>\n",
       "      <td>3578</td>\n",
       "      <td>S</td>\n",
       "      <td>&lt;rdkit.Chem.rdchem.Mol object at 0x1ac9b8a120&gt;</td>\n",
       "      <td>&lt;rdkit.DataStructs.cDataStructs.ExplicitBitVec...</td>\n",
       "      <td>0.294605</td>\n",
       "      <td>0</td>\n",
       "      <td>0</td>\n",
       "      <td>...</td>\n",
       "      <td>0</td>\n",
       "      <td>0.0</td>\n",
       "      <td>2.0</td>\n",
       "      <td>0.0</td>\n",
       "      <td>0.0</td>\n",
       "      <td>0.0</td>\n",
       "      <td>1.0</td>\n",
       "      <td>0.0</td>\n",
       "      <td>0.0</td>\n",
       "      <td>34.083</td>\n",
       "    </tr>\n",
       "  </tbody>\n",
       "</table>\n",
       "<p>5 rows × 24 columns</p>\n",
       "</div>"
      ],
      "text/plain": [
       "        entry product  reacts  PubChem   SMILES  \\\n",
       "0    1.8.99.5  C00094     1.0     3394  OS(=O)O   \n",
       "1  1.13.11.18  C00094     1.0     3394  OS(=O)O   \n",
       "2    1.8.99.5  C00283     1.0     3578        S   \n",
       "3     2.8.1.2  C00283     1.0     3578        S   \n",
       "4    4.4.1.28  C00283     1.0     3578        S   \n",
       "\n",
       "                                              Mol  \\\n",
       "0  <rdkit.Chem.rdchem.Mol object at 0x1ac9b8a210>   \n",
       "1  <rdkit.Chem.rdchem.Mol object at 0x1ac9b8a580>   \n",
       "2  <rdkit.Chem.rdchem.Mol object at 0x1ac9b8ac10>   \n",
       "3  <rdkit.Chem.rdchem.Mol object at 0x1ac9b8a2b0>   \n",
       "4  <rdkit.Chem.rdchem.Mol object at 0x1ac9b8a120>   \n",
       "\n",
       "                                         Fingerprint      dist  \\\n",
       "0  <rdkit.DataStructs.cDataStructs.ExplicitBitVec...  0.000000   \n",
       "1  <rdkit.DataStructs.cDataStructs.ExplicitBitVec...  0.511007   \n",
       "2  <rdkit.DataStructs.cDataStructs.ExplicitBitVec...  0.000000   \n",
       "3  <rdkit.DataStructs.cDataStructs.ExplicitBitVec...  0.241667   \n",
       "4  <rdkit.DataStructs.cDataStructs.ExplicitBitVec...  0.294605   \n",
       "\n",
       "   enzyme_class_1  enzyme_class_2   ...    enzyme_class_7  n_C  n_H  n_O  n_N  \\\n",
       "0               1               0   ...                 0  0.0  2.0  3.0  0.0   \n",
       "1               1               0   ...                 0  0.0  2.0  3.0  0.0   \n",
       "2               1               0   ...                 0  0.0  2.0  0.0  0.0   \n",
       "3               0               1   ...                 0  0.0  2.0  0.0  0.0   \n",
       "4               0               0   ...                 0  0.0  2.0  0.0  0.0   \n",
       "\n",
       "   n_P  n_S  n_X  DoU      MW  \n",
       "0  0.0  1.0  0.0  0.0  82.080  \n",
       "1  0.0  1.0  0.0  0.0  82.080  \n",
       "2  0.0  1.0  0.0  0.0  34.083  \n",
       "3  0.0  1.0  0.0  0.0  34.083  \n",
       "4  0.0  1.0  0.0  0.0  34.083  \n",
       "\n",
       "[5 rows x 24 columns]"
      ]
     },
     "execution_count": 3,
     "metadata": {},
     "output_type": "execute_result"
    }
   ],
   "source": [
    "# read in the master_df\n",
    "\n",
    "master_df = pd.read_csv('../datasets/MASTER_DF.csv') \n",
    "# master_df = master_df[master_df['reacts'] == 1.0]    # select only the reactive enzyme - compound pairs\n",
    "# master_df = master_df[['entry', 'PubChem', 'SMILES']]\n",
    "print(master_df.shape)\n",
    "master_df.head()"
   ]
  },
  {
   "cell_type": "markdown",
   "metadata": {},
   "source": [
    "## Step 2 \n",
    "#### Get query SMILES string & pair query compound with each unique enzyme in the master DataFrame\n",
    "Example: PubChem SID 3480"
   ]
  },
  {
   "cell_type": "code",
   "execution_count": 4,
   "metadata": {},
   "outputs": [],
   "source": [
    "# function to query the SMILES string and append new pairs to the master dataframe\n",
    "\n",
    "def pair_query_compound(master_df, enzyme_col, pubchem_col, smiles_col, pubchem_sid):\n",
    "    \"\"\"\n",
    "    pair_query_compound_with_enzymes() queries pubchem to get a SMILES string from an input pubchem_sid,\n",
    "        then pairs that query compound with each unique enzyme id in the master dataframe\n",
    "        \n",
    "    Args:\n",
    "        master_df (pandas.DataFrame): master dataframe containing enzyme ids\n",
    "        enzyme_col (str): column containing enzyme id\n",
    "        pubchem_col (str): column containing pubchem sid\n",
    "        smiles_col (str): column containing SMILES string\n",
    "        pubchem_sid (str): query PubChem sid\n",
    "        \n",
    "    Returns:\n",
    "        pandas.DataFrame: with rows added to include query compound\n",
    "    \"\"\"\n",
    "    master_df = master_df[[enzyme_col, pubchem_col, smiles_col]]\n",
    "    new_pairs = []\n",
    "    smiles, _ = sid_to_smiles(pubchem_sid)\n",
    "    if len(smiles) == 0:\n",
    "        raise 'query compound SMILES string could not be retrieved'\n",
    "    else:\n",
    "        pass\n",
    "    unique_enzymes = master_df[enzyme_col].unique().tolist()\n",
    "    for enzyme in unique_enzymes:\n",
    "        pair = {enzyme_col:enzyme, pubchem_col:pubchem_sid, smiles_col:smiles}\n",
    "        new_pairs.append(pair)\n",
    "    new_paris_df = pd.DataFrame(new_pairs)\n",
    "    output_df = pd.concat((master_df, new_paris_df), axis=0, sort=False)\n",
    "    return output_df\n"
   ]
  },
  {
   "cell_type": "code",
   "execution_count": 5,
   "metadata": {},
   "outputs": [
    {
     "name": "stdout",
     "output_type": "stream",
     "text": [
      "(7395, 3)\n"
     ]
    },
    {
     "data": {
      "text/html": [
       "<div>\n",
       "<style scoped>\n",
       "    .dataframe tbody tr th:only-of-type {\n",
       "        vertical-align: middle;\n",
       "    }\n",
       "\n",
       "    .dataframe tbody tr th {\n",
       "        vertical-align: top;\n",
       "    }\n",
       "\n",
       "    .dataframe thead th {\n",
       "        text-align: right;\n",
       "    }\n",
       "</style>\n",
       "<table border=\"1\" class=\"dataframe\">\n",
       "  <thead>\n",
       "    <tr style=\"text-align: right;\">\n",
       "      <th></th>\n",
       "      <th>entry</th>\n",
       "      <th>PubChem</th>\n",
       "      <th>SMILES</th>\n",
       "    </tr>\n",
       "  </thead>\n",
       "  <tbody>\n",
       "    <tr>\n",
       "      <th>0</th>\n",
       "      <td>1.8.99.5</td>\n",
       "      <td>3394</td>\n",
       "      <td>OS(=O)O</td>\n",
       "    </tr>\n",
       "    <tr>\n",
       "      <th>1</th>\n",
       "      <td>1.13.11.18</td>\n",
       "      <td>3394</td>\n",
       "      <td>OS(=O)O</td>\n",
       "    </tr>\n",
       "    <tr>\n",
       "      <th>2</th>\n",
       "      <td>1.8.99.5</td>\n",
       "      <td>3578</td>\n",
       "      <td>S</td>\n",
       "    </tr>\n",
       "    <tr>\n",
       "      <th>3</th>\n",
       "      <td>2.8.1.2</td>\n",
       "      <td>3578</td>\n",
       "      <td>S</td>\n",
       "    </tr>\n",
       "    <tr>\n",
       "      <th>4</th>\n",
       "      <td>4.4.1.28</td>\n",
       "      <td>3578</td>\n",
       "      <td>S</td>\n",
       "    </tr>\n",
       "  </tbody>\n",
       "</table>\n",
       "</div>"
      ],
      "text/plain": [
       "        entry PubChem   SMILES\n",
       "0    1.8.99.5    3394  OS(=O)O\n",
       "1  1.13.11.18    3394  OS(=O)O\n",
       "2    1.8.99.5    3578        S\n",
       "3     2.8.1.2    3578        S\n",
       "4    4.4.1.28    3578        S"
      ]
     },
     "execution_count": 5,
     "metadata": {},
     "output_type": "execute_result"
    }
   ],
   "source": [
    "# pair_query_compound_with_enzymes()\n",
    "\n",
    "updated_df = pair_query_compound(master_df, 'entry', 'PubChem', 'SMILES', '3480')\n",
    "print(updated_df.shape)\n",
    "updated_df.head()"
   ]
  },
  {
   "cell_type": "markdown",
   "metadata": {},
   "source": [
    "## Step 3\n",
    "#### Calculate molecular distances between products of the same enzyme\n",
    "Positive and negative data must be calculated separately because the calculated molecular distance is an average of the distances between all products of any one enzyme. The model is based on the fact that we expect these distances to be closer for reactive enzyme-product pairs than for non-reactive enzyme-product pairs"
   ]
  },
  {
   "cell_type": "code",
   "execution_count": null,
   "metadata": {},
   "outputs": [],
   "source": [
    "# calculate_dist()\n",
    "# positive data\n",
    "\n",
    "distance_df = calculate_dist(updated_df)\n",
    "print(distance_df.shape)\n",
    "distance_df.head()"
   ]
  },
  {
   "cell_type": "markdown",
   "metadata": {},
   "source": [
    "## Step 4\n",
    "#### Get dummy variables to represent enzyme class\n",
    "We expect that many enzyme properties could be predictive features for this model. Enzyme class should encapsulate many of these features at a high level."
   ]
  },
  {
   "cell_type": "code",
   "execution_count": null,
   "metadata": {},
   "outputs": [],
   "source": [
    "# remove any rows that are not the query compound\n",
    "\n",
    "reduced_df = distance_df[distance_df['PubChem'] == '3480']"
   ]
  },
  {
   "cell_type": "code",
   "execution_count": null,
   "metadata": {},
   "outputs": [],
   "source": [
    "# binarize_enzyme_class()\n",
    "\n",
    "query_df = binarize_enzyme_class(reduced_df, 'entry')\n",
    "query_df = query_df.reset_index(drop=True)\n",
    "print(query_df.shape)\n",
    "query_df.head()"
   ]
  },
  {
   "cell_type": "markdown",
   "metadata": {},
   "source": [
    "## Step 5\n",
    "#### Add in compound features with RDKit\n",
    "This step uses the RDKit packages to generate descriptive features of the reaction product compounds"
   ]
  },
  {
   "cell_type": "code",
   "execution_count": null,
   "metadata": {
    "scrolled": true
   },
   "outputs": [],
   "source": [
    "query_df = create_cpd_info(query_df)\n",
    "print(query_df.shape)\n",
    "query_df.head()"
   ]
  },
  {
   "cell_type": "markdown",
   "metadata": {},
   "source": [
    "## Step 6\n",
    "#### Re-Instantiate model"
   ]
  },
  {
   "cell_type": "code",
   "execution_count": null,
   "metadata": {},
   "outputs": [],
   "source": [
    "feature_df = master_df[['dist', 'enzyme_class_1', 'enzyme_class_2', 'enzyme_class_3',\n",
    "       'enzyme_class_4', 'enzyme_class_5', 'enzyme_class_6', 'enzyme_class_7',\n",
    "       'n_C', 'n_H', 'n_O', 'n_N', 'n_P', 'n_S', 'n_X', 'DoU', 'MW']]\n",
    "features = np.array(feature_df) #shape balance array for regression\n",
    "reactions = list(master_df['reacts'])\n",
    "feature_train, feature_test, reaction_train, reaction_test = train_test_split(features, reactions,\n",
    "                                                  test_size=0.20, random_state=42)\n",
    "model_1 = linear_model.LogisticRegression(solver='liblinear', penalty='l1', random_state=1)\n",
    "model_1.fit(feature_train, np.ravel(reaction_train))"
   ]
  },
  {
   "cell_type": "markdown",
   "metadata": {},
   "source": [
    "## Step 7 \n",
    "#### Use model to predict reactivity of pairs"
   ]
  },
  {
   "cell_type": "code",
   "execution_count": null,
   "metadata": {},
   "outputs": [],
   "source": [
    "# select query features\n",
    "\n",
    "query_feat_df = query_df[['dist', 'enzyme_class_1', 'enzyme_class_2', 'enzyme_class_3',\n",
    "       'enzyme_class_4', 'enzyme_class_5', 'enzyme_class_6', 'enzyme_class_7',\n",
    "       'n_C', 'n_H', 'n_O', 'n_N', 'n_P', 'n_S', 'n_X', 'DoU', 'MW']]"
   ]
  },
  {
   "cell_type": "code",
   "execution_count": null,
   "metadata": {},
   "outputs": [],
   "source": [
    "predictions = model_1.predict(query_feat_df) # change me to the data you want to predict based on\n",
    "\n",
    "pred = model_1.predict_proba(query_feat_df)\n",
    "\n",
    "prediction_values = pd.DataFrame(pred)\n",
    "model_descriptive_df = pd.DataFrame()\n",
    "model_descriptive_df['0']=prediction_values[0]\n",
    "model_descriptive_df['1']=prediction_values[1]"
   ]
  },
  {
   "cell_type": "code",
   "execution_count": null,
   "metadata": {},
   "outputs": [],
   "source": [
    "prediction_df = pd.merge(model_descriptive_df, query_df, left_index=True, right_index=True) \n",
    "print(prediction_df.shape)\n",
    "prediction_df.head()"
   ]
  },
  {
   "cell_type": "code",
   "execution_count": null,
   "metadata": {},
   "outputs": [],
   "source": [
    "prediction_df = prediction_df.sort_values(by=['1'], ascending=False)\n",
    "prediction_df.head()"
   ]
  },
  {
   "cell_type": "code",
   "execution_count": null,
   "metadata": {},
   "outputs": [],
   "source": []
  },
  {
   "cell_type": "code",
   "execution_count": null,
   "metadata": {},
   "outputs": [],
   "source": []
  },
  {
   "cell_type": "code",
   "execution_count": null,
   "metadata": {},
   "outputs": [],
   "source": []
  },
  {
   "cell_type": "code",
   "execution_count": null,
   "metadata": {},
   "outputs": [],
   "source": []
  },
  {
   "cell_type": "code",
   "execution_count": null,
   "metadata": {},
   "outputs": [],
   "source": []
  },
  {
   "cell_type": "markdown",
   "metadata": {},
   "source": [
    "## Out of curiosity:\n",
    "#### Examine average molecular distance distributions for negative and positive data\n",
    "On first glance, it appears that our hypothesis is correct in that the distributions of average molecular distances are qualitatively different between the positive and negative datasets"
   ]
  },
  {
   "cell_type": "code",
   "execution_count": null,
   "metadata": {},
   "outputs": [],
   "source": [
    "# look at distributions of distances for positive and negative data\n",
    "\n",
    "fig, axes = plt.subplots(1, 2, figsize=(15, 5))\n",
    "\n",
    "pos = sns.distplot(distance_df['dist'], bins=50, kde=False, ax=axes[0])\n",
    "axes[0].set_title('positive data avg. mol. dist.')\n",
    "\n",
    "neg = sns.distplot(distance_df['dist'], bins=50, kde=False, ax=axes[1])\n",
    "axes[1].set_title('negative data avg. mol. dist.')\n",
    "\n",
    "for axis in axes:\n",
    "    axis.set_xlim([0.0, 1.0])"
   ]
  },
  {
   "cell_type": "code",
   "execution_count": null,
   "metadata": {},
   "outputs": [],
   "source": []
  }
 ],
 "metadata": {
  "kernelspec": {
   "display_name": "Python 3",
   "language": "python",
   "name": "python3"
  },
  "language_info": {
   "codemirror_mode": {
    "name": "ipython",
    "version": 3
   },
   "file_extension": ".py",
   "mimetype": "text/x-python",
   "name": "python",
   "nbconvert_exporter": "python",
   "pygments_lexer": "ipython3",
   "version": "3.7.1"
  }
 },
 "nbformat": 4,
 "nbformat_minor": 2
}
