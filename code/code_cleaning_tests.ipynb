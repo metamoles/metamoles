{
 "cells": [
  {
   "cell_type": "markdown",
   "metadata": {},
   "source": [
    "### The purpose of this notebook is to complete a data cleaning workflow from start to finish in order to validate the core functionality our package"
   ]
  },
  {
   "cell_type": "code",
   "execution_count": null,
   "metadata": {},
   "outputs": [],
   "source": [
    "# imports\n",
    "\n",
    "import pandas as pd\n",
    "from core import *\n",
    "from create_cpd_info import *\n",
    "from mol_sim import *\n",
    "# import gzip\n",
    "# \n",
    "# from Bio.KEGG import REST\n",
    "# from Bio.KEGG import Enzyme\n",
    "# import re\n",
    "# from Bio.KEGG import Compound\n",
    "# import numpy as np"
   ]
  },
  {
   "cell_type": "code",
   "execution_count": null,
   "metadata": {},
   "outputs": [],
   "source": [
    "!ls"
   ]
  },
  {
   "cell_type": "markdown",
   "metadata": {},
   "source": [
    "## Step 1\n",
    "#### Generate dataframe of all current kegg enzymes from zipped text file"
   ]
  },
  {
   "cell_type": "code",
   "execution_count": null,
   "metadata": {},
   "outputs": [],
   "source": [
    "# create_kegg_df()\n",
    "\n",
    "enzyme_df = create_kegg_df('../datasets/KEGG_enzymes_all_data.gz', 'enzyme')\n",
    "print(enzyme_df.shape)\n",
    "enzyme_df.head()"
   ]
  },
  {
   "cell_type": "markdown",
   "metadata": {},
   "source": [
    "## Step 2\n",
    "#### Down select promiscuous enzymes from master enzyme dataframe"
   ]
  },
  {
   "cell_type": "code",
   "execution_count": null,
   "metadata": {},
   "outputs": [],
   "source": [
    "# select_promiscuous_enzymes()\n",
    "\n",
    "prom_df = select_promiscuous_enzymes(enzyme_df)\n",
    "print(prom_df.shape)\n",
    "prom_df.head()"
   ]
  },
  {
   "cell_type": "markdown",
   "metadata": {},
   "source": [
    "## Step 3\n",
    "#### Combine substrates and products to account for reversible reactions"
   ]
  },
  {
   "cell_type": "code",
   "execution_count": null,
   "metadata": {},
   "outputs": [],
   "source": [
    "# combine_substrates_products()\n",
    "    \n",
    "combo_df = combine_substrates_products(prom_df)\n",
    "print(combo_df.shape)\n",
    "combo_df.head()"
   ]
  },
  {
   "cell_type": "markdown",
   "metadata": {},
   "source": [
    "## Step 4\n",
    "\n",
    "#### Expand dataframe so that each row is a unique enzyme-product pair\n",
    "There are multiple compounds in the 'product' field of the dataframe. This function parses each of those, and for each provides a new enzyme-product pair."
   ]
  },
  {
   "cell_type": "code",
   "execution_count": null,
   "metadata": {},
   "outputs": [],
   "source": [
    "# explode_dataframe()\n",
    "\n",
    "exploded_df = explode_dataframe(combo_df, parse_compound_ids, 'product', ['entry'])\n",
    "print(exploded_df.shape)\n",
    "exploded_df.head()"
   ]
  },
  {
   "cell_type": "markdown",
   "metadata": {},
   "source": [
    "## Step 5\n",
    "#### Remove cofactors from dataframe\n",
    "We have curated a list of 37 common cofactors and reactant molecules that participate in reactions, but are not products that we care to train our model on. These steps removes cofactor data from our master dataset."
   ]
  },
  {
   "cell_type": "code",
   "execution_count": null,
   "metadata": {},
   "outputs": [],
   "source": [
    "# remove_cofactors()\n",
    "\n",
    "cofactors_df = pd.read_csv('../datasets/cofactor_list.csv')\n",
    "clean_df = remove_cofactors(exploded_df, 'product', cofactors_df, 'CPD')\n",
    "print(clean_df.shape)\n",
    "clean_df.head()"
   ]
  },
  {
   "cell_type": "markdown",
   "metadata": {},
   "source": [
    "## Step 6\n",
    "#### Get SMILES strings for each product from the PubChem database\n",
    "The RDKit chemistry package requires SMILES strings as an input. The Kegg database does not store SMILES strings for compounds. This step joins a previously curated dataset of SMILES strings into our master dataset"
   ]
  },
  {
   "cell_type": "code",
   "execution_count": null,
   "metadata": {},
   "outputs": [],
   "source": [
    "smiles_df = pd.read_csv('../datasets/df_cleaned_kegg_with_smiles.csv')\n",
    "smiles_df = smiles_df.drop_duplicates(subset='SMILES')\n",
    "master_df = pd.merge(clean_df, smiles_df, how='inner', left_on='product', right_on='KEGG')\n",
    "master_df = master_df.drop(columns=['Unnamed: 0', 'entry_y', 'KEGG', 'CID'])\n",
    "master_df = master_df[master_df['SMILES'] != 'none']\n",
    "master_df = master_df.rename(columns={'entry_x': 'kegg_enzyme', 'product': 'kegg_compound', \n",
    "                                      'PubChem': 'pubchem_compound'})\n",
    "master_df = master_df.reset_index(drop=True)\n",
    "print(master_df.shape)\n",
    "master_df.head()"
   ]
  },
  {
   "cell_type": "markdown",
   "metadata": {},
   "source": [
    "## Step 7 \n",
    "#### Get dummy variables to represent enzyme class"
   ]
  },
  {
   "cell_type": "code",
   "execution_count": null,
   "metadata": {},
   "outputs": [],
   "source": [
    "# binarize_enzyme_class()\n",
    "\n",
    "master_df = binarize_enzyme_class(master_df, 'kegg_enzyme')\n",
    "print(master_df.shape)\n",
    "master_df.head()"
   ]
  },
  {
   "cell_type": "markdown",
   "metadata": {},
   "source": [
    "## Step 8 \n",
    "\n",
    "#### Pre-process negative and positive datasets to remove rows with only 1 enzyme"
   ]
  },
  {
   "cell_type": "code",
   "execution_count": null,
   "metadata": {},
   "outputs": [],
   "source": [
    "# def remove_single_cpd_rows(dataframe, enzyme_col, smiles_col):\n",
    "#     \"\"\"\n",
    "#     remove_single_cpd_rows() is meant to be a pre-processing function prior to passing a dataframe to the\n",
    "#         calculate_dist() function\n",
    "        \n",
    "#     Args:\n",
    "#         dataframe (pandas.Dataframe): input dataset\n",
    "#         enzyme_col (str): name for column that contains kegg enzyme ids\n",
    "#         smiles_col (str): name for column that contains smiles string\n",
    "    \n",
    "#     Returns:\n",
    "#         pandas.Dataframe: output dataframe with rows removed in which there was only one product paired with \n",
    "#             the enzyme entry, enzyme_col renamed 'entry', and smiles_col renamed 'SMILES'\n",
    "#     \"\"\"\n",
    "#     dataframe = dataframe.rename(columns={enzyme_col:'entry', smiles_col:'SMILES'})\n",
    "#     counts_df = dataframe.groupby('entry').count()\n",
    "#     singles_df = counts_df[counts_df['SMILES'] == 1]\n",
    "#     singles = singles_df.index.tolist()\n",
    "#     bool_mask = [False if row['entry'] in singles else True for _, row in dataframe.iterrows()]\n",
    "#     clean_df = dataframe[bool_mask]\n",
    "#     return clean_df\n"
   ]
  },
  {
   "cell_type": "code",
   "execution_count": null,
   "metadata": {},
   "outputs": [],
   "source": [
    "# remove_single_cpd_rows()\n",
    "\n",
    "master_df = remove_single_cpd_rows(master_df, 'kegg_enzyme', 'SMILES')\n",
    "print(master_df.shape)\n",
    "master_df.head()"
   ]
  },
  {
   "cell_type": "code",
   "execution_count": null,
   "metadata": {},
   "outputs": [],
   "source": [
    "# counts_df = master_df.groupby('entry').count()\n",
    "# singles_df = counts_df[counts_df['kegg_compound'] == 1]\n",
    "# singles = singles_df.index.tolist()\n",
    "# print(singles)"
   ]
  },
  {
   "cell_type": "code",
   "execution_count": null,
   "metadata": {},
   "outputs": [],
   "source": [
    "# bool_mask = [False if row['entry'] in singles else True for _, row in master_df.iterrows()]\n",
    "# clean_master_df = master_df[bool_mask]\n",
    "# print(clean_master_df.shape)\n",
    "# clean_master_df.head()"
   ]
  },
  {
   "cell_type": "code",
   "execution_count": null,
   "metadata": {},
   "outputs": [],
   "source": []
  },
  {
   "cell_type": "code",
   "execution_count": null,
   "metadata": {},
   "outputs": [],
   "source": []
  },
  {
   "cell_type": "markdown",
   "metadata": {},
   "source": [
    "## Step 9\n",
    "#### Calculate molecular distances between products of the same enzyme"
   ]
  },
  {
   "cell_type": "code",
   "execution_count": null,
   "metadata": {},
   "outputs": [],
   "source": [
    "# calculate_dist()\n",
    "\n",
    "dist_master_df = calculate_dist(clean_master_df)\n",
    "print(dist_master_df.shape)\n",
    "dist_master_df.head()"
   ]
  },
  {
   "cell_type": "markdown",
   "metadata": {},
   "source": [
    "## Step 8\n",
    "#### Curate negative dataset\n",
    "So far our curated dataset includes only examples of enzyme-product pairs that are known to react. In order to train our model, we need to include negative examples of enzyme-product pairs not expected to react. This function artifically pairs enzymes and products that are not known to react, and selects a subsample of these negative pairs to include in the master dataset"
   ]
  },
  {
   "cell_type": "code",
   "execution_count": null,
   "metadata": {},
   "outputs": [],
   "source": [
    "# create_negative_matches() - good to go\n",
    "\n",
    "pos_df, neg_df = create_negative_matches(clean_df, 'entry', 'product')"
   ]
  },
  {
   "cell_type": "code",
   "execution_count": null,
   "metadata": {},
   "outputs": [],
   "source": [
    "pos_df.shape"
   ]
  },
  {
   "cell_type": "code",
   "execution_count": null,
   "metadata": {},
   "outputs": [],
   "source": [
    "neg_df.shape"
   ]
  },
  {
   "cell_type": "code",
   "execution_count": null,
   "metadata": {},
   "outputs": [],
   "source": [
    "# concatenate negative & positive data\n",
    "\n",
    "master_df = pd.concat((pos_df, neg_df), axis=0)"
   ]
  },
  {
   "cell_type": "code",
   "execution_count": null,
   "metadata": {},
   "outputs": [],
   "source": [
    "master_df.shape"
   ]
  },
  {
   "cell_type": "code",
   "execution_count": null,
   "metadata": {},
   "outputs": [],
   "source": []
  },
  {
   "cell_type": "markdown",
   "metadata": {},
   "source": [
    "## Step 7\n",
    "#### Add in compound features with RDKit\n",
    "This step uses the RDKit packages to generate descriptive features of the compounds"
   ]
  },
  {
   "cell_type": "code",
   "execution_count": null,
   "metadata": {},
   "outputs": [],
   "source": []
  },
  {
   "cell_type": "code",
   "execution_count": null,
   "metadata": {},
   "outputs": [],
   "source": []
  },
  {
   "cell_type": "code",
   "execution_count": null,
   "metadata": {},
   "outputs": [],
   "source": []
  }
 ],
 "metadata": {
  "kernelspec": {
   "display_name": "Python 3",
   "language": "python",
   "name": "python3"
  },
  "language_info": {
   "codemirror_mode": {
    "name": "ipython",
    "version": 3
   },
   "file_extension": ".py",
   "mimetype": "text/x-python",
   "name": "python",
   "nbconvert_exporter": "python",
   "pygments_lexer": "ipython3",
   "version": "3.7.1"
  }
 },
 "nbformat": 4,
 "nbformat_minor": 2
}
