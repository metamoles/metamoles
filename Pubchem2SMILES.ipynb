{
 "cells": [
  {
   "cell_type": "markdown",
   "metadata": {},
   "source": [
    "### Pubchem2SMILES\n",
    "\n",
    "This notebook contains the creation of a function(s) to take a PubChem ID number and fetch the associated SMILES string from PubChem."
   ]
  },
  {
   "cell_type": "code",
   "execution_count": 7,
   "metadata": {},
   "outputs": [],
   "source": [
    "import webbrowser\n",
    "import sys\n",
    "import pubchempy as pc\n",
    "from bs4 import BeautifulSoup\n",
    "import requests"
   ]
  },
  {
   "cell_type": "code",
   "execution_count": null,
   "metadata": {},
   "outputs": [],
   "source": [
    "webbrowser.open('https://pubchem.ncbi.nlm.nih.gov/search/search.cgi')"
   ]
  },
  {
   "cell_type": "code",
   "execution_count": null,
   "metadata": {},
   "outputs": [],
   "source": [
    "def pubchem2smiles(pubchem_compound_ID):\n",
    "    address = 'https://pubchem.ncbi.nlm.nih.gov/compound/'.join(sys.argv[1:])"
   ]
  },
  {
   "cell_type": "code",
   "execution_count": null,
   "metadata": {},
   "outputs": [],
   "source": [
    "for compound in pc.get_compounds('glucose', 'name'):\n",
    "    print(compound.cid, compound.isomeric_smiles, compound.smiles)"
   ]
  },
  {
   "cell_type": "code",
   "execution_count": 6,
   "metadata": {},
   "outputs": [
    {
     "name": "stdout",
     "output_type": "stream",
     "text": [
      "CCNCC(C1=CC(=CC=C1)O)O\n"
     ]
    }
   ],
   "source": [
    "for compound in pc.get_compounds('3306'):\n",
    "    print(compound.isomeric_smiles)"
   ]
  },
  {
   "cell_type": "code",
   "execution_count": null,
   "metadata": {},
   "outputs": [],
   "source": []
  }
 ],
 "metadata": {
  "kernelspec": {
   "display_name": "Python 3",
   "language": "python",
   "name": "python3"
  },
  "language_info": {
   "codemirror_mode": {
    "name": "ipython",
    "version": 3
   },
   "file_extension": ".py",
   "mimetype": "text/x-python",
   "name": "python",
   "nbconvert_exporter": "python",
   "pygments_lexer": "ipython3",
   "version": "3.7.0"
  }
 },
 "nbformat": 4,
 "nbformat_minor": 2
}
